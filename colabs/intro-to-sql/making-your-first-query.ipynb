{
 "cells": [
  {
   "attachments": {},
   "cell_type": "markdown",
   "id": "36acdd33",
   "metadata": {},
   "source": [
    "# Making your first SQL query\n",
    "<!-- #region -->\n",
    "\n",
    "## SQL Overview\n",
    "\n",
    "SQL (Structured Query Language) is the widely adopted language used for managing and manipulating data. It's the language that inspired its other popular variants you may have heard of, such as PostgreSQL, MySQL, and more. \n",
    "\n",
    "In this lesson, you will learn how to make your first SQL query.\n",
    "\n",
    "## Dataset\n",
    "\n",
    "To perform your first SQL query, we will be working with one main dataset throughout this course:\n",
    "- Bank Marketing Data\n",
    "\n",
    "Source: UCI Machine Learning Repository\n",
    "\n",
    "URL: https://archive-beta.ics.uci.edu/dataset/222/bank+marketing\n",
    "\n",
    "Data Citation\n",
    "\n",
    "Moro,S., Rita,P., and Cortez,P.. (2012). Bank Marketing. UCI Machine Learning Repository. https://doi.org/10.24432/C5K306.\n",
    "\n",
    "## Data Description\n",
    "\n",
    "The data is related with direct marketing campaigns of a Portuguese banking institution. The marketing campaigns were based on phone calls. Often, more than one contact to the same client was required, in order to access if the product (bank term deposit) would be ('yes') or not ('no') subscribed. \n",
    "\n",
    "The data contains the following categories:\n",
    "\n",
    "1. age (numeric)\n",
    "2. job: type of job (categorical: 'admin.','blue-collar','entrepreneur','housemaid','management','retired','self-employed','services','student','technician','unemployed','unknown')\n",
    "3. marital: marital status (categorical: 'divorced','married','single','unknown')\n",
    "4. education (categorical: 'basic.4y','basic.6y','basic.9y','high.school','illiterate','professional.course','university.degree','unknown')\n",
    "5. default: has credit in default? (categorical: 'no','yes','unknown')\n",
    "6. housing: has housing loan? (categorical: 'no','yes','unknown')\n",
    "7. loan: has personal loan? (categorical: 'no','yes','unknown')\n",
    "8. contact: contact communication type (categorical: 'cellular','telephone') \n",
    "9. month: last contact month of year (categorical: 'jan', 'feb', 'mar', ..., 'nov', 'dec')\n",
    "10. day_of_week: last contact day of the week (categorical: 'mon','tue','wed','thu','fri')\n",
    "11. duration: last contact duration, in seconds (numeric)\n",
    "12. campaign: number of contacts performed during this campaign and for this client (numeric)\n",
    "13. pdays: number of days that passed by after the client was last contacted from a previous campaign (numeric; 999 means client was not previously contacted)\n",
    "14. previous: number of contacts performed before this campaign and for this client (numeric)\n",
    "15. poutcome: outcome of the previous marketing campaign (categorical: 'failure','nonexistent','success')\n",
    "16. y: has the client subscribed a term deposit? (binary: 'yes','no')\n",
    "\n",
    "<!-- #endregion -->\n",
    "\n",
    "<!-- #region -->\n",
    "## Install - execute this once. \n",
    "\n",
    "This code installs JupySQL, DuckDB, and Pandas in your environment. We will be using these moving forward."
   ]
  },
  {
   "cell_type": "code",
   "execution_count": null,
   "id": "b9fffba6",
   "metadata": {},
   "outputs": [],
   "source": [
    "%pip install jupysql --upgrade duckdb-engine --quiet"
   ]
  },
  {
   "attachments": {},
   "cell_type": "markdown",
   "id": "5c8dc51b",
   "metadata": {},
   "source": [
    "## Load the data\n",
    "We extract the bank marketing data by retrieving it from it's URL download link. The link may be a zip file (which it is in this case), so we extract the zip file, read the file containing the data within the zip file, and clean the data. Finally, we save this cleaned data to it's own seperate file called `bank_cleaned.csv`."
   ]
  },
  {
   "cell_type": "code",
   "execution_count": null,
   "id": "aeae64af",
   "metadata": {},
   "outputs": [],
   "source": [
    "import sys\n",
    "\n",
    "sys.path.insert(0, \"../../\")\n",
    "import banking  # noqa: E402\n",
    "\n",
    "_ = banking.BankingData(\"https://tinyurl.com/jb-bank\", \"bank\")\n",
    "_.extract_to_csv()"
   ]
  },
  {
   "attachments": {},
   "cell_type": "markdown",
   "id": "10473265",
   "metadata": {},
   "source": [
    "After running this code, you should have `bank_cleaned.csv` in the current directory. \n",
    "\n",
    "## Load Engine\n",
    "We now load in our SQL extension that allows us to execute SQL queries in Jupyter Notebooks. \n",
    "\n",
    "<b>Note</b> Ensure you restart any previous notebook that has the same database name as the one initialized below."
   ]
  },
  {
   "cell_type": "code",
   "execution_count": null,
   "id": "bf7ba272",
   "metadata": {},
   "outputs": [],
   "source": [
    "# Loading in SQL extension\n",
    "%reload_ext sql\n",
    "# Initiating a DuckDB database named 'bank.duck.db' to run our SQL queries on\n",
    "%sql duckdb:///bank.duck.db"
   ]
  },
  {
   "attachments": {},
   "cell_type": "markdown",
   "id": "8205984a",
   "metadata": {},
   "source": [
    "## Queries\n",
    "\n",
    "### Creating Table\n",
    "\n",
    "Let's start off with loading our `bank_cleaned.csv` file from our local directory to our newly created DuckDB database. Here we `CREATE OR REPLACE TABLE` in DuckDB called 'bank' `FROM` our `bank_cleaned.csv` file. The `read_csv_auto` is a function that helps SQL understand our local .csv file for creation into our database."
   ]
  },
  {
   "cell_type": "code",
   "execution_count": null,
   "id": "ee956115",
   "metadata": {},
   "outputs": [],
   "source": [
    "%%sql\n",
    "CREATE OR REPLACE TABLE bank AS\n",
    "FROM read_csv_auto('bank_cleaned.csv', header=True, sep=',')"
   ]
  },
  {
   "attachments": {},
   "cell_type": "markdown",
   "id": "1faa2efa",
   "metadata": {},
   "source": [
    "### Simple Query\n",
    "\n",
    "Now that we have our `bank` table in our DuckDB database, we can run our first query on the table. Let's start off with a simple query that looks at the first five rows from our table."
   ]
  },
  {
   "cell_type": "code",
   "execution_count": null,
   "id": "70fc6f5a",
   "metadata": {},
   "outputs": [],
   "source": [
    "%%sql\n",
    "SELECT *\n",
    "FROM bank\n",
    "LIMIT 5"
   ]
  },
  {
   "attachments": {},
   "cell_type": "markdown",
   "id": "a0b64bdf",
   "metadata": {},
   "source": [
    "`SELECT`, `FROM` and `LIMIT` are considered \"clauses\" in SQL. You can think of these clauses as functions that serve specific task. `SELECT` is used to specify what the user wants `FROM` the table. The \"*\" next to our `SELECT` clause means to \"select all\" `FROM` our bank table. The `LIMIT` clause tells SQL to show only the top 5 rows from our `SELECT` clause.\n",
    "\n",
    "#### Filtering\n",
    "The `WHERE` clause allows users to filter the query on specific conditions. Below, we query the table `WHERE` the \"job\" variable equals 'unemployed'."
   ]
  },
  {
   "cell_type": "code",
   "execution_count": null,
   "id": "ff68ecc0",
   "metadata": {},
   "outputs": [],
   "source": [
    "%%sql \n",
    "SELECT *\n",
    "FROM bank \n",
    "WHERE job = 'unemployed'"
   ]
  },
  {
   "attachments": {},
   "cell_type": "markdown",
   "id": "295eed3e",
   "metadata": {},
   "source": [
    "The 'unemployed' is in quotes because the \"job\" variable has values which are strings. If you unfamiliar with strings, you can find a quick introduction here.\n",
    "\n",
    "We can extend filtering even further by filtering on two or more conditions. This introduces the `AND` and `OR` clauses."
   ]
  },
  {
   "cell_type": "code",
   "execution_count": null,
   "id": "f4fd0d53",
   "metadata": {},
   "outputs": [],
   "source": [
    "%%sql \n",
    "SELECT *\n",
    "FROM bank \n",
    "WHERE job = 'unemployed' AND education = 'primary'"
   ]
  },
  {
   "attachments": {},
   "cell_type": "markdown",
   "id": "5ca9d2b8",
   "metadata": {},
   "source": [
    "This query filters the data `WHERE` \"job\" equals 'unemployed' `AND` where \"education\" equals 'primary'. The `OR` clause behaves identically to its verbal counterpart."
   ]
  },
  {
   "cell_type": "code",
   "execution_count": null,
   "id": "59b54822",
   "metadata": {},
   "outputs": [],
   "source": [
    "%%sql \n",
    "SELECT *\n",
    "FROM bank \n",
    "WHERE job = 'unemployed' OR job = 'blue-collar'"
   ]
  },
  {
   "attachments": {},
   "cell_type": "markdown",
   "id": "6786ad54",
   "metadata": {},
   "source": [
    "#### Sorting\n",
    "\n",
    "We can sort the outputs of our query based on certain conditions. Below, we sort our query by \"balance\" using the `ORDER BY` clause in `DESC` (descending) order."
   ]
  },
  {
   "cell_type": "code",
   "execution_count": null,
   "id": "77f00d89",
   "metadata": {},
   "outputs": [],
   "source": [
    "%%sql \n",
    "SELECT *\n",
    "FROM bank \n",
    "ORDER BY balance DESC"
   ]
  },
  {
   "attachments": {},
   "cell_type": "markdown",
   "id": "5c0aae59",
   "metadata": {},
   "source": [
    "To order the query by ascending order, you can omit the `DESC` or add `ASC` in the above SQL statement.\n",
    "\n",
    "<!-- #endregion -->\n",
    "\n",
    "\n",
    "### You try: Use JupySQL to perform the queries and answer the questions.\n",
    "\n",
    "Example: show the first 5 rows of the \"job\" variable."
   ]
  },
  {
   "cell_type": "code",
   "execution_count": null,
   "id": "b10d719f",
   "metadata": {},
   "outputs": [],
   "source": [
    "%%sql\n",
    "SELECT job\n",
    "FROM bank \n",
    "LIMIT 5"
   ]
  },
  {
   "attachments": {},
   "cell_type": "markdown",
   "id": "82436b8a",
   "metadata": {},
   "source": [
    "#### Question 1 (Easy):\n",
    "Query records where the month is in April (\"apr\")\n",
    "\n",
    "<!-- #region -->\n",
    "<details>\n",
    "\n",
    "<summary>Answers</summary>\n",
    "\n",
    "You can use the `WHERE` clause to specify where month equals 'apr'."
   ]
  },
  {
   "cell_type": "code",
   "execution_count": null,
   "id": "23182094",
   "metadata": {},
   "outputs": [],
   "source": [
    "%%sql\n",
    "SELECT *\n",
    "FROM bank\n",
    "WHERE month = 'apr'"
   ]
  },
  {
   "attachments": {},
   "cell_type": "markdown",
   "id": "6a20267d",
   "metadata": {},
   "source": [
    "</details>\n",
    "<!-- #endregion -->\n",
    "\n",
    "#### Question 2 (Medium):\n",
    "Query the first 5 records where \"balance\" is greater than or equal to 1000. Sorted this query by ascending order.\n",
    "<b>Hint</b> Equal, greater than, and less can be represented as =, <, >, respectively. Greater than or equal to can be represented as >=\n",
    "\n",
    "<!-- #region -->\n",
    "<details>\n",
    "\n",
    "<summary>Answers</summary>\n",
    "\n",
    "You can use the `WHERE` clause and with the greater than operator \">=\" to declare records with a balance greater than or equal to 1000. The query is then sorted by balance in descending order in the last line with `ORDER BY` and `DESC`."
   ]
  },
  {
   "cell_type": "code",
   "execution_count": null,
   "id": "c4dfd17c",
   "metadata": {},
   "outputs": [],
   "source": [
    "%%sql\n",
    "SELECT *\n",
    "FROM bank\n",
    "WHERE balance >= 1000\n",
    "ORDER BY balance DESC"
   ]
  },
  {
   "attachments": {},
   "cell_type": "markdown",
   "id": "915b61aa",
   "metadata": {},
   "source": [
    "</details>\n",
    "<!-- #endregion -->\n",
    "\n",
    "#### Question 3 (BONUS):\n",
    "Show the count of records where 'housing' is 'no' and where 'loan' is yes. \n",
    "\n",
    "<b>Hint</b> `COUNT()` is a aggregating function in SQL (more on aggregation later!). Try experimenting with `COUNT()` in your `SELECT` clause to see if you can find the correct count.\n",
    "\n",
    "<!-- #region -->\n",
    "<details>\n",
    "<summary>Answers</summary>\n",
    "\n",
    "You can use `COUNT(*)` to get the count of total records after filtering `WHERE` 'housing' is 'no' and 'loan' is yes."
   ]
  },
  {
   "cell_type": "code",
   "execution_count": null,
   "id": "371ecba8",
   "metadata": {},
   "outputs": [],
   "source": [
    "%%sql\n",
    "SELECT COUNT(*)\n",
    "FROM bank\n",
    "WHERE housing = 'no' AND loan = 'yes'"
   ]
  },
  {
   "attachments": {},
   "cell_type": "markdown",
   "id": "93c2d931",
   "metadata": {},
   "source": [
    "</details>\n",
    "<!-- #endregion -->\n",
    "\n",
    "<!-- #region -->\n",
    "\n",
    "### Wrapping Up\n",
    "\n",
    "To summarize this section, we first introduced our primary dataset we will be using for the next few sections. Then, we ran our first query by first installing `JupySQL` and other packages into our notebook, properly loaded our data with some `Python`, and established a connection to a DuckDB database. \n",
    "\n",
    "We learned the basics of `SQL` by going over some of its most necessary clauses:\n",
    "\n",
    "- `SELECT` : \"Selects\" what to extract from the query. This clause can be followed by a specific variable name or by using \"*\" to select the whole table.\n",
    "\n",
    "- `FROM` : Tells SQL what table in the database to run our query on. We used this clause primarily on 'bank' which we first created when setting up our DuckDB database.\n",
    "\n",
    "- `LIMIT` : Limits the number of rows from our query\n",
    "\n",
    "- `WHERE` : Filters the query on specific conditions. This clause can be combined with `AND` and `OR` clauses for more complex filters.\n",
    "\n",
    "- `ORDER BY` : Sorts the output on variables in our query. This clause can include `DESC` to sort by descending order.\n",
    "\n",
    "These clauses lay the foundation of `SQL`. They will be necessary for our next section, which will introduce aggregation functions. We showed a sneak peek of an aggregation function `COUNT()` in Question 3. More on that in the next section!\n",
    "\n",
    "#### A Little Extra\n",
    "\n",
    "As you may have noticed, SQL code is straight forward. It's clauses translate well to what you want SQL to do in natural verbal terms. These clauses make it so easy it's like you are \"declaring\" SQL to do what you would like it to do. This nature is what defines SQL to be a \"declarative programming language\". \n",
    "\n",
    "<a href=\"https://365datascience.com/tutorials/sql-tutorials/sql-declarative-language/\" target=\"_blank\">This article</a> is a great resource if you're curious on this topic.\n",
    "\n",
    "<!-- #endregion -->"
   ]
  }
 ],
 "metadata": {
  "kernelspec": {
   "display_name": "jupyblog",
   "language": "python",
   "name": "python3"
  },
  "language_info": {
   "codemirror_mode": {
    "name": "ipython",
    "version": 3
   },
   "file_extension": ".py",
   "mimetype": "text/x-python",
   "name": "python",
   "nbconvert_exporter": "python",
   "pygments_lexer": "ipython3",
   "version": "3.10.0"
  }
 },
 "nbformat": 4,
 "nbformat_minor": 5
}
