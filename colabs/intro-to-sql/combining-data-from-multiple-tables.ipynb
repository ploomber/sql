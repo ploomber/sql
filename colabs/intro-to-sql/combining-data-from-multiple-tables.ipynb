{
 "cells": [
  {
   "attachments": {},
   "cell_type": "markdown",
   "id": "4f505525",
   "metadata": {},
   "source": [
    "# Combining Data from Multiple Tables\n",
    "\n",
    "In the last section, we learned about joining two tables in SQL. We now build upon those basics to learn to combine multiple tables into a tidy, single table.  \n",
    "\n",
    "Let's first run the installations and setup before running any queries, just like the previous lesson: [Joining Data in SQL](https://ploomber-sql.readthedocs.io/en/latest/intro-to-sql/joining-data-in-sql.html#install-execute-this-once).\n",
    "\n",
    "<!-- region -->\n",
    "\n",
    "## Install - execute this once.\n",
    "\n",
    "```{important}\n",
    "<b>Note:</b> If you are following these lessons locally and <b>not</b> on Google Colab, then there is no need to reinstall these packages.\n",
    "```\n",
    "\n",
    "This code installs JupySQL, DuckDB, and Pandas in your environment. We will be using these moving forward."
   ]
  },
  {
   "cell_type": "code",
   "execution_count": null,
   "id": "d35c2e0f",
   "metadata": {},
   "outputs": [],
   "source": [
    "%pip install jupysql --upgrade duckdb-engine pandas --quiet"
   ]
  },
  {
   "attachments": {},
   "cell_type": "markdown",
   "id": "17e4eb57",
   "metadata": {},
   "source": [
    "## Load the data\n",
    "\n",
    "```{important}\n",
    "<b>Note:</b> If you are following these lessons locally and <b>not</b> on Google Colab, then there is no need to load the data again. \n",
    "```\n",
    "\n",
    "This section was covered in detail in the previous tutorial: [Joining Data in SQL](https://ploomber-sql.readthedocs.io/en/latest/intro-to-sql/joining-data-in-sql.html#load-the-data). We will be using the same data in this tutorial as well."
   ]
  },
  {
   "cell_type": "code",
   "execution_count": null,
   "id": "57597ff6",
   "metadata": {},
   "outputs": [],
   "source": [
    "import sys\n",
    "\n",
    "sys.path.insert(0, \"../../\")\n",
    "import banking  # noqa: E402\n",
    "\n",
    "\n",
    "_ = banking.MarketData(\"https://tinyurl.com/jb-bank-m\", \"expanded_data\")\n",
    "_.extract_asc_to_csv()"
   ]
  },
  {
   "attachments": {},
   "cell_type": "markdown",
   "id": "571f8bcb",
   "metadata": {},
   "source": [
    "If you ran the above cell, you should have a folder `expanded_data` in your current directory that contains the `.csv` files we will be using. However, in this tutorial, we will focus on four out of the eight `.csv` files.\n",
    "\n",
    "## ER Diagram\n",
    "\n",
    "In the previous tutorial, we provided an [Entity-Relationship Diagram (ERD)](https://ploomber-sql.readthedocs.io/en/latest/intro-to-sql/joining-data-in-sql.html#datasets) to help us understand the relationship between the `account` and `district` tables. In this section, we will augment that diagram to understand the relationship between multiple tables.\n",
    "\n",
    "Each table in the diagram represents a dataset. The variables of each dataset are represented as rows. The first column is the variable name while the second column is the variable's value type alongside if the variable is a primary key (PK) or foreign key (FK).\n",
    "\n",
    "```{important}\n",
    "If you are unfamiliar with the terms primary key and foreign key, please refer to the [previous tutorial](https://ploomber-sql.readthedocs.io/en/latest/intro-to-sql/joining-data-in-sql.html#what-is-a-primary-key-and-a-foreign-key) for more information.\n",
    "```\n",
    "\n",
    "In this section, we will be focusing on joining the following 4 tables: `account`, `card`, `district`, and `disp`. The schema diagram for these tables is shown below.\n",
    "\n",
    "![ERD-Combining](combining-data-ERD.png)\n",
    "\n",
    "The account `table` has a foreign key column named \"district_id\" referencing the primary key in the `district` table. The `card` table has a foreign key column named \"disp_id\" referencing the primary key in the `disp table`, and the `link` table has a foreign key column named \"account_id\" referencing the primary key in the `account` table. It's worth noting that the \"type\" columns in the `card` and `disp` tables are not foreign keys; they represent categorical variables indicating the type of card and disposition, respectively.\n",
    "\n",
    "The notations of the line connecting our two tables indicate their relationship type and is defined as \"Crow's Foot Notation\". To learn more about this notation, we recommend visiting this article: https://vertabelo.com/blog/crow-s-foot-notation/\n",
    "\n",
    "<!-- endregion -->\n",
    "\n",
    "## Load Engine\n",
    "\n",
    "We now load in our SQL extension that allows us to execute SQL queries in Jupyter Notebooks.\n",
    "\n",
    "```{important}\n",
    "<b>Note</b> Ensure you restart any previous notebook that has the same database name as the one initialized below.\n",
    "```"
   ]
  },
  {
   "cell_type": "code",
   "execution_count": null,
   "id": "99240f5d",
   "metadata": {},
   "outputs": [],
   "source": [
    "# Loading in SQL extension\n",
    "%reload_ext sql\n",
    "# Initiating a DuckDB database named 'bank_data.duck.db' to run SQL queries\n",
    "%sql duckdb:///bank_data.duck.db"
   ]
  },
  {
   "attachments": {},
   "cell_type": "markdown",
   "id": "8b17ee10",
   "metadata": {},
   "source": [
    "## Creating Tables\n",
    "\n",
    "Let's start off with loading four of the eight `.csv` files from the `expanded_data` folder in the current directory to our newly created DuckDB database. Like in the previous tutorial, we will [create a schema](https://ploomber-sql.readthedocs.io/en/latest/intro-to-sql/joining-data-in-sql.html#creating-a-schema) `s1` in which we will store the tables. Here we use the `CREATE TABLE` syntax in DuckDB to ingest four of the eight `.csv` files. The `read_csv_auto` is a function that helps SQL understand our local `.csv` file for creation into our database."
   ]
  },
  {
   "cell_type": "code",
   "execution_count": null,
   "id": "80548e43",
   "metadata": {},
   "outputs": [],
   "source": [
    "%%sql\n",
    "CREATE SCHEMA s1;\n",
    "CREATE TABLE s1.account AS\n",
    "FROM read_csv_auto('expanded_data/account.csv', header=True, sep=',');\n",
    "CREATE TABLE s1.district AS\n",
    "FROM read_csv_auto('expanded_data/district.csv', header=True, sep=',');\n",
    "CREATE TABLE s1.card AS\n",
    "FROM read_csv_auto('expanded_data/card.csv', header=True, sep=',');\n",
    "CREATE TABLE s1.link AS\n",
    "FROM read_csv_auto('expanded_data/disp.csv', header=True, sep=',');"
   ]
  },
  {
   "attachments": {},
   "cell_type": "markdown",
   "id": "0281bf24",
   "metadata": {},
   "source": [
    "## Combining Multiple Tables\n",
    "\n",
    "When combining more than two tables, it is imperative to know what the final result of our joins will look like. If we are familiar with the desired output before executing our queries, we can make an informed decision on whether to use an `INNER JOIN`, `OUTER JOIN`, or `FULL JOIN` to achieve our desired result. In short, assessing the case at hand will help us determine the type of join to use.\n",
    "\n",
    "To quickly refresh our memory from the previous tutorial on [`INNER JOIN`](https://ploomber-sql.readthedocs.io/en/latest/intro-to-sql/joining-data-in-sql.html#inner-join), recall that an `INNER JOIN` is suitable when we want to retrieve only the matching records, effectively filtering out any unmatched records, between the tables involved in the join. Therefore, the result will contain only the rows where the join condition is met in all the joined tables.\n",
    "\n",
    "On the other hand, an `OUTER JOIN` can be of three types: <b>Left, Right, and Full</b>. They were covered extensively in the [previous tutorial](https://ploomber-sql.readthedocs.io/en/latest/intro-to-sql/joining-data-in-sql.html#left-join), but here is a quick refresher. In situations where we need to retrieve all records from one table, regardless of whether there is a match in the other tables, an `OUTER JOIN` can be used. This is particularly useful when we want to <b>include supplementary information or handle missing data</b>. A `LEFT JOIN` includes all rows from the left table (the table specified before the LEFT JOIN keyword) and the matching rows from the right table(s) (the table(s) specified after the `LEFT JOIN` keyword). Similarly, a `RIGHT JOIN` includes all rows from the right table(s) and the matching rows from the left table. A `FULL JOIN` combines operations of both the `LEFT JOIN` and `RIGHT JOIN`, including all rows from both tables and matching rows where the join condition is met.\n",
    "\n",
    "Therefore, understanding the desired output and the relationships between the tables will help us determine whether an `INNER JOIN` or an `OUTER JOIN` is more appropriate for obtaining the desired result. By utilizing the appropriate join type and leveraging primary and foreign keys, we can combine data from multiple tables efficiently.\n",
    "\n",
    "### INNER JOIN\n",
    "\n",
    "Suppose that we want to retrieve common data points between the `account`, `card`, `district`, and `link` tables because unmatched records represent churned customers who do not utilize this bank's services anymore. Therefore, we can use the `INNER JOIN` to join the `account`, `card`, `district`, and `link` tables on their respective foreign keys. The query below demonstrates how we can use the `INNER JOIN` to join the four tables:"
   ]
  },
  {
   "cell_type": "code",
   "execution_count": null,
   "id": "b58a2df0",
   "metadata": {},
   "outputs": [],
   "source": [
    "%%sql \n",
    "SELECT a.account_id, c.card_id, d.district_id, l.disp_id\n",
    "FROM s1.account AS a\n",
    "INNER JOIN s1.district AS d \n",
    "ON a.district_id = d.district_id\n",
    "INNER JOIN s1.link AS l \n",
    "ON l.account_id = a.account_id\n",
    "INNER JOIN s1.card AS c \n",
    "ON c.disp_id = l.disp_id; "
   ]
  },
  {
   "attachments": {},
   "cell_type": "markdown",
   "id": "4843f373",
   "metadata": {},
   "source": [
    "The result of the query above is a table containing the primary key columns from each table. The number of rows is 892, which signifies that there are 892 matching records between the four tables. This means that there are 892 customers who have accounts, cards, and are linked to a district. Next, attempt the question below to drive home your understanding of the `INNER JOIN`!\n",
    "\n",
    "#### Question 1 (Medium):\n",
    "Suppose we want to analyze the spending patterns of customers across different districts based on their account and card information. Unmatched records could represent customers who have recently opened accounts or received new cards and are yet to make any transactions. Write a SQL query to join the `account`, `card`, `district`, and `link` tables from the `s1` schema in the DuckDB database. Include only primary key columns from each table in the result set.\n",
    "\n",
    "<!-- #region -->\n",
    "<details>\n",
    "\n",
    "<summary>Answers</summary>\n",
    "\n",
    "We should use an `INNER JOIN` to exclude unmatched data points, so that we can focus our analysis on customers who have actively used their accounts and cards for transactions.\n",
    "\n",
    "Recall that in the [previous tutorial](https://ploomber-sql.readthedocs.io/en/latest/intro-to-sql/joining-data-in-sql.html#what-is-a-primary-key-and-a-foreign-key), we learned that the `account` table contains a column named `district_id`, which serves as a foreign key referencing the primary key in the `district` table. Similarly, the `card` table has a column named `disp_id`, which is a foreign key referencing the primary key in the `link` table. By utilizing these relationships, we can perform a join operation on these tables to obtain a consolidated result set.\n",
    "\n",
    "To combine the `account`, `card`, `district`, and `link` tables, we can use the following SQL query:"
   ]
  },
  {
   "cell_type": "code",
   "execution_count": null,
   "id": "378af30f",
   "metadata": {},
   "outputs": [],
   "source": [
    "%%sql \n",
    "SELECT a.account_id, c.card_id, d.district_id, l.disp_id\n",
    "FROM s1.account AS a\n",
    "INNER JOIN s1.district AS d \n",
    "ON a.district_id = d.district_id\n",
    "INNER JOIN s1.link AS l \n",
    "ON l.account_id = a.account_id\n",
    "INNER JOIN s1.card AS c \n",
    "ON c.disp_id = l.disp_id; "
   ]
  },
  {
   "attachments": {},
   "cell_type": "markdown",
   "id": "eb6ed8f5",
   "metadata": {},
   "source": [
    "In this query, we are performing a series of `INNER JOIN` operations to merge the tables based on the specified join conditions. The `ON` clause defines the relationship between the columns that are used for joining. The `SELECT` statement retrieves only the primary keys from each of the joined tables in the result set.\n",
    "\n",
    "```{important}\n",
    "The above query can also be written without the `INNER JOIN` clause! Another way to write the query is as follows:\n",
    "```\n",
    "\n",
    "```python\n",
    "%%sql\n",
    "SELECT a.account_id, c.card_id, d.district_id, l.disp_id\n",
    "FROM s1.account as a, s1.card as c, s1.district as d, s1.link as l\n",
    "WHERE a.district_id = d.district_id AND\n",
    "      l.account_id = a.account_id AND\n",
    "      c.disp_id = l.disp_id;\n",
    "```\n",
    "\n",
    "</details>\n",
    "<!-- #endregion -->\n",
    "\n",
    "### OUTER JOIN\n",
    "\n",
    "Suppose that the bank is planning to hike interest rates on accounts because the districts, where they have their branches, have gentrified over the past couple of years. We want to analyze not only the activity of customers across different districts based on their account and card information, but also district-level statistics (employment rate and crime rate). However, we also want to include customers who have recently opened accounts or received new cards and are yet to make any transactions. Therefore, we should use an `OUTER JOIN`, preferably the `LEFT JOIN`, so that we can capture records of all customers and appropriately conduct a district-wide analysis.\n",
    "\n",
    "The query below demonstrates how we can use the `LEFT JOIN` to join the tables `account`, `card`, `district`, and `link`:"
   ]
  },
  {
   "cell_type": "code",
   "execution_count": null,
   "id": "a1a0ff59",
   "metadata": {},
   "outputs": [],
   "source": [
    "%%sql \n",
    "SELECT DISTINCT a.account_id, c.card_id, d.district_id, l.disp_id, d.unemployment_rate_95, d.unemployment_rate_96, d.no_of_committed_crimes_95, d.no_of_committed_crimes_96\n",
    "FROM s1.district AS d\n",
    "LEFT JOIN s1.account AS a\n",
    "ON a.district_id = d.district_id\n",
    "LEFT JOIN s1.link AS l \n",
    "ON l.account_id = a.account_id\n",
    "LEFT JOIN s1.card AS c \n",
    "ON c.disp_id = l.disp_id;"
   ]
  },
  {
   "attachments": {},
   "cell_type": "markdown",
   "id": "0c930b08",
   "metadata": {},
   "source": [
    "In contrast to the `INNER JOIN`, the order of the tables plays an important role in the `LEFT JOIN`, and the results may be completely different if the order changes in your SQL query. When determining the order of tables in a `LEFT JOIN`, the <b>general rule is to start with the table from which you want to keep all the records in the final result</b>. Therefore, in the above example, instead of starting with the `account` table, we started with the `district` table, because we want to keep all the records from the `district` table in the final result.\n",
    "\n",
    "Also, keep in mind that a `LEFT JOIN` cascades to all joins in a query. If you use a `LEFT JOIN`, often the subsequent tables should also be left-joined. An `INNER JOIN` will drop records not found on both sides of the join, and you might lose all the records you want to keep.\n",
    "\n",
    "Furthermore, a `LEFT JOIN` should be used for the third table when the first table has records not found in the second (and so on) and a different common field is used to join the second and the third tables. An `INNER JOIN` in this situation will drop all the records from the first table not matched to the second and third tables.\n",
    "\n",
    "#### Question 2 (Hard):\n",
    "\n",
    "Suppose <b>only</b> tables `links` and `cards` did not have matching rows that are related to each other, what kind of join would you use to combine these tables? If you were to use this join, and then join the resulting table with the merged table of `account` and `district`, how would the final output differ from Question 1?\n",
    "\n",
    "<b>Hint:</b> We can use both `INNER JOIN` and `OUTER JOIN` in a single query! The first step would be to think about the type of `JOIN` to combine the `links` and `cards` tables. Then, how can this table be joined with the remaining tables if the remaining tables have matching rows that are related to each other?\n",
    "\n",
    "<!-- #region -->\n",
    "<details>\n",
    "\n",
    "<summary>Answers</summary>\n",
    "\n",
    "A `FULL OUTER JOIN` would be used to combine the `links` and `cards` tables if we want to keep both the rows that can be matched and the unpaired rows. This is because, in this case, the tables `links` and `cards` do not have matching rows that are related to each other. Therefore, we need to account for the unpaired rows in the result set. \n",
    "\n",
    "The `FULL OUTER JOIN` will return all rows from both tables, and if there are no matches, the columns from the other table will be filled with `NULL` values. This is in contrast to the `INNER JOIN`, which only returns rows that have matching values in both tables and, hence, no `NULL` values.\n",
    "\n",
    "Code to implement the multiple joins is shown below:"
   ]
  },
  {
   "cell_type": "code",
   "execution_count": null,
   "id": "e2509332",
   "metadata": {},
   "outputs": [],
   "source": [
    "%%sql\n",
    "SELECT a.account_id, c.card_id, d.district_id, l.disp_id\n",
    "FROM s1.link AS l\n",
    "FULL OUTER JOIN s1.card AS c \n",
    "ON l.disp_id = c.disp_id \n",
    "INNER JOIN s1.account AS a \n",
    "ON a.account_id = l.account_id \n",
    "INNER JOIN s1.district AS d \n",
    "ON d.district_id = a.district_id;"
   ]
  },
  {
   "attachments": {},
   "cell_type": "markdown",
   "id": "f125fa07",
   "metadata": {},
   "source": [
    "Therefore, the final output will include all rows from the `links` and `cards` tables, as well as the rows from the `account` and `district` tables that have matching values in the `links` and `cards` tables. Because the `links` table has the highest number of rows, 5369, all of them will be included in the final output. The rows from the `account` and `district` tables that do not have matching values in the `links` and `cards` tables will not be included in the final output. Since a `FULL OUTER JOIN` is used first, the final output will include all rows from the `links` and `cards` tables, even if there are no matching values in the `account` and `district` tables.\n",
    "\n",
    "</details>\n",
    "<!-- #endregion -->\n",
    "\n",
    "## Wrapping Up\n",
    "\n",
    "In this section, we learnt about how to join more than two tables. To summarize:\n",
    "\n",
    "- When combining multiple tables, it is important to understand the desired output and the relationships between the tables to determine the appropriate join type.\n",
    "\n",
    "- Understanding primary and foreign keys helps in performing join operations efficiently.\n",
    "\n",
    "- `INNER JOIN` and `JOIN` : The `JOIN` function is a shorthand for `INNER JOIN` and is used interchangeably with `INNER JOIN` to achieve the same result. Both functions combine rows from multiple tables, based on specified join conditions. <b>They return only the rows that have matching values in both tables being joined</b>. The join conditions are specified using the `ON` keyword, where you define the columns from each table that should be compared for the join.\n",
    "\n",
    "- An `OUTER JOIN`, such as the `LEFT JOIN`, can be used to retrieve all records from one table regardless of whether there is a match in the other tables. This is useful when including supplementary information or handling missing data.\n",
    "\n",
    "- The order of tables in a LEFT JOIN is important, and it cascades to all joins in a query. Start with the table from which you want to keep all the records in the final result.\n",
    "\n",
    "This brings us to a wrap of the first module: `Intro to SQL`! We hope you have enjoyed the content and are ready to move on to the next module: `Interactive Queries and Parameterization`.\n",
    "\n",
    "<!-- #endregion -->\n",
    "\n",
    "## References\n",
    "\n",
    "Dataset citation:\n",
    "\n",
    "“PKDD’99 Discovery Challenge Guide to the Financial Data Set.” Home page of PKDD Discovery Challenge, 1999. https://sorry.vse.cz/~berka/challenge/PAST/."
   ]
  }
 ],
 "metadata": {
  "kernelspec": {
   "display_name": "Python 3 (ipykernel)",
   "language": "python",
   "name": "python3"
  },
  "language_info": {
   "codemirror_mode": {
    "name": "ipython",
    "version": 3
   },
   "file_extension": ".py",
   "mimetype": "text/x-python",
   "name": "python",
   "nbconvert_exporter": "python",
   "pygments_lexer": "ipython3",
   "version": "3.10.0"
  }
 },
 "nbformat": 4,
 "nbformat_minor": 5
}
