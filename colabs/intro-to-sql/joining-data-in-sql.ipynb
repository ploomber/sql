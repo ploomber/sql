{
 "cells": [
  {
   "cell_type": "markdown",
   "id": "f9b9380e",
   "metadata": {},
   "source": [
    "# Joining data in SQL\n",
    "\n",
    "This section introduces a fundamental concept in SQL: <b>joining</b>. Joining is a powerful technique used to combine data from multiple tables based on their relationships. It allows you to supplement a dataset with additional information from another related dataset.\n",
    "\n",
    "To show the capabilites of joining, we move away from the single bank dataset we initially used in this course. We will be incorporating several new datasets illustrated below.\n",
    "\n",
    "## Datasets\n",
    "\n",
    "The datasets we will be using originates from another bank's financial data. \n",
    "\n",
    "Source: https://web.archive.org/web/20180506061559/http://lisp.vse.cz/pkdd99/Challenge/chall.htm\n",
    "\n",
    "We first focus on just two datasets, the `account` and `district` dataset. To expedite our progress, we will skip the detailed explanation of each dataset's variables and dive straight into how joining works.\n",
    "\n",
    "For a comprehensive understanding of the data structure and attributes, please refer to the datasets' documentation.\n",
    "\n",
    "Documentation: https://web.archive.org/web/20180506035658/http://lisp.vse.cz/pkdd99/Challenge/berka.htm\n",
    "\n",
    "Below is a display of `account` and `district` in an Entity-Relationship Diagram (ERD). \n",
    "\n",
    "![diagram](joining-data-ERD.png)\n",
    "\n",
    "ERDs are visual representations that help understand the relationship between two or more datasets. In an ERD, each table in the diagram represents a dataset. The variables of each dataset are represented as rows under each respective table. In our case, the first column of our table is the variable's name while the second column is the variable's value type. The notations of the line connecting our two tables indicate their relationship type and is defined as \"Crow's Foot Notation\". To learn more about this notation, we recommend visiting this article: https://vertabelo.com/blog/crow-s-foot-notation/\n",
    "\n",
    "There exists only two value types in the `accounts` and `district` table: \"INT\" and \"VARCHAR\". The \"INT\" value type indicates that the corresponding value is an integer, while \"VARCHAR\" represents a variable-length string that can contain various characters. These value types help SQL understand the appropriate operations that can be performed on each value. Alongside this, the second column of our tables also show if a variable is a primary key (PK) or foreign key (FK). We introduce these concepts below.\n",
    "\n",
    "### What is a primary key and a foreign key?\n",
    "\n",
    "In a database, a <b>primary key</b> is a unique identifier for each record in a table. For instance, our `accounts` table has the primary key of \"account_id\". This makes sense because every single row in the `accounts` table corresponds to \"account_id\" which represents one single account. The `district` table has the primary key of \"District ID\". This means that each row under the `district` table represents one single district (or district id). So under the `accounts` table, there should not be any rows with the same \"account_id\" value. Similarly, the `district` table should not have any rows with the same \"district_id\" value. \n",
    "\n",
    "A foreign key, on the other hand, establishes a relationship between two tables. It refers to the primary key of another table and helps connect the records across multiple tables. In our example, the \"district_id\" in the account table is a foreign key, indicating that it references the primary key of the district table. This allows us to associate each account with its corresponding district.\n",
    "\n",
    "By using primary and foreign keys, we establish relationships between tables, enabling us to perform joins and retrieve meaningful information by linking related data together. Let's jump straight into demonstrating these joins and how primary keys and foreign keys work.\n",
    "\n",
    "<!-- #region -->\n",
    "## Install - execute this once. \n",
    "<b>Note:</b> If you are following these lessons locally and <b>not</b> on Google Colab, then there is no need to reinstall these packages.\n",
    "\n",
    "This code installs JupySQL, DuckDB, and Pandas in your environment. We will be using these moving forward."
   ]
  },
  {
   "cell_type": "code",
   "execution_count": null,
   "id": "a1c69947",
   "metadata": {},
   "outputs": [],
   "source": [
    "%pip install jupysql --upgrade duckdb-engine pandas --quiet"
   ]
  },
  {
   "cell_type": "markdown",
   "id": "f59cdf52",
   "metadata": {},
   "source": [
    "## Load the data\n",
    "We extract the financial data by retrieving it from it's URL download link. The link may be a zip file (which it is in this case), so we extract the zip file and convert the .asc files to .csv files. Finally, we save converted data into a folder.\n",
    "\n",
    "The script we call can be found under `sql/course-material/intro-to-sql/banking_data_script.py`. This script downloads and stores the necessary data into a folder within the current directory. Please reference the script for more information."
   ]
  },
  {
   "cell_type": "code",
   "execution_count": null,
   "id": "e60b10e0",
   "metadata": {},
   "outputs": [],
   "source": [
    "import sys\n",
    "\n",
    "sys.path.insert(0, \"../../\")\n",
    "import banking  # noqa: E402\n",
    "\n",
    "\n",
    "_ = banking.MarketData(\"https://tinyurl.com/jb-bank-m\", \"expanded_data\")\n",
    "_.extract_asc_to_csv()"
   ]
  },
  {
   "cell_type": "markdown",
   "id": "1a16e681",
   "metadata": {},
   "source": [
    "<!-- #endregion -->\n",
    "\n",
    "If you ran the above cell, you should have a folder `expanded_data` in your current directory that contains the `.csv` files we will be using.\n",
    "\n",
    "## Load Engine\n",
    "We now load in our SQL extension that allows us to execute SQL queries in Jupyter Notebooks. \n",
    "\n",
    "<b>Note</b> Ensure you restart any previous notebook that has the same database name as the one initialized below."
   ]
  },
  {
   "cell_type": "code",
   "execution_count": null,
   "id": "6d3288ad",
   "metadata": {},
   "outputs": [],
   "source": [
    "# Loading in SQL extension\n",
    "%reload_ext sql\n",
    "# Initiating a DuckDB database named 'bank_data.duck.db'\n",
    "%sql duckdb:///bank_data.duck.db"
   ]
  },
  {
   "cell_type": "markdown",
   "id": "06a17556",
   "metadata": {},
   "source": [
    "## Queries\n",
    "\n",
    "\n",
    "### Creating a Schema\n",
    "\n",
    "A schema helps define how our data is organized. Think of it as a container that holds certain datasets that relate to each other. In our `bank_data.duck.db` database, we could have several schemas, each having their own datasets that relate to each other. For now we will create one schema to hold our `accounts` and `district` dataset."
   ]
  },
  {
   "cell_type": "code",
   "execution_count": null,
   "id": "b96a008a",
   "metadata": {},
   "outputs": [],
   "source": [
    "%%sql\n",
    "CREATE SCHEMA s1;\n",
    "CREATE TABLE s1.account AS\n",
    "FROM read_csv_auto('expanded_data/account.csv', header=True, sep=',');\n",
    "CREATE TABLE s1.district AS\n",
    "FROM read_csv_auto('expanded_data/district.csv', header=True, sep=',');"
   ]
  },
  {
   "cell_type": "markdown",
   "id": "18fba4b7",
   "metadata": {},
   "source": [
    "Let's take a brief look at both of our tables before we get started."
   ]
  },
  {
   "cell_type": "code",
   "execution_count": null,
   "id": "fc030a38",
   "metadata": {},
   "outputs": [],
   "source": [
    "%%sql\n",
    "SELECT *\n",
    "FROM s1.account\n",
    "LIMIT 5"
   ]
  },
  {
   "cell_type": "code",
   "execution_count": null,
   "id": "d3a7ded0",
   "metadata": {},
   "outputs": [],
   "source": [
    "%%sql\n",
    "SELECT *\n",
    "FROM s1.district\n",
    "LIMIT 5"
   ]
  },
  {
   "cell_type": "markdown",
   "id": "59f36736",
   "metadata": {},
   "source": [
    "Before we jump into joins, I highly recommend following along with <a href=\"https://joins.spathon.com/\">this resource</a>.\n",
    "\n",
    "\n",
    "### Inner Join\n",
    "\n",
    "The most basic join is the inner join. Inner joins result in a query that returns rows where both tables have the specified key. For example, the query below inner joins our `s1.account` and `s1.district` table `ON` the \"accounts_id\" variable."
   ]
  },
  {
   "cell_type": "code",
   "execution_count": null,
   "id": "0ae3b339",
   "metadata": {},
   "outputs": [],
   "source": [
    "%%sql\n",
    "SELECT *,\n",
    "FROM s1.account\n",
    "INNER JOIN s1.district \n",
    "    ON s1.account.district_id = s1.district.district_id\n",
    "LIMIT 5"
   ]
  },
  {
   "cell_type": "markdown",
   "id": "d601f954",
   "metadata": {},
   "source": [
    "This query results in joining our `s1.account` and `s1.district` tables wherever the \"district_id\" exists in both tables. In this inner join, the \"district_id\" value must exist in both tables. For demonstration purposes, let's hypothetically assume that there is a row in the `s1.account` table that has a \"district_id\" value of 99999. We `INSERT` this value `INTO` our `s1.account` table below."
   ]
  },
  {
   "cell_type": "code",
   "execution_count": null,
   "id": "bd7cb127",
   "metadata": {},
   "outputs": [],
   "source": [
    "%%sql \n",
    "INSERT INTO s1.account\n",
    "VALUES (9999, 99999, 'POPLATEK MESICNE', 930101)"
   ]
  },
  {
   "cell_type": "markdown",
   "id": "fc344f38",
   "metadata": {},
   "source": [
    "Because the value 99999 does not exist under the \"district_id\" column in the `s1.district` table, this row from the `s1.account` will not appear in our join."
   ]
  },
  {
   "cell_type": "code",
   "execution_count": null,
   "id": "9d2fb2ec",
   "metadata": {},
   "outputs": [],
   "source": [
    "%%sql \n",
    "SELECT COUNT(*)\n",
    "FROM s1.account"
   ]
  },
  {
   "cell_type": "code",
   "execution_count": null,
   "id": "2f5388f9",
   "metadata": {},
   "outputs": [],
   "source": [
    "%%sql \n",
    "SELECT COUNT(*)\n",
    "FROM s1.account\n",
    "INNER JOIN s1.district \n",
    "    ON s1.account.district_id = s1.district.district_id"
   ]
  },
  {
   "cell_type": "markdown",
   "id": "f4735636",
   "metadata": {},
   "source": [
    "We see that the `COUNT(*)` of `s1.account` is 4501 and the `COUNT(*)` of our join is 4500. This is because our inner join excludes the row with an \"district_id\" value of 99999 from our `s1.account` table since it does not appear anywhere under the \"district_id\" column of our `s1.district` table.\n",
    "\n",
    "Also notice that the \"district_id_1\" column in our original inner join query. This column does not inherit the \"district_id\" column name from our `s1.district` table because we would then have two columns with both \"district_id\" due to the inclusion of `s1.account`. To avoid this ambiguity, SQL automatically adds \"_1\" to the end of identical columns resulting from a join. If we are joining more than two tables (seen in the next section), then SQL will automatically increment the number to distinguish each identical column. \n",
    "\n",
    "#### Question 1 (Medium):\n",
    "How many counts of each \"district_id\" appear in `s1.account`? Query the district_id, the respective count, and the district name. Filter the results to only have district id's with a count greater than 40.\n",
    "\n",
    "<b>Hint:</b> Try breaking the problem down step by step. First, take a look at the results of an inner join. What can you do from there to achieve the correct results?\n",
    "\n",
    "<!-- #region -->\n",
    "<details>\n",
    "\n",
    "<summary>Answers</summary>\n",
    "\n",
    "We first inner join `s1.account` and `s1.district` on \"district_id\" to have a query that has the information necessary in answering this question. Then, we group by \"district_id\" and \"district_name\" in order to aggregate and have them in our select statement. The last filter step is through the `HAVING` clause because we filter post-aggregation."
   ]
  },
  {
   "cell_type": "code",
   "execution_count": null,
   "id": "b4108fa7",
   "metadata": {},
   "outputs": [],
   "source": [
    "%%sql \n",
    "SELECT s1.district.district_id, COUNT(*), s1.district.district_name\n",
    "FROM s1.account\n",
    "INNER JOIN s1.district \n",
    "    ON s1.account.district_id = s1.district.district_id\n",
    "GROUP BY s1.district.district_id, s1.district.district_name\n",
    "HAVING COUNT(*) > 40"
   ]
  },
  {
   "cell_type": "markdown",
   "id": "69bc0a49",
   "metadata": {},
   "source": [
    "</details>\n",
    "<!-- #endregion -->\n",
    "\n",
    "### Left Join\n",
    "\n",
    "A left join guarantees that every row in the table before the `ON` clause (the left table) appears in our query, regardless if the key from that row matches the \"right\" table being joined."
   ]
  },
  {
   "cell_type": "code",
   "execution_count": null,
   "id": "dfec6ba7",
   "metadata": {},
   "outputs": [],
   "source": [
    "%%sql \n",
    "SELECT COUNT(*)\n",
    "FROM s1.account\n",
    "LEFT JOIN s1.district \n",
    "    ON s1.account.district_id = s1.district.district_id"
   ]
  },
  {
   "cell_type": "markdown",
   "id": "329baedc",
   "metadata": {},
   "source": [
    "Recall the row we `INSERT` into the `s1.account` table. This row is included in our left join because `s1.account` appears before the `JOIN` clause in our SQL statement. This is why the `COUNT(*)` matches the number of rows of our `s1.account` table after we inserted the row. Let's take a look at what this row looks like after our left join."
   ]
  },
  {
   "cell_type": "code",
   "execution_count": null,
   "id": "736cc1be",
   "metadata": {},
   "outputs": [],
   "source": [
    "%%sql\n",
    "SELECT *\n",
    "FROM s1.account\n",
    "LEFT JOIN s1.district \n",
    "    ON s1.account.district_id = s1.district.district_id\n",
    "WHERE s1.account.district_id = 99999"
   ]
  },
  {
   "cell_type": "markdown",
   "id": "e23d8111",
   "metadata": {},
   "source": [
    "The first 4 columns have values, but the resulting values from the \"right table\" are all \"None\"! Since `s1.district` does not have the value 99999 under its \"district_id\" column, there is no information on this particular district_id to supplement the left table.\n",
    "\n",
    "Also notice the particular syntax for our column in our `WHERE` clause. Since \"district_id\" appears in both `s1.account` and `s1.district`, we have to specify which table to run our `WHERE` clause on. \n",
    "\n",
    "### Right Join\n",
    "\n",
    "Right join is identical to the nature of the left join. A right join will guarantee the inclusion of every row from the \"right table\", regardless if the key being joined on appears in the \"left table.\"\n",
    "\n",
    "Here we replace the `LEFT JOIN` in our last example with `RIGHT JOIN`."
   ]
  },
  {
   "cell_type": "code",
   "execution_count": null,
   "id": "b8252525",
   "metadata": {},
   "outputs": [],
   "source": [
    "%%sql \n",
    "SELECT COUNT(*)\n",
    "FROM s1.account\n",
    "RIGHT JOIN s1.district \n",
    "    ON s1.account.district_id = s1.district.district_id"
   ]
  },
  {
   "cell_type": "markdown",
   "id": "08bc2fae",
   "metadata": {},
   "source": [
    "The resulting `COUNT(*)` of our join omits the one row we `INSERT` into `s1.account` previously. Let's double check and see if our inserted row exists after this join."
   ]
  },
  {
   "cell_type": "code",
   "execution_count": null,
   "id": "6617c88c",
   "metadata": {},
   "outputs": [],
   "source": [
    "%%sql \n",
    "SELECT *\n",
    "FROM s1.account\n",
    "RIGHT JOIN s1.district \n",
    "    ON s1.account.district_id = s1.district.district_id\n",
    "WHERE s1.account.district_id = 99999"
   ]
  },
  {
   "cell_type": "markdown",
   "id": "f47a335d",
   "metadata": {},
   "source": [
    "Exactly what we expect.\n",
    "\n",
    "What would happen if we reverse the placement of our tables in our `RIGHT JOIN` clause? The results of reversing the table placements are below."
   ]
  },
  {
   "cell_type": "code",
   "execution_count": null,
   "id": "0e13f7f8",
   "metadata": {},
   "outputs": [],
   "source": [
    "%%sql \n",
    "SELECT COUNT(*)\n",
    "FROM s1.district\n",
    "RIGHT JOIN s1.account \n",
    "    ON s1.account.district_id = s1.district.district_id"
   ]
  },
  {
   "cell_type": "code",
   "execution_count": null,
   "id": "949cb5ac",
   "metadata": {},
   "outputs": [],
   "source": [
    "%%sql \n",
    "SELECT *\n",
    "FROM s1.district\n",
    "RIGHT JOIN s1.account \n",
    "    ON s1.account.district_id = s1.district.district_id\n",
    "WHERE s1.account.district_id = 99999"
   ]
  },
  {
   "cell_type": "markdown",
   "id": "cba7c9f5",
   "metadata": {},
   "source": [
    "We get near exact results from our previous `LEFT JOIN` demonstration. The only difference is the order of our columns in the query output. The `s1.account` table appears on the far right whil the `s1.district` table appears on the left. To ensure complete visibility of the output, please utilize the scroll bar.\n",
    "\n",
    "#### Question 2 (Easy):\n",
    "Show the maximum \"account_id\" value corresponding with that account's district information, regardless if there is any or not. Name the resulting query colum \"max_acc_id\". You must include a join.\n",
    "\n",
    "<!-- #region -->\n",
    "<details>\n",
    "\n",
    "<summary>Answers</summary>\n",
    "\n",
    "We first left join `s1.account` and `s1.district` on \"district_id\" to have a query that guarantees completed information from the `s1.account` table. Then, we find the max of \"account_id\" and rename it accordingly."
   ]
  },
  {
   "cell_type": "code",
   "execution_count": null,
   "id": "0e8cabe3",
   "metadata": {},
   "outputs": [],
   "source": [
    "%%sql \n",
    "SELECT MAX(s1.account.account_id) AS max_acc_id\n",
    "FROM s1.account\n",
    "LEFT JOIN s1.district\n",
    "    ON s1.account.district_id = s1.district.district_id"
   ]
  },
  {
   "cell_type": "markdown",
   "id": "5617e36e",
   "metadata": {},
   "source": [
    "</details>\n",
    "<!-- #endregion -->\n",
    "\n",
    "### Full Join\n",
    "Full join (also known as outer join) results in the inclusion of all rows from both tables. To showcase the full capability of full joins, we first `INSERT` another row into the `s1.district` table with a \"district_id\" value not present in the `s1.account` table. In other words, we are creating new value for `s1.district`'s primary key that does not appear in `s1.account`'s foreign key."
   ]
  },
  {
   "cell_type": "code",
   "execution_count": null,
   "id": "4d427a0b",
   "metadata": {},
   "outputs": [],
   "source": [
    "%%sql \n",
    "INSERT INTO s1.district\n",
    "VALUES (3333, 'Hypothetical District', 'Hypothetical Region',1,1,1,1,1,1,1,1,1,1,1,1,1)"
   ]
  },
  {
   "cell_type": "code",
   "execution_count": null,
   "id": "90a3eeda",
   "metadata": {},
   "outputs": [],
   "source": [
    "%%sql \n",
    "SELECT COUNT(*)\n",
    "FROM s1.account \n",
    "FULL JOIN s1.district \n",
    "    ON s1.account.district_id = s1.district.district_id"
   ]
  },
  {
   "cell_type": "code",
   "execution_count": null,
   "id": "53872988",
   "metadata": {},
   "outputs": [],
   "source": [
    "%%sql \n",
    "SELECT *\n",
    "FROM s1.account\n",
    "FULL JOIN s1.district \n",
    "    ON s1.account.district_id = s1.district.district_id\n",
    "WHERE s1.account.district_id = 99999 OR s1.district.district_id = 3333"
   ]
  },
  {
   "cell_type": "markdown",
   "id": "908f43d1",
   "metadata": {},
   "source": [
    "The full join on `s1.district` and `s1.account` results in a query that includes all rows from both tables. The `OR` clause in the last SQL statement verifies this by querying the hypothetical rows we created in each table.\n",
    "\n",
    "#### Question 3 (Medium):\n",
    "What is the average \"account_id\" value for accounts in the \"Prague\" region? Round the average by 3 decimal places.\n",
    "\n",
    "It doesn't really make sense to average by the \"account_id\" as it is an arbitrary number to uniquely identify each account. However, try to ignore that for the purpose of practice.\n",
    "\n",
    "<!-- #region -->\n",
    "<details>\n",
    "\n",
    "<summary>Answers</summary>\n",
    "\n",
    "We first join `s1.account` and `s1.district` on \"district_id\" to have a query of completed information between the two tables. Then, we `GROUP BY` region and `SELECT` the region name and the average value of \"account_id\" within regions. Finally, we use `HAVING` to filter where region has the value 'Prague' post grouping with `GROUP BY`."
   ]
  },
  {
   "cell_type": "code",
   "execution_count": null,
   "id": "404e10a2",
   "metadata": {},
   "outputs": [],
   "source": [
    "%%sql\n",
    "SELECT s1.district.region, ROUND(AVG(s1.account.account_id), 3) \n",
    "FROM s1.account\n",
    "INNER JOIN s1.district\n",
    "    ON s1.account.district_id = s1.district.district_id\n",
    "GROUP BY s1.district.region\n",
    "HAVING s1.district.region = 'Prague'"
   ]
  },
  {
   "cell_type": "markdown",
   "id": "4ee0100b",
   "metadata": {},
   "source": [
    "</details>\n",
    "<!-- #endregion -->\n",
    "\n",
    "## Wrapping Up\n",
    "\n",
    "In this section, we learned the basic join types and how to use them when given two tables. We also learned the definiton of primary and foriegn keys along with an introduction to ERDs. To recap:\n",
    "\n",
    "- `FULL JOIN` -  Guarantees that every row from both joined tables is included in the resulting query, regardless of whether a matching key exists in the other table or not. A `FULL JOIN` essentially combines the results of a `RIGHT JOIN` and `LEFT JOIN`\n",
    "\n",
    "- `LEFT JOIN` - Guarantees that every row from the left table is included in the resulting query, regardless of whether a matching key exists in the other table or not. \n",
    "\n",
    "- `RIGHT JOIN` - Guarantees that every row from the right table is included in the resulting query, regardless of whether a matching key exists in the other table or not. \n",
    "\n",
    "- Primary key - The column in a table that uniquely identifies each row of the table.\n",
    "\n",
    "- Foreign key - A column in a table that establishes a link or relationship to the primary key of another table.\n",
    "\n",
    "In the next section, you will learn how to implement joins in more than two tables.\n",
    "\n",
    "## References\n",
    "\n",
    "Dataset citation:\n",
    "\n",
    "“PKDD’99 Discovery Challenge Guide to the Financial Data Set.” Home page of PKDD Discovery Challenge, 1999. https://sorry.vse.cz/~berka/challenge/PAST/."
   ]
  }
 ],
 "metadata": {
  "kernelspec": {
   "display_name": "jupyblog",
   "language": "python",
   "name": "python3"
  }
 },
 "nbformat": 4,
 "nbformat_minor": 5
}
