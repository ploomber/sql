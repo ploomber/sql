{
 "cells": [
  {
   "attachments": {},
   "cell_type": "markdown",
   "id": "38349898",
   "metadata": {},
   "source": [
    "# Make your queries interactive\n",
    "\n",
    "In this section, we will combine the learnings from the two previous sections, [Intro to `ipywidgets`](https://ploomber-sql.readthedocs.io/en/latest/interactive-queries-and-parameterization/introduction-to-ipywidgets.html) and [Parameterizing SQL Queries](https://ploomber-sql.readthedocs.io/en/latest/interactive-queries-and-parameterization/parameterize-sql-queries.html), to create interactive SQL queries using <b>JupySQL</b>. This technique is useful for conducting exploratory data analysis with SQL, as it allows us to filter our data and visualize the tabular results interactively."
   ]
  },
  {
   "cell_type": "code",
   "execution_count": null,
   "id": "61530616",
   "metadata": {
    "tags": [
     "remove-cell"
    ]
   },
   "outputs": [],
   "source": [
    "# this cell is hidden in the docs for linting\n",
    "import ipywidgets as widgets"
   ]
  },
  {
   "attachments": {},
   "cell_type": "markdown",
   "id": "abc7423c",
   "metadata": {},
   "source": [
    "The installation of `ipywidgets` was covered previously [here](https://ploomber-sql.readthedocs.io/en/latest/interactive-queries-and-parameterization/introduction-to-ipywidgets.html#ipywidgets).\n",
    "\n",
    "## Set up and data access\n",
    "\n",
    "```{important}\n",
    "<b>Note:</b> The --save and %sqlcmd features used require the latest JupySQL version. Ensure you run the code below.\n",
    "```\n",
    "\n",
    "This code installs JupySQL, and DuckDB in your environment. We will be using these moving forward."
   ]
  },
  {
   "cell_type": "code",
   "execution_count": null,
   "id": "d55ad3a2",
   "metadata": {},
   "outputs": [],
   "source": [
    "%pip install jupysql --upgrade jupysql-plugin --upgrade duckdb-engine --quiet"
   ]
  },
  {
   "attachments": {},
   "cell_type": "markdown",
   "id": "9a84e5b6",
   "metadata": {},
   "source": [
    "We continue to work with the Bank and Marketing data set.\n",
    "\n",
    "```{important}\n",
    "Source: UCI Machine Learning Repository\n",
    "\n",
    "URL: https://archive-beta.ics.uci.edu/dataset/222/bank+marketing\n",
    "\n",
    "Data Citation\n",
    "\n",
    "Moro,S., Rita,P., and Cortez,P.. (2012). Bank Marketing. UCI Machine Learning Repository. https://doi.org/10.24432/C5K306.\n",
    "```\n",
    "\n",
    "We can use the following function to extract the downloaded data from the UCI repository."
   ]
  },
  {
   "cell_type": "code",
   "execution_count": null,
   "id": "6de42bc0",
   "metadata": {},
   "outputs": [],
   "source": [
    "import sys\n",
    "\n",
    "sys.path.insert(0, \"../../\")\n",
    "import banking  # noqa: E402\n",
    "\n",
    "_ = banking.BankingData(\"https://tinyurl.com/jb-bank\", \"bank\")\n",
    "_.extract_to_csv()"
   ]
  },
  {
   "attachments": {},
   "cell_type": "markdown",
   "id": "78639472",
   "metadata": {},
   "source": [
    "Initialize a DuckDB Instance"
   ]
  },
  {
   "cell_type": "code",
   "execution_count": null,
   "id": "86e34a08",
   "metadata": {},
   "outputs": [],
   "source": [
    "# Loading in SQL extension\n",
    "%reload_ext sql\n",
    "# Initiating a DuckDB database named 'bank.duck.db' to run our SQL queries on\n",
    "%sql duckdb:///bank.duck.db"
   ]
  },
  {
   "attachments": {},
   "cell_type": "markdown",
   "id": "54a16bb5",
   "metadata": {},
   "source": [
    "Load the data"
   ]
  },
  {
   "cell_type": "code",
   "execution_count": null,
   "id": "05be0c15",
   "metadata": {},
   "outputs": [],
   "source": [
    "%%sql\n",
    "CREATE OR REPLACE TABLE bank AS\n",
    "FROM read_csv_auto('bank_cleaned.csv', header=True, sep=',')"
   ]
  },
  {
   "attachments": {},
   "cell_type": "markdown",
   "id": "44631863",
   "metadata": {},
   "source": [
    "We confirm the table was loaded"
   ]
  },
  {
   "cell_type": "code",
   "execution_count": null,
   "id": "5bb9eec9",
   "metadata": {},
   "outputs": [],
   "source": [
    "%sqlcmd tables"
   ]
  },
  {
   "attachments": {},
   "cell_type": "markdown",
   "id": "ed7a527c",
   "metadata": {},
   "source": [
    "We can use [JupySQL's Table Explorer](https://jupysql.ploomber.io/en/latest/user-guide/table_explorer.html) to take a quick look at the table."
   ]
  },
  {
   "cell_type": "code",
   "execution_count": null,
   "id": "02ee21fc",
   "metadata": {},
   "outputs": [],
   "source": [
    "%sqlcmd explore --table bank"
   ]
  },
  {
   "cell_type": "code",
   "execution_count": null,
   "id": "7a2fe388",
   "metadata": {},
   "outputs": [],
   "source": [
    "%sqlcmd columns -t bank"
   ]
  },
  {
   "attachments": {},
   "cell_type": "markdown",
   "id": "2f2f8008",
   "metadata": {},
   "source": [
    "## `%sql --interact {{widget_variable}}`\n",
    "\n",
    "In the [Intro to `ipywidgets`](https://ploomber-sql.readthedocs.io/en/latest/interactive-queries-and-parameterization/introduction-to-ipywidgets.html) section of this module, we learned how to apply python functions and decorators to create `ipywidgets`. In this section, we apply JupySQL's `--interact` argument, which allows us to create interactive SQL queries using `ipywidgets`. We also learned in the [previous section](https://ploomber-sql.readthedocs.io/en/latest/interactive-queries-and-parameterization/parameterize-sql-queries.html#variable-expansion) about variable expansion using placeholders for `{{variable}}`. We will combine these two concepts to create interactive SQL queries!\n",
    "\n",
    "First, you need to define the `{{variable}}` as the form of a basic data type or `ipywidgets` Widget.\n",
    "Then, pass the variable name into the `--interact` argument and use a `WHERE` clause to filter using the specified widgets variables. Below, we will delve into the different types of widgets and how to use them with JupySQL.\n",
    "\n",
    "### Basic Data Types\n",
    "\n",
    "The simplest way is to declare a variable with basic data types (Numeric, Text, Boolean...). [ipywidgets](https://ipywidgets.readthedocs.io/en/stable/examples/Using%20Interact.html?highlight=interact#Basic-interact) autogenerates UI controls for that variable.\n",
    "\n",
    "An example with a numeric variable `duration`, which creates a slider UI for its values by default, is as follows:"
   ]
  },
  {
   "cell_type": "code",
   "execution_count": null,
   "id": "1fc2edf8",
   "metadata": {},
   "outputs": [],
   "source": [
    "duration_min = 1500\n",
    "%sql --interact duration_min SELECT age, loan, duration FROM bank WHERE duration > {{duration_min}} LIMIT 5"
   ]
  },
  {
   "attachments": {},
   "cell_type": "markdown",
   "id": "cecd8ffc",
   "metadata": {},
   "source": [
    "<b>Note above</b> that we are filtering records by the variable `duration` if it is <b>greater than</b> the value of the slider widget `duration_min`.\n",
    "\n",
    "An example with a categorical variable `loan`, which creates a text box for the user to type in values as a UI, is as follows:"
   ]
  },
  {
   "cell_type": "code",
   "execution_count": null,
   "id": "883ae365",
   "metadata": {},
   "outputs": [],
   "source": [
    "loan = \"yes\"  # Try inputting \"no\" in the output's text box\n",
    "%sql --interact loan SELECT age, loan, duration FROM bank WHERE loan == '{{loan}}' LIMIT 5"
   ]
  },
  {
   "attachments": {},
   "cell_type": "markdown",
   "id": "0a9c7bc1",
   "metadata": {},
   "source": [
    "### Numeric Widgets\n",
    "\n",
    "#### `IntSlider` and `FloatSlider`\n",
    "\n",
    "These widgets were introduced in this [section](https://ploomber-sql.readthedocs.io/en/latest/interactive-queries-and-parameterization/introduction-to-ipywidgets.html#intslider-and-floatslider) of the module. Here, we will see how to use them with JupySQL.\n",
    "\n",
    "An example for the `IntSlider` is as follows:"
   ]
  },
  {
   "cell_type": "code",
   "execution_count": null,
   "id": "fb8a3725",
   "metadata": {},
   "outputs": [],
   "source": [
    "duration_lower_bound = widgets.IntSlider(min=5, max=3000, step=500, value=1500)\n",
    "\n",
    "%sql --interact duration_lower_bound SELECT age, loan, duration FROM bank WHERE duration <= {{duration_lower_bound}} LIMIT 5"
   ]
  },
  {
   "attachments": {},
   "cell_type": "markdown",
   "id": "1a1e1041",
   "metadata": {},
   "source": [
    "<b>Note</b>: Other Numeric Widgets can be found [here](https://ipywidgets.readthedocs.io/en/stable/examples/Widget%20List.html#floatlogslider).\n",
    "\n",
    "### Selection Widgets\n",
    "\n",
    "#### `RadioButtons`\n",
    "\n",
    "These widgets were also introduced in the previous [section](https://ploomber-sql.readthedocs.io/en/latest/interactive-queries-and-parameterization/introduction-to-ipywidgets.html#radiobuttons) of this module.\n",
    "\n",
    "An example of its usage with `--interact` is as follows:"
   ]
  },
  {
   "cell_type": "code",
   "execution_count": null,
   "id": "60028634",
   "metadata": {},
   "outputs": [],
   "source": [
    "outcome_selection = widgets.RadioButtons(\n",
    "    options=[\"failure\", \"other\", \"success\", \"unknown\"],\n",
    "    description=\"Outcome\",\n",
    "    disabled=False,\n",
    ")"
   ]
  },
  {
   "cell_type": "code",
   "execution_count": null,
   "id": "764c2e94",
   "metadata": {},
   "outputs": [],
   "source": [
    "%%sql --interact outcome_selection\n",
    "SELECT age, loan, poutcome FROM bank\n",
    "WHERE poutcome == '{{outcome_selection}}'\n",
    "LIMIT 5;"
   ]
  },
  {
   "attachments": {},
   "cell_type": "markdown",
   "id": "6c285115",
   "metadata": {},
   "source": [
    "```{important}\n",
    "When using selection widgets that only allow selecting one value, use `== '{{ widget_variable }}'` for the query to run without errors. On the other hand, if using multiple selection widgets, use `IN {{ widget_variable }}`.\n",
    "```\n",
    "\n",
    "<b>Note</b>: Other Selection Widgets can be found [here](https://ipywidgets.readthedocs.io/en/stable/examples/Widget%20List.html#selection-widgets).\n",
    "\n",
    "### Complete Example\n",
    "\n",
    "Now, we can demonstrate a way to combine multiple `ipywidgets` to make a more complex interactive SQL query, inclusive of different data types and widgets.\n",
    "\n",
    "The code chunk below initializes multiple `ipywidgets`: <b>radio buttons</b> and <b>multiple selection</b> for the categorical variables `poutcome` and `loan` respectively and a <b>basic unbounded slider</b> for the numeric variable `duration`. The `show_limit` variable is a basic data type that creates a slider by default and is used to limit the number of rows, in this case between 0 to 10 with a step size of 1.\n",
    "\n",
    "<b>Note</b>: For `poutcome`, multiple values can be selected with `shift` and/or `ctrl` (or `command`) pressed and mouse clicks or arrow keys."
   ]
  },
  {
   "cell_type": "code",
   "execution_count": null,
   "id": "cf4f36ae",
   "metadata": {},
   "outputs": [],
   "source": [
    "duration_lower_bound = 500\n",
    "show_limit = (0, 10, 1)\n",
    "loan_selection = widgets.RadioButtons(\n",
    "    options=[\"yes\", \"no\"], description=\"Personal Loan\", disabled=False\n",
    ")\n",
    "outcome_selection = widgets.SelectMultiple(\n",
    "    options=[\"failure\", \"other\", \"success\", \"unknown\"],\n",
    "    value=[\"success\", \"failure\"],\n",
    "    description=\"Previous Campaign Outcome\",\n",
    "    disabled=False,\n",
    ")"
   ]
  },
  {
   "attachments": {},
   "cell_type": "markdown",
   "id": "75cb1ed7",
   "metadata": {},
   "source": [
    "Next, we can use the `--interact` argument to create UI's for the above widgets, which will help us interactively filter our output, and pass them into the SQL query:"
   ]
  },
  {
   "cell_type": "code",
   "execution_count": null,
   "id": "19b6d34b",
   "metadata": {},
   "outputs": [],
   "source": [
    "%%sql --interact show_limit --interact duration_lower_bound --interact loan_selection --interact outcome_selection\n",
    "SELECT duration, loan, poutcome FROM bank\n",
    "WHERE poutcome IN {{outcome_selection}} AND\n",
    "duration > {{duration_lower_bound}} AND\n",
    "loan == '{{loan_selection}}'\n",
    "LIMIT {{show_limit}}"
   ]
  },
  {
   "attachments": {},
   "cell_type": "markdown",
   "id": "d79073c9",
   "metadata": {},
   "source": [
    "Try out other widgets, such as Boolean, String, and Datetime, detailed [here](https://ipywidgets.readthedocs.io/en/stable/examples/Widget%20List.html#) and see what you can come up with!\n",
    "\n",
    "## Macros + `%sql --interact {{widget_variable}}`\n",
    "\n",
    "The `--interact` argument can also be used with Macros, using the {% macro %} tag. Recall that a macro is <b>saved</b> in a variable with the `--save` flag. Therefore, JupySQL supports the use of multiple flags in a `%%sql` command. Applying macros to `ipywidgets` is useful when we want to use the same widget variable in multiple SQL queries. For a refresher on Macros, see this [section](https://ploomber-sql.readthedocs.io/en/latest/interactive-queries-and-parameterization/parameterize-sql-queries.html#macros-+-variable-expansion)\n",
    "\n",
    "To show an example, consider the contact `duration` variable, measured in seconds, from the bank marketing dataset. Suppose the marketing manager wants to not only measure this variable in <b>minutes</b> but also filter it interactively across all other queries. We can, hence, use a macro to transform the variable and create a slider widget for it!\n",
    "\n",
    "We first create our bounded `FloatSlider` numeric widget variable, just like previous instances. <b>Note</b> when using a macro, we need to initialize the widget variable in a python code-cell outside of the macro's code-cell, which will be executed as an SQL cell wholly."
   ]
  },
  {
   "cell_type": "code",
   "execution_count": null,
   "id": "e76f8ade",
   "metadata": {},
   "outputs": [],
   "source": [
    "duration_slider = widgets.FloatSlider(\n",
    "    min=0.05, max=51, step=1, value=5, description=\"Contact Duration (mins)\"\n",
    ")"
   ]
  },
  {
   "attachments": {},
   "cell_type": "markdown",
   "id": "394fb23c",
   "metadata": {},
   "source": [
    "Next, we initialize our macro function and specify the SQL query with the widget variable that produces the UI for the slider and the tabular output for the saved query:"
   ]
  },
  {
   "cell_type": "code",
   "execution_count": null,
   "id": "f178f61a",
   "metadata": {},
   "outputs": [],
   "source": [
    "%%sql --save convert --interact duration_slider\n",
    "{% macro sec_to_min(column_name, precision=2) %}\n",
    "    ({{ column_name }} / 60)::numeric(16, {{ precision }})\n",
    "{% endmacro %}\n",
    "\n",
    "SELECT\n",
    "  job, marital,\n",
    "  {{ sec_to_min('duration') }} as duration_in_mins\n",
    "FROM bank\n",
    "WHERE duration_in_mins <= {{duration_slider}};"
   ]
  },
  {
   "attachments": {},
   "cell_type": "markdown",
   "id": "37889528",
   "metadata": {},
   "source": [
    "Finally, we have the option to display our query using the `%sqlrender` command as seen in the parameterizing your queries [section](https://ploomber-sql.readthedocs.io/en/latest/interactive-queries-and-parameterization/parameterize-sql-queries.html#macros-+-variable-expansion) section. Because we applied a widget to it, the `WHERE` clause in the rendered query will reflect the latest value of the slider UI, so you do not have to go back and forth!"
   ]
  },
  {
   "cell_type": "code",
   "execution_count": null,
   "id": "510555f4",
   "metadata": {},
   "outputs": [],
   "source": [
    "final = %sqlrender convert\n",
    "print(final)"
   ]
  },
  {
   "attachments": {},
   "cell_type": "markdown",
   "id": "00314147",
   "metadata": {},
   "source": [
    "## You try: Use JupySQL to perform the queries and answer the questions\n",
    "\n",
    "### Question 1 (Easy):\n",
    "Using the `bank` dataset, create an `IntSlider` widget called `balance_lower` for the `balance` column. Specifically, include a <b>bounded</b> slider with values ranging between -1000 and 20000, a step size of 1000, and initial value set to 10000. Show only the first 5 rows of the output and the columns `age`, `loan`, and `balance`.\n",
    "<!-- #region -->\n",
    "<details>\n",
    "\n",
    "<summary>Answers</summary>\n",
    "\n",
    "We start off by initializing a variable called `balance_lower` and assigning it to the `IntSlider` widget with the required <b>integer</b> arguments. To limit the number of rows to only 5, we <b>do not need a basic slider</b>, as shown with the `show_limit` variable in the Complete Example above."
   ]
  },
  {
   "cell_type": "code",
   "execution_count": null,
   "id": "2a5653a8",
   "metadata": {},
   "outputs": [],
   "source": [
    "balance_lower = widgets.IntSlider(min=-1000, max=20000, step=1000, value=10000)"
   ]
  },
  {
   "cell_type": "code",
   "execution_count": null,
   "id": "0fa616ac",
   "metadata": {},
   "outputs": [],
   "source": [
    "%%sql --interact balance_lower\n",
    "SELECT age, loan, balance FROM bank\n",
    "WHERE balance <= {{balance_lower}}\n",
    "LIMIT 5"
   ]
  },
  {
   "attachments": {},
   "cell_type": "markdown",
   "id": "8f34ae23",
   "metadata": {},
   "source": [
    "</details>\n",
    "<!-- #endregion -->\n",
    "\n",
    "<!-- #region -->\n",
    "\n",
    "#### Question 2 (Medium):\n",
    "Using the `bank` dataset, create a `ToggleButtons` Selection Widget for the `month` column. Show a range of records from 1 to 10 with a step size of 5 and the columns `age`, `loan`, and `month`.\n",
    "\n",
    "<!-- #region -->\n",
    "<details>\n",
    "\n",
    "<summary>Answers</summary>\n",
    "\n",
    "```{important}\n",
    "When in doubt about the syntax of a particular widget, refer to the `ipywidgets` [documentation](https://ipywidgets.readthedocs.io/en/stable/examples/Widget%20List.html#selection-widgets).\n",
    "```\n",
    "\n",
    "We start off by initializing a variable called `month_toggle` and assigning it to the `ToggleButtons` widget. The `options` argument is set to a list of the unique values in the `month` column. We do not need to specify the `value` argument here as it will, by default, select the first value in the `options` list, which is \"jan\" in this case.\n",
    "\n",
    "To show a range of records, we can modify the `show_limit` variable from the Complete Example above."
   ]
  },
  {
   "cell_type": "code",
   "execution_count": null,
   "id": "592db7f4",
   "metadata": {},
   "outputs": [],
   "source": [
    "month_toggle = widgets.ToggleButtons(\n",
    "    options=[\n",
    "        \"jan\",\n",
    "        \"feb\",\n",
    "        \"mar\",\n",
    "        \"apr\",\n",
    "        \"may\",\n",
    "        \"jun\",\n",
    "        \"jul\",\n",
    "        \"aug\",\n",
    "        \"sep\",\n",
    "        \"oct\",\n",
    "        \"nov\",\n",
    "        \"dec\",\n",
    "    ],\n",
    "    description=\"Month:\",\n",
    "    disabled=False,\n",
    ")\n",
    "show_limit = (1, 10, 5)"
   ]
  },
  {
   "attachments": {},
   "cell_type": "markdown",
   "id": "5de0cab6",
   "metadata": {},
   "source": [
    "Finally, we use the `--interact` argument to create a UI for the `contact_dropdown` widget."
   ]
  },
  {
   "cell_type": "code",
   "execution_count": null,
   "id": "a393302e",
   "metadata": {},
   "outputs": [],
   "source": [
    "%sql --interact show_limit --interact month_toggle SELECT age, loan, month FROM bank WHERE month == '{{month_toggle}}' LIMIT {{show_limit}}"
   ]
  },
  {
   "attachments": {},
   "cell_type": "markdown",
   "id": "d533cb04",
   "metadata": {},
   "source": [
    "</details>\n",
    "<!-- #endregion -->\n",
    "\n",
    "<!-- #region -->\n",
    "\n",
    "#### Question 3 (BONUS):\n",
    "Create an <b>unbounded</b> numeric widget for the integer variable `duration` with a range of values from 0 to 2000, a step size of 500, and an initial `value` of 1000. <b>However</b>, make sure that the table changes output upon clicking a play button! Also add a `ToggleButton`, a Boolean Widget, for the variable `housing` that has `value` = \"yes\", `button_style` = \"success\", and a check `icon`. Lastly, limit the output to only show 10 records and the columns `age`, `loan`, and `housing`.\n",
    "\n",
    "<b>Hint</b> Did you know that we can also create animated sliders for integer data types? This question requires exactly that! See the documentation [here](https://ipywidgets.readthedocs.io/en/stable/examples/Widget%20List.html#play-animation-widget) for more details.\n",
    "\n",
    "<!-- #region -->\n",
    "<details>\n",
    "<summary>Answers</summary>\n",
    "\n",
    "We start off by initializing a variable called `play` and assigning it to the `Play` Animation widget with the required <b>integer</b> arguments."
   ]
  },
  {
   "cell_type": "code",
   "execution_count": null,
   "id": "2b4355a5",
   "metadata": {},
   "outputs": [],
   "source": [
    "play = widgets.Play(\n",
    "    value=0,\n",
    "    min=0,\n",
    "    max=2000,\n",
    "    step=500,\n",
    "    interval=1000,  # time interval in milliseconds\n",
    "    description=\"Press play\",\n",
    "    disabled=False,\n",
    ")"
   ]
  },
  {
   "attachments": {},
   "cell_type": "markdown",
   "id": "c4e3b0ec",
   "metadata": {},
   "source": [
    "For the `ToggleButton` widget, we initialize a variable called `housing_toggle` and assign it to the `ToggleButton` widget with the required arguments."
   ]
  },
  {
   "cell_type": "code",
   "execution_count": null,
   "id": "1ef77e66",
   "metadata": {},
   "outputs": [],
   "source": [
    "housing_toggle = widgets.ToggleButtons(\n",
    "    options=[\"yes\", \"no\"],\n",
    "    description=\"Housing:\",\n",
    "    disabled=False,\n",
    ")"
   ]
  },
  {
   "attachments": {},
   "cell_type": "markdown",
   "id": "0312c8da",
   "metadata": {},
   "source": [
    "Before calling `--interact`, we need to add UI's for the `Play` and `IntSlider` widgets. This is attained with both `jslink()` and `HBox` `ipywidgets` methods. We then use the `--interact` argument to create the UI's. In the `WHERE` clause, because we want an <b>unbounded</b> slider, we use the `>=` operator for `duration`. To limit the number of rows to only 10, we <b>do not need a basic slider</b>."
   ]
  },
  {
   "cell_type": "code",
   "execution_count": null,
   "id": "99daa89a",
   "metadata": {},
   "outputs": [],
   "source": [
    "%%sql --interact play --interact housing_toggle\n",
    "SELECT age, loan, housing FROM bank\n",
    "WHERE duration >= {{play}} AND\n",
    "housing == '{{housing_toggle}}'\n",
    "LIMIT 10"
   ]
  },
  {
   "attachments": {},
   "cell_type": "markdown",
   "id": "89777c8b",
   "metadata": {},
   "source": [
    "```{important}\n",
    "Because we set the minimum value and initial value upon rendering to 0, the maximum value to 2000, and a step size of 500, the table will change or \"blink\" four times upon pressing the \"play\" button. Normally, an `IntSlider` is recommended to be added next to the `Play` widget; however, JupySQL does not support this at the moment.\n",
    "```\n",
    "\n",
    "</details>\n",
    "<!-- #endregion -->\n",
    "\n",
    "<!-- #region -->\n",
    "\n",
    "#### Question 4 (Hard):\n",
    "Consider the `pdays` variable from the bank marketing dataset. The value in this column is -1 when the client was not contacted since the previous campaign and an integer > 0 otherwise. The marketing manager wants you to create a macro named `dummify` that transforms this numeric variable into a binary categorical variable, named `pdays_dummy`, taking on either \"no\" if `pdays` = -1 or \"yes\" otherwise. You are also expected to create both a `RadioButtons` selection widget for the transformed `pdays_dummy` variable and a `SelectMultiple` selection widget for the `poutcome` variable to help the manager filter for campaign performance on the fly. Finally, output the rendered query after displaying the tabular results, with the columns `job`, `marital`, `poutcome`, and `pdays_dummy`.\n",
    "\n",
    "<b>Hint</b> Create the selection widgets first, making sure that no SQL statements are present in their code cells. Then, use `--save` for creating the macro and `--interact` for using the widgets. Make sure to account for both widgets in the `WHERE` clause!\n",
    "\n",
    "<!-- #region -->\n",
    "<details>\n",
    "<summary>Answers</summary>\n",
    "\n",
    "We start off by initializing our selection widget variables:"
   ]
  },
  {
   "cell_type": "code",
   "execution_count": null,
   "id": "45cf21ce",
   "metadata": {},
   "outputs": [],
   "source": [
    "contact_selection = widgets.RadioButtons(\n",
    "    options=[\"yes\", \"no\"], description=\"Previously Contacted?\", disabled=False\n",
    ")"
   ]
  },
  {
   "cell_type": "code",
   "execution_count": null,
   "id": "8a85034e",
   "metadata": {},
   "outputs": [],
   "source": [
    "outcome_selection = widgets.SelectMultiple(\n",
    "    options=[\"failure\", \"other\", \"success\", \"unknown\"],\n",
    "    value=[\"success\", \"failure\"],\n",
    "    description=\"Campaign Outcome:\",\n",
    "    style={\"description_width\": \"initial\"},\n",
    "    disabled=False,\n",
    ")"
   ]
  },
  {
   "attachments": {},
   "cell_type": "markdown",
   "id": "93b283cc",
   "metadata": {},
   "source": [
    "Because we are creating a macro, we need to use the `--save` argument. The `--interact` argument initializes the UI for our widget variables. We then proceed to create the discretization macro function. Here, because we want to output \"yes\" or \"no\", using `::numeric(16, {{ precision }}` after the `CASE WHEN` statement will be incorrect; hence, we use `::varchar`.\n",
    "\n",
    "The SQL query is then written in the same code-cell the macro is present in and the macro is called in the `SELECT` clause on the `pdays` variable, which is aliased as `pdays_dummy` for readability. The `poutcome` variable is present in both the `SELECT` and `WHERE` clauses to show it in the tabular output and to create the multiple selection widget for it respectively. Lastly, `pdays_dummy`  is used in the `WHERE` clause to create its radio button widget:"
   ]
  },
  {
   "cell_type": "code",
   "execution_count": null,
   "id": "cdae8f0d",
   "metadata": {},
   "outputs": [],
   "source": [
    "%%sql --save dummify --interact contact_selection --interact outcome_selection\n",
    "{% macro days_to_dummy(column_name) %}\n",
    "    (case when {{ column_name }} = -1 then 'no' else 'yes' end)::varchar\n",
    "{% endmacro %}\n",
    "\n",
    "SELECT\n",
    "    job, marital, poutcome,\n",
    "    {{ days_to_dummy('pdays') }} as pdays_dummy\n",
    "FROM bank\n",
    "WHERE poutcome IN {{outcome_selection}} AND\n",
    "pdays_dummy == '{{contact_selection}}';"
   ]
  },
  {
   "attachments": {},
   "cell_type": "markdown",
   "id": "ab838ec7",
   "metadata": {},
   "source": [
    "Finally, `%sqlrender` helps us display the query, accounting for the last chosen values in the widgets:"
   ]
  },
  {
   "cell_type": "code",
   "execution_count": null,
   "id": "74cc2c31",
   "metadata": {},
   "outputs": [],
   "source": [
    "final = %sqlrender dummify\n",
    "print(final)"
   ]
  },
  {
   "attachments": {},
   "cell_type": "markdown",
   "id": "4940fad4",
   "metadata": {},
   "source": [
    "</details>\n",
    "<!-- #endregion -->\n",
    "\n",
    "<!-- #region -->\n",
    "\n",
    "## Wrapping Up\n",
    "\n",
    "In this section, we learned about how to use JupySQL to create widgets with variable expansion and macros. To summarize:\n",
    "\n",
    "- Numeric widgets, although commonly used as sliders, can also be used in text boxes or dropdowns, for example. This is useful when you want to specify a value.\n",
    "\n",
    "- For categorical or text data, we can use either Selection or Boolean widgets. Some examples include radio buttons, toggle buttons, and dropdowns.\n",
    "\n",
    "- `%sql --interact {{widget_variable}}` is a powerful tool in your arsenal to quickly create `ipywidgets`\n",
    "\n",
    "- The main difference between the `%sql` and `%%sql` magic commands in Jupyter notebooks is that `%sql` only allows for a single statement to be executed, while `%%sql` allows a block of SQL to be executed. Make sure to use `%%sql` when creating macros!\n",
    "\n",
    "- JupySQL provides incredible flexibility because it allows chaining `--` options, including `--save` and `--interact`, as we saw in this section. This helps us combine SQL queries with macros and widgets, making the EDA process less repetitive and more interactive!\n",
    "\n",
    "This ends the Interactive Queries and Parameterization module. We hope you use these skills to boost your productivity in creating interactive queries! In the next module, we will introduce Advanced Querying Techniques.\n",
    "\n",
    "<!-- #endregion -->\n",
    "\n",
    "## References\n",
    "\n",
    "“Simple Widget Introduction#.” Simple Widget Introduction - Jupyter Widgets 8.0.5 documentation, n.d. https://ipywidgets.readthedocs.io/en/stable/examples/Widget%20Basics.html.\n",
    "\n",
    "“Widget List#.” Widget List - Jupyter Widgets 8.0.5 documentation, n.d. https://ipywidgets.readthedocs.io/en/stable/examples/Widget%20List.html."
   ]
  }
 ],
 "metadata": {
  "kernelspec": {
   "display_name": "Python 3 (ipykernel)",
   "language": "python",
   "name": "python3"
  },
  "language_info": {
   "name": "python",
   "version": "3.10.0"
  }
 },
 "nbformat": 4,
 "nbformat_minor": 5
}
