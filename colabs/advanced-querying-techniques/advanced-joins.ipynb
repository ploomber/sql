{
 "cells": [
  {
   "cell_type": "markdown",
   "id": "f91c83e5",
   "metadata": {},
   "source": [
    "# Advanced join operations in SQL\n",
    "\n",
    "\n",
    "## Install - execute this once.\n",
    "\n",
    "```{important}\n",
    "<b>Note:</b> The `--save` and `%sqlcmd` features used require the latest JupySQL version. Ensure you run the code below to update JupySQL.\n",
    "```\n",
    "\n",
    "This code installs JupySQL, DuckDB, and Pandas in your environment. We will be using these moving forward."
   ]
  },
  {
   "cell_type": "code",
   "execution_count": null,
   "id": "b694f3cd",
   "metadata": {},
   "outputs": [],
   "source": [
    "%pip install jupysql --upgrade duckdb-engine pandas --quiet"
   ]
  },
  {
   "cell_type": "markdown",
   "id": "3b63c98e",
   "metadata": {},
   "source": [
    "## Load the data\n",
    "\n",
    "```{important}\n",
    "<b>Note:</b> If you are following these lessons locally and <b>not</b> on Google Colab, then there is no need to load the data again. \n",
    "```\n",
    "\n",
    "This section was covered in detail in the previous tutorial: [Joining Data in SQL](https://ploomber-sql.readthedocs.io/en/latest/intro-to-sql/joining-data-in-sql.html#load-the-data). We will be using the same data in this tutorial as well."
   ]
  },
  {
   "cell_type": "code",
   "execution_count": null,
   "id": "41700602",
   "metadata": {},
   "outputs": [],
   "source": [
    "import sys\n",
    "\n",
    "sys.path.insert(0, \"../../\")\n",
    "import banking  # noqa: E402\n",
    "\n",
    "\n",
    "_ = banking.MarketData(\"https://tinyurl.com/jb-bank-m\", \"expanded_data\")\n",
    "_.extract_asc_to_csv()"
   ]
  },
  {
   "cell_type": "markdown",
   "id": "6cc76944",
   "metadata": {},
   "source": [
    "If you ran the above cell, you should have a folder `expanded_data` in your current directory that contains the `.csv` files we will be using. In this tutorial, we will be focusing on three of these files: `loan.csv`, `account.csv`, `district.csv`.\n",
    "\n",
    "## Load Engine\n",
    "\n",
    "We now load in our SQL extension that allows us to execute SQL queries in Jupyter Notebooks.\n",
    "\n",
    "```{important}\n",
    "<b>Note</b> Ensure you restart any previous notebook that has the same database name as the one initialized below.\n",
    "```"
   ]
  },
  {
   "cell_type": "code",
   "execution_count": null,
   "id": "54abd345",
   "metadata": {},
   "outputs": [],
   "source": [
    "# Loading in SQL extension\n",
    "%reload_ext sql\n",
    "# Initiating a DuckDB database named 'bank_data.duck.db' to run SQL queries\n",
    "%sql duckdb:///bank_data.duck.db"
   ]
  },
  {
   "cell_type": "markdown",
   "id": "33694c78",
   "metadata": {},
   "source": [
    "<!-- endregion -->\n",
    "\n",
    "## Creating Tables\n",
    "\n",
    "Let's start off with loading three of the eight `.csv` files from the `expanded_data` folder in the current directory to our newly created DuckDB database. Like in the previous tutorial, we will [create a schema](https://ploomber-sql.readthedocs.io/en/latest/intro-to-sql/joining-data-in-sql.html#creating-a-schema) `s1` in which we will store the tables. Here we use the `CREATE TABLE` syntax in DuckDB to ingest four of the eight `.csv` files. The `read_csv_auto` is a function that helps SQL understand our local `.csv` file for creation into our database."
   ]
  },
  {
   "cell_type": "code",
   "execution_count": null,
   "id": "308a50f0",
   "metadata": {},
   "outputs": [],
   "source": [
    "%%sql\n",
    "CREATE SCHEMA s1;\n",
    "CREATE TABLE s1.account AS\n",
    "FROM read_csv_auto('expanded_data/account.csv', header=True, sep=',');\n",
    "CREATE TABLE s1.district AS\n",
    "FROM read_csv_auto('expanded_data/district.csv', header=True, sep=',');\n",
    "CREATE TABLE s1.loan AS\n",
    "FROM read_csv_auto('expanded_data/loan.csv', header=True, sep=',');"
   ]
  },
  {
   "cell_type": "markdown",
   "id": "6869887d",
   "metadata": {},
   "source": [
    "The code above will create three tables in the database schema: `s1.account`, `s1.district`, `s1.loan`. \n",
    "\n",
    "## Exploring the data\n",
    "\n",
    "Let's take a look at its entries."
   ]
  },
  {
   "cell_type": "code",
   "execution_count": null,
   "id": "1d4bc008",
   "metadata": {},
   "outputs": [],
   "source": [
    "%sqlcmd explore --table s1.account"
   ]
  },
  {
   "cell_type": "code",
   "execution_count": null,
   "id": "c3877e32",
   "metadata": {},
   "outputs": [],
   "source": [
    "%sqlcmd explore --table s1.district"
   ]
  },
  {
   "cell_type": "code",
   "execution_count": null,
   "id": "5c00f5d3",
   "metadata": {},
   "outputs": [],
   "source": [
    "%sqlcmd explore --table s1.loan"
   ]
  },
  {
   "cell_type": "markdown",
   "id": "20a2d5f8",
   "metadata": {},
   "source": [
    "## Nested-loop joins\n",
    "\n",
    "A nested loop join compares each row from the first table with each row from the second table to find all pairs of rows which satisfy the join predicate.\n",
    "\n",
    "### When to use\n",
    "\n",
    "This strategy is generally used when one of the tables in the join is significantly smaller than the other. The small table (or sometimes just a subset of it) can be kept in memory while the larger table is scanned, allowing for efficient access to the smaller table."
   ]
  },
  {
   "cell_type": "code",
   "execution_count": null,
   "id": "d742caa1",
   "metadata": {},
   "outputs": [],
   "source": [
    "%%sql\n",
    "SELECT DISTINCT a.account_id, a.district_id, a.frequency, a.date, l.loan_id, l.date as date_1, l.amount, l.duration, l.payments, l.status\n",
    "FROM s1.account a, s1.loan l\n",
    "WHERE a.account_id = l.account_id\n",
    "LIMIT 5;"
   ]
  },
  {
   "cell_type": "markdown",
   "id": "8fbd0b2e",
   "metadata": {},
   "source": [
    "## Merge joins\n",
    "\n",
    "Merge join combines two sorted lists like a zipper based on the join predicates.\n",
    "\n",
    "### When to use\n",
    "\n",
    "This is a very efficient join strategy when the join columns of both tables are sorted, or when the database can efficiently sort them. If you know that your tables are sorted on the join column, this strategy is likely to be chosen."
   ]
  },
  {
   "cell_type": "code",
   "execution_count": null,
   "id": "bf29059f",
   "metadata": {},
   "outputs": [],
   "source": [
    "%%sql\n",
    "SELECT *\n",
    "FROM s1.account a\n",
    "INNER JOIN s1.district d\n",
    "ON a.district_id = d.district_id\n",
    "LIMIT 5;"
   ]
  },
  {
   "cell_type": "markdown",
   "id": "7bde92e2",
   "metadata": {},
   "source": [
    "## Hash joins\n",
    "\n",
    "A hash join uses a hash table for finding matching rows. The table is partitioned based on the hash value of the join column(s).\n",
    "\n",
    "### When to use\n",
    "\n",
    "This strategy is typically used when the join columns are not sorted, and neither table is much smaller than the other. The database builds a hash table from one of the tables, then scans the other table and uses the hash table to find matching rows. If your tables are large and not sorted on the join columns, the database is likely to use this strategy.\n",
    "\n",
    "Since `DuckDB` doesn't support join hints, the corresponding SQL query example for join hints (SELECT /*+ HASH_JOIN(a, l) */ *...) it's just for illustration purposes and doesn't actually force a hash join in `DuckDB`."
   ]
  },
  {
   "cell_type": "code",
   "execution_count": null,
   "id": "b16ecee6",
   "metadata": {},
   "outputs": [],
   "source": [
    "%%sql\n",
    "SELECT *\n",
    "FROM s1.account a\n",
    "JOIN s1.district d\n",
    "ON a.district_id = d.district_id\n",
    "LIMIT 5;"
   ]
  },
  {
   "cell_type": "markdown",
   "id": "f66bafe6",
   "metadata": {},
   "source": [
    "## Internal joins\n",
    "\n",
    "An internal join combines rows from different tables if the join condition is true.\n",
    "\n",
    "### When to use\n",
    "\n",
    "In the context of DuckDB, we can't explicitly choose an \"internal join\". But in terms of a join operation that uses indexes to expedite the join process, this would be most applicable when you have indexed your join columns, and these indexes can be effectively used by the database engine to perform the join operation faster."
   ]
  },
  {
   "cell_type": "code",
   "execution_count": null,
   "id": "203fbe14",
   "metadata": {},
   "outputs": [],
   "source": [
    "%%sql\n",
    "SELECT *\n",
    "FROM s1.account a\n",
    "JOIN s1.district d ON a.district_id = d.district_id\n",
    "JOIN s1.loan l ON a.account_id = l.account_id\n",
    "LIMIT 5;"
   ]
  },
  {
   "cell_type": "markdown",
   "id": "371b1f7b",
   "metadata": {},
   "source": [
    "## Join hints\n",
    "\n",
    "Join hints are a way to influence the join strategy chosen by the SQL server. For instance, you can suggest using a loop, hash, or merge join.\n",
    "\n",
    "### When to use\n",
    "\n",
    "DuckDB does not support join hints. The optimizer in DuckDB chooses the join method based on the table statistics and query specifics. In most cases, letting the optimizer make this decision is the best choice."
   ]
  },
  {
   "cell_type": "code",
   "execution_count": null,
   "id": "e25ed7e5",
   "metadata": {},
   "outputs": [],
   "source": [
    "%%sql\n",
    "SELECT /*+ HASH_JOIN(a, l) */ *\n",
    "FROM s1.account a\n",
    "JOIN s1.loan l ON a.account_id = l.account_id\n",
    "LIMIT 5;"
   ]
  },
  {
   "cell_type": "markdown",
   "id": "13831beb",
   "metadata": {},
   "source": [
    "## Exercise 1\n",
    "\n",
    "Given an account id (e.g., 1787), retrieve all loan records for that account.\n",
    "\n",
    "<!-- #region -->\n",
    "<details>\n",
    "\n",
    "<summary>Answers</summary>\n",
    "\n",
    "We can use a Nested-loop Join on `s1.account` as `a` and `s1.loan` as `l` where the `account_id` matches in each table, and where the `account_id` is `1787`."
   ]
  },
  {
   "cell_type": "code",
   "execution_count": null,
   "id": "4f4ae74f",
   "metadata": {},
   "outputs": [],
   "source": [
    "%%sql \n",
    "SELECT *\n",
    "FROM s1.account a\n",
    "JOIN s1.loan l ON a.account_id = l.account_id\n",
    "WHERE a.account_id = 1787;"
   ]
  },
  {
   "cell_type": "markdown",
   "id": "d75c54b1",
   "metadata": {},
   "source": [
    "</details>\n",
    "<!-- #endregion -->\n",
    "\n",
    "## Exercise 2\n",
    "\n",
    "Retrieve all account and district information for accounts with district_id between 10 and 20.\n",
    "\n",
    "<!-- #region -->\n",
    "<details>\n",
    "\n",
    "<summary>Answers</summary>\n",
    "\n",
    "We can use a Merge Join on `s1.account` as `a` and `s1.district` as `d` where the `district_id` matches in each table, and where the `district_id` is between 10 and 20."
   ]
  },
  {
   "cell_type": "code",
   "execution_count": null,
   "id": "052d2fef",
   "metadata": {},
   "outputs": [],
   "source": [
    "%%sql \n",
    "SELECT *\n",
    "FROM s1.account a\n",
    "JOIN s1.district d ON a.district_id = d.district_id\n",
    "WHERE d.district_id BETWEEN 10 AND 20;"
   ]
  },
  {
   "cell_type": "markdown",
   "id": "b3e3bb52",
   "metadata": {},
   "source": [
    "</details>\n",
    "<!-- #endregion -->\n",
    "\n",
    "## Exercise 3\n",
    "\n",
    "Retrieve all account, loan and district information.\n",
    "\n",
    "<!-- #region -->\n",
    "<details>\n",
    "\n",
    "<summary>Answers</summary>\n",
    "\n",
    "We can use a Hash Join on `s1.account` as `a` and `s1.district` as `d` where the `district_id` matches in each table. We can then join this to the `s1.loan` table as `l` where the `account_id` in `a` and `l` match."
   ]
  },
  {
   "cell_type": "code",
   "execution_count": null,
   "id": "3193fe6f",
   "metadata": {},
   "outputs": [],
   "source": [
    "%%sql \n",
    "SELECT *\n",
    "FROM s1.account a\n",
    "JOIN s1.district d ON a.district_id = d.district_id\n",
    "JOIN s1.loan l ON a.account_id = l.account_id;"
   ]
  },
  {
   "cell_type": "markdown",
   "id": "da5ba53a",
   "metadata": {},
   "source": [
    "</details>\n",
    "<!-- #endregion -->\n",
    "\n",
    "## Conclusion\n",
    "\n",
    "In this tutorial, we have explored advanced join operations in SQL, including nested-loop joins, merge joins, hash joins, internal joins, and the concept of join hints. We learned how to utilize these different join methods in SQL queries and understood the specific scenarios in which each type of join is most efficient.\n",
    "\n",
    "We used DuckDB as our SQL engine and the banking dataset for our exercises. DuckDB is an excellent tool for SQL queries because of its ease of use and integration with the Jupyter notebook environment. However, it's important to note that DuckDB's query optimizer chooses the join method based on the table statistics and query specifics. So while the SQL examples in this tutorial illustrate the syntax and usage of different types of joins, the actual join type chosen by DuckDB might differ."
   ]
  }
 ],
 "metadata": {
  "kernelspec": {
   "display_name": "jupyblog",
   "language": "python",
   "name": "python3"
  }
 },
 "nbformat": 4,
 "nbformat_minor": 5
}
