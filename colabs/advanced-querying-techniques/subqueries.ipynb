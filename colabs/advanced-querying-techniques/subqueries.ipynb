{
 "cells": [
  {
   "cell_type": "markdown",
   "id": "74631d24",
   "metadata": {},
   "source": [
    "# Using subqueries\n",
    "\n",
    "A subquery is a technique that essentially embeds a query within another query. It enables users to run a query that has some kind of relation to another query in the same SQL statement. \n",
    "\n",
    "Let's demonstrate how powerful subqueries are by continuing with our banking data.\n",
    "\n",
    "<!-- region -->\n",
    "\n",
    "## Install - execute this once.\n",
    "\n",
    "```{important}\n",
    "<b>Note:</b> The `--save` and `%sqlcmd` features used require the latest JupySQL version. Ensure you run the code below to update JupySQL.\n",
    "```\n",
    "\n",
    "This code installs JupySQL, DuckDB, and Pandas in your environment. We will be using these moving forward."
   ]
  },
  {
   "cell_type": "code",
   "execution_count": null,
   "id": "0416da42",
   "metadata": {},
   "outputs": [],
   "source": [
    "%pip install jupysql --upgrade duckdb-engine pandas --quiet"
   ]
  },
  {
   "cell_type": "markdown",
   "id": "cdc35327",
   "metadata": {},
   "source": [
    "## Load the data\n",
    "\n",
    "```{important}\n",
    "<b>Note:</b> If you are following these lessons locally and <b>not</b> on Google Colab, then there is no need to load the data again. \n",
    "```\n",
    "\n",
    "This section was covered in detail in the previous tutorial: [Joining Data in SQL](https://ploomber-sql.readthedocs.io/en/latest/intro-to-sql/joining-data-in-sql.html#load-the-data). We will be using the same data in this tutorial as well."
   ]
  },
  {
   "cell_type": "code",
   "execution_count": null,
   "id": "47e1d0fb",
   "metadata": {},
   "outputs": [],
   "source": [
    "import sys\n",
    "\n",
    "sys.path.insert(0, \"../../\")\n",
    "import banking  # noqa: E402\n",
    "\n",
    "_ = banking.MarketData(\"https://tinyurl.com/jb-bank-m\", \"expanded_data\")\n",
    "_.extract_asc_to_csv()"
   ]
  },
  {
   "cell_type": "markdown",
   "id": "e3356b56",
   "metadata": {},
   "source": [
    "If you ran the above cell, you should have a folder `expanded_data` in your current directory that contains the `.csv` files we will be using. In this tutorial, we will be focusing on three of these files: `loan.csv`, `account.csv`, `district.csv`.\n",
    "\n",
    "## Load Engine\n",
    "\n",
    "We now load in our SQL extension that allows us to execute SQL queries in Jupyter Notebooks.\n",
    "\n",
    "```{important}\n",
    "<b>Note</b> Ensure you restart any previous notebook that has the same database name as the one initialized below.\n",
    "```"
   ]
  },
  {
   "cell_type": "code",
   "execution_count": null,
   "id": "f9ac5105",
   "metadata": {},
   "outputs": [],
   "source": [
    "# Loading in SQL extension\n",
    "%reload_ext sql\n",
    "# Initiating a DuckDB database named 'bank_data.duck.db' to run SQL queries\n",
    "%sql duckdb:///bank_data.duck.db"
   ]
  },
  {
   "cell_type": "markdown",
   "id": "22750657",
   "metadata": {},
   "source": [
    "<!-- endregion -->\n",
    "\n",
    "## Creating Tables\n",
    "\n",
    "Let's start off with loading three of the eight `.csv` files from the `expanded_data` folder in the current directory to our newly created DuckDB database. Like in the previous tutorial, we will [create a schema](https://ploomber-sql.readthedocs.io/en/latest/intro-to-sql/joining-data-in-sql.html#creating-a-schema) `s1` in which we will store the tables. Here we use the `CREATE TABLE` syntax in DuckDB to ingest four of the eight `.csv` files. The `read_csv_auto` is a function that helps SQL understand our local `.csv` file for creation into our database."
   ]
  },
  {
   "cell_type": "code",
   "execution_count": null,
   "id": "b4c7b99e",
   "metadata": {},
   "outputs": [],
   "source": [
    "%%sql\n",
    "CREATE SCHEMA s1;\n",
    "CREATE TABLE s1.account AS\n",
    "FROM read_csv_auto('expanded_data/account.csv', header=True, sep=',');\n",
    "CREATE TABLE s1.district AS\n",
    "FROM read_csv_auto('expanded_data/district.csv', header=True, sep=',');\n",
    "CREATE TABLE s1.loan AS\n",
    "FROM read_csv_auto('expanded_data/loan.csv', header=True, sep=',');"
   ]
  },
  {
   "cell_type": "markdown",
   "id": "d01e2c06",
   "metadata": {},
   "source": [
    "## Queries\n",
    "\n",
    "Let's first load each table for reference and to better understand their contents."
   ]
  },
  {
   "cell_type": "code",
   "execution_count": null,
   "id": "be4abb48",
   "metadata": {},
   "outputs": [],
   "source": [
    "%%sql\n",
    "SELECT *\n",
    "FROM s1.account\n",
    "LIMIT 5"
   ]
  },
  {
   "cell_type": "code",
   "execution_count": null,
   "id": "da75df83",
   "metadata": {},
   "outputs": [],
   "source": [
    "%%sql\n",
    "SELECT *\n",
    "FROM s1.district\n",
    "LIMIT 5"
   ]
  },
  {
   "cell_type": "code",
   "execution_count": null,
   "id": "131931f5",
   "metadata": {},
   "outputs": [],
   "source": [
    "%%sql\n",
    "SELECT *\n",
    "FROM s1.loan\n",
    "LIMIT 5"
   ]
  },
  {
   "cell_type": "markdown",
   "id": "fc49079b",
   "metadata": {},
   "source": [
    "### Subquery in SELECT\n",
    "\n",
    "The query belows results in the average loan amount for each `account_id` by having a subquery in the `SELECT` clause."
   ]
  },
  {
   "cell_type": "code",
   "execution_count": null,
   "id": "f7e2732e",
   "metadata": {},
   "outputs": [],
   "source": [
    "%%sql\n",
    "SELECT s1.account.account_id, s1.account.date, \n",
    "      (SELECT AVG(s1.loan.amount) \n",
    "      FROM s1.loan \n",
    "      WHERE s1.loan.account_id = s1.account.account_id\n",
    "      ) AS average_loan_amount\n",
    "FROM s1.account \n",
    "WHERE average_loan_amount IS NOT NULL\n",
    "ORDER BY average_loan_amount\n",
    "LIMIT 5"
   ]
  },
  {
   "cell_type": "markdown",
   "id": "32b2c2a8",
   "metadata": {},
   "source": [
    "The above SQL statement is quite verbose. Let's instead utilize aliases to make the query more readable."
   ]
  },
  {
   "cell_type": "code",
   "execution_count": null,
   "id": "20ba474d",
   "metadata": {},
   "outputs": [],
   "source": [
    "%%sql\n",
    "SELECT a.account_id,\n",
    "      (SELECT AVG(l.amount) \n",
    "      FROM s1.loan AS l \n",
    "      WHERE l.account_id = a.account_id\n",
    "      ) AS average_loan_amount\n",
    "FROM s1.account AS a\n",
    "WHERE average_loan_amount IS NOT NULL\n",
    "ORDER BY average_loan_amount"
   ]
  },
  {
   "cell_type": "markdown",
   "id": "ced4d89c",
   "metadata": {},
   "source": [
    "Let's first focus on the \"outer query\" of this statement. The outer query is everything in the SQL statement besides the second argument in the `SELECT` clause. This outer query results in just the `account_id` from the `s1.account` table. The \"inner query\" is the second argument in the `SELECT` statement. This query is called for each row from the outer query, which finds the average loan amount for each account by relation in the inner query's `WHERE` clause.\n",
    "\n",
    "In these datasets, each account actually only has one loan. We solely specify the `AVG()` function for demonstration purposes. We also specify `IS NOT NULL` because only 682 accounts actually have loans. The remaining accounts would have a `NULL` value. \n",
    "\n",
    "### Subquery in FROM\n",
    "\n",
    "In the query below, we find the average loan amount by district name while utilizing a subquery in a `FROM` clause."
   ]
  },
  {
   "cell_type": "code",
   "execution_count": null,
   "id": "76e1c748",
   "metadata": {},
   "outputs": [],
   "source": [
    "%%sql\n",
    "SELECT d.district_name, \n",
    "       ROUND(AVG(inner_query.amount),2) AS average_loan_amount\n",
    "FROM \n",
    "    (SELECT l.loan_id, \n",
    "            l.amount, \n",
    "            a.district_id \n",
    "    FROM s1.loan AS l \n",
    "    INNER JOIN s1.account AS a \n",
    "      ON l.account_id = a.account_id\n",
    "    ) AS inner_query\n",
    "INNER JOIN s1.district AS d\n",
    "  ON inner_query.district_id = d.district_id\n",
    "GROUP BY d.district_name"
   ]
  },
  {
   "cell_type": "markdown",
   "id": "166b38a4",
   "metadata": {},
   "source": [
    "This query demonstrates how to have a subquery act as another table when performing an `INNER JOIN` in the outer query. There is also an `INNER JOIN` in the inner query that creates a joined table between the `s1.account` and `s1.loan` tables. This subquery then gives us the necessary information to join with our `s1.district` table.\n",
    "\n",
    "The query shown above can be easily implemented using JupySQL's `--save` feature. This feature essentially allows us to save a query and use it for future use. We implement the `--save` feature below by recreating the previous query.\n",
    "\n",
    "We first `--save` the subquery as `loan_amount_district_id`."
   ]
  },
  {
   "cell_type": "code",
   "execution_count": null,
   "id": "0116526c",
   "metadata": {},
   "outputs": [],
   "source": [
    "%%sql --save loan_amount_district_id\n",
    "SELECT l.loan_id, \n",
    "        l.amount, \n",
    "        a.district_id \n",
    "FROM s1.loan AS l \n",
    "INNER JOIN s1.account AS a \n",
    "    ON l.account_id = a.account_id"
   ]
  },
  {
   "cell_type": "markdown",
   "id": "96e983be",
   "metadata": {},
   "source": [
    "Then call the saved subquery and use it to complete our overall query."
   ]
  },
  {
   "cell_type": "code",
   "execution_count": null,
   "id": "3d31c8f5",
   "metadata": {},
   "outputs": [],
   "source": [
    "%%sql \n",
    "SELECT d.district_name, \n",
    "       ROUND(AVG(inner_query.amount),2) AS average_loan_amount\n",
    "FROM (SELECT *\n",
    "      FROM loan_amount_district_id) AS inner_query\n",
    "INNER JOIN s1.district AS d \n",
    "    ON inner_query.district_id = d.district_id\n",
    "GROUP BY d.district_name"
   ]
  },
  {
   "cell_type": "markdown",
   "id": "a3ef0ce3",
   "metadata": {},
   "source": [
    "### Subquery in WHERE\n",
    "\n",
    "This example calls a subquery from a statement's `WHERE` clause."
   ]
  },
  {
   "cell_type": "code",
   "execution_count": null,
   "id": "8e19c2ca",
   "metadata": {},
   "outputs": [],
   "source": [
    "%%sql\n",
    "SELECT *\n",
    "FROM s1.loan\n",
    "WHERE amount > (\n",
    "  SELECT AVG(amount) \n",
    "  FROM s1.loan \n",
    "  WHERE status = 'A'\n",
    ")"
   ]
  },
  {
   "cell_type": "markdown",
   "id": "b18028db",
   "metadata": {},
   "source": [
    "With this query, we are able to see all loans that are greater than the average loan amount for 'A' status loans.\n",
    "\n",
    "Let's again demonstrate how we can use `--save` to recreate this query."
   ]
  },
  {
   "cell_type": "code",
   "execution_count": null,
   "id": "33d58f77",
   "metadata": {},
   "outputs": [],
   "source": [
    "%%sql --save avg_A_amount\n",
    "SELECT AVG(amount) \n",
    "FROM s1.loan \n",
    "WHERE status = 'A'"
   ]
  },
  {
   "cell_type": "code",
   "execution_count": null,
   "id": "7731162f",
   "metadata": {},
   "outputs": [],
   "source": [
    "%%sql\n",
    "SELECT *\n",
    "FROM s1.loan\n",
    "WHERE amount > (\n",
    "  SELECT *\n",
    "  FROM avg_A_amount) "
   ]
  },
  {
   "cell_type": "markdown",
   "id": "44ce8261",
   "metadata": {},
   "source": [
    "Note that we do not have to assign an alias to our saved query because none of its variables are in the outer query's `SELECT` clause.\n",
    "\n",
    "## Examining Our Snippets with JupySQL\n",
    "\n",
    "To examine all of our saved queries with `--save`, we can use `%sqlcmd snippets`."
   ]
  },
  {
   "cell_type": "code",
   "execution_count": null,
   "id": "915cc581",
   "metadata": {},
   "outputs": [],
   "source": [
    "%sqlcmd snippets"
   ]
  },
  {
   "cell_type": "markdown",
   "id": "b31d7113",
   "metadata": {},
   "source": [
    "Our saved queries (also known as snippets) can be deleted with the `--delete` feature.\n",
    "For more information on snippets, please visit JupySQL's official documentation [here].(https://jupysql.ploomber.io/en/latest/api/magic-snippets.html)\n",
    "\n",
    "## Viewing Our Tables with JupySQL\n",
    "\n",
    "JupySQL also has features that allow for quick displays of tables and their columns. We can examine them with `%sqlcmd tables` and `%sqlcmd columns`."
   ]
  },
  {
   "cell_type": "code",
   "execution_count": null,
   "id": "9fb9e288",
   "metadata": {},
   "outputs": [],
   "source": [
    "%sqlcmd tables -s s1"
   ]
  },
  {
   "cell_type": "markdown",
   "id": "96580f9f",
   "metadata": {},
   "source": [
    "The above code cell shows all tables under the `s1` schema. Recall that we assigned a schema to these tables at the beginning of this section.\n",
    "\n",
    "`%sqlcmd columns` allows us to examine each column in a table with added additional information."
   ]
  },
  {
   "cell_type": "code",
   "execution_count": null,
   "id": "277d22fe",
   "metadata": {},
   "outputs": [],
   "source": [
    "%sqlcmd columns -s s1 -t account"
   ]
  },
  {
   "cell_type": "markdown",
   "id": "d52ea677",
   "metadata": {},
   "source": [
    "In the above code-cell, we specify the schema and the table under the schema to examine.\n",
    "\n",
    "<b>Note:</b> for now, JupySQL does not support the use of these magic commands with queries saved with `--save`. \n",
    "\n",
    "For more information on these magic commands, please visit JupySQL's official documentation [here].(https://jupysql.ploomber.io/en/latest/api/magic-tables-columns.html)\n",
    "\n",
    "## You try: Use JupySQL to perform the queries and answer the questions.\n",
    "\n",
    "### Question 1 (Easy):\n",
    "Query loans with an `amount` greater than or equal to the `AVG()` loan amount. Utilize the `--save` feature to help you solve this question.\n",
    "\n",
    "<!-- #region -->\n",
    "<details>\n",
    "\n",
    "<summary>Answers</summary>\n",
    "\n",
    "First, create a snippet with `--save` containing the `AVG()` loan amount."
   ]
  },
  {
   "cell_type": "code",
   "execution_count": null,
   "id": "86238cac",
   "metadata": {},
   "outputs": [],
   "source": [
    "%%sql --save average_loan_amount\n",
    "SELECT AVG(amount)\n",
    "FROM s1.loan"
   ]
  },
  {
   "cell_type": "markdown",
   "id": "44ab222e",
   "metadata": {},
   "source": [
    "Then we reference `average_loan_amount` as a subquery to filter for loan id's that are greater than or equal to this average."
   ]
  },
  {
   "cell_type": "code",
   "execution_count": null,
   "id": "edc060c3",
   "metadata": {},
   "outputs": [],
   "source": [
    "%%sql\n",
    "SELECT loan_id\n",
    "FROM s1.loan\n",
    "WHERE amount >= (SELECT * \n",
    "                FROM average_loan_amount)"
   ]
  },
  {
   "cell_type": "markdown",
   "id": "8ef4c85f",
   "metadata": {},
   "source": [
    "</details>\n",
    "<!-- #endregion -->\n",
    "\n",
    "\n",
    "### Question 2 (Medium):\n",
    "Find all `account_id`'s that have a loan alongside with their loan status, their loan amount, and the average loan amount for their loan's loan status. Order by `account_id`.\n",
    "\n",
    "\n",
    "<!-- #region -->\n",
    "<details>\n",
    "\n",
    "<summary>Answers</summary>\n",
    "\n",
    "The difficult part of this question lies in the second `INNER JOIN`. This second `INNER JOIN` uses a subquery to have the average amount of each 'status'. This information is used when calling the last `INNER JOIN` on the outer query's 'status' variable."
   ]
  },
  {
   "cell_type": "code",
   "execution_count": null,
   "id": "785f2c02",
   "metadata": {},
   "outputs": [],
   "source": [
    "%%sql\n",
    "SELECT a.account_id, \n",
    "       l.status AS loan_status, \n",
    "       l.amount AS loan_amount, \n",
    "       ROUND(avg_status_loan.amount,2) AS average_loan_amount\n",
    "FROM \n",
    "    s1.account AS a\n",
    "INNER JOIN \n",
    "    s1.loan AS l ON a.account_id = l.account_id\n",
    "INNER JOIN (SELECT status, \n",
    "                   AVG(amount) AS amount\n",
    "            FROM s1.loan\n",
    "            GROUP BY status\n",
    "            ) AS avg_status_loan ON l.status = avg_status_loan.status\n",
    "ORDER BY a.account_id"
   ]
  },
  {
   "cell_type": "markdown",
   "id": "3bf78209",
   "metadata": {},
   "source": [
    "</details>\n",
    "<!-- #endregion -->\n",
    "\n",
    "### Question 3 (Hard):\n",
    "Query the `district_id` and `district_name` that have the highest amount of loans for each loan status type.\n",
    "\n",
    "To answer this question, let's quickly learn about `UNION ALL`. `UNION ALL` is a clause that concatenates rows on top of each other. An example is shown below.\n",
    "\n",
    "Using `UNION ALL`, we can achieve the correct results. Try to incorporate the `--save` feature to make your query easier to read.\n",
    "\n",
    "<!-- #region -->\n",
    "<details>\n",
    "<summary>Answers</summary>\n",
    "\n",
    "We find the district with the highest loan status type by first joining the three necessary tables `s1.account`, `s1.district`, and `s1.loan`. These three tables are used in an inner query for each loan status type. Then, in each of these inner queries, we query the district id, district name, and the count of the first row after ordering by count. We finalize the query by \"stacking\" these results with `UNION ALL`."
   ]
  },
  {
   "cell_type": "code",
   "execution_count": null,
   "id": "c65db991",
   "metadata": {},
   "outputs": [],
   "source": [
    "%%sql\n",
    "SELECT district_id, district_name, 'A' as status, count\n",
    "FROM\n",
    "    (SELECT a.district_id, d.district_name, COUNT(*) as count\n",
    "    FROM s1.account a\n",
    "    JOIN s1.loan l ON a.account_id = l.account_id\n",
    "    JOIN s1.district d ON a.district_id = d.district_id\n",
    "    WHERE l.status = 'A'\n",
    "    GROUP BY a.district_id, d.district_name\n",
    "    ORDER BY count DESC\n",
    "    LIMIT 1) as A_max\n",
    "UNION ALL\n",
    "SELECT district_id, district_name, 'B' as status, count\n",
    "FROM\n",
    "    (SELECT a.district_id, d.district_name, COUNT(*) as count\n",
    "    FROM s1.account a\n",
    "    JOIN s1.loan l ON a.account_id = l.account_id\n",
    "    JOIN s1.district d ON a.district_id = d.district_id\n",
    "    WHERE l.status = 'B'\n",
    "    GROUP BY a.district_id, d.district_name\n",
    "    ORDER BY count DESC\n",
    "    LIMIT 1) as B_max\n",
    "UNION ALL\n",
    "SELECT district_id, district_name, 'C' as status, count\n",
    "FROM\n",
    "    (SELECT a.district_id, d.district_name, COUNT(*) as count\n",
    "    FROM s1.account a\n",
    "    JOIN s1.loan l ON a.account_id = l.account_id\n",
    "    JOIN s1.district d ON a.district_id = d.district_id\n",
    "    WHERE l.status = 'C'\n",
    "    GROUP BY a.district_id, d.district_name\n",
    "    ORDER BY count DESC\n",
    "    LIMIT 1) as C_max\n",
    "UNION ALL\n",
    "SELECT district_id, district_name, 'D' as status, count\n",
    "FROM\n",
    "    (SELECT a.district_id, d.district_name, COUNT(*) as count\n",
    "    FROM s1.account a\n",
    "    JOIN s1.loan l ON a.account_id = l.account_id\n",
    "    JOIN s1.district d ON a.district_id = d.district_id\n",
    "    WHERE l.status = 'D'\n",
    "    GROUP BY a.district_id, d.district_name\n",
    "    ORDER BY count DESC\n",
    "    LIMIT 1) as D_max"
   ]
  },
  {
   "cell_type": "markdown",
   "id": "e9eacb6a",
   "metadata": {},
   "source": [
    "We can make the above query easier to understand by using JupySQL's `--save` feature."
   ]
  },
  {
   "cell_type": "code",
   "execution_count": null,
   "id": "2a17bde6",
   "metadata": {},
   "outputs": [],
   "source": [
    "%%sql --save A\n",
    "SELECT a.district_id, d.district_name, COUNT(*) as count\n",
    "FROM s1.account a\n",
    "JOIN s1.loan l ON a.account_id = l.account_id\n",
    "JOIN s1.district d ON a.district_id = d.district_id\n",
    "WHERE l.status = 'A'\n",
    "GROUP BY a.district_id, d.district_name\n",
    "ORDER BY count DESC\n",
    "LIMIT 1"
   ]
  },
  {
   "cell_type": "code",
   "execution_count": null,
   "id": "9c239b01",
   "metadata": {},
   "outputs": [],
   "source": [
    "%%sql --save B\n",
    "SELECT a.district_id, d.district_name, COUNT(*) as count\n",
    "FROM s1.account a\n",
    "JOIN s1.loan l ON a.account_id = l.account_id\n",
    "JOIN s1.district d ON a.district_id = d.district_id\n",
    "WHERE l.status = 'B'\n",
    "GROUP BY a.district_id, d.district_name\n",
    "ORDER BY count DESC\n",
    "LIMIT 1"
   ]
  },
  {
   "cell_type": "code",
   "execution_count": null,
   "id": "9bd3610a",
   "metadata": {},
   "outputs": [],
   "source": [
    "%%sql --save C\n",
    "SELECT a.district_id, d.district_name, COUNT(*) as count\n",
    "FROM s1.account a\n",
    "JOIN s1.loan l ON a.account_id = l.account_id\n",
    "JOIN s1.district d ON a.district_id = d.district_id\n",
    "WHERE l.status = 'C'\n",
    "GROUP BY a.district_id, d.district_name\n",
    "ORDER BY count DESC\n",
    "LIMIT 1"
   ]
  },
  {
   "cell_type": "code",
   "execution_count": null,
   "id": "6f81d274",
   "metadata": {},
   "outputs": [],
   "source": [
    "%%sql --save D\n",
    "SELECT a.district_id, d.district_name, COUNT(*) as count\n",
    "FROM s1.account a\n",
    "JOIN s1.loan l ON a.account_id = l.account_id\n",
    "JOIN s1.district d ON a.district_id = d.district_id\n",
    "WHERE l.status = 'D'\n",
    "GROUP BY a.district_id, d.district_name\n",
    "ORDER BY count DESC\n",
    "LIMIT 1"
   ]
  },
  {
   "cell_type": "markdown",
   "id": "45803a30",
   "metadata": {},
   "source": [
    "We can then use these saved snippets and concatenate their results using `UNION ALL`."
   ]
  },
  {
   "cell_type": "code",
   "execution_count": null,
   "id": "6ea52d65",
   "metadata": {},
   "outputs": [],
   "source": [
    "%%sql\n",
    "SELECT * \n",
    "FROM A \n",
    "UNION ALL \n",
    "SELECT *\n",
    "FROM B\n",
    "UNION ALL\n",
    "SELECT *\n",
    "FROM C\n",
    "UNION ALL\n",
    "SELECT *\n",
    "FROM D"
   ]
  },
  {
   "cell_type": "markdown",
   "id": "bb30980e",
   "metadata": {},
   "source": [
    "</details>\n",
    "<!-- #endregion -->\n",
    "\n",
    "### Question 4 (Bonus):\n",
    "Output the `COUNT()` of of each unique 'status' variable under `s1.loan` that are greater than the average of 'A' type loans. Have the outputs be only five columns for each 'status' type with a single value each alongside with the total number of loans. You must use one or more subqueries.\n",
    "\n",
    "<b>Hint</b> `CASE WHEN` is a clause that acts as a conditional statement when performing other SQL actions. Try to see how you can incorporate `CASE WHEN` with `COUNT()` to answer this question.\n",
    "\n",
    "<!-- #region -->\n",
    "<details>\n",
    "<summary>Answers</summary>\n",
    "\n",
    "For each `SELECT` argument, we are finding the count of each status using `CASE WHEN` to have a \"1\" count when aggregating the 'status' values. This allows our query to have the correct counts for each value given that the loan amount is less than the average 'A' loan amount."
   ]
  },
  {
   "cell_type": "code",
   "execution_count": null,
   "id": "d4d13667",
   "metadata": {},
   "outputs": [],
   "source": [
    "%%sql \n",
    "SELECT COUNT(CASE WHEN status = 'A' THEN 1 END) AS A,\n",
    "       COUNT(CASE WHEN status = 'B' THEN 1 END) AS B,\n",
    "       COUNT(CASE WHEN status = 'C' THEN 1 END) AS C,\n",
    "       COUNT(CASE WHEN status = 'D' THEN 1 END) AS D,\n",
    "       COUNT(*) AS Total\n",
    "FROM s1.loan\n",
    "WHERE amount > (\n",
    "        SELECT AVG(amount)\n",
    "        FROM s1.loan\n",
    "        WHERE status = 'A'\n",
    "    )\n"
   ]
  },
  {
   "cell_type": "markdown",
   "id": "54034621",
   "metadata": {},
   "source": [
    "</details>\n",
    "<!-- #endregion -->\n",
    "\n",
    "\n",
    "## Wrapping Up\n",
    "\n",
    "In this section, we introduced subqueries and how they can be implemented with common clauses. Subqueries are an incredibly powerful and intuitive technique that can serve as an alternative to joins, as well as enable users to utilize the results of one query within another query.\n",
    "\n",
    "We also explored how we can make subqueries more readable using JupySQL's `--save` feature. Alongside this, we introduced some additional JupySQL magic commands such as `%sqlcmd tables` and `%sqlcmd columns` to view current tables in our schema.\n",
    "\n",
    "In the next section, you will learn how to implement more advanced join techniques to your queries."
   ]
  }
 ],
 "metadata": {
  "kernelspec": {
   "display_name": "jupyblog",
   "language": "python",
   "name": "python3"
  }
 },
 "nbformat": 4,
 "nbformat_minor": 5
}
