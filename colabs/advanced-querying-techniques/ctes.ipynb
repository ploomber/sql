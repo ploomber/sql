{
 "cells": [
  {
   "cell_type": "markdown",
   "id": "f38b6560",
   "metadata": {},
   "source": [
    "# Common Table Expressions (CTEs) in SQL\n",
    "\n",
    "In this tutorial, you will learn about Common Table Expressions (CTEs) in SQL and how they can simplify your code. CTEs are temporary result sets that you can reference within other `SELECT`, `INSERT`, `UPDATE`, or `DELETE` statements. They are a powerful tool for constructing complex queries in a readable and user-friendly way. By the end of this tutorial, you will understand how to create and use CTEs in your own SQL queries.\n",
    "\n",
    "## Set up and data access\n",
    "\n",
    "```{important}\n",
    "<b>Note:</b> The --save and %sqlcmd features used require the latest JupySQL version. Ensure you run the code below.\n",
    "```\n",
    "\n",
    "This code installs JupySQL, and DuckDB in your environment. We will be using these moving forward."
   ]
  },
  {
   "cell_type": "code",
   "execution_count": null,
   "id": "78ac8110",
   "metadata": {},
   "outputs": [],
   "source": [
    "%pip install jupysql --upgrade jupysql-plugin --upgrade duckdb-engine --quiet"
   ]
  },
  {
   "cell_type": "markdown",
   "id": "2be9cc8a",
   "metadata": {},
   "source": [
    "We continue to work with the Bank and Marketing data set.\n",
    "\n",
    "```{important}\n",
    "Source: UCI Machine Learning Repository\n",
    "\n",
    "URL: https://archive-beta.ics.uci.edu/dataset/222/bank+marketing\n",
    "\n",
    "Data Citation\n",
    "\n",
    "Moro,S., Rita,P., and Cortez,P.. (2012). Bank Marketing. UCI Machine Learning Repository. https://doi.org/10.24432/C5K306.\n",
    "```\n",
    "\n",
    "We can use the following function to extract the downloaded data from the UCI repository."
   ]
  },
  {
   "cell_type": "code",
   "execution_count": null,
   "id": "424b9787",
   "metadata": {},
   "outputs": [],
   "source": [
    "import banking_data_script\n",
    "from urllib.request import urlretrieve\n",
    "from zipfile import ZipFile\n",
    "import pandas as pd\n",
    "import os\n",
    "\n",
    "\n",
    "def extract_to_csv(url, data_name):\n",
    "    # check if \"bank_data\" folder exists, if not, create it\n",
    "    if not os.path.exists(\"bank_data\"):\n",
    "        os.mkdir(\"bank_data\")\n",
    "\n",
    "    # Retrieve the zip file from the url link\n",
    "    file = os.path.basename(url)\n",
    "    urlretrieve(url, file)\n",
    "\n",
    "    # Extract the zip file's contents\n",
    "    with ZipFile(file, \"r\") as zf:\n",
    "        zf.extractall(\"bank_data\")\n",
    "\n",
    "    # The file containing our data\n",
    "    csv_file_name = f\"{data_name}.csv\"\n",
    "\n",
    "    # Data clean up\n",
    "    df = pd.read_csv(f\"bank_data/{csv_file_name}\", sep=\";\")\n",
    "\n",
    "    # Save the cleaned up CSV file\n",
    "    df.to_csv(df.to_csv(f\"{data_name}_cleaned.csv\", index=False))\n",
    "\n",
    "\n",
    "# Running the above function\n",
    "extract_to_csv(\"https://tinyurl.com/uci-marketing-data\", \"bank\")"
   ]
  },
  {
   "cell_type": "markdown",
   "id": "cd736612",
   "metadata": {},
   "source": [
    "Initialize a DuckDB Instance"
   ]
  },
  {
   "cell_type": "code",
   "execution_count": null,
   "id": "4ebb7ecb",
   "metadata": {},
   "outputs": [],
   "source": [
    "# Loading in SQL extension\n",
    "%reload_ext sql\n",
    "# Initiating a DuckDB database named 'bank.duck.db' to run our SQL queries on\n",
    "%sql duckdb:///bank.duck.db"
   ]
  },
  {
   "cell_type": "markdown",
   "id": "d4247eb7",
   "metadata": {},
   "source": [
    "Load the data"
   ]
  },
  {
   "cell_type": "code",
   "execution_count": null,
   "id": "6736b272",
   "metadata": {},
   "outputs": [],
   "source": [
    "%%sql\n",
    "CREATE OR REPLACE TABLE bank AS\n",
    "FROM read_csv_auto('bank_cleaned.csv', header=True, sep=',')"
   ]
  },
  {
   "cell_type": "markdown",
   "id": "25c3d1d0",
   "metadata": {},
   "source": [
    "We confirm the table was loaded"
   ]
  },
  {
   "cell_type": "code",
   "execution_count": null,
   "id": "f5c29b31",
   "metadata": {},
   "outputs": [],
   "source": [
    "%sqlcmd tables"
   ]
  },
  {
   "cell_type": "markdown",
   "id": "76faf500",
   "metadata": {},
   "source": [
    "We can use [JupySQL's Table Explorer](https://jupysql.ploomber.io/en/latest/user-guide/table_explorer.html) to take a quick look at the table."
   ]
  },
  {
   "cell_type": "code",
   "execution_count": null,
   "id": "2f150260",
   "metadata": {},
   "outputs": [],
   "source": [
    "%sqlcmd explore --table bank"
   ]
  },
  {
   "cell_type": "markdown",
   "id": "28479016",
   "metadata": {},
   "source": [
    "## Simple CTE\n",
    "\n",
    "Let's create a CTE that finds the average balance for each job type."
   ]
  },
  {
   "cell_type": "code",
   "execution_count": null,
   "id": "6d1a0a7b",
   "metadata": {},
   "outputs": [],
   "source": [
    "%%sql\n",
    "WITH Job_Avg_Balance AS (\n",
    "    SELECT job, AVG(balance) AS AverageBalance\n",
    "    FROM bank\n",
    "    GROUP BY job\n",
    ")\n",
    "SELECT * \n",
    "FROM Job_Avg_Balance;"
   ]
  },
  {
   "cell_type": "markdown",
   "id": "7e0a1ac7",
   "metadata": {},
   "source": [
    "In this example, the `WITH` keyword indicates the start of the CTE, which we call `Job_Avg_Balance`.\n",
    "\n",
    "Within the `Job_Avg_Balance` CTE, we form a query that returns the average balance for each job by computing the average of `balance` and grouping by `job`. \n",
    "\n",
    "After closing the `WITH` statement, we then select all columns from the `Job_Avg_Balance` CTE. This returns two columns: `job` and `AverageBalance`. The final `SELECT` statement then retrieves the data from the CTE.\n",
    "\n",
    "## Multiple CTEs\n",
    "\n",
    "You can use multiple CTEs in a single query. Let's find the average balance per job type and average campaign per job type."
   ]
  },
  {
   "cell_type": "code",
   "execution_count": null,
   "id": "88e71b6a",
   "metadata": {},
   "outputs": [],
   "source": [
    "%%sql\n",
    "WITH Job_Avg_Balance AS (\n",
    "    SELECT job, AVG(balance) AS AverageBalance\n",
    "    FROM bank\n",
    "    GROUP BY job\n",
    "),\n",
    "Job_Avg_Campaign AS (\n",
    "    SELECT job, AVG(campaign) AS AverageCampaign\n",
    "    FROM bank\n",
    "    GROUP BY job\n",
    ")\n",
    "SELECT * \n",
    "FROM Job_Avg_Balance, Job_Avg_Campaign \n",
    "WHERE Job_Avg_Balance.job = Job_Avg_Campaign.job;"
   ]
  },
  {
   "cell_type": "markdown",
   "id": "896a4313",
   "metadata": {},
   "source": [
    "In this example, the first CTE is the same as in the previous example. The second CTE `Job_Avg_Campaign` returns two columns: `job_1` and `AverageCampaign`. The final SELECT statement retrieves data from both CTEs. Notice that the entries.\n",
    "\n",
    "You will notice `job` and `job_1` in the final result. This is because we are doing a Cartesian product (cross join) between two CTEs and both have a column named `job`. We can avoid this by explicitly specifying the columns you want to select in our final `SELECT` statement instead of using `SELECT *`."
   ]
  },
  {
   "cell_type": "code",
   "execution_count": null,
   "id": "97888a1f",
   "metadata": {},
   "outputs": [],
   "source": [
    "%%sql\n",
    "WITH Job_Avg_Balance AS (\n",
    "    SELECT job, AVG(balance) AS AverageBalance\n",
    "    FROM bank\n",
    "    GROUP BY job\n",
    "),\n",
    "Job_Avg_Campaign AS (\n",
    "    SELECT job, AVG(campaign) AS AverageCampaign\n",
    "    FROM bank\n",
    "    GROUP BY job\n",
    ")\n",
    "SELECT Job_Avg_Balance.job, AverageBalance, AverageCampaign\n",
    "FROM Job_Avg_Balance\n",
    "JOIN Job_Avg_Campaign \n",
    "ON Job_Avg_Balance.job = Job_Avg_Campaign.job;"
   ]
  },
  {
   "cell_type": "markdown",
   "id": "5c203bff",
   "metadata": {},
   "source": [
    "## Recursive CTEs\n",
    "\n",
    "A recursive CTE is one in which an initial CTE is repeatedly executed to return subsets of data until the complete result set is obtained.\n",
    "\n",
    "The given dataset doesn't lend itself to a recursive CTE, as these are generally used for hierarchical or recursive data problems, which the bank dataset does not present.\n",
    "\n",
    "Here is an example of a recursive CTE"
   ]
  },
  {
   "cell_type": "code",
   "execution_count": null,
   "id": "b26b1e3f",
   "metadata": {},
   "outputs": [],
   "source": [
    "%%sql\n",
    "WITH RECURSIVE numbers AS (\n",
    "    SELECT 1 AS value\n",
    "    UNION ALL\n",
    "    SELECT value + 1 FROM numbers WHERE value < 10\n",
    ")\n",
    "SELECT * FROM numbers;"
   ]
  },
  {
   "cell_type": "markdown",
   "id": "82ea0317",
   "metadata": {},
   "source": [
    "This will output a list of numbers from 1 to 10. The CTE works as follows:\n",
    "\n",
    "* The `WITH RECURSIVE` clause marks the start of the recursive CTE.\n",
    "* The `SELECT 1 AS value` is the \"anchor member\" of the CTE and provides the base result set for the recursion to start.\n",
    "* The `UNION ALL` clause is used to combine the results of the anchor member with the results of the \"recursive member\", which is `SELECT value + 1 FROM numbers WHERE value < 10`.\n",
    "* The recursion continues until `value < 10` returns false, at which point the CTE stops executing.\n",
    "\n",
    "## Using CTEs to modify information in a table\n",
    "\n",
    "```{important}\n",
    "Without a unique identifier for each row in your table, performing UPDATE or DELETE operations using a CTE would be risky because they could affect more rows than you intend. \n",
    "```\n",
    "\n",
    "It's generally not recommended to use UPDATE or DELETE without a unique identifier or precise condition to pinpoint exactly which rows you want to affect. We're going to load data from the [Joining Data in SQL tutorial](https://ploomber-sql.readthedocs.io/en/latest/intro-to-sql/joining-data-in-sql.html#load-the-data) as this data has tables with unique ids."
   ]
  },
  {
   "cell_type": "code",
   "execution_count": null,
   "id": "8768c4d2",
   "metadata": {},
   "outputs": [],
   "source": [
    "# ZIP file download link\n",
    "link = \"http://sorry.vse.cz/~berka/challenge/pkdd1999/data_berka.zip\"\n",
    "# Naming our folder that will hold our .csv files\n",
    "output = \"expanded_data\"\n",
    "banking_data_script.extract_asc_to_csv(link, output)"
   ]
  },
  {
   "cell_type": "markdown",
   "id": "3123d9a9",
   "metadata": {},
   "source": [
    "Let's work on a separate DuckDB instance"
   ]
  },
  {
   "cell_type": "code",
   "execution_count": null,
   "id": "7cdf2bdd",
   "metadata": {},
   "outputs": [],
   "source": [
    "# Loading in SQL extension\n",
    "%reload_ext sql\n",
    "# Initiating a DuckDB database named 'bank_data.duck.db' to run SQL queries\n",
    "%sql duckdb:///bank_data.duck.db"
   ]
  },
  {
   "cell_type": "code",
   "execution_count": null,
   "id": "5fdc009a",
   "metadata": {},
   "outputs": [],
   "source": [
    "%%sql\n",
    "CREATE SCHEMA s1;\n",
    "CREATE TABLE s1.district AS\n",
    "FROM read_csv_auto('expanded_data/district.csv', header=True, sep=',');"
   ]
  },
  {
   "cell_type": "markdown",
   "id": "7c2736cd",
   "metadata": {},
   "source": [
    "Let's take a look at the entries"
   ]
  },
  {
   "cell_type": "code",
   "execution_count": null,
   "id": "6dcb5d35",
   "metadata": {},
   "outputs": [],
   "source": [
    "%sqlcmd explore --table s1.district"
   ]
  },
  {
   "cell_type": "markdown",
   "id": "87f45c2e",
   "metadata": {},
   "source": [
    "Let's say `district_id` is a unique identifier for each district.\n",
    "\n",
    "## CTE with UPDATE\n",
    "\n",
    "When working with `UPDATE` or `DELETE` operations, it is highly recommended to check your data before and after the operations. This helps to verify that the operations were successful and only affected the intended data.\n",
    "\n",
    "Suppose we want to update the `average_salary` for districts that had more than 5000 committed crimes in 1996 to be increased by 10%.\n",
    "\n",
    "\n",
    "Check data before the operation:"
   ]
  },
  {
   "cell_type": "code",
   "execution_count": null,
   "id": "9a39cd96",
   "metadata": {},
   "outputs": [],
   "source": [
    "%%sql\n",
    "SELECT district_id, average_salary\n",
    "FROM s1.district\n",
    "WHERE no_of_committed_crimes_96 > 5000;"
   ]
  },
  {
   "cell_type": "markdown",
   "id": "502cb710",
   "metadata": {},
   "source": [
    "This is returning all entries that satisfy number of crimes committed in '96 exceeds 5000.\n",
    "\n",
    "Perform the update:"
   ]
  },
  {
   "cell_type": "code",
   "execution_count": null,
   "id": "b0fd78cd",
   "metadata": {},
   "outputs": [],
   "source": [
    "%%sql\n",
    "WITH High_Crime_Districts AS (\n",
    "    SELECT district_id\n",
    "    FROM s1.district\n",
    "    WHERE no_of_committed_crimes_96 > 5000\n",
    ")\n",
    "UPDATE s1.district\n",
    "SET average_salary = average_salary * 1.10\n",
    "WHERE district_id IN (SELECT district_id FROM High_Crime_Districts);"
   ]
  },
  {
   "cell_type": "markdown",
   "id": "adf2153b",
   "metadata": {},
   "source": [
    "In this example, we are writing a CTE that selects the `district_id` entries that satisfy the condition `no_of_committed_crimes_96 > 5000`. We can all this CTE `High_Crime_Districts`. \n",
    "\n",
    "We then use `High_Crime_Districts` to change entries in average salary by increasing it by 10% (`average_salary = average_salary * 1.10`), and ensure this is done in only those entries in the `district_id` found in the CTE `High_Crime_Districts`.\n",
    "\n",
    "Check data after the operation:"
   ]
  },
  {
   "cell_type": "code",
   "execution_count": null,
   "id": "83c16db1",
   "metadata": {},
   "outputs": [],
   "source": [
    "%%sql\n",
    "SELECT district_id, average_salary\n",
    "FROM s1.district\n",
    "WHERE no_of_committed_crimes_96 > 5000;"
   ]
  },
  {
   "cell_type": "markdown",
   "id": "8fd09f1a",
   "metadata": {},
   "source": [
    "## CTE with DELETE\n",
    "\n",
    "Suppose we want to delete records for all districts with unemployment rate in '96 greater than 4.\n",
    "\n",
    "The query below selects only those entries for which `unemployment_rate_96` is at least 4.\n",
    "\n",
    "Check data before the operation:"
   ]
  },
  {
   "cell_type": "code",
   "execution_count": null,
   "id": "16643e2e",
   "metadata": {},
   "outputs": [],
   "source": [
    "%%sql\n",
    "SELECT * \n",
    "FROM s1.district\n",
    "WHERE unemployment_rate_96 > 4;"
   ]
  },
  {
   "cell_type": "markdown",
   "id": "197d716f",
   "metadata": {},
   "source": [
    "Perform the update."
   ]
  },
  {
   "cell_type": "code",
   "execution_count": null,
   "id": "2ff9e50b",
   "metadata": {},
   "outputs": [],
   "source": [
    "%%sql\n",
    "WITH High_Unemployment_Districts AS (\n",
    "    SELECT district_id\n",
    "    FROM s1.district\n",
    "    WHERE unemployment_rate_96 > 4\n",
    ")\n",
    "DELETE FROM s1.district\n",
    "WHERE district_id IN (SELECT district_id FROM High_Unemployment_Districts);"
   ]
  },
  {
   "cell_type": "markdown",
   "id": "6bc2ad20",
   "metadata": {},
   "source": [
    "We create a CTE called `High_Unemployment_Districts` that selects only those `district_id` whose unemployment rate in '96 exceeds 4. \n",
    "\n",
    "We then use the `DELETE` operation to remove all entries from the `s1.district` for only those `district_id` in the CTE `High_Unemployment_Districts`.\n",
    "\n",
    "Check data after the operation:"
   ]
  },
  {
   "cell_type": "code",
   "execution_count": null,
   "id": "10a2cfda",
   "metadata": {},
   "outputs": [],
   "source": [
    "%%sql\n",
    "SELECT * \n",
    "FROM s1.district\n",
    "WHERE unemployment_rate_96 > 4;"
   ]
  },
  {
   "cell_type": "markdown",
   "id": "f60fceb2",
   "metadata": {},
   "source": [
    "In both these examples, the operation will only affect the rows that match the conditions specified in the CTEs. The `UPDATE` operation will increase the `average_salary` of high crime districts by 10%, and the `DELETE` operation will remove all districts with high unemployment rate.\n",
    "\n",
    "## Exercise 1 (Easy)\n",
    "\n",
    "What is a Common Table Expression (CTE), and what is its primary use in SQL queries?\n",
    "\n",
    "<!-- #region -->\n",
    "<details>\n",
    "\n",
    "<summary>Answers</summary>\n",
    "\n",
    "A Common Table Expression (CTE) is a temporary result set that you can reference within another SELECT, INSERT, UPDATE, or DELETE statement. The main use of CTEs is to simplify complex SQL queries, particularly those involving multiple levels of subqueries. They make your SQL code more readable and maintainable.\n",
    "\n",
    "\n",
    "</details>\n",
    "<!-- #endregion -->\n",
    "\n",
    "<!-- #region -->\n",
    "<details>\n",
    "\n",
    "## Exercise 2 (Medium)\n",
    "\n",
    "Write a SQL query using a CTE that returns the total number of inhabitants for each region in the provided dataset.\n",
    "\n",
    "<summary>Answers</summary>"
   ]
  },
  {
   "cell_type": "code",
   "execution_count": null,
   "id": "ea228144",
   "metadata": {},
   "outputs": [],
   "source": [
    "%%sql \n",
    "WITH Region_Inhabitants AS (\n",
    "    SELECT region, SUM(no_of_inhabitants) AS TotalInhabitants\n",
    "    FROM s1.district\n",
    "    GROUP BY region\n",
    ")\n",
    "SELECT * \n",
    "FROM Region_Inhabitants;"
   ]
  },
  {
   "cell_type": "markdown",
   "id": "4710b288",
   "metadata": {},
   "source": [
    "This CTE, `Region_Inhabitants`, groups the dataset by region and calculates the total number of inhabitants for each region using the `SUM()` function. The final SELECT statement retrieves all records from the CTE.\n",
    "\n",
    "</details>\n",
    "<!-- #endregion -->\n",
    "\n",
    "## Exercise (hard)\n",
    "\n",
    "Suppose we want to increase the average_salary by 10% for districts that had more than 5000 committed crimes in '96, and then delete districts with an unemployment rate in '96 greater than 4. Write a SQL query using CTEs to accomplish this, and explain the importance of checking the data before and after these operations.\n",
    "\n",
    "<summary>Answers</summary>\n",
    "\n",
    "First, let's check the data before the operation:"
   ]
  },
  {
   "cell_type": "code",
   "execution_count": null,
   "id": "4f892292",
   "metadata": {},
   "outputs": [],
   "source": [
    "%%sql \n",
    "SELECT * \n",
    "FROM district\n",
    "WHERE no_of_committed_crimes_96 > 5000 OR unemployment_rate_96 > 4;"
   ]
  },
  {
   "cell_type": "markdown",
   "id": "e1542006",
   "metadata": {},
   "source": [
    "Next, we perform the update and delete operations:"
   ]
  },
  {
   "cell_type": "code",
   "execution_count": null,
   "id": "4691db2f",
   "metadata": {},
   "outputs": [],
   "source": [
    "%%sql\n",
    "WITH High_Crime_Districts AS (\n",
    "    SELECT district_id\n",
    "    FROM district\n",
    "    WHERE no_of_committed_crimes_96 > 5000\n",
    ")\n",
    "UPDATE district\n",
    "SET average_salary = average_salary * 1.10\n",
    "WHERE district_id IN (SELECT district_id FROM High_Crime_Districts);\n",
    "\n",
    "WITH High_Unemployment_Districts AS (\n",
    "    SELECT district_id\n",
    "    FROM district\n",
    "    WHERE unemployment_rate_96 > 4\n",
    ")\n",
    "DELETE FROM district\n",
    "WHERE district_id IN (SELECT district_id FROM High_Unemployment_Districts);"
   ]
  },
  {
   "cell_type": "markdown",
   "id": "ab1b6ae8",
   "metadata": {},
   "source": [
    "Finally, let's check the data after the operation:"
   ]
  },
  {
   "cell_type": "code",
   "execution_count": null,
   "id": "452ac2fe",
   "metadata": {},
   "outputs": [],
   "source": [
    "%%sql\n",
    "SELECT * \n",
    "FROM district\n",
    "WHERE no_of_committed_crimes_96 > 5000 OR unemployment_rate_96 > 4;"
   ]
  },
  {
   "cell_type": "markdown",
   "id": "f21a89aa",
   "metadata": {},
   "source": [
    "The importance of checking the data before and after the operations is to verify that the operations were successful and only affected the intended data. It's generally not recommended to use UPDATE or DELETE without a unique identifier or precise condition to pinpoint exactly which rows you want to affect. Checking the data before and after helps to prevent or identify potential mistakes or unexpected results in the data modification process.\n",
    "\n",
    "</details>\n",
    "<!-- #endregion -->\n",
    "\n",
    "\n",
    "\n",
    "## Summary\n",
    "\n",
    "In this tutorial we learned:\n",
    "\n",
    "1. Examples of simple and multiple CTEs, as well as how to join multiple CTEs.\n",
    "2. An introduction to Recursive CTEs with an example of generating a sequence of numbers.\n",
    "3. A demonstration of how to use CTEs in conjunction with UPDATE and DELETE commands, as well as the importance of checking data before and after these operations.\n",
    "4. A caution against performing `UPDATE` or `DELETE` operations without a unique identifier or precise condition.\n",
    "\n",
    "In the next chapter, we will show how you can visualize the results of your SQL queries."
   ]
  }
 ],
 "metadata": {
  "kernelspec": {
   "display_name": "Python 3 (ipykernel)",
   "language": "python",
   "name": "python3"
  }
 },
 "nbformat": 4,
 "nbformat_minor": 5
}
