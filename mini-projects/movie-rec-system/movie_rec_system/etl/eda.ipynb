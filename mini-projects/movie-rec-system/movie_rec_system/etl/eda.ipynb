{
 "cells": [
  {
   "cell_type": "code",
   "execution_count": null,
   "id": "d6a5d5dc",
   "metadata": {
    "tags": [
     "parameters"
    ]
   },
   "outputs": [],
   "source": [
    "# declare a list tasks whose products you want to use as inputs\n",
    "upstream = None"
   ]
  },
  {
   "cell_type": "markdown",
   "metadata": {},
   "source": [
    "# EDA for Content Based Recommendation System"
   ]
  },
  {
   "cell_type": "code",
   "execution_count": 2,
   "metadata": {},
   "outputs": [],
   "source": [
    "import pandas as pd\n",
    "import matplotlib.pyplot as plt"
   ]
  },
  {
   "cell_type": "code",
   "execution_count": 9,
   "metadata": {},
   "outputs": [
    {
     "data": {
      "text/html": [
       "<span style=\"None\">Found pyproject.toml from &#x27;C:\\Users\\jpjon\\Documents\\Ploomber\\sql\\mini-projects\\movie-rec-system&#x27;</span>"
      ],
      "text/plain": [
       "Found pyproject.toml from 'C:\\Users\\jpjon\\Documents\\Ploomber\\sql\\mini-projects\\movie-rec-system'"
      ]
     },
     "metadata": {},
     "output_type": "display_data"
    }
   ],
   "source": [
    "%reload_ext sql\n",
    "%sql duckdb:///movies_data.duckdb"
   ]
  },
  {
   "cell_type": "code",
   "execution_count": 10,
   "metadata": {},
   "outputs": [
    {
     "name": "stderr",
     "output_type": "stream",
     "text": [
      "TableNotFoundError: There is no table with name 'movies' in the default schema\n",
      "If you need help solving this issue, send us a message: https://ploomber.io/community\n"
     ]
    }
   ],
   "source": [
    "%sqlcmd columns -t movies"
   ]
  },
  {
   "cell_type": "code",
   "execution_count": 11,
   "metadata": {},
   "outputs": [
    {
     "name": "stderr",
     "output_type": "stream",
     "text": [
      "TableNotFoundError: There is no table with name 'genres' in the default schema\n",
      "If you need help solving this issue, send us a message: https://ploomber.io/community\n"
     ]
    }
   ],
   "source": [
    "%sqlcmd columns -t genres"
   ]
  },
  {
   "cell_type": "code",
   "execution_count": null,
   "metadata": {},
   "outputs": [],
   "source": [
    "%%sql \n",
    "SELECT *\n",
    "FROM movies"
   ]
  },
  {
   "cell_type": "code",
   "execution_count": null,
   "metadata": {},
   "outputs": [],
   "source": [
    "%%sql \n",
    "SELECT *\n",
    "FROM genres"
   ]
  },
  {
   "cell_type": "code",
   "execution_count": null,
   "metadata": {},
   "outputs": [],
   "source": [
    "%%sql \n",
    "WITH ExpandedGenres AS (\n",
    "    SELECT \n",
    "        m.id AS movie_id,\n",
    "        mg.movie_genre_id,\n",
    "        g.name AS genre_name\n",
    "    FROM \n",
    "        (SELECT UNNEST(movies.genre_ids) as movie_genre_id, movies.id FROM movies) AS mg\n",
    "    JOIN \n",
    "        movies m ON mg.id = m.id\n",
    "    JOIN \n",
    "        genres g ON mg.movie_genre_id = g.id\n",
    ")\n",
    "\n",
    "SELECT\n",
    "    movie_id,\n",
    "    STRING_AGG(genre_name, ', ') AS genre_names\n",
    "FROM \n",
    "    ExpandedGenres\n",
    "GROUP BY \n",
    "    movie_id;"
   ]
  },
  {
   "cell_type": "markdown",
   "metadata": {},
   "source": [
    "Movies with 0 vote_counts are usually unreleased. Filtering this out allows for recommendations for only available movies."
   ]
  },
  {
   "cell_type": "code",
   "execution_count": null,
   "metadata": {},
   "outputs": [],
   "source": [
    "%%sql \n",
    "CREATE TABLE IF NOT EXISTS movie_genre_data AS\n",
    "WITH ExpandedGenres AS (\n",
    "    SELECT \n",
    "        m.id AS movie_id,\n",
    "        mg.movie_genre_id,\n",
    "        g.name AS genre_name\n",
    "    FROM \n",
    "        (SELECT UNNEST(movies.genre_ids) as movie_genre_id, movies.id FROM movies) AS mg\n",
    "    JOIN \n",
    "        movies m ON mg.id = m.id\n",
    "    JOIN \n",
    "        genres g ON mg.movie_genre_id = g.id\n",
    "),\n",
    "genre_names AS (\n",
    "    SELECT\n",
    "    movie_id,\n",
    "    STRING_AGG(genre_name, ', ') AS genre_names\n",
    "FROM \n",
    "    ExpandedGenres\n",
    "GROUP BY \n",
    "    movie_id\n",
    ")\n",
    "SELECT gn.genre_names, m.id, m.original_language,\n",
    "       m.overview, m.popularity, m.release_date,\n",
    "       m.title, m.vote_average, m.vote_count\n",
    "FROM genre_names gn\n",
    "JOIN movies m\n",
    "ON gn.movie_id = m.id\n",
    "WHERE m.vote_count != 0"
   ]
  },
  {
   "cell_type": "code",
   "execution_count": null,
   "metadata": {},
   "outputs": [],
   "source": [
    "df = %sql SELECT * FROM movie_genre_data\n",
    "df = df.DataFrame()"
   ]
  },
  {
   "cell_type": "code",
   "execution_count": null,
   "metadata": {},
   "outputs": [],
   "source": [
    "ax = %sqlplot histogram --table movie_genre_data --column popularity --bins 20\n",
    "ax.grid()\n",
    "ax.set_title(\"Movie Popularity\")\n",
    "ax.set_xlabel(\"Popularity\")"
   ]
  },
  {
   "cell_type": "code",
   "execution_count": null,
   "metadata": {},
   "outputs": [],
   "source": [
    "ax = %sqlplot histogram --table movie_genre_data --column vote_average --bins 20\n",
    "ax.grid()\n",
    "ax.set_title(\"Vote Average\")\n",
    "ax.set_xlabel(\"Vote Score\")"
   ]
  },
  {
   "cell_type": "code",
   "execution_count": null,
   "metadata": {},
   "outputs": [],
   "source": [
    "ax = %sqlplot histogram --table movie_genre_data --column vote_count --bins 20\n",
    "ax.grid()\n",
    "ax.set_title(\"Movie Vote Count\")\n",
    "ax.set_xlabel(\"Votes\")"
   ]
  },
  {
   "cell_type": "code",
   "execution_count": null,
   "metadata": {},
   "outputs": [],
   "source": [
    "df[\"release_date\"] = pd.to_datetime(df[\"release_date\"])\n",
    "\n",
    "df[\"release_year\"] = df[\"release_date\"].dt.year\n",
    "\n",
    "movie_counts_by_year = df.groupby(\"release_year\").size()\n",
    "\n",
    "plt.figure(figsize=(10, 6))\n",
    "plt.plot(movie_counts_by_year.index, movie_counts_by_year.values, marker=\"o\")\n",
    "plt.xlabel(\"Release Year\")\n",
    "plt.ylabel(\"Number of Movies Released\")\n",
    "plt.title(\"Number of Movies Released Per Year\")\n",
    "plt.tight_layout()\n",
    "plt.grid()\n",
    "plt.show()"
   ]
  },
  {
   "cell_type": "code",
   "execution_count": null,
   "metadata": {},
   "outputs": [],
   "source": [
    "df[\"genre_names\"] = df[\"genre_names\"].astype(str)\n",
    "\n",
    "\n",
    "def get_genre_count(df):\n",
    "    genre_counts = dict()\n",
    "\n",
    "    for genres in df[\"genre_names\"]:\n",
    "        genre_list = genres.split(\",\")\n",
    "        for genre in genre_list:\n",
    "            if genre not in genre_counts:\n",
    "                genre_counts[genre] = 1\n",
    "            genre_counts[genre] += 1\n",
    "    return genre_counts\n",
    "\n",
    "\n",
    "genre_counts = get_genre_count(df)\n",
    "\n",
    "sorted_genre_counts = dict(\n",
    "    sorted(genre_counts.items(), key=lambda item: item[1], reverse=True)\n",
    ")\n",
    "\n",
    "genres = list(sorted_genre_counts.keys())\n",
    "counts = list(sorted_genre_counts.values())\n",
    "\n",
    "plt.figure(figsize=(16, 7))\n",
    "plt.bar(genres, counts)\n",
    "plt.ylabel(\"Genres\")\n",
    "plt.xlabel(\"Counts\")\n",
    "plt.title(\"Genre Counts\")\n",
    "plt.tight_layout()\n",
    "plt.xticks(rotation=60, ha=\"right\")\n",
    "plt.grid()\n",
    "plt.show()"
   ]
  },
  {
   "cell_type": "markdown",
   "metadata": {},
   "source": [
    "# Moving forward\n",
    "\n",
    "Now that preliminary data wrangling and EDA has been accomplished, the next step would be to implement a content based recommendation system. \n",
    "\n",
    "We'll experiment using cosine TF-IDF on our movie's description and genres."
   ]
  }
 ],
 "metadata": {
  "kernelspec": {
   "display_name": "imdb-project",
   "language": "python",
   "name": "python3"
  },
  "language_info": {
   "codemirror_mode": {
    "name": "ipython",
    "version": 3
   },
   "file_extension": ".py",
   "mimetype": "text/x-python",
   "name": "python",
   "nbconvert_exporter": "python",
   "pygments_lexer": "ipython3",
   "version": "3.10.8"
  }
 },
 "nbformat": 4,
 "nbformat_minor": 2
}
