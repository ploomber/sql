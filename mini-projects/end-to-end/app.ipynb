{
 "cells": [
  {
   "cell_type": "markdown",
   "metadata": {},
   "source": [
    "<h1 align='center'>Automated weather data visualization</h1>\n",
    "\n",
    "<h2 align='center'>About the data</h2>\n",
    "\n",
    "WeatherAPI.com is a powerful fully managed free weather and geolocation API provider that provides extensive APIs that range from the weather forecast, historical weather, future weather, weather alerts, air quality data, IP lookup, and astronomy through to sports, time zone, and geolocation.\n",
    "\n",
    "In this notebook, we will visualize wind speed forecast data for the next 3 days for the following cities:\n",
    "\n",
    "|Continent | Cities |\n",
    "| --- | --- | \n",
    "| North America | New York City,  Los Angeles , Toronto | \n",
    "| South America | São Paulo ,Buenos Aires, Bogotá |\n",
    "| Europe | London, Paris,  Berlin |\n",
    "| Asia | Tokyo , Beijing,Mumbai  |\n",
    "| Africa | Cairo ,Lagos, Johannesburg  |\n",
    "| Australia | Sydney ,  Melbourne , Brisbane  |\n"
   ]
  },
  {
   "cell_type": "code",
   "execution_count": 1,
   "metadata": {},
   "outputs": [],
   "source": [
    "import pandas as pd\n",
    "import plotly.express as px"
   ]
  },
  {
   "cell_type": "code",
   "execution_count": 2,
   "metadata": {},
   "outputs": [],
   "source": [
    "df = pd.read_csv(\"weather.csv\")"
   ]
  },
  {
   "cell_type": "markdown",
   "metadata": {},
   "source": [
    "## Visualizing wind speed forecast for the next 3 days"
   ]
  },
  {
   "cell_type": "code",
   "execution_count": 20,
   "metadata": {},
   "outputs": [
    {
     "data": {
      "application/vnd.plotly.v1+json": {
       "config": {
        "plotlyServerURL": "https://plot.ly"
       },
       "data": [
        {
         "geo": "geo",
         "hovertemplate": "<b>%{hovertext}</b><br><br>region=New York<br>time=2023-12-02 00:00<br>temp_f=%{marker.size}<br>lat=%{lat}<br>lon=%{lon}<extra></extra>",
         "hovertext": [
          "United States of America"
         ],
         "lat": [
          40.71
         ],
         "legendgroup": "New York",
         "lon": [
          -74.01
         ],
         "marker": {
          "color": "#636efa",
          "size": [
           44.6
          ],
          "sizemode": "area",
          "sizeref": 0.23675000000000002,
          "symbol": "circle"
         },
         "mode": "markers",
         "name": "New York",
         "showlegend": true,
         "type": "scattergeo"
        },
        {
         "geo": "geo",
         "hovertemplate": "<b>%{hovertext}</b><br><br>region=California<br>time=2023-12-02 00:00<br>temp_f=%{marker.size}<br>lat=%{lat}<br>lon=%{lon}<extra></extra>",
         "hovertext": [
          "United States of America"
         ],
         "lat": [
          34.05
         ],
         "legendgroup": "California",
         "lon": [
          -118.24
         ],
         "marker": {
          "color": "#EF553B",
          "size": [
           53.2
          ],
          "sizemode": "area",
          "sizeref": 0.23675000000000002,
          "symbol": "circle"
         },
         "mode": "markers",
         "name": "California",
         "showlegend": true,
         "type": "scattergeo"
        },
        {
         "geo": "geo",
         "hovertemplate": "<b>%{hovertext}</b><br><br>region=Ontario<br>time=2023-12-02 00:00<br>temp_f=%{marker.size}<br>lat=%{lat}<br>lon=%{lon}<extra></extra>",
         "hovertext": [
          "Canada"
         ],
         "lat": [
          43.65
         ],
         "legendgroup": "Ontario",
         "lon": [
          -79.38
         ],
         "marker": {
          "color": "#00cc96",
          "size": [
           37.6
          ],
          "sizemode": "area",
          "sizeref": 0.23675000000000002,
          "symbol": "circle"
         },
         "mode": "markers",
         "name": "Ontario",
         "showlegend": true,
         "type": "scattergeo"
        },
        {
         "geo": "geo",
         "hovertemplate": "<b>%{hovertext}</b><br><br>region=Sao Paulo<br>time=2023-12-02 00:00<br>temp_f=%{marker.size}<br>lat=%{lat}<br>lon=%{lon}<extra></extra>",
         "hovertext": [
          "Brazil"
         ],
         "lat": [
          -23.55
         ],
         "legendgroup": "Sao Paulo",
         "lon": [
          -46.63
         ],
         "marker": {
          "color": "#ab63fa",
          "size": [
           71.4
          ],
          "sizemode": "area",
          "sizeref": 0.23675000000000002,
          "symbol": "circle"
         },
         "mode": "markers",
         "name": "Sao Paulo",
         "showlegend": true,
         "type": "scattergeo"
        },
        {
         "geo": "geo",
         "hovertemplate": "<b>%{hovertext}</b><br><br>region=Buenos Aires<br>time=2023-12-02 00:00<br>temp_f=%{marker.size}<br>lat=%{lat}<br>lon=%{lon}<extra></extra>",
         "hovertext": [
          "Argentina"
         ],
         "lat": [
          -34.6
         ],
         "legendgroup": "Buenos Aires",
         "lon": [
          -58.38
         ],
         "marker": {
          "color": "#FFA15A",
          "size": [
           70.5
          ],
          "sizemode": "area",
          "sizeref": 0.23675000000000002,
          "symbol": "circle"
         },
         "mode": "markers",
         "name": "Buenos Aires",
         "showlegend": true,
         "type": "scattergeo"
        },
        {
         "geo": "geo",
         "hovertemplate": "<b>%{hovertext}</b><br><br>region=Cundinamarca<br>time=2023-12-02 00:00<br>temp_f=%{marker.size}<br>lat=%{lat}<br>lon=%{lon}<extra></extra>",
         "hovertext": [
          "Colombia"
         ],
         "lat": [
          4.71
         ],
         "legendgroup": "Cundinamarca",
         "lon": [
          -74.07
         ],
         "marker": {
          "color": "#19d3f3",
          "size": [
           46.1
          ],
          "sizemode": "area",
          "sizeref": 0.23675000000000002,
          "symbol": "circle"
         },
         "mode": "markers",
         "name": "Cundinamarca",
         "showlegend": true,
         "type": "scattergeo"
        },
        {
         "geo": "geo",
         "hovertemplate": "<b>%{hovertext}</b><br><br>region=City of London, Greater London<br>time=2023-12-02 00:00<br>temp_f=%{marker.size}<br>lat=%{lat}<br>lon=%{lon}<extra></extra>",
         "hovertext": [
          "United Kingdom"
         ],
         "lat": [
          51.51
         ],
         "legendgroup": "City of London, Greater London",
         "lon": [
          -0.13
         ],
         "marker": {
          "color": "#FF6692",
          "size": [
           33.1
          ],
          "sizemode": "area",
          "sizeref": 0.23675000000000002,
          "symbol": "circle"
         },
         "mode": "markers",
         "name": "City of London, Greater London",
         "showlegend": true,
         "type": "scattergeo"
        },
        {
         "geo": "geo",
         "hovertemplate": "<b>%{hovertext}</b><br><br>region=Ile-de-France<br>time=2023-12-02 00:00<br>temp_f=%{marker.size}<br>lat=%{lat}<br>lon=%{lon}<extra></extra>",
         "hovertext": [
          "France"
         ],
         "lat": [
          48.86
         ],
         "legendgroup": "Ile-de-France",
         "lon": [
          2.35
         ],
         "marker": {
          "color": "#B6E880",
          "size": [
           31.1
          ],
          "sizemode": "area",
          "sizeref": 0.23675000000000002,
          "symbol": "circle"
         },
         "mode": "markers",
         "name": "Ile-de-France",
         "showlegend": true,
         "type": "scattergeo"
        },
        {
         "geo": "geo",
         "hovertemplate": "<b>%{hovertext}</b><br><br>region=Berlin<br>time=2023-12-02 00:00<br>temp_f=%{marker.size}<br>lat=%{lat}<br>lon=%{lon}<extra></extra>",
         "hovertext": [
          "Germany"
         ],
         "lat": [
          52.52
         ],
         "legendgroup": "Berlin",
         "lon": [
          13.41
         ],
         "marker": {
          "color": "#FF97FF",
          "size": [
           21.5
          ],
          "sizemode": "area",
          "sizeref": 0.23675000000000002,
          "symbol": "circle"
         },
         "mode": "markers",
         "name": "Berlin",
         "showlegend": true,
         "type": "scattergeo"
        },
        {
         "geo": "geo",
         "hovertemplate": "<b>%{hovertext}</b><br><br>region=Tokyo<br>time=2023-12-02 00:00<br>temp_f=%{marker.size}<br>lat=%{lat}<br>lon=%{lon}<extra></extra>",
         "hovertext": [
          "Japan"
         ],
         "lat": [
          35.68
         ],
         "legendgroup": "Tokyo",
         "lon": [
          139.65
         ],
         "marker": {
          "color": "#FECB52",
          "size": [
           48.7
          ],
          "sizemode": "area",
          "sizeref": 0.23675000000000002,
          "symbol": "circle"
         },
         "mode": "markers",
         "name": "Tokyo",
         "showlegend": true,
         "type": "scattergeo"
        },
        {
         "geo": "geo",
         "hovertemplate": "<b>%{hovertext}</b><br><br>region=Beijing<br>time=2023-12-02 00:00<br>temp_f=%{marker.size}<br>lat=%{lat}<br>lon=%{lon}<extra></extra>",
         "hovertext": [
          "China"
         ],
         "lat": [
          39.9
         ],
         "legendgroup": "Beijing",
         "lon": [
          116.41
         ],
         "marker": {
          "color": "#636efa",
          "size": [
           31.4
          ],
          "sizemode": "area",
          "sizeref": 0.23675000000000002,
          "symbol": "circle"
         },
         "mode": "markers",
         "name": "Beijing",
         "showlegend": true,
         "type": "scattergeo"
        },
        {
         "geo": "geo",
         "hovertemplate": "<b>%{hovertext}</b><br><br>region=Maharashtra<br>time=2023-12-02 00:00<br>temp_f=%{marker.size}<br>lat=%{lat}<br>lon=%{lon}<extra></extra>",
         "hovertext": [
          "India"
         ],
         "lat": [
          19.08
         ],
         "legendgroup": "Maharashtra",
         "lon": [
          72.88
         ],
         "marker": {
          "color": "#EF553B",
          "size": [
           77.1
          ],
          "sizemode": "area",
          "sizeref": 0.23675000000000002,
          "symbol": "circle"
         },
         "mode": "markers",
         "name": "Maharashtra",
         "showlegend": true,
         "type": "scattergeo"
        },
        {
         "geo": "geo",
         "hovertemplate": "<b>%{hovertext}</b><br><br>region=Al Qahirah<br>time=2023-12-02 00:00<br>temp_f=%{marker.size}<br>lat=%{lat}<br>lon=%{lon}<extra></extra>",
         "hovertext": [
          "Egypt"
         ],
         "lat": [
          30.04
         ],
         "legendgroup": "Al Qahirah",
         "lon": [
          31.24
         ],
         "marker": {
          "color": "#00cc96",
          "size": [
           63.7
          ],
          "sizemode": "area",
          "sizeref": 0.23675000000000002,
          "symbol": "circle"
         },
         "mode": "markers",
         "name": "Al Qahirah",
         "showlegend": true,
         "type": "scattergeo"
        },
        {
         "geo": "geo",
         "hovertemplate": "<b>%{hovertext}</b><br><br>region=Lagos<br>time=2023-12-02 00:00<br>temp_f=%{marker.size}<br>lat=%{lat}<br>lon=%{lon}<extra></extra>",
         "hovertext": [
          "Nigeria"
         ],
         "lat": [
          6.52
         ],
         "legendgroup": "Lagos",
         "lon": [
          3.38
         ],
         "marker": {
          "color": "#ab63fa",
          "size": [
           83.4
          ],
          "sizemode": "area",
          "sizeref": 0.23675000000000002,
          "symbol": "circle"
         },
         "mode": "markers",
         "name": "Lagos",
         "showlegend": true,
         "type": "scattergeo"
        },
        {
         "geo": "geo",
         "hovertemplate": "<b>%{hovertext}</b><br><br>region=Gauteng<br>time=2023-12-02 00:00<br>temp_f=%{marker.size}<br>lat=%{lat}<br>lon=%{lon}<extra></extra>",
         "hovertext": [
          "South Africa"
         ],
         "lat": [
          -26.2
         ],
         "legendgroup": "Gauteng",
         "lon": [
          28.05
         ],
         "marker": {
          "color": "#FFA15A",
          "size": [
           71.9
          ],
          "sizemode": "area",
          "sizeref": 0.23675000000000002,
          "symbol": "circle"
         },
         "mode": "markers",
         "name": "Gauteng",
         "showlegend": true,
         "type": "scattergeo"
        },
        {
         "geo": "geo",
         "hovertemplate": "<b>%{hovertext}</b><br><br>region=New South Wales<br>time=2023-12-02 00:00<br>temp_f=%{marker.size}<br>lat=%{lat}<br>lon=%{lon}<extra></extra>",
         "hovertext": [
          "Australia"
         ],
         "lat": [
          -33.87
         ],
         "legendgroup": "New South Wales",
         "lon": [
          151.21
         ],
         "marker": {
          "color": "#19d3f3",
          "size": [
           66.9
          ],
          "sizemode": "area",
          "sizeref": 0.23675000000000002,
          "symbol": "circle"
         },
         "mode": "markers",
         "name": "New South Wales",
         "showlegend": true,
         "type": "scattergeo"
        },
        {
         "geo": "geo",
         "hovertemplate": "<b>%{hovertext}</b><br><br>region=Victoria<br>time=2023-12-02 00:00<br>temp_f=%{marker.size}<br>lat=%{lat}<br>lon=%{lon}<extra></extra>",
         "hovertext": [
          "Australia"
         ],
         "lat": [
          -37.81
         ],
         "legendgroup": "Victoria",
         "lon": [
          144.96
         ],
         "marker": {
          "color": "#FF6692",
          "size": [
           59.9
          ],
          "sizemode": "area",
          "sizeref": 0.23675000000000002,
          "symbol": "circle"
         },
         "mode": "markers",
         "name": "Victoria",
         "showlegend": true,
         "type": "scattergeo"
        },
        {
         "geo": "geo",
         "hovertemplate": "<b>%{hovertext}</b><br><br>region=Queensland<br>time=2023-12-02 00:00<br>temp_f=%{marker.size}<br>lat=%{lat}<br>lon=%{lon}<extra></extra>",
         "hovertext": [
          "Australia"
         ],
         "lat": [
          -27.47
         ],
         "legendgroup": "Queensland",
         "lon": [
          153.03
         ],
         "marker": {
          "color": "#B6E880",
          "size": [
           69.9
          ],
          "sizemode": "area",
          "sizeref": 0.23675000000000002,
          "symbol": "circle"
         },
         "mode": "markers",
         "name": "Queensland",
         "showlegend": true,
         "type": "scattergeo"
        }
       ],
       "frames": [
        {
         "data": [
          {
           "geo": "geo",
           "hovertemplate": "<b>%{hovertext}</b><br><br>region=New York<br>time=2023-12-02 00:00<br>temp_f=%{marker.size}<br>lat=%{lat}<br>lon=%{lon}<extra></extra>",
           "hovertext": [
            "United States of America"
           ],
           "lat": [
            40.71
           ],
           "legendgroup": "New York",
           "lon": [
            -74.01
           ],
           "marker": {
            "color": "#636efa",
            "size": [
             44.6
            ],
            "sizemode": "area",
            "sizeref": 0.23675000000000002,
            "symbol": "circle"
           },
           "mode": "markers",
           "name": "New York",
           "showlegend": true,
           "type": "scattergeo"
          },
          {
           "geo": "geo",
           "hovertemplate": "<b>%{hovertext}</b><br><br>region=California<br>time=2023-12-02 00:00<br>temp_f=%{marker.size}<br>lat=%{lat}<br>lon=%{lon}<extra></extra>",
           "hovertext": [
            "United States of America"
           ],
           "lat": [
            34.05
           ],
           "legendgroup": "California",
           "lon": [
            -118.24
           ],
           "marker": {
            "color": "#EF553B",
            "size": [
             53.2
            ],
            "sizemode": "area",
            "sizeref": 0.23675000000000002,
            "symbol": "circle"
           },
           "mode": "markers",
           "name": "California",
           "showlegend": true,
           "type": "scattergeo"
          },
          {
           "geo": "geo",
           "hovertemplate": "<b>%{hovertext}</b><br><br>region=Ontario<br>time=2023-12-02 00:00<br>temp_f=%{marker.size}<br>lat=%{lat}<br>lon=%{lon}<extra></extra>",
           "hovertext": [
            "Canada"
           ],
           "lat": [
            43.65
           ],
           "legendgroup": "Ontario",
           "lon": [
            -79.38
           ],
           "marker": {
            "color": "#00cc96",
            "size": [
             37.6
            ],
            "sizemode": "area",
            "sizeref": 0.23675000000000002,
            "symbol": "circle"
           },
           "mode": "markers",
           "name": "Ontario",
           "showlegend": true,
           "type": "scattergeo"
          },
          {
           "geo": "geo",
           "hovertemplate": "<b>%{hovertext}</b><br><br>region=Sao Paulo<br>time=2023-12-02 00:00<br>temp_f=%{marker.size}<br>lat=%{lat}<br>lon=%{lon}<extra></extra>",
           "hovertext": [
            "Brazil"
           ],
           "lat": [
            -23.55
           ],
           "legendgroup": "Sao Paulo",
           "lon": [
            -46.63
           ],
           "marker": {
            "color": "#ab63fa",
            "size": [
             71.4
            ],
            "sizemode": "area",
            "sizeref": 0.23675000000000002,
            "symbol": "circle"
           },
           "mode": "markers",
           "name": "Sao Paulo",
           "showlegend": true,
           "type": "scattergeo"
          },
          {
           "geo": "geo",
           "hovertemplate": "<b>%{hovertext}</b><br><br>region=Buenos Aires<br>time=2023-12-02 00:00<br>temp_f=%{marker.size}<br>lat=%{lat}<br>lon=%{lon}<extra></extra>",
           "hovertext": [
            "Argentina"
           ],
           "lat": [
            -34.6
           ],
           "legendgroup": "Buenos Aires",
           "lon": [
            -58.38
           ],
           "marker": {
            "color": "#FFA15A",
            "size": [
             70.5
            ],
            "sizemode": "area",
            "sizeref": 0.23675000000000002,
            "symbol": "circle"
           },
           "mode": "markers",
           "name": "Buenos Aires",
           "showlegend": true,
           "type": "scattergeo"
          },
          {
           "geo": "geo",
           "hovertemplate": "<b>%{hovertext}</b><br><br>region=Cundinamarca<br>time=2023-12-02 00:00<br>temp_f=%{marker.size}<br>lat=%{lat}<br>lon=%{lon}<extra></extra>",
           "hovertext": [
            "Colombia"
           ],
           "lat": [
            4.71
           ],
           "legendgroup": "Cundinamarca",
           "lon": [
            -74.07
           ],
           "marker": {
            "color": "#19d3f3",
            "size": [
             46.1
            ],
            "sizemode": "area",
            "sizeref": 0.23675000000000002,
            "symbol": "circle"
           },
           "mode": "markers",
           "name": "Cundinamarca",
           "showlegend": true,
           "type": "scattergeo"
          },
          {
           "geo": "geo",
           "hovertemplate": "<b>%{hovertext}</b><br><br>region=City of London, Greater London<br>time=2023-12-02 00:00<br>temp_f=%{marker.size}<br>lat=%{lat}<br>lon=%{lon}<extra></extra>",
           "hovertext": [
            "United Kingdom"
           ],
           "lat": [
            51.51
           ],
           "legendgroup": "City of London, Greater London",
           "lon": [
            -0.13
           ],
           "marker": {
            "color": "#FF6692",
            "size": [
             33.1
            ],
            "sizemode": "area",
            "sizeref": 0.23675000000000002,
            "symbol": "circle"
           },
           "mode": "markers",
           "name": "City of London, Greater London",
           "showlegend": true,
           "type": "scattergeo"
          },
          {
           "geo": "geo",
           "hovertemplate": "<b>%{hovertext}</b><br><br>region=Ile-de-France<br>time=2023-12-02 00:00<br>temp_f=%{marker.size}<br>lat=%{lat}<br>lon=%{lon}<extra></extra>",
           "hovertext": [
            "France"
           ],
           "lat": [
            48.86
           ],
           "legendgroup": "Ile-de-France",
           "lon": [
            2.35
           ],
           "marker": {
            "color": "#B6E880",
            "size": [
             31.1
            ],
            "sizemode": "area",
            "sizeref": 0.23675000000000002,
            "symbol": "circle"
           },
           "mode": "markers",
           "name": "Ile-de-France",
           "showlegend": true,
           "type": "scattergeo"
          },
          {
           "geo": "geo",
           "hovertemplate": "<b>%{hovertext}</b><br><br>region=Berlin<br>time=2023-12-02 00:00<br>temp_f=%{marker.size}<br>lat=%{lat}<br>lon=%{lon}<extra></extra>",
           "hovertext": [
            "Germany"
           ],
           "lat": [
            52.52
           ],
           "legendgroup": "Berlin",
           "lon": [
            13.41
           ],
           "marker": {
            "color": "#FF97FF",
            "size": [
             21.5
            ],
            "sizemode": "area",
            "sizeref": 0.23675000000000002,
            "symbol": "circle"
           },
           "mode": "markers",
           "name": "Berlin",
           "showlegend": true,
           "type": "scattergeo"
          },
          {
           "geo": "geo",
           "hovertemplate": "<b>%{hovertext}</b><br><br>region=Tokyo<br>time=2023-12-02 00:00<br>temp_f=%{marker.size}<br>lat=%{lat}<br>lon=%{lon}<extra></extra>",
           "hovertext": [
            "Japan"
           ],
           "lat": [
            35.68
           ],
           "legendgroup": "Tokyo",
           "lon": [
            139.65
           ],
           "marker": {
            "color": "#FECB52",
            "size": [
             48.7
            ],
            "sizemode": "area",
            "sizeref": 0.23675000000000002,
            "symbol": "circle"
           },
           "mode": "markers",
           "name": "Tokyo",
           "showlegend": true,
           "type": "scattergeo"
          },
          {
           "geo": "geo",
           "hovertemplate": "<b>%{hovertext}</b><br><br>region=Beijing<br>time=2023-12-02 00:00<br>temp_f=%{marker.size}<br>lat=%{lat}<br>lon=%{lon}<extra></extra>",
           "hovertext": [
            "China"
           ],
           "lat": [
            39.9
           ],
           "legendgroup": "Beijing",
           "lon": [
            116.41
           ],
           "marker": {
            "color": "#636efa",
            "size": [
             31.4
            ],
            "sizemode": "area",
            "sizeref": 0.23675000000000002,
            "symbol": "circle"
           },
           "mode": "markers",
           "name": "Beijing",
           "showlegend": true,
           "type": "scattergeo"
          },
          {
           "geo": "geo",
           "hovertemplate": "<b>%{hovertext}</b><br><br>region=Maharashtra<br>time=2023-12-02 00:00<br>temp_f=%{marker.size}<br>lat=%{lat}<br>lon=%{lon}<extra></extra>",
           "hovertext": [
            "India"
           ],
           "lat": [
            19.08
           ],
           "legendgroup": "Maharashtra",
           "lon": [
            72.88
           ],
           "marker": {
            "color": "#EF553B",
            "size": [
             77.1
            ],
            "sizemode": "area",
            "sizeref": 0.23675000000000002,
            "symbol": "circle"
           },
           "mode": "markers",
           "name": "Maharashtra",
           "showlegend": true,
           "type": "scattergeo"
          },
          {
           "geo": "geo",
           "hovertemplate": "<b>%{hovertext}</b><br><br>region=Al Qahirah<br>time=2023-12-02 00:00<br>temp_f=%{marker.size}<br>lat=%{lat}<br>lon=%{lon}<extra></extra>",
           "hovertext": [
            "Egypt"
           ],
           "lat": [
            30.04
           ],
           "legendgroup": "Al Qahirah",
           "lon": [
            31.24
           ],
           "marker": {
            "color": "#00cc96",
            "size": [
             63.7
            ],
            "sizemode": "area",
            "sizeref": 0.23675000000000002,
            "symbol": "circle"
           },
           "mode": "markers",
           "name": "Al Qahirah",
           "showlegend": true,
           "type": "scattergeo"
          },
          {
           "geo": "geo",
           "hovertemplate": "<b>%{hovertext}</b><br><br>region=Lagos<br>time=2023-12-02 00:00<br>temp_f=%{marker.size}<br>lat=%{lat}<br>lon=%{lon}<extra></extra>",
           "hovertext": [
            "Nigeria"
           ],
           "lat": [
            6.52
           ],
           "legendgroup": "Lagos",
           "lon": [
            3.38
           ],
           "marker": {
            "color": "#ab63fa",
            "size": [
             83.4
            ],
            "sizemode": "area",
            "sizeref": 0.23675000000000002,
            "symbol": "circle"
           },
           "mode": "markers",
           "name": "Lagos",
           "showlegend": true,
           "type": "scattergeo"
          },
          {
           "geo": "geo",
           "hovertemplate": "<b>%{hovertext}</b><br><br>region=Gauteng<br>time=2023-12-02 00:00<br>temp_f=%{marker.size}<br>lat=%{lat}<br>lon=%{lon}<extra></extra>",
           "hovertext": [
            "South Africa"
           ],
           "lat": [
            -26.2
           ],
           "legendgroup": "Gauteng",
           "lon": [
            28.05
           ],
           "marker": {
            "color": "#FFA15A",
            "size": [
             71.9
            ],
            "sizemode": "area",
            "sizeref": 0.23675000000000002,
            "symbol": "circle"
           },
           "mode": "markers",
           "name": "Gauteng",
           "showlegend": true,
           "type": "scattergeo"
          },
          {
           "geo": "geo",
           "hovertemplate": "<b>%{hovertext}</b><br><br>region=New South Wales<br>time=2023-12-02 00:00<br>temp_f=%{marker.size}<br>lat=%{lat}<br>lon=%{lon}<extra></extra>",
           "hovertext": [
            "Australia"
           ],
           "lat": [
            -33.87
           ],
           "legendgroup": "New South Wales",
           "lon": [
            151.21
           ],
           "marker": {
            "color": "#19d3f3",
            "size": [
             66.9
            ],
            "sizemode": "area",
            "sizeref": 0.23675000000000002,
            "symbol": "circle"
           },
           "mode": "markers",
           "name": "New South Wales",
           "showlegend": true,
           "type": "scattergeo"
          },
          {
           "geo": "geo",
           "hovertemplate": "<b>%{hovertext}</b><br><br>region=Victoria<br>time=2023-12-02 00:00<br>temp_f=%{marker.size}<br>lat=%{lat}<br>lon=%{lon}<extra></extra>",
           "hovertext": [
            "Australia"
           ],
           "lat": [
            -37.81
           ],
           "legendgroup": "Victoria",
           "lon": [
            144.96
           ],
           "marker": {
            "color": "#FF6692",
            "size": [
             59.9
            ],
            "sizemode": "area",
            "sizeref": 0.23675000000000002,
            "symbol": "circle"
           },
           "mode": "markers",
           "name": "Victoria",
           "showlegend": true,
           "type": "scattergeo"
          },
          {
           "geo": "geo",
           "hovertemplate": "<b>%{hovertext}</b><br><br>region=Queensland<br>time=2023-12-02 00:00<br>temp_f=%{marker.size}<br>lat=%{lat}<br>lon=%{lon}<extra></extra>",
           "hovertext": [
            "Australia"
           ],
           "lat": [
            -27.47
           ],
           "legendgroup": "Queensland",
           "lon": [
            153.03
           ],
           "marker": {
            "color": "#B6E880",
            "size": [
             69.9
            ],
            "sizemode": "area",
            "sizeref": 0.23675000000000002,
            "symbol": "circle"
           },
           "mode": "markers",
           "name": "Queensland",
           "showlegend": true,
           "type": "scattergeo"
          }
         ],
         "name": "2023-12-02 00:00"
        },
        {
         "data": [
          {
           "geo": "geo",
           "hovertemplate": "<b>%{hovertext}</b><br><br>region=New York<br>time=2023-12-02 01:00<br>temp_f=%{marker.size}<br>lat=%{lat}<br>lon=%{lon}<extra></extra>",
           "hovertext": [
            "United States of America"
           ],
           "lat": [
            40.71
           ],
           "legendgroup": "New York",
           "lon": [
            -74.01
           ],
           "marker": {
            "color": "#636efa",
            "size": [
             45
            ],
            "sizemode": "area",
            "sizeref": 0.23675000000000002,
            "symbol": "circle"
           },
           "mode": "markers",
           "name": "New York",
           "showlegend": true,
           "type": "scattergeo"
          },
          {
           "geo": "geo",
           "hovertemplate": "<b>%{hovertext}</b><br><br>region=California<br>time=2023-12-02 01:00<br>temp_f=%{marker.size}<br>lat=%{lat}<br>lon=%{lon}<extra></extra>",
           "hovertext": [
            "United States of America"
           ],
           "lat": [
            34.05
           ],
           "legendgroup": "California",
           "lon": [
            -118.24
           ],
           "marker": {
            "color": "#EF553B",
            "size": [
             52.5
            ],
            "sizemode": "area",
            "sizeref": 0.23675000000000002,
            "symbol": "circle"
           },
           "mode": "markers",
           "name": "California",
           "showlegend": true,
           "type": "scattergeo"
          },
          {
           "geo": "geo",
           "hovertemplate": "<b>%{hovertext}</b><br><br>region=Ontario<br>time=2023-12-02 01:00<br>temp_f=%{marker.size}<br>lat=%{lat}<br>lon=%{lon}<extra></extra>",
           "hovertext": [
            "Canada"
           ],
           "lat": [
            43.65
           ],
           "legendgroup": "Ontario",
           "lon": [
            -79.38
           ],
           "marker": {
            "color": "#00cc96",
            "size": [
             38.1
            ],
            "sizemode": "area",
            "sizeref": 0.23675000000000002,
            "symbol": "circle"
           },
           "mode": "markers",
           "name": "Ontario",
           "showlegend": true,
           "type": "scattergeo"
          },
          {
           "geo": "geo",
           "hovertemplate": "<b>%{hovertext}</b><br><br>region=Sao Paulo<br>time=2023-12-02 01:00<br>temp_f=%{marker.size}<br>lat=%{lat}<br>lon=%{lon}<extra></extra>",
           "hovertext": [
            "Brazil"
           ],
           "lat": [
            -23.55
           ],
           "legendgroup": "Sao Paulo",
           "lon": [
            -46.63
           ],
           "marker": {
            "color": "#ab63fa",
            "size": [
             71.5
            ],
            "sizemode": "area",
            "sizeref": 0.23675000000000002,
            "symbol": "circle"
           },
           "mode": "markers",
           "name": "Sao Paulo",
           "showlegend": true,
           "type": "scattergeo"
          },
          {
           "geo": "geo",
           "hovertemplate": "<b>%{hovertext}</b><br><br>region=Buenos Aires<br>time=2023-12-02 01:00<br>temp_f=%{marker.size}<br>lat=%{lat}<br>lon=%{lon}<extra></extra>",
           "hovertext": [
            "Argentina"
           ],
           "lat": [
            -34.6
           ],
           "legendgroup": "Buenos Aires",
           "lon": [
            -58.38
           ],
           "marker": {
            "color": "#FFA15A",
            "size": [
             70
            ],
            "sizemode": "area",
            "sizeref": 0.23675000000000002,
            "symbol": "circle"
           },
           "mode": "markers",
           "name": "Buenos Aires",
           "showlegend": true,
           "type": "scattergeo"
          },
          {
           "geo": "geo",
           "hovertemplate": "<b>%{hovertext}</b><br><br>region=Cundinamarca<br>time=2023-12-02 01:00<br>temp_f=%{marker.size}<br>lat=%{lat}<br>lon=%{lon}<extra></extra>",
           "hovertext": [
            "Colombia"
           ],
           "lat": [
            4.71
           ],
           "legendgroup": "Cundinamarca",
           "lon": [
            -74.07
           ],
           "marker": {
            "color": "#19d3f3",
            "size": [
             44.3
            ],
            "sizemode": "area",
            "sizeref": 0.23675000000000002,
            "symbol": "circle"
           },
           "mode": "markers",
           "name": "Cundinamarca",
           "showlegend": true,
           "type": "scattergeo"
          },
          {
           "geo": "geo",
           "hovertemplate": "<b>%{hovertext}</b><br><br>region=City of London, Greater London<br>time=2023-12-02 01:00<br>temp_f=%{marker.size}<br>lat=%{lat}<br>lon=%{lon}<extra></extra>",
           "hovertext": [
            "United Kingdom"
           ],
           "lat": [
            51.51
           ],
           "legendgroup": "City of London, Greater London",
           "lon": [
            -0.13
           ],
           "marker": {
            "color": "#FF6692",
            "size": [
             32
            ],
            "sizemode": "area",
            "sizeref": 0.23675000000000002,
            "symbol": "circle"
           },
           "mode": "markers",
           "name": "City of London, Greater London",
           "showlegend": true,
           "type": "scattergeo"
          },
          {
           "geo": "geo",
           "hovertemplate": "<b>%{hovertext}</b><br><br>region=Ile-de-France<br>time=2023-12-02 01:00<br>temp_f=%{marker.size}<br>lat=%{lat}<br>lon=%{lon}<extra></extra>",
           "hovertext": [
            "France"
           ],
           "lat": [
            48.86
           ],
           "legendgroup": "Ile-de-France",
           "lon": [
            2.35
           ],
           "marker": {
            "color": "#B6E880",
            "size": [
             33.8
            ],
            "sizemode": "area",
            "sizeref": 0.23675000000000002,
            "symbol": "circle"
           },
           "mode": "markers",
           "name": "Ile-de-France",
           "showlegend": true,
           "type": "scattergeo"
          },
          {
           "geo": "geo",
           "hovertemplate": "<b>%{hovertext}</b><br><br>region=Berlin<br>time=2023-12-02 01:00<br>temp_f=%{marker.size}<br>lat=%{lat}<br>lon=%{lon}<extra></extra>",
           "hovertext": [
            "Germany"
           ],
           "lat": [
            52.52
           ],
           "legendgroup": "Berlin",
           "lon": [
            13.41
           ],
           "marker": {
            "color": "#FF97FF",
            "size": [
             21.1
            ],
            "sizemode": "area",
            "sizeref": 0.23675000000000002,
            "symbol": "circle"
           },
           "mode": "markers",
           "name": "Berlin",
           "showlegend": true,
           "type": "scattergeo"
          },
          {
           "geo": "geo",
           "hovertemplate": "<b>%{hovertext}</b><br><br>region=Tokyo<br>time=2023-12-02 01:00<br>temp_f=%{marker.size}<br>lat=%{lat}<br>lon=%{lon}<extra></extra>",
           "hovertext": [
            "Japan"
           ],
           "lat": [
            35.68
           ],
           "legendgroup": "Tokyo",
           "lon": [
            139.65
           ],
           "marker": {
            "color": "#FECB52",
            "size": [
             48.2
            ],
            "sizemode": "area",
            "sizeref": 0.23675000000000002,
            "symbol": "circle"
           },
           "mode": "markers",
           "name": "Tokyo",
           "showlegend": true,
           "type": "scattergeo"
          },
          {
           "geo": "geo",
           "hovertemplate": "<b>%{hovertext}</b><br><br>region=Beijing<br>time=2023-12-02 01:00<br>temp_f=%{marker.size}<br>lat=%{lat}<br>lon=%{lon}<extra></extra>",
           "hovertext": [
            "China"
           ],
           "lat": [
            39.9
           ],
           "legendgroup": "Beijing",
           "lon": [
            116.41
           ],
           "marker": {
            "color": "#636efa",
            "size": [
             31.2
            ],
            "sizemode": "area",
            "sizeref": 0.23675000000000002,
            "symbol": "circle"
           },
           "mode": "markers",
           "name": "Beijing",
           "showlegend": true,
           "type": "scattergeo"
          },
          {
           "geo": "geo",
           "hovertemplate": "<b>%{hovertext}</b><br><br>region=Maharashtra<br>time=2023-12-02 01:00<br>temp_f=%{marker.size}<br>lat=%{lat}<br>lon=%{lon}<extra></extra>",
           "hovertext": [
            "India"
           ],
           "lat": [
            19.08
           ],
           "legendgroup": "Maharashtra",
           "lon": [
            72.88
           ],
           "marker": {
            "color": "#EF553B",
            "size": [
             76.8
            ],
            "sizemode": "area",
            "sizeref": 0.23675000000000002,
            "symbol": "circle"
           },
           "mode": "markers",
           "name": "Maharashtra",
           "showlegend": true,
           "type": "scattergeo"
          },
          {
           "geo": "geo",
           "hovertemplate": "<b>%{hovertext}</b><br><br>region=Al Qahirah<br>time=2023-12-02 01:00<br>temp_f=%{marker.size}<br>lat=%{lat}<br>lon=%{lon}<extra></extra>",
           "hovertext": [
            "Egypt"
           ],
           "lat": [
            30.04
           ],
           "legendgroup": "Al Qahirah",
           "lon": [
            31.24
           ],
           "marker": {
            "color": "#00cc96",
            "size": [
             63.1
            ],
            "sizemode": "area",
            "sizeref": 0.23675000000000002,
            "symbol": "circle"
           },
           "mode": "markers",
           "name": "Al Qahirah",
           "showlegend": true,
           "type": "scattergeo"
          },
          {
           "geo": "geo",
           "hovertemplate": "<b>%{hovertext}</b><br><br>region=Lagos<br>time=2023-12-02 01:00<br>temp_f=%{marker.size}<br>lat=%{lat}<br>lon=%{lon}<extra></extra>",
           "hovertext": [
            "Nigeria"
           ],
           "lat": [
            6.52
           ],
           "legendgroup": "Lagos",
           "lon": [
            3.38
           ],
           "marker": {
            "color": "#ab63fa",
            "size": [
             83.1
            ],
            "sizemode": "area",
            "sizeref": 0.23675000000000002,
            "symbol": "circle"
           },
           "mode": "markers",
           "name": "Lagos",
           "showlegend": true,
           "type": "scattergeo"
          },
          {
           "geo": "geo",
           "hovertemplate": "<b>%{hovertext}</b><br><br>region=Gauteng<br>time=2023-12-02 01:00<br>temp_f=%{marker.size}<br>lat=%{lat}<br>lon=%{lon}<extra></extra>",
           "hovertext": [
            "South Africa"
           ],
           "lat": [
            -26.2
           ],
           "legendgroup": "Gauteng",
           "lon": [
            28.05
           ],
           "marker": {
            "color": "#FFA15A",
            "size": [
             70.9
            ],
            "sizemode": "area",
            "sizeref": 0.23675000000000002,
            "symbol": "circle"
           },
           "mode": "markers",
           "name": "Gauteng",
           "showlegend": true,
           "type": "scattergeo"
          },
          {
           "geo": "geo",
           "hovertemplate": "<b>%{hovertext}</b><br><br>region=New South Wales<br>time=2023-12-02 01:00<br>temp_f=%{marker.size}<br>lat=%{lat}<br>lon=%{lon}<extra></extra>",
           "hovertext": [
            "Australia"
           ],
           "lat": [
            -33.87
           ],
           "legendgroup": "New South Wales",
           "lon": [
            151.21
           ],
           "marker": {
            "color": "#19d3f3",
            "size": [
             66.8
            ],
            "sizemode": "area",
            "sizeref": 0.23675000000000002,
            "symbol": "circle"
           },
           "mode": "markers",
           "name": "New South Wales",
           "showlegend": true,
           "type": "scattergeo"
          },
          {
           "geo": "geo",
           "hovertemplate": "<b>%{hovertext}</b><br><br>region=Victoria<br>time=2023-12-02 01:00<br>temp_f=%{marker.size}<br>lat=%{lat}<br>lon=%{lon}<extra></extra>",
           "hovertext": [
            "Australia"
           ],
           "lat": [
            -37.81
           ],
           "legendgroup": "Victoria",
           "lon": [
            144.96
           ],
           "marker": {
            "color": "#FF6692",
            "size": [
             60.1
            ],
            "sizemode": "area",
            "sizeref": 0.23675000000000002,
            "symbol": "circle"
           },
           "mode": "markers",
           "name": "Victoria",
           "showlegend": true,
           "type": "scattergeo"
          },
          {
           "geo": "geo",
           "hovertemplate": "<b>%{hovertext}</b><br><br>region=Queensland<br>time=2023-12-02 01:00<br>temp_f=%{marker.size}<br>lat=%{lat}<br>lon=%{lon}<extra></extra>",
           "hovertext": [
            "Australia"
           ],
           "lat": [
            -27.47
           ],
           "legendgroup": "Queensland",
           "lon": [
            153.03
           ],
           "marker": {
            "color": "#B6E880",
            "size": [
             69.6
            ],
            "sizemode": "area",
            "sizeref": 0.23675000000000002,
            "symbol": "circle"
           },
           "mode": "markers",
           "name": "Queensland",
           "showlegend": true,
           "type": "scattergeo"
          }
         ],
         "name": "2023-12-02 01:00"
        },
        {
         "data": [
          {
           "geo": "geo",
           "hovertemplate": "<b>%{hovertext}</b><br><br>region=New York<br>time=2023-12-02 02:00<br>temp_f=%{marker.size}<br>lat=%{lat}<br>lon=%{lon}<extra></extra>",
           "hovertext": [
            "United States of America"
           ],
           "lat": [
            40.71
           ],
           "legendgroup": "New York",
           "lon": [
            -74.01
           ],
           "marker": {
            "color": "#636efa",
            "size": [
             44.4
            ],
            "sizemode": "area",
            "sizeref": 0.23675000000000002,
            "symbol": "circle"
           },
           "mode": "markers",
           "name": "New York",
           "showlegend": true,
           "type": "scattergeo"
          },
          {
           "geo": "geo",
           "hovertemplate": "<b>%{hovertext}</b><br><br>region=California<br>time=2023-12-02 02:00<br>temp_f=%{marker.size}<br>lat=%{lat}<br>lon=%{lon}<extra></extra>",
           "hovertext": [
            "United States of America"
           ],
           "lat": [
            34.05
           ],
           "legendgroup": "California",
           "lon": [
            -118.24
           ],
           "marker": {
            "color": "#EF553B",
            "size": [
             51.8
            ],
            "sizemode": "area",
            "sizeref": 0.23675000000000002,
            "symbol": "circle"
           },
           "mode": "markers",
           "name": "California",
           "showlegend": true,
           "type": "scattergeo"
          },
          {
           "geo": "geo",
           "hovertemplate": "<b>%{hovertext}</b><br><br>region=Ontario<br>time=2023-12-02 02:00<br>temp_f=%{marker.size}<br>lat=%{lat}<br>lon=%{lon}<extra></extra>",
           "hovertext": [
            "Canada"
           ],
           "lat": [
            43.65
           ],
           "legendgroup": "Ontario",
           "lon": [
            -79.38
           ],
           "marker": {
            "color": "#00cc96",
            "size": [
             38.7
            ],
            "sizemode": "area",
            "sizeref": 0.23675000000000002,
            "symbol": "circle"
           },
           "mode": "markers",
           "name": "Ontario",
           "showlegend": true,
           "type": "scattergeo"
          },
          {
           "geo": "geo",
           "hovertemplate": "<b>%{hovertext}</b><br><br>region=Sao Paulo<br>time=2023-12-02 02:00<br>temp_f=%{marker.size}<br>lat=%{lat}<br>lon=%{lon}<extra></extra>",
           "hovertext": [
            "Brazil"
           ],
           "lat": [
            -23.55
           ],
           "legendgroup": "Sao Paulo",
           "lon": [
            -46.63
           ],
           "marker": {
            "color": "#ab63fa",
            "size": [
             70.7
            ],
            "sizemode": "area",
            "sizeref": 0.23675000000000002,
            "symbol": "circle"
           },
           "mode": "markers",
           "name": "Sao Paulo",
           "showlegend": true,
           "type": "scattergeo"
          },
          {
           "geo": "geo",
           "hovertemplate": "<b>%{hovertext}</b><br><br>region=Buenos Aires<br>time=2023-12-02 02:00<br>temp_f=%{marker.size}<br>lat=%{lat}<br>lon=%{lon}<extra></extra>",
           "hovertext": [
            "Argentina"
           ],
           "lat": [
            -34.6
           ],
           "legendgroup": "Buenos Aires",
           "lon": [
            -58.38
           ],
           "marker": {
            "color": "#FFA15A",
            "size": [
             69.4
            ],
            "sizemode": "area",
            "sizeref": 0.23675000000000002,
            "symbol": "circle"
           },
           "mode": "markers",
           "name": "Buenos Aires",
           "showlegend": true,
           "type": "scattergeo"
          },
          {
           "geo": "geo",
           "hovertemplate": "<b>%{hovertext}</b><br><br>region=Cundinamarca<br>time=2023-12-02 02:00<br>temp_f=%{marker.size}<br>lat=%{lat}<br>lon=%{lon}<extra></extra>",
           "hovertext": [
            "Colombia"
           ],
           "lat": [
            4.71
           ],
           "legendgroup": "Cundinamarca",
           "lon": [
            -74.07
           ],
           "marker": {
            "color": "#19d3f3",
            "size": [
             43.3
            ],
            "sizemode": "area",
            "sizeref": 0.23675000000000002,
            "symbol": "circle"
           },
           "mode": "markers",
           "name": "Cundinamarca",
           "showlegend": true,
           "type": "scattergeo"
          },
          {
           "geo": "geo",
           "hovertemplate": "<b>%{hovertext}</b><br><br>region=City of London, Greater London<br>time=2023-12-02 02:00<br>temp_f=%{marker.size}<br>lat=%{lat}<br>lon=%{lon}<extra></extra>",
           "hovertext": [
            "United Kingdom"
           ],
           "lat": [
            51.51
           ],
           "legendgroup": "City of London, Greater London",
           "lon": [
            -0.13
           ],
           "marker": {
            "color": "#FF6692",
            "size": [
             32.6
            ],
            "sizemode": "area",
            "sizeref": 0.23675000000000002,
            "symbol": "circle"
           },
           "mode": "markers",
           "name": "City of London, Greater London",
           "showlegend": true,
           "type": "scattergeo"
          },
          {
           "geo": "geo",
           "hovertemplate": "<b>%{hovertext}</b><br><br>region=Ile-de-France<br>time=2023-12-02 02:00<br>temp_f=%{marker.size}<br>lat=%{lat}<br>lon=%{lon}<extra></extra>",
           "hovertext": [
            "France"
           ],
           "lat": [
            48.86
           ],
           "legendgroup": "Ile-de-France",
           "lon": [
            2.35
           ],
           "marker": {
            "color": "#B6E880",
            "size": [
             30.8
            ],
            "sizemode": "area",
            "sizeref": 0.23675000000000002,
            "symbol": "circle"
           },
           "mode": "markers",
           "name": "Ile-de-France",
           "showlegend": true,
           "type": "scattergeo"
          },
          {
           "geo": "geo",
           "hovertemplate": "<b>%{hovertext}</b><br><br>region=Berlin<br>time=2023-12-02 02:00<br>temp_f=%{marker.size}<br>lat=%{lat}<br>lon=%{lon}<extra></extra>",
           "hovertext": [
            "Germany"
           ],
           "lat": [
            52.52
           ],
           "legendgroup": "Berlin",
           "lon": [
            13.41
           ],
           "marker": {
            "color": "#FF97FF",
            "size": [
             21.2
            ],
            "sizemode": "area",
            "sizeref": 0.23675000000000002,
            "symbol": "circle"
           },
           "mode": "markers",
           "name": "Berlin",
           "showlegend": true,
           "type": "scattergeo"
          },
          {
           "geo": "geo",
           "hovertemplate": "<b>%{hovertext}</b><br><br>region=Tokyo<br>time=2023-12-02 02:00<br>temp_f=%{marker.size}<br>lat=%{lat}<br>lon=%{lon}<extra></extra>",
           "hovertext": [
            "Japan"
           ],
           "lat": [
            35.68
           ],
           "legendgroup": "Tokyo",
           "lon": [
            139.65
           ],
           "marker": {
            "color": "#FECB52",
            "size": [
             47.9
            ],
            "sizemode": "area",
            "sizeref": 0.23675000000000002,
            "symbol": "circle"
           },
           "mode": "markers",
           "name": "Tokyo",
           "showlegend": true,
           "type": "scattergeo"
          },
          {
           "geo": "geo",
           "hovertemplate": "<b>%{hovertext}</b><br><br>region=Beijing<br>time=2023-12-02 02:00<br>temp_f=%{marker.size}<br>lat=%{lat}<br>lon=%{lon}<extra></extra>",
           "hovertext": [
            "China"
           ],
           "lat": [
            39.9
           ],
           "legendgroup": "Beijing",
           "lon": [
            116.41
           ],
           "marker": {
            "color": "#636efa",
            "size": [
             31.1
            ],
            "sizemode": "area",
            "sizeref": 0.23675000000000002,
            "symbol": "circle"
           },
           "mode": "markers",
           "name": "Beijing",
           "showlegend": true,
           "type": "scattergeo"
          },
          {
           "geo": "geo",
           "hovertemplate": "<b>%{hovertext}</b><br><br>region=Maharashtra<br>time=2023-12-02 02:00<br>temp_f=%{marker.size}<br>lat=%{lat}<br>lon=%{lon}<extra></extra>",
           "hovertext": [
            "India"
           ],
           "lat": [
            19.08
           ],
           "legendgroup": "Maharashtra",
           "lon": [
            72.88
           ],
           "marker": {
            "color": "#EF553B",
            "size": [
             76.3
            ],
            "sizemode": "area",
            "sizeref": 0.23675000000000002,
            "symbol": "circle"
           },
           "mode": "markers",
           "name": "Maharashtra",
           "showlegend": true,
           "type": "scattergeo"
          },
          {
           "geo": "geo",
           "hovertemplate": "<b>%{hovertext}</b><br><br>region=Al Qahirah<br>time=2023-12-02 02:00<br>temp_f=%{marker.size}<br>lat=%{lat}<br>lon=%{lon}<extra></extra>",
           "hovertext": [
            "Egypt"
           ],
           "lat": [
            30.04
           ],
           "legendgroup": "Al Qahirah",
           "lon": [
            31.24
           ],
           "marker": {
            "color": "#00cc96",
            "size": [
             62.6
            ],
            "sizemode": "area",
            "sizeref": 0.23675000000000002,
            "symbol": "circle"
           },
           "mode": "markers",
           "name": "Al Qahirah",
           "showlegend": true,
           "type": "scattergeo"
          },
          {
           "geo": "geo",
           "hovertemplate": "<b>%{hovertext}</b><br><br>region=Lagos<br>time=2023-12-02 02:00<br>temp_f=%{marker.size}<br>lat=%{lat}<br>lon=%{lon}<extra></extra>",
           "hovertext": [
            "Nigeria"
           ],
           "lat": [
            6.52
           ],
           "legendgroup": "Lagos",
           "lon": [
            3.38
           ],
           "marker": {
            "color": "#ab63fa",
            "size": [
             75.2
            ],
            "sizemode": "area",
            "sizeref": 0.23675000000000002,
            "symbol": "circle"
           },
           "mode": "markers",
           "name": "Lagos",
           "showlegend": true,
           "type": "scattergeo"
          },
          {
           "geo": "geo",
           "hovertemplate": "<b>%{hovertext}</b><br><br>region=Gauteng<br>time=2023-12-02 02:00<br>temp_f=%{marker.size}<br>lat=%{lat}<br>lon=%{lon}<extra></extra>",
           "hovertext": [
            "South Africa"
           ],
           "lat": [
            -26.2
           ],
           "legendgroup": "Gauteng",
           "lon": [
            28.05
           ],
           "marker": {
            "color": "#FFA15A",
            "size": [
             69.4
            ],
            "sizemode": "area",
            "sizeref": 0.23675000000000002,
            "symbol": "circle"
           },
           "mode": "markers",
           "name": "Gauteng",
           "showlegend": true,
           "type": "scattergeo"
          },
          {
           "geo": "geo",
           "hovertemplate": "<b>%{hovertext}</b><br><br>region=New South Wales<br>time=2023-12-02 02:00<br>temp_f=%{marker.size}<br>lat=%{lat}<br>lon=%{lon}<extra></extra>",
           "hovertext": [
            "Australia"
           ],
           "lat": [
            -33.87
           ],
           "legendgroup": "New South Wales",
           "lon": [
            151.21
           ],
           "marker": {
            "color": "#19d3f3",
            "size": [
             66.3
            ],
            "sizemode": "area",
            "sizeref": 0.23675000000000002,
            "symbol": "circle"
           },
           "mode": "markers",
           "name": "New South Wales",
           "showlegend": true,
           "type": "scattergeo"
          },
          {
           "geo": "geo",
           "hovertemplate": "<b>%{hovertext}</b><br><br>region=Victoria<br>time=2023-12-02 02:00<br>temp_f=%{marker.size}<br>lat=%{lat}<br>lon=%{lon}<extra></extra>",
           "hovertext": [
            "Australia"
           ],
           "lat": [
            -37.81
           ],
           "legendgroup": "Victoria",
           "lon": [
            144.96
           ],
           "marker": {
            "color": "#FF6692",
            "size": [
             59.8
            ],
            "sizemode": "area",
            "sizeref": 0.23675000000000002,
            "symbol": "circle"
           },
           "mode": "markers",
           "name": "Victoria",
           "showlegend": true,
           "type": "scattergeo"
          },
          {
           "geo": "geo",
           "hovertemplate": "<b>%{hovertext}</b><br><br>region=Queensland<br>time=2023-12-02 02:00<br>temp_f=%{marker.size}<br>lat=%{lat}<br>lon=%{lon}<extra></extra>",
           "hovertext": [
            "Australia"
           ],
           "lat": [
            -27.47
           ],
           "legendgroup": "Queensland",
           "lon": [
            153.03
           ],
           "marker": {
            "color": "#B6E880",
            "size": [
             68.9
            ],
            "sizemode": "area",
            "sizeref": 0.23675000000000002,
            "symbol": "circle"
           },
           "mode": "markers",
           "name": "Queensland",
           "showlegend": true,
           "type": "scattergeo"
          }
         ],
         "name": "2023-12-02 02:00"
        },
        {
         "data": [
          {
           "geo": "geo",
           "hovertemplate": "<b>%{hovertext}</b><br><br>region=New York<br>time=2023-12-02 03:00<br>temp_f=%{marker.size}<br>lat=%{lat}<br>lon=%{lon}<extra></extra>",
           "hovertext": [
            "United States of America"
           ],
           "lat": [
            40.71
           ],
           "legendgroup": "New York",
           "lon": [
            -74.01
           ],
           "marker": {
            "color": "#636efa",
            "size": [
             44.1
            ],
            "sizemode": "area",
            "sizeref": 0.23675000000000002,
            "symbol": "circle"
           },
           "mode": "markers",
           "name": "New York",
           "showlegend": true,
           "type": "scattergeo"
          },
          {
           "geo": "geo",
           "hovertemplate": "<b>%{hovertext}</b><br><br>region=California<br>time=2023-12-02 03:00<br>temp_f=%{marker.size}<br>lat=%{lat}<br>lon=%{lon}<extra></extra>",
           "hovertext": [
            "United States of America"
           ],
           "lat": [
            34.05
           ],
           "legendgroup": "California",
           "lon": [
            -118.24
           ],
           "marker": {
            "color": "#EF553B",
            "size": [
             51.3
            ],
            "sizemode": "area",
            "sizeref": 0.23675000000000002,
            "symbol": "circle"
           },
           "mode": "markers",
           "name": "California",
           "showlegend": true,
           "type": "scattergeo"
          },
          {
           "geo": "geo",
           "hovertemplate": "<b>%{hovertext}</b><br><br>region=Ontario<br>time=2023-12-02 03:00<br>temp_f=%{marker.size}<br>lat=%{lat}<br>lon=%{lon}<extra></extra>",
           "hovertext": [
            "Canada"
           ],
           "lat": [
            43.65
           ],
           "legendgroup": "Ontario",
           "lon": [
            -79.38
           ],
           "marker": {
            "color": "#00cc96",
            "size": [
             39
            ],
            "sizemode": "area",
            "sizeref": 0.23675000000000002,
            "symbol": "circle"
           },
           "mode": "markers",
           "name": "Ontario",
           "showlegend": true,
           "type": "scattergeo"
          },
          {
           "geo": "geo",
           "hovertemplate": "<b>%{hovertext}</b><br><br>region=Sao Paulo<br>time=2023-12-02 03:00<br>temp_f=%{marker.size}<br>lat=%{lat}<br>lon=%{lon}<extra></extra>",
           "hovertext": [
            "Brazil"
           ],
           "lat": [
            -23.55
           ],
           "legendgroup": "Sao Paulo",
           "lon": [
            -46.63
           ],
           "marker": {
            "color": "#ab63fa",
            "size": [
             69.9
            ],
            "sizemode": "area",
            "sizeref": 0.23675000000000002,
            "symbol": "circle"
           },
           "mode": "markers",
           "name": "Sao Paulo",
           "showlegend": true,
           "type": "scattergeo"
          },
          {
           "geo": "geo",
           "hovertemplate": "<b>%{hovertext}</b><br><br>region=Buenos Aires<br>time=2023-12-02 03:00<br>temp_f=%{marker.size}<br>lat=%{lat}<br>lon=%{lon}<extra></extra>",
           "hovertext": [
            "Argentina"
           ],
           "lat": [
            -34.6
           ],
           "legendgroup": "Buenos Aires",
           "lon": [
            -58.38
           ],
           "marker": {
            "color": "#FFA15A",
            "size": [
             69
            ],
            "sizemode": "area",
            "sizeref": 0.23675000000000002,
            "symbol": "circle"
           },
           "mode": "markers",
           "name": "Buenos Aires",
           "showlegend": true,
           "type": "scattergeo"
          },
          {
           "geo": "geo",
           "hovertemplate": "<b>%{hovertext}</b><br><br>region=Cundinamarca<br>time=2023-12-02 03:00<br>temp_f=%{marker.size}<br>lat=%{lat}<br>lon=%{lon}<extra></extra>",
           "hovertext": [
            "Colombia"
           ],
           "lat": [
            4.71
           ],
           "legendgroup": "Cundinamarca",
           "lon": [
            -74.07
           ],
           "marker": {
            "color": "#19d3f3",
            "size": [
             42.9
            ],
            "sizemode": "area",
            "sizeref": 0.23675000000000002,
            "symbol": "circle"
           },
           "mode": "markers",
           "name": "Cundinamarca",
           "showlegend": true,
           "type": "scattergeo"
          },
          {
           "geo": "geo",
           "hovertemplate": "<b>%{hovertext}</b><br><br>region=City of London, Greater London<br>time=2023-12-02 03:00<br>temp_f=%{marker.size}<br>lat=%{lat}<br>lon=%{lon}<extra></extra>",
           "hovertext": [
            "United Kingdom"
           ],
           "lat": [
            51.51
           ],
           "legendgroup": "City of London, Greater London",
           "lon": [
            -0.13
           ],
           "marker": {
            "color": "#FF6692",
            "size": [
             32.4
            ],
            "sizemode": "area",
            "sizeref": 0.23675000000000002,
            "symbol": "circle"
           },
           "mode": "markers",
           "name": "City of London, Greater London",
           "showlegend": true,
           "type": "scattergeo"
          },
          {
           "geo": "geo",
           "hovertemplate": "<b>%{hovertext}</b><br><br>region=Ile-de-France<br>time=2023-12-02 03:00<br>temp_f=%{marker.size}<br>lat=%{lat}<br>lon=%{lon}<extra></extra>",
           "hovertext": [
            "France"
           ],
           "lat": [
            48.86
           ],
           "legendgroup": "Ile-de-France",
           "lon": [
            2.35
           ],
           "marker": {
            "color": "#B6E880",
            "size": [
             30.6
            ],
            "sizemode": "area",
            "sizeref": 0.23675000000000002,
            "symbol": "circle"
           },
           "mode": "markers",
           "name": "Ile-de-France",
           "showlegend": true,
           "type": "scattergeo"
          },
          {
           "geo": "geo",
           "hovertemplate": "<b>%{hovertext}</b><br><br>region=Berlin<br>time=2023-12-02 03:00<br>temp_f=%{marker.size}<br>lat=%{lat}<br>lon=%{lon}<extra></extra>",
           "hovertext": [
            "Germany"
           ],
           "lat": [
            52.52
           ],
           "legendgroup": "Berlin",
           "lon": [
            13.41
           ],
           "marker": {
            "color": "#FF97FF",
            "size": [
             23
            ],
            "sizemode": "area",
            "sizeref": 0.23675000000000002,
            "symbol": "circle"
           },
           "mode": "markers",
           "name": "Berlin",
           "showlegend": true,
           "type": "scattergeo"
          },
          {
           "geo": "geo",
           "hovertemplate": "<b>%{hovertext}</b><br><br>region=Tokyo<br>time=2023-12-02 03:00<br>temp_f=%{marker.size}<br>lat=%{lat}<br>lon=%{lon}<extra></extra>",
           "hovertext": [
            "Japan"
           ],
           "lat": [
            35.68
           ],
           "legendgroup": "Tokyo",
           "lon": [
            139.65
           ],
           "marker": {
            "color": "#FECB52",
            "size": [
             47.5
            ],
            "sizemode": "area",
            "sizeref": 0.23675000000000002,
            "symbol": "circle"
           },
           "mode": "markers",
           "name": "Tokyo",
           "showlegend": true,
           "type": "scattergeo"
          },
          {
           "geo": "geo",
           "hovertemplate": "<b>%{hovertext}</b><br><br>region=Beijing<br>time=2023-12-02 03:00<br>temp_f=%{marker.size}<br>lat=%{lat}<br>lon=%{lon}<extra></extra>",
           "hovertext": [
            "China"
           ],
           "lat": [
            39.9
           ],
           "legendgroup": "Beijing",
           "lon": [
            116.41
           ],
           "marker": {
            "color": "#636efa",
            "size": [
             31
            ],
            "sizemode": "area",
            "sizeref": 0.23675000000000002,
            "symbol": "circle"
           },
           "mode": "markers",
           "name": "Beijing",
           "showlegend": true,
           "type": "scattergeo"
          },
          {
           "geo": "geo",
           "hovertemplate": "<b>%{hovertext}</b><br><br>region=Maharashtra<br>time=2023-12-02 03:00<br>temp_f=%{marker.size}<br>lat=%{lat}<br>lon=%{lon}<extra></extra>",
           "hovertext": [
            "India"
           ],
           "lat": [
            19.08
           ],
           "legendgroup": "Maharashtra",
           "lon": [
            72.88
           ],
           "marker": {
            "color": "#EF553B",
            "size": [
             75.9
            ],
            "sizemode": "area",
            "sizeref": 0.23675000000000002,
            "symbol": "circle"
           },
           "mode": "markers",
           "name": "Maharashtra",
           "showlegend": true,
           "type": "scattergeo"
          },
          {
           "geo": "geo",
           "hovertemplate": "<b>%{hovertext}</b><br><br>region=Al Qahirah<br>time=2023-12-02 03:00<br>temp_f=%{marker.size}<br>lat=%{lat}<br>lon=%{lon}<extra></extra>",
           "hovertext": [
            "Egypt"
           ],
           "lat": [
            30.04
           ],
           "legendgroup": "Al Qahirah",
           "lon": [
            31.24
           ],
           "marker": {
            "color": "#00cc96",
            "size": [
             61.9
            ],
            "sizemode": "area",
            "sizeref": 0.23675000000000002,
            "symbol": "circle"
           },
           "mode": "markers",
           "name": "Al Qahirah",
           "showlegend": true,
           "type": "scattergeo"
          },
          {
           "geo": "geo",
           "hovertemplate": "<b>%{hovertext}</b><br><br>region=Lagos<br>time=2023-12-02 03:00<br>temp_f=%{marker.size}<br>lat=%{lat}<br>lon=%{lon}<extra></extra>",
           "hovertext": [
            "Nigeria"
           ],
           "lat": [
            6.52
           ],
           "legendgroup": "Lagos",
           "lon": [
            3.38
           ],
           "marker": {
            "color": "#ab63fa",
            "size": [
             82.7
            ],
            "sizemode": "area",
            "sizeref": 0.23675000000000002,
            "symbol": "circle"
           },
           "mode": "markers",
           "name": "Lagos",
           "showlegend": true,
           "type": "scattergeo"
          },
          {
           "geo": "geo",
           "hovertemplate": "<b>%{hovertext}</b><br><br>region=Gauteng<br>time=2023-12-02 03:00<br>temp_f=%{marker.size}<br>lat=%{lat}<br>lon=%{lon}<extra></extra>",
           "hovertext": [
            "South Africa"
           ],
           "lat": [
            -26.2
           ],
           "legendgroup": "Gauteng",
           "lon": [
            28.05
           ],
           "marker": {
            "color": "#FFA15A",
            "size": [
             67.6
            ],
            "sizemode": "area",
            "sizeref": 0.23675000000000002,
            "symbol": "circle"
           },
           "mode": "markers",
           "name": "Gauteng",
           "showlegend": true,
           "type": "scattergeo"
          },
          {
           "geo": "geo",
           "hovertemplate": "<b>%{hovertext}</b><br><br>region=New South Wales<br>time=2023-12-02 03:00<br>temp_f=%{marker.size}<br>lat=%{lat}<br>lon=%{lon}<extra></extra>",
           "hovertext": [
            "Australia"
           ],
           "lat": [
            -33.87
           ],
           "legendgroup": "New South Wales",
           "lon": [
            151.21
           ],
           "marker": {
            "color": "#19d3f3",
            "size": [
             65.7
            ],
            "sizemode": "area",
            "sizeref": 0.23675000000000002,
            "symbol": "circle"
           },
           "mode": "markers",
           "name": "New South Wales",
           "showlegend": true,
           "type": "scattergeo"
          },
          {
           "geo": "geo",
           "hovertemplate": "<b>%{hovertext}</b><br><br>region=Victoria<br>time=2023-12-02 03:00<br>temp_f=%{marker.size}<br>lat=%{lat}<br>lon=%{lon}<extra></extra>",
           "hovertext": [
            "Australia"
           ],
           "lat": [
            -37.81
           ],
           "legendgroup": "Victoria",
           "lon": [
            144.96
           ],
           "marker": {
            "color": "#FF6692",
            "size": [
             59.2
            ],
            "sizemode": "area",
            "sizeref": 0.23675000000000002,
            "symbol": "circle"
           },
           "mode": "markers",
           "name": "Victoria",
           "showlegend": true,
           "type": "scattergeo"
          },
          {
           "geo": "geo",
           "hovertemplate": "<b>%{hovertext}</b><br><br>region=Queensland<br>time=2023-12-02 03:00<br>temp_f=%{marker.size}<br>lat=%{lat}<br>lon=%{lon}<extra></extra>",
           "hovertext": [
            "Australia"
           ],
           "lat": [
            -27.47
           ],
           "legendgroup": "Queensland",
           "lon": [
            153.03
           ],
           "marker": {
            "color": "#B6E880",
            "size": [
             68.5
            ],
            "sizemode": "area",
            "sizeref": 0.23675000000000002,
            "symbol": "circle"
           },
           "mode": "markers",
           "name": "Queensland",
           "showlegend": true,
           "type": "scattergeo"
          }
         ],
         "name": "2023-12-02 03:00"
        },
        {
         "data": [
          {
           "geo": "geo",
           "hovertemplate": "<b>%{hovertext}</b><br><br>region=New York<br>time=2023-12-02 04:00<br>temp_f=%{marker.size}<br>lat=%{lat}<br>lon=%{lon}<extra></extra>",
           "hovertext": [
            "United States of America"
           ],
           "lat": [
            40.71
           ],
           "legendgroup": "New York",
           "lon": [
            -74.01
           ],
           "marker": {
            "color": "#636efa",
            "size": [
             43.7
            ],
            "sizemode": "area",
            "sizeref": 0.23675000000000002,
            "symbol": "circle"
           },
           "mode": "markers",
           "name": "New York",
           "showlegend": true,
           "type": "scattergeo"
          },
          {
           "geo": "geo",
           "hovertemplate": "<b>%{hovertext}</b><br><br>region=California<br>time=2023-12-02 04:00<br>temp_f=%{marker.size}<br>lat=%{lat}<br>lon=%{lon}<extra></extra>",
           "hovertext": [
            "United States of America"
           ],
           "lat": [
            34.05
           ],
           "legendgroup": "California",
           "lon": [
            -118.24
           ],
           "marker": {
            "color": "#EF553B",
            "size": [
             50.5
            ],
            "sizemode": "area",
            "sizeref": 0.23675000000000002,
            "symbol": "circle"
           },
           "mode": "markers",
           "name": "California",
           "showlegend": true,
           "type": "scattergeo"
          },
          {
           "geo": "geo",
           "hovertemplate": "<b>%{hovertext}</b><br><br>region=Ontario<br>time=2023-12-02 04:00<br>temp_f=%{marker.size}<br>lat=%{lat}<br>lon=%{lon}<extra></extra>",
           "hovertext": [
            "Canada"
           ],
           "lat": [
            43.65
           ],
           "legendgroup": "Ontario",
           "lon": [
            -79.38
           ],
           "marker": {
            "color": "#00cc96",
            "size": [
             39.4
            ],
            "sizemode": "area",
            "sizeref": 0.23675000000000002,
            "symbol": "circle"
           },
           "mode": "markers",
           "name": "Ontario",
           "showlegend": true,
           "type": "scattergeo"
          },
          {
           "geo": "geo",
           "hovertemplate": "<b>%{hovertext}</b><br><br>region=Sao Paulo<br>time=2023-12-02 04:00<br>temp_f=%{marker.size}<br>lat=%{lat}<br>lon=%{lon}<extra></extra>",
           "hovertext": [
            "Brazil"
           ],
           "lat": [
            -23.55
           ],
           "legendgroup": "Sao Paulo",
           "lon": [
            -46.63
           ],
           "marker": {
            "color": "#ab63fa",
            "size": [
             69.4
            ],
            "sizemode": "area",
            "sizeref": 0.23675000000000002,
            "symbol": "circle"
           },
           "mode": "markers",
           "name": "Sao Paulo",
           "showlegend": true,
           "type": "scattergeo"
          },
          {
           "geo": "geo",
           "hovertemplate": "<b>%{hovertext}</b><br><br>region=Buenos Aires<br>time=2023-12-02 04:00<br>temp_f=%{marker.size}<br>lat=%{lat}<br>lon=%{lon}<extra></extra>",
           "hovertext": [
            "Argentina"
           ],
           "lat": [
            -34.6
           ],
           "legendgroup": "Buenos Aires",
           "lon": [
            -58.38
           ],
           "marker": {
            "color": "#FFA15A",
            "size": [
             68.4
            ],
            "sizemode": "area",
            "sizeref": 0.23675000000000002,
            "symbol": "circle"
           },
           "mode": "markers",
           "name": "Buenos Aires",
           "showlegend": true,
           "type": "scattergeo"
          },
          {
           "geo": "geo",
           "hovertemplate": "<b>%{hovertext}</b><br><br>region=Cundinamarca<br>time=2023-12-02 04:00<br>temp_f=%{marker.size}<br>lat=%{lat}<br>lon=%{lon}<extra></extra>",
           "hovertext": [
            "Colombia"
           ],
           "lat": [
            4.71
           ],
           "legendgroup": "Cundinamarca",
           "lon": [
            -74.07
           ],
           "marker": {
            "color": "#19d3f3",
            "size": [
             42.9
            ],
            "sizemode": "area",
            "sizeref": 0.23675000000000002,
            "symbol": "circle"
           },
           "mode": "markers",
           "name": "Cundinamarca",
           "showlegend": true,
           "type": "scattergeo"
          },
          {
           "geo": "geo",
           "hovertemplate": "<b>%{hovertext}</b><br><br>region=City of London, Greater London<br>time=2023-12-02 04:00<br>temp_f=%{marker.size}<br>lat=%{lat}<br>lon=%{lon}<extra></extra>",
           "hovertext": [
            "United Kingdom"
           ],
           "lat": [
            51.51
           ],
           "legendgroup": "City of London, Greater London",
           "lon": [
            -0.13
           ],
           "marker": {
            "color": "#FF6692",
            "size": [
             32.3
            ],
            "sizemode": "area",
            "sizeref": 0.23675000000000002,
            "symbol": "circle"
           },
           "mode": "markers",
           "name": "City of London, Greater London",
           "showlegend": true,
           "type": "scattergeo"
          },
          {
           "geo": "geo",
           "hovertemplate": "<b>%{hovertext}</b><br><br>region=Ile-de-France<br>time=2023-12-02 04:00<br>temp_f=%{marker.size}<br>lat=%{lat}<br>lon=%{lon}<extra></extra>",
           "hovertext": [
            "France"
           ],
           "lat": [
            48.86
           ],
           "legendgroup": "Ile-de-France",
           "lon": [
            2.35
           ],
           "marker": {
            "color": "#B6E880",
            "size": [
             30.5
            ],
            "sizemode": "area",
            "sizeref": 0.23675000000000002,
            "symbol": "circle"
           },
           "mode": "markers",
           "name": "Ile-de-France",
           "showlegend": true,
           "type": "scattergeo"
          },
          {
           "geo": "geo",
           "hovertemplate": "<b>%{hovertext}</b><br><br>region=Berlin<br>time=2023-12-02 04:00<br>temp_f=%{marker.size}<br>lat=%{lat}<br>lon=%{lon}<extra></extra>",
           "hovertext": [
            "Germany"
           ],
           "lat": [
            52.52
           ],
           "legendgroup": "Berlin",
           "lon": [
            13.41
           ],
           "marker": {
            "color": "#FF97FF",
            "size": [
             22.1
            ],
            "sizemode": "area",
            "sizeref": 0.23675000000000002,
            "symbol": "circle"
           },
           "mode": "markers",
           "name": "Berlin",
           "showlegend": true,
           "type": "scattergeo"
          },
          {
           "geo": "geo",
           "hovertemplate": "<b>%{hovertext}</b><br><br>region=Tokyo<br>time=2023-12-02 04:00<br>temp_f=%{marker.size}<br>lat=%{lat}<br>lon=%{lon}<extra></extra>",
           "hovertext": [
            "Japan"
           ],
           "lat": [
            35.68
           ],
           "legendgroup": "Tokyo",
           "lon": [
            139.65
           ],
           "marker": {
            "color": "#FECB52",
            "size": [
             47.2
            ],
            "sizemode": "area",
            "sizeref": 0.23675000000000002,
            "symbol": "circle"
           },
           "mode": "markers",
           "name": "Tokyo",
           "showlegend": true,
           "type": "scattergeo"
          },
          {
           "geo": "geo",
           "hovertemplate": "<b>%{hovertext}</b><br><br>region=Beijing<br>time=2023-12-02 04:00<br>temp_f=%{marker.size}<br>lat=%{lat}<br>lon=%{lon}<extra></extra>",
           "hovertext": [
            "China"
           ],
           "lat": [
            39.9
           ],
           "legendgroup": "Beijing",
           "lon": [
            116.41
           ],
           "marker": {
            "color": "#636efa",
            "size": [
             31
            ],
            "sizemode": "area",
            "sizeref": 0.23675000000000002,
            "symbol": "circle"
           },
           "mode": "markers",
           "name": "Beijing",
           "showlegend": true,
           "type": "scattergeo"
          },
          {
           "geo": "geo",
           "hovertemplate": "<b>%{hovertext}</b><br><br>region=Maharashtra<br>time=2023-12-02 04:00<br>temp_f=%{marker.size}<br>lat=%{lat}<br>lon=%{lon}<extra></extra>",
           "hovertext": [
            "India"
           ],
           "lat": [
            19.08
           ],
           "legendgroup": "Maharashtra",
           "lon": [
            72.88
           ],
           "marker": {
            "color": "#EF553B",
            "size": [
             75.6
            ],
            "sizemode": "area",
            "sizeref": 0.23675000000000002,
            "symbol": "circle"
           },
           "mode": "markers",
           "name": "Maharashtra",
           "showlegend": true,
           "type": "scattergeo"
          },
          {
           "geo": "geo",
           "hovertemplate": "<b>%{hovertext}</b><br><br>region=Al Qahirah<br>time=2023-12-02 04:00<br>temp_f=%{marker.size}<br>lat=%{lat}<br>lon=%{lon}<extra></extra>",
           "hovertext": [
            "Egypt"
           ],
           "lat": [
            30.04
           ],
           "legendgroup": "Al Qahirah",
           "lon": [
            31.24
           ],
           "marker": {
            "color": "#00cc96",
            "size": [
             61.5
            ],
            "sizemode": "area",
            "sizeref": 0.23675000000000002,
            "symbol": "circle"
           },
           "mode": "markers",
           "name": "Al Qahirah",
           "showlegend": true,
           "type": "scattergeo"
          },
          {
           "geo": "geo",
           "hovertemplate": "<b>%{hovertext}</b><br><br>region=Lagos<br>time=2023-12-02 04:00<br>temp_f=%{marker.size}<br>lat=%{lat}<br>lon=%{lon}<extra></extra>",
           "hovertext": [
            "Nigeria"
           ],
           "lat": [
            6.52
           ],
           "legendgroup": "Lagos",
           "lon": [
            3.38
           ],
           "marker": {
            "color": "#ab63fa",
            "size": [
             82.6
            ],
            "sizemode": "area",
            "sizeref": 0.23675000000000002,
            "symbol": "circle"
           },
           "mode": "markers",
           "name": "Lagos",
           "showlegend": true,
           "type": "scattergeo"
          },
          {
           "geo": "geo",
           "hovertemplate": "<b>%{hovertext}</b><br><br>region=Gauteng<br>time=2023-12-02 04:00<br>temp_f=%{marker.size}<br>lat=%{lat}<br>lon=%{lon}<extra></extra>",
           "hovertext": [
            "South Africa"
           ],
           "lat": [
            -26.2
           ],
           "legendgroup": "Gauteng",
           "lon": [
            28.05
           ],
           "marker": {
            "color": "#FFA15A",
            "size": [
             66.2
            ],
            "sizemode": "area",
            "sizeref": 0.23675000000000002,
            "symbol": "circle"
           },
           "mode": "markers",
           "name": "Gauteng",
           "showlegend": true,
           "type": "scattergeo"
          },
          {
           "geo": "geo",
           "hovertemplate": "<b>%{hovertext}</b><br><br>region=New South Wales<br>time=2023-12-02 04:00<br>temp_f=%{marker.size}<br>lat=%{lat}<br>lon=%{lon}<extra></extra>",
           "hovertext": [
            "Australia"
           ],
           "lat": [
            -33.87
           ],
           "legendgroup": "New South Wales",
           "lon": [
            151.21
           ],
           "marker": {
            "color": "#19d3f3",
            "size": [
             65.5
            ],
            "sizemode": "area",
            "sizeref": 0.23675000000000002,
            "symbol": "circle"
           },
           "mode": "markers",
           "name": "New South Wales",
           "showlegend": true,
           "type": "scattergeo"
          },
          {
           "geo": "geo",
           "hovertemplate": "<b>%{hovertext}</b><br><br>region=Victoria<br>time=2023-12-02 04:00<br>temp_f=%{marker.size}<br>lat=%{lat}<br>lon=%{lon}<extra></extra>",
           "hovertext": [
            "Australia"
           ],
           "lat": [
            -37.81
           ],
           "legendgroup": "Victoria",
           "lon": [
            144.96
           ],
           "marker": {
            "color": "#FF6692",
            "size": [
             59
            ],
            "sizemode": "area",
            "sizeref": 0.23675000000000002,
            "symbol": "circle"
           },
           "mode": "markers",
           "name": "Victoria",
           "showlegend": true,
           "type": "scattergeo"
          },
          {
           "geo": "geo",
           "hovertemplate": "<b>%{hovertext}</b><br><br>region=Queensland<br>time=2023-12-02 04:00<br>temp_f=%{marker.size}<br>lat=%{lat}<br>lon=%{lon}<extra></extra>",
           "hovertext": [
            "Australia"
           ],
           "lat": [
            -27.47
           ],
           "legendgroup": "Queensland",
           "lon": [
            153.03
           ],
           "marker": {
            "color": "#B6E880",
            "size": [
             68.3
            ],
            "sizemode": "area",
            "sizeref": 0.23675000000000002,
            "symbol": "circle"
           },
           "mode": "markers",
           "name": "Queensland",
           "showlegend": true,
           "type": "scattergeo"
          }
         ],
         "name": "2023-12-02 04:00"
        },
        {
         "data": [
          {
           "geo": "geo",
           "hovertemplate": "<b>%{hovertext}</b><br><br>region=New York<br>time=2023-12-02 05:00<br>temp_f=%{marker.size}<br>lat=%{lat}<br>lon=%{lon}<extra></extra>",
           "hovertext": [
            "United States of America"
           ],
           "lat": [
            40.71
           ],
           "legendgroup": "New York",
           "lon": [
            -74.01
           ],
           "marker": {
            "color": "#636efa",
            "size": [
             43.5
            ],
            "sizemode": "area",
            "sizeref": 0.23675000000000002,
            "symbol": "circle"
           },
           "mode": "markers",
           "name": "New York",
           "showlegend": true,
           "type": "scattergeo"
          },
          {
           "geo": "geo",
           "hovertemplate": "<b>%{hovertext}</b><br><br>region=California<br>time=2023-12-02 05:00<br>temp_f=%{marker.size}<br>lat=%{lat}<br>lon=%{lon}<extra></extra>",
           "hovertext": [
            "United States of America"
           ],
           "lat": [
            34.05
           ],
           "legendgroup": "California",
           "lon": [
            -118.24
           ],
           "marker": {
            "color": "#EF553B",
            "size": [
             50.2
            ],
            "sizemode": "area",
            "sizeref": 0.23675000000000002,
            "symbol": "circle"
           },
           "mode": "markers",
           "name": "California",
           "showlegend": true,
           "type": "scattergeo"
          },
          {
           "geo": "geo",
           "hovertemplate": "<b>%{hovertext}</b><br><br>region=Ontario<br>time=2023-12-02 05:00<br>temp_f=%{marker.size}<br>lat=%{lat}<br>lon=%{lon}<extra></extra>",
           "hovertext": [
            "Canada"
           ],
           "lat": [
            43.65
           ],
           "legendgroup": "Ontario",
           "lon": [
            -79.38
           ],
           "marker": {
            "color": "#00cc96",
            "size": [
             39.6
            ],
            "sizemode": "area",
            "sizeref": 0.23675000000000002,
            "symbol": "circle"
           },
           "mode": "markers",
           "name": "Ontario",
           "showlegend": true,
           "type": "scattergeo"
          },
          {
           "geo": "geo",
           "hovertemplate": "<b>%{hovertext}</b><br><br>region=Sao Paulo<br>time=2023-12-02 05:00<br>temp_f=%{marker.size}<br>lat=%{lat}<br>lon=%{lon}<extra></extra>",
           "hovertext": [
            "Brazil"
           ],
           "lat": [
            -23.55
           ],
           "legendgroup": "Sao Paulo",
           "lon": [
            -46.63
           ],
           "marker": {
            "color": "#ab63fa",
            "size": [
             70.2
            ],
            "sizemode": "area",
            "sizeref": 0.23675000000000002,
            "symbol": "circle"
           },
           "mode": "markers",
           "name": "Sao Paulo",
           "showlegend": true,
           "type": "scattergeo"
          },
          {
           "geo": "geo",
           "hovertemplate": "<b>%{hovertext}</b><br><br>region=Buenos Aires<br>time=2023-12-02 05:00<br>temp_f=%{marker.size}<br>lat=%{lat}<br>lon=%{lon}<extra></extra>",
           "hovertext": [
            "Argentina"
           ],
           "lat": [
            -34.6
           ],
           "legendgroup": "Buenos Aires",
           "lon": [
            -58.38
           ],
           "marker": {
            "color": "#FFA15A",
            "size": [
             67.8
            ],
            "sizemode": "area",
            "sizeref": 0.23675000000000002,
            "symbol": "circle"
           },
           "mode": "markers",
           "name": "Buenos Aires",
           "showlegend": true,
           "type": "scattergeo"
          },
          {
           "geo": "geo",
           "hovertemplate": "<b>%{hovertext}</b><br><br>region=Cundinamarca<br>time=2023-12-02 05:00<br>temp_f=%{marker.size}<br>lat=%{lat}<br>lon=%{lon}<extra></extra>",
           "hovertext": [
            "Colombia"
           ],
           "lat": [
            4.71
           ],
           "legendgroup": "Cundinamarca",
           "lon": [
            -74.07
           ],
           "marker": {
            "color": "#19d3f3",
            "size": [
             42.2
            ],
            "sizemode": "area",
            "sizeref": 0.23675000000000002,
            "symbol": "circle"
           },
           "mode": "markers",
           "name": "Cundinamarca",
           "showlegend": true,
           "type": "scattergeo"
          },
          {
           "geo": "geo",
           "hovertemplate": "<b>%{hovertext}</b><br><br>region=City of London, Greater London<br>time=2023-12-02 05:00<br>temp_f=%{marker.size}<br>lat=%{lat}<br>lon=%{lon}<extra></extra>",
           "hovertext": [
            "United Kingdom"
           ],
           "lat": [
            51.51
           ],
           "legendgroup": "City of London, Greater London",
           "lon": [
            -0.13
           ],
           "marker": {
            "color": "#FF6692",
            "size": [
             32.1
            ],
            "sizemode": "area",
            "sizeref": 0.23675000000000002,
            "symbol": "circle"
           },
           "mode": "markers",
           "name": "City of London, Greater London",
           "showlegend": true,
           "type": "scattergeo"
          },
          {
           "geo": "geo",
           "hovertemplate": "<b>%{hovertext}</b><br><br>region=Ile-de-France<br>time=2023-12-02 05:00<br>temp_f=%{marker.size}<br>lat=%{lat}<br>lon=%{lon}<extra></extra>",
           "hovertext": [
            "France"
           ],
           "lat": [
            48.86
           ],
           "legendgroup": "Ile-de-France",
           "lon": [
            2.35
           ],
           "marker": {
            "color": "#B6E880",
            "size": [
             30.4
            ],
            "sizemode": "area",
            "sizeref": 0.23675000000000002,
            "symbol": "circle"
           },
           "mode": "markers",
           "name": "Ile-de-France",
           "showlegend": true,
           "type": "scattergeo"
          },
          {
           "geo": "geo",
           "hovertemplate": "<b>%{hovertext}</b><br><br>region=Berlin<br>time=2023-12-02 05:00<br>temp_f=%{marker.size}<br>lat=%{lat}<br>lon=%{lon}<extra></extra>",
           "hovertext": [
            "Germany"
           ],
           "lat": [
            52.52
           ],
           "legendgroup": "Berlin",
           "lon": [
            13.41
           ],
           "marker": {
            "color": "#FF97FF",
            "size": [
             21.1
            ],
            "sizemode": "area",
            "sizeref": 0.23675000000000002,
            "symbol": "circle"
           },
           "mode": "markers",
           "name": "Berlin",
           "showlegend": true,
           "type": "scattergeo"
          },
          {
           "geo": "geo",
           "hovertemplate": "<b>%{hovertext}</b><br><br>region=Tokyo<br>time=2023-12-02 05:00<br>temp_f=%{marker.size}<br>lat=%{lat}<br>lon=%{lon}<extra></extra>",
           "hovertext": [
            "Japan"
           ],
           "lat": [
            35.68
           ],
           "legendgroup": "Tokyo",
           "lon": [
            139.65
           ],
           "marker": {
            "color": "#FECB52",
            "size": [
             47
            ],
            "sizemode": "area",
            "sizeref": 0.23675000000000002,
            "symbol": "circle"
           },
           "mode": "markers",
           "name": "Tokyo",
           "showlegend": true,
           "type": "scattergeo"
          },
          {
           "geo": "geo",
           "hovertemplate": "<b>%{hovertext}</b><br><br>region=Beijing<br>time=2023-12-02 05:00<br>temp_f=%{marker.size}<br>lat=%{lat}<br>lon=%{lon}<extra></extra>",
           "hovertext": [
            "China"
           ],
           "lat": [
            39.9
           ],
           "legendgroup": "Beijing",
           "lon": [
            116.41
           ],
           "marker": {
            "color": "#636efa",
            "size": [
             31.1
            ],
            "sizemode": "area",
            "sizeref": 0.23675000000000002,
            "symbol": "circle"
           },
           "mode": "markers",
           "name": "Beijing",
           "showlegend": true,
           "type": "scattergeo"
          },
          {
           "geo": "geo",
           "hovertemplate": "<b>%{hovertext}</b><br><br>region=Maharashtra<br>time=2023-12-02 05:00<br>temp_f=%{marker.size}<br>lat=%{lat}<br>lon=%{lon}<extra></extra>",
           "hovertext": [
            "India"
           ],
           "lat": [
            19.08
           ],
           "legendgroup": "Maharashtra",
           "lon": [
            72.88
           ],
           "marker": {
            "color": "#EF553B",
            "size": [
             75.5
            ],
            "sizemode": "area",
            "sizeref": 0.23675000000000002,
            "symbol": "circle"
           },
           "mode": "markers",
           "name": "Maharashtra",
           "showlegend": true,
           "type": "scattergeo"
          },
          {
           "geo": "geo",
           "hovertemplate": "<b>%{hovertext}</b><br><br>region=Al Qahirah<br>time=2023-12-02 05:00<br>temp_f=%{marker.size}<br>lat=%{lat}<br>lon=%{lon}<extra></extra>",
           "hovertext": [
            "Egypt"
           ],
           "lat": [
            30.04
           ],
           "legendgroup": "Al Qahirah",
           "lon": [
            31.24
           ],
           "marker": {
            "color": "#00cc96",
            "size": [
             61.2
            ],
            "sizemode": "area",
            "sizeref": 0.23675000000000002,
            "symbol": "circle"
           },
           "mode": "markers",
           "name": "Al Qahirah",
           "showlegend": true,
           "type": "scattergeo"
          },
          {
           "geo": "geo",
           "hovertemplate": "<b>%{hovertext}</b><br><br>region=Lagos<br>time=2023-12-02 05:00<br>temp_f=%{marker.size}<br>lat=%{lat}<br>lon=%{lon}<extra></extra>",
           "hovertext": [
            "Nigeria"
           ],
           "lat": [
            6.52
           ],
           "legendgroup": "Lagos",
           "lon": [
            3.38
           ],
           "marker": {
            "color": "#ab63fa",
            "size": [
             82.6
            ],
            "sizemode": "area",
            "sizeref": 0.23675000000000002,
            "symbol": "circle"
           },
           "mode": "markers",
           "name": "Lagos",
           "showlegend": true,
           "type": "scattergeo"
          },
          {
           "geo": "geo",
           "hovertemplate": "<b>%{hovertext}</b><br><br>region=Gauteng<br>time=2023-12-02 05:00<br>temp_f=%{marker.size}<br>lat=%{lat}<br>lon=%{lon}<extra></extra>",
           "hovertext": [
            "South Africa"
           ],
           "lat": [
            -26.2
           ],
           "legendgroup": "Gauteng",
           "lon": [
            28.05
           ],
           "marker": {
            "color": "#FFA15A",
            "size": [
             65.2
            ],
            "sizemode": "area",
            "sizeref": 0.23675000000000002,
            "symbol": "circle"
           },
           "mode": "markers",
           "name": "Gauteng",
           "showlegend": true,
           "type": "scattergeo"
          },
          {
           "geo": "geo",
           "hovertemplate": "<b>%{hovertext}</b><br><br>region=New South Wales<br>time=2023-12-02 05:00<br>temp_f=%{marker.size}<br>lat=%{lat}<br>lon=%{lon}<extra></extra>",
           "hovertext": [
            "Australia"
           ],
           "lat": [
            -33.87
           ],
           "legendgroup": "New South Wales",
           "lon": [
            151.21
           ],
           "marker": {
            "color": "#19d3f3",
            "size": [
             65.5
            ],
            "sizemode": "area",
            "sizeref": 0.23675000000000002,
            "symbol": "circle"
           },
           "mode": "markers",
           "name": "New South Wales",
           "showlegend": true,
           "type": "scattergeo"
          },
          {
           "geo": "geo",
           "hovertemplate": "<b>%{hovertext}</b><br><br>region=Victoria<br>time=2023-12-02 05:00<br>temp_f=%{marker.size}<br>lat=%{lat}<br>lon=%{lon}<extra></extra>",
           "hovertext": [
            "Australia"
           ],
           "lat": [
            -37.81
           ],
           "legendgroup": "Victoria",
           "lon": [
            144.96
           ],
           "marker": {
            "color": "#FF6692",
            "size": [
             58.9
            ],
            "sizemode": "area",
            "sizeref": 0.23675000000000002,
            "symbol": "circle"
           },
           "mode": "markers",
           "name": "Victoria",
           "showlegend": true,
           "type": "scattergeo"
          },
          {
           "geo": "geo",
           "hovertemplate": "<b>%{hovertext}</b><br><br>region=Queensland<br>time=2023-12-02 05:00<br>temp_f=%{marker.size}<br>lat=%{lat}<br>lon=%{lon}<extra></extra>",
           "hovertext": [
            "Australia"
           ],
           "lat": [
            -27.47
           ],
           "legendgroup": "Queensland",
           "lon": [
            153.03
           ],
           "marker": {
            "color": "#B6E880",
            "size": [
             68.1
            ],
            "sizemode": "area",
            "sizeref": 0.23675000000000002,
            "symbol": "circle"
           },
           "mode": "markers",
           "name": "Queensland",
           "showlegend": true,
           "type": "scattergeo"
          }
         ],
         "name": "2023-12-02 05:00"
        },
        {
         "data": [
          {
           "geo": "geo",
           "hovertemplate": "<b>%{hovertext}</b><br><br>region=New York<br>time=2023-12-02 06:00<br>temp_f=%{marker.size}<br>lat=%{lat}<br>lon=%{lon}<extra></extra>",
           "hovertext": [
            "United States of America"
           ],
           "lat": [
            40.71
           ],
           "legendgroup": "New York",
           "lon": [
            -74.01
           ],
           "marker": {
            "color": "#636efa",
            "size": [
             43.2
            ],
            "sizemode": "area",
            "sizeref": 0.23675000000000002,
            "symbol": "circle"
           },
           "mode": "markers",
           "name": "New York",
           "showlegend": true,
           "type": "scattergeo"
          },
          {
           "geo": "geo",
           "hovertemplate": "<b>%{hovertext}</b><br><br>region=California<br>time=2023-12-02 06:00<br>temp_f=%{marker.size}<br>lat=%{lat}<br>lon=%{lon}<extra></extra>",
           "hovertext": [
            "United States of America"
           ],
           "lat": [
            34.05
           ],
           "legendgroup": "California",
           "lon": [
            -118.24
           ],
           "marker": {
            "color": "#EF553B",
            "size": [
             49.8
            ],
            "sizemode": "area",
            "sizeref": 0.23675000000000002,
            "symbol": "circle"
           },
           "mode": "markers",
           "name": "California",
           "showlegend": true,
           "type": "scattergeo"
          },
          {
           "geo": "geo",
           "hovertemplate": "<b>%{hovertext}</b><br><br>region=Ontario<br>time=2023-12-02 06:00<br>temp_f=%{marker.size}<br>lat=%{lat}<br>lon=%{lon}<extra></extra>",
           "hovertext": [
            "Canada"
           ],
           "lat": [
            43.65
           ],
           "legendgroup": "Ontario",
           "lon": [
            -79.38
           ],
           "marker": {
            "color": "#00cc96",
            "size": [
             39.6
            ],
            "sizemode": "area",
            "sizeref": 0.23675000000000002,
            "symbol": "circle"
           },
           "mode": "markers",
           "name": "Ontario",
           "showlegend": true,
           "type": "scattergeo"
          },
          {
           "geo": "geo",
           "hovertemplate": "<b>%{hovertext}</b><br><br>region=Sao Paulo<br>time=2023-12-02 06:00<br>temp_f=%{marker.size}<br>lat=%{lat}<br>lon=%{lon}<extra></extra>",
           "hovertext": [
            "Brazil"
           ],
           "lat": [
            -23.55
           ],
           "legendgroup": "Sao Paulo",
           "lon": [
            -46.63
           ],
           "marker": {
            "color": "#ab63fa",
            "size": [
             73.4
            ],
            "sizemode": "area",
            "sizeref": 0.23675000000000002,
            "symbol": "circle"
           },
           "mode": "markers",
           "name": "Sao Paulo",
           "showlegend": true,
           "type": "scattergeo"
          },
          {
           "geo": "geo",
           "hovertemplate": "<b>%{hovertext}</b><br><br>region=Buenos Aires<br>time=2023-12-02 06:00<br>temp_f=%{marker.size}<br>lat=%{lat}<br>lon=%{lon}<extra></extra>",
           "hovertext": [
            "Argentina"
           ],
           "lat": [
            -34.6
           ],
           "legendgroup": "Buenos Aires",
           "lon": [
            -58.38
           ],
           "marker": {
            "color": "#FFA15A",
            "size": [
             67.5
            ],
            "sizemode": "area",
            "sizeref": 0.23675000000000002,
            "symbol": "circle"
           },
           "mode": "markers",
           "name": "Buenos Aires",
           "showlegend": true,
           "type": "scattergeo"
          },
          {
           "geo": "geo",
           "hovertemplate": "<b>%{hovertext}</b><br><br>region=Cundinamarca<br>time=2023-12-02 06:00<br>temp_f=%{marker.size}<br>lat=%{lat}<br>lon=%{lon}<extra></extra>",
           "hovertext": [
            "Colombia"
           ],
           "lat": [
            4.71
           ],
           "legendgroup": "Cundinamarca",
           "lon": [
            -74.07
           ],
           "marker": {
            "color": "#19d3f3",
            "size": [
             41.6
            ],
            "sizemode": "area",
            "sizeref": 0.23675000000000002,
            "symbol": "circle"
           },
           "mode": "markers",
           "name": "Cundinamarca",
           "showlegend": true,
           "type": "scattergeo"
          },
          {
           "geo": "geo",
           "hovertemplate": "<b>%{hovertext}</b><br><br>region=City of London, Greater London<br>time=2023-12-02 06:00<br>temp_f=%{marker.size}<br>lat=%{lat}<br>lon=%{lon}<extra></extra>",
           "hovertext": [
            "United Kingdom"
           ],
           "lat": [
            51.51
           ],
           "legendgroup": "City of London, Greater London",
           "lon": [
            -0.13
           ],
           "marker": {
            "color": "#FF6692",
            "size": [
             32
            ],
            "sizemode": "area",
            "sizeref": 0.23675000000000002,
            "symbol": "circle"
           },
           "mode": "markers",
           "name": "City of London, Greater London",
           "showlegend": true,
           "type": "scattergeo"
          },
          {
           "geo": "geo",
           "hovertemplate": "<b>%{hovertext}</b><br><br>region=Ile-de-France<br>time=2023-12-02 06:00<br>temp_f=%{marker.size}<br>lat=%{lat}<br>lon=%{lon}<extra></extra>",
           "hovertext": [
            "France"
           ],
           "lat": [
            48.86
           ],
           "legendgroup": "Ile-de-France",
           "lon": [
            2.35
           ],
           "marker": {
            "color": "#B6E880",
            "size": [
             30.3
            ],
            "sizemode": "area",
            "sizeref": 0.23675000000000002,
            "symbol": "circle"
           },
           "mode": "markers",
           "name": "Ile-de-France",
           "showlegend": true,
           "type": "scattergeo"
          },
          {
           "geo": "geo",
           "hovertemplate": "<b>%{hovertext}</b><br><br>region=Berlin<br>time=2023-12-02 06:00<br>temp_f=%{marker.size}<br>lat=%{lat}<br>lon=%{lon}<extra></extra>",
           "hovertext": [
            "Germany"
           ],
           "lat": [
            52.52
           ],
           "legendgroup": "Berlin",
           "lon": [
            13.41
           ],
           "marker": {
            "color": "#FF97FF",
            "size": [
             20.8
            ],
            "sizemode": "area",
            "sizeref": 0.23675000000000002,
            "symbol": "circle"
           },
           "mode": "markers",
           "name": "Berlin",
           "showlegend": true,
           "type": "scattergeo"
          },
          {
           "geo": "geo",
           "hovertemplate": "<b>%{hovertext}</b><br><br>region=Tokyo<br>time=2023-12-02 06:00<br>temp_f=%{marker.size}<br>lat=%{lat}<br>lon=%{lon}<extra></extra>",
           "hovertext": [
            "Japan"
           ],
           "lat": [
            35.68
           ],
           "legendgroup": "Tokyo",
           "lon": [
            139.65
           ],
           "marker": {
            "color": "#FECB52",
            "size": [
             46.8
            ],
            "sizemode": "area",
            "sizeref": 0.23675000000000002,
            "symbol": "circle"
           },
           "mode": "markers",
           "name": "Tokyo",
           "showlegend": true,
           "type": "scattergeo"
          },
          {
           "geo": "geo",
           "hovertemplate": "<b>%{hovertext}</b><br><br>region=Beijing<br>time=2023-12-02 06:00<br>temp_f=%{marker.size}<br>lat=%{lat}<br>lon=%{lon}<extra></extra>",
           "hovertext": [
            "China"
           ],
           "lat": [
            39.9
           ],
           "legendgroup": "Beijing",
           "lon": [
            116.41
           ],
           "marker": {
            "color": "#636efa",
            "size": [
             33
            ],
            "sizemode": "area",
            "sizeref": 0.23675000000000002,
            "symbol": "circle"
           },
           "mode": "markers",
           "name": "Beijing",
           "showlegend": true,
           "type": "scattergeo"
          },
          {
           "geo": "geo",
           "hovertemplate": "<b>%{hovertext}</b><br><br>region=Maharashtra<br>time=2023-12-02 06:00<br>temp_f=%{marker.size}<br>lat=%{lat}<br>lon=%{lon}<extra></extra>",
           "hovertext": [
            "India"
           ],
           "lat": [
            19.08
           ],
           "legendgroup": "Maharashtra",
           "lon": [
            72.88
           ],
           "marker": {
            "color": "#EF553B",
            "size": [
             75.2
            ],
            "sizemode": "area",
            "sizeref": 0.23675000000000002,
            "symbol": "circle"
           },
           "mode": "markers",
           "name": "Maharashtra",
           "showlegend": true,
           "type": "scattergeo"
          },
          {
           "geo": "geo",
           "hovertemplate": "<b>%{hovertext}</b><br><br>region=Al Qahirah<br>time=2023-12-02 06:00<br>temp_f=%{marker.size}<br>lat=%{lat}<br>lon=%{lon}<extra></extra>",
           "hovertext": [
            "Egypt"
           ],
           "lat": [
            30.04
           ],
           "legendgroup": "Al Qahirah",
           "lon": [
            31.24
           ],
           "marker": {
            "color": "#00cc96",
            "size": [
             60.9
            ],
            "sizemode": "area",
            "sizeref": 0.23675000000000002,
            "symbol": "circle"
           },
           "mode": "markers",
           "name": "Al Qahirah",
           "showlegend": true,
           "type": "scattergeo"
          },
          {
           "geo": "geo",
           "hovertemplate": "<b>%{hovertext}</b><br><br>region=Lagos<br>time=2023-12-02 06:00<br>temp_f=%{marker.size}<br>lat=%{lat}<br>lon=%{lon}<extra></extra>",
           "hovertext": [
            "Nigeria"
           ],
           "lat": [
            6.52
           ],
           "legendgroup": "Lagos",
           "lon": [
            3.38
           ],
           "marker": {
            "color": "#ab63fa",
            "size": [
             82.4
            ],
            "sizemode": "area",
            "sizeref": 0.23675000000000002,
            "symbol": "circle"
           },
           "mode": "markers",
           "name": "Lagos",
           "showlegend": true,
           "type": "scattergeo"
          },
          {
           "geo": "geo",
           "hovertemplate": "<b>%{hovertext}</b><br><br>region=Gauteng<br>time=2023-12-02 06:00<br>temp_f=%{marker.size}<br>lat=%{lat}<br>lon=%{lon}<extra></extra>",
           "hovertext": [
            "South Africa"
           ],
           "lat": [
            -26.2
           ],
           "legendgroup": "Gauteng",
           "lon": [
            28.05
           ],
           "marker": {
            "color": "#FFA15A",
            "size": [
             65.5
            ],
            "sizemode": "area",
            "sizeref": 0.23675000000000002,
            "symbol": "circle"
           },
           "mode": "markers",
           "name": "Gauteng",
           "showlegend": true,
           "type": "scattergeo"
          },
          {
           "geo": "geo",
           "hovertemplate": "<b>%{hovertext}</b><br><br>region=New South Wales<br>time=2023-12-02 06:00<br>temp_f=%{marker.size}<br>lat=%{lat}<br>lon=%{lon}<extra></extra>",
           "hovertext": [
            "Australia"
           ],
           "lat": [
            -33.87
           ],
           "legendgroup": "New South Wales",
           "lon": [
            151.21
           ],
           "marker": {
            "color": "#19d3f3",
            "size": [
             66.1
            ],
            "sizemode": "area",
            "sizeref": 0.23675000000000002,
            "symbol": "circle"
           },
           "mode": "markers",
           "name": "New South Wales",
           "showlegend": true,
           "type": "scattergeo"
          },
          {
           "geo": "geo",
           "hovertemplate": "<b>%{hovertext}</b><br><br>region=Victoria<br>time=2023-12-02 06:00<br>temp_f=%{marker.size}<br>lat=%{lat}<br>lon=%{lon}<extra></extra>",
           "hovertext": [
            "Australia"
           ],
           "lat": [
            -37.81
           ],
           "legendgroup": "Victoria",
           "lon": [
            144.96
           ],
           "marker": {
            "color": "#FF6692",
            "size": [
             58.8
            ],
            "sizemode": "area",
            "sizeref": 0.23675000000000002,
            "symbol": "circle"
           },
           "mode": "markers",
           "name": "Victoria",
           "showlegend": true,
           "type": "scattergeo"
          },
          {
           "geo": "geo",
           "hovertemplate": "<b>%{hovertext}</b><br><br>region=Queensland<br>time=2023-12-02 06:00<br>temp_f=%{marker.size}<br>lat=%{lat}<br>lon=%{lon}<extra></extra>",
           "hovertext": [
            "Australia"
           ],
           "lat": [
            -27.47
           ],
           "legendgroup": "Queensland",
           "lon": [
            153.03
           ],
           "marker": {
            "color": "#B6E880",
            "size": [
             70.3
            ],
            "sizemode": "area",
            "sizeref": 0.23675000000000002,
            "symbol": "circle"
           },
           "mode": "markers",
           "name": "Queensland",
           "showlegend": true,
           "type": "scattergeo"
          }
         ],
         "name": "2023-12-02 06:00"
        },
        {
         "data": [
          {
           "geo": "geo",
           "hovertemplate": "<b>%{hovertext}</b><br><br>region=New York<br>time=2023-12-02 07:00<br>temp_f=%{marker.size}<br>lat=%{lat}<br>lon=%{lon}<extra></extra>",
           "hovertext": [
            "United States of America"
           ],
           "lat": [
            40.71
           ],
           "legendgroup": "New York",
           "lon": [
            -74.01
           ],
           "marker": {
            "color": "#636efa",
            "size": [
             43
            ],
            "sizemode": "area",
            "sizeref": 0.23675000000000002,
            "symbol": "circle"
           },
           "mode": "markers",
           "name": "New York",
           "showlegend": true,
           "type": "scattergeo"
          },
          {
           "geo": "geo",
           "hovertemplate": "<b>%{hovertext}</b><br><br>region=California<br>time=2023-12-02 07:00<br>temp_f=%{marker.size}<br>lat=%{lat}<br>lon=%{lon}<extra></extra>",
           "hovertext": [
            "United States of America"
           ],
           "lat": [
            34.05
           ],
           "legendgroup": "California",
           "lon": [
            -118.24
           ],
           "marker": {
            "color": "#EF553B",
            "size": [
             49.6
            ],
            "sizemode": "area",
            "sizeref": 0.23675000000000002,
            "symbol": "circle"
           },
           "mode": "markers",
           "name": "California",
           "showlegend": true,
           "type": "scattergeo"
          },
          {
           "geo": "geo",
           "hovertemplate": "<b>%{hovertext}</b><br><br>region=Ontario<br>time=2023-12-02 07:00<br>temp_f=%{marker.size}<br>lat=%{lat}<br>lon=%{lon}<extra></extra>",
           "hovertext": [
            "Canada"
           ],
           "lat": [
            43.65
           ],
           "legendgroup": "Ontario",
           "lon": [
            -79.38
           ],
           "marker": {
            "color": "#00cc96",
            "size": [
             39.6
            ],
            "sizemode": "area",
            "sizeref": 0.23675000000000002,
            "symbol": "circle"
           },
           "mode": "markers",
           "name": "Ontario",
           "showlegend": true,
           "type": "scattergeo"
          },
          {
           "geo": "geo",
           "hovertemplate": "<b>%{hovertext}</b><br><br>region=Sao Paulo<br>time=2023-12-02 07:00<br>temp_f=%{marker.size}<br>lat=%{lat}<br>lon=%{lon}<extra></extra>",
           "hovertext": [
            "Brazil"
           ],
           "lat": [
            -23.55
           ],
           "legendgroup": "Sao Paulo",
           "lon": [
            -46.63
           ],
           "marker": {
            "color": "#ab63fa",
            "size": [
             77.7
            ],
            "sizemode": "area",
            "sizeref": 0.23675000000000002,
            "symbol": "circle"
           },
           "mode": "markers",
           "name": "Sao Paulo",
           "showlegend": true,
           "type": "scattergeo"
          },
          {
           "geo": "geo",
           "hovertemplate": "<b>%{hovertext}</b><br><br>region=Buenos Aires<br>time=2023-12-02 07:00<br>temp_f=%{marker.size}<br>lat=%{lat}<br>lon=%{lon}<extra></extra>",
           "hovertext": [
            "Argentina"
           ],
           "lat": [
            -34.6
           ],
           "legendgroup": "Buenos Aires",
           "lon": [
            -58.38
           ],
           "marker": {
            "color": "#FFA15A",
            "size": [
             68.9
            ],
            "sizemode": "area",
            "sizeref": 0.23675000000000002,
            "symbol": "circle"
           },
           "mode": "markers",
           "name": "Buenos Aires",
           "showlegend": true,
           "type": "scattergeo"
          },
          {
           "geo": "geo",
           "hovertemplate": "<b>%{hovertext}</b><br><br>region=Cundinamarca<br>time=2023-12-02 07:00<br>temp_f=%{marker.size}<br>lat=%{lat}<br>lon=%{lon}<extra></extra>",
           "hovertext": [
            "Colombia"
           ],
           "lat": [
            4.71
           ],
           "legendgroup": "Cundinamarca",
           "lon": [
            -74.07
           ],
           "marker": {
            "color": "#19d3f3",
            "size": [
             49.9
            ],
            "sizemode": "area",
            "sizeref": 0.23675000000000002,
            "symbol": "circle"
           },
           "mode": "markers",
           "name": "Cundinamarca",
           "showlegend": true,
           "type": "scattergeo"
          },
          {
           "geo": "geo",
           "hovertemplate": "<b>%{hovertext}</b><br><br>region=City of London, Greater London<br>time=2023-12-02 07:00<br>temp_f=%{marker.size}<br>lat=%{lat}<br>lon=%{lon}<extra></extra>",
           "hovertext": [
            "United Kingdom"
           ],
           "lat": [
            51.51
           ],
           "legendgroup": "City of London, Greater London",
           "lon": [
            -0.13
           ],
           "marker": {
            "color": "#FF6692",
            "size": [
             32
            ],
            "sizemode": "area",
            "sizeref": 0.23675000000000002,
            "symbol": "circle"
           },
           "mode": "markers",
           "name": "City of London, Greater London",
           "showlegend": true,
           "type": "scattergeo"
          },
          {
           "geo": "geo",
           "hovertemplate": "<b>%{hovertext}</b><br><br>region=Ile-de-France<br>time=2023-12-02 07:00<br>temp_f=%{marker.size}<br>lat=%{lat}<br>lon=%{lon}<extra></extra>",
           "hovertext": [
            "France"
           ],
           "lat": [
            48.86
           ],
           "legendgroup": "Ile-de-France",
           "lon": [
            2.35
           ],
           "marker": {
            "color": "#B6E880",
            "size": [
             30.3
            ],
            "sizemode": "area",
            "sizeref": 0.23675000000000002,
            "symbol": "circle"
           },
           "mode": "markers",
           "name": "Ile-de-France",
           "showlegend": true,
           "type": "scattergeo"
          },
          {
           "geo": "geo",
           "hovertemplate": "<b>%{hovertext}</b><br><br>region=Berlin<br>time=2023-12-02 07:00<br>temp_f=%{marker.size}<br>lat=%{lat}<br>lon=%{lon}<extra></extra>",
           "hovertext": [
            "Germany"
           ],
           "lat": [
            52.52
           ],
           "legendgroup": "Berlin",
           "lon": [
            13.41
           ],
           "marker": {
            "color": "#FF97FF",
            "size": [
             20.7
            ],
            "sizemode": "area",
            "sizeref": 0.23675000000000002,
            "symbol": "circle"
           },
           "mode": "markers",
           "name": "Berlin",
           "showlegend": true,
           "type": "scattergeo"
          },
          {
           "geo": "geo",
           "hovertemplate": "<b>%{hovertext}</b><br><br>region=Tokyo<br>time=2023-12-02 07:00<br>temp_f=%{marker.size}<br>lat=%{lat}<br>lon=%{lon}<extra></extra>",
           "hovertext": [
            "Japan"
           ],
           "lat": [
            35.68
           ],
           "legendgroup": "Tokyo",
           "lon": [
            139.65
           ],
           "marker": {
            "color": "#FECB52",
            "size": [
             46.7
            ],
            "sizemode": "area",
            "sizeref": 0.23675000000000002,
            "symbol": "circle"
           },
           "mode": "markers",
           "name": "Tokyo",
           "showlegend": true,
           "type": "scattergeo"
          },
          {
           "geo": "geo",
           "hovertemplate": "<b>%{hovertext}</b><br><br>region=Beijing<br>time=2023-12-02 07:00<br>temp_f=%{marker.size}<br>lat=%{lat}<br>lon=%{lon}<extra></extra>",
           "hovertext": [
            "China"
           ],
           "lat": [
            39.9
           ],
           "legendgroup": "Beijing",
           "lon": [
            116.41
           ],
           "marker": {
            "color": "#636efa",
            "size": [
             33.4
            ],
            "sizemode": "area",
            "sizeref": 0.23675000000000002,
            "symbol": "circle"
           },
           "mode": "markers",
           "name": "Beijing",
           "showlegend": true,
           "type": "scattergeo"
          },
          {
           "geo": "geo",
           "hovertemplate": "<b>%{hovertext}</b><br><br>region=Maharashtra<br>time=2023-12-02 07:00<br>temp_f=%{marker.size}<br>lat=%{lat}<br>lon=%{lon}<extra></extra>",
           "hovertext": [
            "India"
           ],
           "lat": [
            19.08
           ],
           "legendgroup": "Maharashtra",
           "lon": [
            72.88
           ],
           "marker": {
            "color": "#EF553B",
            "size": [
             75.9
            ],
            "sizemode": "area",
            "sizeref": 0.23675000000000002,
            "symbol": "circle"
           },
           "mode": "markers",
           "name": "Maharashtra",
           "showlegend": true,
           "type": "scattergeo"
          },
          {
           "geo": "geo",
           "hovertemplate": "<b>%{hovertext}</b><br><br>region=Al Qahirah<br>time=2023-12-02 07:00<br>temp_f=%{marker.size}<br>lat=%{lat}<br>lon=%{lon}<extra></extra>",
           "hovertext": [
            "Egypt"
           ],
           "lat": [
            30.04
           ],
           "legendgroup": "Al Qahirah",
           "lon": [
            31.24
           ],
           "marker": {
            "color": "#00cc96",
            "size": [
             60.9
            ],
            "sizemode": "area",
            "sizeref": 0.23675000000000002,
            "symbol": "circle"
           },
           "mode": "markers",
           "name": "Al Qahirah",
           "showlegend": true,
           "type": "scattergeo"
          },
          {
           "geo": "geo",
           "hovertemplate": "<b>%{hovertext}</b><br><br>region=Lagos<br>time=2023-12-02 07:00<br>temp_f=%{marker.size}<br>lat=%{lat}<br>lon=%{lon}<extra></extra>",
           "hovertext": [
            "Nigeria"
           ],
           "lat": [
            6.52
           ],
           "legendgroup": "Lagos",
           "lon": [
            3.38
           ],
           "marker": {
            "color": "#ab63fa",
            "size": [
             82.3
            ],
            "sizemode": "area",
            "sizeref": 0.23675000000000002,
            "symbol": "circle"
           },
           "mode": "markers",
           "name": "Lagos",
           "showlegend": true,
           "type": "scattergeo"
          },
          {
           "geo": "geo",
           "hovertemplate": "<b>%{hovertext}</b><br><br>region=Gauteng<br>time=2023-12-02 07:00<br>temp_f=%{marker.size}<br>lat=%{lat}<br>lon=%{lon}<extra></extra>",
           "hovertext": [
            "South Africa"
           ],
           "lat": [
            -26.2
           ],
           "legendgroup": "Gauteng",
           "lon": [
            28.05
           ],
           "marker": {
            "color": "#FFA15A",
            "size": [
             68.3
            ],
            "sizemode": "area",
            "sizeref": 0.23675000000000002,
            "symbol": "circle"
           },
           "mode": "markers",
           "name": "Gauteng",
           "showlegend": true,
           "type": "scattergeo"
          },
          {
           "geo": "geo",
           "hovertemplate": "<b>%{hovertext}</b><br><br>region=New South Wales<br>time=2023-12-02 07:00<br>temp_f=%{marker.size}<br>lat=%{lat}<br>lon=%{lon}<extra></extra>",
           "hovertext": [
            "Australia"
           ],
           "lat": [
            -33.87
           ],
           "legendgroup": "New South Wales",
           "lon": [
            151.21
           ],
           "marker": {
            "color": "#19d3f3",
            "size": [
             67.6
            ],
            "sizemode": "area",
            "sizeref": 0.23675000000000002,
            "symbol": "circle"
           },
           "mode": "markers",
           "name": "New South Wales",
           "showlegend": true,
           "type": "scattergeo"
          },
          {
           "geo": "geo",
           "hovertemplate": "<b>%{hovertext}</b><br><br>region=Victoria<br>time=2023-12-02 07:00<br>temp_f=%{marker.size}<br>lat=%{lat}<br>lon=%{lon}<extra></extra>",
           "hovertext": [
            "Australia"
           ],
           "lat": [
            -37.81
           ],
           "legendgroup": "Victoria",
           "lon": [
            144.96
           ],
           "marker": {
            "color": "#FF6692",
            "size": [
             58.8
            ],
            "sizemode": "area",
            "sizeref": 0.23675000000000002,
            "symbol": "circle"
           },
           "mode": "markers",
           "name": "Victoria",
           "showlegend": true,
           "type": "scattergeo"
          },
          {
           "geo": "geo",
           "hovertemplate": "<b>%{hovertext}</b><br><br>region=Queensland<br>time=2023-12-02 07:00<br>temp_f=%{marker.size}<br>lat=%{lat}<br>lon=%{lon}<extra></extra>",
           "hovertext": [
            "Australia"
           ],
           "lat": [
            -27.47
           ],
           "legendgroup": "Queensland",
           "lon": [
            153.03
           ],
           "marker": {
            "color": "#B6E880",
            "size": [
             74
            ],
            "sizemode": "area",
            "sizeref": 0.23675000000000002,
            "symbol": "circle"
           },
           "mode": "markers",
           "name": "Queensland",
           "showlegend": true,
           "type": "scattergeo"
          }
         ],
         "name": "2023-12-02 07:00"
        },
        {
         "data": [
          {
           "geo": "geo",
           "hovertemplate": "<b>%{hovertext}</b><br><br>region=New York<br>time=2023-12-02 08:00<br>temp_f=%{marker.size}<br>lat=%{lat}<br>lon=%{lon}<extra></extra>",
           "hovertext": [
            "United States of America"
           ],
           "lat": [
            40.71
           ],
           "legendgroup": "New York",
           "lon": [
            -74.01
           ],
           "marker": {
            "color": "#636efa",
            "size": [
             42.8
            ],
            "sizemode": "area",
            "sizeref": 0.23675000000000002,
            "symbol": "circle"
           },
           "mode": "markers",
           "name": "New York",
           "showlegend": true,
           "type": "scattergeo"
          },
          {
           "geo": "geo",
           "hovertemplate": "<b>%{hovertext}</b><br><br>region=California<br>time=2023-12-02 08:00<br>temp_f=%{marker.size}<br>lat=%{lat}<br>lon=%{lon}<extra></extra>",
           "hovertext": [
            "United States of America"
           ],
           "lat": [
            34.05
           ],
           "legendgroup": "California",
           "lon": [
            -118.24
           ],
           "marker": {
            "color": "#EF553B",
            "size": [
             49.5
            ],
            "sizemode": "area",
            "sizeref": 0.23675000000000002,
            "symbol": "circle"
           },
           "mode": "markers",
           "name": "California",
           "showlegend": true,
           "type": "scattergeo"
          },
          {
           "geo": "geo",
           "hovertemplate": "<b>%{hovertext}</b><br><br>region=Ontario<br>time=2023-12-02 08:00<br>temp_f=%{marker.size}<br>lat=%{lat}<br>lon=%{lon}<extra></extra>",
           "hovertext": [
            "Canada"
           ],
           "lat": [
            43.65
           ],
           "legendgroup": "Ontario",
           "lon": [
            -79.38
           ],
           "marker": {
            "color": "#00cc96",
            "size": [
             39.6
            ],
            "sizemode": "area",
            "sizeref": 0.23675000000000002,
            "symbol": "circle"
           },
           "mode": "markers",
           "name": "Ontario",
           "showlegend": true,
           "type": "scattergeo"
          },
          {
           "geo": "geo",
           "hovertemplate": "<b>%{hovertext}</b><br><br>region=Sao Paulo<br>time=2023-12-02 08:00<br>temp_f=%{marker.size}<br>lat=%{lat}<br>lon=%{lon}<extra></extra>",
           "hovertext": [
            "Brazil"
           ],
           "lat": [
            -23.55
           ],
           "legendgroup": "Sao Paulo",
           "lon": [
            -46.63
           ],
           "marker": {
            "color": "#ab63fa",
            "size": [
             82.5
            ],
            "sizemode": "area",
            "sizeref": 0.23675000000000002,
            "symbol": "circle"
           },
           "mode": "markers",
           "name": "Sao Paulo",
           "showlegend": true,
           "type": "scattergeo"
          },
          {
           "geo": "geo",
           "hovertemplate": "<b>%{hovertext}</b><br><br>region=Buenos Aires<br>time=2023-12-02 08:00<br>temp_f=%{marker.size}<br>lat=%{lat}<br>lon=%{lon}<extra></extra>",
           "hovertext": [
            "Argentina"
           ],
           "lat": [
            -34.6
           ],
           "legendgroup": "Buenos Aires",
           "lon": [
            -58.38
           ],
           "marker": {
            "color": "#FFA15A",
            "size": [
             70.4
            ],
            "sizemode": "area",
            "sizeref": 0.23675000000000002,
            "symbol": "circle"
           },
           "mode": "markers",
           "name": "Buenos Aires",
           "showlegend": true,
           "type": "scattergeo"
          },
          {
           "geo": "geo",
           "hovertemplate": "<b>%{hovertext}</b><br><br>region=Cundinamarca<br>time=2023-12-02 08:00<br>temp_f=%{marker.size}<br>lat=%{lat}<br>lon=%{lon}<extra></extra>",
           "hovertext": [
            "Colombia"
           ],
           "lat": [
            4.71
           ],
           "legendgroup": "Cundinamarca",
           "lon": [
            -74.07
           ],
           "marker": {
            "color": "#19d3f3",
            "size": [
             57.3
            ],
            "sizemode": "area",
            "sizeref": 0.23675000000000002,
            "symbol": "circle"
           },
           "mode": "markers",
           "name": "Cundinamarca",
           "showlegend": true,
           "type": "scattergeo"
          },
          {
           "geo": "geo",
           "hovertemplate": "<b>%{hovertext}</b><br><br>region=City of London, Greater London<br>time=2023-12-02 08:00<br>temp_f=%{marker.size}<br>lat=%{lat}<br>lon=%{lon}<extra></extra>",
           "hovertext": [
            "United Kingdom"
           ],
           "lat": [
            51.51
           ],
           "legendgroup": "City of London, Greater London",
           "lon": [
            -0.13
           ],
           "marker": {
            "color": "#FF6692",
            "size": [
             32
            ],
            "sizemode": "area",
            "sizeref": 0.23675000000000002,
            "symbol": "circle"
           },
           "mode": "markers",
           "name": "City of London, Greater London",
           "showlegend": true,
           "type": "scattergeo"
          },
          {
           "geo": "geo",
           "hovertemplate": "<b>%{hovertext}</b><br><br>region=Ile-de-France<br>time=2023-12-02 08:00<br>temp_f=%{marker.size}<br>lat=%{lat}<br>lon=%{lon}<extra></extra>",
           "hovertext": [
            "France"
           ],
           "lat": [
            48.86
           ],
           "legendgroup": "Ile-de-France",
           "lon": [
            2.35
           ],
           "marker": {
            "color": "#B6E880",
            "size": [
             30.3
            ],
            "sizemode": "area",
            "sizeref": 0.23675000000000002,
            "symbol": "circle"
           },
           "mode": "markers",
           "name": "Ile-de-France",
           "showlegend": true,
           "type": "scattergeo"
          },
          {
           "geo": "geo",
           "hovertemplate": "<b>%{hovertext}</b><br><br>region=Berlin<br>time=2023-12-02 08:00<br>temp_f=%{marker.size}<br>lat=%{lat}<br>lon=%{lon}<extra></extra>",
           "hovertext": [
            "Germany"
           ],
           "lat": [
            52.52
           ],
           "legendgroup": "Berlin",
           "lon": [
            13.41
           ],
           "marker": {
            "color": "#FF97FF",
            "size": [
             20.4
            ],
            "sizemode": "area",
            "sizeref": 0.23675000000000002,
            "symbol": "circle"
           },
           "mode": "markers",
           "name": "Berlin",
           "showlegend": true,
           "type": "scattergeo"
          },
          {
           "geo": "geo",
           "hovertemplate": "<b>%{hovertext}</b><br><br>region=Tokyo<br>time=2023-12-02 08:00<br>temp_f=%{marker.size}<br>lat=%{lat}<br>lon=%{lon}<extra></extra>",
           "hovertext": [
            "Japan"
           ],
           "lat": [
            35.68
           ],
           "legendgroup": "Tokyo",
           "lon": [
            139.65
           ],
           "marker": {
            "color": "#FECB52",
            "size": [
             47.3
            ],
            "sizemode": "area",
            "sizeref": 0.23675000000000002,
            "symbol": "circle"
           },
           "mode": "markers",
           "name": "Tokyo",
           "showlegend": true,
           "type": "scattergeo"
          },
          {
           "geo": "geo",
           "hovertemplate": "<b>%{hovertext}</b><br><br>region=Beijing<br>time=2023-12-02 08:00<br>temp_f=%{marker.size}<br>lat=%{lat}<br>lon=%{lon}<extra></extra>",
           "hovertext": [
            "China"
           ],
           "lat": [
            39.9
           ],
           "legendgroup": "Beijing",
           "lon": [
            116.41
           ],
           "marker": {
            "color": "#636efa",
            "size": [
             26.6
            ],
            "sizemode": "area",
            "sizeref": 0.23675000000000002,
            "symbol": "circle"
           },
           "mode": "markers",
           "name": "Beijing",
           "showlegend": true,
           "type": "scattergeo"
          },
          {
           "geo": "geo",
           "hovertemplate": "<b>%{hovertext}</b><br><br>region=Maharashtra<br>time=2023-12-02 08:00<br>temp_f=%{marker.size}<br>lat=%{lat}<br>lon=%{lon}<extra></extra>",
           "hovertext": [
            "India"
           ],
           "lat": [
            19.08
           ],
           "legendgroup": "Maharashtra",
           "lon": [
            72.88
           ],
           "marker": {
            "color": "#EF553B",
            "size": [
             77.1
            ],
            "sizemode": "area",
            "sizeref": 0.23675000000000002,
            "symbol": "circle"
           },
           "mode": "markers",
           "name": "Maharashtra",
           "showlegend": true,
           "type": "scattergeo"
          },
          {
           "geo": "geo",
           "hovertemplate": "<b>%{hovertext}</b><br><br>region=Al Qahirah<br>time=2023-12-02 08:00<br>temp_f=%{marker.size}<br>lat=%{lat}<br>lon=%{lon}<extra></extra>",
           "hovertext": [
            "Egypt"
           ],
           "lat": [
            30.04
           ],
           "legendgroup": "Al Qahirah",
           "lon": [
            31.24
           ],
           "marker": {
            "color": "#00cc96",
            "size": [
             63.2
            ],
            "sizemode": "area",
            "sizeref": 0.23675000000000002,
            "symbol": "circle"
           },
           "mode": "markers",
           "name": "Al Qahirah",
           "showlegend": true,
           "type": "scattergeo"
          },
          {
           "geo": "geo",
           "hovertemplate": "<b>%{hovertext}</b><br><br>region=Lagos<br>time=2023-12-02 08:00<br>temp_f=%{marker.size}<br>lat=%{lat}<br>lon=%{lon}<extra></extra>",
           "hovertext": [
            "Nigeria"
           ],
           "lat": [
            6.52
           ],
           "legendgroup": "Lagos",
           "lon": [
            3.38
           ],
           "marker": {
            "color": "#ab63fa",
            "size": [
             82
            ],
            "sizemode": "area",
            "sizeref": 0.23675000000000002,
            "symbol": "circle"
           },
           "mode": "markers",
           "name": "Lagos",
           "showlegend": true,
           "type": "scattergeo"
          },
          {
           "geo": "geo",
           "hovertemplate": "<b>%{hovertext}</b><br><br>region=Gauteng<br>time=2023-12-02 08:00<br>temp_f=%{marker.size}<br>lat=%{lat}<br>lon=%{lon}<extra></extra>",
           "hovertext": [
            "South Africa"
           ],
           "lat": [
            -26.2
           ],
           "legendgroup": "Gauteng",
           "lon": [
            28.05
           ],
           "marker": {
            "color": "#FFA15A",
            "size": [
             71.6
            ],
            "sizemode": "area",
            "sizeref": 0.23675000000000002,
            "symbol": "circle"
           },
           "mode": "markers",
           "name": "Gauteng",
           "showlegend": true,
           "type": "scattergeo"
          },
          {
           "geo": "geo",
           "hovertemplate": "<b>%{hovertext}</b><br><br>region=New South Wales<br>time=2023-12-02 08:00<br>temp_f=%{marker.size}<br>lat=%{lat}<br>lon=%{lon}<extra></extra>",
           "hovertext": [
            "Australia"
           ],
           "lat": [
            -33.87
           ],
           "legendgroup": "New South Wales",
           "lon": [
            151.21
           ],
           "marker": {
            "color": "#19d3f3",
            "size": [
             69.6
            ],
            "sizemode": "area",
            "sizeref": 0.23675000000000002,
            "symbol": "circle"
           },
           "mode": "markers",
           "name": "New South Wales",
           "showlegend": true,
           "type": "scattergeo"
          },
          {
           "geo": "geo",
           "hovertemplate": "<b>%{hovertext}</b><br><br>region=Victoria<br>time=2023-12-02 08:00<br>temp_f=%{marker.size}<br>lat=%{lat}<br>lon=%{lon}<extra></extra>",
           "hovertext": [
            "Australia"
           ],
           "lat": [
            -37.81
           ],
           "legendgroup": "Victoria",
           "lon": [
            144.96
           ],
           "marker": {
            "color": "#FF6692",
            "size": [
             58.7
            ],
            "sizemode": "area",
            "sizeref": 0.23675000000000002,
            "symbol": "circle"
           },
           "mode": "markers",
           "name": "Victoria",
           "showlegend": true,
           "type": "scattergeo"
          },
          {
           "geo": "geo",
           "hovertemplate": "<b>%{hovertext}</b><br><br>region=Queensland<br>time=2023-12-02 08:00<br>temp_f=%{marker.size}<br>lat=%{lat}<br>lon=%{lon}<extra></extra>",
           "hovertext": [
            "Australia"
           ],
           "lat": [
            -27.47
           ],
           "legendgroup": "Queensland",
           "lon": [
            153.03
           ],
           "marker": {
            "color": "#B6E880",
            "size": [
             78.5
            ],
            "sizemode": "area",
            "sizeref": 0.23675000000000002,
            "symbol": "circle"
           },
           "mode": "markers",
           "name": "Queensland",
           "showlegend": true,
           "type": "scattergeo"
          }
         ],
         "name": "2023-12-02 08:00"
        },
        {
         "data": [
          {
           "geo": "geo",
           "hovertemplate": "<b>%{hovertext}</b><br><br>region=New York<br>time=2023-12-02 09:00<br>temp_f=%{marker.size}<br>lat=%{lat}<br>lon=%{lon}<extra></extra>",
           "hovertext": [
            "United States of America"
           ],
           "lat": [
            40.71
           ],
           "legendgroup": "New York",
           "lon": [
            -74.01
           ],
           "marker": {
            "color": "#636efa",
            "size": [
             42.8
            ],
            "sizemode": "area",
            "sizeref": 0.23675000000000002,
            "symbol": "circle"
           },
           "mode": "markers",
           "name": "New York",
           "showlegend": true,
           "type": "scattergeo"
          },
          {
           "geo": "geo",
           "hovertemplate": "<b>%{hovertext}</b><br><br>region=California<br>time=2023-12-02 09:00<br>temp_f=%{marker.size}<br>lat=%{lat}<br>lon=%{lon}<extra></extra>",
           "hovertext": [
            "United States of America"
           ],
           "lat": [
            34.05
           ],
           "legendgroup": "California",
           "lon": [
            -118.24
           ],
           "marker": {
            "color": "#EF553B",
            "size": [
             51.1
            ],
            "sizemode": "area",
            "sizeref": 0.23675000000000002,
            "symbol": "circle"
           },
           "mode": "markers",
           "name": "California",
           "showlegend": true,
           "type": "scattergeo"
          },
          {
           "geo": "geo",
           "hovertemplate": "<b>%{hovertext}</b><br><br>region=Ontario<br>time=2023-12-02 09:00<br>temp_f=%{marker.size}<br>lat=%{lat}<br>lon=%{lon}<extra></extra>",
           "hovertext": [
            "Canada"
           ],
           "lat": [
            43.65
           ],
           "legendgroup": "Ontario",
           "lon": [
            -79.38
           ],
           "marker": {
            "color": "#00cc96",
            "size": [
             39
            ],
            "sizemode": "area",
            "sizeref": 0.23675000000000002,
            "symbol": "circle"
           },
           "mode": "markers",
           "name": "Ontario",
           "showlegend": true,
           "type": "scattergeo"
          },
          {
           "geo": "geo",
           "hovertemplate": "<b>%{hovertext}</b><br><br>region=Sao Paulo<br>time=2023-12-02 09:00<br>temp_f=%{marker.size}<br>lat=%{lat}<br>lon=%{lon}<extra></extra>",
           "hovertext": [
            "Brazil"
           ],
           "lat": [
            -23.55
           ],
           "legendgroup": "Sao Paulo",
           "lon": [
            -46.63
           ],
           "marker": {
            "color": "#ab63fa",
            "size": [
             87.1
            ],
            "sizemode": "area",
            "sizeref": 0.23675000000000002,
            "symbol": "circle"
           },
           "mode": "markers",
           "name": "Sao Paulo",
           "showlegend": true,
           "type": "scattergeo"
          },
          {
           "geo": "geo",
           "hovertemplate": "<b>%{hovertext}</b><br><br>region=Buenos Aires<br>time=2023-12-02 09:00<br>temp_f=%{marker.size}<br>lat=%{lat}<br>lon=%{lon}<extra></extra>",
           "hovertext": [
            "Argentina"
           ],
           "lat": [
            -34.6
           ],
           "legendgroup": "Buenos Aires",
           "lon": [
            -58.38
           ],
           "marker": {
            "color": "#FFA15A",
            "size": [
             72.2
            ],
            "sizemode": "area",
            "sizeref": 0.23675000000000002,
            "symbol": "circle"
           },
           "mode": "markers",
           "name": "Buenos Aires",
           "showlegend": true,
           "type": "scattergeo"
          },
          {
           "geo": "geo",
           "hovertemplate": "<b>%{hovertext}</b><br><br>region=Cundinamarca<br>time=2023-12-02 09:00<br>temp_f=%{marker.size}<br>lat=%{lat}<br>lon=%{lon}<extra></extra>",
           "hovertext": [
            "Colombia"
           ],
           "lat": [
            4.71
           ],
           "legendgroup": "Cundinamarca",
           "lon": [
            -74.07
           ],
           "marker": {
            "color": "#19d3f3",
            "size": [
             62.6
            ],
            "sizemode": "area",
            "sizeref": 0.23675000000000002,
            "symbol": "circle"
           },
           "mode": "markers",
           "name": "Cundinamarca",
           "showlegend": true,
           "type": "scattergeo"
          },
          {
           "geo": "geo",
           "hovertemplate": "<b>%{hovertext}</b><br><br>region=City of London, Greater London<br>time=2023-12-02 09:00<br>temp_f=%{marker.size}<br>lat=%{lat}<br>lon=%{lon}<extra></extra>",
           "hovertext": [
            "United Kingdom"
           ],
           "lat": [
            51.51
           ],
           "legendgroup": "City of London, Greater London",
           "lon": [
            -0.13
           ],
           "marker": {
            "color": "#FF6692",
            "size": [
             33
            ],
            "sizemode": "area",
            "sizeref": 0.23675000000000002,
            "symbol": "circle"
           },
           "mode": "markers",
           "name": "City of London, Greater London",
           "showlegend": true,
           "type": "scattergeo"
          },
          {
           "geo": "geo",
           "hovertemplate": "<b>%{hovertext}</b><br><br>region=Ile-de-France<br>time=2023-12-02 09:00<br>temp_f=%{marker.size}<br>lat=%{lat}<br>lon=%{lon}<extra></extra>",
           "hovertext": [
            "France"
           ],
           "lat": [
            48.86
           ],
           "legendgroup": "Ile-de-France",
           "lon": [
            2.35
           ],
           "marker": {
            "color": "#B6E880",
            "size": [
             30.5
            ],
            "sizemode": "area",
            "sizeref": 0.23675000000000002,
            "symbol": "circle"
           },
           "mode": "markers",
           "name": "Ile-de-France",
           "showlegend": true,
           "type": "scattergeo"
          },
          {
           "geo": "geo",
           "hovertemplate": "<b>%{hovertext}</b><br><br>region=Berlin<br>time=2023-12-02 09:00<br>temp_f=%{marker.size}<br>lat=%{lat}<br>lon=%{lon}<extra></extra>",
           "hovertext": [
            "Germany"
           ],
           "lat": [
            52.52
           ],
           "legendgroup": "Berlin",
           "lon": [
            13.41
           ],
           "marker": {
            "color": "#FF97FF",
            "size": [
             22
            ],
            "sizemode": "area",
            "sizeref": 0.23675000000000002,
            "symbol": "circle"
           },
           "mode": "markers",
           "name": "Berlin",
           "showlegend": true,
           "type": "scattergeo"
          },
          {
           "geo": "geo",
           "hovertemplate": "<b>%{hovertext}</b><br><br>region=Tokyo<br>time=2023-12-02 09:00<br>temp_f=%{marker.size}<br>lat=%{lat}<br>lon=%{lon}<extra></extra>",
           "hovertext": [
            "Japan"
           ],
           "lat": [
            35.68
           ],
           "legendgroup": "Tokyo",
           "lon": [
            139.65
           ],
           "marker": {
            "color": "#FECB52",
            "size": [
             48.6
            ],
            "sizemode": "area",
            "sizeref": 0.23675000000000002,
            "symbol": "circle"
           },
           "mode": "markers",
           "name": "Tokyo",
           "showlegend": true,
           "type": "scattergeo"
          },
          {
           "geo": "geo",
           "hovertemplate": "<b>%{hovertext}</b><br><br>region=Beijing<br>time=2023-12-02 09:00<br>temp_f=%{marker.size}<br>lat=%{lat}<br>lon=%{lon}<extra></extra>",
           "hovertext": [
            "China"
           ],
           "lat": [
            39.9
           ],
           "legendgroup": "Beijing",
           "lon": [
            116.41
           ],
           "marker": {
            "color": "#636efa",
            "size": [
             35.9
            ],
            "sizemode": "area",
            "sizeref": 0.23675000000000002,
            "symbol": "circle"
           },
           "mode": "markers",
           "name": "Beijing",
           "showlegend": true,
           "type": "scattergeo"
          },
          {
           "geo": "geo",
           "hovertemplate": "<b>%{hovertext}</b><br><br>region=Maharashtra<br>time=2023-12-02 09:00<br>temp_f=%{marker.size}<br>lat=%{lat}<br>lon=%{lon}<extra></extra>",
           "hovertext": [
            "India"
           ],
           "lat": [
            19.08
           ],
           "legendgroup": "Maharashtra",
           "lon": [
            72.88
           ],
           "marker": {
            "color": "#EF553B",
            "size": [
             78.7
            ],
            "sizemode": "area",
            "sizeref": 0.23675000000000002,
            "symbol": "circle"
           },
           "mode": "markers",
           "name": "Maharashtra",
           "showlegend": true,
           "type": "scattergeo"
          },
          {
           "geo": "geo",
           "hovertemplate": "<b>%{hovertext}</b><br><br>region=Al Qahirah<br>time=2023-12-02 09:00<br>temp_f=%{marker.size}<br>lat=%{lat}<br>lon=%{lon}<extra></extra>",
           "hovertext": [
            "Egypt"
           ],
           "lat": [
            30.04
           ],
           "legendgroup": "Al Qahirah",
           "lon": [
            31.24
           ],
           "marker": {
            "color": "#00cc96",
            "size": [
             66.5
            ],
            "sizemode": "area",
            "sizeref": 0.23675000000000002,
            "symbol": "circle"
           },
           "mode": "markers",
           "name": "Al Qahirah",
           "showlegend": true,
           "type": "scattergeo"
          },
          {
           "geo": "geo",
           "hovertemplate": "<b>%{hovertext}</b><br><br>region=Lagos<br>time=2023-12-02 09:00<br>temp_f=%{marker.size}<br>lat=%{lat}<br>lon=%{lon}<extra></extra>",
           "hovertext": [
            "Nigeria"
           ],
           "lat": [
            6.52
           ],
           "legendgroup": "Lagos",
           "lon": [
            3.38
           ],
           "marker": {
            "color": "#ab63fa",
            "size": [
             82.9
            ],
            "sizemode": "area",
            "sizeref": 0.23675000000000002,
            "symbol": "circle"
           },
           "mode": "markers",
           "name": "Lagos",
           "showlegend": true,
           "type": "scattergeo"
          },
          {
           "geo": "geo",
           "hovertemplate": "<b>%{hovertext}</b><br><br>region=Gauteng<br>time=2023-12-02 09:00<br>temp_f=%{marker.size}<br>lat=%{lat}<br>lon=%{lon}<extra></extra>",
           "hovertext": [
            "South Africa"
           ],
           "lat": [
            -26.2
           ],
           "legendgroup": "Gauteng",
           "lon": [
            28.05
           ],
           "marker": {
            "color": "#FFA15A",
            "size": [
             75.5
            ],
            "sizemode": "area",
            "sizeref": 0.23675000000000002,
            "symbol": "circle"
           },
           "mode": "markers",
           "name": "Gauteng",
           "showlegend": true,
           "type": "scattergeo"
          },
          {
           "geo": "geo",
           "hovertemplate": "<b>%{hovertext}</b><br><br>region=New South Wales<br>time=2023-12-02 09:00<br>temp_f=%{marker.size}<br>lat=%{lat}<br>lon=%{lon}<extra></extra>",
           "hovertext": [
            "Australia"
           ],
           "lat": [
            -33.87
           ],
           "legendgroup": "New South Wales",
           "lon": [
            151.21
           ],
           "marker": {
            "color": "#19d3f3",
            "size": [
             70.9
            ],
            "sizemode": "area",
            "sizeref": 0.23675000000000002,
            "symbol": "circle"
           },
           "mode": "markers",
           "name": "New South Wales",
           "showlegend": true,
           "type": "scattergeo"
          },
          {
           "geo": "geo",
           "hovertemplate": "<b>%{hovertext}</b><br><br>region=Victoria<br>time=2023-12-02 09:00<br>temp_f=%{marker.size}<br>lat=%{lat}<br>lon=%{lon}<extra></extra>",
           "hovertext": [
            "Australia"
           ],
           "lat": [
            -37.81
           ],
           "legendgroup": "Victoria",
           "lon": [
            144.96
           ],
           "marker": {
            "color": "#FF6692",
            "size": [
             58.6
            ],
            "sizemode": "area",
            "sizeref": 0.23675000000000002,
            "symbol": "circle"
           },
           "mode": "markers",
           "name": "Victoria",
           "showlegend": true,
           "type": "scattergeo"
          },
          {
           "geo": "geo",
           "hovertemplate": "<b>%{hovertext}</b><br><br>region=Queensland<br>time=2023-12-02 09:00<br>temp_f=%{marker.size}<br>lat=%{lat}<br>lon=%{lon}<extra></extra>",
           "hovertext": [
            "Australia"
           ],
           "lat": [
            -27.47
           ],
           "legendgroup": "Queensland",
           "lon": [
            153.03
           ],
           "marker": {
            "color": "#B6E880",
            "size": [
             82.1
            ],
            "sizemode": "area",
            "sizeref": 0.23675000000000002,
            "symbol": "circle"
           },
           "mode": "markers",
           "name": "Queensland",
           "showlegend": true,
           "type": "scattergeo"
          }
         ],
         "name": "2023-12-02 09:00"
        },
        {
         "data": [
          {
           "geo": "geo",
           "hovertemplate": "<b>%{hovertext}</b><br><br>region=New York<br>time=2023-12-02 10:00<br>temp_f=%{marker.size}<br>lat=%{lat}<br>lon=%{lon}<extra></extra>",
           "hovertext": [
            "United States of America"
           ],
           "lat": [
            40.71
           ],
           "legendgroup": "New York",
           "lon": [
            -74.01
           ],
           "marker": {
            "color": "#636efa",
            "size": [
             43.3
            ],
            "sizemode": "area",
            "sizeref": 0.23675000000000002,
            "symbol": "circle"
           },
           "mode": "markers",
           "name": "New York",
           "showlegend": true,
           "type": "scattergeo"
          },
          {
           "geo": "geo",
           "hovertemplate": "<b>%{hovertext}</b><br><br>region=California<br>time=2023-12-02 10:00<br>temp_f=%{marker.size}<br>lat=%{lat}<br>lon=%{lon}<extra></extra>",
           "hovertext": [
            "United States of America"
           ],
           "lat": [
            34.05
           ],
           "legendgroup": "California",
           "lon": [
            -118.24
           ],
           "marker": {
            "color": "#EF553B",
            "size": [
             55.8
            ],
            "sizemode": "area",
            "sizeref": 0.23675000000000002,
            "symbol": "circle"
           },
           "mode": "markers",
           "name": "California",
           "showlegend": true,
           "type": "scattergeo"
          },
          {
           "geo": "geo",
           "hovertemplate": "<b>%{hovertext}</b><br><br>region=Ontario<br>time=2023-12-02 10:00<br>temp_f=%{marker.size}<br>lat=%{lat}<br>lon=%{lon}<extra></extra>",
           "hovertext": [
            "Canada"
           ],
           "lat": [
            43.65
           ],
           "legendgroup": "Ontario",
           "lon": [
            -79.38
           ],
           "marker": {
            "color": "#00cc96",
            "size": [
             38.7
            ],
            "sizemode": "area",
            "sizeref": 0.23675000000000002,
            "symbol": "circle"
           },
           "mode": "markers",
           "name": "Ontario",
           "showlegend": true,
           "type": "scattergeo"
          },
          {
           "geo": "geo",
           "hovertemplate": "<b>%{hovertext}</b><br><br>region=Sao Paulo<br>time=2023-12-02 10:00<br>temp_f=%{marker.size}<br>lat=%{lat}<br>lon=%{lon}<extra></extra>",
           "hovertext": [
            "Brazil"
           ],
           "lat": [
            -23.55
           ],
           "legendgroup": "Sao Paulo",
           "lon": [
            -46.63
           ],
           "marker": {
            "color": "#ab63fa",
            "size": [
             89.3
            ],
            "sizemode": "area",
            "sizeref": 0.23675000000000002,
            "symbol": "circle"
           },
           "mode": "markers",
           "name": "Sao Paulo",
           "showlegend": true,
           "type": "scattergeo"
          },
          {
           "geo": "geo",
           "hovertemplate": "<b>%{hovertext}</b><br><br>region=Buenos Aires<br>time=2023-12-02 10:00<br>temp_f=%{marker.size}<br>lat=%{lat}<br>lon=%{lon}<extra></extra>",
           "hovertext": [
            "Argentina"
           ],
           "lat": [
            -34.6
           ],
           "legendgroup": "Buenos Aires",
           "lon": [
            -58.38
           ],
           "marker": {
            "color": "#FFA15A",
            "size": [
             74.3
            ],
            "sizemode": "area",
            "sizeref": 0.23675000000000002,
            "symbol": "circle"
           },
           "mode": "markers",
           "name": "Buenos Aires",
           "showlegend": true,
           "type": "scattergeo"
          },
          {
           "geo": "geo",
           "hovertemplate": "<b>%{hovertext}</b><br><br>region=Cundinamarca<br>time=2023-12-02 10:00<br>temp_f=%{marker.size}<br>lat=%{lat}<br>lon=%{lon}<extra></extra>",
           "hovertext": [
            "Colombia"
           ],
           "lat": [
            4.71
           ],
           "legendgroup": "Cundinamarca",
           "lon": [
            -74.07
           ],
           "marker": {
            "color": "#19d3f3",
            "size": [
             66.5
            ],
            "sizemode": "area",
            "sizeref": 0.23675000000000002,
            "symbol": "circle"
           },
           "mode": "markers",
           "name": "Cundinamarca",
           "showlegend": true,
           "type": "scattergeo"
          },
          {
           "geo": "geo",
           "hovertemplate": "<b>%{hovertext}</b><br><br>region=City of London, Greater London<br>time=2023-12-02 10:00<br>temp_f=%{marker.size}<br>lat=%{lat}<br>lon=%{lon}<extra></extra>",
           "hovertext": [
            "United Kingdom"
           ],
           "lat": [
            51.51
           ],
           "legendgroup": "City of London, Greater London",
           "lon": [
            -0.13
           ],
           "marker": {
            "color": "#FF6692",
            "size": [
             34.6
            ],
            "sizemode": "area",
            "sizeref": 0.23675000000000002,
            "symbol": "circle"
           },
           "mode": "markers",
           "name": "City of London, Greater London",
           "showlegend": true,
           "type": "scattergeo"
          },
          {
           "geo": "geo",
           "hovertemplate": "<b>%{hovertext}</b><br><br>region=Ile-de-France<br>time=2023-12-02 10:00<br>temp_f=%{marker.size}<br>lat=%{lat}<br>lon=%{lon}<extra></extra>",
           "hovertext": [
            "France"
           ],
           "lat": [
            48.86
           ],
           "legendgroup": "Ile-de-France",
           "lon": [
            2.35
           ],
           "marker": {
            "color": "#B6E880",
            "size": [
             31.7
            ],
            "sizemode": "area",
            "sizeref": 0.23675000000000002,
            "symbol": "circle"
           },
           "mode": "markers",
           "name": "Ile-de-France",
           "showlegend": true,
           "type": "scattergeo"
          },
          {
           "geo": "geo",
           "hovertemplate": "<b>%{hovertext}</b><br><br>region=Berlin<br>time=2023-12-02 10:00<br>temp_f=%{marker.size}<br>lat=%{lat}<br>lon=%{lon}<extra></extra>",
           "hovertext": [
            "Germany"
           ],
           "lat": [
            52.52
           ],
           "legendgroup": "Berlin",
           "lon": [
            13.41
           ],
           "marker": {
            "color": "#FF97FF",
            "size": [
             24.3
            ],
            "sizemode": "area",
            "sizeref": 0.23675000000000002,
            "symbol": "circle"
           },
           "mode": "markers",
           "name": "Berlin",
           "showlegend": true,
           "type": "scattergeo"
          },
          {
           "geo": "geo",
           "hovertemplate": "<b>%{hovertext}</b><br><br>region=Tokyo<br>time=2023-12-02 10:00<br>temp_f=%{marker.size}<br>lat=%{lat}<br>lon=%{lon}<extra></extra>",
           "hovertext": [
            "Japan"
           ],
           "lat": [
            35.68
           ],
           "legendgroup": "Tokyo",
           "lon": [
            139.65
           ],
           "marker": {
            "color": "#FECB52",
            "size": [
             46.4
            ],
            "sizemode": "area",
            "sizeref": 0.23675000000000002,
            "symbol": "circle"
           },
           "mode": "markers",
           "name": "Tokyo",
           "showlegend": true,
           "type": "scattergeo"
          },
          {
           "geo": "geo",
           "hovertemplate": "<b>%{hovertext}</b><br><br>region=Beijing<br>time=2023-12-02 10:00<br>temp_f=%{marker.size}<br>lat=%{lat}<br>lon=%{lon}<extra></extra>",
           "hovertext": [
            "China"
           ],
           "lat": [
            39.9
           ],
           "legendgroup": "Beijing",
           "lon": [
            116.41
           ],
           "marker": {
            "color": "#636efa",
            "size": [
             38.2
            ],
            "sizemode": "area",
            "sizeref": 0.23675000000000002,
            "symbol": "circle"
           },
           "mode": "markers",
           "name": "Beijing",
           "showlegend": true,
           "type": "scattergeo"
          },
          {
           "geo": "geo",
           "hovertemplate": "<b>%{hovertext}</b><br><br>region=Maharashtra<br>time=2023-12-02 10:00<br>temp_f=%{marker.size}<br>lat=%{lat}<br>lon=%{lon}<extra></extra>",
           "hovertext": [
            "India"
           ],
           "lat": [
            19.08
           ],
           "legendgroup": "Maharashtra",
           "lon": [
            72.88
           ],
           "marker": {
            "color": "#EF553B",
            "size": [
             80.6
            ],
            "sizemode": "area",
            "sizeref": 0.23675000000000002,
            "symbol": "circle"
           },
           "mode": "markers",
           "name": "Maharashtra",
           "showlegend": true,
           "type": "scattergeo"
          },
          {
           "geo": "geo",
           "hovertemplate": "<b>%{hovertext}</b><br><br>region=Al Qahirah<br>time=2023-12-02 10:00<br>temp_f=%{marker.size}<br>lat=%{lat}<br>lon=%{lon}<extra></extra>",
           "hovertext": [
            "Egypt"
           ],
           "lat": [
            30.04
           ],
           "legendgroup": "Al Qahirah",
           "lon": [
            31.24
           ],
           "marker": {
            "color": "#00cc96",
            "size": [
             69.7
            ],
            "sizemode": "area",
            "sizeref": 0.23675000000000002,
            "symbol": "circle"
           },
           "mode": "markers",
           "name": "Al Qahirah",
           "showlegend": true,
           "type": "scattergeo"
          },
          {
           "geo": "geo",
           "hovertemplate": "<b>%{hovertext}</b><br><br>region=Lagos<br>time=2023-12-02 10:00<br>temp_f=%{marker.size}<br>lat=%{lat}<br>lon=%{lon}<extra></extra>",
           "hovertext": [
            "Nigeria"
           ],
           "lat": [
            6.52
           ],
           "legendgroup": "Lagos",
           "lon": [
            3.38
           ],
           "marker": {
            "color": "#ab63fa",
            "size": [
             83.8
            ],
            "sizemode": "area",
            "sizeref": 0.23675000000000002,
            "symbol": "circle"
           },
           "mode": "markers",
           "name": "Lagos",
           "showlegend": true,
           "type": "scattergeo"
          },
          {
           "geo": "geo",
           "hovertemplate": "<b>%{hovertext}</b><br><br>region=Gauteng<br>time=2023-12-02 10:00<br>temp_f=%{marker.size}<br>lat=%{lat}<br>lon=%{lon}<extra></extra>",
           "hovertext": [
            "South Africa"
           ],
           "lat": [
            -26.2
           ],
           "legendgroup": "Gauteng",
           "lon": [
            28.05
           ],
           "marker": {
            "color": "#FFA15A",
            "size": [
             79.7
            ],
            "sizemode": "area",
            "sizeref": 0.23675000000000002,
            "symbol": "circle"
           },
           "mode": "markers",
           "name": "Gauteng",
           "showlegend": true,
           "type": "scattergeo"
          },
          {
           "geo": "geo",
           "hovertemplate": "<b>%{hovertext}</b><br><br>region=New South Wales<br>time=2023-12-02 10:00<br>temp_f=%{marker.size}<br>lat=%{lat}<br>lon=%{lon}<extra></extra>",
           "hovertext": [
            "Australia"
           ],
           "lat": [
            -33.87
           ],
           "legendgroup": "New South Wales",
           "lon": [
            151.21
           ],
           "marker": {
            "color": "#19d3f3",
            "size": [
             71.2
            ],
            "sizemode": "area",
            "sizeref": 0.23675000000000002,
            "symbol": "circle"
           },
           "mode": "markers",
           "name": "New South Wales",
           "showlegend": true,
           "type": "scattergeo"
          },
          {
           "geo": "geo",
           "hovertemplate": "<b>%{hovertext}</b><br><br>region=Victoria<br>time=2023-12-02 10:00<br>temp_f=%{marker.size}<br>lat=%{lat}<br>lon=%{lon}<extra></extra>",
           "hovertext": [
            "Australia"
           ],
           "lat": [
            -37.81
           ],
           "legendgroup": "Victoria",
           "lon": [
            144.96
           ],
           "marker": {
            "color": "#FF6692",
            "size": [
             58.5
            ],
            "sizemode": "area",
            "sizeref": 0.23675000000000002,
            "symbol": "circle"
           },
           "mode": "markers",
           "name": "Victoria",
           "showlegend": true,
           "type": "scattergeo"
          },
          {
           "geo": "geo",
           "hovertemplate": "<b>%{hovertext}</b><br><br>region=Queensland<br>time=2023-12-02 10:00<br>temp_f=%{marker.size}<br>lat=%{lat}<br>lon=%{lon}<extra></extra>",
           "hovertext": [
            "Australia"
           ],
           "lat": [
            -27.47
           ],
           "legendgroup": "Queensland",
           "lon": [
            153.03
           ],
           "marker": {
            "color": "#B6E880",
            "size": [
             84.2
            ],
            "sizemode": "area",
            "sizeref": 0.23675000000000002,
            "symbol": "circle"
           },
           "mode": "markers",
           "name": "Queensland",
           "showlegend": true,
           "type": "scattergeo"
          }
         ],
         "name": "2023-12-02 10:00"
        },
        {
         "data": [
          {
           "geo": "geo",
           "hovertemplate": "<b>%{hovertext}</b><br><br>region=New York<br>time=2023-12-02 11:00<br>temp_f=%{marker.size}<br>lat=%{lat}<br>lon=%{lon}<extra></extra>",
           "hovertext": [
            "United States of America"
           ],
           "lat": [
            40.71
           ],
           "legendgroup": "New York",
           "lon": [
            -74.01
           ],
           "marker": {
            "color": "#636efa",
            "size": [
             45.1
            ],
            "sizemode": "area",
            "sizeref": 0.23675000000000002,
            "symbol": "circle"
           },
           "mode": "markers",
           "name": "New York",
           "showlegend": true,
           "type": "scattergeo"
          },
          {
           "geo": "geo",
           "hovertemplate": "<b>%{hovertext}</b><br><br>region=California<br>time=2023-12-02 11:00<br>temp_f=%{marker.size}<br>lat=%{lat}<br>lon=%{lon}<extra></extra>",
           "hovertext": [
            "United States of America"
           ],
           "lat": [
            34.05
           ],
           "legendgroup": "California",
           "lon": [
            -118.24
           ],
           "marker": {
            "color": "#EF553B",
            "size": [
             63.9
            ],
            "sizemode": "area",
            "sizeref": 0.23675000000000002,
            "symbol": "circle"
           },
           "mode": "markers",
           "name": "California",
           "showlegend": true,
           "type": "scattergeo"
          },
          {
           "geo": "geo",
           "hovertemplate": "<b>%{hovertext}</b><br><br>region=Ontario<br>time=2023-12-02 11:00<br>temp_f=%{marker.size}<br>lat=%{lat}<br>lon=%{lon}<extra></extra>",
           "hovertext": [
            "Canada"
           ],
           "lat": [
            43.65
           ],
           "legendgroup": "Ontario",
           "lon": [
            -79.38
           ],
           "marker": {
            "color": "#00cc96",
            "size": [
             39
            ],
            "sizemode": "area",
            "sizeref": 0.23675000000000002,
            "symbol": "circle"
           },
           "mode": "markers",
           "name": "Ontario",
           "showlegend": true,
           "type": "scattergeo"
          },
          {
           "geo": "geo",
           "hovertemplate": "<b>%{hovertext}</b><br><br>region=Sao Paulo<br>time=2023-12-02 11:00<br>temp_f=%{marker.size}<br>lat=%{lat}<br>lon=%{lon}<extra></extra>",
           "hovertext": [
            "Brazil"
           ],
           "lat": [
            -23.55
           ],
           "legendgroup": "Sao Paulo",
           "lon": [
            -46.63
           ],
           "marker": {
            "color": "#ab63fa",
            "size": [
             91.4
            ],
            "sizemode": "area",
            "sizeref": 0.23675000000000002,
            "symbol": "circle"
           },
           "mode": "markers",
           "name": "Sao Paulo",
           "showlegend": true,
           "type": "scattergeo"
          },
          {
           "geo": "geo",
           "hovertemplate": "<b>%{hovertext}</b><br><br>region=Buenos Aires<br>time=2023-12-02 11:00<br>temp_f=%{marker.size}<br>lat=%{lat}<br>lon=%{lon}<extra></extra>",
           "hovertext": [
            "Argentina"
           ],
           "lat": [
            -34.6
           ],
           "legendgroup": "Buenos Aires",
           "lon": [
            -58.38
           ],
           "marker": {
            "color": "#FFA15A",
            "size": [
             75.1
            ],
            "sizemode": "area",
            "sizeref": 0.23675000000000002,
            "symbol": "circle"
           },
           "mode": "markers",
           "name": "Buenos Aires",
           "showlegend": true,
           "type": "scattergeo"
          },
          {
           "geo": "geo",
           "hovertemplate": "<b>%{hovertext}</b><br><br>region=Cundinamarca<br>time=2023-12-02 11:00<br>temp_f=%{marker.size}<br>lat=%{lat}<br>lon=%{lon}<extra></extra>",
           "hovertext": [
            "Colombia"
           ],
           "lat": [
            4.71
           ],
           "legendgroup": "Cundinamarca",
           "lon": [
            -74.07
           ],
           "marker": {
            "color": "#19d3f3",
            "size": [
             69
            ],
            "sizemode": "area",
            "sizeref": 0.23675000000000002,
            "symbol": "circle"
           },
           "mode": "markers",
           "name": "Cundinamarca",
           "showlegend": true,
           "type": "scattergeo"
          },
          {
           "geo": "geo",
           "hovertemplate": "<b>%{hovertext}</b><br><br>region=City of London, Greater London<br>time=2023-12-02 11:00<br>temp_f=%{marker.size}<br>lat=%{lat}<br>lon=%{lon}<extra></extra>",
           "hovertext": [
            "United Kingdom"
           ],
           "lat": [
            51.51
           ],
           "legendgroup": "City of London, Greater London",
           "lon": [
            -0.13
           ],
           "marker": {
            "color": "#FF6692",
            "size": [
             36.1
            ],
            "sizemode": "area",
            "sizeref": 0.23675000000000002,
            "symbol": "circle"
           },
           "mode": "markers",
           "name": "City of London, Greater London",
           "showlegend": true,
           "type": "scattergeo"
          },
          {
           "geo": "geo",
           "hovertemplate": "<b>%{hovertext}</b><br><br>region=Ile-de-France<br>time=2023-12-02 11:00<br>temp_f=%{marker.size}<br>lat=%{lat}<br>lon=%{lon}<extra></extra>",
           "hovertext": [
            "France"
           ],
           "lat": [
            48.86
           ],
           "legendgroup": "Ile-de-France",
           "lon": [
            2.35
           ],
           "marker": {
            "color": "#B6E880",
            "size": [
             33.2
            ],
            "sizemode": "area",
            "sizeref": 0.23675000000000002,
            "symbol": "circle"
           },
           "mode": "markers",
           "name": "Ile-de-France",
           "showlegend": true,
           "type": "scattergeo"
          },
          {
           "geo": "geo",
           "hovertemplate": "<b>%{hovertext}</b><br><br>region=Berlin<br>time=2023-12-02 11:00<br>temp_f=%{marker.size}<br>lat=%{lat}<br>lon=%{lon}<extra></extra>",
           "hovertext": [
            "Germany"
           ],
           "lat": [
            52.52
           ],
           "legendgroup": "Berlin",
           "lon": [
            13.41
           ],
           "marker": {
            "color": "#FF97FF",
            "size": [
             26.1
            ],
            "sizemode": "area",
            "sizeref": 0.23675000000000002,
            "symbol": "circle"
           },
           "mode": "markers",
           "name": "Berlin",
           "showlegend": true,
           "type": "scattergeo"
          },
          {
           "geo": "geo",
           "hovertemplate": "<b>%{hovertext}</b><br><br>region=Tokyo<br>time=2023-12-02 11:00<br>temp_f=%{marker.size}<br>lat=%{lat}<br>lon=%{lon}<extra></extra>",
           "hovertext": [
            "Japan"
           ],
           "lat": [
            35.68
           ],
           "legendgroup": "Tokyo",
           "lon": [
            139.65
           ],
           "marker": {
            "color": "#FECB52",
            "size": [
             51.3
            ],
            "sizemode": "area",
            "sizeref": 0.23675000000000002,
            "symbol": "circle"
           },
           "mode": "markers",
           "name": "Tokyo",
           "showlegend": true,
           "type": "scattergeo"
          },
          {
           "geo": "geo",
           "hovertemplate": "<b>%{hovertext}</b><br><br>region=Beijing<br>time=2023-12-02 11:00<br>temp_f=%{marker.size}<br>lat=%{lat}<br>lon=%{lon}<extra></extra>",
           "hovertext": [
            "China"
           ],
           "lat": [
            39.9
           ],
           "legendgroup": "Beijing",
           "lon": [
            116.41
           ],
           "marker": {
            "color": "#636efa",
            "size": [
             40.5
            ],
            "sizemode": "area",
            "sizeref": 0.23675000000000002,
            "symbol": "circle"
           },
           "mode": "markers",
           "name": "Beijing",
           "showlegend": true,
           "type": "scattergeo"
          },
          {
           "geo": "geo",
           "hovertemplate": "<b>%{hovertext}</b><br><br>region=Maharashtra<br>time=2023-12-02 11:00<br>temp_f=%{marker.size}<br>lat=%{lat}<br>lon=%{lon}<extra></extra>",
           "hovertext": [
            "India"
           ],
           "lat": [
            19.08
           ],
           "legendgroup": "Maharashtra",
           "lon": [
            72.88
           ],
           "marker": {
            "color": "#EF553B",
            "size": [
             82.4
            ],
            "sizemode": "area",
            "sizeref": 0.23675000000000002,
            "symbol": "circle"
           },
           "mode": "markers",
           "name": "Maharashtra",
           "showlegend": true,
           "type": "scattergeo"
          },
          {
           "geo": "geo",
           "hovertemplate": "<b>%{hovertext}</b><br><br>region=Al Qahirah<br>time=2023-12-02 11:00<br>temp_f=%{marker.size}<br>lat=%{lat}<br>lon=%{lon}<extra></extra>",
           "hovertext": [
            "Egypt"
           ],
           "lat": [
            30.04
           ],
           "legendgroup": "Al Qahirah",
           "lon": [
            31.24
           ],
           "marker": {
            "color": "#00cc96",
            "size": [
             72.5
            ],
            "sizemode": "area",
            "sizeref": 0.23675000000000002,
            "symbol": "circle"
           },
           "mode": "markers",
           "name": "Al Qahirah",
           "showlegend": true,
           "type": "scattergeo"
          },
          {
           "geo": "geo",
           "hovertemplate": "<b>%{hovertext}</b><br><br>region=Lagos<br>time=2023-12-02 11:00<br>temp_f=%{marker.size}<br>lat=%{lat}<br>lon=%{lon}<extra></extra>",
           "hovertext": [
            "Nigeria"
           ],
           "lat": [
            6.52
           ],
           "legendgroup": "Lagos",
           "lon": [
            3.38
           ],
           "marker": {
            "color": "#ab63fa",
            "size": [
             84.3
            ],
            "sizemode": "area",
            "sizeref": 0.23675000000000002,
            "symbol": "circle"
           },
           "mode": "markers",
           "name": "Lagos",
           "showlegend": true,
           "type": "scattergeo"
          },
          {
           "geo": "geo",
           "hovertemplate": "<b>%{hovertext}</b><br><br>region=Gauteng<br>time=2023-12-02 11:00<br>temp_f=%{marker.size}<br>lat=%{lat}<br>lon=%{lon}<extra></extra>",
           "hovertext": [
            "South Africa"
           ],
           "lat": [
            -26.2
           ],
           "legendgroup": "Gauteng",
           "lon": [
            28.05
           ],
           "marker": {
            "color": "#FFA15A",
            "size": [
             84
            ],
            "sizemode": "area",
            "sizeref": 0.23675000000000002,
            "symbol": "circle"
           },
           "mode": "markers",
           "name": "Gauteng",
           "showlegend": true,
           "type": "scattergeo"
          },
          {
           "geo": "geo",
           "hovertemplate": "<b>%{hovertext}</b><br><br>region=New South Wales<br>time=2023-12-02 11:00<br>temp_f=%{marker.size}<br>lat=%{lat}<br>lon=%{lon}<extra></extra>",
           "hovertext": [
            "Australia"
           ],
           "lat": [
            -33.87
           ],
           "legendgroup": "New South Wales",
           "lon": [
            151.21
           ],
           "marker": {
            "color": "#19d3f3",
            "size": [
             72.1
            ],
            "sizemode": "area",
            "sizeref": 0.23675000000000002,
            "symbol": "circle"
           },
           "mode": "markers",
           "name": "New South Wales",
           "showlegend": true,
           "type": "scattergeo"
          },
          {
           "geo": "geo",
           "hovertemplate": "<b>%{hovertext}</b><br><br>region=Victoria<br>time=2023-12-02 11:00<br>temp_f=%{marker.size}<br>lat=%{lat}<br>lon=%{lon}<extra></extra>",
           "hovertext": [
            "Australia"
           ],
           "lat": [
            -37.81
           ],
           "legendgroup": "Victoria",
           "lon": [
            144.96
           ],
           "marker": {
            "color": "#FF6692",
            "size": [
             59
            ],
            "sizemode": "area",
            "sizeref": 0.23675000000000002,
            "symbol": "circle"
           },
           "mode": "markers",
           "name": "Victoria",
           "showlegend": true,
           "type": "scattergeo"
          },
          {
           "geo": "geo",
           "hovertemplate": "<b>%{hovertext}</b><br><br>region=Queensland<br>time=2023-12-02 11:00<br>temp_f=%{marker.size}<br>lat=%{lat}<br>lon=%{lon}<extra></extra>",
           "hovertext": [
            "Australia"
           ],
           "lat": [
            -27.47
           ],
           "legendgroup": "Queensland",
           "lon": [
            153.03
           ],
           "marker": {
            "color": "#B6E880",
            "size": [
             89.6
            ],
            "sizemode": "area",
            "sizeref": 0.23675000000000002,
            "symbol": "circle"
           },
           "mode": "markers",
           "name": "Queensland",
           "showlegend": true,
           "type": "scattergeo"
          }
         ],
         "name": "2023-12-02 11:00"
        },
        {
         "data": [
          {
           "geo": "geo",
           "hovertemplate": "<b>%{hovertext}</b><br><br>region=New York<br>time=2023-12-02 12:00<br>temp_f=%{marker.size}<br>lat=%{lat}<br>lon=%{lon}<extra></extra>",
           "hovertext": [
            "United States of America"
           ],
           "lat": [
            40.71
           ],
           "legendgroup": "New York",
           "lon": [
            -74.01
           ],
           "marker": {
            "color": "#636efa",
            "size": [
             45.5
            ],
            "sizemode": "area",
            "sizeref": 0.23675000000000002,
            "symbol": "circle"
           },
           "mode": "markers",
           "name": "New York",
           "showlegend": true,
           "type": "scattergeo"
          },
          {
           "geo": "geo",
           "hovertemplate": "<b>%{hovertext}</b><br><br>region=California<br>time=2023-12-02 12:00<br>temp_f=%{marker.size}<br>lat=%{lat}<br>lon=%{lon}<extra></extra>",
           "hovertext": [
            "United States of America"
           ],
           "lat": [
            34.05
           ],
           "legendgroup": "California",
           "lon": [
            -118.24
           ],
           "marker": {
            "color": "#EF553B",
            "size": [
             66
            ],
            "sizemode": "area",
            "sizeref": 0.23675000000000002,
            "symbol": "circle"
           },
           "mode": "markers",
           "name": "California",
           "showlegend": true,
           "type": "scattergeo"
          },
          {
           "geo": "geo",
           "hovertemplate": "<b>%{hovertext}</b><br><br>region=Ontario<br>time=2023-12-02 12:00<br>temp_f=%{marker.size}<br>lat=%{lat}<br>lon=%{lon}<extra></extra>",
           "hovertext": [
            "Canada"
           ],
           "lat": [
            43.65
           ],
           "legendgroup": "Ontario",
           "lon": [
            -79.38
           ],
           "marker": {
            "color": "#00cc96",
            "size": [
             39.4
            ],
            "sizemode": "area",
            "sizeref": 0.23675000000000002,
            "symbol": "circle"
           },
           "mode": "markers",
           "name": "Ontario",
           "showlegend": true,
           "type": "scattergeo"
          },
          {
           "geo": "geo",
           "hovertemplate": "<b>%{hovertext}</b><br><br>region=Sao Paulo<br>time=2023-12-02 12:00<br>temp_f=%{marker.size}<br>lat=%{lat}<br>lon=%{lon}<extra></extra>",
           "hovertext": [
            "Brazil"
           ],
           "lat": [
            -23.55
           ],
           "legendgroup": "Sao Paulo",
           "lon": [
            -46.63
           ],
           "marker": {
            "color": "#ab63fa",
            "size": [
             93.3
            ],
            "sizemode": "area",
            "sizeref": 0.23675000000000002,
            "symbol": "circle"
           },
           "mode": "markers",
           "name": "Sao Paulo",
           "showlegend": true,
           "type": "scattergeo"
          },
          {
           "geo": "geo",
           "hovertemplate": "<b>%{hovertext}</b><br><br>region=Buenos Aires<br>time=2023-12-02 12:00<br>temp_f=%{marker.size}<br>lat=%{lat}<br>lon=%{lon}<extra></extra>",
           "hovertext": [
            "Argentina"
           ],
           "lat": [
            -34.6
           ],
           "legendgroup": "Buenos Aires",
           "lon": [
            -58.38
           ],
           "marker": {
            "color": "#FFA15A",
            "size": [
             76.2
            ],
            "sizemode": "area",
            "sizeref": 0.23675000000000002,
            "symbol": "circle"
           },
           "mode": "markers",
           "name": "Buenos Aires",
           "showlegend": true,
           "type": "scattergeo"
          },
          {
           "geo": "geo",
           "hovertemplate": "<b>%{hovertext}</b><br><br>region=Cundinamarca<br>time=2023-12-02 12:00<br>temp_f=%{marker.size}<br>lat=%{lat}<br>lon=%{lon}<extra></extra>",
           "hovertext": [
            "Colombia"
           ],
           "lat": [
            4.71
           ],
           "legendgroup": "Cundinamarca",
           "lon": [
            -74.07
           ],
           "marker": {
            "color": "#19d3f3",
            "size": [
             70.2
            ],
            "sizemode": "area",
            "sizeref": 0.23675000000000002,
            "symbol": "circle"
           },
           "mode": "markers",
           "name": "Cundinamarca",
           "showlegend": true,
           "type": "scattergeo"
          },
          {
           "geo": "geo",
           "hovertemplate": "<b>%{hovertext}</b><br><br>region=City of London, Greater London<br>time=2023-12-02 12:00<br>temp_f=%{marker.size}<br>lat=%{lat}<br>lon=%{lon}<extra></extra>",
           "hovertext": [
            "United Kingdom"
           ],
           "lat": [
            51.51
           ],
           "legendgroup": "City of London, Greater London",
           "lon": [
            -0.13
           ],
           "marker": {
            "color": "#FF6692",
            "size": [
             37.4
            ],
            "sizemode": "area",
            "sizeref": 0.23675000000000002,
            "symbol": "circle"
           },
           "mode": "markers",
           "name": "City of London, Greater London",
           "showlegend": true,
           "type": "scattergeo"
          },
          {
           "geo": "geo",
           "hovertemplate": "<b>%{hovertext}</b><br><br>region=Ile-de-France<br>time=2023-12-02 12:00<br>temp_f=%{marker.size}<br>lat=%{lat}<br>lon=%{lon}<extra></extra>",
           "hovertext": [
            "France"
           ],
           "lat": [
            48.86
           ],
           "legendgroup": "Ile-de-France",
           "lon": [
            2.35
           ],
           "marker": {
            "color": "#B6E880",
            "size": [
             34.7
            ],
            "sizemode": "area",
            "sizeref": 0.23675000000000002,
            "symbol": "circle"
           },
           "mode": "markers",
           "name": "Ile-de-France",
           "showlegend": true,
           "type": "scattergeo"
          },
          {
           "geo": "geo",
           "hovertemplate": "<b>%{hovertext}</b><br><br>region=Berlin<br>time=2023-12-02 12:00<br>temp_f=%{marker.size}<br>lat=%{lat}<br>lon=%{lon}<extra></extra>",
           "hovertext": [
            "Germany"
           ],
           "lat": [
            52.52
           ],
           "legendgroup": "Berlin",
           "lon": [
            13.41
           ],
           "marker": {
            "color": "#FF97FF",
            "size": [
             27.2
            ],
            "sizemode": "area",
            "sizeref": 0.23675000000000002,
            "symbol": "circle"
           },
           "mode": "markers",
           "name": "Berlin",
           "showlegend": true,
           "type": "scattergeo"
          },
          {
           "geo": "geo",
           "hovertemplate": "<b>%{hovertext}</b><br><br>region=Tokyo<br>time=2023-12-02 12:00<br>temp_f=%{marker.size}<br>lat=%{lat}<br>lon=%{lon}<extra></extra>",
           "hovertext": [
            "Japan"
           ],
           "lat": [
            35.68
           ],
           "legendgroup": "Tokyo",
           "lon": [
            139.65
           ],
           "marker": {
            "color": "#FECB52",
            "size": [
             52.6
            ],
            "sizemode": "area",
            "sizeref": 0.23675000000000002,
            "symbol": "circle"
           },
           "mode": "markers",
           "name": "Tokyo",
           "showlegend": true,
           "type": "scattergeo"
          },
          {
           "geo": "geo",
           "hovertemplate": "<b>%{hovertext}</b><br><br>region=Beijing<br>time=2023-12-02 12:00<br>temp_f=%{marker.size}<br>lat=%{lat}<br>lon=%{lon}<extra></extra>",
           "hovertext": [
            "China"
           ],
           "lat": [
            39.9
           ],
           "legendgroup": "Beijing",
           "lon": [
            116.41
           ],
           "marker": {
            "color": "#636efa",
            "size": [
             42.4
            ],
            "sizemode": "area",
            "sizeref": 0.23675000000000002,
            "symbol": "circle"
           },
           "mode": "markers",
           "name": "Beijing",
           "showlegend": true,
           "type": "scattergeo"
          },
          {
           "geo": "geo",
           "hovertemplate": "<b>%{hovertext}</b><br><br>region=Maharashtra<br>time=2023-12-02 12:00<br>temp_f=%{marker.size}<br>lat=%{lat}<br>lon=%{lon}<extra></extra>",
           "hovertext": [
            "India"
           ],
           "lat": [
            19.08
           ],
           "legendgroup": "Maharashtra",
           "lon": [
            72.88
           ],
           "marker": {
            "color": "#EF553B",
            "size": [
             83.8
            ],
            "sizemode": "area",
            "sizeref": 0.23675000000000002,
            "symbol": "circle"
           },
           "mode": "markers",
           "name": "Maharashtra",
           "showlegend": true,
           "type": "scattergeo"
          },
          {
           "geo": "geo",
           "hovertemplate": "<b>%{hovertext}</b><br><br>region=Al Qahirah<br>time=2023-12-02 12:00<br>temp_f=%{marker.size}<br>lat=%{lat}<br>lon=%{lon}<extra></extra>",
           "hovertext": [
            "Egypt"
           ],
           "lat": [
            30.04
           ],
           "legendgroup": "Al Qahirah",
           "lon": [
            31.24
           ],
           "marker": {
            "color": "#00cc96",
            "size": [
             74.9
            ],
            "sizemode": "area",
            "sizeref": 0.23675000000000002,
            "symbol": "circle"
           },
           "mode": "markers",
           "name": "Al Qahirah",
           "showlegend": true,
           "type": "scattergeo"
          },
          {
           "geo": "geo",
           "hovertemplate": "<b>%{hovertext}</b><br><br>region=Lagos<br>time=2023-12-02 12:00<br>temp_f=%{marker.size}<br>lat=%{lat}<br>lon=%{lon}<extra></extra>",
           "hovertext": [
            "Nigeria"
           ],
           "lat": [
            6.52
           ],
           "legendgroup": "Lagos",
           "lon": [
            3.38
           ],
           "marker": {
            "color": "#ab63fa",
            "size": [
             84.1
            ],
            "sizemode": "area",
            "sizeref": 0.23675000000000002,
            "symbol": "circle"
           },
           "mode": "markers",
           "name": "Lagos",
           "showlegend": true,
           "type": "scattergeo"
          },
          {
           "geo": "geo",
           "hovertemplate": "<b>%{hovertext}</b><br><br>region=Gauteng<br>time=2023-12-02 12:00<br>temp_f=%{marker.size}<br>lat=%{lat}<br>lon=%{lon}<extra></extra>",
           "hovertext": [
            "South Africa"
           ],
           "lat": [
            -26.2
           ],
           "legendgroup": "Gauteng",
           "lon": [
            28.05
           ],
           "marker": {
            "color": "#FFA15A",
            "size": [
             87.5
            ],
            "sizemode": "area",
            "sizeref": 0.23675000000000002,
            "symbol": "circle"
           },
           "mode": "markers",
           "name": "Gauteng",
           "showlegend": true,
           "type": "scattergeo"
          },
          {
           "geo": "geo",
           "hovertemplate": "<b>%{hovertext}</b><br><br>region=New South Wales<br>time=2023-12-02 12:00<br>temp_f=%{marker.size}<br>lat=%{lat}<br>lon=%{lon}<extra></extra>",
           "hovertext": [
            "Australia"
           ],
           "lat": [
            -33.87
           ],
           "legendgroup": "New South Wales",
           "lon": [
            151.21
           ],
           "marker": {
            "color": "#19d3f3",
            "size": [
             71.6
            ],
            "sizemode": "area",
            "sizeref": 0.23675000000000002,
            "symbol": "circle"
           },
           "mode": "markers",
           "name": "New South Wales",
           "showlegend": true,
           "type": "scattergeo"
          },
          {
           "geo": "geo",
           "hovertemplate": "<b>%{hovertext}</b><br><br>region=Victoria<br>time=2023-12-02 12:00<br>temp_f=%{marker.size}<br>lat=%{lat}<br>lon=%{lon}<extra></extra>",
           "hovertext": [
            "Australia"
           ],
           "lat": [
            -37.81
           ],
           "legendgroup": "Victoria",
           "lon": [
            144.96
           ],
           "marker": {
            "color": "#FF6692",
            "size": [
             58.3
            ],
            "sizemode": "area",
            "sizeref": 0.23675000000000002,
            "symbol": "circle"
           },
           "mode": "markers",
           "name": "Victoria",
           "showlegend": true,
           "type": "scattergeo"
          },
          {
           "geo": "geo",
           "hovertemplate": "<b>%{hovertext}</b><br><br>region=Queensland<br>time=2023-12-02 12:00<br>temp_f=%{marker.size}<br>lat=%{lat}<br>lon=%{lon}<extra></extra>",
           "hovertext": [
            "Australia"
           ],
           "lat": [
            -27.47
           ],
           "legendgroup": "Queensland",
           "lon": [
            153.03
           ],
           "marker": {
            "color": "#B6E880",
            "size": [
             88.1
            ],
            "sizemode": "area",
            "sizeref": 0.23675000000000002,
            "symbol": "circle"
           },
           "mode": "markers",
           "name": "Queensland",
           "showlegend": true,
           "type": "scattergeo"
          }
         ],
         "name": "2023-12-02 12:00"
        },
        {
         "data": [
          {
           "geo": "geo",
           "hovertemplate": "<b>%{hovertext}</b><br><br>region=New York<br>time=2023-12-02 13:00<br>temp_f=%{marker.size}<br>lat=%{lat}<br>lon=%{lon}<extra></extra>",
           "hovertext": [
            "United States of America"
           ],
           "lat": [
            40.71
           ],
           "legendgroup": "New York",
           "lon": [
            -74.01
           ],
           "marker": {
            "color": "#636efa",
            "size": [
             46.8
            ],
            "sizemode": "area",
            "sizeref": 0.23675000000000002,
            "symbol": "circle"
           },
           "mode": "markers",
           "name": "New York",
           "showlegend": true,
           "type": "scattergeo"
          },
          {
           "geo": "geo",
           "hovertemplate": "<b>%{hovertext}</b><br><br>region=California<br>time=2023-12-02 13:00<br>temp_f=%{marker.size}<br>lat=%{lat}<br>lon=%{lon}<extra></extra>",
           "hovertext": [
            "United States of America"
           ],
           "lat": [
            34.05
           ],
           "legendgroup": "California",
           "lon": [
            -118.24
           ],
           "marker": {
            "color": "#EF553B",
            "size": [
             68
            ],
            "sizemode": "area",
            "sizeref": 0.23675000000000002,
            "symbol": "circle"
           },
           "mode": "markers",
           "name": "California",
           "showlegend": true,
           "type": "scattergeo"
          },
          {
           "geo": "geo",
           "hovertemplate": "<b>%{hovertext}</b><br><br>region=Ontario<br>time=2023-12-02 13:00<br>temp_f=%{marker.size}<br>lat=%{lat}<br>lon=%{lon}<extra></extra>",
           "hovertext": [
            "Canada"
           ],
           "lat": [
            43.65
           ],
           "legendgroup": "Ontario",
           "lon": [
            -79.38
           ],
           "marker": {
            "color": "#00cc96",
            "size": [
             39.6
            ],
            "sizemode": "area",
            "sizeref": 0.23675000000000002,
            "symbol": "circle"
           },
           "mode": "markers",
           "name": "Ontario",
           "showlegend": true,
           "type": "scattergeo"
          },
          {
           "geo": "geo",
           "hovertemplate": "<b>%{hovertext}</b><br><br>region=Sao Paulo<br>time=2023-12-02 13:00<br>temp_f=%{marker.size}<br>lat=%{lat}<br>lon=%{lon}<extra></extra>",
           "hovertext": [
            "Brazil"
           ],
           "lat": [
            -23.55
           ],
           "legendgroup": "Sao Paulo",
           "lon": [
            -46.63
           ],
           "marker": {
            "color": "#ab63fa",
            "size": [
             94.7
            ],
            "sizemode": "area",
            "sizeref": 0.23675000000000002,
            "symbol": "circle"
           },
           "mode": "markers",
           "name": "Sao Paulo",
           "showlegend": true,
           "type": "scattergeo"
          },
          {
           "geo": "geo",
           "hovertemplate": "<b>%{hovertext}</b><br><br>region=Buenos Aires<br>time=2023-12-02 13:00<br>temp_f=%{marker.size}<br>lat=%{lat}<br>lon=%{lon}<extra></extra>",
           "hovertext": [
            "Argentina"
           ],
           "lat": [
            -34.6
           ],
           "legendgroup": "Buenos Aires",
           "lon": [
            -58.38
           ],
           "marker": {
            "color": "#FFA15A",
            "size": [
             77.3
            ],
            "sizemode": "area",
            "sizeref": 0.23675000000000002,
            "symbol": "circle"
           },
           "mode": "markers",
           "name": "Buenos Aires",
           "showlegend": true,
           "type": "scattergeo"
          },
          {
           "geo": "geo",
           "hovertemplate": "<b>%{hovertext}</b><br><br>region=Cundinamarca<br>time=2023-12-02 13:00<br>temp_f=%{marker.size}<br>lat=%{lat}<br>lon=%{lon}<extra></extra>",
           "hovertext": [
            "Colombia"
           ],
           "lat": [
            4.71
           ],
           "legendgroup": "Cundinamarca",
           "lon": [
            -74.07
           ],
           "marker": {
            "color": "#19d3f3",
            "size": [
             70.4
            ],
            "sizemode": "area",
            "sizeref": 0.23675000000000002,
            "symbol": "circle"
           },
           "mode": "markers",
           "name": "Cundinamarca",
           "showlegend": true,
           "type": "scattergeo"
          },
          {
           "geo": "geo",
           "hovertemplate": "<b>%{hovertext}</b><br><br>region=City of London, Greater London<br>time=2023-12-02 13:00<br>temp_f=%{marker.size}<br>lat=%{lat}<br>lon=%{lon}<extra></extra>",
           "hovertext": [
            "United Kingdom"
           ],
           "lat": [
            51.51
           ],
           "legendgroup": "City of London, Greater London",
           "lon": [
            -0.13
           ],
           "marker": {
            "color": "#FF6692",
            "size": [
             38.2
            ],
            "sizemode": "area",
            "sizeref": 0.23675000000000002,
            "symbol": "circle"
           },
           "mode": "markers",
           "name": "City of London, Greater London",
           "showlegend": true,
           "type": "scattergeo"
          },
          {
           "geo": "geo",
           "hovertemplate": "<b>%{hovertext}</b><br><br>region=Ile-de-France<br>time=2023-12-02 13:00<br>temp_f=%{marker.size}<br>lat=%{lat}<br>lon=%{lon}<extra></extra>",
           "hovertext": [
            "France"
           ],
           "lat": [
            48.86
           ],
           "legendgroup": "Ile-de-France",
           "lon": [
            2.35
           ],
           "marker": {
            "color": "#B6E880",
            "size": [
             36.1
            ],
            "sizemode": "area",
            "sizeref": 0.23675000000000002,
            "symbol": "circle"
           },
           "mode": "markers",
           "name": "Ile-de-France",
           "showlegend": true,
           "type": "scattergeo"
          },
          {
           "geo": "geo",
           "hovertemplate": "<b>%{hovertext}</b><br><br>region=Berlin<br>time=2023-12-02 13:00<br>temp_f=%{marker.size}<br>lat=%{lat}<br>lon=%{lon}<extra></extra>",
           "hovertext": [
            "Germany"
           ],
           "lat": [
            52.52
           ],
           "legendgroup": "Berlin",
           "lon": [
            13.41
           ],
           "marker": {
            "color": "#FF97FF",
            "size": [
             27.6
            ],
            "sizemode": "area",
            "sizeref": 0.23675000000000002,
            "symbol": "circle"
           },
           "mode": "markers",
           "name": "Berlin",
           "showlegend": true,
           "type": "scattergeo"
          },
          {
           "geo": "geo",
           "hovertemplate": "<b>%{hovertext}</b><br><br>region=Tokyo<br>time=2023-12-02 13:00<br>temp_f=%{marker.size}<br>lat=%{lat}<br>lon=%{lon}<extra></extra>",
           "hovertext": [
            "Japan"
           ],
           "lat": [
            35.68
           ],
           "legendgroup": "Tokyo",
           "lon": [
            139.65
           ],
           "marker": {
            "color": "#FECB52",
            "size": [
             53.6
            ],
            "sizemode": "area",
            "sizeref": 0.23675000000000002,
            "symbol": "circle"
           },
           "mode": "markers",
           "name": "Tokyo",
           "showlegend": true,
           "type": "scattergeo"
          },
          {
           "geo": "geo",
           "hovertemplate": "<b>%{hovertext}</b><br><br>region=Beijing<br>time=2023-12-02 13:00<br>temp_f=%{marker.size}<br>lat=%{lat}<br>lon=%{lon}<extra></extra>",
           "hovertext": [
            "China"
           ],
           "lat": [
            39.9
           ],
           "legendgroup": "Beijing",
           "lon": [
            116.41
           ],
           "marker": {
            "color": "#636efa",
            "size": [
             43.8
            ],
            "sizemode": "area",
            "sizeref": 0.23675000000000002,
            "symbol": "circle"
           },
           "mode": "markers",
           "name": "Beijing",
           "showlegend": true,
           "type": "scattergeo"
          },
          {
           "geo": "geo",
           "hovertemplate": "<b>%{hovertext}</b><br><br>region=Maharashtra<br>time=2023-12-02 13:00<br>temp_f=%{marker.size}<br>lat=%{lat}<br>lon=%{lon}<extra></extra>",
           "hovertext": [
            "India"
           ],
           "lat": [
            19.08
           ],
           "legendgroup": "Maharashtra",
           "lon": [
            72.88
           ],
           "marker": {
            "color": "#EF553B",
            "size": [
             84.2
            ],
            "sizemode": "area",
            "sizeref": 0.23675000000000002,
            "symbol": "circle"
           },
           "mode": "markers",
           "name": "Maharashtra",
           "showlegend": true,
           "type": "scattergeo"
          },
          {
           "geo": "geo",
           "hovertemplate": "<b>%{hovertext}</b><br><br>region=Al Qahirah<br>time=2023-12-02 13:00<br>temp_f=%{marker.size}<br>lat=%{lat}<br>lon=%{lon}<extra></extra>",
           "hovertext": [
            "Egypt"
           ],
           "lat": [
            30.04
           ],
           "legendgroup": "Al Qahirah",
           "lon": [
            31.24
           ],
           "marker": {
            "color": "#00cc96",
            "size": [
             76.6
            ],
            "sizemode": "area",
            "sizeref": 0.23675000000000002,
            "symbol": "circle"
           },
           "mode": "markers",
           "name": "Al Qahirah",
           "showlegend": true,
           "type": "scattergeo"
          },
          {
           "geo": "geo",
           "hovertemplate": "<b>%{hovertext}</b><br><br>region=Lagos<br>time=2023-12-02 13:00<br>temp_f=%{marker.size}<br>lat=%{lat}<br>lon=%{lon}<extra></extra>",
           "hovertext": [
            "Nigeria"
           ],
           "lat": [
            6.52
           ],
           "legendgroup": "Lagos",
           "lon": [
            3.38
           ],
           "marker": {
            "color": "#ab63fa",
            "size": [
             83.6
            ],
            "sizemode": "area",
            "sizeref": 0.23675000000000002,
            "symbol": "circle"
           },
           "mode": "markers",
           "name": "Lagos",
           "showlegend": true,
           "type": "scattergeo"
          },
          {
           "geo": "geo",
           "hovertemplate": "<b>%{hovertext}</b><br><br>region=Gauteng<br>time=2023-12-02 13:00<br>temp_f=%{marker.size}<br>lat=%{lat}<br>lon=%{lon}<extra></extra>",
           "hovertext": [
            "South Africa"
           ],
           "lat": [
            -26.2
           ],
           "legendgroup": "Gauteng",
           "lon": [
            28.05
           ],
           "marker": {
            "color": "#FFA15A",
            "size": [
             89.2
            ],
            "sizemode": "area",
            "sizeref": 0.23675000000000002,
            "symbol": "circle"
           },
           "mode": "markers",
           "name": "Gauteng",
           "showlegend": true,
           "type": "scattergeo"
          },
          {
           "geo": "geo",
           "hovertemplate": "<b>%{hovertext}</b><br><br>region=New South Wales<br>time=2023-12-02 13:00<br>temp_f=%{marker.size}<br>lat=%{lat}<br>lon=%{lon}<extra></extra>",
           "hovertext": [
            "Australia"
           ],
           "lat": [
            -33.87
           ],
           "legendgroup": "New South Wales",
           "lon": [
            151.21
           ],
           "marker": {
            "color": "#19d3f3",
            "size": [
             71.7
            ],
            "sizemode": "area",
            "sizeref": 0.23675000000000002,
            "symbol": "circle"
           },
           "mode": "markers",
           "name": "New South Wales",
           "showlegend": true,
           "type": "scattergeo"
          },
          {
           "geo": "geo",
           "hovertemplate": "<b>%{hovertext}</b><br><br>region=Victoria<br>time=2023-12-02 13:00<br>temp_f=%{marker.size}<br>lat=%{lat}<br>lon=%{lon}<extra></extra>",
           "hovertext": [
            "Australia"
           ],
           "lat": [
            -37.81
           ],
           "legendgroup": "Victoria",
           "lon": [
            144.96
           ],
           "marker": {
            "color": "#FF6692",
            "size": [
             58.2
            ],
            "sizemode": "area",
            "sizeref": 0.23675000000000002,
            "symbol": "circle"
           },
           "mode": "markers",
           "name": "Victoria",
           "showlegend": true,
           "type": "scattergeo"
          },
          {
           "geo": "geo",
           "hovertemplate": "<b>%{hovertext}</b><br><br>region=Queensland<br>time=2023-12-02 13:00<br>temp_f=%{marker.size}<br>lat=%{lat}<br>lon=%{lon}<extra></extra>",
           "hovertext": [
            "Australia"
           ],
           "lat": [
            -27.47
           ],
           "legendgroup": "Queensland",
           "lon": [
            153.03
           ],
           "marker": {
            "color": "#B6E880",
            "size": [
             91.6
            ],
            "sizemode": "area",
            "sizeref": 0.23675000000000002,
            "symbol": "circle"
           },
           "mode": "markers",
           "name": "Queensland",
           "showlegend": true,
           "type": "scattergeo"
          }
         ],
         "name": "2023-12-02 13:00"
        },
        {
         "data": [
          {
           "geo": "geo",
           "hovertemplate": "<b>%{hovertext}</b><br><br>region=New York<br>time=2023-12-02 14:00<br>temp_f=%{marker.size}<br>lat=%{lat}<br>lon=%{lon}<extra></extra>",
           "hovertext": [
            "United States of America"
           ],
           "lat": [
            40.71
           ],
           "legendgroup": "New York",
           "lon": [
            -74.01
           ],
           "marker": {
            "color": "#636efa",
            "size": [
             46.9
            ],
            "sizemode": "area",
            "sizeref": 0.23675000000000002,
            "symbol": "circle"
           },
           "mode": "markers",
           "name": "New York",
           "showlegend": true,
           "type": "scattergeo"
          },
          {
           "geo": "geo",
           "hovertemplate": "<b>%{hovertext}</b><br><br>region=California<br>time=2023-12-02 14:00<br>temp_f=%{marker.size}<br>lat=%{lat}<br>lon=%{lon}<extra></extra>",
           "hovertext": [
            "United States of America"
           ],
           "lat": [
            34.05
           ],
           "legendgroup": "California",
           "lon": [
            -118.24
           ],
           "marker": {
            "color": "#EF553B",
            "size": [
             69.1
            ],
            "sizemode": "area",
            "sizeref": 0.23675000000000002,
            "symbol": "circle"
           },
           "mode": "markers",
           "name": "California",
           "showlegend": true,
           "type": "scattergeo"
          },
          {
           "geo": "geo",
           "hovertemplate": "<b>%{hovertext}</b><br><br>region=Ontario<br>time=2023-12-02 14:00<br>temp_f=%{marker.size}<br>lat=%{lat}<br>lon=%{lon}<extra></extra>",
           "hovertext": [
            "Canada"
           ],
           "lat": [
            43.65
           ],
           "legendgroup": "Ontario",
           "lon": [
            -79.38
           ],
           "marker": {
            "color": "#00cc96",
            "size": [
             40.1
            ],
            "sizemode": "area",
            "sizeref": 0.23675000000000002,
            "symbol": "circle"
           },
           "mode": "markers",
           "name": "Ontario",
           "showlegend": true,
           "type": "scattergeo"
          },
          {
           "geo": "geo",
           "hovertemplate": "<b>%{hovertext}</b><br><br>region=Sao Paulo<br>time=2023-12-02 14:00<br>temp_f=%{marker.size}<br>lat=%{lat}<br>lon=%{lon}<extra></extra>",
           "hovertext": [
            "Brazil"
           ],
           "lat": [
            -23.55
           ],
           "legendgroup": "Sao Paulo",
           "lon": [
            -46.63
           ],
           "marker": {
            "color": "#ab63fa",
            "size": [
             94.7
            ],
            "sizemode": "area",
            "sizeref": 0.23675000000000002,
            "symbol": "circle"
           },
           "mode": "markers",
           "name": "Sao Paulo",
           "showlegend": true,
           "type": "scattergeo"
          },
          {
           "geo": "geo",
           "hovertemplate": "<b>%{hovertext}</b><br><br>region=Buenos Aires<br>time=2023-12-02 14:00<br>temp_f=%{marker.size}<br>lat=%{lat}<br>lon=%{lon}<extra></extra>",
           "hovertext": [
            "Argentina"
           ],
           "lat": [
            -34.6
           ],
           "legendgroup": "Buenos Aires",
           "lon": [
            -58.38
           ],
           "marker": {
            "color": "#FFA15A",
            "size": [
             78.2
            ],
            "sizemode": "area",
            "sizeref": 0.23675000000000002,
            "symbol": "circle"
           },
           "mode": "markers",
           "name": "Buenos Aires",
           "showlegend": true,
           "type": "scattergeo"
          },
          {
           "geo": "geo",
           "hovertemplate": "<b>%{hovertext}</b><br><br>region=Cundinamarca<br>time=2023-12-02 14:00<br>temp_f=%{marker.size}<br>lat=%{lat}<br>lon=%{lon}<extra></extra>",
           "hovertext": [
            "Colombia"
           ],
           "lat": [
            4.71
           ],
           "legendgroup": "Cundinamarca",
           "lon": [
            -74.07
           ],
           "marker": {
            "color": "#19d3f3",
            "size": [
             69.8
            ],
            "sizemode": "area",
            "sizeref": 0.23675000000000002,
            "symbol": "circle"
           },
           "mode": "markers",
           "name": "Cundinamarca",
           "showlegend": true,
           "type": "scattergeo"
          },
          {
           "geo": "geo",
           "hovertemplate": "<b>%{hovertext}</b><br><br>region=City of London, Greater London<br>time=2023-12-02 14:00<br>temp_f=%{marker.size}<br>lat=%{lat}<br>lon=%{lon}<extra></extra>",
           "hovertext": [
            "United Kingdom"
           ],
           "lat": [
            51.51
           ],
           "legendgroup": "City of London, Greater London",
           "lon": [
            -0.13
           ],
           "marker": {
            "color": "#FF6692",
            "size": [
             38.4
            ],
            "sizemode": "area",
            "sizeref": 0.23675000000000002,
            "symbol": "circle"
           },
           "mode": "markers",
           "name": "City of London, Greater London",
           "showlegend": true,
           "type": "scattergeo"
          },
          {
           "geo": "geo",
           "hovertemplate": "<b>%{hovertext}</b><br><br>region=Ile-de-France<br>time=2023-12-02 14:00<br>temp_f=%{marker.size}<br>lat=%{lat}<br>lon=%{lon}<extra></extra>",
           "hovertext": [
            "France"
           ],
           "lat": [
            48.86
           ],
           "legendgroup": "Ile-de-France",
           "lon": [
            2.35
           ],
           "marker": {
            "color": "#B6E880",
            "size": [
             37.2
            ],
            "sizemode": "area",
            "sizeref": 0.23675000000000002,
            "symbol": "circle"
           },
           "mode": "markers",
           "name": "Ile-de-France",
           "showlegend": true,
           "type": "scattergeo"
          },
          {
           "geo": "geo",
           "hovertemplate": "<b>%{hovertext}</b><br><br>region=Berlin<br>time=2023-12-02 14:00<br>temp_f=%{marker.size}<br>lat=%{lat}<br>lon=%{lon}<extra></extra>",
           "hovertext": [
            "Germany"
           ],
           "lat": [
            52.52
           ],
           "legendgroup": "Berlin",
           "lon": [
            13.41
           ],
           "marker": {
            "color": "#FF97FF",
            "size": [
             27.3
            ],
            "sizemode": "area",
            "sizeref": 0.23675000000000002,
            "symbol": "circle"
           },
           "mode": "markers",
           "name": "Berlin",
           "showlegend": true,
           "type": "scattergeo"
          },
          {
           "geo": "geo",
           "hovertemplate": "<b>%{hovertext}</b><br><br>region=Tokyo<br>time=2023-12-02 14:00<br>temp_f=%{marker.size}<br>lat=%{lat}<br>lon=%{lon}<extra></extra>",
           "hovertext": [
            "Japan"
           ],
           "lat": [
            35.68
           ],
           "legendgroup": "Tokyo",
           "lon": [
            139.65
           ],
           "marker": {
            "color": "#FECB52",
            "size": [
             54.3
            ],
            "sizemode": "area",
            "sizeref": 0.23675000000000002,
            "symbol": "circle"
           },
           "mode": "markers",
           "name": "Tokyo",
           "showlegend": true,
           "type": "scattergeo"
          },
          {
           "geo": "geo",
           "hovertemplate": "<b>%{hovertext}</b><br><br>region=Beijing<br>time=2023-12-02 14:00<br>temp_f=%{marker.size}<br>lat=%{lat}<br>lon=%{lon}<extra></extra>",
           "hovertext": [
            "China"
           ],
           "lat": [
            39.9
           ],
           "legendgroup": "Beijing",
           "lon": [
            116.41
           ],
           "marker": {
            "color": "#636efa",
            "size": [
             44.5
            ],
            "sizemode": "area",
            "sizeref": 0.23675000000000002,
            "symbol": "circle"
           },
           "mode": "markers",
           "name": "Beijing",
           "showlegend": true,
           "type": "scattergeo"
          },
          {
           "geo": "geo",
           "hovertemplate": "<b>%{hovertext}</b><br><br>region=Maharashtra<br>time=2023-12-02 14:00<br>temp_f=%{marker.size}<br>lat=%{lat}<br>lon=%{lon}<extra></extra>",
           "hovertext": [
            "India"
           ],
           "lat": [
            19.08
           ],
           "legendgroup": "Maharashtra",
           "lon": [
            72.88
           ],
           "marker": {
            "color": "#EF553B",
            "size": [
             84.1
            ],
            "sizemode": "area",
            "sizeref": 0.23675000000000002,
            "symbol": "circle"
           },
           "mode": "markers",
           "name": "Maharashtra",
           "showlegend": true,
           "type": "scattergeo"
          },
          {
           "geo": "geo",
           "hovertemplate": "<b>%{hovertext}</b><br><br>region=Al Qahirah<br>time=2023-12-02 14:00<br>temp_f=%{marker.size}<br>lat=%{lat}<br>lon=%{lon}<extra></extra>",
           "hovertext": [
            "Egypt"
           ],
           "lat": [
            30.04
           ],
           "legendgroup": "Al Qahirah",
           "lon": [
            31.24
           ],
           "marker": {
            "color": "#00cc96",
            "size": [
             77.6
            ],
            "sizemode": "area",
            "sizeref": 0.23675000000000002,
            "symbol": "circle"
           },
           "mode": "markers",
           "name": "Al Qahirah",
           "showlegend": true,
           "type": "scattergeo"
          },
          {
           "geo": "geo",
           "hovertemplate": "<b>%{hovertext}</b><br><br>region=Lagos<br>time=2023-12-02 14:00<br>temp_f=%{marker.size}<br>lat=%{lat}<br>lon=%{lon}<extra></extra>",
           "hovertext": [
            "Nigeria"
           ],
           "lat": [
            6.52
           ],
           "legendgroup": "Lagos",
           "lon": [
            3.38
           ],
           "marker": {
            "color": "#ab63fa",
            "size": [
             84.9
            ],
            "sizemode": "area",
            "sizeref": 0.23675000000000002,
            "symbol": "circle"
           },
           "mode": "markers",
           "name": "Lagos",
           "showlegend": true,
           "type": "scattergeo"
          },
          {
           "geo": "geo",
           "hovertemplate": "<b>%{hovertext}</b><br><br>region=Gauteng<br>time=2023-12-02 14:00<br>temp_f=%{marker.size}<br>lat=%{lat}<br>lon=%{lon}<extra></extra>",
           "hovertext": [
            "South Africa"
           ],
           "lat": [
            -26.2
           ],
           "legendgroup": "Gauteng",
           "lon": [
            28.05
           ],
           "marker": {
            "color": "#FFA15A",
            "size": [
             90.1
            ],
            "sizemode": "area",
            "sizeref": 0.23675000000000002,
            "symbol": "circle"
           },
           "mode": "markers",
           "name": "Gauteng",
           "showlegend": true,
           "type": "scattergeo"
          },
          {
           "geo": "geo",
           "hovertemplate": "<b>%{hovertext}</b><br><br>region=New South Wales<br>time=2023-12-02 14:00<br>temp_f=%{marker.size}<br>lat=%{lat}<br>lon=%{lon}<extra></extra>",
           "hovertext": [
            "Australia"
           ],
           "lat": [
            -33.87
           ],
           "legendgroup": "New South Wales",
           "lon": [
            151.21
           ],
           "marker": {
            "color": "#19d3f3",
            "size": [
             71.2
            ],
            "sizemode": "area",
            "sizeref": 0.23675000000000002,
            "symbol": "circle"
           },
           "mode": "markers",
           "name": "New South Wales",
           "showlegend": true,
           "type": "scattergeo"
          },
          {
           "geo": "geo",
           "hovertemplate": "<b>%{hovertext}</b><br><br>region=Victoria<br>time=2023-12-02 14:00<br>temp_f=%{marker.size}<br>lat=%{lat}<br>lon=%{lon}<extra></extra>",
           "hovertext": [
            "Australia"
           ],
           "lat": [
            -37.81
           ],
           "legendgroup": "Victoria",
           "lon": [
            144.96
           ],
           "marker": {
            "color": "#FF6692",
            "size": [
             58
            ],
            "sizemode": "area",
            "sizeref": 0.23675000000000002,
            "symbol": "circle"
           },
           "mode": "markers",
           "name": "Victoria",
           "showlegend": true,
           "type": "scattergeo"
          },
          {
           "geo": "geo",
           "hovertemplate": "<b>%{hovertext}</b><br><br>region=Queensland<br>time=2023-12-02 14:00<br>temp_f=%{marker.size}<br>lat=%{lat}<br>lon=%{lon}<extra></extra>",
           "hovertext": [
            "Australia"
           ],
           "lat": [
            -27.47
           ],
           "legendgroup": "Queensland",
           "lon": [
            153.03
           ],
           "marker": {
            "color": "#B6E880",
            "size": [
             89.1
            ],
            "sizemode": "area",
            "sizeref": 0.23675000000000002,
            "symbol": "circle"
           },
           "mode": "markers",
           "name": "Queensland",
           "showlegend": true,
           "type": "scattergeo"
          }
         ],
         "name": "2023-12-02 14:00"
        },
        {
         "data": [
          {
           "geo": "geo",
           "hovertemplate": "<b>%{hovertext}</b><br><br>region=New York<br>time=2023-12-02 15:00<br>temp_f=%{marker.size}<br>lat=%{lat}<br>lon=%{lon}<extra></extra>",
           "hovertext": [
            "United States of America"
           ],
           "lat": [
            40.71
           ],
           "legendgroup": "New York",
           "lon": [
            -74.01
           ],
           "marker": {
            "color": "#636efa",
            "size": [
             47.3
            ],
            "sizemode": "area",
            "sizeref": 0.23675000000000002,
            "symbol": "circle"
           },
           "mode": "markers",
           "name": "New York",
           "showlegend": true,
           "type": "scattergeo"
          },
          {
           "geo": "geo",
           "hovertemplate": "<b>%{hovertext}</b><br><br>region=California<br>time=2023-12-02 15:00<br>temp_f=%{marker.size}<br>lat=%{lat}<br>lon=%{lon}<extra></extra>",
           "hovertext": [
            "United States of America"
           ],
           "lat": [
            34.05
           ],
           "legendgroup": "California",
           "lon": [
            -118.24
           ],
           "marker": {
            "color": "#EF553B",
            "size": [
             69.8
            ],
            "sizemode": "area",
            "sizeref": 0.23675000000000002,
            "symbol": "circle"
           },
           "mode": "markers",
           "name": "California",
           "showlegend": true,
           "type": "scattergeo"
          },
          {
           "geo": "geo",
           "hovertemplate": "<b>%{hovertext}</b><br><br>region=Ontario<br>time=2023-12-02 15:00<br>temp_f=%{marker.size}<br>lat=%{lat}<br>lon=%{lon}<extra></extra>",
           "hovertext": [
            "Canada"
           ],
           "lat": [
            43.65
           ],
           "legendgroup": "Ontario",
           "lon": [
            -79.38
           ],
           "marker": {
            "color": "#00cc96",
            "size": [
             40.3
            ],
            "sizemode": "area",
            "sizeref": 0.23675000000000002,
            "symbol": "circle"
           },
           "mode": "markers",
           "name": "Ontario",
           "showlegend": true,
           "type": "scattergeo"
          },
          {
           "geo": "geo",
           "hovertemplate": "<b>%{hovertext}</b><br><br>region=Sao Paulo<br>time=2023-12-02 15:00<br>temp_f=%{marker.size}<br>lat=%{lat}<br>lon=%{lon}<extra></extra>",
           "hovertext": [
            "Brazil"
           ],
           "lat": [
            -23.55
           ],
           "legendgroup": "Sao Paulo",
           "lon": [
            -46.63
           ],
           "marker": {
            "color": "#ab63fa",
            "size": [
             93.3
            ],
            "sizemode": "area",
            "sizeref": 0.23675000000000002,
            "symbol": "circle"
           },
           "mode": "markers",
           "name": "Sao Paulo",
           "showlegend": true,
           "type": "scattergeo"
          },
          {
           "geo": "geo",
           "hovertemplate": "<b>%{hovertext}</b><br><br>region=Buenos Aires<br>time=2023-12-02 15:00<br>temp_f=%{marker.size}<br>lat=%{lat}<br>lon=%{lon}<extra></extra>",
           "hovertext": [
            "Argentina"
           ],
           "lat": [
            -34.6
           ],
           "legendgroup": "Buenos Aires",
           "lon": [
            -58.38
           ],
           "marker": {
            "color": "#FFA15A",
            "size": [
             79.1
            ],
            "sizemode": "area",
            "sizeref": 0.23675000000000002,
            "symbol": "circle"
           },
           "mode": "markers",
           "name": "Buenos Aires",
           "showlegend": true,
           "type": "scattergeo"
          },
          {
           "geo": "geo",
           "hovertemplate": "<b>%{hovertext}</b><br><br>region=Cundinamarca<br>time=2023-12-02 15:00<br>temp_f=%{marker.size}<br>lat=%{lat}<br>lon=%{lon}<extra></extra>",
           "hovertext": [
            "Colombia"
           ],
           "lat": [
            4.71
           ],
           "legendgroup": "Cundinamarca",
           "lon": [
            -74.07
           ],
           "marker": {
            "color": "#19d3f3",
            "size": [
             68.1
            ],
            "sizemode": "area",
            "sizeref": 0.23675000000000002,
            "symbol": "circle"
           },
           "mode": "markers",
           "name": "Cundinamarca",
           "showlegend": true,
           "type": "scattergeo"
          },
          {
           "geo": "geo",
           "hovertemplate": "<b>%{hovertext}</b><br><br>region=City of London, Greater London<br>time=2023-12-02 15:00<br>temp_f=%{marker.size}<br>lat=%{lat}<br>lon=%{lon}<extra></extra>",
           "hovertext": [
            "United Kingdom"
           ],
           "lat": [
            51.51
           ],
           "legendgroup": "City of London, Greater London",
           "lon": [
            -0.13
           ],
           "marker": {
            "color": "#FF6692",
            "size": [
             37.6
            ],
            "sizemode": "area",
            "sizeref": 0.23675000000000002,
            "symbol": "circle"
           },
           "mode": "markers",
           "name": "City of London, Greater London",
           "showlegend": true,
           "type": "scattergeo"
          },
          {
           "geo": "geo",
           "hovertemplate": "<b>%{hovertext}</b><br><br>region=Ile-de-France<br>time=2023-12-02 15:00<br>temp_f=%{marker.size}<br>lat=%{lat}<br>lon=%{lon}<extra></extra>",
           "hovertext": [
            "France"
           ],
           "lat": [
            48.86
           ],
           "legendgroup": "Ile-de-France",
           "lon": [
            2.35
           ],
           "marker": {
            "color": "#B6E880",
            "size": [
             37.8
            ],
            "sizemode": "area",
            "sizeref": 0.23675000000000002,
            "symbol": "circle"
           },
           "mode": "markers",
           "name": "Ile-de-France",
           "showlegend": true,
           "type": "scattergeo"
          },
          {
           "geo": "geo",
           "hovertemplate": "<b>%{hovertext}</b><br><br>region=Berlin<br>time=2023-12-02 15:00<br>temp_f=%{marker.size}<br>lat=%{lat}<br>lon=%{lon}<extra></extra>",
           "hovertext": [
            "Germany"
           ],
           "lat": [
            52.52
           ],
           "legendgroup": "Berlin",
           "lon": [
            13.41
           ],
           "marker": {
            "color": "#FF97FF",
            "size": [
             26.9
            ],
            "sizemode": "area",
            "sizeref": 0.23675000000000002,
            "symbol": "circle"
           },
           "mode": "markers",
           "name": "Berlin",
           "showlegend": true,
           "type": "scattergeo"
          },
          {
           "geo": "geo",
           "hovertemplate": "<b>%{hovertext}</b><br><br>region=Tokyo<br>time=2023-12-02 15:00<br>temp_f=%{marker.size}<br>lat=%{lat}<br>lon=%{lon}<extra></extra>",
           "hovertext": [
            "Japan"
           ],
           "lat": [
            35.68
           ],
           "legendgroup": "Tokyo",
           "lon": [
            139.65
           ],
           "marker": {
            "color": "#FECB52",
            "size": [
             54.5
            ],
            "sizemode": "area",
            "sizeref": 0.23675000000000002,
            "symbol": "circle"
           },
           "mode": "markers",
           "name": "Tokyo",
           "showlegend": true,
           "type": "scattergeo"
          },
          {
           "geo": "geo",
           "hovertemplate": "<b>%{hovertext}</b><br><br>region=Beijing<br>time=2023-12-02 15:00<br>temp_f=%{marker.size}<br>lat=%{lat}<br>lon=%{lon}<extra></extra>",
           "hovertext": [
            "China"
           ],
           "lat": [
            39.9
           ],
           "legendgroup": "Beijing",
           "lon": [
            116.41
           ],
           "marker": {
            "color": "#636efa",
            "size": [
             44.2
            ],
            "sizemode": "area",
            "sizeref": 0.23675000000000002,
            "symbol": "circle"
           },
           "mode": "markers",
           "name": "Beijing",
           "showlegend": true,
           "type": "scattergeo"
          },
          {
           "geo": "geo",
           "hovertemplate": "<b>%{hovertext}</b><br><br>region=Maharashtra<br>time=2023-12-02 15:00<br>temp_f=%{marker.size}<br>lat=%{lat}<br>lon=%{lon}<extra></extra>",
           "hovertext": [
            "India"
           ],
           "lat": [
            19.08
           ],
           "legendgroup": "Maharashtra",
           "lon": [
            72.88
           ],
           "marker": {
            "color": "#EF553B",
            "size": [
             83.4
            ],
            "sizemode": "area",
            "sizeref": 0.23675000000000002,
            "symbol": "circle"
           },
           "mode": "markers",
           "name": "Maharashtra",
           "showlegend": true,
           "type": "scattergeo"
          },
          {
           "geo": "geo",
           "hovertemplate": "<b>%{hovertext}</b><br><br>region=Al Qahirah<br>time=2023-12-02 15:00<br>temp_f=%{marker.size}<br>lat=%{lat}<br>lon=%{lon}<extra></extra>",
           "hovertext": [
            "Egypt"
           ],
           "lat": [
            30.04
           ],
           "legendgroup": "Al Qahirah",
           "lon": [
            31.24
           ],
           "marker": {
            "color": "#00cc96",
            "size": [
             77.5
            ],
            "sizemode": "area",
            "sizeref": 0.23675000000000002,
            "symbol": "circle"
           },
           "mode": "markers",
           "name": "Al Qahirah",
           "showlegend": true,
           "type": "scattergeo"
          },
          {
           "geo": "geo",
           "hovertemplate": "<b>%{hovertext}</b><br><br>region=Lagos<br>time=2023-12-02 15:00<br>temp_f=%{marker.size}<br>lat=%{lat}<br>lon=%{lon}<extra></extra>",
           "hovertext": [
            "Nigeria"
           ],
           "lat": [
            6.52
           ],
           "legendgroup": "Lagos",
           "lon": [
            3.38
           ],
           "marker": {
            "color": "#ab63fa",
            "size": [
             85.3
            ],
            "sizemode": "area",
            "sizeref": 0.23675000000000002,
            "symbol": "circle"
           },
           "mode": "markers",
           "name": "Lagos",
           "showlegend": true,
           "type": "scattergeo"
          },
          {
           "geo": "geo",
           "hovertemplate": "<b>%{hovertext}</b><br><br>region=Gauteng<br>time=2023-12-02 15:00<br>temp_f=%{marker.size}<br>lat=%{lat}<br>lon=%{lon}<extra></extra>",
           "hovertext": [
            "South Africa"
           ],
           "lat": [
            -26.2
           ],
           "legendgroup": "Gauteng",
           "lon": [
            28.05
           ],
           "marker": {
            "color": "#FFA15A",
            "size": [
             90.5
            ],
            "sizemode": "area",
            "sizeref": 0.23675000000000002,
            "symbol": "circle"
           },
           "mode": "markers",
           "name": "Gauteng",
           "showlegend": true,
           "type": "scattergeo"
          },
          {
           "geo": "geo",
           "hovertemplate": "<b>%{hovertext}</b><br><br>region=New South Wales<br>time=2023-12-02 15:00<br>temp_f=%{marker.size}<br>lat=%{lat}<br>lon=%{lon}<extra></extra>",
           "hovertext": [
            "Australia"
           ],
           "lat": [
            -33.87
           ],
           "legendgroup": "New South Wales",
           "lon": [
            151.21
           ],
           "marker": {
            "color": "#19d3f3",
            "size": [
             67.7
            ],
            "sizemode": "area",
            "sizeref": 0.23675000000000002,
            "symbol": "circle"
           },
           "mode": "markers",
           "name": "New South Wales",
           "showlegend": true,
           "type": "scattergeo"
          },
          {
           "geo": "geo",
           "hovertemplate": "<b>%{hovertext}</b><br><br>region=Victoria<br>time=2023-12-02 15:00<br>temp_f=%{marker.size}<br>lat=%{lat}<br>lon=%{lon}<extra></extra>",
           "hovertext": [
            "Australia"
           ],
           "lat": [
            -37.81
           ],
           "legendgroup": "Victoria",
           "lon": [
            144.96
           ],
           "marker": {
            "color": "#FF6692",
            "size": [
             57.9
            ],
            "sizemode": "area",
            "sizeref": 0.23675000000000002,
            "symbol": "circle"
           },
           "mode": "markers",
           "name": "Victoria",
           "showlegend": true,
           "type": "scattergeo"
          },
          {
           "geo": "geo",
           "hovertemplate": "<b>%{hovertext}</b><br><br>region=Queensland<br>time=2023-12-02 15:00<br>temp_f=%{marker.size}<br>lat=%{lat}<br>lon=%{lon}<extra></extra>",
           "hovertext": [
            "Australia"
           ],
           "lat": [
            -27.47
           ],
           "legendgroup": "Queensland",
           "lon": [
            153.03
           ],
           "marker": {
            "color": "#B6E880",
            "size": [
             88.7
            ],
            "sizemode": "area",
            "sizeref": 0.23675000000000002,
            "symbol": "circle"
           },
           "mode": "markers",
           "name": "Queensland",
           "showlegend": true,
           "type": "scattergeo"
          }
         ],
         "name": "2023-12-02 15:00"
        },
        {
         "data": [
          {
           "geo": "geo",
           "hovertemplate": "<b>%{hovertext}</b><br><br>region=New York<br>time=2023-12-02 16:00<br>temp_f=%{marker.size}<br>lat=%{lat}<br>lon=%{lon}<extra></extra>",
           "hovertext": [
            "United States of America"
           ],
           "lat": [
            40.71
           ],
           "legendgroup": "New York",
           "lon": [
            -74.01
           ],
           "marker": {
            "color": "#636efa",
            "size": [
             48
            ],
            "sizemode": "area",
            "sizeref": 0.23675000000000002,
            "symbol": "circle"
           },
           "mode": "markers",
           "name": "New York",
           "showlegend": true,
           "type": "scattergeo"
          },
          {
           "geo": "geo",
           "hovertemplate": "<b>%{hovertext}</b><br><br>region=California<br>time=2023-12-02 16:00<br>temp_f=%{marker.size}<br>lat=%{lat}<br>lon=%{lon}<extra></extra>",
           "hovertext": [
            "United States of America"
           ],
           "lat": [
            34.05
           ],
           "legendgroup": "California",
           "lon": [
            -118.24
           ],
           "marker": {
            "color": "#EF553B",
            "size": [
             69.4
            ],
            "sizemode": "area",
            "sizeref": 0.23675000000000002,
            "symbol": "circle"
           },
           "mode": "markers",
           "name": "California",
           "showlegend": true,
           "type": "scattergeo"
          },
          {
           "geo": "geo",
           "hovertemplate": "<b>%{hovertext}</b><br><br>region=Ontario<br>time=2023-12-02 16:00<br>temp_f=%{marker.size}<br>lat=%{lat}<br>lon=%{lon}<extra></extra>",
           "hovertext": [
            "Canada"
           ],
           "lat": [
            43.65
           ],
           "legendgroup": "Ontario",
           "lon": [
            -79.38
           ],
           "marker": {
            "color": "#00cc96",
            "size": [
             39.9
            ],
            "sizemode": "area",
            "sizeref": 0.23675000000000002,
            "symbol": "circle"
           },
           "mode": "markers",
           "name": "Ontario",
           "showlegend": true,
           "type": "scattergeo"
          },
          {
           "geo": "geo",
           "hovertemplate": "<b>%{hovertext}</b><br><br>region=Sao Paulo<br>time=2023-12-02 16:00<br>temp_f=%{marker.size}<br>lat=%{lat}<br>lon=%{lon}<extra></extra>",
           "hovertext": [
            "Brazil"
           ],
           "lat": [
            -23.55
           ],
           "legendgroup": "Sao Paulo",
           "lon": [
            -46.63
           ],
           "marker": {
            "color": "#ab63fa",
            "size": [
             89.2
            ],
            "sizemode": "area",
            "sizeref": 0.23675000000000002,
            "symbol": "circle"
           },
           "mode": "markers",
           "name": "Sao Paulo",
           "showlegend": true,
           "type": "scattergeo"
          },
          {
           "geo": "geo",
           "hovertemplate": "<b>%{hovertext}</b><br><br>region=Buenos Aires<br>time=2023-12-02 16:00<br>temp_f=%{marker.size}<br>lat=%{lat}<br>lon=%{lon}<extra></extra>",
           "hovertext": [
            "Argentina"
           ],
           "lat": [
            -34.6
           ],
           "legendgroup": "Buenos Aires",
           "lon": [
            -58.38
           ],
           "marker": {
            "color": "#FFA15A",
            "size": [
             79.8
            ],
            "sizemode": "area",
            "sizeref": 0.23675000000000002,
            "symbol": "circle"
           },
           "mode": "markers",
           "name": "Buenos Aires",
           "showlegend": true,
           "type": "scattergeo"
          },
          {
           "geo": "geo",
           "hovertemplate": "<b>%{hovertext}</b><br><br>region=Cundinamarca<br>time=2023-12-02 16:00<br>temp_f=%{marker.size}<br>lat=%{lat}<br>lon=%{lon}<extra></extra>",
           "hovertext": [
            "Colombia"
           ],
           "lat": [
            4.71
           ],
           "legendgroup": "Cundinamarca",
           "lon": [
            -74.07
           ],
           "marker": {
            "color": "#19d3f3",
            "size": [
             65.5
            ],
            "sizemode": "area",
            "sizeref": 0.23675000000000002,
            "symbol": "circle"
           },
           "mode": "markers",
           "name": "Cundinamarca",
           "showlegend": true,
           "type": "scattergeo"
          },
          {
           "geo": "geo",
           "hovertemplate": "<b>%{hovertext}</b><br><br>region=City of London, Greater London<br>time=2023-12-02 16:00<br>temp_f=%{marker.size}<br>lat=%{lat}<br>lon=%{lon}<extra></extra>",
           "hovertext": [
            "United Kingdom"
           ],
           "lat": [
            51.51
           ],
           "legendgroup": "City of London, Greater London",
           "lon": [
            -0.13
           ],
           "marker": {
            "color": "#FF6692",
            "size": [
             36
            ],
            "sizemode": "area",
            "sizeref": 0.23675000000000002,
            "symbol": "circle"
           },
           "mode": "markers",
           "name": "City of London, Greater London",
           "showlegend": true,
           "type": "scattergeo"
          },
          {
           "geo": "geo",
           "hovertemplate": "<b>%{hovertext}</b><br><br>region=Ile-de-France<br>time=2023-12-02 16:00<br>temp_f=%{marker.size}<br>lat=%{lat}<br>lon=%{lon}<extra></extra>",
           "hovertext": [
            "France"
           ],
           "lat": [
            48.86
           ],
           "legendgroup": "Ile-de-France",
           "lon": [
            2.35
           ],
           "marker": {
            "color": "#B6E880",
            "size": [
             37.6
            ],
            "sizemode": "area",
            "sizeref": 0.23675000000000002,
            "symbol": "circle"
           },
           "mode": "markers",
           "name": "Ile-de-France",
           "showlegend": true,
           "type": "scattergeo"
          },
          {
           "geo": "geo",
           "hovertemplate": "<b>%{hovertext}</b><br><br>region=Berlin<br>time=2023-12-02 16:00<br>temp_f=%{marker.size}<br>lat=%{lat}<br>lon=%{lon}<extra></extra>",
           "hovertext": [
            "Germany"
           ],
           "lat": [
            52.52
           ],
           "legendgroup": "Berlin",
           "lon": [
            13.41
           ],
           "marker": {
            "color": "#FF97FF",
            "size": [
             26.8
            ],
            "sizemode": "area",
            "sizeref": 0.23675000000000002,
            "symbol": "circle"
           },
           "mode": "markers",
           "name": "Berlin",
           "showlegend": true,
           "type": "scattergeo"
          },
          {
           "geo": "geo",
           "hovertemplate": "<b>%{hovertext}</b><br><br>region=Tokyo<br>time=2023-12-02 16:00<br>temp_f=%{marker.size}<br>lat=%{lat}<br>lon=%{lon}<extra></extra>",
           "hovertext": [
            "Japan"
           ],
           "lat": [
            35.68
           ],
           "legendgroup": "Tokyo",
           "lon": [
            139.65
           ],
           "marker": {
            "color": "#FECB52",
            "size": [
             54.2
            ],
            "sizemode": "area",
            "sizeref": 0.23675000000000002,
            "symbol": "circle"
           },
           "mode": "markers",
           "name": "Tokyo",
           "showlegend": true,
           "type": "scattergeo"
          },
          {
           "geo": "geo",
           "hovertemplate": "<b>%{hovertext}</b><br><br>region=Beijing<br>time=2023-12-02 16:00<br>temp_f=%{marker.size}<br>lat=%{lat}<br>lon=%{lon}<extra></extra>",
           "hovertext": [
            "China"
           ],
           "lat": [
            39.9
           ],
           "legendgroup": "Beijing",
           "lon": [
            116.41
           ],
           "marker": {
            "color": "#636efa",
            "size": [
             42.3
            ],
            "sizemode": "area",
            "sizeref": 0.23675000000000002,
            "symbol": "circle"
           },
           "mode": "markers",
           "name": "Beijing",
           "showlegend": true,
           "type": "scattergeo"
          },
          {
           "geo": "geo",
           "hovertemplate": "<b>%{hovertext}</b><br><br>region=Maharashtra<br>time=2023-12-02 16:00<br>temp_f=%{marker.size}<br>lat=%{lat}<br>lon=%{lon}<extra></extra>",
           "hovertext": [
            "India"
           ],
           "lat": [
            19.08
           ],
           "legendgroup": "Maharashtra",
           "lon": [
            72.88
           ],
           "marker": {
            "color": "#EF553B",
            "size": [
             82.9
            ],
            "sizemode": "area",
            "sizeref": 0.23675000000000002,
            "symbol": "circle"
           },
           "mode": "markers",
           "name": "Maharashtra",
           "showlegend": true,
           "type": "scattergeo"
          },
          {
           "geo": "geo",
           "hovertemplate": "<b>%{hovertext}</b><br><br>region=Al Qahirah<br>time=2023-12-02 16:00<br>temp_f=%{marker.size}<br>lat=%{lat}<br>lon=%{lon}<extra></extra>",
           "hovertext": [
            "Egypt"
           ],
           "lat": [
            30.04
           ],
           "legendgroup": "Al Qahirah",
           "lon": [
            31.24
           ],
           "marker": {
            "color": "#00cc96",
            "size": [
             76.2
            ],
            "sizemode": "area",
            "sizeref": 0.23675000000000002,
            "symbol": "circle"
           },
           "mode": "markers",
           "name": "Al Qahirah",
           "showlegend": true,
           "type": "scattergeo"
          },
          {
           "geo": "geo",
           "hovertemplate": "<b>%{hovertext}</b><br><br>region=Lagos<br>time=2023-12-02 16:00<br>temp_f=%{marker.size}<br>lat=%{lat}<br>lon=%{lon}<extra></extra>",
           "hovertext": [
            "Nigeria"
           ],
           "lat": [
            6.52
           ],
           "legendgroup": "Lagos",
           "lon": [
            3.38
           ],
           "marker": {
            "color": "#ab63fa",
            "size": [
             84.8
            ],
            "sizemode": "area",
            "sizeref": 0.23675000000000002,
            "symbol": "circle"
           },
           "mode": "markers",
           "name": "Lagos",
           "showlegend": true,
           "type": "scattergeo"
          },
          {
           "geo": "geo",
           "hovertemplate": "<b>%{hovertext}</b><br><br>region=Gauteng<br>time=2023-12-02 16:00<br>temp_f=%{marker.size}<br>lat=%{lat}<br>lon=%{lon}<extra></extra>",
           "hovertext": [
            "South Africa"
           ],
           "lat": [
            -26.2
           ],
           "legendgroup": "Gauteng",
           "lon": [
            28.05
           ],
           "marker": {
            "color": "#FFA15A",
            "size": [
             90.3
            ],
            "sizemode": "area",
            "sizeref": 0.23675000000000002,
            "symbol": "circle"
           },
           "mode": "markers",
           "name": "Gauteng",
           "showlegend": true,
           "type": "scattergeo"
          },
          {
           "geo": "geo",
           "hovertemplate": "<b>%{hovertext}</b><br><br>region=New South Wales<br>time=2023-12-02 16:00<br>temp_f=%{marker.size}<br>lat=%{lat}<br>lon=%{lon}<extra></extra>",
           "hovertext": [
            "Australia"
           ],
           "lat": [
            -33.87
           ],
           "legendgroup": "New South Wales",
           "lon": [
            151.21
           ],
           "marker": {
            "color": "#19d3f3",
            "size": [
             67.4
            ],
            "sizemode": "area",
            "sizeref": 0.23675000000000002,
            "symbol": "circle"
           },
           "mode": "markers",
           "name": "New South Wales",
           "showlegend": true,
           "type": "scattergeo"
          },
          {
           "geo": "geo",
           "hovertemplate": "<b>%{hovertext}</b><br><br>region=Victoria<br>time=2023-12-02 16:00<br>temp_f=%{marker.size}<br>lat=%{lat}<br>lon=%{lon}<extra></extra>",
           "hovertext": [
            "Australia"
           ],
           "lat": [
            -37.81
           ],
           "legendgroup": "Victoria",
           "lon": [
            144.96
           ],
           "marker": {
            "color": "#FF6692",
            "size": [
             57.6
            ],
            "sizemode": "area",
            "sizeref": 0.23675000000000002,
            "symbol": "circle"
           },
           "mode": "markers",
           "name": "Victoria",
           "showlegend": true,
           "type": "scattergeo"
          },
          {
           "geo": "geo",
           "hovertemplate": "<b>%{hovertext}</b><br><br>region=Queensland<br>time=2023-12-02 16:00<br>temp_f=%{marker.size}<br>lat=%{lat}<br>lon=%{lon}<extra></extra>",
           "hovertext": [
            "Australia"
           ],
           "lat": [
            -27.47
           ],
           "legendgroup": "Queensland",
           "lon": [
            153.03
           ],
           "marker": {
            "color": "#B6E880",
            "size": [
             87.8
            ],
            "sizemode": "area",
            "sizeref": 0.23675000000000002,
            "symbol": "circle"
           },
           "mode": "markers",
           "name": "Queensland",
           "showlegend": true,
           "type": "scattergeo"
          }
         ],
         "name": "2023-12-02 16:00"
        },
        {
         "data": [
          {
           "geo": "geo",
           "hovertemplate": "<b>%{hovertext}</b><br><br>region=New York<br>time=2023-12-02 17:00<br>temp_f=%{marker.size}<br>lat=%{lat}<br>lon=%{lon}<extra></extra>",
           "hovertext": [
            "United States of America"
           ],
           "lat": [
            40.71
           ],
           "legendgroup": "New York",
           "lon": [
            -74.01
           ],
           "marker": {
            "color": "#636efa",
            "size": [
             47.8
            ],
            "sizemode": "area",
            "sizeref": 0.23675000000000002,
            "symbol": "circle"
           },
           "mode": "markers",
           "name": "New York",
           "showlegend": true,
           "type": "scattergeo"
          },
          {
           "geo": "geo",
           "hovertemplate": "<b>%{hovertext}</b><br><br>region=California<br>time=2023-12-02 17:00<br>temp_f=%{marker.size}<br>lat=%{lat}<br>lon=%{lon}<extra></extra>",
           "hovertext": [
            "United States of America"
           ],
           "lat": [
            34.05
           ],
           "legendgroup": "California",
           "lon": [
            -118.24
           ],
           "marker": {
            "color": "#EF553B",
            "size": [
             65.7
            ],
            "sizemode": "area",
            "sizeref": 0.23675000000000002,
            "symbol": "circle"
           },
           "mode": "markers",
           "name": "California",
           "showlegend": true,
           "type": "scattergeo"
          },
          {
           "geo": "geo",
           "hovertemplate": "<b>%{hovertext}</b><br><br>region=Ontario<br>time=2023-12-02 17:00<br>temp_f=%{marker.size}<br>lat=%{lat}<br>lon=%{lon}<extra></extra>",
           "hovertext": [
            "Canada"
           ],
           "lat": [
            43.65
           ],
           "legendgroup": "Ontario",
           "lon": [
            -79.38
           ],
           "marker": {
            "color": "#00cc96",
            "size": [
             39.6
            ],
            "sizemode": "area",
            "sizeref": 0.23675000000000002,
            "symbol": "circle"
           },
           "mode": "markers",
           "name": "Ontario",
           "showlegend": true,
           "type": "scattergeo"
          },
          {
           "geo": "geo",
           "hovertemplate": "<b>%{hovertext}</b><br><br>region=Sao Paulo<br>time=2023-12-02 17:00<br>temp_f=%{marker.size}<br>lat=%{lat}<br>lon=%{lon}<extra></extra>",
           "hovertext": [
            "Brazil"
           ],
           "lat": [
            -23.55
           ],
           "legendgroup": "Sao Paulo",
           "lon": [
            -46.63
           ],
           "marker": {
            "color": "#ab63fa",
            "size": [
             86.4
            ],
            "sizemode": "area",
            "sizeref": 0.23675000000000002,
            "symbol": "circle"
           },
           "mode": "markers",
           "name": "Sao Paulo",
           "showlegend": true,
           "type": "scattergeo"
          },
          {
           "geo": "geo",
           "hovertemplate": "<b>%{hovertext}</b><br><br>region=Buenos Aires<br>time=2023-12-02 17:00<br>temp_f=%{marker.size}<br>lat=%{lat}<br>lon=%{lon}<extra></extra>",
           "hovertext": [
            "Argentina"
           ],
           "lat": [
            -34.6
           ],
           "legendgroup": "Buenos Aires",
           "lon": [
            -58.38
           ],
           "marker": {
            "color": "#FFA15A",
            "size": [
             79.9
            ],
            "sizemode": "area",
            "sizeref": 0.23675000000000002,
            "symbol": "circle"
           },
           "mode": "markers",
           "name": "Buenos Aires",
           "showlegend": true,
           "type": "scattergeo"
          },
          {
           "geo": "geo",
           "hovertemplate": "<b>%{hovertext}</b><br><br>region=Cundinamarca<br>time=2023-12-02 17:00<br>temp_f=%{marker.size}<br>lat=%{lat}<br>lon=%{lon}<extra></extra>",
           "hovertext": [
            "Colombia"
           ],
           "lat": [
            4.71
           ],
           "legendgroup": "Cundinamarca",
           "lon": [
            -74.07
           ],
           "marker": {
            "color": "#19d3f3",
            "size": [
             61
            ],
            "sizemode": "area",
            "sizeref": 0.23675000000000002,
            "symbol": "circle"
           },
           "mode": "markers",
           "name": "Cundinamarca",
           "showlegend": true,
           "type": "scattergeo"
          },
          {
           "geo": "geo",
           "hovertemplate": "<b>%{hovertext}</b><br><br>region=City of London, Greater London<br>time=2023-12-02 17:00<br>temp_f=%{marker.size}<br>lat=%{lat}<br>lon=%{lon}<extra></extra>",
           "hovertext": [
            "United Kingdom"
           ],
           "lat": [
            51.51
           ],
           "legendgroup": "City of London, Greater London",
           "lon": [
            -0.13
           ],
           "marker": {
            "color": "#FF6692",
            "size": [
             35.3
            ],
            "sizemode": "area",
            "sizeref": 0.23675000000000002,
            "symbol": "circle"
           },
           "mode": "markers",
           "name": "City of London, Greater London",
           "showlegend": true,
           "type": "scattergeo"
          },
          {
           "geo": "geo",
           "hovertemplate": "<b>%{hovertext}</b><br><br>region=Ile-de-France<br>time=2023-12-02 17:00<br>temp_f=%{marker.size}<br>lat=%{lat}<br>lon=%{lon}<extra></extra>",
           "hovertext": [
            "France"
           ],
           "lat": [
            48.86
           ],
           "legendgroup": "Ile-de-France",
           "lon": [
            2.35
           ],
           "marker": {
            "color": "#B6E880",
            "size": [
             35.5
            ],
            "sizemode": "area",
            "sizeref": 0.23675000000000002,
            "symbol": "circle"
           },
           "mode": "markers",
           "name": "Ile-de-France",
           "showlegend": true,
           "type": "scattergeo"
          },
          {
           "geo": "geo",
           "hovertemplate": "<b>%{hovertext}</b><br><br>region=Berlin<br>time=2023-12-02 17:00<br>temp_f=%{marker.size}<br>lat=%{lat}<br>lon=%{lon}<extra></extra>",
           "hovertext": [
            "Germany"
           ],
           "lat": [
            52.52
           ],
           "legendgroup": "Berlin",
           "lon": [
            13.41
           ],
           "marker": {
            "color": "#FF97FF",
            "size": [
             27.5
            ],
            "sizemode": "area",
            "sizeref": 0.23675000000000002,
            "symbol": "circle"
           },
           "mode": "markers",
           "name": "Berlin",
           "showlegend": true,
           "type": "scattergeo"
          },
          {
           "geo": "geo",
           "hovertemplate": "<b>%{hovertext}</b><br><br>region=Tokyo<br>time=2023-12-02 17:00<br>temp_f=%{marker.size}<br>lat=%{lat}<br>lon=%{lon}<extra></extra>",
           "hovertext": [
            "Japan"
           ],
           "lat": [
            35.68
           ],
           "legendgroup": "Tokyo",
           "lon": [
            139.65
           ],
           "marker": {
            "color": "#FECB52",
            "size": [
             53.9
            ],
            "sizemode": "area",
            "sizeref": 0.23675000000000002,
            "symbol": "circle"
           },
           "mode": "markers",
           "name": "Tokyo",
           "showlegend": true,
           "type": "scattergeo"
          },
          {
           "geo": "geo",
           "hovertemplate": "<b>%{hovertext}</b><br><br>region=Beijing<br>time=2023-12-02 17:00<br>temp_f=%{marker.size}<br>lat=%{lat}<br>lon=%{lon}<extra></extra>",
           "hovertext": [
            "China"
           ],
           "lat": [
            39.9
           ],
           "legendgroup": "Beijing",
           "lon": [
            116.41
           ],
           "marker": {
            "color": "#636efa",
            "size": [
             39.6
            ],
            "sizemode": "area",
            "sizeref": 0.23675000000000002,
            "symbol": "circle"
           },
           "mode": "markers",
           "name": "Beijing",
           "showlegend": true,
           "type": "scattergeo"
          },
          {
           "geo": "geo",
           "hovertemplate": "<b>%{hovertext}</b><br><br>region=Maharashtra<br>time=2023-12-02 17:00<br>temp_f=%{marker.size}<br>lat=%{lat}<br>lon=%{lon}<extra></extra>",
           "hovertext": [
            "India"
           ],
           "lat": [
            19.08
           ],
           "legendgroup": "Maharashtra",
           "lon": [
            72.88
           ],
           "marker": {
            "color": "#EF553B",
            "size": [
             82.3
            ],
            "sizemode": "area",
            "sizeref": 0.23675000000000002,
            "symbol": "circle"
           },
           "mode": "markers",
           "name": "Maharashtra",
           "showlegend": true,
           "type": "scattergeo"
          },
          {
           "geo": "geo",
           "hovertemplate": "<b>%{hovertext}</b><br><br>region=Al Qahirah<br>time=2023-12-02 17:00<br>temp_f=%{marker.size}<br>lat=%{lat}<br>lon=%{lon}<extra></extra>",
           "hovertext": [
            "Egypt"
           ],
           "lat": [
            30.04
           ],
           "legendgroup": "Al Qahirah",
           "lon": [
            31.24
           ],
           "marker": {
            "color": "#00cc96",
            "size": [
             73.2
            ],
            "sizemode": "area",
            "sizeref": 0.23675000000000002,
            "symbol": "circle"
           },
           "mode": "markers",
           "name": "Al Qahirah",
           "showlegend": true,
           "type": "scattergeo"
          },
          {
           "geo": "geo",
           "hovertemplate": "<b>%{hovertext}</b><br><br>region=Lagos<br>time=2023-12-02 17:00<br>temp_f=%{marker.size}<br>lat=%{lat}<br>lon=%{lon}<extra></extra>",
           "hovertext": [
            "Nigeria"
           ],
           "lat": [
            6.52
           ],
           "legendgroup": "Lagos",
           "lon": [
            3.38
           ],
           "marker": {
            "color": "#ab63fa",
            "size": [
             83.8
            ],
            "sizemode": "area",
            "sizeref": 0.23675000000000002,
            "symbol": "circle"
           },
           "mode": "markers",
           "name": "Lagos",
           "showlegend": true,
           "type": "scattergeo"
          },
          {
           "geo": "geo",
           "hovertemplate": "<b>%{hovertext}</b><br><br>region=Gauteng<br>time=2023-12-02 17:00<br>temp_f=%{marker.size}<br>lat=%{lat}<br>lon=%{lon}<extra></extra>",
           "hovertext": [
            "South Africa"
           ],
           "lat": [
            -26.2
           ],
           "legendgroup": "Gauteng",
           "lon": [
            28.05
           ],
           "marker": {
            "color": "#FFA15A",
            "size": [
             89.4
            ],
            "sizemode": "area",
            "sizeref": 0.23675000000000002,
            "symbol": "circle"
           },
           "mode": "markers",
           "name": "Gauteng",
           "showlegend": true,
           "type": "scattergeo"
          },
          {
           "geo": "geo",
           "hovertemplate": "<b>%{hovertext}</b><br><br>region=New South Wales<br>time=2023-12-02 17:00<br>temp_f=%{marker.size}<br>lat=%{lat}<br>lon=%{lon}<extra></extra>",
           "hovertext": [
            "Australia"
           ],
           "lat": [
            -33.87
           ],
           "legendgroup": "New South Wales",
           "lon": [
            151.21
           ],
           "marker": {
            "color": "#19d3f3",
            "size": [
             67
            ],
            "sizemode": "area",
            "sizeref": 0.23675000000000002,
            "symbol": "circle"
           },
           "mode": "markers",
           "name": "New South Wales",
           "showlegend": true,
           "type": "scattergeo"
          },
          {
           "geo": "geo",
           "hovertemplate": "<b>%{hovertext}</b><br><br>region=Victoria<br>time=2023-12-02 17:00<br>temp_f=%{marker.size}<br>lat=%{lat}<br>lon=%{lon}<extra></extra>",
           "hovertext": [
            "Australia"
           ],
           "lat": [
            -37.81
           ],
           "legendgroup": "Victoria",
           "lon": [
            144.96
           ],
           "marker": {
            "color": "#FF6692",
            "size": [
             57.5
            ],
            "sizemode": "area",
            "sizeref": 0.23675000000000002,
            "symbol": "circle"
           },
           "mode": "markers",
           "name": "Victoria",
           "showlegend": true,
           "type": "scattergeo"
          },
          {
           "geo": "geo",
           "hovertemplate": "<b>%{hovertext}</b><br><br>region=Queensland<br>time=2023-12-02 17:00<br>temp_f=%{marker.size}<br>lat=%{lat}<br>lon=%{lon}<extra></extra>",
           "hovertext": [
            "Australia"
           ],
           "lat": [
            -27.47
           ],
           "legendgroup": "Queensland",
           "lon": [
            153.03
           ],
           "marker": {
            "color": "#B6E880",
            "size": [
             87.7
            ],
            "sizemode": "area",
            "sizeref": 0.23675000000000002,
            "symbol": "circle"
           },
           "mode": "markers",
           "name": "Queensland",
           "showlegend": true,
           "type": "scattergeo"
          }
         ],
         "name": "2023-12-02 17:00"
        },
        {
         "data": [
          {
           "geo": "geo",
           "hovertemplate": "<b>%{hovertext}</b><br><br>region=New York<br>time=2023-12-02 18:00<br>temp_f=%{marker.size}<br>lat=%{lat}<br>lon=%{lon}<extra></extra>",
           "hovertext": [
            "United States of America"
           ],
           "lat": [
            40.71
           ],
           "legendgroup": "New York",
           "lon": [
            -74.01
           ],
           "marker": {
            "color": "#636efa",
            "size": [
             47.5
            ],
            "sizemode": "area",
            "sizeref": 0.23675000000000002,
            "symbol": "circle"
           },
           "mode": "markers",
           "name": "New York",
           "showlegend": true,
           "type": "scattergeo"
          },
          {
           "geo": "geo",
           "hovertemplate": "<b>%{hovertext}</b><br><br>region=California<br>time=2023-12-02 18:00<br>temp_f=%{marker.size}<br>lat=%{lat}<br>lon=%{lon}<extra></extra>",
           "hovertext": [
            "United States of America"
           ],
           "lat": [
            34.05
           ],
           "legendgroup": "California",
           "lon": [
            -118.24
           ],
           "marker": {
            "color": "#EF553B",
            "size": [
             63.4
            ],
            "sizemode": "area",
            "sizeref": 0.23675000000000002,
            "symbol": "circle"
           },
           "mode": "markers",
           "name": "California",
           "showlegend": true,
           "type": "scattergeo"
          },
          {
           "geo": "geo",
           "hovertemplate": "<b>%{hovertext}</b><br><br>region=Ontario<br>time=2023-12-02 18:00<br>temp_f=%{marker.size}<br>lat=%{lat}<br>lon=%{lon}<extra></extra>",
           "hovertext": [
            "Canada"
           ],
           "lat": [
            43.65
           ],
           "legendgroup": "Ontario",
           "lon": [
            -79.38
           ],
           "marker": {
            "color": "#00cc96",
            "size": [
             39.2
            ],
            "sizemode": "area",
            "sizeref": 0.23675000000000002,
            "symbol": "circle"
           },
           "mode": "markers",
           "name": "Ontario",
           "showlegend": true,
           "type": "scattergeo"
          },
          {
           "geo": "geo",
           "hovertemplate": "<b>%{hovertext}</b><br><br>region=Sao Paulo<br>time=2023-12-02 18:00<br>temp_f=%{marker.size}<br>lat=%{lat}<br>lon=%{lon}<extra></extra>",
           "hovertext": [
            "Brazil"
           ],
           "lat": [
            -23.55
           ],
           "legendgroup": "Sao Paulo",
           "lon": [
            -46.63
           ],
           "marker": {
            "color": "#ab63fa",
            "size": [
             82.7
            ],
            "sizemode": "area",
            "sizeref": 0.23675000000000002,
            "symbol": "circle"
           },
           "mode": "markers",
           "name": "Sao Paulo",
           "showlegend": true,
           "type": "scattergeo"
          },
          {
           "geo": "geo",
           "hovertemplate": "<b>%{hovertext}</b><br><br>region=Buenos Aires<br>time=2023-12-02 18:00<br>temp_f=%{marker.size}<br>lat=%{lat}<br>lon=%{lon}<extra></extra>",
           "hovertext": [
            "Argentina"
           ],
           "lat": [
            -34.6
           ],
           "legendgroup": "Buenos Aires",
           "lon": [
            -58.38
           ],
           "marker": {
            "color": "#FFA15A",
            "size": [
             79.2
            ],
            "sizemode": "area",
            "sizeref": 0.23675000000000002,
            "symbol": "circle"
           },
           "mode": "markers",
           "name": "Buenos Aires",
           "showlegend": true,
           "type": "scattergeo"
          },
          {
           "geo": "geo",
           "hovertemplate": "<b>%{hovertext}</b><br><br>region=Cundinamarca<br>time=2023-12-02 18:00<br>temp_f=%{marker.size}<br>lat=%{lat}<br>lon=%{lon}<extra></extra>",
           "hovertext": [
            "Colombia"
           ],
           "lat": [
            4.71
           ],
           "legendgroup": "Cundinamarca",
           "lon": [
            -74.07
           ],
           "marker": {
            "color": "#19d3f3",
            "size": [
             52.8
            ],
            "sizemode": "area",
            "sizeref": 0.23675000000000002,
            "symbol": "circle"
           },
           "mode": "markers",
           "name": "Cundinamarca",
           "showlegend": true,
           "type": "scattergeo"
          },
          {
           "geo": "geo",
           "hovertemplate": "<b>%{hovertext}</b><br><br>region=City of London, Greater London<br>time=2023-12-02 18:00<br>temp_f=%{marker.size}<br>lat=%{lat}<br>lon=%{lon}<extra></extra>",
           "hovertext": [
            "United Kingdom"
           ],
           "lat": [
            51.51
           ],
           "legendgroup": "City of London, Greater London",
           "lon": [
            -0.13
           ],
           "marker": {
            "color": "#FF6692",
            "size": [
             34.8
            ],
            "sizemode": "area",
            "sizeref": 0.23675000000000002,
            "symbol": "circle"
           },
           "mode": "markers",
           "name": "City of London, Greater London",
           "showlegend": true,
           "type": "scattergeo"
          },
          {
           "geo": "geo",
           "hovertemplate": "<b>%{hovertext}</b><br><br>region=Ile-de-France<br>time=2023-12-02 18:00<br>temp_f=%{marker.size}<br>lat=%{lat}<br>lon=%{lon}<extra></extra>",
           "hovertext": [
            "France"
           ],
           "lat": [
            48.86
           ],
           "legendgroup": "Ile-de-France",
           "lon": [
            2.35
           ],
           "marker": {
            "color": "#B6E880",
            "size": [
             34.8
            ],
            "sizemode": "area",
            "sizeref": 0.23675000000000002,
            "symbol": "circle"
           },
           "mode": "markers",
           "name": "Ile-de-France",
           "showlegend": true,
           "type": "scattergeo"
          },
          {
           "geo": "geo",
           "hovertemplate": "<b>%{hovertext}</b><br><br>region=Berlin<br>time=2023-12-02 18:00<br>temp_f=%{marker.size}<br>lat=%{lat}<br>lon=%{lon}<extra></extra>",
           "hovertext": [
            "Germany"
           ],
           "lat": [
            52.52
           ],
           "legendgroup": "Berlin",
           "lon": [
            13.41
           ],
           "marker": {
            "color": "#FF97FF",
            "size": [
             28.1
            ],
            "sizemode": "area",
            "sizeref": 0.23675000000000002,
            "symbol": "circle"
           },
           "mode": "markers",
           "name": "Berlin",
           "showlegend": true,
           "type": "scattergeo"
          },
          {
           "geo": "geo",
           "hovertemplate": "<b>%{hovertext}</b><br><br>region=Tokyo<br>time=2023-12-02 18:00<br>temp_f=%{marker.size}<br>lat=%{lat}<br>lon=%{lon}<extra></extra>",
           "hovertext": [
            "Japan"
           ],
           "lat": [
            35.68
           ],
           "legendgroup": "Tokyo",
           "lon": [
            139.65
           ],
           "marker": {
            "color": "#FECB52",
            "size": [
             53.7
            ],
            "sizemode": "area",
            "sizeref": 0.23675000000000002,
            "symbol": "circle"
           },
           "mode": "markers",
           "name": "Tokyo",
           "showlegend": true,
           "type": "scattergeo"
          },
          {
           "geo": "geo",
           "hovertemplate": "<b>%{hovertext}</b><br><br>region=Beijing<br>time=2023-12-02 18:00<br>temp_f=%{marker.size}<br>lat=%{lat}<br>lon=%{lon}<extra></extra>",
           "hovertext": [
            "China"
           ],
           "lat": [
            39.9
           ],
           "legendgroup": "Beijing",
           "lon": [
            116.41
           ],
           "marker": {
            "color": "#636efa",
            "size": [
             38.1
            ],
            "sizemode": "area",
            "sizeref": 0.23675000000000002,
            "symbol": "circle"
           },
           "mode": "markers",
           "name": "Beijing",
           "showlegend": true,
           "type": "scattergeo"
          },
          {
           "geo": "geo",
           "hovertemplate": "<b>%{hovertext}</b><br><br>region=Maharashtra<br>time=2023-12-02 18:00<br>temp_f=%{marker.size}<br>lat=%{lat}<br>lon=%{lon}<extra></extra>",
           "hovertext": [
            "India"
           ],
           "lat": [
            19.08
           ],
           "legendgroup": "Maharashtra",
           "lon": [
            72.88
           ],
           "marker": {
            "color": "#EF553B",
            "size": [
             82.1
            ],
            "sizemode": "area",
            "sizeref": 0.23675000000000002,
            "symbol": "circle"
           },
           "mode": "markers",
           "name": "Maharashtra",
           "showlegend": true,
           "type": "scattergeo"
          },
          {
           "geo": "geo",
           "hovertemplate": "<b>%{hovertext}</b><br><br>region=Al Qahirah<br>time=2023-12-02 18:00<br>temp_f=%{marker.size}<br>lat=%{lat}<br>lon=%{lon}<extra></extra>",
           "hovertext": [
            "Egypt"
           ],
           "lat": [
            30.04
           ],
           "legendgroup": "Al Qahirah",
           "lon": [
            31.24
           ],
           "marker": {
            "color": "#00cc96",
            "size": [
             70.5
            ],
            "sizemode": "area",
            "sizeref": 0.23675000000000002,
            "symbol": "circle"
           },
           "mode": "markers",
           "name": "Al Qahirah",
           "showlegend": true,
           "type": "scattergeo"
          },
          {
           "geo": "geo",
           "hovertemplate": "<b>%{hovertext}</b><br><br>region=Lagos<br>time=2023-12-02 18:00<br>temp_f=%{marker.size}<br>lat=%{lat}<br>lon=%{lon}<extra></extra>",
           "hovertext": [
            "Nigeria"
           ],
           "lat": [
            6.52
           ],
           "legendgroup": "Lagos",
           "lon": [
            3.38
           ],
           "marker": {
            "color": "#ab63fa",
            "size": [
             84
            ],
            "sizemode": "area",
            "sizeref": 0.23675000000000002,
            "symbol": "circle"
           },
           "mode": "markers",
           "name": "Lagos",
           "showlegend": true,
           "type": "scattergeo"
          },
          {
           "geo": "geo",
           "hovertemplate": "<b>%{hovertext}</b><br><br>region=Gauteng<br>time=2023-12-02 18:00<br>temp_f=%{marker.size}<br>lat=%{lat}<br>lon=%{lon}<extra></extra>",
           "hovertext": [
            "South Africa"
           ],
           "lat": [
            -26.2
           ],
           "legendgroup": "Gauteng",
           "lon": [
            28.05
           ],
           "marker": {
            "color": "#FFA15A",
            "size": [
             87.5
            ],
            "sizemode": "area",
            "sizeref": 0.23675000000000002,
            "symbol": "circle"
           },
           "mode": "markers",
           "name": "Gauteng",
           "showlegend": true,
           "type": "scattergeo"
          },
          {
           "geo": "geo",
           "hovertemplate": "<b>%{hovertext}</b><br><br>region=New South Wales<br>time=2023-12-02 18:00<br>temp_f=%{marker.size}<br>lat=%{lat}<br>lon=%{lon}<extra></extra>",
           "hovertext": [
            "Australia"
           ],
           "lat": [
            -33.87
           ],
           "legendgroup": "New South Wales",
           "lon": [
            151.21
           ],
           "marker": {
            "color": "#19d3f3",
            "size": [
             67.6
            ],
            "sizemode": "area",
            "sizeref": 0.23675000000000002,
            "symbol": "circle"
           },
           "mode": "markers",
           "name": "New South Wales",
           "showlegend": true,
           "type": "scattergeo"
          },
          {
           "geo": "geo",
           "hovertemplate": "<b>%{hovertext}</b><br><br>region=Victoria<br>time=2023-12-02 18:00<br>temp_f=%{marker.size}<br>lat=%{lat}<br>lon=%{lon}<extra></extra>",
           "hovertext": [
            "Australia"
           ],
           "lat": [
            -37.81
           ],
           "legendgroup": "Victoria",
           "lon": [
            144.96
           ],
           "marker": {
            "color": "#FF6692",
            "size": [
             57.6
            ],
            "sizemode": "area",
            "sizeref": 0.23675000000000002,
            "symbol": "circle"
           },
           "mode": "markers",
           "name": "Victoria",
           "showlegend": true,
           "type": "scattergeo"
          },
          {
           "geo": "geo",
           "hovertemplate": "<b>%{hovertext}</b><br><br>region=Queensland<br>time=2023-12-02 18:00<br>temp_f=%{marker.size}<br>lat=%{lat}<br>lon=%{lon}<extra></extra>",
           "hovertext": [
            "Australia"
           ],
           "lat": [
            -27.47
           ],
           "legendgroup": "Queensland",
           "lon": [
            153.03
           ],
           "marker": {
            "color": "#B6E880",
            "size": [
             83.3
            ],
            "sizemode": "area",
            "sizeref": 0.23675000000000002,
            "symbol": "circle"
           },
           "mode": "markers",
           "name": "Queensland",
           "showlegend": true,
           "type": "scattergeo"
          }
         ],
         "name": "2023-12-02 18:00"
        },
        {
         "data": [
          {
           "geo": "geo",
           "hovertemplate": "<b>%{hovertext}</b><br><br>region=New York<br>time=2023-12-02 19:00<br>temp_f=%{marker.size}<br>lat=%{lat}<br>lon=%{lon}<extra></extra>",
           "hovertext": [
            "United States of America"
           ],
           "lat": [
            40.71
           ],
           "legendgroup": "New York",
           "lon": [
            -74.01
           ],
           "marker": {
            "color": "#636efa",
            "size": [
             47.3
            ],
            "sizemode": "area",
            "sizeref": 0.23675000000000002,
            "symbol": "circle"
           },
           "mode": "markers",
           "name": "New York",
           "showlegend": true,
           "type": "scattergeo"
          },
          {
           "geo": "geo",
           "hovertemplate": "<b>%{hovertext}</b><br><br>region=California<br>time=2023-12-02 19:00<br>temp_f=%{marker.size}<br>lat=%{lat}<br>lon=%{lon}<extra></extra>",
           "hovertext": [
            "United States of America"
           ],
           "lat": [
            34.05
           ],
           "legendgroup": "California",
           "lon": [
            -118.24
           ],
           "marker": {
            "color": "#EF553B",
            "size": [
             61.5
            ],
            "sizemode": "area",
            "sizeref": 0.23675000000000002,
            "symbol": "circle"
           },
           "mode": "markers",
           "name": "California",
           "showlegend": true,
           "type": "scattergeo"
          },
          {
           "geo": "geo",
           "hovertemplate": "<b>%{hovertext}</b><br><br>region=Ontario<br>time=2023-12-02 19:00<br>temp_f=%{marker.size}<br>lat=%{lat}<br>lon=%{lon}<extra></extra>",
           "hovertext": [
            "Canada"
           ],
           "lat": [
            43.65
           ],
           "legendgroup": "Ontario",
           "lon": [
            -79.38
           ],
           "marker": {
            "color": "#00cc96",
            "size": [
             38.7
            ],
            "sizemode": "area",
            "sizeref": 0.23675000000000002,
            "symbol": "circle"
           },
           "mode": "markers",
           "name": "Ontario",
           "showlegend": true,
           "type": "scattergeo"
          },
          {
           "geo": "geo",
           "hovertemplate": "<b>%{hovertext}</b><br><br>region=Sao Paulo<br>time=2023-12-02 19:00<br>temp_f=%{marker.size}<br>lat=%{lat}<br>lon=%{lon}<extra></extra>",
           "hovertext": [
            "Brazil"
           ],
           "lat": [
            -23.55
           ],
           "legendgroup": "Sao Paulo",
           "lon": [
            -46.63
           ],
           "marker": {
            "color": "#ab63fa",
            "size": [
             81
            ],
            "sizemode": "area",
            "sizeref": 0.23675000000000002,
            "symbol": "circle"
           },
           "mode": "markers",
           "name": "Sao Paulo",
           "showlegend": true,
           "type": "scattergeo"
          },
          {
           "geo": "geo",
           "hovertemplate": "<b>%{hovertext}</b><br><br>region=Buenos Aires<br>time=2023-12-02 19:00<br>temp_f=%{marker.size}<br>lat=%{lat}<br>lon=%{lon}<extra></extra>",
           "hovertext": [
            "Argentina"
           ],
           "lat": [
            -34.6
           ],
           "legendgroup": "Buenos Aires",
           "lon": [
            -58.38
           ],
           "marker": {
            "color": "#FFA15A",
            "size": [
             77.1
            ],
            "sizemode": "area",
            "sizeref": 0.23675000000000002,
            "symbol": "circle"
           },
           "mode": "markers",
           "name": "Buenos Aires",
           "showlegend": true,
           "type": "scattergeo"
          },
          {
           "geo": "geo",
           "hovertemplate": "<b>%{hovertext}</b><br><br>region=Cundinamarca<br>time=2023-12-02 19:00<br>temp_f=%{marker.size}<br>lat=%{lat}<br>lon=%{lon}<extra></extra>",
           "hovertext": [
            "Colombia"
           ],
           "lat": [
            4.71
           ],
           "legendgroup": "Cundinamarca",
           "lon": [
            -74.07
           ],
           "marker": {
            "color": "#19d3f3",
            "size": [
             51.1
            ],
            "sizemode": "area",
            "sizeref": 0.23675000000000002,
            "symbol": "circle"
           },
           "mode": "markers",
           "name": "Cundinamarca",
           "showlegend": true,
           "type": "scattergeo"
          },
          {
           "geo": "geo",
           "hovertemplate": "<b>%{hovertext}</b><br><br>region=City of London, Greater London<br>time=2023-12-02 19:00<br>temp_f=%{marker.size}<br>lat=%{lat}<br>lon=%{lon}<extra></extra>",
           "hovertext": [
            "United Kingdom"
           ],
           "lat": [
            51.51
           ],
           "legendgroup": "City of London, Greater London",
           "lon": [
            -0.13
           ],
           "marker": {
            "color": "#FF6692",
            "size": [
             34.3
            ],
            "sizemode": "area",
            "sizeref": 0.23675000000000002,
            "symbol": "circle"
           },
           "mode": "markers",
           "name": "City of London, Greater London",
           "showlegend": true,
           "type": "scattergeo"
          },
          {
           "geo": "geo",
           "hovertemplate": "<b>%{hovertext}</b><br><br>region=Ile-de-France<br>time=2023-12-02 19:00<br>temp_f=%{marker.size}<br>lat=%{lat}<br>lon=%{lon}<extra></extra>",
           "hovertext": [
            "France"
           ],
           "lat": [
            48.86
           ],
           "legendgroup": "Ile-de-France",
           "lon": [
            2.35
           ],
           "marker": {
            "color": "#B6E880",
            "size": [
             34.3
            ],
            "sizemode": "area",
            "sizeref": 0.23675000000000002,
            "symbol": "circle"
           },
           "mode": "markers",
           "name": "Ile-de-France",
           "showlegend": true,
           "type": "scattergeo"
          },
          {
           "geo": "geo",
           "hovertemplate": "<b>%{hovertext}</b><br><br>region=Berlin<br>time=2023-12-02 19:00<br>temp_f=%{marker.size}<br>lat=%{lat}<br>lon=%{lon}<extra></extra>",
           "hovertext": [
            "Germany"
           ],
           "lat": [
            52.52
           ],
           "legendgroup": "Berlin",
           "lon": [
            13.41
           ],
           "marker": {
            "color": "#FF97FF",
            "size": [
             28.4
            ],
            "sizemode": "area",
            "sizeref": 0.23675000000000002,
            "symbol": "circle"
           },
           "mode": "markers",
           "name": "Berlin",
           "showlegend": true,
           "type": "scattergeo"
          },
          {
           "geo": "geo",
           "hovertemplate": "<b>%{hovertext}</b><br><br>region=Tokyo<br>time=2023-12-02 19:00<br>temp_f=%{marker.size}<br>lat=%{lat}<br>lon=%{lon}<extra></extra>",
           "hovertext": [
            "Japan"
           ],
           "lat": [
            35.68
           ],
           "legendgroup": "Tokyo",
           "lon": [
            139.65
           ],
           "marker": {
            "color": "#FECB52",
            "size": [
             53.1
            ],
            "sizemode": "area",
            "sizeref": 0.23675000000000002,
            "symbol": "circle"
           },
           "mode": "markers",
           "name": "Tokyo",
           "showlegend": true,
           "type": "scattergeo"
          },
          {
           "geo": "geo",
           "hovertemplate": "<b>%{hovertext}</b><br><br>region=Beijing<br>time=2023-12-02 19:00<br>temp_f=%{marker.size}<br>lat=%{lat}<br>lon=%{lon}<extra></extra>",
           "hovertext": [
            "China"
           ],
           "lat": [
            39.9
           ],
           "legendgroup": "Beijing",
           "lon": [
            116.41
           ],
           "marker": {
            "color": "#636efa",
            "size": [
             37.1
            ],
            "sizemode": "area",
            "sizeref": 0.23675000000000002,
            "symbol": "circle"
           },
           "mode": "markers",
           "name": "Beijing",
           "showlegend": true,
           "type": "scattergeo"
          },
          {
           "geo": "geo",
           "hovertemplate": "<b>%{hovertext}</b><br><br>region=Maharashtra<br>time=2023-12-02 19:00<br>temp_f=%{marker.size}<br>lat=%{lat}<br>lon=%{lon}<extra></extra>",
           "hovertext": [
            "India"
           ],
           "lat": [
            19.08
           ],
           "legendgroup": "Maharashtra",
           "lon": [
            72.88
           ],
           "marker": {
            "color": "#EF553B",
            "size": [
             81.9
            ],
            "sizemode": "area",
            "sizeref": 0.23675000000000002,
            "symbol": "circle"
           },
           "mode": "markers",
           "name": "Maharashtra",
           "showlegend": true,
           "type": "scattergeo"
          },
          {
           "geo": "geo",
           "hovertemplate": "<b>%{hovertext}</b><br><br>region=Al Qahirah<br>time=2023-12-02 19:00<br>temp_f=%{marker.size}<br>lat=%{lat}<br>lon=%{lon}<extra></extra>",
           "hovertext": [
            "Egypt"
           ],
           "lat": [
            30.04
           ],
           "legendgroup": "Al Qahirah",
           "lon": [
            31.24
           ],
           "marker": {
            "color": "#00cc96",
            "size": [
             68.3
            ],
            "sizemode": "area",
            "sizeref": 0.23675000000000002,
            "symbol": "circle"
           },
           "mode": "markers",
           "name": "Al Qahirah",
           "showlegend": true,
           "type": "scattergeo"
          },
          {
           "geo": "geo",
           "hovertemplate": "<b>%{hovertext}</b><br><br>region=Lagos<br>time=2023-12-02 19:00<br>temp_f=%{marker.size}<br>lat=%{lat}<br>lon=%{lon}<extra></extra>",
           "hovertext": [
            "Nigeria"
           ],
           "lat": [
            6.52
           ],
           "legendgroup": "Lagos",
           "lon": [
            3.38
           ],
           "marker": {
            "color": "#ab63fa",
            "size": [
             83.6
            ],
            "sizemode": "area",
            "sizeref": 0.23675000000000002,
            "symbol": "circle"
           },
           "mode": "markers",
           "name": "Lagos",
           "showlegend": true,
           "type": "scattergeo"
          },
          {
           "geo": "geo",
           "hovertemplate": "<b>%{hovertext}</b><br><br>region=Gauteng<br>time=2023-12-02 19:00<br>temp_f=%{marker.size}<br>lat=%{lat}<br>lon=%{lon}<extra></extra>",
           "hovertext": [
            "South Africa"
           ],
           "lat": [
            -26.2
           ],
           "legendgroup": "Gauteng",
           "lon": [
            28.05
           ],
           "marker": {
            "color": "#FFA15A",
            "size": [
             83.9
            ],
            "sizemode": "area",
            "sizeref": 0.23675000000000002,
            "symbol": "circle"
           },
           "mode": "markers",
           "name": "Gauteng",
           "showlegend": true,
           "type": "scattergeo"
          },
          {
           "geo": "geo",
           "hovertemplate": "<b>%{hovertext}</b><br><br>region=New South Wales<br>time=2023-12-02 19:00<br>temp_f=%{marker.size}<br>lat=%{lat}<br>lon=%{lon}<extra></extra>",
           "hovertext": [
            "Australia"
           ],
           "lat": [
            -33.87
           ],
           "legendgroup": "New South Wales",
           "lon": [
            151.21
           ],
           "marker": {
            "color": "#19d3f3",
            "size": [
             67.5
            ],
            "sizemode": "area",
            "sizeref": 0.23675000000000002,
            "symbol": "circle"
           },
           "mode": "markers",
           "name": "New South Wales",
           "showlegend": true,
           "type": "scattergeo"
          },
          {
           "geo": "geo",
           "hovertemplate": "<b>%{hovertext}</b><br><br>region=Victoria<br>time=2023-12-02 19:00<br>temp_f=%{marker.size}<br>lat=%{lat}<br>lon=%{lon}<extra></extra>",
           "hovertext": [
            "Australia"
           ],
           "lat": [
            -37.81
           ],
           "legendgroup": "Victoria",
           "lon": [
            144.96
           ],
           "marker": {
            "color": "#FF6692",
            "size": [
             57.3
            ],
            "sizemode": "area",
            "sizeref": 0.23675000000000002,
            "symbol": "circle"
           },
           "mode": "markers",
           "name": "Victoria",
           "showlegend": true,
           "type": "scattergeo"
          },
          {
           "geo": "geo",
           "hovertemplate": "<b>%{hovertext}</b><br><br>region=Queensland<br>time=2023-12-02 19:00<br>temp_f=%{marker.size}<br>lat=%{lat}<br>lon=%{lon}<extra></extra>",
           "hovertext": [
            "Australia"
           ],
           "lat": [
            -27.47
           ],
           "legendgroup": "Queensland",
           "lon": [
            153.03
           ],
           "marker": {
            "color": "#B6E880",
            "size": [
             79.6
            ],
            "sizemode": "area",
            "sizeref": 0.23675000000000002,
            "symbol": "circle"
           },
           "mode": "markers",
           "name": "Queensland",
           "showlegend": true,
           "type": "scattergeo"
          }
         ],
         "name": "2023-12-02 19:00"
        },
        {
         "data": [
          {
           "geo": "geo",
           "hovertemplate": "<b>%{hovertext}</b><br><br>region=New York<br>time=2023-12-02 20:00<br>temp_f=%{marker.size}<br>lat=%{lat}<br>lon=%{lon}<extra></extra>",
           "hovertext": [
            "United States of America"
           ],
           "lat": [
            40.71
           ],
           "legendgroup": "New York",
           "lon": [
            -74.01
           ],
           "marker": {
            "color": "#636efa",
            "size": [
             46.2
            ],
            "sizemode": "area",
            "sizeref": 0.23675000000000002,
            "symbol": "circle"
           },
           "mode": "markers",
           "name": "New York",
           "showlegend": true,
           "type": "scattergeo"
          },
          {
           "geo": "geo",
           "hovertemplate": "<b>%{hovertext}</b><br><br>region=California<br>time=2023-12-02 20:00<br>temp_f=%{marker.size}<br>lat=%{lat}<br>lon=%{lon}<extra></extra>",
           "hovertext": [
            "United States of America"
           ],
           "lat": [
            34.05
           ],
           "legendgroup": "California",
           "lon": [
            -118.24
           ],
           "marker": {
            "color": "#EF553B",
            "size": [
             58.1
            ],
            "sizemode": "area",
            "sizeref": 0.23675000000000002,
            "symbol": "circle"
           },
           "mode": "markers",
           "name": "California",
           "showlegend": true,
           "type": "scattergeo"
          },
          {
           "geo": "geo",
           "hovertemplate": "<b>%{hovertext}</b><br><br>region=Ontario<br>time=2023-12-02 20:00<br>temp_f=%{marker.size}<br>lat=%{lat}<br>lon=%{lon}<extra></extra>",
           "hovertext": [
            "Canada"
           ],
           "lat": [
            43.65
           ],
           "legendgroup": "Ontario",
           "lon": [
            -79.38
           ],
           "marker": {
            "color": "#00cc96",
            "size": [
             37.6
            ],
            "sizemode": "area",
            "sizeref": 0.23675000000000002,
            "symbol": "circle"
           },
           "mode": "markers",
           "name": "Ontario",
           "showlegend": true,
           "type": "scattergeo"
          },
          {
           "geo": "geo",
           "hovertemplate": "<b>%{hovertext}</b><br><br>region=Sao Paulo<br>time=2023-12-02 20:00<br>temp_f=%{marker.size}<br>lat=%{lat}<br>lon=%{lon}<extra></extra>",
           "hovertext": [
            "Brazil"
           ],
           "lat": [
            -23.55
           ],
           "legendgroup": "Sao Paulo",
           "lon": [
            -46.63
           ],
           "marker": {
            "color": "#ab63fa",
            "size": [
             79.7
            ],
            "sizemode": "area",
            "sizeref": 0.23675000000000002,
            "symbol": "circle"
           },
           "mode": "markers",
           "name": "Sao Paulo",
           "showlegend": true,
           "type": "scattergeo"
          },
          {
           "geo": "geo",
           "hovertemplate": "<b>%{hovertext}</b><br><br>region=Buenos Aires<br>time=2023-12-02 20:00<br>temp_f=%{marker.size}<br>lat=%{lat}<br>lon=%{lon}<extra></extra>",
           "hovertext": [
            "Argentina"
           ],
           "lat": [
            -34.6
           ],
           "legendgroup": "Buenos Aires",
           "lon": [
            -58.38
           ],
           "marker": {
            "color": "#FFA15A",
            "size": [
             75
            ],
            "sizemode": "area",
            "sizeref": 0.23675000000000002,
            "symbol": "circle"
           },
           "mode": "markers",
           "name": "Buenos Aires",
           "showlegend": true,
           "type": "scattergeo"
          },
          {
           "geo": "geo",
           "hovertemplate": "<b>%{hovertext}</b><br><br>region=Cundinamarca<br>time=2023-12-02 20:00<br>temp_f=%{marker.size}<br>lat=%{lat}<br>lon=%{lon}<extra></extra>",
           "hovertext": [
            "Colombia"
           ],
           "lat": [
            4.71
           ],
           "legendgroup": "Cundinamarca",
           "lon": [
            -74.07
           ],
           "marker": {
            "color": "#19d3f3",
            "size": [
             50.7
            ],
            "sizemode": "area",
            "sizeref": 0.23675000000000002,
            "symbol": "circle"
           },
           "mode": "markers",
           "name": "Cundinamarca",
           "showlegend": true,
           "type": "scattergeo"
          },
          {
           "geo": "geo",
           "hovertemplate": "<b>%{hovertext}</b><br><br>region=City of London, Greater London<br>time=2023-12-02 20:00<br>temp_f=%{marker.size}<br>lat=%{lat}<br>lon=%{lon}<extra></extra>",
           "hovertext": [
            "United Kingdom"
           ],
           "lat": [
            51.51
           ],
           "legendgroup": "City of London, Greater London",
           "lon": [
            -0.13
           ],
           "marker": {
            "color": "#FF6692",
            "size": [
             33.9
            ],
            "sizemode": "area",
            "sizeref": 0.23675000000000002,
            "symbol": "circle"
           },
           "mode": "markers",
           "name": "City of London, Greater London",
           "showlegend": true,
           "type": "scattergeo"
          },
          {
           "geo": "geo",
           "hovertemplate": "<b>%{hovertext}</b><br><br>region=Ile-de-France<br>time=2023-12-02 20:00<br>temp_f=%{marker.size}<br>lat=%{lat}<br>lon=%{lon}<extra></extra>",
           "hovertext": [
            "France"
           ],
           "lat": [
            48.86
           ],
           "legendgroup": "Ile-de-France",
           "lon": [
            2.35
           ],
           "marker": {
            "color": "#B6E880",
            "size": [
             34
            ],
            "sizemode": "area",
            "sizeref": 0.23675000000000002,
            "symbol": "circle"
           },
           "mode": "markers",
           "name": "Ile-de-France",
           "showlegend": true,
           "type": "scattergeo"
          },
          {
           "geo": "geo",
           "hovertemplate": "<b>%{hovertext}</b><br><br>region=Berlin<br>time=2023-12-02 20:00<br>temp_f=%{marker.size}<br>lat=%{lat}<br>lon=%{lon}<extra></extra>",
           "hovertext": [
            "Germany"
           ],
           "lat": [
            52.52
           ],
           "legendgroup": "Berlin",
           "lon": [
            13.41
           ],
           "marker": {
            "color": "#FF97FF",
            "size": [
             28
            ],
            "sizemode": "area",
            "sizeref": 0.23675000000000002,
            "symbol": "circle"
           },
           "mode": "markers",
           "name": "Berlin",
           "showlegend": true,
           "type": "scattergeo"
          },
          {
           "geo": "geo",
           "hovertemplate": "<b>%{hovertext}</b><br><br>region=Tokyo<br>time=2023-12-02 20:00<br>temp_f=%{marker.size}<br>lat=%{lat}<br>lon=%{lon}<extra></extra>",
           "hovertext": [
            "Japan"
           ],
           "lat": [
            35.68
           ],
           "legendgroup": "Tokyo",
           "lon": [
            139.65
           ],
           "marker": {
            "color": "#FECB52",
            "size": [
             52.1
            ],
            "sizemode": "area",
            "sizeref": 0.23675000000000002,
            "symbol": "circle"
           },
           "mode": "markers",
           "name": "Tokyo",
           "showlegend": true,
           "type": "scattergeo"
          },
          {
           "geo": "geo",
           "hovertemplate": "<b>%{hovertext}</b><br><br>region=Beijing<br>time=2023-12-02 20:00<br>temp_f=%{marker.size}<br>lat=%{lat}<br>lon=%{lon}<extra></extra>",
           "hovertext": [
            "China"
           ],
           "lat": [
            39.9
           ],
           "legendgroup": "Beijing",
           "lon": [
            116.41
           ],
           "marker": {
            "color": "#636efa",
            "size": [
             36.4
            ],
            "sizemode": "area",
            "sizeref": 0.23675000000000002,
            "symbol": "circle"
           },
           "mode": "markers",
           "name": "Beijing",
           "showlegend": true,
           "type": "scattergeo"
          },
          {
           "geo": "geo",
           "hovertemplate": "<b>%{hovertext}</b><br><br>region=Maharashtra<br>time=2023-12-02 20:00<br>temp_f=%{marker.size}<br>lat=%{lat}<br>lon=%{lon}<extra></extra>",
           "hovertext": [
            "India"
           ],
           "lat": [
            19.08
           ],
           "legendgroup": "Maharashtra",
           "lon": [
            72.88
           ],
           "marker": {
            "color": "#EF553B",
            "size": [
             81.6
            ],
            "sizemode": "area",
            "sizeref": 0.23675000000000002,
            "symbol": "circle"
           },
           "mode": "markers",
           "name": "Maharashtra",
           "showlegend": true,
           "type": "scattergeo"
          },
          {
           "geo": "geo",
           "hovertemplate": "<b>%{hovertext}</b><br><br>region=Al Qahirah<br>time=2023-12-02 20:00<br>temp_f=%{marker.size}<br>lat=%{lat}<br>lon=%{lon}<extra></extra>",
           "hovertext": [
            "Egypt"
           ],
           "lat": [
            30.04
           ],
           "legendgroup": "Al Qahirah",
           "lon": [
            31.24
           ],
           "marker": {
            "color": "#00cc96",
            "size": [
             66.9
            ],
            "sizemode": "area",
            "sizeref": 0.23675000000000002,
            "symbol": "circle"
           },
           "mode": "markers",
           "name": "Al Qahirah",
           "showlegend": true,
           "type": "scattergeo"
          },
          {
           "geo": "geo",
           "hovertemplate": "<b>%{hovertext}</b><br><br>region=Lagos<br>time=2023-12-02 20:00<br>temp_f=%{marker.size}<br>lat=%{lat}<br>lon=%{lon}<extra></extra>",
           "hovertext": [
            "Nigeria"
           ],
           "lat": [
            6.52
           ],
           "legendgroup": "Lagos",
           "lon": [
            3.38
           ],
           "marker": {
            "color": "#ab63fa",
            "size": [
             83.2
            ],
            "sizemode": "area",
            "sizeref": 0.23675000000000002,
            "symbol": "circle"
           },
           "mode": "markers",
           "name": "Lagos",
           "showlegend": true,
           "type": "scattergeo"
          },
          {
           "geo": "geo",
           "hovertemplate": "<b>%{hovertext}</b><br><br>region=Gauteng<br>time=2023-12-02 20:00<br>temp_f=%{marker.size}<br>lat=%{lat}<br>lon=%{lon}<extra></extra>",
           "hovertext": [
            "South Africa"
           ],
           "lat": [
            -26.2
           ],
           "legendgroup": "Gauteng",
           "lon": [
            28.05
           ],
           "marker": {
            "color": "#FFA15A",
            "size": [
             81.6
            ],
            "sizemode": "area",
            "sizeref": 0.23675000000000002,
            "symbol": "circle"
           },
           "mode": "markers",
           "name": "Gauteng",
           "showlegend": true,
           "type": "scattergeo"
          },
          {
           "geo": "geo",
           "hovertemplate": "<b>%{hovertext}</b><br><br>region=New South Wales<br>time=2023-12-02 20:00<br>temp_f=%{marker.size}<br>lat=%{lat}<br>lon=%{lon}<extra></extra>",
           "hovertext": [
            "Australia"
           ],
           "lat": [
            -33.87
           ],
           "legendgroup": "New South Wales",
           "lon": [
            151.21
           ],
           "marker": {
            "color": "#19d3f3",
            "size": [
             66.9
            ],
            "sizemode": "area",
            "sizeref": 0.23675000000000002,
            "symbol": "circle"
           },
           "mode": "markers",
           "name": "New South Wales",
           "showlegend": true,
           "type": "scattergeo"
          },
          {
           "geo": "geo",
           "hovertemplate": "<b>%{hovertext}</b><br><br>region=Victoria<br>time=2023-12-02 20:00<br>temp_f=%{marker.size}<br>lat=%{lat}<br>lon=%{lon}<extra></extra>",
           "hovertext": [
            "Australia"
           ],
           "lat": [
            -37.81
           ],
           "legendgroup": "Victoria",
           "lon": [
            144.96
           ],
           "marker": {
            "color": "#FF6692",
            "size": [
             56.3
            ],
            "sizemode": "area",
            "sizeref": 0.23675000000000002,
            "symbol": "circle"
           },
           "mode": "markers",
           "name": "Victoria",
           "showlegend": true,
           "type": "scattergeo"
          },
          {
           "geo": "geo",
           "hovertemplate": "<b>%{hovertext}</b><br><br>region=Queensland<br>time=2023-12-02 20:00<br>temp_f=%{marker.size}<br>lat=%{lat}<br>lon=%{lon}<extra></extra>",
           "hovertext": [
            "Australia"
           ],
           "lat": [
            -27.47
           ],
           "legendgroup": "Queensland",
           "lon": [
            153.03
           ],
           "marker": {
            "color": "#B6E880",
            "size": [
             78.6
            ],
            "sizemode": "area",
            "sizeref": 0.23675000000000002,
            "symbol": "circle"
           },
           "mode": "markers",
           "name": "Queensland",
           "showlegend": true,
           "type": "scattergeo"
          }
         ],
         "name": "2023-12-02 20:00"
        },
        {
         "data": [
          {
           "geo": "geo",
           "hovertemplate": "<b>%{hovertext}</b><br><br>region=New York<br>time=2023-12-02 21:00<br>temp_f=%{marker.size}<br>lat=%{lat}<br>lon=%{lon}<extra></extra>",
           "hovertext": [
            "United States of America"
           ],
           "lat": [
            40.71
           ],
           "legendgroup": "New York",
           "lon": [
            -74.01
           ],
           "marker": {
            "color": "#636efa",
            "size": [
             51.9
            ],
            "sizemode": "area",
            "sizeref": 0.23675000000000002,
            "symbol": "circle"
           },
           "mode": "markers",
           "name": "New York",
           "showlegend": true,
           "type": "scattergeo"
          },
          {
           "geo": "geo",
           "hovertemplate": "<b>%{hovertext}</b><br><br>region=California<br>time=2023-12-02 21:00<br>temp_f=%{marker.size}<br>lat=%{lat}<br>lon=%{lon}<extra></extra>",
           "hovertext": [
            "United States of America"
           ],
           "lat": [
            34.05
           ],
           "legendgroup": "California",
           "lon": [
            -118.24
           ],
           "marker": {
            "color": "#EF553B",
            "size": [
             59.8
            ],
            "sizemode": "area",
            "sizeref": 0.23675000000000002,
            "symbol": "circle"
           },
           "mode": "markers",
           "name": "California",
           "showlegend": true,
           "type": "scattergeo"
          },
          {
           "geo": "geo",
           "hovertemplate": "<b>%{hovertext}</b><br><br>region=Ontario<br>time=2023-12-02 21:00<br>temp_f=%{marker.size}<br>lat=%{lat}<br>lon=%{lon}<extra></extra>",
           "hovertext": [
            "Canada"
           ],
           "lat": [
            43.65
           ],
           "legendgroup": "Ontario",
           "lon": [
            -79.38
           ],
           "marker": {
            "color": "#00cc96",
            "size": [
             38.5
            ],
            "sizemode": "area",
            "sizeref": 0.23675000000000002,
            "symbol": "circle"
           },
           "mode": "markers",
           "name": "Ontario",
           "showlegend": true,
           "type": "scattergeo"
          },
          {
           "geo": "geo",
           "hovertemplate": "<b>%{hovertext}</b><br><br>region=Sao Paulo<br>time=2023-12-02 21:00<br>temp_f=%{marker.size}<br>lat=%{lat}<br>lon=%{lon}<extra></extra>",
           "hovertext": [
            "Brazil"
           ],
           "lat": [
            -23.55
           ],
           "legendgroup": "Sao Paulo",
           "lon": [
            -46.63
           ],
           "marker": {
            "color": "#ab63fa",
            "size": [
             78.3
            ],
            "sizemode": "area",
            "sizeref": 0.23675000000000002,
            "symbol": "circle"
           },
           "mode": "markers",
           "name": "Sao Paulo",
           "showlegend": true,
           "type": "scattergeo"
          },
          {
           "geo": "geo",
           "hovertemplate": "<b>%{hovertext}</b><br><br>region=Buenos Aires<br>time=2023-12-02 21:00<br>temp_f=%{marker.size}<br>lat=%{lat}<br>lon=%{lon}<extra></extra>",
           "hovertext": [
            "Argentina"
           ],
           "lat": [
            -34.6
           ],
           "legendgroup": "Buenos Aires",
           "lon": [
            -58.38
           ],
           "marker": {
            "color": "#FFA15A",
            "size": [
             74.4
            ],
            "sizemode": "area",
            "sizeref": 0.23675000000000002,
            "symbol": "circle"
           },
           "mode": "markers",
           "name": "Buenos Aires",
           "showlegend": true,
           "type": "scattergeo"
          },
          {
           "geo": "geo",
           "hovertemplate": "<b>%{hovertext}</b><br><br>region=Cundinamarca<br>time=2023-12-02 21:00<br>temp_f=%{marker.size}<br>lat=%{lat}<br>lon=%{lon}<extra></extra>",
           "hovertext": [
            "Colombia"
           ],
           "lat": [
            4.71
           ],
           "legendgroup": "Cundinamarca",
           "lon": [
            -74.07
           ],
           "marker": {
            "color": "#19d3f3",
            "size": [
             50.5
            ],
            "sizemode": "area",
            "sizeref": 0.23675000000000002,
            "symbol": "circle"
           },
           "mode": "markers",
           "name": "Cundinamarca",
           "showlegend": true,
           "type": "scattergeo"
          },
          {
           "geo": "geo",
           "hovertemplate": "<b>%{hovertext}</b><br><br>region=City of London, Greater London<br>time=2023-12-02 21:00<br>temp_f=%{marker.size}<br>lat=%{lat}<br>lon=%{lon}<extra></extra>",
           "hovertext": [
            "United Kingdom"
           ],
           "lat": [
            51.51
           ],
           "legendgroup": "City of London, Greater London",
           "lon": [
            -0.13
           ],
           "marker": {
            "color": "#FF6692",
            "size": [
             33.6
            ],
            "sizemode": "area",
            "sizeref": 0.23675000000000002,
            "symbol": "circle"
           },
           "mode": "markers",
           "name": "City of London, Greater London",
           "showlegend": true,
           "type": "scattergeo"
          },
          {
           "geo": "geo",
           "hovertemplate": "<b>%{hovertext}</b><br><br>region=Ile-de-France<br>time=2023-12-02 21:00<br>temp_f=%{marker.size}<br>lat=%{lat}<br>lon=%{lon}<extra></extra>",
           "hovertext": [
            "France"
           ],
           "lat": [
            48.86
           ],
           "legendgroup": "Ile-de-France",
           "lon": [
            2.35
           ],
           "marker": {
            "color": "#B6E880",
            "size": [
             33.6
            ],
            "sizemode": "area",
            "sizeref": 0.23675000000000002,
            "symbol": "circle"
           },
           "mode": "markers",
           "name": "Ile-de-France",
           "showlegend": true,
           "type": "scattergeo"
          },
          {
           "geo": "geo",
           "hovertemplate": "<b>%{hovertext}</b><br><br>region=Berlin<br>time=2023-12-02 21:00<br>temp_f=%{marker.size}<br>lat=%{lat}<br>lon=%{lon}<extra></extra>",
           "hovertext": [
            "Germany"
           ],
           "lat": [
            52.52
           ],
           "legendgroup": "Berlin",
           "lon": [
            13.41
           ],
           "marker": {
            "color": "#FF97FF",
            "size": [
             27
            ],
            "sizemode": "area",
            "sizeref": 0.23675000000000002,
            "symbol": "circle"
           },
           "mode": "markers",
           "name": "Berlin",
           "showlegend": true,
           "type": "scattergeo"
          },
          {
           "geo": "geo",
           "hovertemplate": "<b>%{hovertext}</b><br><br>region=Tokyo<br>time=2023-12-02 21:00<br>temp_f=%{marker.size}<br>lat=%{lat}<br>lon=%{lon}<extra></extra>",
           "hovertext": [
            "Japan"
           ],
           "lat": [
            35.68
           ],
           "legendgroup": "Tokyo",
           "lon": [
            139.65
           ],
           "marker": {
            "color": "#FECB52",
            "size": [
             51.6
            ],
            "sizemode": "area",
            "sizeref": 0.23675000000000002,
            "symbol": "circle"
           },
           "mode": "markers",
           "name": "Tokyo",
           "showlegend": true,
           "type": "scattergeo"
          },
          {
           "geo": "geo",
           "hovertemplate": "<b>%{hovertext}</b><br><br>region=Beijing<br>time=2023-12-02 21:00<br>temp_f=%{marker.size}<br>lat=%{lat}<br>lon=%{lon}<extra></extra>",
           "hovertext": [
            "China"
           ],
           "lat": [
            39.9
           ],
           "legendgroup": "Beijing",
           "lon": [
            116.41
           ],
           "marker": {
            "color": "#636efa",
            "size": [
             35.9
            ],
            "sizemode": "area",
            "sizeref": 0.23675000000000002,
            "symbol": "circle"
           },
           "mode": "markers",
           "name": "Beijing",
           "showlegend": true,
           "type": "scattergeo"
          },
          {
           "geo": "geo",
           "hovertemplate": "<b>%{hovertext}</b><br><br>region=Maharashtra<br>time=2023-12-02 21:00<br>temp_f=%{marker.size}<br>lat=%{lat}<br>lon=%{lon}<extra></extra>",
           "hovertext": [
            "India"
           ],
           "lat": [
            19.08
           ],
           "legendgroup": "Maharashtra",
           "lon": [
            72.88
           ],
           "marker": {
            "color": "#EF553B",
            "size": [
             81.5
            ],
            "sizemode": "area",
            "sizeref": 0.23675000000000002,
            "symbol": "circle"
           },
           "mode": "markers",
           "name": "Maharashtra",
           "showlegend": true,
           "type": "scattergeo"
          },
          {
           "geo": "geo",
           "hovertemplate": "<b>%{hovertext}</b><br><br>region=Al Qahirah<br>time=2023-12-02 21:00<br>temp_f=%{marker.size}<br>lat=%{lat}<br>lon=%{lon}<extra></extra>",
           "hovertext": [
            "Egypt"
           ],
           "lat": [
            30.04
           ],
           "legendgroup": "Al Qahirah",
           "lon": [
            31.24
           ],
           "marker": {
            "color": "#00cc96",
            "size": [
             65.8
            ],
            "sizemode": "area",
            "sizeref": 0.23675000000000002,
            "symbol": "circle"
           },
           "mode": "markers",
           "name": "Al Qahirah",
           "showlegend": true,
           "type": "scattergeo"
          },
          {
           "geo": "geo",
           "hovertemplate": "<b>%{hovertext}</b><br><br>region=Lagos<br>time=2023-12-02 21:00<br>temp_f=%{marker.size}<br>lat=%{lat}<br>lon=%{lon}<extra></extra>",
           "hovertext": [
            "Nigeria"
           ],
           "lat": [
            6.52
           ],
           "legendgroup": "Lagos",
           "lon": [
            3.38
           ],
           "marker": {
            "color": "#ab63fa",
            "size": [
             83.1
            ],
            "sizemode": "area",
            "sizeref": 0.23675000000000002,
            "symbol": "circle"
           },
           "mode": "markers",
           "name": "Lagos",
           "showlegend": true,
           "type": "scattergeo"
          },
          {
           "geo": "geo",
           "hovertemplate": "<b>%{hovertext}</b><br><br>region=Gauteng<br>time=2023-12-02 21:00<br>temp_f=%{marker.size}<br>lat=%{lat}<br>lon=%{lon}<extra></extra>",
           "hovertext": [
            "South Africa"
           ],
           "lat": [
            -26.2
           ],
           "legendgroup": "Gauteng",
           "lon": [
            28.05
           ],
           "marker": {
            "color": "#FFA15A",
            "size": [
             79.9
            ],
            "sizemode": "area",
            "sizeref": 0.23675000000000002,
            "symbol": "circle"
           },
           "mode": "markers",
           "name": "Gauteng",
           "showlegend": true,
           "type": "scattergeo"
          },
          {
           "geo": "geo",
           "hovertemplate": "<b>%{hovertext}</b><br><br>region=New South Wales<br>time=2023-12-02 21:00<br>temp_f=%{marker.size}<br>lat=%{lat}<br>lon=%{lon}<extra></extra>",
           "hovertext": [
            "Australia"
           ],
           "lat": [
            -33.87
           ],
           "legendgroup": "New South Wales",
           "lon": [
            151.21
           ],
           "marker": {
            "color": "#19d3f3",
            "size": [
             65.8
            ],
            "sizemode": "area",
            "sizeref": 0.23675000000000002,
            "symbol": "circle"
           },
           "mode": "markers",
           "name": "New South Wales",
           "showlegend": true,
           "type": "scattergeo"
          },
          {
           "geo": "geo",
           "hovertemplate": "<b>%{hovertext}</b><br><br>region=Victoria<br>time=2023-12-02 21:00<br>temp_f=%{marker.size}<br>lat=%{lat}<br>lon=%{lon}<extra></extra>",
           "hovertext": [
            "Australia"
           ],
           "lat": [
            -37.81
           ],
           "legendgroup": "Victoria",
           "lon": [
            144.96
           ],
           "marker": {
            "color": "#FF6692",
            "size": [
             56
            ],
            "sizemode": "area",
            "sizeref": 0.23675000000000002,
            "symbol": "circle"
           },
           "mode": "markers",
           "name": "Victoria",
           "showlegend": true,
           "type": "scattergeo"
          },
          {
           "geo": "geo",
           "hovertemplate": "<b>%{hovertext}</b><br><br>region=Queensland<br>time=2023-12-02 21:00<br>temp_f=%{marker.size}<br>lat=%{lat}<br>lon=%{lon}<extra></extra>",
           "hovertext": [
            "Australia"
           ],
           "lat": [
            -27.47
           ],
           "legendgroup": "Queensland",
           "lon": [
            153.03
           ],
           "marker": {
            "color": "#B6E880",
            "size": [
             78.4
            ],
            "sizemode": "area",
            "sizeref": 0.23675000000000002,
            "symbol": "circle"
           },
           "mode": "markers",
           "name": "Queensland",
           "showlegend": true,
           "type": "scattergeo"
          }
         ],
         "name": "2023-12-02 21:00"
        },
        {
         "data": [
          {
           "geo": "geo",
           "hovertemplate": "<b>%{hovertext}</b><br><br>region=New York<br>time=2023-12-02 22:00<br>temp_f=%{marker.size}<br>lat=%{lat}<br>lon=%{lon}<extra></extra>",
           "hovertext": [
            "United States of America"
           ],
           "lat": [
            40.71
           ],
           "legendgroup": "New York",
           "lon": [
            -74.01
           ],
           "marker": {
            "color": "#636efa",
            "size": [
             51.8
            ],
            "sizemode": "area",
            "sizeref": 0.23675000000000002,
            "symbol": "circle"
           },
           "mode": "markers",
           "name": "New York",
           "showlegend": true,
           "type": "scattergeo"
          },
          {
           "geo": "geo",
           "hovertemplate": "<b>%{hovertext}</b><br><br>region=California<br>time=2023-12-02 22:00<br>temp_f=%{marker.size}<br>lat=%{lat}<br>lon=%{lon}<extra></extra>",
           "hovertext": [
            "United States of America"
           ],
           "lat": [
            34.05
           ],
           "legendgroup": "California",
           "lon": [
            -118.24
           ],
           "marker": {
            "color": "#EF553B",
            "size": [
             59.3
            ],
            "sizemode": "area",
            "sizeref": 0.23675000000000002,
            "symbol": "circle"
           },
           "mode": "markers",
           "name": "California",
           "showlegend": true,
           "type": "scattergeo"
          },
          {
           "geo": "geo",
           "hovertemplate": "<b>%{hovertext}</b><br><br>region=Ontario<br>time=2023-12-02 22:00<br>temp_f=%{marker.size}<br>lat=%{lat}<br>lon=%{lon}<extra></extra>",
           "hovertext": [
            "Canada"
           ],
           "lat": [
            43.65
           ],
           "legendgroup": "Ontario",
           "lon": [
            -79.38
           ],
           "marker": {
            "color": "#00cc96",
            "size": [
             38.3
            ],
            "sizemode": "area",
            "sizeref": 0.23675000000000002,
            "symbol": "circle"
           },
           "mode": "markers",
           "name": "Ontario",
           "showlegend": true,
           "type": "scattergeo"
          },
          {
           "geo": "geo",
           "hovertemplate": "<b>%{hovertext}</b><br><br>region=Sao Paulo<br>time=2023-12-02 22:00<br>temp_f=%{marker.size}<br>lat=%{lat}<br>lon=%{lon}<extra></extra>",
           "hovertext": [
            "Brazil"
           ],
           "lat": [
            -23.55
           ],
           "legendgroup": "Sao Paulo",
           "lon": [
            -46.63
           ],
           "marker": {
            "color": "#ab63fa",
            "size": [
             77.2
            ],
            "sizemode": "area",
            "sizeref": 0.23675000000000002,
            "symbol": "circle"
           },
           "mode": "markers",
           "name": "Sao Paulo",
           "showlegend": true,
           "type": "scattergeo"
          },
          {
           "geo": "geo",
           "hovertemplate": "<b>%{hovertext}</b><br><br>region=Buenos Aires<br>time=2023-12-02 22:00<br>temp_f=%{marker.size}<br>lat=%{lat}<br>lon=%{lon}<extra></extra>",
           "hovertext": [
            "Argentina"
           ],
           "lat": [
            -34.6
           ],
           "legendgroup": "Buenos Aires",
           "lon": [
            -58.38
           ],
           "marker": {
            "color": "#FFA15A",
            "size": [
             73.8
            ],
            "sizemode": "area",
            "sizeref": 0.23675000000000002,
            "symbol": "circle"
           },
           "mode": "markers",
           "name": "Buenos Aires",
           "showlegend": true,
           "type": "scattergeo"
          },
          {
           "geo": "geo",
           "hovertemplate": "<b>%{hovertext}</b><br><br>region=Cundinamarca<br>time=2023-12-02 22:00<br>temp_f=%{marker.size}<br>lat=%{lat}<br>lon=%{lon}<extra></extra>",
           "hovertext": [
            "Colombia"
           ],
           "lat": [
            4.71
           ],
           "legendgroup": "Cundinamarca",
           "lon": [
            -74.07
           ],
           "marker": {
            "color": "#19d3f3",
            "size": [
             49.1
            ],
            "sizemode": "area",
            "sizeref": 0.23675000000000002,
            "symbol": "circle"
           },
           "mode": "markers",
           "name": "Cundinamarca",
           "showlegend": true,
           "type": "scattergeo"
          },
          {
           "geo": "geo",
           "hovertemplate": "<b>%{hovertext}</b><br><br>region=City of London, Greater London<br>time=2023-12-02 22:00<br>temp_f=%{marker.size}<br>lat=%{lat}<br>lon=%{lon}<extra></extra>",
           "hovertext": [
            "United Kingdom"
           ],
           "lat": [
            51.51
           ],
           "legendgroup": "City of London, Greater London",
           "lon": [
            -0.13
           ],
           "marker": {
            "color": "#FF6692",
            "size": [
             33.3
            ],
            "sizemode": "area",
            "sizeref": 0.23675000000000002,
            "symbol": "circle"
           },
           "mode": "markers",
           "name": "City of London, Greater London",
           "showlegend": true,
           "type": "scattergeo"
          },
          {
           "geo": "geo",
           "hovertemplate": "<b>%{hovertext}</b><br><br>region=Ile-de-France<br>time=2023-12-02 22:00<br>temp_f=%{marker.size}<br>lat=%{lat}<br>lon=%{lon}<extra></extra>",
           "hovertext": [
            "France"
           ],
           "lat": [
            48.86
           ],
           "legendgroup": "Ile-de-France",
           "lon": [
            2.35
           ],
           "marker": {
            "color": "#B6E880",
            "size": [
             33.4
            ],
            "sizemode": "area",
            "sizeref": 0.23675000000000002,
            "symbol": "circle"
           },
           "mode": "markers",
           "name": "Ile-de-France",
           "showlegend": true,
           "type": "scattergeo"
          },
          {
           "geo": "geo",
           "hovertemplate": "<b>%{hovertext}</b><br><br>region=Berlin<br>time=2023-12-02 22:00<br>temp_f=%{marker.size}<br>lat=%{lat}<br>lon=%{lon}<extra></extra>",
           "hovertext": [
            "Germany"
           ],
           "lat": [
            52.52
           ],
           "legendgroup": "Berlin",
           "lon": [
            13.41
           ],
           "marker": {
            "color": "#FF97FF",
            "size": [
             27
            ],
            "sizemode": "area",
            "sizeref": 0.23675000000000002,
            "symbol": "circle"
           },
           "mode": "markers",
           "name": "Berlin",
           "showlegend": true,
           "type": "scattergeo"
          },
          {
           "geo": "geo",
           "hovertemplate": "<b>%{hovertext}</b><br><br>region=Tokyo<br>time=2023-12-02 22:00<br>temp_f=%{marker.size}<br>lat=%{lat}<br>lon=%{lon}<extra></extra>",
           "hovertext": [
            "Japan"
           ],
           "lat": [
            35.68
           ],
           "legendgroup": "Tokyo",
           "lon": [
            139.65
           ],
           "marker": {
            "color": "#FECB52",
            "size": [
             51
            ],
            "sizemode": "area",
            "sizeref": 0.23675000000000002,
            "symbol": "circle"
           },
           "mode": "markers",
           "name": "Tokyo",
           "showlegend": true,
           "type": "scattergeo"
          },
          {
           "geo": "geo",
           "hovertemplate": "<b>%{hovertext}</b><br><br>region=Beijing<br>time=2023-12-02 22:00<br>temp_f=%{marker.size}<br>lat=%{lat}<br>lon=%{lon}<extra></extra>",
           "hovertext": [
            "China"
           ],
           "lat": [
            39.9
           ],
           "legendgroup": "Beijing",
           "lon": [
            116.41
           ],
           "marker": {
            "color": "#636efa",
            "size": [
             35.5
            ],
            "sizemode": "area",
            "sizeref": 0.23675000000000002,
            "symbol": "circle"
           },
           "mode": "markers",
           "name": "Beijing",
           "showlegend": true,
           "type": "scattergeo"
          },
          {
           "geo": "geo",
           "hovertemplate": "<b>%{hovertext}</b><br><br>region=Maharashtra<br>time=2023-12-02 22:00<br>temp_f=%{marker.size}<br>lat=%{lat}<br>lon=%{lon}<extra></extra>",
           "hovertext": [
            "India"
           ],
           "lat": [
            19.08
           ],
           "legendgroup": "Maharashtra",
           "lon": [
            72.88
           ],
           "marker": {
            "color": "#EF553B",
            "size": [
             81.4
            ],
            "sizemode": "area",
            "sizeref": 0.23675000000000002,
            "symbol": "circle"
           },
           "mode": "markers",
           "name": "Maharashtra",
           "showlegend": true,
           "type": "scattergeo"
          },
          {
           "geo": "geo",
           "hovertemplate": "<b>%{hovertext}</b><br><br>region=Al Qahirah<br>time=2023-12-02 22:00<br>temp_f=%{marker.size}<br>lat=%{lat}<br>lon=%{lon}<extra></extra>",
           "hovertext": [
            "Egypt"
           ],
           "lat": [
            30.04
           ],
           "legendgroup": "Al Qahirah",
           "lon": [
            31.24
           ],
           "marker": {
            "color": "#00cc96",
            "size": [
             64.9
            ],
            "sizemode": "area",
            "sizeref": 0.23675000000000002,
            "symbol": "circle"
           },
           "mode": "markers",
           "name": "Al Qahirah",
           "showlegend": true,
           "type": "scattergeo"
          },
          {
           "geo": "geo",
           "hovertemplate": "<b>%{hovertext}</b><br><br>region=Lagos<br>time=2023-12-02 22:00<br>temp_f=%{marker.size}<br>lat=%{lat}<br>lon=%{lon}<extra></extra>",
           "hovertext": [
            "Nigeria"
           ],
           "lat": [
            6.52
           ],
           "legendgroup": "Lagos",
           "lon": [
            3.38
           ],
           "marker": {
            "color": "#ab63fa",
            "size": [
             83
            ],
            "sizemode": "area",
            "sizeref": 0.23675000000000002,
            "symbol": "circle"
           },
           "mode": "markers",
           "name": "Lagos",
           "showlegend": true,
           "type": "scattergeo"
          },
          {
           "geo": "geo",
           "hovertemplate": "<b>%{hovertext}</b><br><br>region=Gauteng<br>time=2023-12-02 22:00<br>temp_f=%{marker.size}<br>lat=%{lat}<br>lon=%{lon}<extra></extra>",
           "hovertext": [
            "South Africa"
           ],
           "lat": [
            -26.2
           ],
           "legendgroup": "Gauteng",
           "lon": [
            28.05
           ],
           "marker": {
            "color": "#FFA15A",
            "size": [
             79
            ],
            "sizemode": "area",
            "sizeref": 0.23675000000000002,
            "symbol": "circle"
           },
           "mode": "markers",
           "name": "Gauteng",
           "showlegend": true,
           "type": "scattergeo"
          },
          {
           "geo": "geo",
           "hovertemplate": "<b>%{hovertext}</b><br><br>region=New South Wales<br>time=2023-12-02 22:00<br>temp_f=%{marker.size}<br>lat=%{lat}<br>lon=%{lon}<extra></extra>",
           "hovertext": [
            "Australia"
           ],
           "lat": [
            -33.87
           ],
           "legendgroup": "New South Wales",
           "lon": [
            151.21
           ],
           "marker": {
            "color": "#19d3f3",
            "size": [
             67.6
            ],
            "sizemode": "area",
            "sizeref": 0.23675000000000002,
            "symbol": "circle"
           },
           "mode": "markers",
           "name": "New South Wales",
           "showlegend": true,
           "type": "scattergeo"
          },
          {
           "geo": "geo",
           "hovertemplate": "<b>%{hovertext}</b><br><br>region=Victoria<br>time=2023-12-02 22:00<br>temp_f=%{marker.size}<br>lat=%{lat}<br>lon=%{lon}<extra></extra>",
           "hovertext": [
            "Australia"
           ],
           "lat": [
            -37.81
           ],
           "legendgroup": "Victoria",
           "lon": [
            144.96
           ],
           "marker": {
            "color": "#FF6692",
            "size": [
             55.8
            ],
            "sizemode": "area",
            "sizeref": 0.23675000000000002,
            "symbol": "circle"
           },
           "mode": "markers",
           "name": "Victoria",
           "showlegend": true,
           "type": "scattergeo"
          },
          {
           "geo": "geo",
           "hovertemplate": "<b>%{hovertext}</b><br><br>region=Queensland<br>time=2023-12-02 22:00<br>temp_f=%{marker.size}<br>lat=%{lat}<br>lon=%{lon}<extra></extra>",
           "hovertext": [
            "Australia"
           ],
           "lat": [
            -27.47
           ],
           "legendgroup": "Queensland",
           "lon": [
            153.03
           ],
           "marker": {
            "color": "#B6E880",
            "size": [
             77.9
            ],
            "sizemode": "area",
            "sizeref": 0.23675000000000002,
            "symbol": "circle"
           },
           "mode": "markers",
           "name": "Queensland",
           "showlegend": true,
           "type": "scattergeo"
          }
         ],
         "name": "2023-12-02 22:00"
        },
        {
         "data": [
          {
           "geo": "geo",
           "hovertemplate": "<b>%{hovertext}</b><br><br>region=New York<br>time=2023-12-02 23:00<br>temp_f=%{marker.size}<br>lat=%{lat}<br>lon=%{lon}<extra></extra>",
           "hovertext": [
            "United States of America"
           ],
           "lat": [
            40.71
           ],
           "legendgroup": "New York",
           "lon": [
            -74.01
           ],
           "marker": {
            "color": "#636efa",
            "size": [
             46.2
            ],
            "sizemode": "area",
            "sizeref": 0.23675000000000002,
            "symbol": "circle"
           },
           "mode": "markers",
           "name": "New York",
           "showlegend": true,
           "type": "scattergeo"
          },
          {
           "geo": "geo",
           "hovertemplate": "<b>%{hovertext}</b><br><br>region=California<br>time=2023-12-02 23:00<br>temp_f=%{marker.size}<br>lat=%{lat}<br>lon=%{lon}<extra></extra>",
           "hovertext": [
            "United States of America"
           ],
           "lat": [
            34.05
           ],
           "legendgroup": "California",
           "lon": [
            -118.24
           ],
           "marker": {
            "color": "#EF553B",
            "size": [
             56.1
            ],
            "sizemode": "area",
            "sizeref": 0.23675000000000002,
            "symbol": "circle"
           },
           "mode": "markers",
           "name": "California",
           "showlegend": true,
           "type": "scattergeo"
          },
          {
           "geo": "geo",
           "hovertemplate": "<b>%{hovertext}</b><br><br>region=Ontario<br>time=2023-12-02 23:00<br>temp_f=%{marker.size}<br>lat=%{lat}<br>lon=%{lon}<extra></extra>",
           "hovertext": [
            "Canada"
           ],
           "lat": [
            43.65
           ],
           "legendgroup": "Ontario",
           "lon": [
            -79.38
           ],
           "marker": {
            "color": "#00cc96",
            "size": [
             37
            ],
            "sizemode": "area",
            "sizeref": 0.23675000000000002,
            "symbol": "circle"
           },
           "mode": "markers",
           "name": "Ontario",
           "showlegend": true,
           "type": "scattergeo"
          },
          {
           "geo": "geo",
           "hovertemplate": "<b>%{hovertext}</b><br><br>region=Sao Paulo<br>time=2023-12-02 23:00<br>temp_f=%{marker.size}<br>lat=%{lat}<br>lon=%{lon}<extra></extra>",
           "hovertext": [
            "Brazil"
           ],
           "lat": [
            -23.55
           ],
           "legendgroup": "Sao Paulo",
           "lon": [
            -46.63
           ],
           "marker": {
            "color": "#ab63fa",
            "size": [
             76.3
            ],
            "sizemode": "area",
            "sizeref": 0.23675000000000002,
            "symbol": "circle"
           },
           "mode": "markers",
           "name": "Sao Paulo",
           "showlegend": true,
           "type": "scattergeo"
          },
          {
           "geo": "geo",
           "hovertemplate": "<b>%{hovertext}</b><br><br>region=Buenos Aires<br>time=2023-12-02 23:00<br>temp_f=%{marker.size}<br>lat=%{lat}<br>lon=%{lon}<extra></extra>",
           "hovertext": [
            "Argentina"
           ],
           "lat": [
            -34.6
           ],
           "legendgroup": "Buenos Aires",
           "lon": [
            -58.38
           ],
           "marker": {
            "color": "#FFA15A",
            "size": [
             68.6
            ],
            "sizemode": "area",
            "sizeref": 0.23675000000000002,
            "symbol": "circle"
           },
           "mode": "markers",
           "name": "Buenos Aires",
           "showlegend": true,
           "type": "scattergeo"
          },
          {
           "geo": "geo",
           "hovertemplate": "<b>%{hovertext}</b><br><br>region=Cundinamarca<br>time=2023-12-02 23:00<br>temp_f=%{marker.size}<br>lat=%{lat}<br>lon=%{lon}<extra></extra>",
           "hovertext": [
            "Colombia"
           ],
           "lat": [
            4.71
           ],
           "legendgroup": "Cundinamarca",
           "lon": [
            -74.07
           ],
           "marker": {
            "color": "#19d3f3",
            "size": [
             49.4
            ],
            "sizemode": "area",
            "sizeref": 0.23675000000000002,
            "symbol": "circle"
           },
           "mode": "markers",
           "name": "Cundinamarca",
           "showlegend": true,
           "type": "scattergeo"
          },
          {
           "geo": "geo",
           "hovertemplate": "<b>%{hovertext}</b><br><br>region=City of London, Greater London<br>time=2023-12-02 23:00<br>temp_f=%{marker.size}<br>lat=%{lat}<br>lon=%{lon}<extra></extra>",
           "hovertext": [
            "United Kingdom"
           ],
           "lat": [
            51.51
           ],
           "legendgroup": "City of London, Greater London",
           "lon": [
            -0.13
           ],
           "marker": {
            "color": "#FF6692",
            "size": [
             33.2
            ],
            "sizemode": "area",
            "sizeref": 0.23675000000000002,
            "symbol": "circle"
           },
           "mode": "markers",
           "name": "City of London, Greater London",
           "showlegend": true,
           "type": "scattergeo"
          },
          {
           "geo": "geo",
           "hovertemplate": "<b>%{hovertext}</b><br><br>region=Ile-de-France<br>time=2023-12-02 23:00<br>temp_f=%{marker.size}<br>lat=%{lat}<br>lon=%{lon}<extra></extra>",
           "hovertext": [
            "France"
           ],
           "lat": [
            48.86
           ],
           "legendgroup": "Ile-de-France",
           "lon": [
            2.35
           ],
           "marker": {
            "color": "#B6E880",
            "size": [
             33.1
            ],
            "sizemode": "area",
            "sizeref": 0.23675000000000002,
            "symbol": "circle"
           },
           "mode": "markers",
           "name": "Ile-de-France",
           "showlegend": true,
           "type": "scattergeo"
          },
          {
           "geo": "geo",
           "hovertemplate": "<b>%{hovertext}</b><br><br>region=Berlin<br>time=2023-12-02 23:00<br>temp_f=%{marker.size}<br>lat=%{lat}<br>lon=%{lon}<extra></extra>",
           "hovertext": [
            "Germany"
           ],
           "lat": [
            52.52
           ],
           "legendgroup": "Berlin",
           "lon": [
            13.41
           ],
           "marker": {
            "color": "#FF97FF",
            "size": [
             27.8
            ],
            "sizemode": "area",
            "sizeref": 0.23675000000000002,
            "symbol": "circle"
           },
           "mode": "markers",
           "name": "Berlin",
           "showlegend": true,
           "type": "scattergeo"
          },
          {
           "geo": "geo",
           "hovertemplate": "<b>%{hovertext}</b><br><br>region=Tokyo<br>time=2023-12-02 23:00<br>temp_f=%{marker.size}<br>lat=%{lat}<br>lon=%{lon}<extra></extra>",
           "hovertext": [
            "Japan"
           ],
           "lat": [
            35.68
           ],
           "legendgroup": "Tokyo",
           "lon": [
            139.65
           ],
           "marker": {
            "color": "#FECB52",
            "size": [
             50.5
            ],
            "sizemode": "area",
            "sizeref": 0.23675000000000002,
            "symbol": "circle"
           },
           "mode": "markers",
           "name": "Tokyo",
           "showlegend": true,
           "type": "scattergeo"
          },
          {
           "geo": "geo",
           "hovertemplate": "<b>%{hovertext}</b><br><br>region=Beijing<br>time=2023-12-02 23:00<br>temp_f=%{marker.size}<br>lat=%{lat}<br>lon=%{lon}<extra></extra>",
           "hovertext": [
            "China"
           ],
           "lat": [
            39.9
           ],
           "legendgroup": "Beijing",
           "lon": [
            116.41
           ],
           "marker": {
            "color": "#636efa",
            "size": [
             35
            ],
            "sizemode": "area",
            "sizeref": 0.23675000000000002,
            "symbol": "circle"
           },
           "mode": "markers",
           "name": "Beijing",
           "showlegend": true,
           "type": "scattergeo"
          },
          {
           "geo": "geo",
           "hovertemplate": "<b>%{hovertext}</b><br><br>region=Maharashtra<br>time=2023-12-02 23:00<br>temp_f=%{marker.size}<br>lat=%{lat}<br>lon=%{lon}<extra></extra>",
           "hovertext": [
            "India"
           ],
           "lat": [
            19.08
           ],
           "legendgroup": "Maharashtra",
           "lon": [
            72.88
           ],
           "marker": {
            "color": "#EF553B",
            "size": [
             81.3
            ],
            "sizemode": "area",
            "sizeref": 0.23675000000000002,
            "symbol": "circle"
           },
           "mode": "markers",
           "name": "Maharashtra",
           "showlegend": true,
           "type": "scattergeo"
          },
          {
           "geo": "geo",
           "hovertemplate": "<b>%{hovertext}</b><br><br>region=Al Qahirah<br>time=2023-12-02 23:00<br>temp_f=%{marker.size}<br>lat=%{lat}<br>lon=%{lon}<extra></extra>",
           "hovertext": [
            "Egypt"
           ],
           "lat": [
            30.04
           ],
           "legendgroup": "Al Qahirah",
           "lon": [
            31.24
           ],
           "marker": {
            "color": "#00cc96",
            "size": [
             64
            ],
            "sizemode": "area",
            "sizeref": 0.23675000000000002,
            "symbol": "circle"
           },
           "mode": "markers",
           "name": "Al Qahirah",
           "showlegend": true,
           "type": "scattergeo"
          },
          {
           "geo": "geo",
           "hovertemplate": "<b>%{hovertext}</b><br><br>region=Lagos<br>time=2023-12-02 23:00<br>temp_f=%{marker.size}<br>lat=%{lat}<br>lon=%{lon}<extra></extra>",
           "hovertext": [
            "Nigeria"
           ],
           "lat": [
            6.52
           ],
           "legendgroup": "Lagos",
           "lon": [
            3.38
           ],
           "marker": {
            "color": "#ab63fa",
            "size": [
             82.9
            ],
            "sizemode": "area",
            "sizeref": 0.23675000000000002,
            "symbol": "circle"
           },
           "mode": "markers",
           "name": "Lagos",
           "showlegend": true,
           "type": "scattergeo"
          },
          {
           "geo": "geo",
           "hovertemplate": "<b>%{hovertext}</b><br><br>region=Gauteng<br>time=2023-12-02 23:00<br>temp_f=%{marker.size}<br>lat=%{lat}<br>lon=%{lon}<extra></extra>",
           "hovertext": [
            "South Africa"
           ],
           "lat": [
            -26.2
           ],
           "legendgroup": "Gauteng",
           "lon": [
            28.05
           ],
           "marker": {
            "color": "#FFA15A",
            "size": [
             77.4
            ],
            "sizemode": "area",
            "sizeref": 0.23675000000000002,
            "symbol": "circle"
           },
           "mode": "markers",
           "name": "Gauteng",
           "showlegend": true,
           "type": "scattergeo"
          },
          {
           "geo": "geo",
           "hovertemplate": "<b>%{hovertext}</b><br><br>region=New South Wales<br>time=2023-12-02 23:00<br>temp_f=%{marker.size}<br>lat=%{lat}<br>lon=%{lon}<extra></extra>",
           "hovertext": [
            "Australia"
           ],
           "lat": [
            -33.87
           ],
           "legendgroup": "New South Wales",
           "lon": [
            151.21
           ],
           "marker": {
            "color": "#19d3f3",
            "size": [
             66.7
            ],
            "sizemode": "area",
            "sizeref": 0.23675000000000002,
            "symbol": "circle"
           },
           "mode": "markers",
           "name": "New South Wales",
           "showlegend": true,
           "type": "scattergeo"
          },
          {
           "geo": "geo",
           "hovertemplate": "<b>%{hovertext}</b><br><br>region=Victoria<br>time=2023-12-02 23:00<br>temp_f=%{marker.size}<br>lat=%{lat}<br>lon=%{lon}<extra></extra>",
           "hovertext": [
            "Australia"
           ],
           "lat": [
            -37.81
           ],
           "legendgroup": "Victoria",
           "lon": [
            144.96
           ],
           "marker": {
            "color": "#FF6692",
            "size": [
             56.1
            ],
            "sizemode": "area",
            "sizeref": 0.23675000000000002,
            "symbol": "circle"
           },
           "mode": "markers",
           "name": "Victoria",
           "showlegend": true,
           "type": "scattergeo"
          },
          {
           "geo": "geo",
           "hovertemplate": "<b>%{hovertext}</b><br><br>region=Queensland<br>time=2023-12-02 23:00<br>temp_f=%{marker.size}<br>lat=%{lat}<br>lon=%{lon}<extra></extra>",
           "hovertext": [
            "Australia"
           ],
           "lat": [
            -27.47
           ],
           "legendgroup": "Queensland",
           "lon": [
            153.03
           ],
           "marker": {
            "color": "#B6E880",
            "size": [
             77
            ],
            "sizemode": "area",
            "sizeref": 0.23675000000000002,
            "symbol": "circle"
           },
           "mode": "markers",
           "name": "Queensland",
           "showlegend": true,
           "type": "scattergeo"
          }
         ],
         "name": "2023-12-02 23:00"
        },
        {
         "data": [
          {
           "geo": "geo",
           "hovertemplate": "<b>%{hovertext}</b><br><br>region=New York<br>time=2023-12-03 00:00<br>temp_f=%{marker.size}<br>lat=%{lat}<br>lon=%{lon}<extra></extra>",
           "hovertext": [
            "United States of America"
           ],
           "lat": [
            40.71
           ],
           "legendgroup": "New York",
           "lon": [
            -74.01
           ],
           "marker": {
            "color": "#636efa",
            "size": [
             51.6
            ],
            "sizemode": "area",
            "sizeref": 0.23675000000000002,
            "symbol": "circle"
           },
           "mode": "markers",
           "name": "New York",
           "showlegend": true,
           "type": "scattergeo"
          },
          {
           "geo": "geo",
           "hovertemplate": "<b>%{hovertext}</b><br><br>region=California<br>time=2023-12-03 00:00<br>temp_f=%{marker.size}<br>lat=%{lat}<br>lon=%{lon}<extra></extra>",
           "hovertext": [
            "United States of America"
           ],
           "lat": [
            34.05
           ],
           "legendgroup": "California",
           "lon": [
            -118.24
           ],
           "marker": {
            "color": "#EF553B",
            "size": [
             58.5
            ],
            "sizemode": "area",
            "sizeref": 0.23675000000000002,
            "symbol": "circle"
           },
           "mode": "markers",
           "name": "California",
           "showlegend": true,
           "type": "scattergeo"
          },
          {
           "geo": "geo",
           "hovertemplate": "<b>%{hovertext}</b><br><br>region=Ontario<br>time=2023-12-03 00:00<br>temp_f=%{marker.size}<br>lat=%{lat}<br>lon=%{lon}<extra></extra>",
           "hovertext": [
            "Canada"
           ],
           "lat": [
            43.65
           ],
           "legendgroup": "Ontario",
           "lon": [
            -79.38
           ],
           "marker": {
            "color": "#00cc96",
            "size": [
             38.2
            ],
            "sizemode": "area",
            "sizeref": 0.23675000000000002,
            "symbol": "circle"
           },
           "mode": "markers",
           "name": "Ontario",
           "showlegend": true,
           "type": "scattergeo"
          },
          {
           "geo": "geo",
           "hovertemplate": "<b>%{hovertext}</b><br><br>region=Sao Paulo<br>time=2023-12-03 00:00<br>temp_f=%{marker.size}<br>lat=%{lat}<br>lon=%{lon}<extra></extra>",
           "hovertext": [
            "Brazil"
           ],
           "lat": [
            -23.55
           ],
           "legendgroup": "Sao Paulo",
           "lon": [
            -46.63
           ],
           "marker": {
            "color": "#ab63fa",
            "size": [
             75.4
            ],
            "sizemode": "area",
            "sizeref": 0.23675000000000002,
            "symbol": "circle"
           },
           "mode": "markers",
           "name": "Sao Paulo",
           "showlegend": true,
           "type": "scattergeo"
          },
          {
           "geo": "geo",
           "hovertemplate": "<b>%{hovertext}</b><br><br>region=Buenos Aires<br>time=2023-12-03 00:00<br>temp_f=%{marker.size}<br>lat=%{lat}<br>lon=%{lon}<extra></extra>",
           "hovertext": [
            "Argentina"
           ],
           "lat": [
            -34.6
           ],
           "legendgroup": "Buenos Aires",
           "lon": [
            -58.38
           ],
           "marker": {
            "color": "#FFA15A",
            "size": [
             64.7
            ],
            "sizemode": "area",
            "sizeref": 0.23675000000000002,
            "symbol": "circle"
           },
           "mode": "markers",
           "name": "Buenos Aires",
           "showlegend": true,
           "type": "scattergeo"
          },
          {
           "geo": "geo",
           "hovertemplate": "<b>%{hovertext}</b><br><br>region=Cundinamarca<br>time=2023-12-03 00:00<br>temp_f=%{marker.size}<br>lat=%{lat}<br>lon=%{lon}<extra></extra>",
           "hovertext": [
            "Colombia"
           ],
           "lat": [
            4.71
           ],
           "legendgroup": "Cundinamarca",
           "lon": [
            -74.07
           ],
           "marker": {
            "color": "#19d3f3",
            "size": [
             49.6
            ],
            "sizemode": "area",
            "sizeref": 0.23675000000000002,
            "symbol": "circle"
           },
           "mode": "markers",
           "name": "Cundinamarca",
           "showlegend": true,
           "type": "scattergeo"
          },
          {
           "geo": "geo",
           "hovertemplate": "<b>%{hovertext}</b><br><br>region=City of London, Greater London<br>time=2023-12-03 00:00<br>temp_f=%{marker.size}<br>lat=%{lat}<br>lon=%{lon}<extra></extra>",
           "hovertext": [
            "United Kingdom"
           ],
           "lat": [
            51.51
           ],
           "legendgroup": "City of London, Greater London",
           "lon": [
            -0.13
           ],
           "marker": {
            "color": "#FF6692",
            "size": [
             33.3
            ],
            "sizemode": "area",
            "sizeref": 0.23675000000000002,
            "symbol": "circle"
           },
           "mode": "markers",
           "name": "City of London, Greater London",
           "showlegend": true,
           "type": "scattergeo"
          },
          {
           "geo": "geo",
           "hovertemplate": "<b>%{hovertext}</b><br><br>region=Ile-de-France<br>time=2023-12-03 00:00<br>temp_f=%{marker.size}<br>lat=%{lat}<br>lon=%{lon}<extra></extra>",
           "hovertext": [
            "France"
           ],
           "lat": [
            48.86
           ],
           "legendgroup": "Ile-de-France",
           "lon": [
            2.35
           ],
           "marker": {
            "color": "#B6E880",
            "size": [
             32.8
            ],
            "sizemode": "area",
            "sizeref": 0.23675000000000002,
            "symbol": "circle"
           },
           "mode": "markers",
           "name": "Ile-de-France",
           "showlegend": true,
           "type": "scattergeo"
          },
          {
           "geo": "geo",
           "hovertemplate": "<b>%{hovertext}</b><br><br>region=Berlin<br>time=2023-12-03 00:00<br>temp_f=%{marker.size}<br>lat=%{lat}<br>lon=%{lon}<extra></extra>",
           "hovertext": [
            "Germany"
           ],
           "lat": [
            52.52
           ],
           "legendgroup": "Berlin",
           "lon": [
            13.41
           ],
           "marker": {
            "color": "#FF97FF",
            "size": [
             28.6
            ],
            "sizemode": "area",
            "sizeref": 0.23675000000000002,
            "symbol": "circle"
           },
           "mode": "markers",
           "name": "Berlin",
           "showlegend": true,
           "type": "scattergeo"
          },
          {
           "geo": "geo",
           "hovertemplate": "<b>%{hovertext}</b><br><br>region=Tokyo<br>time=2023-12-03 00:00<br>temp_f=%{marker.size}<br>lat=%{lat}<br>lon=%{lon}<extra></extra>",
           "hovertext": [
            "Japan"
           ],
           "lat": [
            35.68
           ],
           "legendgroup": "Tokyo",
           "lon": [
            139.65
           ],
           "marker": {
            "color": "#FECB52",
            "size": [
             49.9
            ],
            "sizemode": "area",
            "sizeref": 0.23675000000000002,
            "symbol": "circle"
           },
           "mode": "markers",
           "name": "Tokyo",
           "showlegend": true,
           "type": "scattergeo"
          },
          {
           "geo": "geo",
           "hovertemplate": "<b>%{hovertext}</b><br><br>region=Beijing<br>time=2023-12-03 00:00<br>temp_f=%{marker.size}<br>lat=%{lat}<br>lon=%{lon}<extra></extra>",
           "hovertext": [
            "China"
           ],
           "lat": [
            39.9
           ],
           "legendgroup": "Beijing",
           "lon": [
            116.41
           ],
           "marker": {
            "color": "#636efa",
            "size": [
             34.5
            ],
            "sizemode": "area",
            "sizeref": 0.23675000000000002,
            "symbol": "circle"
           },
           "mode": "markers",
           "name": "Beijing",
           "showlegend": true,
           "type": "scattergeo"
          },
          {
           "geo": "geo",
           "hovertemplate": "<b>%{hovertext}</b><br><br>region=Maharashtra<br>time=2023-12-03 00:00<br>temp_f=%{marker.size}<br>lat=%{lat}<br>lon=%{lon}<extra></extra>",
           "hovertext": [
            "India"
           ],
           "lat": [
            19.08
           ],
           "legendgroup": "Maharashtra",
           "lon": [
            72.88
           ],
           "marker": {
            "color": "#EF553B",
            "size": [
             81.1
            ],
            "sizemode": "area",
            "sizeref": 0.23675000000000002,
            "symbol": "circle"
           },
           "mode": "markers",
           "name": "Maharashtra",
           "showlegend": true,
           "type": "scattergeo"
          },
          {
           "geo": "geo",
           "hovertemplate": "<b>%{hovertext}</b><br><br>region=Al Qahirah<br>time=2023-12-03 00:00<br>temp_f=%{marker.size}<br>lat=%{lat}<br>lon=%{lon}<extra></extra>",
           "hovertext": [
            "Egypt"
           ],
           "lat": [
            30.04
           ],
           "legendgroup": "Al Qahirah",
           "lon": [
            31.24
           ],
           "marker": {
            "color": "#00cc96",
            "size": [
             63.3
            ],
            "sizemode": "area",
            "sizeref": 0.23675000000000002,
            "symbol": "circle"
           },
           "mode": "markers",
           "name": "Al Qahirah",
           "showlegend": true,
           "type": "scattergeo"
          },
          {
           "geo": "geo",
           "hovertemplate": "<b>%{hovertext}</b><br><br>region=Lagos<br>time=2023-12-03 00:00<br>temp_f=%{marker.size}<br>lat=%{lat}<br>lon=%{lon}<extra></extra>",
           "hovertext": [
            "Nigeria"
           ],
           "lat": [
            6.52
           ],
           "legendgroup": "Lagos",
           "lon": [
            3.38
           ],
           "marker": {
            "color": "#ab63fa",
            "size": [
             82.6
            ],
            "sizemode": "area",
            "sizeref": 0.23675000000000002,
            "symbol": "circle"
           },
           "mode": "markers",
           "name": "Lagos",
           "showlegend": true,
           "type": "scattergeo"
          },
          {
           "geo": "geo",
           "hovertemplate": "<b>%{hovertext}</b><br><br>region=Gauteng<br>time=2023-12-03 00:00<br>temp_f=%{marker.size}<br>lat=%{lat}<br>lon=%{lon}<extra></extra>",
           "hovertext": [
            "South Africa"
           ],
           "lat": [
            -26.2
           ],
           "legendgroup": "Gauteng",
           "lon": [
            28.05
           ],
           "marker": {
            "color": "#FFA15A",
            "size": [
             73.8
            ],
            "sizemode": "area",
            "sizeref": 0.23675000000000002,
            "symbol": "circle"
           },
           "mode": "markers",
           "name": "Gauteng",
           "showlegend": true,
           "type": "scattergeo"
          },
          {
           "geo": "geo",
           "hovertemplate": "<b>%{hovertext}</b><br><br>region=New South Wales<br>time=2023-12-03 00:00<br>temp_f=%{marker.size}<br>lat=%{lat}<br>lon=%{lon}<extra></extra>",
           "hovertext": [
            "Australia"
           ],
           "lat": [
            -33.87
           ],
           "legendgroup": "New South Wales",
           "lon": [
            151.21
           ],
           "marker": {
            "color": "#19d3f3",
            "size": [
             65.9
            ],
            "sizemode": "area",
            "sizeref": 0.23675000000000002,
            "symbol": "circle"
           },
           "mode": "markers",
           "name": "New South Wales",
           "showlegend": true,
           "type": "scattergeo"
          },
          {
           "geo": "geo",
           "hovertemplate": "<b>%{hovertext}</b><br><br>region=Victoria<br>time=2023-12-03 00:00<br>temp_f=%{marker.size}<br>lat=%{lat}<br>lon=%{lon}<extra></extra>",
           "hovertext": [
            "Australia"
           ],
           "lat": [
            -37.81
           ],
           "legendgroup": "Victoria",
           "lon": [
            144.96
           ],
           "marker": {
            "color": "#FF6692",
            "size": [
             56.3
            ],
            "sizemode": "area",
            "sizeref": 0.23675000000000002,
            "symbol": "circle"
           },
           "mode": "markers",
           "name": "Victoria",
           "showlegend": true,
           "type": "scattergeo"
          },
          {
           "geo": "geo",
           "hovertemplate": "<b>%{hovertext}</b><br><br>region=Queensland<br>time=2023-12-03 00:00<br>temp_f=%{marker.size}<br>lat=%{lat}<br>lon=%{lon}<extra></extra>",
           "hovertext": [
            "Australia"
           ],
           "lat": [
            -27.47
           ],
           "legendgroup": "Queensland",
           "lon": [
            153.03
           ],
           "marker": {
            "color": "#B6E880",
            "size": [
             75.9
            ],
            "sizemode": "area",
            "sizeref": 0.23675000000000002,
            "symbol": "circle"
           },
           "mode": "markers",
           "name": "Queensland",
           "showlegend": true,
           "type": "scattergeo"
          }
         ],
         "name": "2023-12-03 00:00"
        },
        {
         "data": [
          {
           "geo": "geo",
           "hovertemplate": "<b>%{hovertext}</b><br><br>region=New York<br>time=2023-12-03 01:00<br>temp_f=%{marker.size}<br>lat=%{lat}<br>lon=%{lon}<extra></extra>",
           "hovertext": [
            "United States of America"
           ],
           "lat": [
            40.71
           ],
           "legendgroup": "New York",
           "lon": [
            -74.01
           ],
           "marker": {
            "color": "#636efa",
            "size": [
             51.4
            ],
            "sizemode": "area",
            "sizeref": 0.23675000000000002,
            "symbol": "circle"
           },
           "mode": "markers",
           "name": "New York",
           "showlegend": true,
           "type": "scattergeo"
          },
          {
           "geo": "geo",
           "hovertemplate": "<b>%{hovertext}</b><br><br>region=California<br>time=2023-12-03 01:00<br>temp_f=%{marker.size}<br>lat=%{lat}<br>lon=%{lon}<extra></extra>",
           "hovertext": [
            "United States of America"
           ],
           "lat": [
            34.05
           ],
           "legendgroup": "California",
           "lon": [
            -118.24
           ],
           "marker": {
            "color": "#EF553B",
            "size": [
             58.1
            ],
            "sizemode": "area",
            "sizeref": 0.23675000000000002,
            "symbol": "circle"
           },
           "mode": "markers",
           "name": "California",
           "showlegend": true,
           "type": "scattergeo"
          },
          {
           "geo": "geo",
           "hovertemplate": "<b>%{hovertext}</b><br><br>region=Ontario<br>time=2023-12-03 01:00<br>temp_f=%{marker.size}<br>lat=%{lat}<br>lon=%{lon}<extra></extra>",
           "hovertext": [
            "Canada"
           ],
           "lat": [
            43.65
           ],
           "legendgroup": "Ontario",
           "lon": [
            -79.38
           ],
           "marker": {
            "color": "#00cc96",
            "size": [
             38.2
            ],
            "sizemode": "area",
            "sizeref": 0.23675000000000002,
            "symbol": "circle"
           },
           "mode": "markers",
           "name": "Ontario",
           "showlegend": true,
           "type": "scattergeo"
          },
          {
           "geo": "geo",
           "hovertemplate": "<b>%{hovertext}</b><br><br>region=Sao Paulo<br>time=2023-12-03 01:00<br>temp_f=%{marker.size}<br>lat=%{lat}<br>lon=%{lon}<extra></extra>",
           "hovertext": [
            "Brazil"
           ],
           "lat": [
            -23.55
           ],
           "legendgroup": "Sao Paulo",
           "lon": [
            -46.63
           ],
           "marker": {
            "color": "#ab63fa",
            "size": [
             74.5
            ],
            "sizemode": "area",
            "sizeref": 0.23675000000000002,
            "symbol": "circle"
           },
           "mode": "markers",
           "name": "Sao Paulo",
           "showlegend": true,
           "type": "scattergeo"
          },
          {
           "geo": "geo",
           "hovertemplate": "<b>%{hovertext}</b><br><br>region=Buenos Aires<br>time=2023-12-03 01:00<br>temp_f=%{marker.size}<br>lat=%{lat}<br>lon=%{lon}<extra></extra>",
           "hovertext": [
            "Argentina"
           ],
           "lat": [
            -34.6
           ],
           "legendgroup": "Buenos Aires",
           "lon": [
            -58.38
           ],
           "marker": {
            "color": "#FFA15A",
            "size": [
             62.5
            ],
            "sizemode": "area",
            "sizeref": 0.23675000000000002,
            "symbol": "circle"
           },
           "mode": "markers",
           "name": "Buenos Aires",
           "showlegend": true,
           "type": "scattergeo"
          },
          {
           "geo": "geo",
           "hovertemplate": "<b>%{hovertext}</b><br><br>region=Cundinamarca<br>time=2023-12-03 01:00<br>temp_f=%{marker.size}<br>lat=%{lat}<br>lon=%{lon}<extra></extra>",
           "hovertext": [
            "Colombia"
           ],
           "lat": [
            4.71
           ],
           "legendgroup": "Cundinamarca",
           "lon": [
            -74.07
           ],
           "marker": {
            "color": "#19d3f3",
            "size": [
             48.7
            ],
            "sizemode": "area",
            "sizeref": 0.23675000000000002,
            "symbol": "circle"
           },
           "mode": "markers",
           "name": "Cundinamarca",
           "showlegend": true,
           "type": "scattergeo"
          },
          {
           "geo": "geo",
           "hovertemplate": "<b>%{hovertext}</b><br><br>region=City of London, Greater London<br>time=2023-12-03 01:00<br>temp_f=%{marker.size}<br>lat=%{lat}<br>lon=%{lon}<extra></extra>",
           "hovertext": [
            "United Kingdom"
           ],
           "lat": [
            51.51
           ],
           "legendgroup": "City of London, Greater London",
           "lon": [
            -0.13
           ],
           "marker": {
            "color": "#FF6692",
            "size": [
             33.7
            ],
            "sizemode": "area",
            "sizeref": 0.23675000000000002,
            "symbol": "circle"
           },
           "mode": "markers",
           "name": "City of London, Greater London",
           "showlegend": true,
           "type": "scattergeo"
          },
          {
           "geo": "geo",
           "hovertemplate": "<b>%{hovertext}</b><br><br>region=Ile-de-France<br>time=2023-12-03 01:00<br>temp_f=%{marker.size}<br>lat=%{lat}<br>lon=%{lon}<extra></extra>",
           "hovertext": [
            "France"
           ],
           "lat": [
            48.86
           ],
           "legendgroup": "Ile-de-France",
           "lon": [
            2.35
           ],
           "marker": {
            "color": "#B6E880",
            "size": [
             32.5
            ],
            "sizemode": "area",
            "sizeref": 0.23675000000000002,
            "symbol": "circle"
           },
           "mode": "markers",
           "name": "Ile-de-France",
           "showlegend": true,
           "type": "scattergeo"
          },
          {
           "geo": "geo",
           "hovertemplate": "<b>%{hovertext}</b><br><br>region=Berlin<br>time=2023-12-03 01:00<br>temp_f=%{marker.size}<br>lat=%{lat}<br>lon=%{lon}<extra></extra>",
           "hovertext": [
            "Germany"
           ],
           "lat": [
            52.52
           ],
           "legendgroup": "Berlin",
           "lon": [
            13.41
           ],
           "marker": {
            "color": "#FF97FF",
            "size": [
             28.7
            ],
            "sizemode": "area",
            "sizeref": 0.23675000000000002,
            "symbol": "circle"
           },
           "mode": "markers",
           "name": "Berlin",
           "showlegend": true,
           "type": "scattergeo"
          },
          {
           "geo": "geo",
           "hovertemplate": "<b>%{hovertext}</b><br><br>region=Tokyo<br>time=2023-12-03 01:00<br>temp_f=%{marker.size}<br>lat=%{lat}<br>lon=%{lon}<extra></extra>",
           "hovertext": [
            "Japan"
           ],
           "lat": [
            35.68
           ],
           "legendgroup": "Tokyo",
           "lon": [
            139.65
           ],
           "marker": {
            "color": "#FECB52",
            "size": [
             49.4
            ],
            "sizemode": "area",
            "sizeref": 0.23675000000000002,
            "symbol": "circle"
           },
           "mode": "markers",
           "name": "Tokyo",
           "showlegend": true,
           "type": "scattergeo"
          },
          {
           "geo": "geo",
           "hovertemplate": "<b>%{hovertext}</b><br><br>region=Beijing<br>time=2023-12-03 01:00<br>temp_f=%{marker.size}<br>lat=%{lat}<br>lon=%{lon}<extra></extra>",
           "hovertext": [
            "China"
           ],
           "lat": [
            39.9
           ],
           "legendgroup": "Beijing",
           "lon": [
            116.41
           ],
           "marker": {
            "color": "#636efa",
            "size": [
             34
            ],
            "sizemode": "area",
            "sizeref": 0.23675000000000002,
            "symbol": "circle"
           },
           "mode": "markers",
           "name": "Beijing",
           "showlegend": true,
           "type": "scattergeo"
          },
          {
           "geo": "geo",
           "hovertemplate": "<b>%{hovertext}</b><br><br>region=Maharashtra<br>time=2023-12-03 01:00<br>temp_f=%{marker.size}<br>lat=%{lat}<br>lon=%{lon}<extra></extra>",
           "hovertext": [
            "India"
           ],
           "lat": [
            19.08
           ],
           "legendgroup": "Maharashtra",
           "lon": [
            72.88
           ],
           "marker": {
            "color": "#EF553B",
            "size": [
             80.8
            ],
            "sizemode": "area",
            "sizeref": 0.23675000000000002,
            "symbol": "circle"
           },
           "mode": "markers",
           "name": "Maharashtra",
           "showlegend": true,
           "type": "scattergeo"
          },
          {
           "geo": "geo",
           "hovertemplate": "<b>%{hovertext}</b><br><br>region=Al Qahirah<br>time=2023-12-03 01:00<br>temp_f=%{marker.size}<br>lat=%{lat}<br>lon=%{lon}<extra></extra>",
           "hovertext": [
            "Egypt"
           ],
           "lat": [
            30.04
           ],
           "legendgroup": "Al Qahirah",
           "lon": [
            31.24
           ],
           "marker": {
            "color": "#00cc96",
            "size": [
             62.7
            ],
            "sizemode": "area",
            "sizeref": 0.23675000000000002,
            "symbol": "circle"
           },
           "mode": "markers",
           "name": "Al Qahirah",
           "showlegend": true,
           "type": "scattergeo"
          },
          {
           "geo": "geo",
           "hovertemplate": "<b>%{hovertext}</b><br><br>region=Lagos<br>time=2023-12-03 01:00<br>temp_f=%{marker.size}<br>lat=%{lat}<br>lon=%{lon}<extra></extra>",
           "hovertext": [
            "Nigeria"
           ],
           "lat": [
            6.52
           ],
           "legendgroup": "Lagos",
           "lon": [
            3.38
           ],
           "marker": {
            "color": "#ab63fa",
            "size": [
             82.2
            ],
            "sizemode": "area",
            "sizeref": 0.23675000000000002,
            "symbol": "circle"
           },
           "mode": "markers",
           "name": "Lagos",
           "showlegend": true,
           "type": "scattergeo"
          },
          {
           "geo": "geo",
           "hovertemplate": "<b>%{hovertext}</b><br><br>region=Gauteng<br>time=2023-12-03 01:00<br>temp_f=%{marker.size}<br>lat=%{lat}<br>lon=%{lon}<extra></extra>",
           "hovertext": [
            "South Africa"
           ],
           "lat": [
            -26.2
           ],
           "legendgroup": "Gauteng",
           "lon": [
            28.05
           ],
           "marker": {
            "color": "#FFA15A",
            "size": [
             71.5
            ],
            "sizemode": "area",
            "sizeref": 0.23675000000000002,
            "symbol": "circle"
           },
           "mode": "markers",
           "name": "Gauteng",
           "showlegend": true,
           "type": "scattergeo"
          },
          {
           "geo": "geo",
           "hovertemplate": "<b>%{hovertext}</b><br><br>region=New South Wales<br>time=2023-12-03 01:00<br>temp_f=%{marker.size}<br>lat=%{lat}<br>lon=%{lon}<extra></extra>",
           "hovertext": [
            "Australia"
           ],
           "lat": [
            -33.87
           ],
           "legendgroup": "New South Wales",
           "lon": [
            151.21
           ],
           "marker": {
            "color": "#19d3f3",
            "size": [
             64.9
            ],
            "sizemode": "area",
            "sizeref": 0.23675000000000002,
            "symbol": "circle"
           },
           "mode": "markers",
           "name": "New South Wales",
           "showlegend": true,
           "type": "scattergeo"
          },
          {
           "geo": "geo",
           "hovertemplate": "<b>%{hovertext}</b><br><br>region=Victoria<br>time=2023-12-03 01:00<br>temp_f=%{marker.size}<br>lat=%{lat}<br>lon=%{lon}<extra></extra>",
           "hovertext": [
            "Australia"
           ],
           "lat": [
            -37.81
           ],
           "legendgroup": "Victoria",
           "lon": [
            144.96
           ],
           "marker": {
            "color": "#FF6692",
            "size": [
             56.2
            ],
            "sizemode": "area",
            "sizeref": 0.23675000000000002,
            "symbol": "circle"
           },
           "mode": "markers",
           "name": "Victoria",
           "showlegend": true,
           "type": "scattergeo"
          },
          {
           "geo": "geo",
           "hovertemplate": "<b>%{hovertext}</b><br><br>region=Queensland<br>time=2023-12-03 01:00<br>temp_f=%{marker.size}<br>lat=%{lat}<br>lon=%{lon}<extra></extra>",
           "hovertext": [
            "Australia"
           ],
           "lat": [
            -27.47
           ],
           "legendgroup": "Queensland",
           "lon": [
            153.03
           ],
           "marker": {
            "color": "#B6E880",
            "size": [
             74.7
            ],
            "sizemode": "area",
            "sizeref": 0.23675000000000002,
            "symbol": "circle"
           },
           "mode": "markers",
           "name": "Queensland",
           "showlegend": true,
           "type": "scattergeo"
          }
         ],
         "name": "2023-12-03 01:00"
        },
        {
         "data": [
          {
           "geo": "geo",
           "hovertemplate": "<b>%{hovertext}</b><br><br>region=New York<br>time=2023-12-03 02:00<br>temp_f=%{marker.size}<br>lat=%{lat}<br>lon=%{lon}<extra></extra>",
           "hovertext": [
            "United States of America"
           ],
           "lat": [
            40.71
           ],
           "legendgroup": "New York",
           "lon": [
            -74.01
           ],
           "marker": {
            "color": "#636efa",
            "size": [
             45.1
            ],
            "sizemode": "area",
            "sizeref": 0.23675000000000002,
            "symbol": "circle"
           },
           "mode": "markers",
           "name": "New York",
           "showlegend": true,
           "type": "scattergeo"
          },
          {
           "geo": "geo",
           "hovertemplate": "<b>%{hovertext}</b><br><br>region=California<br>time=2023-12-03 02:00<br>temp_f=%{marker.size}<br>lat=%{lat}<br>lon=%{lon}<extra></extra>",
           "hovertext": [
            "United States of America"
           ],
           "lat": [
            34.05
           ],
           "legendgroup": "California",
           "lon": [
            -118.24
           ],
           "marker": {
            "color": "#EF553B",
            "size": [
             53.4
            ],
            "sizemode": "area",
            "sizeref": 0.23675000000000002,
            "symbol": "circle"
           },
           "mode": "markers",
           "name": "California",
           "showlegend": true,
           "type": "scattergeo"
          },
          {
           "geo": "geo",
           "hovertemplate": "<b>%{hovertext}</b><br><br>region=Ontario<br>time=2023-12-03 02:00<br>temp_f=%{marker.size}<br>lat=%{lat}<br>lon=%{lon}<extra></extra>",
           "hovertext": [
            "Canada"
           ],
           "lat": [
            43.65
           ],
           "legendgroup": "Ontario",
           "lon": [
            -79.38
           ],
           "marker": {
            "color": "#00cc96",
            "size": [
             36.3
            ],
            "sizemode": "area",
            "sizeref": 0.23675000000000002,
            "symbol": "circle"
           },
           "mode": "markers",
           "name": "Ontario",
           "showlegend": true,
           "type": "scattergeo"
          },
          {
           "geo": "geo",
           "hovertemplate": "<b>%{hovertext}</b><br><br>region=Sao Paulo<br>time=2023-12-03 02:00<br>temp_f=%{marker.size}<br>lat=%{lat}<br>lon=%{lon}<extra></extra>",
           "hovertext": [
            "Brazil"
           ],
           "lat": [
            -23.55
           ],
           "legendgroup": "Sao Paulo",
           "lon": [
            -46.63
           ],
           "marker": {
            "color": "#ab63fa",
            "size": [
             73.6
            ],
            "sizemode": "area",
            "sizeref": 0.23675000000000002,
            "symbol": "circle"
           },
           "mode": "markers",
           "name": "Sao Paulo",
           "showlegend": true,
           "type": "scattergeo"
          },
          {
           "geo": "geo",
           "hovertemplate": "<b>%{hovertext}</b><br><br>region=Buenos Aires<br>time=2023-12-03 02:00<br>temp_f=%{marker.size}<br>lat=%{lat}<br>lon=%{lon}<extra></extra>",
           "hovertext": [
            "Argentina"
           ],
           "lat": [
            -34.6
           ],
           "legendgroup": "Buenos Aires",
           "lon": [
            -58.38
           ],
           "marker": {
            "color": "#FFA15A",
            "size": [
             61.5
            ],
            "sizemode": "area",
            "sizeref": 0.23675000000000002,
            "symbol": "circle"
           },
           "mode": "markers",
           "name": "Buenos Aires",
           "showlegend": true,
           "type": "scattergeo"
          },
          {
           "geo": "geo",
           "hovertemplate": "<b>%{hovertext}</b><br><br>region=Cundinamarca<br>time=2023-12-03 02:00<br>temp_f=%{marker.size}<br>lat=%{lat}<br>lon=%{lon}<extra></extra>",
           "hovertext": [
            "Colombia"
           ],
           "lat": [
            4.71
           ],
           "legendgroup": "Cundinamarca",
           "lon": [
            -74.07
           ],
           "marker": {
            "color": "#19d3f3",
            "size": [
             48
            ],
            "sizemode": "area",
            "sizeref": 0.23675000000000002,
            "symbol": "circle"
           },
           "mode": "markers",
           "name": "Cundinamarca",
           "showlegend": true,
           "type": "scattergeo"
          },
          {
           "geo": "geo",
           "hovertemplate": "<b>%{hovertext}</b><br><br>region=City of London, Greater London<br>time=2023-12-03 02:00<br>temp_f=%{marker.size}<br>lat=%{lat}<br>lon=%{lon}<extra></extra>",
           "hovertext": [
            "United Kingdom"
           ],
           "lat": [
            51.51
           ],
           "legendgroup": "City of London, Greater London",
           "lon": [
            -0.13
           ],
           "marker": {
            "color": "#FF6692",
            "size": [
             34.8
            ],
            "sizemode": "area",
            "sizeref": 0.23675000000000002,
            "symbol": "circle"
           },
           "mode": "markers",
           "name": "City of London, Greater London",
           "showlegend": true,
           "type": "scattergeo"
          },
          {
           "geo": "geo",
           "hovertemplate": "<b>%{hovertext}</b><br><br>region=Ile-de-France<br>time=2023-12-03 02:00<br>temp_f=%{marker.size}<br>lat=%{lat}<br>lon=%{lon}<extra></extra>",
           "hovertext": [
            "France"
           ],
           "lat": [
            48.86
           ],
           "legendgroup": "Ile-de-France",
           "lon": [
            2.35
           ],
           "marker": {
            "color": "#B6E880",
            "size": [
             32.2
            ],
            "sizemode": "area",
            "sizeref": 0.23675000000000002,
            "symbol": "circle"
           },
           "mode": "markers",
           "name": "Ile-de-France",
           "showlegend": true,
           "type": "scattergeo"
          },
          {
           "geo": "geo",
           "hovertemplate": "<b>%{hovertext}</b><br><br>region=Berlin<br>time=2023-12-03 02:00<br>temp_f=%{marker.size}<br>lat=%{lat}<br>lon=%{lon}<extra></extra>",
           "hovertext": [
            "Germany"
           ],
           "lat": [
            52.52
           ],
           "legendgroup": "Berlin",
           "lon": [
            13.41
           ],
           "marker": {
            "color": "#FF97FF",
            "size": [
             27.9
            ],
            "sizemode": "area",
            "sizeref": 0.23675000000000002,
            "symbol": "circle"
           },
           "mode": "markers",
           "name": "Berlin",
           "showlegend": true,
           "type": "scattergeo"
          },
          {
           "geo": "geo",
           "hovertemplate": "<b>%{hovertext}</b><br><br>region=Tokyo<br>time=2023-12-03 02:00<br>temp_f=%{marker.size}<br>lat=%{lat}<br>lon=%{lon}<extra></extra>",
           "hovertext": [
            "Japan"
           ],
           "lat": [
            35.68
           ],
           "legendgroup": "Tokyo",
           "lon": [
            139.65
           ],
           "marker": {
            "color": "#FECB52",
            "size": [
             48.8
            ],
            "sizemode": "area",
            "sizeref": 0.23675000000000002,
            "symbol": "circle"
           },
           "mode": "markers",
           "name": "Tokyo",
           "showlegend": true,
           "type": "scattergeo"
          },
          {
           "geo": "geo",
           "hovertemplate": "<b>%{hovertext}</b><br><br>region=Beijing<br>time=2023-12-03 02:00<br>temp_f=%{marker.size}<br>lat=%{lat}<br>lon=%{lon}<extra></extra>",
           "hovertext": [
            "China"
           ],
           "lat": [
            39.9
           ],
           "legendgroup": "Beijing",
           "lon": [
            116.41
           ],
           "marker": {
            "color": "#636efa",
            "size": [
             33.5
            ],
            "sizemode": "area",
            "sizeref": 0.23675000000000002,
            "symbol": "circle"
           },
           "mode": "markers",
           "name": "Beijing",
           "showlegend": true,
           "type": "scattergeo"
          },
          {
           "geo": "geo",
           "hovertemplate": "<b>%{hovertext}</b><br><br>region=Maharashtra<br>time=2023-12-03 02:00<br>temp_f=%{marker.size}<br>lat=%{lat}<br>lon=%{lon}<extra></extra>",
           "hovertext": [
            "India"
           ],
           "lat": [
            19.08
           ],
           "legendgroup": "Maharashtra",
           "lon": [
            72.88
           ],
           "marker": {
            "color": "#EF553B",
            "size": [
             80.6
            ],
            "sizemode": "area",
            "sizeref": 0.23675000000000002,
            "symbol": "circle"
           },
           "mode": "markers",
           "name": "Maharashtra",
           "showlegend": true,
           "type": "scattergeo"
          },
          {
           "geo": "geo",
           "hovertemplate": "<b>%{hovertext}</b><br><br>region=Al Qahirah<br>time=2023-12-03 02:00<br>temp_f=%{marker.size}<br>lat=%{lat}<br>lon=%{lon}<extra></extra>",
           "hovertext": [
            "Egypt"
           ],
           "lat": [
            30.04
           ],
           "legendgroup": "Al Qahirah",
           "lon": [
            31.24
           ],
           "marker": {
            "color": "#00cc96",
            "size": [
             62.1
            ],
            "sizemode": "area",
            "sizeref": 0.23675000000000002,
            "symbol": "circle"
           },
           "mode": "markers",
           "name": "Al Qahirah",
           "showlegend": true,
           "type": "scattergeo"
          },
          {
           "geo": "geo",
           "hovertemplate": "<b>%{hovertext}</b><br><br>region=Lagos<br>time=2023-12-03 02:00<br>temp_f=%{marker.size}<br>lat=%{lat}<br>lon=%{lon}<extra></extra>",
           "hovertext": [
            "Nigeria"
           ],
           "lat": [
            6.52
           ],
           "legendgroup": "Lagos",
           "lon": [
            3.38
           ],
           "marker": {
            "color": "#ab63fa",
            "size": [
             82
            ],
            "sizemode": "area",
            "sizeref": 0.23675000000000002,
            "symbol": "circle"
           },
           "mode": "markers",
           "name": "Lagos",
           "showlegend": true,
           "type": "scattergeo"
          },
          {
           "geo": "geo",
           "hovertemplate": "<b>%{hovertext}</b><br><br>region=Gauteng<br>time=2023-12-03 02:00<br>temp_f=%{marker.size}<br>lat=%{lat}<br>lon=%{lon}<extra></extra>",
           "hovertext": [
            "South Africa"
           ],
           "lat": [
            -26.2
           ],
           "legendgroup": "Gauteng",
           "lon": [
            28.05
           ],
           "marker": {
            "color": "#FFA15A",
            "size": [
             69.9
            ],
            "sizemode": "area",
            "sizeref": 0.23675000000000002,
            "symbol": "circle"
           },
           "mode": "markers",
           "name": "Gauteng",
           "showlegend": true,
           "type": "scattergeo"
          },
          {
           "geo": "geo",
           "hovertemplate": "<b>%{hovertext}</b><br><br>region=New South Wales<br>time=2023-12-03 02:00<br>temp_f=%{marker.size}<br>lat=%{lat}<br>lon=%{lon}<extra></extra>",
           "hovertext": [
            "Australia"
           ],
           "lat": [
            -33.87
           ],
           "legendgroup": "New South Wales",
           "lon": [
            151.21
           ],
           "marker": {
            "color": "#19d3f3",
            "size": [
             64.1
            ],
            "sizemode": "area",
            "sizeref": 0.23675000000000002,
            "symbol": "circle"
           },
           "mode": "markers",
           "name": "New South Wales",
           "showlegend": true,
           "type": "scattergeo"
          },
          {
           "geo": "geo",
           "hovertemplate": "<b>%{hovertext}</b><br><br>region=Victoria<br>time=2023-12-03 02:00<br>temp_f=%{marker.size}<br>lat=%{lat}<br>lon=%{lon}<extra></extra>",
           "hovertext": [
            "Australia"
           ],
           "lat": [
            -37.81
           ],
           "legendgroup": "Victoria",
           "lon": [
            144.96
           ],
           "marker": {
            "color": "#FF6692",
            "size": [
             56.2
            ],
            "sizemode": "area",
            "sizeref": 0.23675000000000002,
            "symbol": "circle"
           },
           "mode": "markers",
           "name": "Victoria",
           "showlegend": true,
           "type": "scattergeo"
          },
          {
           "geo": "geo",
           "hovertemplate": "<b>%{hovertext}</b><br><br>region=Queensland<br>time=2023-12-03 02:00<br>temp_f=%{marker.size}<br>lat=%{lat}<br>lon=%{lon}<extra></extra>",
           "hovertext": [
            "Australia"
           ],
           "lat": [
            -27.47
           ],
           "legendgroup": "Queensland",
           "lon": [
            153.03
           ],
           "marker": {
            "color": "#B6E880",
            "size": [
             73.5
            ],
            "sizemode": "area",
            "sizeref": 0.23675000000000002,
            "symbol": "circle"
           },
           "mode": "markers",
           "name": "Queensland",
           "showlegend": true,
           "type": "scattergeo"
          }
         ],
         "name": "2023-12-03 02:00"
        },
        {
         "data": [
          {
           "geo": "geo",
           "hovertemplate": "<b>%{hovertext}</b><br><br>region=New York<br>time=2023-12-03 03:00<br>temp_f=%{marker.size}<br>lat=%{lat}<br>lon=%{lon}<extra></extra>",
           "hovertext": [
            "United States of America"
           ],
           "lat": [
            40.71
           ],
           "legendgroup": "New York",
           "lon": [
            -74.01
           ],
           "marker": {
            "color": "#636efa",
            "size": [
             51
            ],
            "sizemode": "area",
            "sizeref": 0.23675000000000002,
            "symbol": "circle"
           },
           "mode": "markers",
           "name": "New York",
           "showlegend": true,
           "type": "scattergeo"
          },
          {
           "geo": "geo",
           "hovertemplate": "<b>%{hovertext}</b><br><br>region=California<br>time=2023-12-03 03:00<br>temp_f=%{marker.size}<br>lat=%{lat}<br>lon=%{lon}<extra></extra>",
           "hovertext": [
            "United States of America"
           ],
           "lat": [
            34.05
           ],
           "legendgroup": "California",
           "lon": [
            -118.24
           ],
           "marker": {
            "color": "#EF553B",
            "size": [
             57.3
            ],
            "sizemode": "area",
            "sizeref": 0.23675000000000002,
            "symbol": "circle"
           },
           "mode": "markers",
           "name": "California",
           "showlegend": true,
           "type": "scattergeo"
          },
          {
           "geo": "geo",
           "hovertemplate": "<b>%{hovertext}</b><br><br>region=Ontario<br>time=2023-12-03 03:00<br>temp_f=%{marker.size}<br>lat=%{lat}<br>lon=%{lon}<extra></extra>",
           "hovertext": [
            "Canada"
           ],
           "lat": [
            43.65
           ],
           "legendgroup": "Ontario",
           "lon": [
            -79.38
           ],
           "marker": {
            "color": "#00cc96",
            "size": [
             38.1
            ],
            "sizemode": "area",
            "sizeref": 0.23675000000000002,
            "symbol": "circle"
           },
           "mode": "markers",
           "name": "Ontario",
           "showlegend": true,
           "type": "scattergeo"
          },
          {
           "geo": "geo",
           "hovertemplate": "<b>%{hovertext}</b><br><br>region=Sao Paulo<br>time=2023-12-03 03:00<br>temp_f=%{marker.size}<br>lat=%{lat}<br>lon=%{lon}<extra></extra>",
           "hovertext": [
            "Brazil"
           ],
           "lat": [
            -23.55
           ],
           "legendgroup": "Sao Paulo",
           "lon": [
            -46.63
           ],
           "marker": {
            "color": "#ab63fa",
            "size": [
             72.6
            ],
            "sizemode": "area",
            "sizeref": 0.23675000000000002,
            "symbol": "circle"
           },
           "mode": "markers",
           "name": "Sao Paulo",
           "showlegend": true,
           "type": "scattergeo"
          },
          {
           "geo": "geo",
           "hovertemplate": "<b>%{hovertext}</b><br><br>region=Buenos Aires<br>time=2023-12-03 03:00<br>temp_f=%{marker.size}<br>lat=%{lat}<br>lon=%{lon}<extra></extra>",
           "hovertext": [
            "Argentina"
           ],
           "lat": [
            -34.6
           ],
           "legendgroup": "Buenos Aires",
           "lon": [
            -58.38
           ],
           "marker": {
            "color": "#FFA15A",
            "size": [
             61.2
            ],
            "sizemode": "area",
            "sizeref": 0.23675000000000002,
            "symbol": "circle"
           },
           "mode": "markers",
           "name": "Buenos Aires",
           "showlegend": true,
           "type": "scattergeo"
          },
          {
           "geo": "geo",
           "hovertemplate": "<b>%{hovertext}</b><br><br>region=Cundinamarca<br>time=2023-12-03 03:00<br>temp_f=%{marker.size}<br>lat=%{lat}<br>lon=%{lon}<extra></extra>",
           "hovertext": [
            "Colombia"
           ],
           "lat": [
            4.71
           ],
           "legendgroup": "Cundinamarca",
           "lon": [
            -74.07
           ],
           "marker": {
            "color": "#19d3f3",
            "size": [
             46.5
            ],
            "sizemode": "area",
            "sizeref": 0.23675000000000002,
            "symbol": "circle"
           },
           "mode": "markers",
           "name": "Cundinamarca",
           "showlegend": true,
           "type": "scattergeo"
          },
          {
           "geo": "geo",
           "hovertemplate": "<b>%{hovertext}</b><br><br>region=City of London, Greater London<br>time=2023-12-03 03:00<br>temp_f=%{marker.size}<br>lat=%{lat}<br>lon=%{lon}<extra></extra>",
           "hovertext": [
            "United Kingdom"
           ],
           "lat": [
            51.51
           ],
           "legendgroup": "City of London, Greater London",
           "lon": [
            -0.13
           ],
           "marker": {
            "color": "#FF6692",
            "size": [
             36.3
            ],
            "sizemode": "area",
            "sizeref": 0.23675000000000002,
            "symbol": "circle"
           },
           "mode": "markers",
           "name": "City of London, Greater London",
           "showlegend": true,
           "type": "scattergeo"
          },
          {
           "geo": "geo",
           "hovertemplate": "<b>%{hovertext}</b><br><br>region=Ile-de-France<br>time=2023-12-03 03:00<br>temp_f=%{marker.size}<br>lat=%{lat}<br>lon=%{lon}<extra></extra>",
           "hovertext": [
            "France"
           ],
           "lat": [
            48.86
           ],
           "legendgroup": "Ile-de-France",
           "lon": [
            2.35
           ],
           "marker": {
            "color": "#B6E880",
            "size": [
             32.1
            ],
            "sizemode": "area",
            "sizeref": 0.23675000000000002,
            "symbol": "circle"
           },
           "mode": "markers",
           "name": "Ile-de-France",
           "showlegend": true,
           "type": "scattergeo"
          },
          {
           "geo": "geo",
           "hovertemplate": "<b>%{hovertext}</b><br><br>region=Berlin<br>time=2023-12-03 03:00<br>temp_f=%{marker.size}<br>lat=%{lat}<br>lon=%{lon}<extra></extra>",
           "hovertext": [
            "Germany"
           ],
           "lat": [
            52.52
           ],
           "legendgroup": "Berlin",
           "lon": [
            13.41
           ],
           "marker": {
            "color": "#FF97FF",
            "size": [
             26.8
            ],
            "sizemode": "area",
            "sizeref": 0.23675000000000002,
            "symbol": "circle"
           },
           "mode": "markers",
           "name": "Berlin",
           "showlegend": true,
           "type": "scattergeo"
          },
          {
           "geo": "geo",
           "hovertemplate": "<b>%{hovertext}</b><br><br>region=Tokyo<br>time=2023-12-03 03:00<br>temp_f=%{marker.size}<br>lat=%{lat}<br>lon=%{lon}<extra></extra>",
           "hovertext": [
            "Japan"
           ],
           "lat": [
            35.68
           ],
           "legendgroup": "Tokyo",
           "lon": [
            139.65
           ],
           "marker": {
            "color": "#FECB52",
            "size": [
             48.2
            ],
            "sizemode": "area",
            "sizeref": 0.23675000000000002,
            "symbol": "circle"
           },
           "mode": "markers",
           "name": "Tokyo",
           "showlegend": true,
           "type": "scattergeo"
          },
          {
           "geo": "geo",
           "hovertemplate": "<b>%{hovertext}</b><br><br>region=Beijing<br>time=2023-12-03 03:00<br>temp_f=%{marker.size}<br>lat=%{lat}<br>lon=%{lon}<extra></extra>",
           "hovertext": [
            "China"
           ],
           "lat": [
            39.9
           ],
           "legendgroup": "Beijing",
           "lon": [
            116.41
           ],
           "marker": {
            "color": "#636efa",
            "size": [
             33.1
            ],
            "sizemode": "area",
            "sizeref": 0.23675000000000002,
            "symbol": "circle"
           },
           "mode": "markers",
           "name": "Beijing",
           "showlegend": true,
           "type": "scattergeo"
          },
          {
           "geo": "geo",
           "hovertemplate": "<b>%{hovertext}</b><br><br>region=Maharashtra<br>time=2023-12-03 03:00<br>temp_f=%{marker.size}<br>lat=%{lat}<br>lon=%{lon}<extra></extra>",
           "hovertext": [
            "India"
           ],
           "lat": [
            19.08
           ],
           "legendgroup": "Maharashtra",
           "lon": [
            72.88
           ],
           "marker": {
            "color": "#EF553B",
            "size": [
             80.3
            ],
            "sizemode": "area",
            "sizeref": 0.23675000000000002,
            "symbol": "circle"
           },
           "mode": "markers",
           "name": "Maharashtra",
           "showlegend": true,
           "type": "scattergeo"
          },
          {
           "geo": "geo",
           "hovertemplate": "<b>%{hovertext}</b><br><br>region=Al Qahirah<br>time=2023-12-03 03:00<br>temp_f=%{marker.size}<br>lat=%{lat}<br>lon=%{lon}<extra></extra>",
           "hovertext": [
            "Egypt"
           ],
           "lat": [
            30.04
           ],
           "legendgroup": "Al Qahirah",
           "lon": [
            31.24
           ],
           "marker": {
            "color": "#00cc96",
            "size": [
             61.6
            ],
            "sizemode": "area",
            "sizeref": 0.23675000000000002,
            "symbol": "circle"
           },
           "mode": "markers",
           "name": "Al Qahirah",
           "showlegend": true,
           "type": "scattergeo"
          },
          {
           "geo": "geo",
           "hovertemplate": "<b>%{hovertext}</b><br><br>region=Lagos<br>time=2023-12-03 03:00<br>temp_f=%{marker.size}<br>lat=%{lat}<br>lon=%{lon}<extra></extra>",
           "hovertext": [
            "Nigeria"
           ],
           "lat": [
            6.52
           ],
           "legendgroup": "Lagos",
           "lon": [
            3.38
           ],
           "marker": {
            "color": "#ab63fa",
            "size": [
             81.8
            ],
            "sizemode": "area",
            "sizeref": 0.23675000000000002,
            "symbol": "circle"
           },
           "mode": "markers",
           "name": "Lagos",
           "showlegend": true,
           "type": "scattergeo"
          },
          {
           "geo": "geo",
           "hovertemplate": "<b>%{hovertext}</b><br><br>region=Gauteng<br>time=2023-12-03 03:00<br>temp_f=%{marker.size}<br>lat=%{lat}<br>lon=%{lon}<extra></extra>",
           "hovertext": [
            "South Africa"
           ],
           "lat": [
            -26.2
           ],
           "legendgroup": "Gauteng",
           "lon": [
            28.05
           ],
           "marker": {
            "color": "#FFA15A",
            "size": [
             68.6
            ],
            "sizemode": "area",
            "sizeref": 0.23675000000000002,
            "symbol": "circle"
           },
           "mode": "markers",
           "name": "Gauteng",
           "showlegend": true,
           "type": "scattergeo"
          },
          {
           "geo": "geo",
           "hovertemplate": "<b>%{hovertext}</b><br><br>region=New South Wales<br>time=2023-12-03 03:00<br>temp_f=%{marker.size}<br>lat=%{lat}<br>lon=%{lon}<extra></extra>",
           "hovertext": [
            "Australia"
           ],
           "lat": [
            -33.87
           ],
           "legendgroup": "New South Wales",
           "lon": [
            151.21
           ],
           "marker": {
            "color": "#19d3f3",
            "size": [
             63.3
            ],
            "sizemode": "area",
            "sizeref": 0.23675000000000002,
            "symbol": "circle"
           },
           "mode": "markers",
           "name": "New South Wales",
           "showlegend": true,
           "type": "scattergeo"
          },
          {
           "geo": "geo",
           "hovertemplate": "<b>%{hovertext}</b><br><br>region=Victoria<br>time=2023-12-03 03:00<br>temp_f=%{marker.size}<br>lat=%{lat}<br>lon=%{lon}<extra></extra>",
           "hovertext": [
            "Australia"
           ],
           "lat": [
            -37.81
           ],
           "legendgroup": "Victoria",
           "lon": [
            144.96
           ],
           "marker": {
            "color": "#FF6692",
            "size": [
             56.2
            ],
            "sizemode": "area",
            "sizeref": 0.23675000000000002,
            "symbol": "circle"
           },
           "mode": "markers",
           "name": "Victoria",
           "showlegend": true,
           "type": "scattergeo"
          },
          {
           "geo": "geo",
           "hovertemplate": "<b>%{hovertext}</b><br><br>region=Queensland<br>time=2023-12-03 03:00<br>temp_f=%{marker.size}<br>lat=%{lat}<br>lon=%{lon}<extra></extra>",
           "hovertext": [
            "Australia"
           ],
           "lat": [
            -27.47
           ],
           "legendgroup": "Queensland",
           "lon": [
            153.03
           ],
           "marker": {
            "color": "#B6E880",
            "size": [
             72.6
            ],
            "sizemode": "area",
            "sizeref": 0.23675000000000002,
            "symbol": "circle"
           },
           "mode": "markers",
           "name": "Queensland",
           "showlegend": true,
           "type": "scattergeo"
          }
         ],
         "name": "2023-12-03 03:00"
        },
        {
         "data": [
          {
           "geo": "geo",
           "hovertemplate": "<b>%{hovertext}</b><br><br>region=New York<br>time=2023-12-03 04:00<br>temp_f=%{marker.size}<br>lat=%{lat}<br>lon=%{lon}<extra></extra>",
           "hovertext": [
            "United States of America"
           ],
           "lat": [
            40.71
           ],
           "legendgroup": "New York",
           "lon": [
            -74.01
           ],
           "marker": {
            "color": "#636efa",
            "size": [
             50.8
            ],
            "sizemode": "area",
            "sizeref": 0.23675000000000002,
            "symbol": "circle"
           },
           "mode": "markers",
           "name": "New York",
           "showlegend": true,
           "type": "scattergeo"
          },
          {
           "geo": "geo",
           "hovertemplate": "<b>%{hovertext}</b><br><br>region=California<br>time=2023-12-03 04:00<br>temp_f=%{marker.size}<br>lat=%{lat}<br>lon=%{lon}<extra></extra>",
           "hovertext": [
            "United States of America"
           ],
           "lat": [
            34.05
           ],
           "legendgroup": "California",
           "lon": [
            -118.24
           ],
           "marker": {
            "color": "#EF553B",
            "size": [
             57
            ],
            "sizemode": "area",
            "sizeref": 0.23675000000000002,
            "symbol": "circle"
           },
           "mode": "markers",
           "name": "California",
           "showlegend": true,
           "type": "scattergeo"
          },
          {
           "geo": "geo",
           "hovertemplate": "<b>%{hovertext}</b><br><br>region=Ontario<br>time=2023-12-03 04:00<br>temp_f=%{marker.size}<br>lat=%{lat}<br>lon=%{lon}<extra></extra>",
           "hovertext": [
            "Canada"
           ],
           "lat": [
            43.65
           ],
           "legendgroup": "Ontario",
           "lon": [
            -79.38
           ],
           "marker": {
            "color": "#00cc96",
            "size": [
             38.1
            ],
            "sizemode": "area",
            "sizeref": 0.23675000000000002,
            "symbol": "circle"
           },
           "mode": "markers",
           "name": "Ontario",
           "showlegend": true,
           "type": "scattergeo"
          },
          {
           "geo": "geo",
           "hovertemplate": "<b>%{hovertext}</b><br><br>region=Sao Paulo<br>time=2023-12-03 04:00<br>temp_f=%{marker.size}<br>lat=%{lat}<br>lon=%{lon}<extra></extra>",
           "hovertext": [
            "Brazil"
           ],
           "lat": [
            -23.55
           ],
           "legendgroup": "Sao Paulo",
           "lon": [
            -46.63
           ],
           "marker": {
            "color": "#ab63fa",
            "size": [
             71.6
            ],
            "sizemode": "area",
            "sizeref": 0.23675000000000002,
            "symbol": "circle"
           },
           "mode": "markers",
           "name": "Sao Paulo",
           "showlegend": true,
           "type": "scattergeo"
          },
          {
           "geo": "geo",
           "hovertemplate": "<b>%{hovertext}</b><br><br>region=Buenos Aires<br>time=2023-12-03 04:00<br>temp_f=%{marker.size}<br>lat=%{lat}<br>lon=%{lon}<extra></extra>",
           "hovertext": [
            "Argentina"
           ],
           "lat": [
            -34.6
           ],
           "legendgroup": "Buenos Aires",
           "lon": [
            -58.38
           ],
           "marker": {
            "color": "#FFA15A",
            "size": [
             60.2
            ],
            "sizemode": "area",
            "sizeref": 0.23675000000000002,
            "symbol": "circle"
           },
           "mode": "markers",
           "name": "Buenos Aires",
           "showlegend": true,
           "type": "scattergeo"
          },
          {
           "geo": "geo",
           "hovertemplate": "<b>%{hovertext}</b><br><br>region=Cundinamarca<br>time=2023-12-03 04:00<br>temp_f=%{marker.size}<br>lat=%{lat}<br>lon=%{lon}<extra></extra>",
           "hovertext": [
            "Colombia"
           ],
           "lat": [
            4.71
           ],
           "legendgroup": "Cundinamarca",
           "lon": [
            -74.07
           ],
           "marker": {
            "color": "#19d3f3",
            "size": [
             45.3
            ],
            "sizemode": "area",
            "sizeref": 0.23675000000000002,
            "symbol": "circle"
           },
           "mode": "markers",
           "name": "Cundinamarca",
           "showlegend": true,
           "type": "scattergeo"
          },
          {
           "geo": "geo",
           "hovertemplate": "<b>%{hovertext}</b><br><br>region=City of London, Greater London<br>time=2023-12-03 04:00<br>temp_f=%{marker.size}<br>lat=%{lat}<br>lon=%{lon}<extra></extra>",
           "hovertext": [
            "United Kingdom"
           ],
           "lat": [
            51.51
           ],
           "legendgroup": "City of London, Greater London",
           "lon": [
            -0.13
           ],
           "marker": {
            "color": "#FF6692",
            "size": [
             38.4
            ],
            "sizemode": "area",
            "sizeref": 0.23675000000000002,
            "symbol": "circle"
           },
           "mode": "markers",
           "name": "City of London, Greater London",
           "showlegend": true,
           "type": "scattergeo"
          },
          {
           "geo": "geo",
           "hovertemplate": "<b>%{hovertext}</b><br><br>region=Ile-de-France<br>time=2023-12-03 04:00<br>temp_f=%{marker.size}<br>lat=%{lat}<br>lon=%{lon}<extra></extra>",
           "hovertext": [
            "France"
           ],
           "lat": [
            48.86
           ],
           "legendgroup": "Ile-de-France",
           "lon": [
            2.35
           ],
           "marker": {
            "color": "#B6E880",
            "size": [
             32
            ],
            "sizemode": "area",
            "sizeref": 0.23675000000000002,
            "symbol": "circle"
           },
           "mode": "markers",
           "name": "Ile-de-France",
           "showlegend": true,
           "type": "scattergeo"
          },
          {
           "geo": "geo",
           "hovertemplate": "<b>%{hovertext}</b><br><br>region=Berlin<br>time=2023-12-03 04:00<br>temp_f=%{marker.size}<br>lat=%{lat}<br>lon=%{lon}<extra></extra>",
           "hovertext": [
            "Germany"
           ],
           "lat": [
            52.52
           ],
           "legendgroup": "Berlin",
           "lon": [
            13.41
           ],
           "marker": {
            "color": "#FF97FF",
            "size": [
             26.1
            ],
            "sizemode": "area",
            "sizeref": 0.23675000000000002,
            "symbol": "circle"
           },
           "mode": "markers",
           "name": "Berlin",
           "showlegend": true,
           "type": "scattergeo"
          },
          {
           "geo": "geo",
           "hovertemplate": "<b>%{hovertext}</b><br><br>region=Tokyo<br>time=2023-12-03 04:00<br>temp_f=%{marker.size}<br>lat=%{lat}<br>lon=%{lon}<extra></extra>",
           "hovertext": [
            "Japan"
           ],
           "lat": [
            35.68
           ],
           "legendgroup": "Tokyo",
           "lon": [
            139.65
           ],
           "marker": {
            "color": "#FECB52",
            "size": [
             47.7
            ],
            "sizemode": "area",
            "sizeref": 0.23675000000000002,
            "symbol": "circle"
           },
           "mode": "markers",
           "name": "Tokyo",
           "showlegend": true,
           "type": "scattergeo"
          },
          {
           "geo": "geo",
           "hovertemplate": "<b>%{hovertext}</b><br><br>region=Beijing<br>time=2023-12-03 04:00<br>temp_f=%{marker.size}<br>lat=%{lat}<br>lon=%{lon}<extra></extra>",
           "hovertext": [
            "China"
           ],
           "lat": [
            39.9
           ],
           "legendgroup": "Beijing",
           "lon": [
            116.41
           ],
           "marker": {
            "color": "#636efa",
            "size": [
             32.8
            ],
            "sizemode": "area",
            "sizeref": 0.23675000000000002,
            "symbol": "circle"
           },
           "mode": "markers",
           "name": "Beijing",
           "showlegend": true,
           "type": "scattergeo"
          },
          {
           "geo": "geo",
           "hovertemplate": "<b>%{hovertext}</b><br><br>region=Maharashtra<br>time=2023-12-03 04:00<br>temp_f=%{marker.size}<br>lat=%{lat}<br>lon=%{lon}<extra></extra>",
           "hovertext": [
            "India"
           ],
           "lat": [
            19.08
           ],
           "legendgroup": "Maharashtra",
           "lon": [
            72.88
           ],
           "marker": {
            "color": "#EF553B",
            "size": [
             80
            ],
            "sizemode": "area",
            "sizeref": 0.23675000000000002,
            "symbol": "circle"
           },
           "mode": "markers",
           "name": "Maharashtra",
           "showlegend": true,
           "type": "scattergeo"
          },
          {
           "geo": "geo",
           "hovertemplate": "<b>%{hovertext}</b><br><br>region=Al Qahirah<br>time=2023-12-03 04:00<br>temp_f=%{marker.size}<br>lat=%{lat}<br>lon=%{lon}<extra></extra>",
           "hovertext": [
            "Egypt"
           ],
           "lat": [
            30.04
           ],
           "legendgroup": "Al Qahirah",
           "lon": [
            31.24
           ],
           "marker": {
            "color": "#00cc96",
            "size": [
             61.3
            ],
            "sizemode": "area",
            "sizeref": 0.23675000000000002,
            "symbol": "circle"
           },
           "mode": "markers",
           "name": "Al Qahirah",
           "showlegend": true,
           "type": "scattergeo"
          },
          {
           "geo": "geo",
           "hovertemplate": "<b>%{hovertext}</b><br><br>region=Lagos<br>time=2023-12-03 04:00<br>temp_f=%{marker.size}<br>lat=%{lat}<br>lon=%{lon}<extra></extra>",
           "hovertext": [
            "Nigeria"
           ],
           "lat": [
            6.52
           ],
           "legendgroup": "Lagos",
           "lon": [
            3.38
           ],
           "marker": {
            "color": "#ab63fa",
            "size": [
             81.6
            ],
            "sizemode": "area",
            "sizeref": 0.23675000000000002,
            "symbol": "circle"
           },
           "mode": "markers",
           "name": "Lagos",
           "showlegend": true,
           "type": "scattergeo"
          },
          {
           "geo": "geo",
           "hovertemplate": "<b>%{hovertext}</b><br><br>region=Gauteng<br>time=2023-12-03 04:00<br>temp_f=%{marker.size}<br>lat=%{lat}<br>lon=%{lon}<extra></extra>",
           "hovertext": [
            "South Africa"
           ],
           "lat": [
            -26.2
           ],
           "legendgroup": "Gauteng",
           "lon": [
            28.05
           ],
           "marker": {
            "color": "#FFA15A",
            "size": [
             67.8
            ],
            "sizemode": "area",
            "sizeref": 0.23675000000000002,
            "symbol": "circle"
           },
           "mode": "markers",
           "name": "Gauteng",
           "showlegend": true,
           "type": "scattergeo"
          },
          {
           "geo": "geo",
           "hovertemplate": "<b>%{hovertext}</b><br><br>region=New South Wales<br>time=2023-12-03 04:00<br>temp_f=%{marker.size}<br>lat=%{lat}<br>lon=%{lon}<extra></extra>",
           "hovertext": [
            "Australia"
           ],
           "lat": [
            -33.87
           ],
           "legendgroup": "New South Wales",
           "lon": [
            151.21
           ],
           "marker": {
            "color": "#19d3f3",
            "size": [
             62.9
            ],
            "sizemode": "area",
            "sizeref": 0.23675000000000002,
            "symbol": "circle"
           },
           "mode": "markers",
           "name": "New South Wales",
           "showlegend": true,
           "type": "scattergeo"
          },
          {
           "geo": "geo",
           "hovertemplate": "<b>%{hovertext}</b><br><br>region=Victoria<br>time=2023-12-03 04:00<br>temp_f=%{marker.size}<br>lat=%{lat}<br>lon=%{lon}<extra></extra>",
           "hovertext": [
            "Australia"
           ],
           "lat": [
            -37.81
           ],
           "legendgroup": "Victoria",
           "lon": [
            144.96
           ],
           "marker": {
            "color": "#FF6692",
            "size": [
             56
            ],
            "sizemode": "area",
            "sizeref": 0.23675000000000002,
            "symbol": "circle"
           },
           "mode": "markers",
           "name": "Victoria",
           "showlegend": true,
           "type": "scattergeo"
          },
          {
           "geo": "geo",
           "hovertemplate": "<b>%{hovertext}</b><br><br>region=Queensland<br>time=2023-12-03 04:00<br>temp_f=%{marker.size}<br>lat=%{lat}<br>lon=%{lon}<extra></extra>",
           "hovertext": [
            "Australia"
           ],
           "lat": [
            -27.47
           ],
           "legendgroup": "Queensland",
           "lon": [
            153.03
           ],
           "marker": {
            "color": "#B6E880",
            "size": [
             71.7
            ],
            "sizemode": "area",
            "sizeref": 0.23675000000000002,
            "symbol": "circle"
           },
           "mode": "markers",
           "name": "Queensland",
           "showlegend": true,
           "type": "scattergeo"
          }
         ],
         "name": "2023-12-03 04:00"
        },
        {
         "data": [
          {
           "geo": "geo",
           "hovertemplate": "<b>%{hovertext}</b><br><br>region=New York<br>time=2023-12-03 05:00<br>temp_f=%{marker.size}<br>lat=%{lat}<br>lon=%{lon}<extra></extra>",
           "hovertext": [
            "United States of America"
           ],
           "lat": [
            40.71
           ],
           "legendgroup": "New York",
           "lon": [
            -74.01
           ],
           "marker": {
            "color": "#636efa",
            "size": [
             44.6
            ],
            "sizemode": "area",
            "sizeref": 0.23675000000000002,
            "symbol": "circle"
           },
           "mode": "markers",
           "name": "New York",
           "showlegend": true,
           "type": "scattergeo"
          },
          {
           "geo": "geo",
           "hovertemplate": "<b>%{hovertext}</b><br><br>region=California<br>time=2023-12-03 05:00<br>temp_f=%{marker.size}<br>lat=%{lat}<br>lon=%{lon}<extra></extra>",
           "hovertext": [
            "United States of America"
           ],
           "lat": [
            34.05
           ],
           "legendgroup": "California",
           "lon": [
            -118.24
           ],
           "marker": {
            "color": "#EF553B",
            "size": [
             51.4
            ],
            "sizemode": "area",
            "sizeref": 0.23675000000000002,
            "symbol": "circle"
           },
           "mode": "markers",
           "name": "California",
           "showlegend": true,
           "type": "scattergeo"
          },
          {
           "geo": "geo",
           "hovertemplate": "<b>%{hovertext}</b><br><br>region=Ontario<br>time=2023-12-03 05:00<br>temp_f=%{marker.size}<br>lat=%{lat}<br>lon=%{lon}<extra></extra>",
           "hovertext": [
            "Canada"
           ],
           "lat": [
            43.65
           ],
           "legendgroup": "Ontario",
           "lon": [
            -79.38
           ],
           "marker": {
            "color": "#00cc96",
            "size": [
             36.1
            ],
            "sizemode": "area",
            "sizeref": 0.23675000000000002,
            "symbol": "circle"
           },
           "mode": "markers",
           "name": "Ontario",
           "showlegend": true,
           "type": "scattergeo"
          },
          {
           "geo": "geo",
           "hovertemplate": "<b>%{hovertext}</b><br><br>region=Sao Paulo<br>time=2023-12-03 05:00<br>temp_f=%{marker.size}<br>lat=%{lat}<br>lon=%{lon}<extra></extra>",
           "hovertext": [
            "Brazil"
           ],
           "lat": [
            -23.55
           ],
           "legendgroup": "Sao Paulo",
           "lon": [
            -46.63
           ],
           "marker": {
            "color": "#ab63fa",
            "size": [
             72.1
            ],
            "sizemode": "area",
            "sizeref": 0.23675000000000002,
            "symbol": "circle"
           },
           "mode": "markers",
           "name": "Sao Paulo",
           "showlegend": true,
           "type": "scattergeo"
          },
          {
           "geo": "geo",
           "hovertemplate": "<b>%{hovertext}</b><br><br>region=Buenos Aires<br>time=2023-12-03 05:00<br>temp_f=%{marker.size}<br>lat=%{lat}<br>lon=%{lon}<extra></extra>",
           "hovertext": [
            "Argentina"
           ],
           "lat": [
            -34.6
           ],
           "legendgroup": "Buenos Aires",
           "lon": [
            -58.38
           ],
           "marker": {
            "color": "#FFA15A",
            "size": [
             59.5
            ],
            "sizemode": "area",
            "sizeref": 0.23675000000000002,
            "symbol": "circle"
           },
           "mode": "markers",
           "name": "Buenos Aires",
           "showlegend": true,
           "type": "scattergeo"
          },
          {
           "geo": "geo",
           "hovertemplate": "<b>%{hovertext}</b><br><br>region=Cundinamarca<br>time=2023-12-03 05:00<br>temp_f=%{marker.size}<br>lat=%{lat}<br>lon=%{lon}<extra></extra>",
           "hovertext": [
            "Colombia"
           ],
           "lat": [
            4.71
           ],
           "legendgroup": "Cundinamarca",
           "lon": [
            -74.07
           ],
           "marker": {
            "color": "#19d3f3",
            "size": [
             44.3
            ],
            "sizemode": "area",
            "sizeref": 0.23675000000000002,
            "symbol": "circle"
           },
           "mode": "markers",
           "name": "Cundinamarca",
           "showlegend": true,
           "type": "scattergeo"
          },
          {
           "geo": "geo",
           "hovertemplate": "<b>%{hovertext}</b><br><br>region=City of London, Greater London<br>time=2023-12-03 05:00<br>temp_f=%{marker.size}<br>lat=%{lat}<br>lon=%{lon}<extra></extra>",
           "hovertext": [
            "United Kingdom"
           ],
           "lat": [
            51.51
           ],
           "legendgroup": "City of London, Greater London",
           "lon": [
            -0.13
           ],
           "marker": {
            "color": "#FF6692",
            "size": [
             39
            ],
            "sizemode": "area",
            "sizeref": 0.23675000000000002,
            "symbol": "circle"
           },
           "mode": "markers",
           "name": "City of London, Greater London",
           "showlegend": true,
           "type": "scattergeo"
          },
          {
           "geo": "geo",
           "hovertemplate": "<b>%{hovertext}</b><br><br>region=Ile-de-France<br>time=2023-12-03 05:00<br>temp_f=%{marker.size}<br>lat=%{lat}<br>lon=%{lon}<extra></extra>",
           "hovertext": [
            "France"
           ],
           "lat": [
            48.86
           ],
           "legendgroup": "Ile-de-France",
           "lon": [
            2.35
           ],
           "marker": {
            "color": "#B6E880",
            "size": [
             31.9
            ],
            "sizemode": "area",
            "sizeref": 0.23675000000000002,
            "symbol": "circle"
           },
           "mode": "markers",
           "name": "Ile-de-France",
           "showlegend": true,
           "type": "scattergeo"
          },
          {
           "geo": "geo",
           "hovertemplate": "<b>%{hovertext}</b><br><br>region=Berlin<br>time=2023-12-03 05:00<br>temp_f=%{marker.size}<br>lat=%{lat}<br>lon=%{lon}<extra></extra>",
           "hovertext": [
            "Germany"
           ],
           "lat": [
            52.52
           ],
           "legendgroup": "Berlin",
           "lon": [
            13.41
           ],
           "marker": {
            "color": "#FF97FF",
            "size": [
             26.9
            ],
            "sizemode": "area",
            "sizeref": 0.23675000000000002,
            "symbol": "circle"
           },
           "mode": "markers",
           "name": "Berlin",
           "showlegend": true,
           "type": "scattergeo"
          },
          {
           "geo": "geo",
           "hovertemplate": "<b>%{hovertext}</b><br><br>region=Tokyo<br>time=2023-12-03 05:00<br>temp_f=%{marker.size}<br>lat=%{lat}<br>lon=%{lon}<extra></extra>",
           "hovertext": [
            "Japan"
           ],
           "lat": [
            35.68
           ],
           "legendgroup": "Tokyo",
           "lon": [
            139.65
           ],
           "marker": {
            "color": "#FECB52",
            "size": [
             47.3
            ],
            "sizemode": "area",
            "sizeref": 0.23675000000000002,
            "symbol": "circle"
           },
           "mode": "markers",
           "name": "Tokyo",
           "showlegend": true,
           "type": "scattergeo"
          },
          {
           "geo": "geo",
           "hovertemplate": "<b>%{hovertext}</b><br><br>region=Beijing<br>time=2023-12-03 05:00<br>temp_f=%{marker.size}<br>lat=%{lat}<br>lon=%{lon}<extra></extra>",
           "hovertext": [
            "China"
           ],
           "lat": [
            39.9
           ],
           "legendgroup": "Beijing",
           "lon": [
            116.41
           ],
           "marker": {
            "color": "#636efa",
            "size": [
             32.6
            ],
            "sizemode": "area",
            "sizeref": 0.23675000000000002,
            "symbol": "circle"
           },
           "mode": "markers",
           "name": "Beijing",
           "showlegend": true,
           "type": "scattergeo"
          },
          {
           "geo": "geo",
           "hovertemplate": "<b>%{hovertext}</b><br><br>region=Maharashtra<br>time=2023-12-03 05:00<br>temp_f=%{marker.size}<br>lat=%{lat}<br>lon=%{lon}<extra></extra>",
           "hovertext": [
            "India"
           ],
           "lat": [
            19.08
           ],
           "legendgroup": "Maharashtra",
           "lon": [
            72.88
           ],
           "marker": {
            "color": "#EF553B",
            "size": [
             79.9
            ],
            "sizemode": "area",
            "sizeref": 0.23675000000000002,
            "symbol": "circle"
           },
           "mode": "markers",
           "name": "Maharashtra",
           "showlegend": true,
           "type": "scattergeo"
          },
          {
           "geo": "geo",
           "hovertemplate": "<b>%{hovertext}</b><br><br>region=Al Qahirah<br>time=2023-12-03 05:00<br>temp_f=%{marker.size}<br>lat=%{lat}<br>lon=%{lon}<extra></extra>",
           "hovertext": [
            "Egypt"
           ],
           "lat": [
            30.04
           ],
           "legendgroup": "Al Qahirah",
           "lon": [
            31.24
           ],
           "marker": {
            "color": "#00cc96",
            "size": [
             61.1
            ],
            "sizemode": "area",
            "sizeref": 0.23675000000000002,
            "symbol": "circle"
           },
           "mode": "markers",
           "name": "Al Qahirah",
           "showlegend": true,
           "type": "scattergeo"
          },
          {
           "geo": "geo",
           "hovertemplate": "<b>%{hovertext}</b><br><br>region=Lagos<br>time=2023-12-03 05:00<br>temp_f=%{marker.size}<br>lat=%{lat}<br>lon=%{lon}<extra></extra>",
           "hovertext": [
            "Nigeria"
           ],
           "lat": [
            6.52
           ],
           "legendgroup": "Lagos",
           "lon": [
            3.38
           ],
           "marker": {
            "color": "#ab63fa",
            "size": [
             81.4
            ],
            "sizemode": "area",
            "sizeref": 0.23675000000000002,
            "symbol": "circle"
           },
           "mode": "markers",
           "name": "Lagos",
           "showlegend": true,
           "type": "scattergeo"
          },
          {
           "geo": "geo",
           "hovertemplate": "<b>%{hovertext}</b><br><br>region=Gauteng<br>time=2023-12-03 05:00<br>temp_f=%{marker.size}<br>lat=%{lat}<br>lon=%{lon}<extra></extra>",
           "hovertext": [
            "South Africa"
           ],
           "lat": [
            -26.2
           ],
           "legendgroup": "Gauteng",
           "lon": [
            28.05
           ],
           "marker": {
            "color": "#FFA15A",
            "size": [
             67
            ],
            "sizemode": "area",
            "sizeref": 0.23675000000000002,
            "symbol": "circle"
           },
           "mode": "markers",
           "name": "Gauteng",
           "showlegend": true,
           "type": "scattergeo"
          },
          {
           "geo": "geo",
           "hovertemplate": "<b>%{hovertext}</b><br><br>region=New South Wales<br>time=2023-12-03 05:00<br>temp_f=%{marker.size}<br>lat=%{lat}<br>lon=%{lon}<extra></extra>",
           "hovertext": [
            "Australia"
           ],
           "lat": [
            -33.87
           ],
           "legendgroup": "New South Wales",
           "lon": [
            151.21
           ],
           "marker": {
            "color": "#19d3f3",
            "size": [
             62.6
            ],
            "sizemode": "area",
            "sizeref": 0.23675000000000002,
            "symbol": "circle"
           },
           "mode": "markers",
           "name": "New South Wales",
           "showlegend": true,
           "type": "scattergeo"
          },
          {
           "geo": "geo",
           "hovertemplate": "<b>%{hovertext}</b><br><br>region=Victoria<br>time=2023-12-03 05:00<br>temp_f=%{marker.size}<br>lat=%{lat}<br>lon=%{lon}<extra></extra>",
           "hovertext": [
            "Australia"
           ],
           "lat": [
            -37.81
           ],
           "legendgroup": "Victoria",
           "lon": [
            144.96
           ],
           "marker": {
            "color": "#FF6692",
            "size": [
             55.8
            ],
            "sizemode": "area",
            "sizeref": 0.23675000000000002,
            "symbol": "circle"
           },
           "mode": "markers",
           "name": "Victoria",
           "showlegend": true,
           "type": "scattergeo"
          },
          {
           "geo": "geo",
           "hovertemplate": "<b>%{hovertext}</b><br><br>region=Queensland<br>time=2023-12-03 05:00<br>temp_f=%{marker.size}<br>lat=%{lat}<br>lon=%{lon}<extra></extra>",
           "hovertext": [
            "Australia"
           ],
           "lat": [
            -27.47
           ],
           "legendgroup": "Queensland",
           "lon": [
            153.03
           ],
           "marker": {
            "color": "#B6E880",
            "size": [
             71.1
            ],
            "sizemode": "area",
            "sizeref": 0.23675000000000002,
            "symbol": "circle"
           },
           "mode": "markers",
           "name": "Queensland",
           "showlegend": true,
           "type": "scattergeo"
          }
         ],
         "name": "2023-12-03 05:00"
        },
        {
         "data": [
          {
           "geo": "geo",
           "hovertemplate": "<b>%{hovertext}</b><br><br>region=New York<br>time=2023-12-03 06:00<br>temp_f=%{marker.size}<br>lat=%{lat}<br>lon=%{lon}<extra></extra>",
           "hovertext": [
            "United States of America"
           ],
           "lat": [
            40.71
           ],
           "legendgroup": "New York",
           "lon": [
            -74.01
           ],
           "marker": {
            "color": "#636efa",
            "size": [
             50.7
            ],
            "sizemode": "area",
            "sizeref": 0.23675000000000002,
            "symbol": "circle"
           },
           "mode": "markers",
           "name": "New York",
           "showlegend": true,
           "type": "scattergeo"
          },
          {
           "geo": "geo",
           "hovertemplate": "<b>%{hovertext}</b><br><br>region=California<br>time=2023-12-03 06:00<br>temp_f=%{marker.size}<br>lat=%{lat}<br>lon=%{lon}<extra></extra>",
           "hovertext": [
            "United States of America"
           ],
           "lat": [
            34.05
           ],
           "legendgroup": "California",
           "lon": [
            -118.24
           ],
           "marker": {
            "color": "#EF553B",
            "size": [
             56.4
            ],
            "sizemode": "area",
            "sizeref": 0.23675000000000002,
            "symbol": "circle"
           },
           "mode": "markers",
           "name": "California",
           "showlegend": true,
           "type": "scattergeo"
          },
          {
           "geo": "geo",
           "hovertemplate": "<b>%{hovertext}</b><br><br>region=Ontario<br>time=2023-12-03 06:00<br>temp_f=%{marker.size}<br>lat=%{lat}<br>lon=%{lon}<extra></extra>",
           "hovertext": [
            "Canada"
           ],
           "lat": [
            43.65
           ],
           "legendgroup": "Ontario",
           "lon": [
            -79.38
           ],
           "marker": {
            "color": "#00cc96",
            "size": [
             37.8
            ],
            "sizemode": "area",
            "sizeref": 0.23675000000000002,
            "symbol": "circle"
           },
           "mode": "markers",
           "name": "Ontario",
           "showlegend": true,
           "type": "scattergeo"
          },
          {
           "geo": "geo",
           "hovertemplate": "<b>%{hovertext}</b><br><br>region=Sao Paulo<br>time=2023-12-03 06:00<br>temp_f=%{marker.size}<br>lat=%{lat}<br>lon=%{lon}<extra></extra>",
           "hovertext": [
            "Brazil"
           ],
           "lat": [
            -23.55
           ],
           "legendgroup": "Sao Paulo",
           "lon": [
            -46.63
           ],
           "marker": {
            "color": "#ab63fa",
            "size": [
             74.8
            ],
            "sizemode": "area",
            "sizeref": 0.23675000000000002,
            "symbol": "circle"
           },
           "mode": "markers",
           "name": "Sao Paulo",
           "showlegend": true,
           "type": "scattergeo"
          },
          {
           "geo": "geo",
           "hovertemplate": "<b>%{hovertext}</b><br><br>region=Buenos Aires<br>time=2023-12-03 06:00<br>temp_f=%{marker.size}<br>lat=%{lat}<br>lon=%{lon}<extra></extra>",
           "hovertext": [
            "Argentina"
           ],
           "lat": [
            -34.6
           ],
           "legendgroup": "Buenos Aires",
           "lon": [
            -58.38
           ],
           "marker": {
            "color": "#FFA15A",
            "size": [
             59.4
            ],
            "sizemode": "area",
            "sizeref": 0.23675000000000002,
            "symbol": "circle"
           },
           "mode": "markers",
           "name": "Buenos Aires",
           "showlegend": true,
           "type": "scattergeo"
          },
          {
           "geo": "geo",
           "hovertemplate": "<b>%{hovertext}</b><br><br>region=Cundinamarca<br>time=2023-12-03 06:00<br>temp_f=%{marker.size}<br>lat=%{lat}<br>lon=%{lon}<extra></extra>",
           "hovertext": [
            "Colombia"
           ],
           "lat": [
            4.71
           ],
           "legendgroup": "Cundinamarca",
           "lon": [
            -74.07
           ],
           "marker": {
            "color": "#19d3f3",
            "size": [
             43.6
            ],
            "sizemode": "area",
            "sizeref": 0.23675000000000002,
            "symbol": "circle"
           },
           "mode": "markers",
           "name": "Cundinamarca",
           "showlegend": true,
           "type": "scattergeo"
          },
          {
           "geo": "geo",
           "hovertemplate": "<b>%{hovertext}</b><br><br>region=City of London, Greater London<br>time=2023-12-03 06:00<br>temp_f=%{marker.size}<br>lat=%{lat}<br>lon=%{lon}<extra></extra>",
           "hovertext": [
            "United Kingdom"
           ],
           "lat": [
            51.51
           ],
           "legendgroup": "City of London, Greater London",
           "lon": [
            -0.13
           ],
           "marker": {
            "color": "#FF6692",
            "size": [
             38.8
            ],
            "sizemode": "area",
            "sizeref": 0.23675000000000002,
            "symbol": "circle"
           },
           "mode": "markers",
           "name": "City of London, Greater London",
           "showlegend": true,
           "type": "scattergeo"
          },
          {
           "geo": "geo",
           "hovertemplate": "<b>%{hovertext}</b><br><br>region=Ile-de-France<br>time=2023-12-03 06:00<br>temp_f=%{marker.size}<br>lat=%{lat}<br>lon=%{lon}<extra></extra>",
           "hovertext": [
            "France"
           ],
           "lat": [
            48.86
           ],
           "legendgroup": "Ile-de-France",
           "lon": [
            2.35
           ],
           "marker": {
            "color": "#B6E880",
            "size": [
             31.7
            ],
            "sizemode": "area",
            "sizeref": 0.23675000000000002,
            "symbol": "circle"
           },
           "mode": "markers",
           "name": "Ile-de-France",
           "showlegend": true,
           "type": "scattergeo"
          },
          {
           "geo": "geo",
           "hovertemplate": "<b>%{hovertext}</b><br><br>region=Berlin<br>time=2023-12-03 06:00<br>temp_f=%{marker.size}<br>lat=%{lat}<br>lon=%{lon}<extra></extra>",
           "hovertext": [
            "Germany"
           ],
           "lat": [
            52.52
           ],
           "legendgroup": "Berlin",
           "lon": [
            13.41
           ],
           "marker": {
            "color": "#FF97FF",
            "size": [
             27
            ],
            "sizemode": "area",
            "sizeref": 0.23675000000000002,
            "symbol": "circle"
           },
           "mode": "markers",
           "name": "Berlin",
           "showlegend": true,
           "type": "scattergeo"
          },
          {
           "geo": "geo",
           "hovertemplate": "<b>%{hovertext}</b><br><br>region=Tokyo<br>time=2023-12-03 06:00<br>temp_f=%{marker.size}<br>lat=%{lat}<br>lon=%{lon}<extra></extra>",
           "hovertext": [
            "Japan"
           ],
           "lat": [
            35.68
           ],
           "legendgroup": "Tokyo",
           "lon": [
            139.65
           ],
           "marker": {
            "color": "#FECB52",
            "size": [
             47
            ],
            "sizemode": "area",
            "sizeref": 0.23675000000000002,
            "symbol": "circle"
           },
           "mode": "markers",
           "name": "Tokyo",
           "showlegend": true,
           "type": "scattergeo"
          },
          {
           "geo": "geo",
           "hovertemplate": "<b>%{hovertext}</b><br><br>region=Beijing<br>time=2023-12-03 06:00<br>temp_f=%{marker.size}<br>lat=%{lat}<br>lon=%{lon}<extra></extra>",
           "hovertext": [
            "China"
           ],
           "lat": [
            39.9
           ],
           "legendgroup": "Beijing",
           "lon": [
            116.41
           ],
           "marker": {
            "color": "#636efa",
            "size": [
             32.3
            ],
            "sizemode": "area",
            "sizeref": 0.23675000000000002,
            "symbol": "circle"
           },
           "mode": "markers",
           "name": "Beijing",
           "showlegend": true,
           "type": "scattergeo"
          },
          {
           "geo": "geo",
           "hovertemplate": "<b>%{hovertext}</b><br><br>region=Maharashtra<br>time=2023-12-03 06:00<br>temp_f=%{marker.size}<br>lat=%{lat}<br>lon=%{lon}<extra></extra>",
           "hovertext": [
            "India"
           ],
           "lat": [
            19.08
           ],
           "legendgroup": "Maharashtra",
           "lon": [
            72.88
           ],
           "marker": {
            "color": "#EF553B",
            "size": [
             79.6
            ],
            "sizemode": "area",
            "sizeref": 0.23675000000000002,
            "symbol": "circle"
           },
           "mode": "markers",
           "name": "Maharashtra",
           "showlegend": true,
           "type": "scattergeo"
          },
          {
           "geo": "geo",
           "hovertemplate": "<b>%{hovertext}</b><br><br>region=Al Qahirah<br>time=2023-12-03 06:00<br>temp_f=%{marker.size}<br>lat=%{lat}<br>lon=%{lon}<extra></extra>",
           "hovertext": [
            "Egypt"
           ],
           "lat": [
            30.04
           ],
           "legendgroup": "Al Qahirah",
           "lon": [
            31.24
           ],
           "marker": {
            "color": "#00cc96",
            "size": [
             61
            ],
            "sizemode": "area",
            "sizeref": 0.23675000000000002,
            "symbol": "circle"
           },
           "mode": "markers",
           "name": "Al Qahirah",
           "showlegend": true,
           "type": "scattergeo"
          },
          {
           "geo": "geo",
           "hovertemplate": "<b>%{hovertext}</b><br><br>region=Lagos<br>time=2023-12-03 06:00<br>temp_f=%{marker.size}<br>lat=%{lat}<br>lon=%{lon}<extra></extra>",
           "hovertext": [
            "Nigeria"
           ],
           "lat": [
            6.52
           ],
           "legendgroup": "Lagos",
           "lon": [
            3.38
           ],
           "marker": {
            "color": "#ab63fa",
            "size": [
             81.1
            ],
            "sizemode": "area",
            "sizeref": 0.23675000000000002,
            "symbol": "circle"
           },
           "mode": "markers",
           "name": "Lagos",
           "showlegend": true,
           "type": "scattergeo"
          },
          {
           "geo": "geo",
           "hovertemplate": "<b>%{hovertext}</b><br><br>region=Gauteng<br>time=2023-12-03 06:00<br>temp_f=%{marker.size}<br>lat=%{lat}<br>lon=%{lon}<extra></extra>",
           "hovertext": [
            "South Africa"
           ],
           "lat": [
            -26.2
           ],
           "legendgroup": "Gauteng",
           "lon": [
            28.05
           ],
           "marker": {
            "color": "#FFA15A",
            "size": [
             67.7
            ],
            "sizemode": "area",
            "sizeref": 0.23675000000000002,
            "symbol": "circle"
           },
           "mode": "markers",
           "name": "Gauteng",
           "showlegend": true,
           "type": "scattergeo"
          },
          {
           "geo": "geo",
           "hovertemplate": "<b>%{hovertext}</b><br><br>region=New South Wales<br>time=2023-12-03 06:00<br>temp_f=%{marker.size}<br>lat=%{lat}<br>lon=%{lon}<extra></extra>",
           "hovertext": [
            "Australia"
           ],
           "lat": [
            -33.87
           ],
           "legendgroup": "New South Wales",
           "lon": [
            151.21
           ],
           "marker": {
            "color": "#19d3f3",
            "size": [
             63.9
            ],
            "sizemode": "area",
            "sizeref": 0.23675000000000002,
            "symbol": "circle"
           },
           "mode": "markers",
           "name": "New South Wales",
           "showlegend": true,
           "type": "scattergeo"
          },
          {
           "geo": "geo",
           "hovertemplate": "<b>%{hovertext}</b><br><br>region=Victoria<br>time=2023-12-03 06:00<br>temp_f=%{marker.size}<br>lat=%{lat}<br>lon=%{lon}<extra></extra>",
           "hovertext": [
            "Australia"
           ],
           "lat": [
            -37.81
           ],
           "legendgroup": "Victoria",
           "lon": [
            144.96
           ],
           "marker": {
            "color": "#FF6692",
            "size": [
             56.3
            ],
            "sizemode": "area",
            "sizeref": 0.23675000000000002,
            "symbol": "circle"
           },
           "mode": "markers",
           "name": "Victoria",
           "showlegend": true,
           "type": "scattergeo"
          },
          {
           "geo": "geo",
           "hovertemplate": "<b>%{hovertext}</b><br><br>region=Queensland<br>time=2023-12-03 06:00<br>temp_f=%{marker.size}<br>lat=%{lat}<br>lon=%{lon}<extra></extra>",
           "hovertext": [
            "Australia"
           ],
           "lat": [
            -27.47
           ],
           "legendgroup": "Queensland",
           "lon": [
            153.03
           ],
           "marker": {
            "color": "#B6E880",
            "size": [
             73.6
            ],
            "sizemode": "area",
            "sizeref": 0.23675000000000002,
            "symbol": "circle"
           },
           "mode": "markers",
           "name": "Queensland",
           "showlegend": true,
           "type": "scattergeo"
          }
         ],
         "name": "2023-12-03 06:00"
        },
        {
         "data": [
          {
           "geo": "geo",
           "hovertemplate": "<b>%{hovertext}</b><br><br>region=New York<br>time=2023-12-03 07:00<br>temp_f=%{marker.size}<br>lat=%{lat}<br>lon=%{lon}<extra></extra>",
           "hovertext": [
            "United States of America"
           ],
           "lat": [
            40.71
           ],
           "legendgroup": "New York",
           "lon": [
            -74.01
           ],
           "marker": {
            "color": "#636efa",
            "size": [
             50.7
            ],
            "sizemode": "area",
            "sizeref": 0.23675000000000002,
            "symbol": "circle"
           },
           "mode": "markers",
           "name": "New York",
           "showlegend": true,
           "type": "scattergeo"
          },
          {
           "geo": "geo",
           "hovertemplate": "<b>%{hovertext}</b><br><br>region=California<br>time=2023-12-03 07:00<br>temp_f=%{marker.size}<br>lat=%{lat}<br>lon=%{lon}<extra></extra>",
           "hovertext": [
            "United States of America"
           ],
           "lat": [
            34.05
           ],
           "legendgroup": "California",
           "lon": [
            -118.24
           ],
           "marker": {
            "color": "#EF553B",
            "size": [
             56.1
            ],
            "sizemode": "area",
            "sizeref": 0.23675000000000002,
            "symbol": "circle"
           },
           "mode": "markers",
           "name": "California",
           "showlegend": true,
           "type": "scattergeo"
          },
          {
           "geo": "geo",
           "hovertemplate": "<b>%{hovertext}</b><br><br>region=Ontario<br>time=2023-12-03 07:00<br>temp_f=%{marker.size}<br>lat=%{lat}<br>lon=%{lon}<extra></extra>",
           "hovertext": [
            "Canada"
           ],
           "lat": [
            43.65
           ],
           "legendgroup": "Ontario",
           "lon": [
            -79.38
           ],
           "marker": {
            "color": "#00cc96",
            "size": [
             37.7
            ],
            "sizemode": "area",
            "sizeref": 0.23675000000000002,
            "symbol": "circle"
           },
           "mode": "markers",
           "name": "Ontario",
           "showlegend": true,
           "type": "scattergeo"
          },
          {
           "geo": "geo",
           "hovertemplate": "<b>%{hovertext}</b><br><br>region=Sao Paulo<br>time=2023-12-03 07:00<br>temp_f=%{marker.size}<br>lat=%{lat}<br>lon=%{lon}<extra></extra>",
           "hovertext": [
            "Brazil"
           ],
           "lat": [
            -23.55
           ],
           "legendgroup": "Sao Paulo",
           "lon": [
            -46.63
           ],
           "marker": {
            "color": "#ab63fa",
            "size": [
             78.7
            ],
            "sizemode": "area",
            "sizeref": 0.23675000000000002,
            "symbol": "circle"
           },
           "mode": "markers",
           "name": "Sao Paulo",
           "showlegend": true,
           "type": "scattergeo"
          },
          {
           "geo": "geo",
           "hovertemplate": "<b>%{hovertext}</b><br><br>region=Buenos Aires<br>time=2023-12-03 07:00<br>temp_f=%{marker.size}<br>lat=%{lat}<br>lon=%{lon}<extra></extra>",
           "hovertext": [
            "Argentina"
           ],
           "lat": [
            -34.6
           ],
           "legendgroup": "Buenos Aires",
           "lon": [
            -58.38
           ],
           "marker": {
            "color": "#FFA15A",
            "size": [
             59.5
            ],
            "sizemode": "area",
            "sizeref": 0.23675000000000002,
            "symbol": "circle"
           },
           "mode": "markers",
           "name": "Buenos Aires",
           "showlegend": true,
           "type": "scattergeo"
          },
          {
           "geo": "geo",
           "hovertemplate": "<b>%{hovertext}</b><br><br>region=Cundinamarca<br>time=2023-12-03 07:00<br>temp_f=%{marker.size}<br>lat=%{lat}<br>lon=%{lon}<extra></extra>",
           "hovertext": [
            "Colombia"
           ],
           "lat": [
            4.71
           ],
           "legendgroup": "Cundinamarca",
           "lon": [
            -74.07
           ],
           "marker": {
            "color": "#19d3f3",
            "size": [
             52.4
            ],
            "sizemode": "area",
            "sizeref": 0.23675000000000002,
            "symbol": "circle"
           },
           "mode": "markers",
           "name": "Cundinamarca",
           "showlegend": true,
           "type": "scattergeo"
          },
          {
           "geo": "geo",
           "hovertemplate": "<b>%{hovertext}</b><br><br>region=City of London, Greater London<br>time=2023-12-03 07:00<br>temp_f=%{marker.size}<br>lat=%{lat}<br>lon=%{lon}<extra></extra>",
           "hovertext": [
            "United Kingdom"
           ],
           "lat": [
            51.51
           ],
           "legendgroup": "City of London, Greater London",
           "lon": [
            -0.13
           ],
           "marker": {
            "color": "#FF6692",
            "size": [
             39.5
            ],
            "sizemode": "area",
            "sizeref": 0.23675000000000002,
            "symbol": "circle"
           },
           "mode": "markers",
           "name": "City of London, Greater London",
           "showlegend": true,
           "type": "scattergeo"
          },
          {
           "geo": "geo",
           "hovertemplate": "<b>%{hovertext}</b><br><br>region=Ile-de-France<br>time=2023-12-03 07:00<br>temp_f=%{marker.size}<br>lat=%{lat}<br>lon=%{lon}<extra></extra>",
           "hovertext": [
            "France"
           ],
           "lat": [
            48.86
           ],
           "legendgroup": "Ile-de-France",
           "lon": [
            2.35
           ],
           "marker": {
            "color": "#B6E880",
            "size": [
             31.6
            ],
            "sizemode": "area",
            "sizeref": 0.23675000000000002,
            "symbol": "circle"
           },
           "mode": "markers",
           "name": "Ile-de-France",
           "showlegend": true,
           "type": "scattergeo"
          },
          {
           "geo": "geo",
           "hovertemplate": "<b>%{hovertext}</b><br><br>region=Berlin<br>time=2023-12-03 07:00<br>temp_f=%{marker.size}<br>lat=%{lat}<br>lon=%{lon}<extra></extra>",
           "hovertext": [
            "Germany"
           ],
           "lat": [
            52.52
           ],
           "legendgroup": "Berlin",
           "lon": [
            13.41
           ],
           "marker": {
            "color": "#FF97FF",
            "size": [
             27.6
            ],
            "sizemode": "area",
            "sizeref": 0.23675000000000002,
            "symbol": "circle"
           },
           "mode": "markers",
           "name": "Berlin",
           "showlegend": true,
           "type": "scattergeo"
          },
          {
           "geo": "geo",
           "hovertemplate": "<b>%{hovertext}</b><br><br>region=Tokyo<br>time=2023-12-03 07:00<br>temp_f=%{marker.size}<br>lat=%{lat}<br>lon=%{lon}<extra></extra>",
           "hovertext": [
            "Japan"
           ],
           "lat": [
            35.68
           ],
           "legendgroup": "Tokyo",
           "lon": [
            139.65
           ],
           "marker": {
            "color": "#FECB52",
            "size": [
             46.8
            ],
            "sizemode": "area",
            "sizeref": 0.23675000000000002,
            "symbol": "circle"
           },
           "mode": "markers",
           "name": "Tokyo",
           "showlegend": true,
           "type": "scattergeo"
          },
          {
           "geo": "geo",
           "hovertemplate": "<b>%{hovertext}</b><br><br>region=Beijing<br>time=2023-12-03 07:00<br>temp_f=%{marker.size}<br>lat=%{lat}<br>lon=%{lon}<extra></extra>",
           "hovertext": [
            "China"
           ],
           "lat": [
            39.9
           ],
           "legendgroup": "Beijing",
           "lon": [
            116.41
           ],
           "marker": {
            "color": "#636efa",
            "size": [
             32.1
            ],
            "sizemode": "area",
            "sizeref": 0.23675000000000002,
            "symbol": "circle"
           },
           "mode": "markers",
           "name": "Beijing",
           "showlegend": true,
           "type": "scattergeo"
          },
          {
           "geo": "geo",
           "hovertemplate": "<b>%{hovertext}</b><br><br>region=Maharashtra<br>time=2023-12-03 07:00<br>temp_f=%{marker.size}<br>lat=%{lat}<br>lon=%{lon}<extra></extra>",
           "hovertext": [
            "India"
           ],
           "lat": [
            19.08
           ],
           "legendgroup": "Maharashtra",
           "lon": [
            72.88
           ],
           "marker": {
            "color": "#EF553B",
            "size": [
             79.7
            ],
            "sizemode": "area",
            "sizeref": 0.23675000000000002,
            "symbol": "circle"
           },
           "mode": "markers",
           "name": "Maharashtra",
           "showlegend": true,
           "type": "scattergeo"
          },
          {
           "geo": "geo",
           "hovertemplate": "<b>%{hovertext}</b><br><br>region=Al Qahirah<br>time=2023-12-03 07:00<br>temp_f=%{marker.size}<br>lat=%{lat}<br>lon=%{lon}<extra></extra>",
           "hovertext": [
            "Egypt"
           ],
           "lat": [
            30.04
           ],
           "legendgroup": "Al Qahirah",
           "lon": [
            31.24
           ],
           "marker": {
            "color": "#00cc96",
            "size": [
             61
            ],
            "sizemode": "area",
            "sizeref": 0.23675000000000002,
            "symbol": "circle"
           },
           "mode": "markers",
           "name": "Al Qahirah",
           "showlegend": true,
           "type": "scattergeo"
          },
          {
           "geo": "geo",
           "hovertemplate": "<b>%{hovertext}</b><br><br>region=Lagos<br>time=2023-12-03 07:00<br>temp_f=%{marker.size}<br>lat=%{lat}<br>lon=%{lon}<extra></extra>",
           "hovertext": [
            "Nigeria"
           ],
           "lat": [
            6.52
           ],
           "legendgroup": "Lagos",
           "lon": [
            3.38
           ],
           "marker": {
            "color": "#ab63fa",
            "size": [
             80.5
            ],
            "sizemode": "area",
            "sizeref": 0.23675000000000002,
            "symbol": "circle"
           },
           "mode": "markers",
           "name": "Lagos",
           "showlegend": true,
           "type": "scattergeo"
          },
          {
           "geo": "geo",
           "hovertemplate": "<b>%{hovertext}</b><br><br>region=Gauteng<br>time=2023-12-03 07:00<br>temp_f=%{marker.size}<br>lat=%{lat}<br>lon=%{lon}<extra></extra>",
           "hovertext": [
            "South Africa"
           ],
           "lat": [
            -26.2
           ],
           "legendgroup": "Gauteng",
           "lon": [
            28.05
           ],
           "marker": {
            "color": "#FFA15A",
            "size": [
             70.6
            ],
            "sizemode": "area",
            "sizeref": 0.23675000000000002,
            "symbol": "circle"
           },
           "mode": "markers",
           "name": "Gauteng",
           "showlegend": true,
           "type": "scattergeo"
          },
          {
           "geo": "geo",
           "hovertemplate": "<b>%{hovertext}</b><br><br>region=New South Wales<br>time=2023-12-03 07:00<br>temp_f=%{marker.size}<br>lat=%{lat}<br>lon=%{lon}<extra></extra>",
           "hovertext": [
            "Australia"
           ],
           "lat": [
            -33.87
           ],
           "legendgroup": "New South Wales",
           "lon": [
            151.21
           ],
           "marker": {
            "color": "#19d3f3",
            "size": [
             66.4
            ],
            "sizemode": "area",
            "sizeref": 0.23675000000000002,
            "symbol": "circle"
           },
           "mode": "markers",
           "name": "New South Wales",
           "showlegend": true,
           "type": "scattergeo"
          },
          {
           "geo": "geo",
           "hovertemplate": "<b>%{hovertext}</b><br><br>region=Victoria<br>time=2023-12-03 07:00<br>temp_f=%{marker.size}<br>lat=%{lat}<br>lon=%{lon}<extra></extra>",
           "hovertext": [
            "Australia"
           ],
           "lat": [
            -37.81
           ],
           "legendgroup": "Victoria",
           "lon": [
            144.96
           ],
           "marker": {
            "color": "#FF6692",
            "size": [
             57.4
            ],
            "sizemode": "area",
            "sizeref": 0.23675000000000002,
            "symbol": "circle"
           },
           "mode": "markers",
           "name": "Victoria",
           "showlegend": true,
           "type": "scattergeo"
          },
          {
           "geo": "geo",
           "hovertemplate": "<b>%{hovertext}</b><br><br>region=Queensland<br>time=2023-12-03 07:00<br>temp_f=%{marker.size}<br>lat=%{lat}<br>lon=%{lon}<extra></extra>",
           "hovertext": [
            "Australia"
           ],
           "lat": [
            -27.47
           ],
           "legendgroup": "Queensland",
           "lon": [
            153.03
           ],
           "marker": {
            "color": "#B6E880",
            "size": [
             78.1
            ],
            "sizemode": "area",
            "sizeref": 0.23675000000000002,
            "symbol": "circle"
           },
           "mode": "markers",
           "name": "Queensland",
           "showlegend": true,
           "type": "scattergeo"
          }
         ],
         "name": "2023-12-03 07:00"
        },
        {
         "data": [
          {
           "geo": "geo",
           "hovertemplate": "<b>%{hovertext}</b><br><br>region=New York<br>time=2023-12-03 08:00<br>temp_f=%{marker.size}<br>lat=%{lat}<br>lon=%{lon}<extra></extra>",
           "hovertext": [
            "United States of America"
           ],
           "lat": [
            40.71
           ],
           "legendgroup": "New York",
           "lon": [
            -74.01
           ],
           "marker": {
            "color": "#636efa",
            "size": [
             44.1
            ],
            "sizemode": "area",
            "sizeref": 0.23675000000000002,
            "symbol": "circle"
           },
           "mode": "markers",
           "name": "New York",
           "showlegend": true,
           "type": "scattergeo"
          },
          {
           "geo": "geo",
           "hovertemplate": "<b>%{hovertext}</b><br><br>region=California<br>time=2023-12-03 08:00<br>temp_f=%{marker.size}<br>lat=%{lat}<br>lon=%{lon}<extra></extra>",
           "hovertext": [
            "United States of America"
           ],
           "lat": [
            34.05
           ],
           "legendgroup": "California",
           "lon": [
            -118.24
           ],
           "marker": {
            "color": "#EF553B",
            "size": [
             49.8
            ],
            "sizemode": "area",
            "sizeref": 0.23675000000000002,
            "symbol": "circle"
           },
           "mode": "markers",
           "name": "California",
           "showlegend": true,
           "type": "scattergeo"
          },
          {
           "geo": "geo",
           "hovertemplate": "<b>%{hovertext}</b><br><br>region=Ontario<br>time=2023-12-03 08:00<br>temp_f=%{marker.size}<br>lat=%{lat}<br>lon=%{lon}<extra></extra>",
           "hovertext": [
            "Canada"
           ],
           "lat": [
            43.65
           ],
           "legendgroup": "Ontario",
           "lon": [
            -79.38
           ],
           "marker": {
            "color": "#00cc96",
            "size": [
             36.1
            ],
            "sizemode": "area",
            "sizeref": 0.23675000000000002,
            "symbol": "circle"
           },
           "mode": "markers",
           "name": "Ontario",
           "showlegend": true,
           "type": "scattergeo"
          },
          {
           "geo": "geo",
           "hovertemplate": "<b>%{hovertext}</b><br><br>region=Sao Paulo<br>time=2023-12-03 08:00<br>temp_f=%{marker.size}<br>lat=%{lat}<br>lon=%{lon}<extra></extra>",
           "hovertext": [
            "Brazil"
           ],
           "lat": [
            -23.55
           ],
           "legendgroup": "Sao Paulo",
           "lon": [
            -46.63
           ],
           "marker": {
            "color": "#ab63fa",
            "size": [
             83.1
            ],
            "sizemode": "area",
            "sizeref": 0.23675000000000002,
            "symbol": "circle"
           },
           "mode": "markers",
           "name": "Sao Paulo",
           "showlegend": true,
           "type": "scattergeo"
          },
          {
           "geo": "geo",
           "hovertemplate": "<b>%{hovertext}</b><br><br>region=Buenos Aires<br>time=2023-12-03 08:00<br>temp_f=%{marker.size}<br>lat=%{lat}<br>lon=%{lon}<extra></extra>",
           "hovertext": [
            "Argentina"
           ],
           "lat": [
            -34.6
           ],
           "legendgroup": "Buenos Aires",
           "lon": [
            -58.38
           ],
           "marker": {
            "color": "#FFA15A",
            "size": [
             59.5
            ],
            "sizemode": "area",
            "sizeref": 0.23675000000000002,
            "symbol": "circle"
           },
           "mode": "markers",
           "name": "Buenos Aires",
           "showlegend": true,
           "type": "scattergeo"
          },
          {
           "geo": "geo",
           "hovertemplate": "<b>%{hovertext}</b><br><br>region=Cundinamarca<br>time=2023-12-03 08:00<br>temp_f=%{marker.size}<br>lat=%{lat}<br>lon=%{lon}<extra></extra>",
           "hovertext": [
            "Colombia"
           ],
           "lat": [
            4.71
           ],
           "legendgroup": "Cundinamarca",
           "lon": [
            -74.07
           ],
           "marker": {
            "color": "#19d3f3",
            "size": [
             58.7
            ],
            "sizemode": "area",
            "sizeref": 0.23675000000000002,
            "symbol": "circle"
           },
           "mode": "markers",
           "name": "Cundinamarca",
           "showlegend": true,
           "type": "scattergeo"
          },
          {
           "geo": "geo",
           "hovertemplate": "<b>%{hovertext}</b><br><br>region=City of London, Greater London<br>time=2023-12-03 08:00<br>temp_f=%{marker.size}<br>lat=%{lat}<br>lon=%{lon}<extra></extra>",
           "hovertext": [
            "United Kingdom"
           ],
           "lat": [
            51.51
           ],
           "legendgroup": "City of London, Greater London",
           "lon": [
            -0.13
           ],
           "marker": {
            "color": "#FF6692",
            "size": [
             40.9
            ],
            "sizemode": "area",
            "sizeref": 0.23675000000000002,
            "symbol": "circle"
           },
           "mode": "markers",
           "name": "City of London, Greater London",
           "showlegend": true,
           "type": "scattergeo"
          },
          {
           "geo": "geo",
           "hovertemplate": "<b>%{hovertext}</b><br><br>region=Ile-de-France<br>time=2023-12-03 08:00<br>temp_f=%{marker.size}<br>lat=%{lat}<br>lon=%{lon}<extra></extra>",
           "hovertext": [
            "France"
           ],
           "lat": [
            48.86
           ],
           "legendgroup": "Ile-de-France",
           "lon": [
            2.35
           ],
           "marker": {
            "color": "#B6E880",
            "size": [
             31.6
            ],
            "sizemode": "area",
            "sizeref": 0.23675000000000002,
            "symbol": "circle"
           },
           "mode": "markers",
           "name": "Ile-de-France",
           "showlegend": true,
           "type": "scattergeo"
          },
          {
           "geo": "geo",
           "hovertemplate": "<b>%{hovertext}</b><br><br>region=Berlin<br>time=2023-12-03 08:00<br>temp_f=%{marker.size}<br>lat=%{lat}<br>lon=%{lon}<extra></extra>",
           "hovertext": [
            "Germany"
           ],
           "lat": [
            52.52
           ],
           "legendgroup": "Berlin",
           "lon": [
            13.41
           ],
           "marker": {
            "color": "#FF97FF",
            "size": [
             26.8
            ],
            "sizemode": "area",
            "sizeref": 0.23675000000000002,
            "symbol": "circle"
           },
           "mode": "markers",
           "name": "Berlin",
           "showlegend": true,
           "type": "scattergeo"
          },
          {
           "geo": "geo",
           "hovertemplate": "<b>%{hovertext}</b><br><br>region=Tokyo<br>time=2023-12-03 08:00<br>temp_f=%{marker.size}<br>lat=%{lat}<br>lon=%{lon}<extra></extra>",
           "hovertext": [
            "Japan"
           ],
           "lat": [
            35.68
           ],
           "legendgroup": "Tokyo",
           "lon": [
            139.65
           ],
           "marker": {
            "color": "#FECB52",
            "size": [
             47.2
            ],
            "sizemode": "area",
            "sizeref": 0.23675000000000002,
            "symbol": "circle"
           },
           "mode": "markers",
           "name": "Tokyo",
           "showlegend": true,
           "type": "scattergeo"
          },
          {
           "geo": "geo",
           "hovertemplate": "<b>%{hovertext}</b><br><br>region=Beijing<br>time=2023-12-03 08:00<br>temp_f=%{marker.size}<br>lat=%{lat}<br>lon=%{lon}<extra></extra>",
           "hovertext": [
            "China"
           ],
           "lat": [
            39.9
           ],
           "legendgroup": "Beijing",
           "lon": [
            116.41
           ],
           "marker": {
            "color": "#636efa",
            "size": [
             32.5
            ],
            "sizemode": "area",
            "sizeref": 0.23675000000000002,
            "symbol": "circle"
           },
           "mode": "markers",
           "name": "Beijing",
           "showlegend": true,
           "type": "scattergeo"
          },
          {
           "geo": "geo",
           "hovertemplate": "<b>%{hovertext}</b><br><br>region=Maharashtra<br>time=2023-12-03 08:00<br>temp_f=%{marker.size}<br>lat=%{lat}<br>lon=%{lon}<extra></extra>",
           "hovertext": [
            "India"
           ],
           "lat": [
            19.08
           ],
           "legendgroup": "Maharashtra",
           "lon": [
            72.88
           ],
           "marker": {
            "color": "#EF553B",
            "size": [
             81
            ],
            "sizemode": "area",
            "sizeref": 0.23675000000000002,
            "symbol": "circle"
           },
           "mode": "markers",
           "name": "Maharashtra",
           "showlegend": true,
           "type": "scattergeo"
          },
          {
           "geo": "geo",
           "hovertemplate": "<b>%{hovertext}</b><br><br>region=Al Qahirah<br>time=2023-12-03 08:00<br>temp_f=%{marker.size}<br>lat=%{lat}<br>lon=%{lon}<extra></extra>",
           "hovertext": [
            "Egypt"
           ],
           "lat": [
            30.04
           ],
           "legendgroup": "Al Qahirah",
           "lon": [
            31.24
           ],
           "marker": {
            "color": "#00cc96",
            "size": [
             63.7
            ],
            "sizemode": "area",
            "sizeref": 0.23675000000000002,
            "symbol": "circle"
           },
           "mode": "markers",
           "name": "Al Qahirah",
           "showlegend": true,
           "type": "scattergeo"
          },
          {
           "geo": "geo",
           "hovertemplate": "<b>%{hovertext}</b><br><br>region=Lagos<br>time=2023-12-03 08:00<br>temp_f=%{marker.size}<br>lat=%{lat}<br>lon=%{lon}<extra></extra>",
           "hovertext": [
            "Nigeria"
           ],
           "lat": [
            6.52
           ],
           "legendgroup": "Lagos",
           "lon": [
            3.38
           ],
           "marker": {
            "color": "#ab63fa",
            "size": [
             80.2
            ],
            "sizemode": "area",
            "sizeref": 0.23675000000000002,
            "symbol": "circle"
           },
           "mode": "markers",
           "name": "Lagos",
           "showlegend": true,
           "type": "scattergeo"
          },
          {
           "geo": "geo",
           "hovertemplate": "<b>%{hovertext}</b><br><br>region=Gauteng<br>time=2023-12-03 08:00<br>temp_f=%{marker.size}<br>lat=%{lat}<br>lon=%{lon}<extra></extra>",
           "hovertext": [
            "South Africa"
           ],
           "lat": [
            -26.2
           ],
           "legendgroup": "Gauteng",
           "lon": [
            28.05
           ],
           "marker": {
            "color": "#FFA15A",
            "size": [
             73.9
            ],
            "sizemode": "area",
            "sizeref": 0.23675000000000002,
            "symbol": "circle"
           },
           "mode": "markers",
           "name": "Gauteng",
           "showlegend": true,
           "type": "scattergeo"
          },
          {
           "geo": "geo",
           "hovertemplate": "<b>%{hovertext}</b><br><br>region=New South Wales<br>time=2023-12-03 08:00<br>temp_f=%{marker.size}<br>lat=%{lat}<br>lon=%{lon}<extra></extra>",
           "hovertext": [
            "Australia"
           ],
           "lat": [
            -33.87
           ],
           "legendgroup": "New South Wales",
           "lon": [
            151.21
           ],
           "marker": {
            "color": "#19d3f3",
            "size": [
             69.6
            ],
            "sizemode": "area",
            "sizeref": 0.23675000000000002,
            "symbol": "circle"
           },
           "mode": "markers",
           "name": "New South Wales",
           "showlegend": true,
           "type": "scattergeo"
          },
          {
           "geo": "geo",
           "hovertemplate": "<b>%{hovertext}</b><br><br>region=Victoria<br>time=2023-12-03 08:00<br>temp_f=%{marker.size}<br>lat=%{lat}<br>lon=%{lon}<extra></extra>",
           "hovertext": [
            "Australia"
           ],
           "lat": [
            -37.81
           ],
           "legendgroup": "Victoria",
           "lon": [
            144.96
           ],
           "marker": {
            "color": "#FF6692",
            "size": [
             58.5
            ],
            "sizemode": "area",
            "sizeref": 0.23675000000000002,
            "symbol": "circle"
           },
           "mode": "markers",
           "name": "Victoria",
           "showlegend": true,
           "type": "scattergeo"
          },
          {
           "geo": "geo",
           "hovertemplate": "<b>%{hovertext}</b><br><br>region=Queensland<br>time=2023-12-03 08:00<br>temp_f=%{marker.size}<br>lat=%{lat}<br>lon=%{lon}<extra></extra>",
           "hovertext": [
            "Australia"
           ],
           "lat": [
            -27.47
           ],
           "legendgroup": "Queensland",
           "lon": [
            153.03
           ],
           "marker": {
            "color": "#B6E880",
            "size": [
             82.5
            ],
            "sizemode": "area",
            "sizeref": 0.23675000000000002,
            "symbol": "circle"
           },
           "mode": "markers",
           "name": "Queensland",
           "showlegend": true,
           "type": "scattergeo"
          }
         ],
         "name": "2023-12-03 08:00"
        },
        {
         "data": [
          {
           "geo": "geo",
           "hovertemplate": "<b>%{hovertext}</b><br><br>region=New York<br>time=2023-12-03 09:00<br>temp_f=%{marker.size}<br>lat=%{lat}<br>lon=%{lon}<extra></extra>",
           "hovertext": [
            "United States of America"
           ],
           "lat": [
            40.71
           ],
           "legendgroup": "New York",
           "lon": [
            -74.01
           ],
           "marker": {
            "color": "#636efa",
            "size": [
             50.9
            ],
            "sizemode": "area",
            "sizeref": 0.23675000000000002,
            "symbol": "circle"
           },
           "mode": "markers",
           "name": "New York",
           "showlegend": true,
           "type": "scattergeo"
          },
          {
           "geo": "geo",
           "hovertemplate": "<b>%{hovertext}</b><br><br>region=California<br>time=2023-12-03 09:00<br>temp_f=%{marker.size}<br>lat=%{lat}<br>lon=%{lon}<extra></extra>",
           "hovertext": [
            "United States of America"
           ],
           "lat": [
            34.05
           ],
           "legendgroup": "California",
           "lon": [
            -118.24
           ],
           "marker": {
            "color": "#EF553B",
            "size": [
             58.6
            ],
            "sizemode": "area",
            "sizeref": 0.23675000000000002,
            "symbol": "circle"
           },
           "mode": "markers",
           "name": "California",
           "showlegend": true,
           "type": "scattergeo"
          },
          {
           "geo": "geo",
           "hovertemplate": "<b>%{hovertext}</b><br><br>region=Ontario<br>time=2023-12-03 09:00<br>temp_f=%{marker.size}<br>lat=%{lat}<br>lon=%{lon}<extra></extra>",
           "hovertext": [
            "Canada"
           ],
           "lat": [
            43.65
           ],
           "legendgroup": "Ontario",
           "lon": [
            -79.38
           ],
           "marker": {
            "color": "#00cc96",
            "size": [
             37.8
            ],
            "sizemode": "area",
            "sizeref": 0.23675000000000002,
            "symbol": "circle"
           },
           "mode": "markers",
           "name": "Ontario",
           "showlegend": true,
           "type": "scattergeo"
          },
          {
           "geo": "geo",
           "hovertemplate": "<b>%{hovertext}</b><br><br>region=Sao Paulo<br>time=2023-12-03 09:00<br>temp_f=%{marker.size}<br>lat=%{lat}<br>lon=%{lon}<extra></extra>",
           "hovertext": [
            "Brazil"
           ],
           "lat": [
            -23.55
           ],
           "legendgroup": "Sao Paulo",
           "lon": [
            -46.63
           ],
           "marker": {
            "color": "#ab63fa",
            "size": [
             86.9
            ],
            "sizemode": "area",
            "sizeref": 0.23675000000000002,
            "symbol": "circle"
           },
           "mode": "markers",
           "name": "Sao Paulo",
           "showlegend": true,
           "type": "scattergeo"
          },
          {
           "geo": "geo",
           "hovertemplate": "<b>%{hovertext}</b><br><br>region=Buenos Aires<br>time=2023-12-03 09:00<br>temp_f=%{marker.size}<br>lat=%{lat}<br>lon=%{lon}<extra></extra>",
           "hovertext": [
            "Argentina"
           ],
           "lat": [
            -34.6
           ],
           "legendgroup": "Buenos Aires",
           "lon": [
            -58.38
           ],
           "marker": {
            "color": "#FFA15A",
            "size": [
             59.8
            ],
            "sizemode": "area",
            "sizeref": 0.23675000000000002,
            "symbol": "circle"
           },
           "mode": "markers",
           "name": "Buenos Aires",
           "showlegend": true,
           "type": "scattergeo"
          },
          {
           "geo": "geo",
           "hovertemplate": "<b>%{hovertext}</b><br><br>region=Cundinamarca<br>time=2023-12-03 09:00<br>temp_f=%{marker.size}<br>lat=%{lat}<br>lon=%{lon}<extra></extra>",
           "hovertext": [
            "Colombia"
           ],
           "lat": [
            4.71
           ],
           "legendgroup": "Cundinamarca",
           "lon": [
            -74.07
           ],
           "marker": {
            "color": "#19d3f3",
            "size": [
             64
            ],
            "sizemode": "area",
            "sizeref": 0.23675000000000002,
            "symbol": "circle"
           },
           "mode": "markers",
           "name": "Cundinamarca",
           "showlegend": true,
           "type": "scattergeo"
          },
          {
           "geo": "geo",
           "hovertemplate": "<b>%{hovertext}</b><br><br>region=City of London, Greater London<br>time=2023-12-03 09:00<br>temp_f=%{marker.size}<br>lat=%{lat}<br>lon=%{lon}<extra></extra>",
           "hovertext": [
            "United Kingdom"
           ],
           "lat": [
            51.51
           ],
           "legendgroup": "City of London, Greater London",
           "lon": [
            -0.13
           ],
           "marker": {
            "color": "#FF6692",
            "size": [
             41.8
            ],
            "sizemode": "area",
            "sizeref": 0.23675000000000002,
            "symbol": "circle"
           },
           "mode": "markers",
           "name": "City of London, Greater London",
           "showlegend": true,
           "type": "scattergeo"
          },
          {
           "geo": "geo",
           "hovertemplate": "<b>%{hovertext}</b><br><br>region=Ile-de-France<br>time=2023-12-03 09:00<br>temp_f=%{marker.size}<br>lat=%{lat}<br>lon=%{lon}<extra></extra>",
           "hovertext": [
            "France"
           ],
           "lat": [
            48.86
           ],
           "legendgroup": "Ile-de-France",
           "lon": [
            2.35
           ],
           "marker": {
            "color": "#B6E880",
            "size": [
             31.9
            ],
            "sizemode": "area",
            "sizeref": 0.23675000000000002,
            "symbol": "circle"
           },
           "mode": "markers",
           "name": "Ile-de-France",
           "showlegend": true,
           "type": "scattergeo"
          },
          {
           "geo": "geo",
           "hovertemplate": "<b>%{hovertext}</b><br><br>region=Berlin<br>time=2023-12-03 09:00<br>temp_f=%{marker.size}<br>lat=%{lat}<br>lon=%{lon}<extra></extra>",
           "hovertext": [
            "Germany"
           ],
           "lat": [
            52.52
           ],
           "legendgroup": "Berlin",
           "lon": [
            13.41
           ],
           "marker": {
            "color": "#FF97FF",
            "size": [
             27.2
            ],
            "sizemode": "area",
            "sizeref": 0.23675000000000002,
            "symbol": "circle"
           },
           "mode": "markers",
           "name": "Berlin",
           "showlegend": true,
           "type": "scattergeo"
          },
          {
           "geo": "geo",
           "hovertemplate": "<b>%{hovertext}</b><br><br>region=Tokyo<br>time=2023-12-03 09:00<br>temp_f=%{marker.size}<br>lat=%{lat}<br>lon=%{lon}<extra></extra>",
           "hovertext": [
            "Japan"
           ],
           "lat": [
            35.68
           ],
           "legendgroup": "Tokyo",
           "lon": [
            139.65
           ],
           "marker": {
            "color": "#FECB52",
            "size": [
             48.2
            ],
            "sizemode": "area",
            "sizeref": 0.23675000000000002,
            "symbol": "circle"
           },
           "mode": "markers",
           "name": "Tokyo",
           "showlegend": true,
           "type": "scattergeo"
          },
          {
           "geo": "geo",
           "hovertemplate": "<b>%{hovertext}</b><br><br>region=Beijing<br>time=2023-12-03 09:00<br>temp_f=%{marker.size}<br>lat=%{lat}<br>lon=%{lon}<extra></extra>",
           "hovertext": [
            "China"
           ],
           "lat": [
            39.9
           ],
           "legendgroup": "Beijing",
           "lon": [
            116.41
           ],
           "marker": {
            "color": "#636efa",
            "size": [
             34.3
            ],
            "sizemode": "area",
            "sizeref": 0.23675000000000002,
            "symbol": "circle"
           },
           "mode": "markers",
           "name": "Beijing",
           "showlegend": true,
           "type": "scattergeo"
          },
          {
           "geo": "geo",
           "hovertemplate": "<b>%{hovertext}</b><br><br>region=Maharashtra<br>time=2023-12-03 09:00<br>temp_f=%{marker.size}<br>lat=%{lat}<br>lon=%{lon}<extra></extra>",
           "hovertext": [
            "India"
           ],
           "lat": [
            19.08
           ],
           "legendgroup": "Maharashtra",
           "lon": [
            72.88
           ],
           "marker": {
            "color": "#EF553B",
            "size": [
             82.8
            ],
            "sizemode": "area",
            "sizeref": 0.23675000000000002,
            "symbol": "circle"
           },
           "mode": "markers",
           "name": "Maharashtra",
           "showlegend": true,
           "type": "scattergeo"
          },
          {
           "geo": "geo",
           "hovertemplate": "<b>%{hovertext}</b><br><br>region=Al Qahirah<br>time=2023-12-03 09:00<br>temp_f=%{marker.size}<br>lat=%{lat}<br>lon=%{lon}<extra></extra>",
           "hovertext": [
            "Egypt"
           ],
           "lat": [
            30.04
           ],
           "legendgroup": "Al Qahirah",
           "lon": [
            31.24
           ],
           "marker": {
            "color": "#00cc96",
            "size": [
             67.2
            ],
            "sizemode": "area",
            "sizeref": 0.23675000000000002,
            "symbol": "circle"
           },
           "mode": "markers",
           "name": "Al Qahirah",
           "showlegend": true,
           "type": "scattergeo"
          },
          {
           "geo": "geo",
           "hovertemplate": "<b>%{hovertext}</b><br><br>region=Lagos<br>time=2023-12-03 09:00<br>temp_f=%{marker.size}<br>lat=%{lat}<br>lon=%{lon}<extra></extra>",
           "hovertext": [
            "Nigeria"
           ],
           "lat": [
            6.52
           ],
           "legendgroup": "Lagos",
           "lon": [
            3.38
           ],
           "marker": {
            "color": "#ab63fa",
            "size": [
             81.3
            ],
            "sizemode": "area",
            "sizeref": 0.23675000000000002,
            "symbol": "circle"
           },
           "mode": "markers",
           "name": "Lagos",
           "showlegend": true,
           "type": "scattergeo"
          },
          {
           "geo": "geo",
           "hovertemplate": "<b>%{hovertext}</b><br><br>region=Gauteng<br>time=2023-12-03 09:00<br>temp_f=%{marker.size}<br>lat=%{lat}<br>lon=%{lon}<extra></extra>",
           "hovertext": [
            "South Africa"
           ],
           "lat": [
            -26.2
           ],
           "legendgroup": "Gauteng",
           "lon": [
            28.05
           ],
           "marker": {
            "color": "#FFA15A",
            "size": [
             77.3
            ],
            "sizemode": "area",
            "sizeref": 0.23675000000000002,
            "symbol": "circle"
           },
           "mode": "markers",
           "name": "Gauteng",
           "showlegend": true,
           "type": "scattergeo"
          },
          {
           "geo": "geo",
           "hovertemplate": "<b>%{hovertext}</b><br><br>region=New South Wales<br>time=2023-12-03 09:00<br>temp_f=%{marker.size}<br>lat=%{lat}<br>lon=%{lon}<extra></extra>",
           "hovertext": [
            "Australia"
           ],
           "lat": [
            -33.87
           ],
           "legendgroup": "New South Wales",
           "lon": [
            151.21
           ],
           "marker": {
            "color": "#19d3f3",
            "size": [
             72.2
            ],
            "sizemode": "area",
            "sizeref": 0.23675000000000002,
            "symbol": "circle"
           },
           "mode": "markers",
           "name": "New South Wales",
           "showlegend": true,
           "type": "scattergeo"
          },
          {
           "geo": "geo",
           "hovertemplate": "<b>%{hovertext}</b><br><br>region=Victoria<br>time=2023-12-03 09:00<br>temp_f=%{marker.size}<br>lat=%{lat}<br>lon=%{lon}<extra></extra>",
           "hovertext": [
            "Australia"
           ],
           "lat": [
            -37.81
           ],
           "legendgroup": "Victoria",
           "lon": [
            144.96
           ],
           "marker": {
            "color": "#FF6692",
            "size": [
             61.8
            ],
            "sizemode": "area",
            "sizeref": 0.23675000000000002,
            "symbol": "circle"
           },
           "mode": "markers",
           "name": "Victoria",
           "showlegend": true,
           "type": "scattergeo"
          },
          {
           "geo": "geo",
           "hovertemplate": "<b>%{hovertext}</b><br><br>region=Queensland<br>time=2023-12-03 09:00<br>temp_f=%{marker.size}<br>lat=%{lat}<br>lon=%{lon}<extra></extra>",
           "hovertext": [
            "Australia"
           ],
           "lat": [
            -27.47
           ],
           "legendgroup": "Queensland",
           "lon": [
            153.03
           ],
           "marker": {
            "color": "#B6E880",
            "size": [
             85.9
            ],
            "sizemode": "area",
            "sizeref": 0.23675000000000002,
            "symbol": "circle"
           },
           "mode": "markers",
           "name": "Queensland",
           "showlegend": true,
           "type": "scattergeo"
          }
         ],
         "name": "2023-12-03 09:00"
        },
        {
         "data": [
          {
           "geo": "geo",
           "hovertemplate": "<b>%{hovertext}</b><br><br>region=New York<br>time=2023-12-03 10:00<br>temp_f=%{marker.size}<br>lat=%{lat}<br>lon=%{lon}<extra></extra>",
           "hovertext": [
            "United States of America"
           ],
           "lat": [
            40.71
           ],
           "legendgroup": "New York",
           "lon": [
            -74.01
           ],
           "marker": {
            "color": "#636efa",
            "size": [
             51.4
            ],
            "sizemode": "area",
            "sizeref": 0.23675000000000002,
            "symbol": "circle"
           },
           "mode": "markers",
           "name": "New York",
           "showlegend": true,
           "type": "scattergeo"
          },
          {
           "geo": "geo",
           "hovertemplate": "<b>%{hovertext}</b><br><br>region=California<br>time=2023-12-03 10:00<br>temp_f=%{marker.size}<br>lat=%{lat}<br>lon=%{lon}<extra></extra>",
           "hovertext": [
            "United States of America"
           ],
           "lat": [
            34.05
           ],
           "legendgroup": "California",
           "lon": [
            -118.24
           ],
           "marker": {
            "color": "#EF553B",
            "size": [
             61.2
            ],
            "sizemode": "area",
            "sizeref": 0.23675000000000002,
            "symbol": "circle"
           },
           "mode": "markers",
           "name": "California",
           "showlegend": true,
           "type": "scattergeo"
          },
          {
           "geo": "geo",
           "hovertemplate": "<b>%{hovertext}</b><br><br>region=Ontario<br>time=2023-12-03 10:00<br>temp_f=%{marker.size}<br>lat=%{lat}<br>lon=%{lon}<extra></extra>",
           "hovertext": [
            "Canada"
           ],
           "lat": [
            43.65
           ],
           "legendgroup": "Ontario",
           "lon": [
            -79.38
           ],
           "marker": {
            "color": "#00cc96",
            "size": [
             37.9
            ],
            "sizemode": "area",
            "sizeref": 0.23675000000000002,
            "symbol": "circle"
           },
           "mode": "markers",
           "name": "Ontario",
           "showlegend": true,
           "type": "scattergeo"
          },
          {
           "geo": "geo",
           "hovertemplate": "<b>%{hovertext}</b><br><br>region=Sao Paulo<br>time=2023-12-03 10:00<br>temp_f=%{marker.size}<br>lat=%{lat}<br>lon=%{lon}<extra></extra>",
           "hovertext": [
            "Brazil"
           ],
           "lat": [
            -23.55
           ],
           "legendgroup": "Sao Paulo",
           "lon": [
            -46.63
           ],
           "marker": {
            "color": "#ab63fa",
            "size": [
             90.1
            ],
            "sizemode": "area",
            "sizeref": 0.23675000000000002,
            "symbol": "circle"
           },
           "mode": "markers",
           "name": "Sao Paulo",
           "showlegend": true,
           "type": "scattergeo"
          },
          {
           "geo": "geo",
           "hovertemplate": "<b>%{hovertext}</b><br><br>region=Buenos Aires<br>time=2023-12-03 10:00<br>temp_f=%{marker.size}<br>lat=%{lat}<br>lon=%{lon}<extra></extra>",
           "hovertext": [
            "Argentina"
           ],
           "lat": [
            -34.6
           ],
           "legendgroup": "Buenos Aires",
           "lon": [
            -58.38
           ],
           "marker": {
            "color": "#FFA15A",
            "size": [
             60.9
            ],
            "sizemode": "area",
            "sizeref": 0.23675000000000002,
            "symbol": "circle"
           },
           "mode": "markers",
           "name": "Buenos Aires",
           "showlegend": true,
           "type": "scattergeo"
          },
          {
           "geo": "geo",
           "hovertemplate": "<b>%{hovertext}</b><br><br>region=Cundinamarca<br>time=2023-12-03 10:00<br>temp_f=%{marker.size}<br>lat=%{lat}<br>lon=%{lon}<extra></extra>",
           "hovertext": [
            "Colombia"
           ],
           "lat": [
            4.71
           ],
           "legendgroup": "Cundinamarca",
           "lon": [
            -74.07
           ],
           "marker": {
            "color": "#19d3f3",
            "size": [
             67.6
            ],
            "sizemode": "area",
            "sizeref": 0.23675000000000002,
            "symbol": "circle"
           },
           "mode": "markers",
           "name": "Cundinamarca",
           "showlegend": true,
           "type": "scattergeo"
          },
          {
           "geo": "geo",
           "hovertemplate": "<b>%{hovertext}</b><br><br>region=City of London, Greater London<br>time=2023-12-03 10:00<br>temp_f=%{marker.size}<br>lat=%{lat}<br>lon=%{lon}<extra></extra>",
           "hovertext": [
            "United Kingdom"
           ],
           "lat": [
            51.51
           ],
           "legendgroup": "City of London, Greater London",
           "lon": [
            -0.13
           ],
           "marker": {
            "color": "#FF6692",
            "size": [
             43
            ],
            "sizemode": "area",
            "sizeref": 0.23675000000000002,
            "symbol": "circle"
           },
           "mode": "markers",
           "name": "City of London, Greater London",
           "showlegend": true,
           "type": "scattergeo"
          },
          {
           "geo": "geo",
           "hovertemplate": "<b>%{hovertext}</b><br><br>region=Ile-de-France<br>time=2023-12-03 10:00<br>temp_f=%{marker.size}<br>lat=%{lat}<br>lon=%{lon}<extra></extra>",
           "hovertext": [
            "France"
           ],
           "lat": [
            48.86
           ],
           "legendgroup": "Ile-de-France",
           "lon": [
            2.35
           ],
           "marker": {
            "color": "#B6E880",
            "size": [
             33.6
            ],
            "sizemode": "area",
            "sizeref": 0.23675000000000002,
            "symbol": "circle"
           },
           "mode": "markers",
           "name": "Ile-de-France",
           "showlegend": true,
           "type": "scattergeo"
          },
          {
           "geo": "geo",
           "hovertemplate": "<b>%{hovertext}</b><br><br>region=Berlin<br>time=2023-12-03 10:00<br>temp_f=%{marker.size}<br>lat=%{lat}<br>lon=%{lon}<extra></extra>",
           "hovertext": [
            "Germany"
           ],
           "lat": [
            52.52
           ],
           "legendgroup": "Berlin",
           "lon": [
            13.41
           ],
           "marker": {
            "color": "#FF97FF",
            "size": [
             27.9
            ],
            "sizemode": "area",
            "sizeref": 0.23675000000000002,
            "symbol": "circle"
           },
           "mode": "markers",
           "name": "Berlin",
           "showlegend": true,
           "type": "scattergeo"
          },
          {
           "geo": "geo",
           "hovertemplate": "<b>%{hovertext}</b><br><br>region=Tokyo<br>time=2023-12-03 10:00<br>temp_f=%{marker.size}<br>lat=%{lat}<br>lon=%{lon}<extra></extra>",
           "hovertext": [
            "Japan"
           ],
           "lat": [
            35.68
           ],
           "legendgroup": "Tokyo",
           "lon": [
            139.65
           ],
           "marker": {
            "color": "#FECB52",
            "size": [
             49.5
            ],
            "sizemode": "area",
            "sizeref": 0.23675000000000002,
            "symbol": "circle"
           },
           "mode": "markers",
           "name": "Tokyo",
           "showlegend": true,
           "type": "scattergeo"
          },
          {
           "geo": "geo",
           "hovertemplate": "<b>%{hovertext}</b><br><br>region=Beijing<br>time=2023-12-03 10:00<br>temp_f=%{marker.size}<br>lat=%{lat}<br>lon=%{lon}<extra></extra>",
           "hovertext": [
            "China"
           ],
           "lat": [
            39.9
           ],
           "legendgroup": "Beijing",
           "lon": [
            116.41
           ],
           "marker": {
            "color": "#636efa",
            "size": [
             36.5
            ],
            "sizemode": "area",
            "sizeref": 0.23675000000000002,
            "symbol": "circle"
           },
           "mode": "markers",
           "name": "Beijing",
           "showlegend": true,
           "type": "scattergeo"
          },
          {
           "geo": "geo",
           "hovertemplate": "<b>%{hovertext}</b><br><br>region=Maharashtra<br>time=2023-12-03 10:00<br>temp_f=%{marker.size}<br>lat=%{lat}<br>lon=%{lon}<extra></extra>",
           "hovertext": [
            "India"
           ],
           "lat": [
            19.08
           ],
           "legendgroup": "Maharashtra",
           "lon": [
            72.88
           ],
           "marker": {
            "color": "#EF553B",
            "size": [
             84.3
            ],
            "sizemode": "area",
            "sizeref": 0.23675000000000002,
            "symbol": "circle"
           },
           "mode": "markers",
           "name": "Maharashtra",
           "showlegend": true,
           "type": "scattergeo"
          },
          {
           "geo": "geo",
           "hovertemplate": "<b>%{hovertext}</b><br><br>region=Al Qahirah<br>time=2023-12-03 10:00<br>temp_f=%{marker.size}<br>lat=%{lat}<br>lon=%{lon}<extra></extra>",
           "hovertext": [
            "Egypt"
           ],
           "lat": [
            30.04
           ],
           "legendgroup": "Al Qahirah",
           "lon": [
            31.24
           ],
           "marker": {
            "color": "#00cc96",
            "size": [
             70.3
            ],
            "sizemode": "area",
            "sizeref": 0.23675000000000002,
            "symbol": "circle"
           },
           "mode": "markers",
           "name": "Al Qahirah",
           "showlegend": true,
           "type": "scattergeo"
          },
          {
           "geo": "geo",
           "hovertemplate": "<b>%{hovertext}</b><br><br>region=Lagos<br>time=2023-12-03 10:00<br>temp_f=%{marker.size}<br>lat=%{lat}<br>lon=%{lon}<extra></extra>",
           "hovertext": [
            "Nigeria"
           ],
           "lat": [
            6.52
           ],
           "legendgroup": "Lagos",
           "lon": [
            3.38
           ],
           "marker": {
            "color": "#ab63fa",
            "size": [
             82.7
            ],
            "sizemode": "area",
            "sizeref": 0.23675000000000002,
            "symbol": "circle"
           },
           "mode": "markers",
           "name": "Lagos",
           "showlegend": true,
           "type": "scattergeo"
          },
          {
           "geo": "geo",
           "hovertemplate": "<b>%{hovertext}</b><br><br>region=Gauteng<br>time=2023-12-03 10:00<br>temp_f=%{marker.size}<br>lat=%{lat}<br>lon=%{lon}<extra></extra>",
           "hovertext": [
            "South Africa"
           ],
           "lat": [
            -26.2
           ],
           "legendgroup": "Gauteng",
           "lon": [
            28.05
           ],
           "marker": {
            "color": "#FFA15A",
            "size": [
             80.8
            ],
            "sizemode": "area",
            "sizeref": 0.23675000000000002,
            "symbol": "circle"
           },
           "mode": "markers",
           "name": "Gauteng",
           "showlegend": true,
           "type": "scattergeo"
          },
          {
           "geo": "geo",
           "hovertemplate": "<b>%{hovertext}</b><br><br>region=New South Wales<br>time=2023-12-03 10:00<br>temp_f=%{marker.size}<br>lat=%{lat}<br>lon=%{lon}<extra></extra>",
           "hovertext": [
            "Australia"
           ],
           "lat": [
            -33.87
           ],
           "legendgroup": "New South Wales",
           "lon": [
            151.21
           ],
           "marker": {
            "color": "#19d3f3",
            "size": [
             73.4
            ],
            "sizemode": "area",
            "sizeref": 0.23675000000000002,
            "symbol": "circle"
           },
           "mode": "markers",
           "name": "New South Wales",
           "showlegend": true,
           "type": "scattergeo"
          },
          {
           "geo": "geo",
           "hovertemplate": "<b>%{hovertext}</b><br><br>region=Victoria<br>time=2023-12-03 10:00<br>temp_f=%{marker.size}<br>lat=%{lat}<br>lon=%{lon}<extra></extra>",
           "hovertext": [
            "Australia"
           ],
           "lat": [
            -37.81
           ],
           "legendgroup": "Victoria",
           "lon": [
            144.96
           ],
           "marker": {
            "color": "#FF6692",
            "size": [
             64.7
            ],
            "sizemode": "area",
            "sizeref": 0.23675000000000002,
            "symbol": "circle"
           },
           "mode": "markers",
           "name": "Victoria",
           "showlegend": true,
           "type": "scattergeo"
          },
          {
           "geo": "geo",
           "hovertemplate": "<b>%{hovertext}</b><br><br>region=Queensland<br>time=2023-12-03 10:00<br>temp_f=%{marker.size}<br>lat=%{lat}<br>lon=%{lon}<extra></extra>",
           "hovertext": [
            "Australia"
           ],
           "lat": [
            -27.47
           ],
           "legendgroup": "Queensland",
           "lon": [
            153.03
           ],
           "marker": {
            "color": "#B6E880",
            "size": [
             87.9
            ],
            "sizemode": "area",
            "sizeref": 0.23675000000000002,
            "symbol": "circle"
           },
           "mode": "markers",
           "name": "Queensland",
           "showlegend": true,
           "type": "scattergeo"
          }
         ],
         "name": "2023-12-03 10:00"
        },
        {
         "data": [
          {
           "geo": "geo",
           "hovertemplate": "<b>%{hovertext}</b><br><br>region=New York<br>time=2023-12-03 11:00<br>temp_f=%{marker.size}<br>lat=%{lat}<br>lon=%{lon}<extra></extra>",
           "hovertext": [
            "United States of America"
           ],
           "lat": [
            40.71
           ],
           "legendgroup": "New York",
           "lon": [
            -74.01
           ],
           "marker": {
            "color": "#636efa",
            "size": [
             44.4
            ],
            "sizemode": "area",
            "sizeref": 0.23675000000000002,
            "symbol": "circle"
           },
           "mode": "markers",
           "name": "New York",
           "showlegend": true,
           "type": "scattergeo"
          },
          {
           "geo": "geo",
           "hovertemplate": "<b>%{hovertext}</b><br><br>region=California<br>time=2023-12-03 11:00<br>temp_f=%{marker.size}<br>lat=%{lat}<br>lon=%{lon}<extra></extra>",
           "hovertext": [
            "United States of America"
           ],
           "lat": [
            34.05
           ],
           "legendgroup": "California",
           "lon": [
            -118.24
           ],
           "marker": {
            "color": "#EF553B",
            "size": [
             65.7
            ],
            "sizemode": "area",
            "sizeref": 0.23675000000000002,
            "symbol": "circle"
           },
           "mode": "markers",
           "name": "California",
           "showlegend": true,
           "type": "scattergeo"
          },
          {
           "geo": "geo",
           "hovertemplate": "<b>%{hovertext}</b><br><br>region=Ontario<br>time=2023-12-03 11:00<br>temp_f=%{marker.size}<br>lat=%{lat}<br>lon=%{lon}<extra></extra>",
           "hovertext": [
            "Canada"
           ],
           "lat": [
            43.65
           ],
           "legendgroup": "Ontario",
           "lon": [
            -79.38
           ],
           "marker": {
            "color": "#00cc96",
            "size": [
             36.5
            ],
            "sizemode": "area",
            "sizeref": 0.23675000000000002,
            "symbol": "circle"
           },
           "mode": "markers",
           "name": "Ontario",
           "showlegend": true,
           "type": "scattergeo"
          },
          {
           "geo": "geo",
           "hovertemplate": "<b>%{hovertext}</b><br><br>region=Sao Paulo<br>time=2023-12-03 11:00<br>temp_f=%{marker.size}<br>lat=%{lat}<br>lon=%{lon}<extra></extra>",
           "hovertext": [
            "Brazil"
           ],
           "lat": [
            -23.55
           ],
           "legendgroup": "Sao Paulo",
           "lon": [
            -46.63
           ],
           "marker": {
            "color": "#ab63fa",
            "size": [
             92
            ],
            "sizemode": "area",
            "sizeref": 0.23675000000000002,
            "symbol": "circle"
           },
           "mode": "markers",
           "name": "Sao Paulo",
           "showlegend": true,
           "type": "scattergeo"
          },
          {
           "geo": "geo",
           "hovertemplate": "<b>%{hovertext}</b><br><br>region=Buenos Aires<br>time=2023-12-03 11:00<br>temp_f=%{marker.size}<br>lat=%{lat}<br>lon=%{lon}<extra></extra>",
           "hovertext": [
            "Argentina"
           ],
           "lat": [
            -34.6
           ],
           "legendgroup": "Buenos Aires",
           "lon": [
            -58.38
           ],
           "marker": {
            "color": "#FFA15A",
            "size": [
             61.6
            ],
            "sizemode": "area",
            "sizeref": 0.23675000000000002,
            "symbol": "circle"
           },
           "mode": "markers",
           "name": "Buenos Aires",
           "showlegend": true,
           "type": "scattergeo"
          },
          {
           "geo": "geo",
           "hovertemplate": "<b>%{hovertext}</b><br><br>region=Cundinamarca<br>time=2023-12-03 11:00<br>temp_f=%{marker.size}<br>lat=%{lat}<br>lon=%{lon}<extra></extra>",
           "hovertext": [
            "Colombia"
           ],
           "lat": [
            4.71
           ],
           "legendgroup": "Cundinamarca",
           "lon": [
            -74.07
           ],
           "marker": {
            "color": "#19d3f3",
            "size": [
             69.3
            ],
            "sizemode": "area",
            "sizeref": 0.23675000000000002,
            "symbol": "circle"
           },
           "mode": "markers",
           "name": "Cundinamarca",
           "showlegend": true,
           "type": "scattergeo"
          },
          {
           "geo": "geo",
           "hovertemplate": "<b>%{hovertext}</b><br><br>region=City of London, Greater London<br>time=2023-12-03 11:00<br>temp_f=%{marker.size}<br>lat=%{lat}<br>lon=%{lon}<extra></extra>",
           "hovertext": [
            "United Kingdom"
           ],
           "lat": [
            51.51
           ],
           "legendgroup": "City of London, Greater London",
           "lon": [
            -0.13
           ],
           "marker": {
            "color": "#FF6692",
            "size": [
             44.7
            ],
            "sizemode": "area",
            "sizeref": 0.23675000000000002,
            "symbol": "circle"
           },
           "mode": "markers",
           "name": "City of London, Greater London",
           "showlegend": true,
           "type": "scattergeo"
          },
          {
           "geo": "geo",
           "hovertemplate": "<b>%{hovertext}</b><br><br>region=Ile-de-France<br>time=2023-12-03 11:00<br>temp_f=%{marker.size}<br>lat=%{lat}<br>lon=%{lon}<extra></extra>",
           "hovertext": [
            "France"
           ],
           "lat": [
            48.86
           ],
           "legendgroup": "Ile-de-France",
           "lon": [
            2.35
           ],
           "marker": {
            "color": "#B6E880",
            "size": [
             35.2
            ],
            "sizemode": "area",
            "sizeref": 0.23675000000000002,
            "symbol": "circle"
           },
           "mode": "markers",
           "name": "Ile-de-France",
           "showlegend": true,
           "type": "scattergeo"
          },
          {
           "geo": "geo",
           "hovertemplate": "<b>%{hovertext}</b><br><br>region=Berlin<br>time=2023-12-03 11:00<br>temp_f=%{marker.size}<br>lat=%{lat}<br>lon=%{lon}<extra></extra>",
           "hovertext": [
            "Germany"
           ],
           "lat": [
            52.52
           ],
           "legendgroup": "Berlin",
           "lon": [
            13.41
           ],
           "marker": {
            "color": "#FF97FF",
            "size": [
             29.1
            ],
            "sizemode": "area",
            "sizeref": 0.23675000000000002,
            "symbol": "circle"
           },
           "mode": "markers",
           "name": "Berlin",
           "showlegend": true,
           "type": "scattergeo"
          },
          {
           "geo": "geo",
           "hovertemplate": "<b>%{hovertext}</b><br><br>region=Tokyo<br>time=2023-12-03 11:00<br>temp_f=%{marker.size}<br>lat=%{lat}<br>lon=%{lon}<extra></extra>",
           "hovertext": [
            "Japan"
           ],
           "lat": [
            35.68
           ],
           "legendgroup": "Tokyo",
           "lon": [
            139.65
           ],
           "marker": {
            "color": "#FECB52",
            "size": [
             50.9
            ],
            "sizemode": "area",
            "sizeref": 0.23675000000000002,
            "symbol": "circle"
           },
           "mode": "markers",
           "name": "Tokyo",
           "showlegend": true,
           "type": "scattergeo"
          },
          {
           "geo": "geo",
           "hovertemplate": "<b>%{hovertext}</b><br><br>region=Beijing<br>time=2023-12-03 11:00<br>temp_f=%{marker.size}<br>lat=%{lat}<br>lon=%{lon}<extra></extra>",
           "hovertext": [
            "China"
           ],
           "lat": [
            39.9
           ],
           "legendgroup": "Beijing",
           "lon": [
            116.41
           ],
           "marker": {
            "color": "#636efa",
            "size": [
             38.6
            ],
            "sizemode": "area",
            "sizeref": 0.23675000000000002,
            "symbol": "circle"
           },
           "mode": "markers",
           "name": "Beijing",
           "showlegend": true,
           "type": "scattergeo"
          },
          {
           "geo": "geo",
           "hovertemplate": "<b>%{hovertext}</b><br><br>region=Maharashtra<br>time=2023-12-03 11:00<br>temp_f=%{marker.size}<br>lat=%{lat}<br>lon=%{lon}<extra></extra>",
           "hovertext": [
            "India"
           ],
           "lat": [
            19.08
           ],
           "legendgroup": "Maharashtra",
           "lon": [
            72.88
           ],
           "marker": {
            "color": "#EF553B",
            "size": [
             85.6
            ],
            "sizemode": "area",
            "sizeref": 0.23675000000000002,
            "symbol": "circle"
           },
           "mode": "markers",
           "name": "Maharashtra",
           "showlegend": true,
           "type": "scattergeo"
          },
          {
           "geo": "geo",
           "hovertemplate": "<b>%{hovertext}</b><br><br>region=Al Qahirah<br>time=2023-12-03 11:00<br>temp_f=%{marker.size}<br>lat=%{lat}<br>lon=%{lon}<extra></extra>",
           "hovertext": [
            "Egypt"
           ],
           "lat": [
            30.04
           ],
           "legendgroup": "Al Qahirah",
           "lon": [
            31.24
           ],
           "marker": {
            "color": "#00cc96",
            "size": [
             73.2
            ],
            "sizemode": "area",
            "sizeref": 0.23675000000000002,
            "symbol": "circle"
           },
           "mode": "markers",
           "name": "Al Qahirah",
           "showlegend": true,
           "type": "scattergeo"
          },
          {
           "geo": "geo",
           "hovertemplate": "<b>%{hovertext}</b><br><br>region=Lagos<br>time=2023-12-03 11:00<br>temp_f=%{marker.size}<br>lat=%{lat}<br>lon=%{lon}<extra></extra>",
           "hovertext": [
            "Nigeria"
           ],
           "lat": [
            6.52
           ],
           "legendgroup": "Lagos",
           "lon": [
            3.38
           ],
           "marker": {
            "color": "#ab63fa",
            "size": [
             83.7
            ],
            "sizemode": "area",
            "sizeref": 0.23675000000000002,
            "symbol": "circle"
           },
           "mode": "markers",
           "name": "Lagos",
           "showlegend": true,
           "type": "scattergeo"
          },
          {
           "geo": "geo",
           "hovertemplate": "<b>%{hovertext}</b><br><br>region=Gauteng<br>time=2023-12-03 11:00<br>temp_f=%{marker.size}<br>lat=%{lat}<br>lon=%{lon}<extra></extra>",
           "hovertext": [
            "South Africa"
           ],
           "lat": [
            -26.2
           ],
           "legendgroup": "Gauteng",
           "lon": [
            28.05
           ],
           "marker": {
            "color": "#FFA15A",
            "size": [
             84.1
            ],
            "sizemode": "area",
            "sizeref": 0.23675000000000002,
            "symbol": "circle"
           },
           "mode": "markers",
           "name": "Gauteng",
           "showlegend": true,
           "type": "scattergeo"
          },
          {
           "geo": "geo",
           "hovertemplate": "<b>%{hovertext}</b><br><br>region=New South Wales<br>time=2023-12-03 11:00<br>temp_f=%{marker.size}<br>lat=%{lat}<br>lon=%{lon}<extra></extra>",
           "hovertext": [
            "Australia"
           ],
           "lat": [
            -33.87
           ],
           "legendgroup": "New South Wales",
           "lon": [
            151.21
           ],
           "marker": {
            "color": "#19d3f3",
            "size": [
             74
            ],
            "sizemode": "area",
            "sizeref": 0.23675000000000002,
            "symbol": "circle"
           },
           "mode": "markers",
           "name": "New South Wales",
           "showlegend": true,
           "type": "scattergeo"
          },
          {
           "geo": "geo",
           "hovertemplate": "<b>%{hovertext}</b><br><br>region=Victoria<br>time=2023-12-03 11:00<br>temp_f=%{marker.size}<br>lat=%{lat}<br>lon=%{lon}<extra></extra>",
           "hovertext": [
            "Australia"
           ],
           "lat": [
            -37.81
           ],
           "legendgroup": "Victoria",
           "lon": [
            144.96
           ],
           "marker": {
            "color": "#FF6692",
            "size": [
             66.5
            ],
            "sizemode": "area",
            "sizeref": 0.23675000000000002,
            "symbol": "circle"
           },
           "mode": "markers",
           "name": "Victoria",
           "showlegend": true,
           "type": "scattergeo"
          },
          {
           "geo": "geo",
           "hovertemplate": "<b>%{hovertext}</b><br><br>region=Queensland<br>time=2023-12-03 11:00<br>temp_f=%{marker.size}<br>lat=%{lat}<br>lon=%{lon}<extra></extra>",
           "hovertext": [
            "Australia"
           ],
           "lat": [
            -27.47
           ],
           "legendgroup": "Queensland",
           "lon": [
            153.03
           ],
           "marker": {
            "color": "#B6E880",
            "size": [
             89.4
            ],
            "sizemode": "area",
            "sizeref": 0.23675000000000002,
            "symbol": "circle"
           },
           "mode": "markers",
           "name": "Queensland",
           "showlegend": true,
           "type": "scattergeo"
          }
         ],
         "name": "2023-12-03 11:00"
        },
        {
         "data": [
          {
           "geo": "geo",
           "hovertemplate": "<b>%{hovertext}</b><br><br>region=New York<br>time=2023-12-03 12:00<br>temp_f=%{marker.size}<br>lat=%{lat}<br>lon=%{lon}<extra></extra>",
           "hovertext": [
            "United States of America"
           ],
           "lat": [
            40.71
           ],
           "legendgroup": "New York",
           "lon": [
            -74.01
           ],
           "marker": {
            "color": "#636efa",
            "size": [
             51.7
            ],
            "sizemode": "area",
            "sizeref": 0.23675000000000002,
            "symbol": "circle"
           },
           "mode": "markers",
           "name": "New York",
           "showlegend": true,
           "type": "scattergeo"
          },
          {
           "geo": "geo",
           "hovertemplate": "<b>%{hovertext}</b><br><br>region=California<br>time=2023-12-03 12:00<br>temp_f=%{marker.size}<br>lat=%{lat}<br>lon=%{lon}<extra></extra>",
           "hovertext": [
            "United States of America"
           ],
           "lat": [
            34.05
           ],
           "legendgroup": "California",
           "lon": [
            -118.24
           ],
           "marker": {
            "color": "#EF553B",
            "size": [
             65.5
            ],
            "sizemode": "area",
            "sizeref": 0.23675000000000002,
            "symbol": "circle"
           },
           "mode": "markers",
           "name": "California",
           "showlegend": true,
           "type": "scattergeo"
          },
          {
           "geo": "geo",
           "hovertemplate": "<b>%{hovertext}</b><br><br>region=Ontario<br>time=2023-12-03 12:00<br>temp_f=%{marker.size}<br>lat=%{lat}<br>lon=%{lon}<extra></extra>",
           "hovertext": [
            "Canada"
           ],
           "lat": [
            43.65
           ],
           "legendgroup": "Ontario",
           "lon": [
            -79.38
           ],
           "marker": {
            "color": "#00cc96",
            "size": [
             37.8
            ],
            "sizemode": "area",
            "sizeref": 0.23675000000000002,
            "symbol": "circle"
           },
           "mode": "markers",
           "name": "Ontario",
           "showlegend": true,
           "type": "scattergeo"
          },
          {
           "geo": "geo",
           "hovertemplate": "<b>%{hovertext}</b><br><br>region=Sao Paulo<br>time=2023-12-03 12:00<br>temp_f=%{marker.size}<br>lat=%{lat}<br>lon=%{lon}<extra></extra>",
           "hovertext": [
            "Brazil"
           ],
           "lat": [
            -23.55
           ],
           "legendgroup": "Sao Paulo",
           "lon": [
            -46.63
           ],
           "marker": {
            "color": "#ab63fa",
            "size": [
             93.3
            ],
            "sizemode": "area",
            "sizeref": 0.23675000000000002,
            "symbol": "circle"
           },
           "mode": "markers",
           "name": "Sao Paulo",
           "showlegend": true,
           "type": "scattergeo"
          },
          {
           "geo": "geo",
           "hovertemplate": "<b>%{hovertext}</b><br><br>region=Buenos Aires<br>time=2023-12-03 12:00<br>temp_f=%{marker.size}<br>lat=%{lat}<br>lon=%{lon}<extra></extra>",
           "hovertext": [
            "Argentina"
           ],
           "lat": [
            -34.6
           ],
           "legendgroup": "Buenos Aires",
           "lon": [
            -58.38
           ],
           "marker": {
            "color": "#FFA15A",
            "size": [
             62.1
            ],
            "sizemode": "area",
            "sizeref": 0.23675000000000002,
            "symbol": "circle"
           },
           "mode": "markers",
           "name": "Buenos Aires",
           "showlegend": true,
           "type": "scattergeo"
          },
          {
           "geo": "geo",
           "hovertemplate": "<b>%{hovertext}</b><br><br>region=Cundinamarca<br>time=2023-12-03 12:00<br>temp_f=%{marker.size}<br>lat=%{lat}<br>lon=%{lon}<extra></extra>",
           "hovertext": [
            "Colombia"
           ],
           "lat": [
            4.71
           ],
           "legendgroup": "Cundinamarca",
           "lon": [
            -74.07
           ],
           "marker": {
            "color": "#19d3f3",
            "size": [
             70.4
            ],
            "sizemode": "area",
            "sizeref": 0.23675000000000002,
            "symbol": "circle"
           },
           "mode": "markers",
           "name": "Cundinamarca",
           "showlegend": true,
           "type": "scattergeo"
          },
          {
           "geo": "geo",
           "hovertemplate": "<b>%{hovertext}</b><br><br>region=City of London, Greater London<br>time=2023-12-03 12:00<br>temp_f=%{marker.size}<br>lat=%{lat}<br>lon=%{lon}<extra></extra>",
           "hovertext": [
            "United Kingdom"
           ],
           "lat": [
            51.51
           ],
           "legendgroup": "City of London, Greater London",
           "lon": [
            -0.13
           ],
           "marker": {
            "color": "#FF6692",
            "size": [
             45.3
            ],
            "sizemode": "area",
            "sizeref": 0.23675000000000002,
            "symbol": "circle"
           },
           "mode": "markers",
           "name": "City of London, Greater London",
           "showlegend": true,
           "type": "scattergeo"
          },
          {
           "geo": "geo",
           "hovertemplate": "<b>%{hovertext}</b><br><br>region=Ile-de-France<br>time=2023-12-03 12:00<br>temp_f=%{marker.size}<br>lat=%{lat}<br>lon=%{lon}<extra></extra>",
           "hovertext": [
            "France"
           ],
           "lat": [
            48.86
           ],
           "legendgroup": "Ile-de-France",
           "lon": [
            2.35
           ],
           "marker": {
            "color": "#B6E880",
            "size": [
             35.9
            ],
            "sizemode": "area",
            "sizeref": 0.23675000000000002,
            "symbol": "circle"
           },
           "mode": "markers",
           "name": "Ile-de-France",
           "showlegend": true,
           "type": "scattergeo"
          },
          {
           "geo": "geo",
           "hovertemplate": "<b>%{hovertext}</b><br><br>region=Berlin<br>time=2023-12-03 12:00<br>temp_f=%{marker.size}<br>lat=%{lat}<br>lon=%{lon}<extra></extra>",
           "hovertext": [
            "Germany"
           ],
           "lat": [
            52.52
           ],
           "legendgroup": "Berlin",
           "lon": [
            13.41
           ],
           "marker": {
            "color": "#FF97FF",
            "size": [
             30.2
            ],
            "sizemode": "area",
            "sizeref": 0.23675000000000002,
            "symbol": "circle"
           },
           "mode": "markers",
           "name": "Berlin",
           "showlegend": true,
           "type": "scattergeo"
          },
          {
           "geo": "geo",
           "hovertemplate": "<b>%{hovertext}</b><br><br>region=Tokyo<br>time=2023-12-03 12:00<br>temp_f=%{marker.size}<br>lat=%{lat}<br>lon=%{lon}<extra></extra>",
           "hovertext": [
            "Japan"
           ],
           "lat": [
            35.68
           ],
           "legendgroup": "Tokyo",
           "lon": [
            139.65
           ],
           "marker": {
            "color": "#FECB52",
            "size": [
             52.2
            ],
            "sizemode": "area",
            "sizeref": 0.23675000000000002,
            "symbol": "circle"
           },
           "mode": "markers",
           "name": "Tokyo",
           "showlegend": true,
           "type": "scattergeo"
          },
          {
           "geo": "geo",
           "hovertemplate": "<b>%{hovertext}</b><br><br>region=Beijing<br>time=2023-12-03 12:00<br>temp_f=%{marker.size}<br>lat=%{lat}<br>lon=%{lon}<extra></extra>",
           "hovertext": [
            "China"
           ],
           "lat": [
            39.9
           ],
           "legendgroup": "Beijing",
           "lon": [
            116.41
           ],
           "marker": {
            "color": "#636efa",
            "size": [
             40.4
            ],
            "sizemode": "area",
            "sizeref": 0.23675000000000002,
            "symbol": "circle"
           },
           "mode": "markers",
           "name": "Beijing",
           "showlegend": true,
           "type": "scattergeo"
          },
          {
           "geo": "geo",
           "hovertemplate": "<b>%{hovertext}</b><br><br>region=Maharashtra<br>time=2023-12-03 12:00<br>temp_f=%{marker.size}<br>lat=%{lat}<br>lon=%{lon}<extra></extra>",
           "hovertext": [
            "India"
           ],
           "lat": [
            19.08
           ],
           "legendgroup": "Maharashtra",
           "lon": [
            72.88
           ],
           "marker": {
            "color": "#EF553B",
            "size": [
             86.6
            ],
            "sizemode": "area",
            "sizeref": 0.23675000000000002,
            "symbol": "circle"
           },
           "mode": "markers",
           "name": "Maharashtra",
           "showlegend": true,
           "type": "scattergeo"
          },
          {
           "geo": "geo",
           "hovertemplate": "<b>%{hovertext}</b><br><br>region=Al Qahirah<br>time=2023-12-03 12:00<br>temp_f=%{marker.size}<br>lat=%{lat}<br>lon=%{lon}<extra></extra>",
           "hovertext": [
            "Egypt"
           ],
           "lat": [
            30.04
           ],
           "legendgroup": "Al Qahirah",
           "lon": [
            31.24
           ],
           "marker": {
            "color": "#00cc96",
            "size": [
             75.4
            ],
            "sizemode": "area",
            "sizeref": 0.23675000000000002,
            "symbol": "circle"
           },
           "mode": "markers",
           "name": "Al Qahirah",
           "showlegend": true,
           "type": "scattergeo"
          },
          {
           "geo": "geo",
           "hovertemplate": "<b>%{hovertext}</b><br><br>region=Lagos<br>time=2023-12-03 12:00<br>temp_f=%{marker.size}<br>lat=%{lat}<br>lon=%{lon}<extra></extra>",
           "hovertext": [
            "Nigeria"
           ],
           "lat": [
            6.52
           ],
           "legendgroup": "Lagos",
           "lon": [
            3.38
           ],
           "marker": {
            "color": "#ab63fa",
            "size": [
             84
            ],
            "sizemode": "area",
            "sizeref": 0.23675000000000002,
            "symbol": "circle"
           },
           "mode": "markers",
           "name": "Lagos",
           "showlegend": true,
           "type": "scattergeo"
          },
          {
           "geo": "geo",
           "hovertemplate": "<b>%{hovertext}</b><br><br>region=Gauteng<br>time=2023-12-03 12:00<br>temp_f=%{marker.size}<br>lat=%{lat}<br>lon=%{lon}<extra></extra>",
           "hovertext": [
            "South Africa"
           ],
           "lat": [
            -26.2
           ],
           "legendgroup": "Gauteng",
           "lon": [
            28.05
           ],
           "marker": {
            "color": "#FFA15A",
            "size": [
             86.8
            ],
            "sizemode": "area",
            "sizeref": 0.23675000000000002,
            "symbol": "circle"
           },
           "mode": "markers",
           "name": "Gauteng",
           "showlegend": true,
           "type": "scattergeo"
          },
          {
           "geo": "geo",
           "hovertemplate": "<b>%{hovertext}</b><br><br>region=New South Wales<br>time=2023-12-03 12:00<br>temp_f=%{marker.size}<br>lat=%{lat}<br>lon=%{lon}<extra></extra>",
           "hovertext": [
            "Australia"
           ],
           "lat": [
            -33.87
           ],
           "legendgroup": "New South Wales",
           "lon": [
            151.21
           ],
           "marker": {
            "color": "#19d3f3",
            "size": [
             73.6
            ],
            "sizemode": "area",
            "sizeref": 0.23675000000000002,
            "symbol": "circle"
           },
           "mode": "markers",
           "name": "New South Wales",
           "showlegend": true,
           "type": "scattergeo"
          },
          {
           "geo": "geo",
           "hovertemplate": "<b>%{hovertext}</b><br><br>region=Victoria<br>time=2023-12-03 12:00<br>temp_f=%{marker.size}<br>lat=%{lat}<br>lon=%{lon}<extra></extra>",
           "hovertext": [
            "Australia"
           ],
           "lat": [
            -37.81
           ],
           "legendgroup": "Victoria",
           "lon": [
            144.96
           ],
           "marker": {
            "color": "#FF6692",
            "size": [
             65.9
            ],
            "sizemode": "area",
            "sizeref": 0.23675000000000002,
            "symbol": "circle"
           },
           "mode": "markers",
           "name": "Victoria",
           "showlegend": true,
           "type": "scattergeo"
          },
          {
           "geo": "geo",
           "hovertemplate": "<b>%{hovertext}</b><br><br>region=Queensland<br>time=2023-12-03 12:00<br>temp_f=%{marker.size}<br>lat=%{lat}<br>lon=%{lon}<extra></extra>",
           "hovertext": [
            "Australia"
           ],
           "lat": [
            -27.47
           ],
           "legendgroup": "Queensland",
           "lon": [
            153.03
           ],
           "marker": {
            "color": "#B6E880",
            "size": [
             89.6
            ],
            "sizemode": "area",
            "sizeref": 0.23675000000000002,
            "symbol": "circle"
           },
           "mode": "markers",
           "name": "Queensland",
           "showlegend": true,
           "type": "scattergeo"
          }
         ],
         "name": "2023-12-03 12:00"
        },
        {
         "data": [
          {
           "geo": "geo",
           "hovertemplate": "<b>%{hovertext}</b><br><br>region=New York<br>time=2023-12-03 13:00<br>temp_f=%{marker.size}<br>lat=%{lat}<br>lon=%{lon}<extra></extra>",
           "hovertext": [
            "United States of America"
           ],
           "lat": [
            40.71
           ],
           "legendgroup": "New York",
           "lon": [
            -74.01
           ],
           "marker": {
            "color": "#636efa",
            "size": [
             51.8
            ],
            "sizemode": "area",
            "sizeref": 0.23675000000000002,
            "symbol": "circle"
           },
           "mode": "markers",
           "name": "New York",
           "showlegend": true,
           "type": "scattergeo"
          },
          {
           "geo": "geo",
           "hovertemplate": "<b>%{hovertext}</b><br><br>region=California<br>time=2023-12-03 13:00<br>temp_f=%{marker.size}<br>lat=%{lat}<br>lon=%{lon}<extra></extra>",
           "hovertext": [
            "United States of America"
           ],
           "lat": [
            34.05
           ],
           "legendgroup": "California",
           "lon": [
            -118.24
           ],
           "marker": {
            "color": "#EF553B",
            "size": [
             67.3
            ],
            "sizemode": "area",
            "sizeref": 0.23675000000000002,
            "symbol": "circle"
           },
           "mode": "markers",
           "name": "California",
           "showlegend": true,
           "type": "scattergeo"
          },
          {
           "geo": "geo",
           "hovertemplate": "<b>%{hovertext}</b><br><br>region=Ontario<br>time=2023-12-03 13:00<br>temp_f=%{marker.size}<br>lat=%{lat}<br>lon=%{lon}<extra></extra>",
           "hovertext": [
            "Canada"
           ],
           "lat": [
            43.65
           ],
           "legendgroup": "Ontario",
           "lon": [
            -79.38
           ],
           "marker": {
            "color": "#00cc96",
            "size": [
             38
            ],
            "sizemode": "area",
            "sizeref": 0.23675000000000002,
            "symbol": "circle"
           },
           "mode": "markers",
           "name": "Ontario",
           "showlegend": true,
           "type": "scattergeo"
          },
          {
           "geo": "geo",
           "hovertemplate": "<b>%{hovertext}</b><br><br>region=Sao Paulo<br>time=2023-12-03 13:00<br>temp_f=%{marker.size}<br>lat=%{lat}<br>lon=%{lon}<extra></extra>",
           "hovertext": [
            "Brazil"
           ],
           "lat": [
            -23.55
           ],
           "legendgroup": "Sao Paulo",
           "lon": [
            -46.63
           ],
           "marker": {
            "color": "#ab63fa",
            "size": [
             94.2
            ],
            "sizemode": "area",
            "sizeref": 0.23675000000000002,
            "symbol": "circle"
           },
           "mode": "markers",
           "name": "Sao Paulo",
           "showlegend": true,
           "type": "scattergeo"
          },
          {
           "geo": "geo",
           "hovertemplate": "<b>%{hovertext}</b><br><br>region=Buenos Aires<br>time=2023-12-03 13:00<br>temp_f=%{marker.size}<br>lat=%{lat}<br>lon=%{lon}<extra></extra>",
           "hovertext": [
            "Argentina"
           ],
           "lat": [
            -34.6
           ],
           "legendgroup": "Buenos Aires",
           "lon": [
            -58.38
           ],
           "marker": {
            "color": "#FFA15A",
            "size": [
             62.8
            ],
            "sizemode": "area",
            "sizeref": 0.23675000000000002,
            "symbol": "circle"
           },
           "mode": "markers",
           "name": "Buenos Aires",
           "showlegend": true,
           "type": "scattergeo"
          },
          {
           "geo": "geo",
           "hovertemplate": "<b>%{hovertext}</b><br><br>region=Cundinamarca<br>time=2023-12-03 13:00<br>temp_f=%{marker.size}<br>lat=%{lat}<br>lon=%{lon}<extra></extra>",
           "hovertext": [
            "Colombia"
           ],
           "lat": [
            4.71
           ],
           "legendgroup": "Cundinamarca",
           "lon": [
            -74.07
           ],
           "marker": {
            "color": "#19d3f3",
            "size": [
             70.4
            ],
            "sizemode": "area",
            "sizeref": 0.23675000000000002,
            "symbol": "circle"
           },
           "mode": "markers",
           "name": "Cundinamarca",
           "showlegend": true,
           "type": "scattergeo"
          },
          {
           "geo": "geo",
           "hovertemplate": "<b>%{hovertext}</b><br><br>region=City of London, Greater London<br>time=2023-12-03 13:00<br>temp_f=%{marker.size}<br>lat=%{lat}<br>lon=%{lon}<extra></extra>",
           "hovertext": [
            "United Kingdom"
           ],
           "lat": [
            51.51
           ],
           "legendgroup": "City of London, Greater London",
           "lon": [
            -0.13
           ],
           "marker": {
            "color": "#FF6692",
            "size": [
             45.7
            ],
            "sizemode": "area",
            "sizeref": 0.23675000000000002,
            "symbol": "circle"
           },
           "mode": "markers",
           "name": "City of London, Greater London",
           "showlegend": true,
           "type": "scattergeo"
          },
          {
           "geo": "geo",
           "hovertemplate": "<b>%{hovertext}</b><br><br>region=Ile-de-France<br>time=2023-12-03 13:00<br>temp_f=%{marker.size}<br>lat=%{lat}<br>lon=%{lon}<extra></extra>",
           "hovertext": [
            "France"
           ],
           "lat": [
            48.86
           ],
           "legendgroup": "Ile-de-France",
           "lon": [
            2.35
           ],
           "marker": {
            "color": "#B6E880",
            "size": [
             36.5
            ],
            "sizemode": "area",
            "sizeref": 0.23675000000000002,
            "symbol": "circle"
           },
           "mode": "markers",
           "name": "Ile-de-France",
           "showlegend": true,
           "type": "scattergeo"
          },
          {
           "geo": "geo",
           "hovertemplate": "<b>%{hovertext}</b><br><br>region=Berlin<br>time=2023-12-03 13:00<br>temp_f=%{marker.size}<br>lat=%{lat}<br>lon=%{lon}<extra></extra>",
           "hovertext": [
            "Germany"
           ],
           "lat": [
            52.52
           ],
           "legendgroup": "Berlin",
           "lon": [
            13.41
           ],
           "marker": {
            "color": "#FF97FF",
            "size": [
             30.8
            ],
            "sizemode": "area",
            "sizeref": 0.23675000000000002,
            "symbol": "circle"
           },
           "mode": "markers",
           "name": "Berlin",
           "showlegend": true,
           "type": "scattergeo"
          },
          {
           "geo": "geo",
           "hovertemplate": "<b>%{hovertext}</b><br><br>region=Tokyo<br>time=2023-12-03 13:00<br>temp_f=%{marker.size}<br>lat=%{lat}<br>lon=%{lon}<extra></extra>",
           "hovertext": [
            "Japan"
           ],
           "lat": [
            35.68
           ],
           "legendgroup": "Tokyo",
           "lon": [
            139.65
           ],
           "marker": {
            "color": "#FECB52",
            "size": [
             53.5
            ],
            "sizemode": "area",
            "sizeref": 0.23675000000000002,
            "symbol": "circle"
           },
           "mode": "markers",
           "name": "Tokyo",
           "showlegend": true,
           "type": "scattergeo"
          },
          {
           "geo": "geo",
           "hovertemplate": "<b>%{hovertext}</b><br><br>region=Beijing<br>time=2023-12-03 13:00<br>temp_f=%{marker.size}<br>lat=%{lat}<br>lon=%{lon}<extra></extra>",
           "hovertext": [
            "China"
           ],
           "lat": [
            39.9
           ],
           "legendgroup": "Beijing",
           "lon": [
            116.41
           ],
           "marker": {
            "color": "#636efa",
            "size": [
             41.9
            ],
            "sizemode": "area",
            "sizeref": 0.23675000000000002,
            "symbol": "circle"
           },
           "mode": "markers",
           "name": "Beijing",
           "showlegend": true,
           "type": "scattergeo"
          },
          {
           "geo": "geo",
           "hovertemplate": "<b>%{hovertext}</b><br><br>region=Maharashtra<br>time=2023-12-03 13:00<br>temp_f=%{marker.size}<br>lat=%{lat}<br>lon=%{lon}<extra></extra>",
           "hovertext": [
            "India"
           ],
           "lat": [
            19.08
           ],
           "legendgroup": "Maharashtra",
           "lon": [
            72.88
           ],
           "marker": {
            "color": "#EF553B",
            "size": [
             87
            ],
            "sizemode": "area",
            "sizeref": 0.23675000000000002,
            "symbol": "circle"
           },
           "mode": "markers",
           "name": "Maharashtra",
           "showlegend": true,
           "type": "scattergeo"
          },
          {
           "geo": "geo",
           "hovertemplate": "<b>%{hovertext}</b><br><br>region=Al Qahirah<br>time=2023-12-03 13:00<br>temp_f=%{marker.size}<br>lat=%{lat}<br>lon=%{lon}<extra></extra>",
           "hovertext": [
            "Egypt"
           ],
           "lat": [
            30.04
           ],
           "legendgroup": "Al Qahirah",
           "lon": [
            31.24
           ],
           "marker": {
            "color": "#00cc96",
            "size": [
             77.6
            ],
            "sizemode": "area",
            "sizeref": 0.23675000000000002,
            "symbol": "circle"
           },
           "mode": "markers",
           "name": "Al Qahirah",
           "showlegend": true,
           "type": "scattergeo"
          },
          {
           "geo": "geo",
           "hovertemplate": "<b>%{hovertext}</b><br><br>region=Lagos<br>time=2023-12-03 13:00<br>temp_f=%{marker.size}<br>lat=%{lat}<br>lon=%{lon}<extra></extra>",
           "hovertext": [
            "Nigeria"
           ],
           "lat": [
            6.52
           ],
           "legendgroup": "Lagos",
           "lon": [
            3.38
           ],
           "marker": {
            "color": "#ab63fa",
            "size": [
             84.4
            ],
            "sizemode": "area",
            "sizeref": 0.23675000000000002,
            "symbol": "circle"
           },
           "mode": "markers",
           "name": "Lagos",
           "showlegend": true,
           "type": "scattergeo"
          },
          {
           "geo": "geo",
           "hovertemplate": "<b>%{hovertext}</b><br><br>region=Gauteng<br>time=2023-12-03 13:00<br>temp_f=%{marker.size}<br>lat=%{lat}<br>lon=%{lon}<extra></extra>",
           "hovertext": [
            "South Africa"
           ],
           "lat": [
            -26.2
           ],
           "legendgroup": "Gauteng",
           "lon": [
            28.05
           ],
           "marker": {
            "color": "#FFA15A",
            "size": [
             88.6
            ],
            "sizemode": "area",
            "sizeref": 0.23675000000000002,
            "symbol": "circle"
           },
           "mode": "markers",
           "name": "Gauteng",
           "showlegend": true,
           "type": "scattergeo"
          },
          {
           "geo": "geo",
           "hovertemplate": "<b>%{hovertext}</b><br><br>region=New South Wales<br>time=2023-12-03 13:00<br>temp_f=%{marker.size}<br>lat=%{lat}<br>lon=%{lon}<extra></extra>",
           "hovertext": [
            "Australia"
           ],
           "lat": [
            -33.87
           ],
           "legendgroup": "New South Wales",
           "lon": [
            151.21
           ],
           "marker": {
            "color": "#19d3f3",
            "size": [
             72.8
            ],
            "sizemode": "area",
            "sizeref": 0.23675000000000002,
            "symbol": "circle"
           },
           "mode": "markers",
           "name": "New South Wales",
           "showlegend": true,
           "type": "scattergeo"
          },
          {
           "geo": "geo",
           "hovertemplate": "<b>%{hovertext}</b><br><br>region=Victoria<br>time=2023-12-03 13:00<br>temp_f=%{marker.size}<br>lat=%{lat}<br>lon=%{lon}<extra></extra>",
           "hovertext": [
            "Australia"
           ],
           "lat": [
            -37.81
           ],
           "legendgroup": "Victoria",
           "lon": [
            144.96
           ],
           "marker": {
            "color": "#FF6692",
            "size": [
             67.4
            ],
            "sizemode": "area",
            "sizeref": 0.23675000000000002,
            "symbol": "circle"
           },
           "mode": "markers",
           "name": "Victoria",
           "showlegend": true,
           "type": "scattergeo"
          },
          {
           "geo": "geo",
           "hovertemplate": "<b>%{hovertext}</b><br><br>region=Queensland<br>time=2023-12-03 13:00<br>temp_f=%{marker.size}<br>lat=%{lat}<br>lon=%{lon}<extra></extra>",
           "hovertext": [
            "Australia"
           ],
           "lat": [
            -27.47
           ],
           "legendgroup": "Queensland",
           "lon": [
            153.03
           ],
           "marker": {
            "color": "#B6E880",
            "size": [
             88.7
            ],
            "sizemode": "area",
            "sizeref": 0.23675000000000002,
            "symbol": "circle"
           },
           "mode": "markers",
           "name": "Queensland",
           "showlegend": true,
           "type": "scattergeo"
          }
         ],
         "name": "2023-12-03 13:00"
        },
        {
         "data": [
          {
           "geo": "geo",
           "hovertemplate": "<b>%{hovertext}</b><br><br>region=New York<br>time=2023-12-03 14:00<br>temp_f=%{marker.size}<br>lat=%{lat}<br>lon=%{lon}<extra></extra>",
           "hovertext": [
            "United States of America"
           ],
           "lat": [
            40.71
           ],
           "legendgroup": "New York",
           "lon": [
            -74.01
           ],
           "marker": {
            "color": "#636efa",
            "size": [
             46
            ],
            "sizemode": "area",
            "sizeref": 0.23675000000000002,
            "symbol": "circle"
           },
           "mode": "markers",
           "name": "New York",
           "showlegend": true,
           "type": "scattergeo"
          },
          {
           "geo": "geo",
           "hovertemplate": "<b>%{hovertext}</b><br><br>region=California<br>time=2023-12-03 14:00<br>temp_f=%{marker.size}<br>lat=%{lat}<br>lon=%{lon}<extra></extra>",
           "hovertext": [
            "United States of America"
           ],
           "lat": [
            34.05
           ],
           "legendgroup": "California",
           "lon": [
            -118.24
           ],
           "marker": {
            "color": "#EF553B",
            "size": [
             71.8
            ],
            "sizemode": "area",
            "sizeref": 0.23675000000000002,
            "symbol": "circle"
           },
           "mode": "markers",
           "name": "California",
           "showlegend": true,
           "type": "scattergeo"
          },
          {
           "geo": "geo",
           "hovertemplate": "<b>%{hovertext}</b><br><br>region=Ontario<br>time=2023-12-03 14:00<br>temp_f=%{marker.size}<br>lat=%{lat}<br>lon=%{lon}<extra></extra>",
           "hovertext": [
            "Canada"
           ],
           "lat": [
            43.65
           ],
           "legendgroup": "Ontario",
           "lon": [
            -79.38
           ],
           "marker": {
            "color": "#00cc96",
            "size": [
             37
            ],
            "sizemode": "area",
            "sizeref": 0.23675000000000002,
            "symbol": "circle"
           },
           "mode": "markers",
           "name": "Ontario",
           "showlegend": true,
           "type": "scattergeo"
          },
          {
           "geo": "geo",
           "hovertemplate": "<b>%{hovertext}</b><br><br>region=Sao Paulo<br>time=2023-12-03 14:00<br>temp_f=%{marker.size}<br>lat=%{lat}<br>lon=%{lon}<extra></extra>",
           "hovertext": [
            "Brazil"
           ],
           "lat": [
            -23.55
           ],
           "legendgroup": "Sao Paulo",
           "lon": [
            -46.63
           ],
           "marker": {
            "color": "#ab63fa",
            "size": [
             93.8
            ],
            "sizemode": "area",
            "sizeref": 0.23675000000000002,
            "symbol": "circle"
           },
           "mode": "markers",
           "name": "Sao Paulo",
           "showlegend": true,
           "type": "scattergeo"
          },
          {
           "geo": "geo",
           "hovertemplate": "<b>%{hovertext}</b><br><br>region=Buenos Aires<br>time=2023-12-03 14:00<br>temp_f=%{marker.size}<br>lat=%{lat}<br>lon=%{lon}<extra></extra>",
           "hovertext": [
            "Argentina"
           ],
           "lat": [
            -34.6
           ],
           "legendgroup": "Buenos Aires",
           "lon": [
            -58.38
           ],
           "marker": {
            "color": "#FFA15A",
            "size": [
             64
            ],
            "sizemode": "area",
            "sizeref": 0.23675000000000002,
            "symbol": "circle"
           },
           "mode": "markers",
           "name": "Buenos Aires",
           "showlegend": true,
           "type": "scattergeo"
          },
          {
           "geo": "geo",
           "hovertemplate": "<b>%{hovertext}</b><br><br>region=Cundinamarca<br>time=2023-12-03 14:00<br>temp_f=%{marker.size}<br>lat=%{lat}<br>lon=%{lon}<extra></extra>",
           "hovertext": [
            "Colombia"
           ],
           "lat": [
            4.71
           ],
           "legendgroup": "Cundinamarca",
           "lon": [
            -74.07
           ],
           "marker": {
            "color": "#19d3f3",
            "size": [
             68.9
            ],
            "sizemode": "area",
            "sizeref": 0.23675000000000002,
            "symbol": "circle"
           },
           "mode": "markers",
           "name": "Cundinamarca",
           "showlegend": true,
           "type": "scattergeo"
          },
          {
           "geo": "geo",
           "hovertemplate": "<b>%{hovertext}</b><br><br>region=City of London, Greater London<br>time=2023-12-03 14:00<br>temp_f=%{marker.size}<br>lat=%{lat}<br>lon=%{lon}<extra></extra>",
           "hovertext": [
            "United Kingdom"
           ],
           "lat": [
            51.51
           ],
           "legendgroup": "City of London, Greater London",
           "lon": [
            -0.13
           ],
           "marker": {
            "color": "#FF6692",
            "size": [
             46
            ],
            "sizemode": "area",
            "sizeref": 0.23675000000000002,
            "symbol": "circle"
           },
           "mode": "markers",
           "name": "City of London, Greater London",
           "showlegend": true,
           "type": "scattergeo"
          },
          {
           "geo": "geo",
           "hovertemplate": "<b>%{hovertext}</b><br><br>region=Ile-de-France<br>time=2023-12-03 14:00<br>temp_f=%{marker.size}<br>lat=%{lat}<br>lon=%{lon}<extra></extra>",
           "hovertext": [
            "France"
           ],
           "lat": [
            48.86
           ],
           "legendgroup": "Ile-de-France",
           "lon": [
            2.35
           ],
           "marker": {
            "color": "#B6E880",
            "size": [
             37.1
            ],
            "sizemode": "area",
            "sizeref": 0.23675000000000002,
            "symbol": "circle"
           },
           "mode": "markers",
           "name": "Ile-de-France",
           "showlegend": true,
           "type": "scattergeo"
          },
          {
           "geo": "geo",
           "hovertemplate": "<b>%{hovertext}</b><br><br>region=Berlin<br>time=2023-12-03 14:00<br>temp_f=%{marker.size}<br>lat=%{lat}<br>lon=%{lon}<extra></extra>",
           "hovertext": [
            "Germany"
           ],
           "lat": [
            52.52
           ],
           "legendgroup": "Berlin",
           "lon": [
            13.41
           ],
           "marker": {
            "color": "#FF97FF",
            "size": [
             30.5
            ],
            "sizemode": "area",
            "sizeref": 0.23675000000000002,
            "symbol": "circle"
           },
           "mode": "markers",
           "name": "Berlin",
           "showlegend": true,
           "type": "scattergeo"
          },
          {
           "geo": "geo",
           "hovertemplate": "<b>%{hovertext}</b><br><br>region=Tokyo<br>time=2023-12-03 14:00<br>temp_f=%{marker.size}<br>lat=%{lat}<br>lon=%{lon}<extra></extra>",
           "hovertext": [
            "Japan"
           ],
           "lat": [
            35.68
           ],
           "legendgroup": "Tokyo",
           "lon": [
            139.65
           ],
           "marker": {
            "color": "#FECB52",
            "size": [
             55
            ],
            "sizemode": "area",
            "sizeref": 0.23675000000000002,
            "symbol": "circle"
           },
           "mode": "markers",
           "name": "Tokyo",
           "showlegend": true,
           "type": "scattergeo"
          },
          {
           "geo": "geo",
           "hovertemplate": "<b>%{hovertext}</b><br><br>region=Beijing<br>time=2023-12-03 14:00<br>temp_f=%{marker.size}<br>lat=%{lat}<br>lon=%{lon}<extra></extra>",
           "hovertext": [
            "China"
           ],
           "lat": [
            39.9
           ],
           "legendgroup": "Beijing",
           "lon": [
            116.41
           ],
           "marker": {
            "color": "#636efa",
            "size": [
             43
            ],
            "sizemode": "area",
            "sizeref": 0.23675000000000002,
            "symbol": "circle"
           },
           "mode": "markers",
           "name": "Beijing",
           "showlegend": true,
           "type": "scattergeo"
          },
          {
           "geo": "geo",
           "hovertemplate": "<b>%{hovertext}</b><br><br>region=Maharashtra<br>time=2023-12-03 14:00<br>temp_f=%{marker.size}<br>lat=%{lat}<br>lon=%{lon}<extra></extra>",
           "hovertext": [
            "India"
           ],
           "lat": [
            19.08
           ],
           "legendgroup": "Maharashtra",
           "lon": [
            72.88
           ],
           "marker": {
            "color": "#EF553B",
            "size": [
             86.6
            ],
            "sizemode": "area",
            "sizeref": 0.23675000000000002,
            "symbol": "circle"
           },
           "mode": "markers",
           "name": "Maharashtra",
           "showlegend": true,
           "type": "scattergeo"
          },
          {
           "geo": "geo",
           "hovertemplate": "<b>%{hovertext}</b><br><br>region=Al Qahirah<br>time=2023-12-03 14:00<br>temp_f=%{marker.size}<br>lat=%{lat}<br>lon=%{lon}<extra></extra>",
           "hovertext": [
            "Egypt"
           ],
           "lat": [
            30.04
           ],
           "legendgroup": "Al Qahirah",
           "lon": [
            31.24
           ],
           "marker": {
            "color": "#00cc96",
            "size": [
             78.6
            ],
            "sizemode": "area",
            "sizeref": 0.23675000000000002,
            "symbol": "circle"
           },
           "mode": "markers",
           "name": "Al Qahirah",
           "showlegend": true,
           "type": "scattergeo"
          },
          {
           "geo": "geo",
           "hovertemplate": "<b>%{hovertext}</b><br><br>region=Lagos<br>time=2023-12-03 14:00<br>temp_f=%{marker.size}<br>lat=%{lat}<br>lon=%{lon}<extra></extra>",
           "hovertext": [
            "Nigeria"
           ],
           "lat": [
            6.52
           ],
           "legendgroup": "Lagos",
           "lon": [
            3.38
           ],
           "marker": {
            "color": "#ab63fa",
            "size": [
             84.2
            ],
            "sizemode": "area",
            "sizeref": 0.23675000000000002,
            "symbol": "circle"
           },
           "mode": "markers",
           "name": "Lagos",
           "showlegend": true,
           "type": "scattergeo"
          },
          {
           "geo": "geo",
           "hovertemplate": "<b>%{hovertext}</b><br><br>region=Gauteng<br>time=2023-12-03 14:00<br>temp_f=%{marker.size}<br>lat=%{lat}<br>lon=%{lon}<extra></extra>",
           "hovertext": [
            "South Africa"
           ],
           "lat": [
            -26.2
           ],
           "legendgroup": "Gauteng",
           "lon": [
            28.05
           ],
           "marker": {
            "color": "#FFA15A",
            "size": [
             89.7
            ],
            "sizemode": "area",
            "sizeref": 0.23675000000000002,
            "symbol": "circle"
           },
           "mode": "markers",
           "name": "Gauteng",
           "showlegend": true,
           "type": "scattergeo"
          },
          {
           "geo": "geo",
           "hovertemplate": "<b>%{hovertext}</b><br><br>region=New South Wales<br>time=2023-12-03 14:00<br>temp_f=%{marker.size}<br>lat=%{lat}<br>lon=%{lon}<extra></extra>",
           "hovertext": [
            "Australia"
           ],
           "lat": [
            -33.87
           ],
           "legendgroup": "New South Wales",
           "lon": [
            151.21
           ],
           "marker": {
            "color": "#19d3f3",
            "size": [
             72.1
            ],
            "sizemode": "area",
            "sizeref": 0.23675000000000002,
            "symbol": "circle"
           },
           "mode": "markers",
           "name": "New South Wales",
           "showlegend": true,
           "type": "scattergeo"
          },
          {
           "geo": "geo",
           "hovertemplate": "<b>%{hovertext}</b><br><br>region=Victoria<br>time=2023-12-03 14:00<br>temp_f=%{marker.size}<br>lat=%{lat}<br>lon=%{lon}<extra></extra>",
           "hovertext": [
            "Australia"
           ],
           "lat": [
            -37.81
           ],
           "legendgroup": "Victoria",
           "lon": [
            144.96
           ],
           "marker": {
            "color": "#FF6692",
            "size": [
             69
            ],
            "sizemode": "area",
            "sizeref": 0.23675000000000002,
            "symbol": "circle"
           },
           "mode": "markers",
           "name": "Victoria",
           "showlegend": true,
           "type": "scattergeo"
          },
          {
           "geo": "geo",
           "hovertemplate": "<b>%{hovertext}</b><br><br>region=Queensland<br>time=2023-12-03 14:00<br>temp_f=%{marker.size}<br>lat=%{lat}<br>lon=%{lon}<extra></extra>",
           "hovertext": [
            "Australia"
           ],
           "lat": [
            -27.47
           ],
           "legendgroup": "Queensland",
           "lon": [
            153.03
           ],
           "marker": {
            "color": "#B6E880",
            "size": [
             87.8
            ],
            "sizemode": "area",
            "sizeref": 0.23675000000000002,
            "symbol": "circle"
           },
           "mode": "markers",
           "name": "Queensland",
           "showlegend": true,
           "type": "scattergeo"
          }
         ],
         "name": "2023-12-03 14:00"
        },
        {
         "data": [
          {
           "geo": "geo",
           "hovertemplate": "<b>%{hovertext}</b><br><br>region=New York<br>time=2023-12-03 15:00<br>temp_f=%{marker.size}<br>lat=%{lat}<br>lon=%{lon}<extra></extra>",
           "hovertext": [
            "United States of America"
           ],
           "lat": [
            40.71
           ],
           "legendgroup": "New York",
           "lon": [
            -74.01
           ],
           "marker": {
            "color": "#636efa",
            "size": [
             51.3
            ],
            "sizemode": "area",
            "sizeref": 0.23675000000000002,
            "symbol": "circle"
           },
           "mode": "markers",
           "name": "New York",
           "showlegend": true,
           "type": "scattergeo"
          },
          {
           "geo": "geo",
           "hovertemplate": "<b>%{hovertext}</b><br><br>region=California<br>time=2023-12-03 15:00<br>temp_f=%{marker.size}<br>lat=%{lat}<br>lon=%{lon}<extra></extra>",
           "hovertext": [
            "United States of America"
           ],
           "lat": [
            34.05
           ],
           "legendgroup": "California",
           "lon": [
            -118.24
           ],
           "marker": {
            "color": "#EF553B",
            "size": [
             69.4
            ],
            "sizemode": "area",
            "sizeref": 0.23675000000000002,
            "symbol": "circle"
           },
           "mode": "markers",
           "name": "California",
           "showlegend": true,
           "type": "scattergeo"
          },
          {
           "geo": "geo",
           "hovertemplate": "<b>%{hovertext}</b><br><br>region=Ontario<br>time=2023-12-03 15:00<br>temp_f=%{marker.size}<br>lat=%{lat}<br>lon=%{lon}<extra></extra>",
           "hovertext": [
            "Canada"
           ],
           "lat": [
            43.65
           ],
           "legendgroup": "Ontario",
           "lon": [
            -79.38
           ],
           "marker": {
            "color": "#00cc96",
            "size": [
             38.5
            ],
            "sizemode": "area",
            "sizeref": 0.23675000000000002,
            "symbol": "circle"
           },
           "mode": "markers",
           "name": "Ontario",
           "showlegend": true,
           "type": "scattergeo"
          },
          {
           "geo": "geo",
           "hovertemplate": "<b>%{hovertext}</b><br><br>region=Sao Paulo<br>time=2023-12-03 15:00<br>temp_f=%{marker.size}<br>lat=%{lat}<br>lon=%{lon}<extra></extra>",
           "hovertext": [
            "Brazil"
           ],
           "lat": [
            -23.55
           ],
           "legendgroup": "Sao Paulo",
           "lon": [
            -46.63
           ],
           "marker": {
            "color": "#ab63fa",
            "size": [
             90.7
            ],
            "sizemode": "area",
            "sizeref": 0.23675000000000002,
            "symbol": "circle"
           },
           "mode": "markers",
           "name": "Sao Paulo",
           "showlegend": true,
           "type": "scattergeo"
          },
          {
           "geo": "geo",
           "hovertemplate": "<b>%{hovertext}</b><br><br>region=Buenos Aires<br>time=2023-12-03 15:00<br>temp_f=%{marker.size}<br>lat=%{lat}<br>lon=%{lon}<extra></extra>",
           "hovertext": [
            "Argentina"
           ],
           "lat": [
            -34.6
           ],
           "legendgroup": "Buenos Aires",
           "lon": [
            -58.38
           ],
           "marker": {
            "color": "#FFA15A",
            "size": [
             64.7
            ],
            "sizemode": "area",
            "sizeref": 0.23675000000000002,
            "symbol": "circle"
           },
           "mode": "markers",
           "name": "Buenos Aires",
           "showlegend": true,
           "type": "scattergeo"
          },
          {
           "geo": "geo",
           "hovertemplate": "<b>%{hovertext}</b><br><br>region=Cundinamarca<br>time=2023-12-03 15:00<br>temp_f=%{marker.size}<br>lat=%{lat}<br>lon=%{lon}<extra></extra>",
           "hovertext": [
            "Colombia"
           ],
           "lat": [
            4.71
           ],
           "legendgroup": "Cundinamarca",
           "lon": [
            -74.07
           ],
           "marker": {
            "color": "#19d3f3",
            "size": [
             66.2
            ],
            "sizemode": "area",
            "sizeref": 0.23675000000000002,
            "symbol": "circle"
           },
           "mode": "markers",
           "name": "Cundinamarca",
           "showlegend": true,
           "type": "scattergeo"
          },
          {
           "geo": "geo",
           "hovertemplate": "<b>%{hovertext}</b><br><br>region=City of London, Greater London<br>time=2023-12-03 15:00<br>temp_f=%{marker.size}<br>lat=%{lat}<br>lon=%{lon}<extra></extra>",
           "hovertext": [
            "United Kingdom"
           ],
           "lat": [
            51.51
           ],
           "legendgroup": "City of London, Greater London",
           "lon": [
            -0.13
           ],
           "marker": {
            "color": "#FF6692",
            "size": [
             46.8
            ],
            "sizemode": "area",
            "sizeref": 0.23675000000000002,
            "symbol": "circle"
           },
           "mode": "markers",
           "name": "City of London, Greater London",
           "showlegend": true,
           "type": "scattergeo"
          },
          {
           "geo": "geo",
           "hovertemplate": "<b>%{hovertext}</b><br><br>region=Ile-de-France<br>time=2023-12-03 15:00<br>temp_f=%{marker.size}<br>lat=%{lat}<br>lon=%{lon}<extra></extra>",
           "hovertext": [
            "France"
           ],
           "lat": [
            48.86
           ],
           "legendgroup": "Ile-de-France",
           "lon": [
            2.35
           ],
           "marker": {
            "color": "#B6E880",
            "size": [
             38
            ],
            "sizemode": "area",
            "sizeref": 0.23675000000000002,
            "symbol": "circle"
           },
           "mode": "markers",
           "name": "Ile-de-France",
           "showlegend": true,
           "type": "scattergeo"
          },
          {
           "geo": "geo",
           "hovertemplate": "<b>%{hovertext}</b><br><br>region=Berlin<br>time=2023-12-03 15:00<br>temp_f=%{marker.size}<br>lat=%{lat}<br>lon=%{lon}<extra></extra>",
           "hovertext": [
            "Germany"
           ],
           "lat": [
            52.52
           ],
           "legendgroup": "Berlin",
           "lon": [
            13.41
           ],
           "marker": {
            "color": "#FF97FF",
            "size": [
             29
            ],
            "sizemode": "area",
            "sizeref": 0.23675000000000002,
            "symbol": "circle"
           },
           "mode": "markers",
           "name": "Berlin",
           "showlegend": true,
           "type": "scattergeo"
          },
          {
           "geo": "geo",
           "hovertemplate": "<b>%{hovertext}</b><br><br>region=Tokyo<br>time=2023-12-03 15:00<br>temp_f=%{marker.size}<br>lat=%{lat}<br>lon=%{lon}<extra></extra>",
           "hovertext": [
            "Japan"
           ],
           "lat": [
            35.68
           ],
           "legendgroup": "Tokyo",
           "lon": [
            139.65
           ],
           "marker": {
            "color": "#FECB52",
            "size": [
             55.8
            ],
            "sizemode": "area",
            "sizeref": 0.23675000000000002,
            "symbol": "circle"
           },
           "mode": "markers",
           "name": "Tokyo",
           "showlegend": true,
           "type": "scattergeo"
          },
          {
           "geo": "geo",
           "hovertemplate": "<b>%{hovertext}</b><br><br>region=Beijing<br>time=2023-12-03 15:00<br>temp_f=%{marker.size}<br>lat=%{lat}<br>lon=%{lon}<extra></extra>",
           "hovertext": [
            "China"
           ],
           "lat": [
            39.9
           ],
           "legendgroup": "Beijing",
           "lon": [
            116.41
           ],
           "marker": {
            "color": "#636efa",
            "size": [
             43.4
            ],
            "sizemode": "area",
            "sizeref": 0.23675000000000002,
            "symbol": "circle"
           },
           "mode": "markers",
           "name": "Beijing",
           "showlegend": true,
           "type": "scattergeo"
          },
          {
           "geo": "geo",
           "hovertemplate": "<b>%{hovertext}</b><br><br>region=Maharashtra<br>time=2023-12-03 15:00<br>temp_f=%{marker.size}<br>lat=%{lat}<br>lon=%{lon}<extra></extra>",
           "hovertext": [
            "India"
           ],
           "lat": [
            19.08
           ],
           "legendgroup": "Maharashtra",
           "lon": [
            72.88
           ],
           "marker": {
            "color": "#EF553B",
            "size": [
             85.6
            ],
            "sizemode": "area",
            "sizeref": 0.23675000000000002,
            "symbol": "circle"
           },
           "mode": "markers",
           "name": "Maharashtra",
           "showlegend": true,
           "type": "scattergeo"
          },
          {
           "geo": "geo",
           "hovertemplate": "<b>%{hovertext}</b><br><br>region=Al Qahirah<br>time=2023-12-03 15:00<br>temp_f=%{marker.size}<br>lat=%{lat}<br>lon=%{lon}<extra></extra>",
           "hovertext": [
            "Egypt"
           ],
           "lat": [
            30.04
           ],
           "legendgroup": "Al Qahirah",
           "lon": [
            31.24
           ],
           "marker": {
            "color": "#00cc96",
            "size": [
             78.8
            ],
            "sizemode": "area",
            "sizeref": 0.23675000000000002,
            "symbol": "circle"
           },
           "mode": "markers",
           "name": "Al Qahirah",
           "showlegend": true,
           "type": "scattergeo"
          },
          {
           "geo": "geo",
           "hovertemplate": "<b>%{hovertext}</b><br><br>region=Lagos<br>time=2023-12-03 15:00<br>temp_f=%{marker.size}<br>lat=%{lat}<br>lon=%{lon}<extra></extra>",
           "hovertext": [
            "Nigeria"
           ],
           "lat": [
            6.52
           ],
           "legendgroup": "Lagos",
           "lon": [
            3.38
           ],
           "marker": {
            "color": "#ab63fa",
            "size": [
             83.7
            ],
            "sizemode": "area",
            "sizeref": 0.23675000000000002,
            "symbol": "circle"
           },
           "mode": "markers",
           "name": "Lagos",
           "showlegend": true,
           "type": "scattergeo"
          },
          {
           "geo": "geo",
           "hovertemplate": "<b>%{hovertext}</b><br><br>region=Gauteng<br>time=2023-12-03 15:00<br>temp_f=%{marker.size}<br>lat=%{lat}<br>lon=%{lon}<extra></extra>",
           "hovertext": [
            "South Africa"
           ],
           "lat": [
            -26.2
           ],
           "legendgroup": "Gauteng",
           "lon": [
            28.05
           ],
           "marker": {
            "color": "#FFA15A",
            "size": [
             90.2
            ],
            "sizemode": "area",
            "sizeref": 0.23675000000000002,
            "symbol": "circle"
           },
           "mode": "markers",
           "name": "Gauteng",
           "showlegend": true,
           "type": "scattergeo"
          },
          {
           "geo": "geo",
           "hovertemplate": "<b>%{hovertext}</b><br><br>region=New South Wales<br>time=2023-12-03 15:00<br>temp_f=%{marker.size}<br>lat=%{lat}<br>lon=%{lon}<extra></extra>",
           "hovertext": [
            "Australia"
           ],
           "lat": [
            -33.87
           ],
           "legendgroup": "New South Wales",
           "lon": [
            151.21
           ],
           "marker": {
            "color": "#19d3f3",
            "size": [
             71.6
            ],
            "sizemode": "area",
            "sizeref": 0.23675000000000002,
            "symbol": "circle"
           },
           "mode": "markers",
           "name": "New South Wales",
           "showlegend": true,
           "type": "scattergeo"
          },
          {
           "geo": "geo",
           "hovertemplate": "<b>%{hovertext}</b><br><br>region=Victoria<br>time=2023-12-03 15:00<br>temp_f=%{marker.size}<br>lat=%{lat}<br>lon=%{lon}<extra></extra>",
           "hovertext": [
            "Australia"
           ],
           "lat": [
            -37.81
           ],
           "legendgroup": "Victoria",
           "lon": [
            144.96
           ],
           "marker": {
            "color": "#FF6692",
            "size": [
             68.4
            ],
            "sizemode": "area",
            "sizeref": 0.23675000000000002,
            "symbol": "circle"
           },
           "mode": "markers",
           "name": "Victoria",
           "showlegend": true,
           "type": "scattergeo"
          },
          {
           "geo": "geo",
           "hovertemplate": "<b>%{hovertext}</b><br><br>region=Queensland<br>time=2023-12-03 15:00<br>temp_f=%{marker.size}<br>lat=%{lat}<br>lon=%{lon}<extra></extra>",
           "hovertext": [
            "Australia"
           ],
           "lat": [
            -27.47
           ],
           "legendgroup": "Queensland",
           "lon": [
            153.03
           ],
           "marker": {
            "color": "#B6E880",
            "size": [
             82.8
            ],
            "sizemode": "area",
            "sizeref": 0.23675000000000002,
            "symbol": "circle"
           },
           "mode": "markers",
           "name": "Queensland",
           "showlegend": true,
           "type": "scattergeo"
          }
         ],
         "name": "2023-12-03 15:00"
        },
        {
         "data": [
          {
           "geo": "geo",
           "hovertemplate": "<b>%{hovertext}</b><br><br>region=New York<br>time=2023-12-03 16:00<br>temp_f=%{marker.size}<br>lat=%{lat}<br>lon=%{lon}<extra></extra>",
           "hovertext": [
            "United States of America"
           ],
           "lat": [
            40.71
           ],
           "legendgroup": "New York",
           "lon": [
            -74.01
           ],
           "marker": {
            "color": "#636efa",
            "size": [
             51.2
            ],
            "sizemode": "area",
            "sizeref": 0.23675000000000002,
            "symbol": "circle"
           },
           "mode": "markers",
           "name": "New York",
           "showlegend": true,
           "type": "scattergeo"
          },
          {
           "geo": "geo",
           "hovertemplate": "<b>%{hovertext}</b><br><br>region=California<br>time=2023-12-03 16:00<br>temp_f=%{marker.size}<br>lat=%{lat}<br>lon=%{lon}<extra></extra>",
           "hovertext": [
            "United States of America"
           ],
           "lat": [
            34.05
           ],
           "legendgroup": "California",
           "lon": [
            -118.24
           ],
           "marker": {
            "color": "#EF553B",
            "size": [
             69.6
            ],
            "sizemode": "area",
            "sizeref": 0.23675000000000002,
            "symbol": "circle"
           },
           "mode": "markers",
           "name": "California",
           "showlegend": true,
           "type": "scattergeo"
          },
          {
           "geo": "geo",
           "hovertemplate": "<b>%{hovertext}</b><br><br>region=Ontario<br>time=2023-12-03 16:00<br>temp_f=%{marker.size}<br>lat=%{lat}<br>lon=%{lon}<extra></extra>",
           "hovertext": [
            "Canada"
           ],
           "lat": [
            43.65
           ],
           "legendgroup": "Ontario",
           "lon": [
            -79.38
           ],
           "marker": {
            "color": "#00cc96",
            "size": [
             38.6
            ],
            "sizemode": "area",
            "sizeref": 0.23675000000000002,
            "symbol": "circle"
           },
           "mode": "markers",
           "name": "Ontario",
           "showlegend": true,
           "type": "scattergeo"
          },
          {
           "geo": "geo",
           "hovertemplate": "<b>%{hovertext}</b><br><br>region=Sao Paulo<br>time=2023-12-03 16:00<br>temp_f=%{marker.size}<br>lat=%{lat}<br>lon=%{lon}<extra></extra>",
           "hovertext": [
            "Brazil"
           ],
           "lat": [
            -23.55
           ],
           "legendgroup": "Sao Paulo",
           "lon": [
            -46.63
           ],
           "marker": {
            "color": "#ab63fa",
            "size": [
             84.8
            ],
            "sizemode": "area",
            "sizeref": 0.23675000000000002,
            "symbol": "circle"
           },
           "mode": "markers",
           "name": "Sao Paulo",
           "showlegend": true,
           "type": "scattergeo"
          },
          {
           "geo": "geo",
           "hovertemplate": "<b>%{hovertext}</b><br><br>region=Buenos Aires<br>time=2023-12-03 16:00<br>temp_f=%{marker.size}<br>lat=%{lat}<br>lon=%{lon}<extra></extra>",
           "hovertext": [
            "Argentina"
           ],
           "lat": [
            -34.6
           ],
           "legendgroup": "Buenos Aires",
           "lon": [
            -58.38
           ],
           "marker": {
            "color": "#FFA15A",
            "size": [
             64.3
            ],
            "sizemode": "area",
            "sizeref": 0.23675000000000002,
            "symbol": "circle"
           },
           "mode": "markers",
           "name": "Buenos Aires",
           "showlegend": true,
           "type": "scattergeo"
          },
          {
           "geo": "geo",
           "hovertemplate": "<b>%{hovertext}</b><br><br>region=Cundinamarca<br>time=2023-12-03 16:00<br>temp_f=%{marker.size}<br>lat=%{lat}<br>lon=%{lon}<extra></extra>",
           "hovertext": [
            "Colombia"
           ],
           "lat": [
            4.71
           ],
           "legendgroup": "Cundinamarca",
           "lon": [
            -74.07
           ],
           "marker": {
            "color": "#19d3f3",
            "size": [
             62.9
            ],
            "sizemode": "area",
            "sizeref": 0.23675000000000002,
            "symbol": "circle"
           },
           "mode": "markers",
           "name": "Cundinamarca",
           "showlegend": true,
           "type": "scattergeo"
          },
          {
           "geo": "geo",
           "hovertemplate": "<b>%{hovertext}</b><br><br>region=City of London, Greater London<br>time=2023-12-03 16:00<br>temp_f=%{marker.size}<br>lat=%{lat}<br>lon=%{lon}<extra></extra>",
           "hovertext": [
            "United Kingdom"
           ],
           "lat": [
            51.51
           ],
           "legendgroup": "City of London, Greater London",
           "lon": [
            -0.13
           ],
           "marker": {
            "color": "#FF6692",
            "size": [
             46.1
            ],
            "sizemode": "area",
            "sizeref": 0.23675000000000002,
            "symbol": "circle"
           },
           "mode": "markers",
           "name": "City of London, Greater London",
           "showlegend": true,
           "type": "scattergeo"
          },
          {
           "geo": "geo",
           "hovertemplate": "<b>%{hovertext}</b><br><br>region=Ile-de-France<br>time=2023-12-03 16:00<br>temp_f=%{marker.size}<br>lat=%{lat}<br>lon=%{lon}<extra></extra>",
           "hovertext": [
            "France"
           ],
           "lat": [
            48.86
           ],
           "legendgroup": "Ile-de-France",
           "lon": [
            2.35
           ],
           "marker": {
            "color": "#B6E880",
            "size": [
             38.1
            ],
            "sizemode": "area",
            "sizeref": 0.23675000000000002,
            "symbol": "circle"
           },
           "mode": "markers",
           "name": "Ile-de-France",
           "showlegend": true,
           "type": "scattergeo"
          },
          {
           "geo": "geo",
           "hovertemplate": "<b>%{hovertext}</b><br><br>region=Berlin<br>time=2023-12-03 16:00<br>temp_f=%{marker.size}<br>lat=%{lat}<br>lon=%{lon}<extra></extra>",
           "hovertext": [
            "Germany"
           ],
           "lat": [
            52.52
           ],
           "legendgroup": "Berlin",
           "lon": [
            13.41
           ],
           "marker": {
            "color": "#FF97FF",
            "size": [
             25.5
            ],
            "sizemode": "area",
            "sizeref": 0.23675000000000002,
            "symbol": "circle"
           },
           "mode": "markers",
           "name": "Berlin",
           "showlegend": true,
           "type": "scattergeo"
          },
          {
           "geo": "geo",
           "hovertemplate": "<b>%{hovertext}</b><br><br>region=Tokyo<br>time=2023-12-03 16:00<br>temp_f=%{marker.size}<br>lat=%{lat}<br>lon=%{lon}<extra></extra>",
           "hovertext": [
            "Japan"
           ],
           "lat": [
            35.68
           ],
           "legendgroup": "Tokyo",
           "lon": [
            139.65
           ],
           "marker": {
            "color": "#FECB52",
            "size": [
             56.1
            ],
            "sizemode": "area",
            "sizeref": 0.23675000000000002,
            "symbol": "circle"
           },
           "mode": "markers",
           "name": "Tokyo",
           "showlegend": true,
           "type": "scattergeo"
          },
          {
           "geo": "geo",
           "hovertemplate": "<b>%{hovertext}</b><br><br>region=Beijing<br>time=2023-12-03 16:00<br>temp_f=%{marker.size}<br>lat=%{lat}<br>lon=%{lon}<extra></extra>",
           "hovertext": [
            "China"
           ],
           "lat": [
            39.9
           ],
           "legendgroup": "Beijing",
           "lon": [
            116.41
           ],
           "marker": {
            "color": "#636efa",
            "size": [
             42.7
            ],
            "sizemode": "area",
            "sizeref": 0.23675000000000002,
            "symbol": "circle"
           },
           "mode": "markers",
           "name": "Beijing",
           "showlegend": true,
           "type": "scattergeo"
          },
          {
           "geo": "geo",
           "hovertemplate": "<b>%{hovertext}</b><br><br>region=Maharashtra<br>time=2023-12-03 16:00<br>temp_f=%{marker.size}<br>lat=%{lat}<br>lon=%{lon}<extra></extra>",
           "hovertext": [
            "India"
           ],
           "lat": [
            19.08
           ],
           "legendgroup": "Maharashtra",
           "lon": [
            72.88
           ],
           "marker": {
            "color": "#EF553B",
            "size": [
             84.7
            ],
            "sizemode": "area",
            "sizeref": 0.23675000000000002,
            "symbol": "circle"
           },
           "mode": "markers",
           "name": "Maharashtra",
           "showlegend": true,
           "type": "scattergeo"
          },
          {
           "geo": "geo",
           "hovertemplate": "<b>%{hovertext}</b><br><br>region=Al Qahirah<br>time=2023-12-03 16:00<br>temp_f=%{marker.size}<br>lat=%{lat}<br>lon=%{lon}<extra></extra>",
           "hovertext": [
            "Egypt"
           ],
           "lat": [
            30.04
           ],
           "legendgroup": "Al Qahirah",
           "lon": [
            31.24
           ],
           "marker": {
            "color": "#00cc96",
            "size": [
             77.8
            ],
            "sizemode": "area",
            "sizeref": 0.23675000000000002,
            "symbol": "circle"
           },
           "mode": "markers",
           "name": "Al Qahirah",
           "showlegend": true,
           "type": "scattergeo"
          },
          {
           "geo": "geo",
           "hovertemplate": "<b>%{hovertext}</b><br><br>region=Lagos<br>time=2023-12-03 16:00<br>temp_f=%{marker.size}<br>lat=%{lat}<br>lon=%{lon}<extra></extra>",
           "hovertext": [
            "Nigeria"
           ],
           "lat": [
            6.52
           ],
           "legendgroup": "Lagos",
           "lon": [
            3.38
           ],
           "marker": {
            "color": "#ab63fa",
            "size": [
             83.7
            ],
            "sizemode": "area",
            "sizeref": 0.23675000000000002,
            "symbol": "circle"
           },
           "mode": "markers",
           "name": "Lagos",
           "showlegend": true,
           "type": "scattergeo"
          },
          {
           "geo": "geo",
           "hovertemplate": "<b>%{hovertext}</b><br><br>region=Gauteng<br>time=2023-12-03 16:00<br>temp_f=%{marker.size}<br>lat=%{lat}<br>lon=%{lon}<extra></extra>",
           "hovertext": [
            "South Africa"
           ],
           "lat": [
            -26.2
           ],
           "legendgroup": "Gauteng",
           "lon": [
            28.05
           ],
           "marker": {
            "color": "#FFA15A",
            "size": [
             90
            ],
            "sizemode": "area",
            "sizeref": 0.23675000000000002,
            "symbol": "circle"
           },
           "mode": "markers",
           "name": "Gauteng",
           "showlegend": true,
           "type": "scattergeo"
          },
          {
           "geo": "geo",
           "hovertemplate": "<b>%{hovertext}</b><br><br>region=New South Wales<br>time=2023-12-03 16:00<br>temp_f=%{marker.size}<br>lat=%{lat}<br>lon=%{lon}<extra></extra>",
           "hovertext": [
            "Australia"
           ],
           "lat": [
            -33.87
           ],
           "legendgroup": "New South Wales",
           "lon": [
            151.21
           ],
           "marker": {
            "color": "#19d3f3",
            "size": [
             71.1
            ],
            "sizemode": "area",
            "sizeref": 0.23675000000000002,
            "symbol": "circle"
           },
           "mode": "markers",
           "name": "New South Wales",
           "showlegend": true,
           "type": "scattergeo"
          },
          {
           "geo": "geo",
           "hovertemplate": "<b>%{hovertext}</b><br><br>region=Victoria<br>time=2023-12-03 16:00<br>temp_f=%{marker.size}<br>lat=%{lat}<br>lon=%{lon}<extra></extra>",
           "hovertext": [
            "Australia"
           ],
           "lat": [
            -37.81
           ],
           "legendgroup": "Victoria",
           "lon": [
            144.96
           ],
           "marker": {
            "color": "#FF6692",
            "size": [
             67.2
            ],
            "sizemode": "area",
            "sizeref": 0.23675000000000002,
            "symbol": "circle"
           },
           "mode": "markers",
           "name": "Victoria",
           "showlegend": true,
           "type": "scattergeo"
          },
          {
           "geo": "geo",
           "hovertemplate": "<b>%{hovertext}</b><br><br>region=Queensland<br>time=2023-12-03 16:00<br>temp_f=%{marker.size}<br>lat=%{lat}<br>lon=%{lon}<extra></extra>",
           "hovertext": [
            "Australia"
           ],
           "lat": [
            -27.47
           ],
           "legendgroup": "Queensland",
           "lon": [
            153.03
           ],
           "marker": {
            "color": "#B6E880",
            "size": [
             81.8
            ],
            "sizemode": "area",
            "sizeref": 0.23675000000000002,
            "symbol": "circle"
           },
           "mode": "markers",
           "name": "Queensland",
           "showlegend": true,
           "type": "scattergeo"
          }
         ],
         "name": "2023-12-03 16:00"
        },
        {
         "data": [
          {
           "geo": "geo",
           "hovertemplate": "<b>%{hovertext}</b><br><br>region=New York<br>time=2023-12-03 17:00<br>temp_f=%{marker.size}<br>lat=%{lat}<br>lon=%{lon}<extra></extra>",
           "hovertext": [
            "United States of America"
           ],
           "lat": [
            40.71
           ],
           "legendgroup": "New York",
           "lon": [
            -74.01
           ],
           "marker": {
            "color": "#636efa",
            "size": [
             45
            ],
            "sizemode": "area",
            "sizeref": 0.23675000000000002,
            "symbol": "circle"
           },
           "mode": "markers",
           "name": "New York",
           "showlegend": true,
           "type": "scattergeo"
          },
          {
           "geo": "geo",
           "hovertemplate": "<b>%{hovertext}</b><br><br>region=California<br>time=2023-12-03 17:00<br>temp_f=%{marker.size}<br>lat=%{lat}<br>lon=%{lon}<extra></extra>",
           "hovertext": [
            "United States of America"
           ],
           "lat": [
            34.05
           ],
           "legendgroup": "California",
           "lon": [
            -118.24
           ],
           "marker": {
            "color": "#EF553B",
            "size": [
             70.9
            ],
            "sizemode": "area",
            "sizeref": 0.23675000000000002,
            "symbol": "circle"
           },
           "mode": "markers",
           "name": "California",
           "showlegend": true,
           "type": "scattergeo"
          },
          {
           "geo": "geo",
           "hovertemplate": "<b>%{hovertext}</b><br><br>region=Ontario<br>time=2023-12-03 17:00<br>temp_f=%{marker.size}<br>lat=%{lat}<br>lon=%{lon}<extra></extra>",
           "hovertext": [
            "Canada"
           ],
           "lat": [
            43.65
           ],
           "legendgroup": "Ontario",
           "lon": [
            -79.38
           ],
           "marker": {
            "color": "#00cc96",
            "size": [
             37.4
            ],
            "sizemode": "area",
            "sizeref": 0.23675000000000002,
            "symbol": "circle"
           },
           "mode": "markers",
           "name": "Ontario",
           "showlegend": true,
           "type": "scattergeo"
          },
          {
           "geo": "geo",
           "hovertemplate": "<b>%{hovertext}</b><br><br>region=Sao Paulo<br>time=2023-12-03 17:00<br>temp_f=%{marker.size}<br>lat=%{lat}<br>lon=%{lon}<extra></extra>",
           "hovertext": [
            "Brazil"
           ],
           "lat": [
            -23.55
           ],
           "legendgroup": "Sao Paulo",
           "lon": [
            -46.63
           ],
           "marker": {
            "color": "#ab63fa",
            "size": [
             82
            ],
            "sizemode": "area",
            "sizeref": 0.23675000000000002,
            "symbol": "circle"
           },
           "mode": "markers",
           "name": "Sao Paulo",
           "showlegend": true,
           "type": "scattergeo"
          },
          {
           "geo": "geo",
           "hovertemplate": "<b>%{hovertext}</b><br><br>region=Buenos Aires<br>time=2023-12-03 17:00<br>temp_f=%{marker.size}<br>lat=%{lat}<br>lon=%{lon}<extra></extra>",
           "hovertext": [
            "Argentina"
           ],
           "lat": [
            -34.6
           ],
           "legendgroup": "Buenos Aires",
           "lon": [
            -58.38
           ],
           "marker": {
            "color": "#FFA15A",
            "size": [
             64.5
            ],
            "sizemode": "area",
            "sizeref": 0.23675000000000002,
            "symbol": "circle"
           },
           "mode": "markers",
           "name": "Buenos Aires",
           "showlegend": true,
           "type": "scattergeo"
          },
          {
           "geo": "geo",
           "hovertemplate": "<b>%{hovertext}</b><br><br>region=Cundinamarca<br>time=2023-12-03 17:00<br>temp_f=%{marker.size}<br>lat=%{lat}<br>lon=%{lon}<extra></extra>",
           "hovertext": [
            "Colombia"
           ],
           "lat": [
            4.71
           ],
           "legendgroup": "Cundinamarca",
           "lon": [
            -74.07
           ],
           "marker": {
            "color": "#19d3f3",
            "size": [
             60.1
            ],
            "sizemode": "area",
            "sizeref": 0.23675000000000002,
            "symbol": "circle"
           },
           "mode": "markers",
           "name": "Cundinamarca",
           "showlegend": true,
           "type": "scattergeo"
          },
          {
           "geo": "geo",
           "hovertemplate": "<b>%{hovertext}</b><br><br>region=City of London, Greater London<br>time=2023-12-03 17:00<br>temp_f=%{marker.size}<br>lat=%{lat}<br>lon=%{lon}<extra></extra>",
           "hovertext": [
            "United Kingdom"
           ],
           "lat": [
            51.51
           ],
           "legendgroup": "City of London, Greater London",
           "lon": [
            -0.13
           ],
           "marker": {
            "color": "#FF6692",
            "size": [
             44.9
            ],
            "sizemode": "area",
            "sizeref": 0.23675000000000002,
            "symbol": "circle"
           },
           "mode": "markers",
           "name": "City of London, Greater London",
           "showlegend": true,
           "type": "scattergeo"
          },
          {
           "geo": "geo",
           "hovertemplate": "<b>%{hovertext}</b><br><br>region=Ile-de-France<br>time=2023-12-03 17:00<br>temp_f=%{marker.size}<br>lat=%{lat}<br>lon=%{lon}<extra></extra>",
           "hovertext": [
            "France"
           ],
           "lat": [
            48.86
           ],
           "legendgroup": "Ile-de-France",
           "lon": [
            2.35
           ],
           "marker": {
            "color": "#B6E880",
            "size": [
             38
            ],
            "sizemode": "area",
            "sizeref": 0.23675000000000002,
            "symbol": "circle"
           },
           "mode": "markers",
           "name": "Ile-de-France",
           "showlegend": true,
           "type": "scattergeo"
          },
          {
           "geo": "geo",
           "hovertemplate": "<b>%{hovertext}</b><br><br>region=Berlin<br>time=2023-12-03 17:00<br>temp_f=%{marker.size}<br>lat=%{lat}<br>lon=%{lon}<extra></extra>",
           "hovertext": [
            "Germany"
           ],
           "lat": [
            52.52
           ],
           "legendgroup": "Berlin",
           "lon": [
            13.41
           ],
           "marker": {
            "color": "#FF97FF",
            "size": [
             24.4
            ],
            "sizemode": "area",
            "sizeref": 0.23675000000000002,
            "symbol": "circle"
           },
           "mode": "markers",
           "name": "Berlin",
           "showlegend": true,
           "type": "scattergeo"
          },
          {
           "geo": "geo",
           "hovertemplate": "<b>%{hovertext}</b><br><br>region=Tokyo<br>time=2023-12-03 17:00<br>temp_f=%{marker.size}<br>lat=%{lat}<br>lon=%{lon}<extra></extra>",
           "hovertext": [
            "Japan"
           ],
           "lat": [
            35.68
           ],
           "legendgroup": "Tokyo",
           "lon": [
            139.65
           ],
           "marker": {
            "color": "#FECB52",
            "size": [
             56
            ],
            "sizemode": "area",
            "sizeref": 0.23675000000000002,
            "symbol": "circle"
           },
           "mode": "markers",
           "name": "Tokyo",
           "showlegend": true,
           "type": "scattergeo"
          },
          {
           "geo": "geo",
           "hovertemplate": "<b>%{hovertext}</b><br><br>region=Beijing<br>time=2023-12-03 17:00<br>temp_f=%{marker.size}<br>lat=%{lat}<br>lon=%{lon}<extra></extra>",
           "hovertext": [
            "China"
           ],
           "lat": [
            39.9
           ],
           "legendgroup": "Beijing",
           "lon": [
            116.41
           ],
           "marker": {
            "color": "#636efa",
            "size": [
             40.9
            ],
            "sizemode": "area",
            "sizeref": 0.23675000000000002,
            "symbol": "circle"
           },
           "mode": "markers",
           "name": "Beijing",
           "showlegend": true,
           "type": "scattergeo"
          },
          {
           "geo": "geo",
           "hovertemplate": "<b>%{hovertext}</b><br><br>region=Maharashtra<br>time=2023-12-03 17:00<br>temp_f=%{marker.size}<br>lat=%{lat}<br>lon=%{lon}<extra></extra>",
           "hovertext": [
            "India"
           ],
           "lat": [
            19.08
           ],
           "legendgroup": "Maharashtra",
           "lon": [
            72.88
           ],
           "marker": {
            "color": "#EF553B",
            "size": [
             84
            ],
            "sizemode": "area",
            "sizeref": 0.23675000000000002,
            "symbol": "circle"
           },
           "mode": "markers",
           "name": "Maharashtra",
           "showlegend": true,
           "type": "scattergeo"
          },
          {
           "geo": "geo",
           "hovertemplate": "<b>%{hovertext}</b><br><br>region=Al Qahirah<br>time=2023-12-03 17:00<br>temp_f=%{marker.size}<br>lat=%{lat}<br>lon=%{lon}<extra></extra>",
           "hovertext": [
            "Egypt"
           ],
           "lat": [
            30.04
           ],
           "legendgroup": "Al Qahirah",
           "lon": [
            31.24
           ],
           "marker": {
            "color": "#00cc96",
            "size": [
             74.5
            ],
            "sizemode": "area",
            "sizeref": 0.23675000000000002,
            "symbol": "circle"
           },
           "mode": "markers",
           "name": "Al Qahirah",
           "showlegend": true,
           "type": "scattergeo"
          },
          {
           "geo": "geo",
           "hovertemplate": "<b>%{hovertext}</b><br><br>region=Lagos<br>time=2023-12-03 17:00<br>temp_f=%{marker.size}<br>lat=%{lat}<br>lon=%{lon}<extra></extra>",
           "hovertext": [
            "Nigeria"
           ],
           "lat": [
            6.52
           ],
           "legendgroup": "Lagos",
           "lon": [
            3.38
           ],
           "marker": {
            "color": "#ab63fa",
            "size": [
             83.8
            ],
            "sizemode": "area",
            "sizeref": 0.23675000000000002,
            "symbol": "circle"
           },
           "mode": "markers",
           "name": "Lagos",
           "showlegend": true,
           "type": "scattergeo"
          },
          {
           "geo": "geo",
           "hovertemplate": "<b>%{hovertext}</b><br><br>region=Gauteng<br>time=2023-12-03 17:00<br>temp_f=%{marker.size}<br>lat=%{lat}<br>lon=%{lon}<extra></extra>",
           "hovertext": [
            "South Africa"
           ],
           "lat": [
            -26.2
           ],
           "legendgroup": "Gauteng",
           "lon": [
            28.05
           ],
           "marker": {
            "color": "#FFA15A",
            "size": [
             89
            ],
            "sizemode": "area",
            "sizeref": 0.23675000000000002,
            "symbol": "circle"
           },
           "mode": "markers",
           "name": "Gauteng",
           "showlegend": true,
           "type": "scattergeo"
          },
          {
           "geo": "geo",
           "hovertemplate": "<b>%{hovertext}</b><br><br>region=New South Wales<br>time=2023-12-03 17:00<br>temp_f=%{marker.size}<br>lat=%{lat}<br>lon=%{lon}<extra></extra>",
           "hovertext": [
            "Australia"
           ],
           "lat": [
            -33.87
           ],
           "legendgroup": "New South Wales",
           "lon": [
            151.21
           ],
           "marker": {
            "color": "#19d3f3",
            "size": [
             70.4
            ],
            "sizemode": "area",
            "sizeref": 0.23675000000000002,
            "symbol": "circle"
           },
           "mode": "markers",
           "name": "New South Wales",
           "showlegend": true,
           "type": "scattergeo"
          },
          {
           "geo": "geo",
           "hovertemplate": "<b>%{hovertext}</b><br><br>region=Victoria<br>time=2023-12-03 17:00<br>temp_f=%{marker.size}<br>lat=%{lat}<br>lon=%{lon}<extra></extra>",
           "hovertext": [
            "Australia"
           ],
           "lat": [
            -37.81
           ],
           "legendgroup": "Victoria",
           "lon": [
            144.96
           ],
           "marker": {
            "color": "#FF6692",
            "size": [
             66.5
            ],
            "sizemode": "area",
            "sizeref": 0.23675000000000002,
            "symbol": "circle"
           },
           "mode": "markers",
           "name": "Victoria",
           "showlegend": true,
           "type": "scattergeo"
          },
          {
           "geo": "geo",
           "hovertemplate": "<b>%{hovertext}</b><br><br>region=Queensland<br>time=2023-12-03 17:00<br>temp_f=%{marker.size}<br>lat=%{lat}<br>lon=%{lon}<extra></extra>",
           "hovertext": [
            "Australia"
           ],
           "lat": [
            -27.47
           ],
           "legendgroup": "Queensland",
           "lon": [
            153.03
           ],
           "marker": {
            "color": "#B6E880",
            "size": [
             81
            ],
            "sizemode": "area",
            "sizeref": 0.23675000000000002,
            "symbol": "circle"
           },
           "mode": "markers",
           "name": "Queensland",
           "showlegend": true,
           "type": "scattergeo"
          }
         ],
         "name": "2023-12-03 17:00"
        },
        {
         "data": [
          {
           "geo": "geo",
           "hovertemplate": "<b>%{hovertext}</b><br><br>region=New York<br>time=2023-12-03 18:00<br>temp_f=%{marker.size}<br>lat=%{lat}<br>lon=%{lon}<extra></extra>",
           "hovertext": [
            "United States of America"
           ],
           "lat": [
            40.71
           ],
           "legendgroup": "New York",
           "lon": [
            -74.01
           ],
           "marker": {
            "color": "#636efa",
            "size": [
             51.8
            ],
            "sizemode": "area",
            "sizeref": 0.23675000000000002,
            "symbol": "circle"
           },
           "mode": "markers",
           "name": "New York",
           "showlegend": true,
           "type": "scattergeo"
          },
          {
           "geo": "geo",
           "hovertemplate": "<b>%{hovertext}</b><br><br>region=California<br>time=2023-12-03 18:00<br>temp_f=%{marker.size}<br>lat=%{lat}<br>lon=%{lon}<extra></extra>",
           "hovertext": [
            "United States of America"
           ],
           "lat": [
            34.05
           ],
           "legendgroup": "California",
           "lon": [
            -118.24
           ],
           "marker": {
            "color": "#EF553B",
            "size": [
             64.9
            ],
            "sizemode": "area",
            "sizeref": 0.23675000000000002,
            "symbol": "circle"
           },
           "mode": "markers",
           "name": "California",
           "showlegend": true,
           "type": "scattergeo"
          },
          {
           "geo": "geo",
           "hovertemplate": "<b>%{hovertext}</b><br><br>region=Ontario<br>time=2023-12-03 18:00<br>temp_f=%{marker.size}<br>lat=%{lat}<br>lon=%{lon}<extra></extra>",
           "hovertext": [
            "Canada"
           ],
           "lat": [
            43.65
           ],
           "legendgroup": "Ontario",
           "lon": [
            -79.38
           ],
           "marker": {
            "color": "#00cc96",
            "size": [
             35.2
            ],
            "sizemode": "area",
            "sizeref": 0.23675000000000002,
            "symbol": "circle"
           },
           "mode": "markers",
           "name": "Ontario",
           "showlegend": true,
           "type": "scattergeo"
          },
          {
           "geo": "geo",
           "hovertemplate": "<b>%{hovertext}</b><br><br>region=Sao Paulo<br>time=2023-12-03 18:00<br>temp_f=%{marker.size}<br>lat=%{lat}<br>lon=%{lon}<extra></extra>",
           "hovertext": [
            "Brazil"
           ],
           "lat": [
            -23.55
           ],
           "legendgroup": "Sao Paulo",
           "lon": [
            -46.63
           ],
           "marker": {
            "color": "#ab63fa",
            "size": [
             78.6
            ],
            "sizemode": "area",
            "sizeref": 0.23675000000000002,
            "symbol": "circle"
           },
           "mode": "markers",
           "name": "Sao Paulo",
           "showlegend": true,
           "type": "scattergeo"
          },
          {
           "geo": "geo",
           "hovertemplate": "<b>%{hovertext}</b><br><br>region=Buenos Aires<br>time=2023-12-03 18:00<br>temp_f=%{marker.size}<br>lat=%{lat}<br>lon=%{lon}<extra></extra>",
           "hovertext": [
            "Argentina"
           ],
           "lat": [
            -34.6
           ],
           "legendgroup": "Buenos Aires",
           "lon": [
            -58.38
           ],
           "marker": {
            "color": "#FFA15A",
            "size": [
             64.4
            ],
            "sizemode": "area",
            "sizeref": 0.23675000000000002,
            "symbol": "circle"
           },
           "mode": "markers",
           "name": "Buenos Aires",
           "showlegend": true,
           "type": "scattergeo"
          },
          {
           "geo": "geo",
           "hovertemplate": "<b>%{hovertext}</b><br><br>region=Cundinamarca<br>time=2023-12-03 18:00<br>temp_f=%{marker.size}<br>lat=%{lat}<br>lon=%{lon}<extra></extra>",
           "hovertext": [
            "Colombia"
           ],
           "lat": [
            4.71
           ],
           "legendgroup": "Cundinamarca",
           "lon": [
            -74.07
           ],
           "marker": {
            "color": "#19d3f3",
            "size": [
             56.5
            ],
            "sizemode": "area",
            "sizeref": 0.23675000000000002,
            "symbol": "circle"
           },
           "mode": "markers",
           "name": "Cundinamarca",
           "showlegend": true,
           "type": "scattergeo"
          },
          {
           "geo": "geo",
           "hovertemplate": "<b>%{hovertext}</b><br><br>region=City of London, Greater London<br>time=2023-12-03 18:00<br>temp_f=%{marker.size}<br>lat=%{lat}<br>lon=%{lon}<extra></extra>",
           "hovertext": [
            "United Kingdom"
           ],
           "lat": [
            51.51
           ],
           "legendgroup": "City of London, Greater London",
           "lon": [
            -0.13
           ],
           "marker": {
            "color": "#FF6692",
            "size": [
             45.2
            ],
            "sizemode": "area",
            "sizeref": 0.23675000000000002,
            "symbol": "circle"
           },
           "mode": "markers",
           "name": "City of London, Greater London",
           "showlegend": true,
           "type": "scattergeo"
          },
          {
           "geo": "geo",
           "hovertemplate": "<b>%{hovertext}</b><br><br>region=Ile-de-France<br>time=2023-12-03 18:00<br>temp_f=%{marker.size}<br>lat=%{lat}<br>lon=%{lon}<extra></extra>",
           "hovertext": [
            "France"
           ],
           "lat": [
            48.86
           ],
           "legendgroup": "Ile-de-France",
           "lon": [
            2.35
           ],
           "marker": {
            "color": "#B6E880",
            "size": [
             38.2
            ],
            "sizemode": "area",
            "sizeref": 0.23675000000000002,
            "symbol": "circle"
           },
           "mode": "markers",
           "name": "Ile-de-France",
           "showlegend": true,
           "type": "scattergeo"
          },
          {
           "geo": "geo",
           "hovertemplate": "<b>%{hovertext}</b><br><br>region=Berlin<br>time=2023-12-03 18:00<br>temp_f=%{marker.size}<br>lat=%{lat}<br>lon=%{lon}<extra></extra>",
           "hovertext": [
            "Germany"
           ],
           "lat": [
            52.52
           ],
           "legendgroup": "Berlin",
           "lon": [
            13.41
           ],
           "marker": {
            "color": "#FF97FF",
            "size": [
             24
            ],
            "sizemode": "area",
            "sizeref": 0.23675000000000002,
            "symbol": "circle"
           },
           "mode": "markers",
           "name": "Berlin",
           "showlegend": true,
           "type": "scattergeo"
          },
          {
           "geo": "geo",
           "hovertemplate": "<b>%{hovertext}</b><br><br>region=Tokyo<br>time=2023-12-03 18:00<br>temp_f=%{marker.size}<br>lat=%{lat}<br>lon=%{lon}<extra></extra>",
           "hovertext": [
            "Japan"
           ],
           "lat": [
            35.68
           ],
           "legendgroup": "Tokyo",
           "lon": [
            139.65
           ],
           "marker": {
            "color": "#FECB52",
            "size": [
             55.1
            ],
            "sizemode": "area",
            "sizeref": 0.23675000000000002,
            "symbol": "circle"
           },
           "mode": "markers",
           "name": "Tokyo",
           "showlegend": true,
           "type": "scattergeo"
          },
          {
           "geo": "geo",
           "hovertemplate": "<b>%{hovertext}</b><br><br>region=Beijing<br>time=2023-12-03 18:00<br>temp_f=%{marker.size}<br>lat=%{lat}<br>lon=%{lon}<extra></extra>",
           "hovertext": [
            "China"
           ],
           "lat": [
            39.9
           ],
           "legendgroup": "Beijing",
           "lon": [
            116.41
           ],
           "marker": {
            "color": "#636efa",
            "size": [
             40.2
            ],
            "sizemode": "area",
            "sizeref": 0.23675000000000002,
            "symbol": "circle"
           },
           "mode": "markers",
           "name": "Beijing",
           "showlegend": true,
           "type": "scattergeo"
          },
          {
           "geo": "geo",
           "hovertemplate": "<b>%{hovertext}</b><br><br>region=Maharashtra<br>time=2023-12-03 18:00<br>temp_f=%{marker.size}<br>lat=%{lat}<br>lon=%{lon}<extra></extra>",
           "hovertext": [
            "India"
           ],
           "lat": [
            19.08
           ],
           "legendgroup": "Maharashtra",
           "lon": [
            72.88
           ],
           "marker": {
            "color": "#EF553B",
            "size": [
             83.1
            ],
            "sizemode": "area",
            "sizeref": 0.23675000000000002,
            "symbol": "circle"
           },
           "mode": "markers",
           "name": "Maharashtra",
           "showlegend": true,
           "type": "scattergeo"
          },
          {
           "geo": "geo",
           "hovertemplate": "<b>%{hovertext}</b><br><br>region=Al Qahirah<br>time=2023-12-03 18:00<br>temp_f=%{marker.size}<br>lat=%{lat}<br>lon=%{lon}<extra></extra>",
           "hovertext": [
            "Egypt"
           ],
           "lat": [
            30.04
           ],
           "legendgroup": "Al Qahirah",
           "lon": [
            31.24
           ],
           "marker": {
            "color": "#00cc96",
            "size": [
             72.6
            ],
            "sizemode": "area",
            "sizeref": 0.23675000000000002,
            "symbol": "circle"
           },
           "mode": "markers",
           "name": "Al Qahirah",
           "showlegend": true,
           "type": "scattergeo"
          },
          {
           "geo": "geo",
           "hovertemplate": "<b>%{hovertext}</b><br><br>region=Lagos<br>time=2023-12-03 18:00<br>temp_f=%{marker.size}<br>lat=%{lat}<br>lon=%{lon}<extra></extra>",
           "hovertext": [
            "Nigeria"
           ],
           "lat": [
            6.52
           ],
           "legendgroup": "Lagos",
           "lon": [
            3.38
           ],
           "marker": {
            "color": "#ab63fa",
            "size": [
             84
            ],
            "sizemode": "area",
            "sizeref": 0.23675000000000002,
            "symbol": "circle"
           },
           "mode": "markers",
           "name": "Lagos",
           "showlegend": true,
           "type": "scattergeo"
          },
          {
           "geo": "geo",
           "hovertemplate": "<b>%{hovertext}</b><br><br>region=Gauteng<br>time=2023-12-03 18:00<br>temp_f=%{marker.size}<br>lat=%{lat}<br>lon=%{lon}<extra></extra>",
           "hovertext": [
            "South Africa"
           ],
           "lat": [
            -26.2
           ],
           "legendgroup": "Gauteng",
           "lon": [
            28.05
           ],
           "marker": {
            "color": "#FFA15A",
            "size": [
             87.1
            ],
            "sizemode": "area",
            "sizeref": 0.23675000000000002,
            "symbol": "circle"
           },
           "mode": "markers",
           "name": "Gauteng",
           "showlegend": true,
           "type": "scattergeo"
          },
          {
           "geo": "geo",
           "hovertemplate": "<b>%{hovertext}</b><br><br>region=New South Wales<br>time=2023-12-03 18:00<br>temp_f=%{marker.size}<br>lat=%{lat}<br>lon=%{lon}<extra></extra>",
           "hovertext": [
            "Australia"
           ],
           "lat": [
            -33.87
           ],
           "legendgroup": "New South Wales",
           "lon": [
            151.21
           ],
           "marker": {
            "color": "#19d3f3",
            "size": [
             69.5
            ],
            "sizemode": "area",
            "sizeref": 0.23675000000000002,
            "symbol": "circle"
           },
           "mode": "markers",
           "name": "New South Wales",
           "showlegend": true,
           "type": "scattergeo"
          },
          {
           "geo": "geo",
           "hovertemplate": "<b>%{hovertext}</b><br><br>region=Victoria<br>time=2023-12-03 18:00<br>temp_f=%{marker.size}<br>lat=%{lat}<br>lon=%{lon}<extra></extra>",
           "hovertext": [
            "Australia"
           ],
           "lat": [
            -37.81
           ],
           "legendgroup": "Victoria",
           "lon": [
            144.96
           ],
           "marker": {
            "color": "#FF6692",
            "size": [
             65.8
            ],
            "sizemode": "area",
            "sizeref": 0.23675000000000002,
            "symbol": "circle"
           },
           "mode": "markers",
           "name": "Victoria",
           "showlegend": true,
           "type": "scattergeo"
          },
          {
           "geo": "geo",
           "hovertemplate": "<b>%{hovertext}</b><br><br>region=Queensland<br>time=2023-12-03 18:00<br>temp_f=%{marker.size}<br>lat=%{lat}<br>lon=%{lon}<extra></extra>",
           "hovertext": [
            "Australia"
           ],
           "lat": [
            -27.47
           ],
           "legendgroup": "Queensland",
           "lon": [
            153.03
           ],
           "marker": {
            "color": "#B6E880",
            "size": [
             78.7
            ],
            "sizemode": "area",
            "sizeref": 0.23675000000000002,
            "symbol": "circle"
           },
           "mode": "markers",
           "name": "Queensland",
           "showlegend": true,
           "type": "scattergeo"
          }
         ],
         "name": "2023-12-03 18:00"
        },
        {
         "data": [
          {
           "geo": "geo",
           "hovertemplate": "<b>%{hovertext}</b><br><br>region=New York<br>time=2023-12-03 19:00<br>temp_f=%{marker.size}<br>lat=%{lat}<br>lon=%{lon}<extra></extra>",
           "hovertext": [
            "United States of America"
           ],
           "lat": [
            40.71
           ],
           "legendgroup": "New York",
           "lon": [
            -74.01
           ],
           "marker": {
            "color": "#636efa",
            "size": [
             52.1
            ],
            "sizemode": "area",
            "sizeref": 0.23675000000000002,
            "symbol": "circle"
           },
           "mode": "markers",
           "name": "New York",
           "showlegend": true,
           "type": "scattergeo"
          },
          {
           "geo": "geo",
           "hovertemplate": "<b>%{hovertext}</b><br><br>region=California<br>time=2023-12-03 19:00<br>temp_f=%{marker.size}<br>lat=%{lat}<br>lon=%{lon}<extra></extra>",
           "hovertext": [
            "United States of America"
           ],
           "lat": [
            34.05
           ],
           "legendgroup": "California",
           "lon": [
            -118.24
           ],
           "marker": {
            "color": "#EF553B",
            "size": [
             63
            ],
            "sizemode": "area",
            "sizeref": 0.23675000000000002,
            "symbol": "circle"
           },
           "mode": "markers",
           "name": "California",
           "showlegend": true,
           "type": "scattergeo"
          },
          {
           "geo": "geo",
           "hovertemplate": "<b>%{hovertext}</b><br><br>region=Ontario<br>time=2023-12-03 19:00<br>temp_f=%{marker.size}<br>lat=%{lat}<br>lon=%{lon}<extra></extra>",
           "hovertext": [
            "Canada"
           ],
           "lat": [
            43.65
           ],
           "legendgroup": "Ontario",
           "lon": [
            -79.38
           ],
           "marker": {
            "color": "#00cc96",
            "size": [
             34.8
            ],
            "sizemode": "area",
            "sizeref": 0.23675000000000002,
            "symbol": "circle"
           },
           "mode": "markers",
           "name": "Ontario",
           "showlegend": true,
           "type": "scattergeo"
          },
          {
           "geo": "geo",
           "hovertemplate": "<b>%{hovertext}</b><br><br>region=Sao Paulo<br>time=2023-12-03 19:00<br>temp_f=%{marker.size}<br>lat=%{lat}<br>lon=%{lon}<extra></extra>",
           "hovertext": [
            "Brazil"
           ],
           "lat": [
            -23.55
           ],
           "legendgroup": "Sao Paulo",
           "lon": [
            -46.63
           ],
           "marker": {
            "color": "#ab63fa",
            "size": [
             77.3
            ],
            "sizemode": "area",
            "sizeref": 0.23675000000000002,
            "symbol": "circle"
           },
           "mode": "markers",
           "name": "Sao Paulo",
           "showlegend": true,
           "type": "scattergeo"
          },
          {
           "geo": "geo",
           "hovertemplate": "<b>%{hovertext}</b><br><br>region=Buenos Aires<br>time=2023-12-03 19:00<br>temp_f=%{marker.size}<br>lat=%{lat}<br>lon=%{lon}<extra></extra>",
           "hovertext": [
            "Argentina"
           ],
           "lat": [
            -34.6
           ],
           "legendgroup": "Buenos Aires",
           "lon": [
            -58.38
           ],
           "marker": {
            "color": "#FFA15A",
            "size": [
             64.8
            ],
            "sizemode": "area",
            "sizeref": 0.23675000000000002,
            "symbol": "circle"
           },
           "mode": "markers",
           "name": "Buenos Aires",
           "showlegend": true,
           "type": "scattergeo"
          },
          {
           "geo": "geo",
           "hovertemplate": "<b>%{hovertext}</b><br><br>region=Cundinamarca<br>time=2023-12-03 19:00<br>temp_f=%{marker.size}<br>lat=%{lat}<br>lon=%{lon}<extra></extra>",
           "hovertext": [
            "Colombia"
           ],
           "lat": [
            4.71
           ],
           "legendgroup": "Cundinamarca",
           "lon": [
            -74.07
           ],
           "marker": {
            "color": "#19d3f3",
            "size": [
             54.5
            ],
            "sizemode": "area",
            "sizeref": 0.23675000000000002,
            "symbol": "circle"
           },
           "mode": "markers",
           "name": "Cundinamarca",
           "showlegend": true,
           "type": "scattergeo"
          },
          {
           "geo": "geo",
           "hovertemplate": "<b>%{hovertext}</b><br><br>region=City of London, Greater London<br>time=2023-12-03 19:00<br>temp_f=%{marker.size}<br>lat=%{lat}<br>lon=%{lon}<extra></extra>",
           "hovertext": [
            "United Kingdom"
           ],
           "lat": [
            51.51
           ],
           "legendgroup": "City of London, Greater London",
           "lon": [
            -0.13
           ],
           "marker": {
            "color": "#FF6692",
            "size": [
             46.1
            ],
            "sizemode": "area",
            "sizeref": 0.23675000000000002,
            "symbol": "circle"
           },
           "mode": "markers",
           "name": "City of London, Greater London",
           "showlegend": true,
           "type": "scattergeo"
          },
          {
           "geo": "geo",
           "hovertemplate": "<b>%{hovertext}</b><br><br>region=Ile-de-France<br>time=2023-12-03 19:00<br>temp_f=%{marker.size}<br>lat=%{lat}<br>lon=%{lon}<extra></extra>",
           "hovertext": [
            "France"
           ],
           "lat": [
            48.86
           ],
           "legendgroup": "Ile-de-France",
           "lon": [
            2.35
           ],
           "marker": {
            "color": "#B6E880",
            "size": [
             38
            ],
            "sizemode": "area",
            "sizeref": 0.23675000000000002,
            "symbol": "circle"
           },
           "mode": "markers",
           "name": "Ile-de-France",
           "showlegend": true,
           "type": "scattergeo"
          },
          {
           "geo": "geo",
           "hovertemplate": "<b>%{hovertext}</b><br><br>region=Berlin<br>time=2023-12-03 19:00<br>temp_f=%{marker.size}<br>lat=%{lat}<br>lon=%{lon}<extra></extra>",
           "hovertext": [
            "Germany"
           ],
           "lat": [
            52.52
           ],
           "legendgroup": "Berlin",
           "lon": [
            13.41
           ],
           "marker": {
            "color": "#FF97FF",
            "size": [
             23.6
            ],
            "sizemode": "area",
            "sizeref": 0.23675000000000002,
            "symbol": "circle"
           },
           "mode": "markers",
           "name": "Berlin",
           "showlegend": true,
           "type": "scattergeo"
          },
          {
           "geo": "geo",
           "hovertemplate": "<b>%{hovertext}</b><br><br>region=Tokyo<br>time=2023-12-03 19:00<br>temp_f=%{marker.size}<br>lat=%{lat}<br>lon=%{lon}<extra></extra>",
           "hovertext": [
            "Japan"
           ],
           "lat": [
            35.68
           ],
           "legendgroup": "Tokyo",
           "lon": [
            139.65
           ],
           "marker": {
            "color": "#FECB52",
            "size": [
             54
            ],
            "sizemode": "area",
            "sizeref": 0.23675000000000002,
            "symbol": "circle"
           },
           "mode": "markers",
           "name": "Tokyo",
           "showlegend": true,
           "type": "scattergeo"
          },
          {
           "geo": "geo",
           "hovertemplate": "<b>%{hovertext}</b><br><br>region=Beijing<br>time=2023-12-03 19:00<br>temp_f=%{marker.size}<br>lat=%{lat}<br>lon=%{lon}<extra></extra>",
           "hovertext": [
            "China"
           ],
           "lat": [
            39.9
           ],
           "legendgroup": "Beijing",
           "lon": [
            116.41
           ],
           "marker": {
            "color": "#636efa",
            "size": [
             38.9
            ],
            "sizemode": "area",
            "sizeref": 0.23675000000000002,
            "symbol": "circle"
           },
           "mode": "markers",
           "name": "Beijing",
           "showlegend": true,
           "type": "scattergeo"
          },
          {
           "geo": "geo",
           "hovertemplate": "<b>%{hovertext}</b><br><br>region=Maharashtra<br>time=2023-12-03 19:00<br>temp_f=%{marker.size}<br>lat=%{lat}<br>lon=%{lon}<extra></extra>",
           "hovertext": [
            "India"
           ],
           "lat": [
            19.08
           ],
           "legendgroup": "Maharashtra",
           "lon": [
            72.88
           ],
           "marker": {
            "color": "#EF553B",
            "size": [
             82.8
            ],
            "sizemode": "area",
            "sizeref": 0.23675000000000002,
            "symbol": "circle"
           },
           "mode": "markers",
           "name": "Maharashtra",
           "showlegend": true,
           "type": "scattergeo"
          },
          {
           "geo": "geo",
           "hovertemplate": "<b>%{hovertext}</b><br><br>region=Al Qahirah<br>time=2023-12-03 19:00<br>temp_f=%{marker.size}<br>lat=%{lat}<br>lon=%{lon}<extra></extra>",
           "hovertext": [
            "Egypt"
           ],
           "lat": [
            30.04
           ],
           "legendgroup": "Al Qahirah",
           "lon": [
            31.24
           ],
           "marker": {
            "color": "#00cc96",
            "size": [
             71
            ],
            "sizemode": "area",
            "sizeref": 0.23675000000000002,
            "symbol": "circle"
           },
           "mode": "markers",
           "name": "Al Qahirah",
           "showlegend": true,
           "type": "scattergeo"
          },
          {
           "geo": "geo",
           "hovertemplate": "<b>%{hovertext}</b><br><br>region=Lagos<br>time=2023-12-03 19:00<br>temp_f=%{marker.size}<br>lat=%{lat}<br>lon=%{lon}<extra></extra>",
           "hovertext": [
            "Nigeria"
           ],
           "lat": [
            6.52
           ],
           "legendgroup": "Lagos",
           "lon": [
            3.38
           ],
           "marker": {
            "color": "#ab63fa",
            "size": [
             83.7
            ],
            "sizemode": "area",
            "sizeref": 0.23675000000000002,
            "symbol": "circle"
           },
           "mode": "markers",
           "name": "Lagos",
           "showlegend": true,
           "type": "scattergeo"
          },
          {
           "geo": "geo",
           "hovertemplate": "<b>%{hovertext}</b><br><br>region=Gauteng<br>time=2023-12-03 19:00<br>temp_f=%{marker.size}<br>lat=%{lat}<br>lon=%{lon}<extra></extra>",
           "hovertext": [
            "South Africa"
           ],
           "lat": [
            -26.2
           ],
           "legendgroup": "Gauteng",
           "lon": [
            28.05
           ],
           "marker": {
            "color": "#FFA15A",
            "size": [
             84
            ],
            "sizemode": "area",
            "sizeref": 0.23675000000000002,
            "symbol": "circle"
           },
           "mode": "markers",
           "name": "Gauteng",
           "showlegend": true,
           "type": "scattergeo"
          },
          {
           "geo": "geo",
           "hovertemplate": "<b>%{hovertext}</b><br><br>region=New South Wales<br>time=2023-12-03 19:00<br>temp_f=%{marker.size}<br>lat=%{lat}<br>lon=%{lon}<extra></extra>",
           "hovertext": [
            "Australia"
           ],
           "lat": [
            -33.87
           ],
           "legendgroup": "New South Wales",
           "lon": [
            151.21
           ],
           "marker": {
            "color": "#19d3f3",
            "size": [
             68.6
            ],
            "sizemode": "area",
            "sizeref": 0.23675000000000002,
            "symbol": "circle"
           },
           "mode": "markers",
           "name": "New South Wales",
           "showlegend": true,
           "type": "scattergeo"
          },
          {
           "geo": "geo",
           "hovertemplate": "<b>%{hovertext}</b><br><br>region=Victoria<br>time=2023-12-03 19:00<br>temp_f=%{marker.size}<br>lat=%{lat}<br>lon=%{lon}<extra></extra>",
           "hovertext": [
            "Australia"
           ],
           "lat": [
            -37.81
           ],
           "legendgroup": "Victoria",
           "lon": [
            144.96
           ],
           "marker": {
            "color": "#FF6692",
            "size": [
             63.9
            ],
            "sizemode": "area",
            "sizeref": 0.23675000000000002,
            "symbol": "circle"
           },
           "mode": "markers",
           "name": "Victoria",
           "showlegend": true,
           "type": "scattergeo"
          },
          {
           "geo": "geo",
           "hovertemplate": "<b>%{hovertext}</b><br><br>region=Queensland<br>time=2023-12-03 19:00<br>temp_f=%{marker.size}<br>lat=%{lat}<br>lon=%{lon}<extra></extra>",
           "hovertext": [
            "Australia"
           ],
           "lat": [
            -27.47
           ],
           "legendgroup": "Queensland",
           "lon": [
            153.03
           ],
           "marker": {
            "color": "#B6E880",
            "size": [
             76.4
            ],
            "sizemode": "area",
            "sizeref": 0.23675000000000002,
            "symbol": "circle"
           },
           "mode": "markers",
           "name": "Queensland",
           "showlegend": true,
           "type": "scattergeo"
          }
         ],
         "name": "2023-12-03 19:00"
        },
        {
         "data": [
          {
           "geo": "geo",
           "hovertemplate": "<b>%{hovertext}</b><br><br>region=New York<br>time=2023-12-03 20:00<br>temp_f=%{marker.size}<br>lat=%{lat}<br>lon=%{lon}<extra></extra>",
           "hovertext": [
            "United States of America"
           ],
           "lat": [
            40.71
           ],
           "legendgroup": "New York",
           "lon": [
            -74.01
           ],
           "marker": {
            "color": "#636efa",
            "size": [
             44.1
            ],
            "sizemode": "area",
            "sizeref": 0.23675000000000002,
            "symbol": "circle"
           },
           "mode": "markers",
           "name": "New York",
           "showlegend": true,
           "type": "scattergeo"
          },
          {
           "geo": "geo",
           "hovertemplate": "<b>%{hovertext}</b><br><br>region=California<br>time=2023-12-03 20:00<br>temp_f=%{marker.size}<br>lat=%{lat}<br>lon=%{lon}<extra></extra>",
           "hovertext": [
            "United States of America"
           ],
           "lat": [
            34.05
           ],
           "legendgroup": "California",
           "lon": [
            -118.24
           ],
           "marker": {
            "color": "#EF553B",
            "size": [
             61
            ],
            "sizemode": "area",
            "sizeref": 0.23675000000000002,
            "symbol": "circle"
           },
           "mode": "markers",
           "name": "California",
           "showlegend": true,
           "type": "scattergeo"
          },
          {
           "geo": "geo",
           "hovertemplate": "<b>%{hovertext}</b><br><br>region=Ontario<br>time=2023-12-03 20:00<br>temp_f=%{marker.size}<br>lat=%{lat}<br>lon=%{lon}<extra></extra>",
           "hovertext": [
            "Canada"
           ],
           "lat": [
            43.65
           ],
           "legendgroup": "Ontario",
           "lon": [
            -79.38
           ],
           "marker": {
            "color": "#00cc96",
            "size": [
             38.3
            ],
            "sizemode": "area",
            "sizeref": 0.23675000000000002,
            "symbol": "circle"
           },
           "mode": "markers",
           "name": "Ontario",
           "showlegend": true,
           "type": "scattergeo"
          },
          {
           "geo": "geo",
           "hovertemplate": "<b>%{hovertext}</b><br><br>region=Sao Paulo<br>time=2023-12-03 20:00<br>temp_f=%{marker.size}<br>lat=%{lat}<br>lon=%{lon}<extra></extra>",
           "hovertext": [
            "Brazil"
           ],
           "lat": [
            -23.55
           ],
           "legendgroup": "Sao Paulo",
           "lon": [
            -46.63
           ],
           "marker": {
            "color": "#ab63fa",
            "size": [
             76.6
            ],
            "sizemode": "area",
            "sizeref": 0.23675000000000002,
            "symbol": "circle"
           },
           "mode": "markers",
           "name": "Sao Paulo",
           "showlegend": true,
           "type": "scattergeo"
          },
          {
           "geo": "geo",
           "hovertemplate": "<b>%{hovertext}</b><br><br>region=Buenos Aires<br>time=2023-12-03 20:00<br>temp_f=%{marker.size}<br>lat=%{lat}<br>lon=%{lon}<extra></extra>",
           "hovertext": [
            "Argentina"
           ],
           "lat": [
            -34.6
           ],
           "legendgroup": "Buenos Aires",
           "lon": [
            -58.38
           ],
           "marker": {
            "color": "#FFA15A",
            "size": [
             64.7
            ],
            "sizemode": "area",
            "sizeref": 0.23675000000000002,
            "symbol": "circle"
           },
           "mode": "markers",
           "name": "Buenos Aires",
           "showlegend": true,
           "type": "scattergeo"
          },
          {
           "geo": "geo",
           "hovertemplate": "<b>%{hovertext}</b><br><br>region=Cundinamarca<br>time=2023-12-03 20:00<br>temp_f=%{marker.size}<br>lat=%{lat}<br>lon=%{lon}<extra></extra>",
           "hovertext": [
            "Colombia"
           ],
           "lat": [
            4.71
           ],
           "legendgroup": "Cundinamarca",
           "lon": [
            -74.07
           ],
           "marker": {
            "color": "#19d3f3",
            "size": [
             53.2
            ],
            "sizemode": "area",
            "sizeref": 0.23675000000000002,
            "symbol": "circle"
           },
           "mode": "markers",
           "name": "Cundinamarca",
           "showlegend": true,
           "type": "scattergeo"
          },
          {
           "geo": "geo",
           "hovertemplate": "<b>%{hovertext}</b><br><br>region=City of London, Greater London<br>time=2023-12-03 20:00<br>temp_f=%{marker.size}<br>lat=%{lat}<br>lon=%{lon}<extra></extra>",
           "hovertext": [
            "United Kingdom"
           ],
           "lat": [
            51.51
           ],
           "legendgroup": "City of London, Greater London",
           "lon": [
            -0.13
           ],
           "marker": {
            "color": "#FF6692",
            "size": [
             46.3
            ],
            "sizemode": "area",
            "sizeref": 0.23675000000000002,
            "symbol": "circle"
           },
           "mode": "markers",
           "name": "City of London, Greater London",
           "showlegend": true,
           "type": "scattergeo"
          },
          {
           "geo": "geo",
           "hovertemplate": "<b>%{hovertext}</b><br><br>region=Ile-de-France<br>time=2023-12-03 20:00<br>temp_f=%{marker.size}<br>lat=%{lat}<br>lon=%{lon}<extra></extra>",
           "hovertext": [
            "France"
           ],
           "lat": [
            48.86
           ],
           "legendgroup": "Ile-de-France",
           "lon": [
            2.35
           ],
           "marker": {
            "color": "#B6E880",
            "size": [
             38.1
            ],
            "sizemode": "area",
            "sizeref": 0.23675000000000002,
            "symbol": "circle"
           },
           "mode": "markers",
           "name": "Ile-de-France",
           "showlegend": true,
           "type": "scattergeo"
          },
          {
           "geo": "geo",
           "hovertemplate": "<b>%{hovertext}</b><br><br>region=Berlin<br>time=2023-12-03 20:00<br>temp_f=%{marker.size}<br>lat=%{lat}<br>lon=%{lon}<extra></extra>",
           "hovertext": [
            "Germany"
           ],
           "lat": [
            52.52
           ],
           "legendgroup": "Berlin",
           "lon": [
            13.41
           ],
           "marker": {
            "color": "#FF97FF",
            "size": [
             23.5
            ],
            "sizemode": "area",
            "sizeref": 0.23675000000000002,
            "symbol": "circle"
           },
           "mode": "markers",
           "name": "Berlin",
           "showlegend": true,
           "type": "scattergeo"
          },
          {
           "geo": "geo",
           "hovertemplate": "<b>%{hovertext}</b><br><br>region=Tokyo<br>time=2023-12-03 20:00<br>temp_f=%{marker.size}<br>lat=%{lat}<br>lon=%{lon}<extra></extra>",
           "hovertext": [
            "Japan"
           ],
           "lat": [
            35.68
           ],
           "legendgroup": "Tokyo",
           "lon": [
            139.65
           ],
           "marker": {
            "color": "#FECB52",
            "size": [
             53.3
            ],
            "sizemode": "area",
            "sizeref": 0.23675000000000002,
            "symbol": "circle"
           },
           "mode": "markers",
           "name": "Tokyo",
           "showlegend": true,
           "type": "scattergeo"
          },
          {
           "geo": "geo",
           "hovertemplate": "<b>%{hovertext}</b><br><br>region=Beijing<br>time=2023-12-03 20:00<br>temp_f=%{marker.size}<br>lat=%{lat}<br>lon=%{lon}<extra></extra>",
           "hovertext": [
            "China"
           ],
           "lat": [
            39.9
           ],
           "legendgroup": "Beijing",
           "lon": [
            116.41
           ],
           "marker": {
            "color": "#636efa",
            "size": [
             37.9
            ],
            "sizemode": "area",
            "sizeref": 0.23675000000000002,
            "symbol": "circle"
           },
           "mode": "markers",
           "name": "Beijing",
           "showlegend": true,
           "type": "scattergeo"
          },
          {
           "geo": "geo",
           "hovertemplate": "<b>%{hovertext}</b><br><br>region=Maharashtra<br>time=2023-12-03 20:00<br>temp_f=%{marker.size}<br>lat=%{lat}<br>lon=%{lon}<extra></extra>",
           "hovertext": [
            "India"
           ],
           "lat": [
            19.08
           ],
           "legendgroup": "Maharashtra",
           "lon": [
            72.88
           ],
           "marker": {
            "color": "#EF553B",
            "size": [
             82.6
            ],
            "sizemode": "area",
            "sizeref": 0.23675000000000002,
            "symbol": "circle"
           },
           "mode": "markers",
           "name": "Maharashtra",
           "showlegend": true,
           "type": "scattergeo"
          },
          {
           "geo": "geo",
           "hovertemplate": "<b>%{hovertext}</b><br><br>region=Al Qahirah<br>time=2023-12-03 20:00<br>temp_f=%{marker.size}<br>lat=%{lat}<br>lon=%{lon}<extra></extra>",
           "hovertext": [
            "Egypt"
           ],
           "lat": [
            30.04
           ],
           "legendgroup": "Al Qahirah",
           "lon": [
            31.24
           ],
           "marker": {
            "color": "#00cc96",
            "size": [
             69.3
            ],
            "sizemode": "area",
            "sizeref": 0.23675000000000002,
            "symbol": "circle"
           },
           "mode": "markers",
           "name": "Al Qahirah",
           "showlegend": true,
           "type": "scattergeo"
          },
          {
           "geo": "geo",
           "hovertemplate": "<b>%{hovertext}</b><br><br>region=Lagos<br>time=2023-12-03 20:00<br>temp_f=%{marker.size}<br>lat=%{lat}<br>lon=%{lon}<extra></extra>",
           "hovertext": [
            "Nigeria"
           ],
           "lat": [
            6.52
           ],
           "legendgroup": "Lagos",
           "lon": [
            3.38
           ],
           "marker": {
            "color": "#ab63fa",
            "size": [
             83.5
            ],
            "sizemode": "area",
            "sizeref": 0.23675000000000002,
            "symbol": "circle"
           },
           "mode": "markers",
           "name": "Lagos",
           "showlegend": true,
           "type": "scattergeo"
          },
          {
           "geo": "geo",
           "hovertemplate": "<b>%{hovertext}</b><br><br>region=Gauteng<br>time=2023-12-03 20:00<br>temp_f=%{marker.size}<br>lat=%{lat}<br>lon=%{lon}<extra></extra>",
           "hovertext": [
            "South Africa"
           ],
           "lat": [
            -26.2
           ],
           "legendgroup": "Gauteng",
           "lon": [
            28.05
           ],
           "marker": {
            "color": "#FFA15A",
            "size": [
             82.5
            ],
            "sizemode": "area",
            "sizeref": 0.23675000000000002,
            "symbol": "circle"
           },
           "mode": "markers",
           "name": "Gauteng",
           "showlegend": true,
           "type": "scattergeo"
          },
          {
           "geo": "geo",
           "hovertemplate": "<b>%{hovertext}</b><br><br>region=New South Wales<br>time=2023-12-03 20:00<br>temp_f=%{marker.size}<br>lat=%{lat}<br>lon=%{lon}<extra></extra>",
           "hovertext": [
            "Australia"
           ],
           "lat": [
            -33.87
           ],
           "legendgroup": "New South Wales",
           "lon": [
            151.21
           ],
           "marker": {
            "color": "#19d3f3",
            "size": [
             67.9
            ],
            "sizemode": "area",
            "sizeref": 0.23675000000000002,
            "symbol": "circle"
           },
           "mode": "markers",
           "name": "New South Wales",
           "showlegend": true,
           "type": "scattergeo"
          },
          {
           "geo": "geo",
           "hovertemplate": "<b>%{hovertext}</b><br><br>region=Victoria<br>time=2023-12-03 20:00<br>temp_f=%{marker.size}<br>lat=%{lat}<br>lon=%{lon}<extra></extra>",
           "hovertext": [
            "Australia"
           ],
           "lat": [
            -37.81
           ],
           "legendgroup": "Victoria",
           "lon": [
            144.96
           ],
           "marker": {
            "color": "#FF6692",
            "size": [
             62
            ],
            "sizemode": "area",
            "sizeref": 0.23675000000000002,
            "symbol": "circle"
           },
           "mode": "markers",
           "name": "Victoria",
           "showlegend": true,
           "type": "scattergeo"
          },
          {
           "geo": "geo",
           "hovertemplate": "<b>%{hovertext}</b><br><br>region=Queensland<br>time=2023-12-03 20:00<br>temp_f=%{marker.size}<br>lat=%{lat}<br>lon=%{lon}<extra></extra>",
           "hovertext": [
            "Australia"
           ],
           "lat": [
            -27.47
           ],
           "legendgroup": "Queensland",
           "lon": [
            153.03
           ],
           "marker": {
            "color": "#B6E880",
            "size": [
             76.2
            ],
            "sizemode": "area",
            "sizeref": 0.23675000000000002,
            "symbol": "circle"
           },
           "mode": "markers",
           "name": "Queensland",
           "showlegend": true,
           "type": "scattergeo"
          }
         ],
         "name": "2023-12-03 20:00"
        },
        {
         "data": [
          {
           "geo": "geo",
           "hovertemplate": "<b>%{hovertext}</b><br><br>region=New York<br>time=2023-12-03 21:00<br>temp_f=%{marker.size}<br>lat=%{lat}<br>lon=%{lon}<extra></extra>",
           "hovertext": [
            "United States of America"
           ],
           "lat": [
            40.71
           ],
           "legendgroup": "New York",
           "lon": [
            -74.01
           ],
           "marker": {
            "color": "#636efa",
            "size": [
             55.9
            ],
            "sizemode": "area",
            "sizeref": 0.23675000000000002,
            "symbol": "circle"
           },
           "mode": "markers",
           "name": "New York",
           "showlegend": true,
           "type": "scattergeo"
          },
          {
           "geo": "geo",
           "hovertemplate": "<b>%{hovertext}</b><br><br>region=California<br>time=2023-12-03 21:00<br>temp_f=%{marker.size}<br>lat=%{lat}<br>lon=%{lon}<extra></extra>",
           "hovertext": [
            "United States of America"
           ],
           "lat": [
            34.05
           ],
           "legendgroup": "California",
           "lon": [
            -118.24
           ],
           "marker": {
            "color": "#EF553B",
            "size": [
             62.3
            ],
            "sizemode": "area",
            "sizeref": 0.23675000000000002,
            "symbol": "circle"
           },
           "mode": "markers",
           "name": "California",
           "showlegend": true,
           "type": "scattergeo"
          },
          {
           "geo": "geo",
           "hovertemplate": "<b>%{hovertext}</b><br><br>region=Ontario<br>time=2023-12-03 21:00<br>temp_f=%{marker.size}<br>lat=%{lat}<br>lon=%{lon}<extra></extra>",
           "hovertext": [
            "Canada"
           ],
           "lat": [
            43.65
           ],
           "legendgroup": "Ontario",
           "lon": [
            -79.38
           ],
           "marker": {
            "color": "#00cc96",
            "size": [
             35.5
            ],
            "sizemode": "area",
            "sizeref": 0.23675000000000002,
            "symbol": "circle"
           },
           "mode": "markers",
           "name": "Ontario",
           "showlegend": true,
           "type": "scattergeo"
          },
          {
           "geo": "geo",
           "hovertemplate": "<b>%{hovertext}</b><br><br>region=Sao Paulo<br>time=2023-12-03 21:00<br>temp_f=%{marker.size}<br>lat=%{lat}<br>lon=%{lon}<extra></extra>",
           "hovertext": [
            "Brazil"
           ],
           "lat": [
            -23.55
           ],
           "legendgroup": "Sao Paulo",
           "lon": [
            -46.63
           ],
           "marker": {
            "color": "#ab63fa",
            "size": [
             76.3
            ],
            "sizemode": "area",
            "sizeref": 0.23675000000000002,
            "symbol": "circle"
           },
           "mode": "markers",
           "name": "Sao Paulo",
           "showlegend": true,
           "type": "scattergeo"
          },
          {
           "geo": "geo",
           "hovertemplate": "<b>%{hovertext}</b><br><br>region=Buenos Aires<br>time=2023-12-03 21:00<br>temp_f=%{marker.size}<br>lat=%{lat}<br>lon=%{lon}<extra></extra>",
           "hovertext": [
            "Argentina"
           ],
           "lat": [
            -34.6
           ],
           "legendgroup": "Buenos Aires",
           "lon": [
            -58.38
           ],
           "marker": {
            "color": "#FFA15A",
            "size": [
             64.4
            ],
            "sizemode": "area",
            "sizeref": 0.23675000000000002,
            "symbol": "circle"
           },
           "mode": "markers",
           "name": "Buenos Aires",
           "showlegend": true,
           "type": "scattergeo"
          },
          {
           "geo": "geo",
           "hovertemplate": "<b>%{hovertext}</b><br><br>region=Cundinamarca<br>time=2023-12-03 21:00<br>temp_f=%{marker.size}<br>lat=%{lat}<br>lon=%{lon}<extra></extra>",
           "hovertext": [
            "Colombia"
           ],
           "lat": [
            4.71
           ],
           "legendgroup": "Cundinamarca",
           "lon": [
            -74.07
           ],
           "marker": {
            "color": "#19d3f3",
            "size": [
             51.9
            ],
            "sizemode": "area",
            "sizeref": 0.23675000000000002,
            "symbol": "circle"
           },
           "mode": "markers",
           "name": "Cundinamarca",
           "showlegend": true,
           "type": "scattergeo"
          },
          {
           "geo": "geo",
           "hovertemplate": "<b>%{hovertext}</b><br><br>region=City of London, Greater London<br>time=2023-12-03 21:00<br>temp_f=%{marker.size}<br>lat=%{lat}<br>lon=%{lon}<extra></extra>",
           "hovertext": [
            "United Kingdom"
           ],
           "lat": [
            51.51
           ],
           "legendgroup": "City of London, Greater London",
           "lon": [
            -0.13
           ],
           "marker": {
            "color": "#FF6692",
            "size": [
             46.3
            ],
            "sizemode": "area",
            "sizeref": 0.23675000000000002,
            "symbol": "circle"
           },
           "mode": "markers",
           "name": "City of London, Greater London",
           "showlegend": true,
           "type": "scattergeo"
          },
          {
           "geo": "geo",
           "hovertemplate": "<b>%{hovertext}</b><br><br>region=Ile-de-France<br>time=2023-12-03 21:00<br>temp_f=%{marker.size}<br>lat=%{lat}<br>lon=%{lon}<extra></extra>",
           "hovertext": [
            "France"
           ],
           "lat": [
            48.86
           ],
           "legendgroup": "Ile-de-France",
           "lon": [
            2.35
           ],
           "marker": {
            "color": "#B6E880",
            "size": [
             37.4
            ],
            "sizemode": "area",
            "sizeref": 0.23675000000000002,
            "symbol": "circle"
           },
           "mode": "markers",
           "name": "Ile-de-France",
           "showlegend": true,
           "type": "scattergeo"
          },
          {
           "geo": "geo",
           "hovertemplate": "<b>%{hovertext}</b><br><br>region=Berlin<br>time=2023-12-03 21:00<br>temp_f=%{marker.size}<br>lat=%{lat}<br>lon=%{lon}<extra></extra>",
           "hovertext": [
            "Germany"
           ],
           "lat": [
            52.52
           ],
           "legendgroup": "Berlin",
           "lon": [
            13.41
           ],
           "marker": {
            "color": "#FF97FF",
            "size": [
             23.7
            ],
            "sizemode": "area",
            "sizeref": 0.23675000000000002,
            "symbol": "circle"
           },
           "mode": "markers",
           "name": "Berlin",
           "showlegend": true,
           "type": "scattergeo"
          },
          {
           "geo": "geo",
           "hovertemplate": "<b>%{hovertext}</b><br><br>region=Tokyo<br>time=2023-12-03 21:00<br>temp_f=%{marker.size}<br>lat=%{lat}<br>lon=%{lon}<extra></extra>",
           "hovertext": [
            "Japan"
           ],
           "lat": [
            35.68
           ],
           "legendgroup": "Tokyo",
           "lon": [
            139.65
           ],
           "marker": {
            "color": "#FECB52",
            "size": [
             52.6
            ],
            "sizemode": "area",
            "sizeref": 0.23675000000000002,
            "symbol": "circle"
           },
           "mode": "markers",
           "name": "Tokyo",
           "showlegend": true,
           "type": "scattergeo"
          },
          {
           "geo": "geo",
           "hovertemplate": "<b>%{hovertext}</b><br><br>region=Beijing<br>time=2023-12-03 21:00<br>temp_f=%{marker.size}<br>lat=%{lat}<br>lon=%{lon}<extra></extra>",
           "hovertext": [
            "China"
           ],
           "lat": [
            39.9
           ],
           "legendgroup": "Beijing",
           "lon": [
            116.41
           ],
           "marker": {
            "color": "#636efa",
            "size": [
             37.1
            ],
            "sizemode": "area",
            "sizeref": 0.23675000000000002,
            "symbol": "circle"
           },
           "mode": "markers",
           "name": "Beijing",
           "showlegend": true,
           "type": "scattergeo"
          },
          {
           "geo": "geo",
           "hovertemplate": "<b>%{hovertext}</b><br><br>region=Maharashtra<br>time=2023-12-03 21:00<br>temp_f=%{marker.size}<br>lat=%{lat}<br>lon=%{lon}<extra></extra>",
           "hovertext": [
            "India"
           ],
           "lat": [
            19.08
           ],
           "legendgroup": "Maharashtra",
           "lon": [
            72.88
           ],
           "marker": {
            "color": "#EF553B",
            "size": [
             82.5
            ],
            "sizemode": "area",
            "sizeref": 0.23675000000000002,
            "symbol": "circle"
           },
           "mode": "markers",
           "name": "Maharashtra",
           "showlegend": true,
           "type": "scattergeo"
          },
          {
           "geo": "geo",
           "hovertemplate": "<b>%{hovertext}</b><br><br>region=Al Qahirah<br>time=2023-12-03 21:00<br>temp_f=%{marker.size}<br>lat=%{lat}<br>lon=%{lon}<extra></extra>",
           "hovertext": [
            "Egypt"
           ],
           "lat": [
            30.04
           ],
           "legendgroup": "Al Qahirah",
           "lon": [
            31.24
           ],
           "marker": {
            "color": "#00cc96",
            "size": [
             68
            ],
            "sizemode": "area",
            "sizeref": 0.23675000000000002,
            "symbol": "circle"
           },
           "mode": "markers",
           "name": "Al Qahirah",
           "showlegend": true,
           "type": "scattergeo"
          },
          {
           "geo": "geo",
           "hovertemplate": "<b>%{hovertext}</b><br><br>region=Lagos<br>time=2023-12-03 21:00<br>temp_f=%{marker.size}<br>lat=%{lat}<br>lon=%{lon}<extra></extra>",
           "hovertext": [
            "Nigeria"
           ],
           "lat": [
            6.52
           ],
           "legendgroup": "Lagos",
           "lon": [
            3.38
           ],
           "marker": {
            "color": "#ab63fa",
            "size": [
             83.4
            ],
            "sizemode": "area",
            "sizeref": 0.23675000000000002,
            "symbol": "circle"
           },
           "mode": "markers",
           "name": "Lagos",
           "showlegend": true,
           "type": "scattergeo"
          },
          {
           "geo": "geo",
           "hovertemplate": "<b>%{hovertext}</b><br><br>region=Gauteng<br>time=2023-12-03 21:00<br>temp_f=%{marker.size}<br>lat=%{lat}<br>lon=%{lon}<extra></extra>",
           "hovertext": [
            "South Africa"
           ],
           "lat": [
            -26.2
           ],
           "legendgroup": "Gauteng",
           "lon": [
            28.05
           ],
           "marker": {
            "color": "#FFA15A",
            "size": [
             81.2
            ],
            "sizemode": "area",
            "sizeref": 0.23675000000000002,
            "symbol": "circle"
           },
           "mode": "markers",
           "name": "Gauteng",
           "showlegend": true,
           "type": "scattergeo"
          },
          {
           "geo": "geo",
           "hovertemplate": "<b>%{hovertext}</b><br><br>region=New South Wales<br>time=2023-12-03 21:00<br>temp_f=%{marker.size}<br>lat=%{lat}<br>lon=%{lon}<extra></extra>",
           "hovertext": [
            "Australia"
           ],
           "lat": [
            -33.87
           ],
           "legendgroup": "New South Wales",
           "lon": [
            151.21
           ],
           "marker": {
            "color": "#19d3f3",
            "size": [
             67.2
            ],
            "sizemode": "area",
            "sizeref": 0.23675000000000002,
            "symbol": "circle"
           },
           "mode": "markers",
           "name": "New South Wales",
           "showlegend": true,
           "type": "scattergeo"
          },
          {
           "geo": "geo",
           "hovertemplate": "<b>%{hovertext}</b><br><br>region=Victoria<br>time=2023-12-03 21:00<br>temp_f=%{marker.size}<br>lat=%{lat}<br>lon=%{lon}<extra></extra>",
           "hovertext": [
            "Australia"
           ],
           "lat": [
            -37.81
           ],
           "legendgroup": "Victoria",
           "lon": [
            144.96
           ],
           "marker": {
            "color": "#FF6692",
            "size": [
             60.8
            ],
            "sizemode": "area",
            "sizeref": 0.23675000000000002,
            "symbol": "circle"
           },
           "mode": "markers",
           "name": "Victoria",
           "showlegend": true,
           "type": "scattergeo"
          },
          {
           "geo": "geo",
           "hovertemplate": "<b>%{hovertext}</b><br><br>region=Queensland<br>time=2023-12-03 21:00<br>temp_f=%{marker.size}<br>lat=%{lat}<br>lon=%{lon}<extra></extra>",
           "hovertext": [
            "Australia"
           ],
           "lat": [
            -27.47
           ],
           "legendgroup": "Queensland",
           "lon": [
            153.03
           ],
           "marker": {
            "color": "#B6E880",
            "size": [
             75.2
            ],
            "sizemode": "area",
            "sizeref": 0.23675000000000002,
            "symbol": "circle"
           },
           "mode": "markers",
           "name": "Queensland",
           "showlegend": true,
           "type": "scattergeo"
          }
         ],
         "name": "2023-12-03 21:00"
        },
        {
         "data": [
          {
           "geo": "geo",
           "hovertemplate": "<b>%{hovertext}</b><br><br>region=New York<br>time=2023-12-03 22:00<br>temp_f=%{marker.size}<br>lat=%{lat}<br>lon=%{lon}<extra></extra>",
           "hovertext": [
            "United States of America"
           ],
           "lat": [
            40.71
           ],
           "legendgroup": "New York",
           "lon": [
            -74.01
           ],
           "marker": {
            "color": "#636efa",
            "size": [
             54.1
            ],
            "sizemode": "area",
            "sizeref": 0.23675000000000002,
            "symbol": "circle"
           },
           "mode": "markers",
           "name": "New York",
           "showlegend": true,
           "type": "scattergeo"
          },
          {
           "geo": "geo",
           "hovertemplate": "<b>%{hovertext}</b><br><br>region=California<br>time=2023-12-03 22:00<br>temp_f=%{marker.size}<br>lat=%{lat}<br>lon=%{lon}<extra></extra>",
           "hovertext": [
            "United States of America"
           ],
           "lat": [
            34.05
           ],
           "legendgroup": "California",
           "lon": [
            -118.24
           ],
           "marker": {
            "color": "#EF553B",
            "size": [
             61.8
            ],
            "sizemode": "area",
            "sizeref": 0.23675000000000002,
            "symbol": "circle"
           },
           "mode": "markers",
           "name": "California",
           "showlegend": true,
           "type": "scattergeo"
          },
          {
           "geo": "geo",
           "hovertemplate": "<b>%{hovertext}</b><br><br>region=Ontario<br>time=2023-12-03 22:00<br>temp_f=%{marker.size}<br>lat=%{lat}<br>lon=%{lon}<extra></extra>",
           "hovertext": [
            "Canada"
           ],
           "lat": [
            43.65
           ],
           "legendgroup": "Ontario",
           "lon": [
            -79.38
           ],
           "marker": {
            "color": "#00cc96",
            "size": [
             35.8
            ],
            "sizemode": "area",
            "sizeref": 0.23675000000000002,
            "symbol": "circle"
           },
           "mode": "markers",
           "name": "Ontario",
           "showlegend": true,
           "type": "scattergeo"
          },
          {
           "geo": "geo",
           "hovertemplate": "<b>%{hovertext}</b><br><br>region=Sao Paulo<br>time=2023-12-03 22:00<br>temp_f=%{marker.size}<br>lat=%{lat}<br>lon=%{lon}<extra></extra>",
           "hovertext": [
            "Brazil"
           ],
           "lat": [
            -23.55
           ],
           "legendgroup": "Sao Paulo",
           "lon": [
            -46.63
           ],
           "marker": {
            "color": "#ab63fa",
            "size": [
             75.4
            ],
            "sizemode": "area",
            "sizeref": 0.23675000000000002,
            "symbol": "circle"
           },
           "mode": "markers",
           "name": "Sao Paulo",
           "showlegend": true,
           "type": "scattergeo"
          },
          {
           "geo": "geo",
           "hovertemplate": "<b>%{hovertext}</b><br><br>region=Buenos Aires<br>time=2023-12-03 22:00<br>temp_f=%{marker.size}<br>lat=%{lat}<br>lon=%{lon}<extra></extra>",
           "hovertext": [
            "Argentina"
           ],
           "lat": [
            -34.6
           ],
           "legendgroup": "Buenos Aires",
           "lon": [
            -58.38
           ],
           "marker": {
            "color": "#FFA15A",
            "size": [
             64
            ],
            "sizemode": "area",
            "sizeref": 0.23675000000000002,
            "symbol": "circle"
           },
           "mode": "markers",
           "name": "Buenos Aires",
           "showlegend": true,
           "type": "scattergeo"
          },
          {
           "geo": "geo",
           "hovertemplate": "<b>%{hovertext}</b><br><br>region=Cundinamarca<br>time=2023-12-03 22:00<br>temp_f=%{marker.size}<br>lat=%{lat}<br>lon=%{lon}<extra></extra>",
           "hovertext": [
            "Colombia"
           ],
           "lat": [
            4.71
           ],
           "legendgroup": "Cundinamarca",
           "lon": [
            -74.07
           ],
           "marker": {
            "color": "#19d3f3",
            "size": [
             50.6
            ],
            "sizemode": "area",
            "sizeref": 0.23675000000000002,
            "symbol": "circle"
           },
           "mode": "markers",
           "name": "Cundinamarca",
           "showlegend": true,
           "type": "scattergeo"
          },
          {
           "geo": "geo",
           "hovertemplate": "<b>%{hovertext}</b><br><br>region=City of London, Greater London<br>time=2023-12-03 22:00<br>temp_f=%{marker.size}<br>lat=%{lat}<br>lon=%{lon}<extra></extra>",
           "hovertext": [
            "United Kingdom"
           ],
           "lat": [
            51.51
           ],
           "legendgroup": "City of London, Greater London",
           "lon": [
            -0.13
           ],
           "marker": {
            "color": "#FF6692",
            "size": [
             46.2
            ],
            "sizemode": "area",
            "sizeref": 0.23675000000000002,
            "symbol": "circle"
           },
           "mode": "markers",
           "name": "City of London, Greater London",
           "showlegend": true,
           "type": "scattergeo"
          },
          {
           "geo": "geo",
           "hovertemplate": "<b>%{hovertext}</b><br><br>region=Ile-de-France<br>time=2023-12-03 22:00<br>temp_f=%{marker.size}<br>lat=%{lat}<br>lon=%{lon}<extra></extra>",
           "hovertext": [
            "France"
           ],
           "lat": [
            48.86
           ],
           "legendgroup": "Ile-de-France",
           "lon": [
            2.35
           ],
           "marker": {
            "color": "#B6E880",
            "size": [
             36.7
            ],
            "sizemode": "area",
            "sizeref": 0.23675000000000002,
            "symbol": "circle"
           },
           "mode": "markers",
           "name": "Ile-de-France",
           "showlegend": true,
           "type": "scattergeo"
          },
          {
           "geo": "geo",
           "hovertemplate": "<b>%{hovertext}</b><br><br>region=Berlin<br>time=2023-12-03 22:00<br>temp_f=%{marker.size}<br>lat=%{lat}<br>lon=%{lon}<extra></extra>",
           "hovertext": [
            "Germany"
           ],
           "lat": [
            52.52
           ],
           "legendgroup": "Berlin",
           "lon": [
            13.41
           ],
           "marker": {
            "color": "#FF97FF",
            "size": [
             23.6
            ],
            "sizemode": "area",
            "sizeref": 0.23675000000000002,
            "symbol": "circle"
           },
           "mode": "markers",
           "name": "Berlin",
           "showlegend": true,
           "type": "scattergeo"
          },
          {
           "geo": "geo",
           "hovertemplate": "<b>%{hovertext}</b><br><br>region=Tokyo<br>time=2023-12-03 22:00<br>temp_f=%{marker.size}<br>lat=%{lat}<br>lon=%{lon}<extra></extra>",
           "hovertext": [
            "Japan"
           ],
           "lat": [
            35.68
           ],
           "legendgroup": "Tokyo",
           "lon": [
            139.65
           ],
           "marker": {
            "color": "#FECB52",
            "size": [
             51.5
            ],
            "sizemode": "area",
            "sizeref": 0.23675000000000002,
            "symbol": "circle"
           },
           "mode": "markers",
           "name": "Tokyo",
           "showlegend": true,
           "type": "scattergeo"
          },
          {
           "geo": "geo",
           "hovertemplate": "<b>%{hovertext}</b><br><br>region=Beijing<br>time=2023-12-03 22:00<br>temp_f=%{marker.size}<br>lat=%{lat}<br>lon=%{lon}<extra></extra>",
           "hovertext": [
            "China"
           ],
           "lat": [
            39.9
           ],
           "legendgroup": "Beijing",
           "lon": [
            116.41
           ],
           "marker": {
            "color": "#636efa",
            "size": [
             36.1
            ],
            "sizemode": "area",
            "sizeref": 0.23675000000000002,
            "symbol": "circle"
           },
           "mode": "markers",
           "name": "Beijing",
           "showlegend": true,
           "type": "scattergeo"
          },
          {
           "geo": "geo",
           "hovertemplate": "<b>%{hovertext}</b><br><br>region=Maharashtra<br>time=2023-12-03 22:00<br>temp_f=%{marker.size}<br>lat=%{lat}<br>lon=%{lon}<extra></extra>",
           "hovertext": [
            "India"
           ],
           "lat": [
            19.08
           ],
           "legendgroup": "Maharashtra",
           "lon": [
            72.88
           ],
           "marker": {
            "color": "#EF553B",
            "size": [
             82.3
            ],
            "sizemode": "area",
            "sizeref": 0.23675000000000002,
            "symbol": "circle"
           },
           "mode": "markers",
           "name": "Maharashtra",
           "showlegend": true,
           "type": "scattergeo"
          },
          {
           "geo": "geo",
           "hovertemplate": "<b>%{hovertext}</b><br><br>region=Al Qahirah<br>time=2023-12-03 22:00<br>temp_f=%{marker.size}<br>lat=%{lat}<br>lon=%{lon}<extra></extra>",
           "hovertext": [
            "Egypt"
           ],
           "lat": [
            30.04
           ],
           "legendgroup": "Al Qahirah",
           "lon": [
            31.24
           ],
           "marker": {
            "color": "#00cc96",
            "size": [
             67.1
            ],
            "sizemode": "area",
            "sizeref": 0.23675000000000002,
            "symbol": "circle"
           },
           "mode": "markers",
           "name": "Al Qahirah",
           "showlegend": true,
           "type": "scattergeo"
          },
          {
           "geo": "geo",
           "hovertemplate": "<b>%{hovertext}</b><br><br>region=Lagos<br>time=2023-12-03 22:00<br>temp_f=%{marker.size}<br>lat=%{lat}<br>lon=%{lon}<extra></extra>",
           "hovertext": [
            "Nigeria"
           ],
           "lat": [
            6.52
           ],
           "legendgroup": "Lagos",
           "lon": [
            3.38
           ],
           "marker": {
            "color": "#ab63fa",
            "size": [
             83.3
            ],
            "sizemode": "area",
            "sizeref": 0.23675000000000002,
            "symbol": "circle"
           },
           "mode": "markers",
           "name": "Lagos",
           "showlegend": true,
           "type": "scattergeo"
          },
          {
           "geo": "geo",
           "hovertemplate": "<b>%{hovertext}</b><br><br>region=Gauteng<br>time=2023-12-03 22:00<br>temp_f=%{marker.size}<br>lat=%{lat}<br>lon=%{lon}<extra></extra>",
           "hovertext": [
            "South Africa"
           ],
           "lat": [
            -26.2
           ],
           "legendgroup": "Gauteng",
           "lon": [
            28.05
           ],
           "marker": {
            "color": "#FFA15A",
            "size": [
             79.7
            ],
            "sizemode": "area",
            "sizeref": 0.23675000000000002,
            "symbol": "circle"
           },
           "mode": "markers",
           "name": "Gauteng",
           "showlegend": true,
           "type": "scattergeo"
          },
          {
           "geo": "geo",
           "hovertemplate": "<b>%{hovertext}</b><br><br>region=New South Wales<br>time=2023-12-03 22:00<br>temp_f=%{marker.size}<br>lat=%{lat}<br>lon=%{lon}<extra></extra>",
           "hovertext": [
            "Australia"
           ],
           "lat": [
            -33.87
           ],
           "legendgroup": "New South Wales",
           "lon": [
            151.21
           ],
           "marker": {
            "color": "#19d3f3",
            "size": [
             66.4
            ],
            "sizemode": "area",
            "sizeref": 0.23675000000000002,
            "symbol": "circle"
           },
           "mode": "markers",
           "name": "New South Wales",
           "showlegend": true,
           "type": "scattergeo"
          },
          {
           "geo": "geo",
           "hovertemplate": "<b>%{hovertext}</b><br><br>region=Victoria<br>time=2023-12-03 22:00<br>temp_f=%{marker.size}<br>lat=%{lat}<br>lon=%{lon}<extra></extra>",
           "hovertext": [
            "Australia"
           ],
           "lat": [
            -37.81
           ],
           "legendgroup": "Victoria",
           "lon": [
            144.96
           ],
           "marker": {
            "color": "#FF6692",
            "size": [
             59.5
            ],
            "sizemode": "area",
            "sizeref": 0.23675000000000002,
            "symbol": "circle"
           },
           "mode": "markers",
           "name": "Victoria",
           "showlegend": true,
           "type": "scattergeo"
          },
          {
           "geo": "geo",
           "hovertemplate": "<b>%{hovertext}</b><br><br>region=Queensland<br>time=2023-12-03 22:00<br>temp_f=%{marker.size}<br>lat=%{lat}<br>lon=%{lon}<extra></extra>",
           "hovertext": [
            "Australia"
           ],
           "lat": [
            -27.47
           ],
           "legendgroup": "Queensland",
           "lon": [
            153.03
           ],
           "marker": {
            "color": "#B6E880",
            "size": [
             74.9
            ],
            "sizemode": "area",
            "sizeref": 0.23675000000000002,
            "symbol": "circle"
           },
           "mode": "markers",
           "name": "Queensland",
           "showlegend": true,
           "type": "scattergeo"
          }
         ],
         "name": "2023-12-03 22:00"
        },
        {
         "data": [
          {
           "geo": "geo",
           "hovertemplate": "<b>%{hovertext}</b><br><br>region=New York<br>time=2023-12-03 23:00<br>temp_f=%{marker.size}<br>lat=%{lat}<br>lon=%{lon}<extra></extra>",
           "hovertext": [
            "United States of America"
           ],
           "lat": [
            40.71
           ],
           "legendgroup": "New York",
           "lon": [
            -74.01
           ],
           "marker": {
            "color": "#636efa",
            "size": [
             43.9
            ],
            "sizemode": "area",
            "sizeref": 0.23675000000000002,
            "symbol": "circle"
           },
           "mode": "markers",
           "name": "New York",
           "showlegend": true,
           "type": "scattergeo"
          },
          {
           "geo": "geo",
           "hovertemplate": "<b>%{hovertext}</b><br><br>region=California<br>time=2023-12-03 23:00<br>temp_f=%{marker.size}<br>lat=%{lat}<br>lon=%{lon}<extra></extra>",
           "hovertext": [
            "United States of America"
           ],
           "lat": [
            34.05
           ],
           "legendgroup": "California",
           "lon": [
            -118.24
           ],
           "marker": {
            "color": "#EF553B",
            "size": [
             59.7
            ],
            "sizemode": "area",
            "sizeref": 0.23675000000000002,
            "symbol": "circle"
           },
           "mode": "markers",
           "name": "California",
           "showlegend": true,
           "type": "scattergeo"
          },
          {
           "geo": "geo",
           "hovertemplate": "<b>%{hovertext}</b><br><br>region=Ontario<br>time=2023-12-03 23:00<br>temp_f=%{marker.size}<br>lat=%{lat}<br>lon=%{lon}<extra></extra>",
           "hovertext": [
            "Canada"
           ],
           "lat": [
            43.65
           ],
           "legendgroup": "Ontario",
           "lon": [
            -79.38
           ],
           "marker": {
            "color": "#00cc96",
            "size": [
             39
            ],
            "sizemode": "area",
            "sizeref": 0.23675000000000002,
            "symbol": "circle"
           },
           "mode": "markers",
           "name": "Ontario",
           "showlegend": true,
           "type": "scattergeo"
          },
          {
           "geo": "geo",
           "hovertemplate": "<b>%{hovertext}</b><br><br>region=Sao Paulo<br>time=2023-12-03 23:00<br>temp_f=%{marker.size}<br>lat=%{lat}<br>lon=%{lon}<extra></extra>",
           "hovertext": [
            "Brazil"
           ],
           "lat": [
            -23.55
           ],
           "legendgroup": "Sao Paulo",
           "lon": [
            -46.63
           ],
           "marker": {
            "color": "#ab63fa",
            "size": [
             74.2
            ],
            "sizemode": "area",
            "sizeref": 0.23675000000000002,
            "symbol": "circle"
           },
           "mode": "markers",
           "name": "Sao Paulo",
           "showlegend": true,
           "type": "scattergeo"
          },
          {
           "geo": "geo",
           "hovertemplate": "<b>%{hovertext}</b><br><br>region=Buenos Aires<br>time=2023-12-03 23:00<br>temp_f=%{marker.size}<br>lat=%{lat}<br>lon=%{lon}<extra></extra>",
           "hovertext": [
            "Argentina"
           ],
           "lat": [
            -34.6
           ],
           "legendgroup": "Buenos Aires",
           "lon": [
            -58.38
           ],
           "marker": {
            "color": "#FFA15A",
            "size": [
             63.5
            ],
            "sizemode": "area",
            "sizeref": 0.23675000000000002,
            "symbol": "circle"
           },
           "mode": "markers",
           "name": "Buenos Aires",
           "showlegend": true,
           "type": "scattergeo"
          },
          {
           "geo": "geo",
           "hovertemplate": "<b>%{hovertext}</b><br><br>region=Cundinamarca<br>time=2023-12-03 23:00<br>temp_f=%{marker.size}<br>lat=%{lat}<br>lon=%{lon}<extra></extra>",
           "hovertext": [
            "Colombia"
           ],
           "lat": [
            4.71
           ],
           "legendgroup": "Cundinamarca",
           "lon": [
            -74.07
           ],
           "marker": {
            "color": "#19d3f3",
            "size": [
             50.2
            ],
            "sizemode": "area",
            "sizeref": 0.23675000000000002,
            "symbol": "circle"
           },
           "mode": "markers",
           "name": "Cundinamarca",
           "showlegend": true,
           "type": "scattergeo"
          },
          {
           "geo": "geo",
           "hovertemplate": "<b>%{hovertext}</b><br><br>region=City of London, Greater London<br>time=2023-12-03 23:00<br>temp_f=%{marker.size}<br>lat=%{lat}<br>lon=%{lon}<extra></extra>",
           "hovertext": [
            "United Kingdom"
           ],
           "lat": [
            51.51
           ],
           "legendgroup": "City of London, Greater London",
           "lon": [
            -0.13
           ],
           "marker": {
            "color": "#FF6692",
            "size": [
             46.3
            ],
            "sizemode": "area",
            "sizeref": 0.23675000000000002,
            "symbol": "circle"
           },
           "mode": "markers",
           "name": "City of London, Greater London",
           "showlegend": true,
           "type": "scattergeo"
          },
          {
           "geo": "geo",
           "hovertemplate": "<b>%{hovertext}</b><br><br>region=Ile-de-France<br>time=2023-12-03 23:00<br>temp_f=%{marker.size}<br>lat=%{lat}<br>lon=%{lon}<extra></extra>",
           "hovertext": [
            "France"
           ],
           "lat": [
            48.86
           ],
           "legendgroup": "Ile-de-France",
           "lon": [
            2.35
           ],
           "marker": {
            "color": "#B6E880",
            "size": [
             36.4
            ],
            "sizemode": "area",
            "sizeref": 0.23675000000000002,
            "symbol": "circle"
           },
           "mode": "markers",
           "name": "Ile-de-France",
           "showlegend": true,
           "type": "scattergeo"
          },
          {
           "geo": "geo",
           "hovertemplate": "<b>%{hovertext}</b><br><br>region=Berlin<br>time=2023-12-03 23:00<br>temp_f=%{marker.size}<br>lat=%{lat}<br>lon=%{lon}<extra></extra>",
           "hovertext": [
            "Germany"
           ],
           "lat": [
            52.52
           ],
           "legendgroup": "Berlin",
           "lon": [
            13.41
           ],
           "marker": {
            "color": "#FF97FF",
            "size": [
             23
            ],
            "sizemode": "area",
            "sizeref": 0.23675000000000002,
            "symbol": "circle"
           },
           "mode": "markers",
           "name": "Berlin",
           "showlegend": true,
           "type": "scattergeo"
          },
          {
           "geo": "geo",
           "hovertemplate": "<b>%{hovertext}</b><br><br>region=Tokyo<br>time=2023-12-03 23:00<br>temp_f=%{marker.size}<br>lat=%{lat}<br>lon=%{lon}<extra></extra>",
           "hovertext": [
            "Japan"
           ],
           "lat": [
            35.68
           ],
           "legendgroup": "Tokyo",
           "lon": [
            139.65
           ],
           "marker": {
            "color": "#FECB52",
            "size": [
             50.5
            ],
            "sizemode": "area",
            "sizeref": 0.23675000000000002,
            "symbol": "circle"
           },
           "mode": "markers",
           "name": "Tokyo",
           "showlegend": true,
           "type": "scattergeo"
          },
          {
           "geo": "geo",
           "hovertemplate": "<b>%{hovertext}</b><br><br>region=Beijing<br>time=2023-12-03 23:00<br>temp_f=%{marker.size}<br>lat=%{lat}<br>lon=%{lon}<extra></extra>",
           "hovertext": [
            "China"
           ],
           "lat": [
            39.9
           ],
           "legendgroup": "Beijing",
           "lon": [
            116.41
           ],
           "marker": {
            "color": "#636efa",
            "size": [
             35.7
            ],
            "sizemode": "area",
            "sizeref": 0.23675000000000002,
            "symbol": "circle"
           },
           "mode": "markers",
           "name": "Beijing",
           "showlegend": true,
           "type": "scattergeo"
          },
          {
           "geo": "geo",
           "hovertemplate": "<b>%{hovertext}</b><br><br>region=Maharashtra<br>time=2023-12-03 23:00<br>temp_f=%{marker.size}<br>lat=%{lat}<br>lon=%{lon}<extra></extra>",
           "hovertext": [
            "India"
           ],
           "lat": [
            19.08
           ],
           "legendgroup": "Maharashtra",
           "lon": [
            72.88
           ],
           "marker": {
            "color": "#EF553B",
            "size": [
             82.1
            ],
            "sizemode": "area",
            "sizeref": 0.23675000000000002,
            "symbol": "circle"
           },
           "mode": "markers",
           "name": "Maharashtra",
           "showlegend": true,
           "type": "scattergeo"
          },
          {
           "geo": "geo",
           "hovertemplate": "<b>%{hovertext}</b><br><br>region=Al Qahirah<br>time=2023-12-03 23:00<br>temp_f=%{marker.size}<br>lat=%{lat}<br>lon=%{lon}<extra></extra>",
           "hovertext": [
            "Egypt"
           ],
           "lat": [
            30.04
           ],
           "legendgroup": "Al Qahirah",
           "lon": [
            31.24
           ],
           "marker": {
            "color": "#00cc96",
            "size": [
             66.6
            ],
            "sizemode": "area",
            "sizeref": 0.23675000000000002,
            "symbol": "circle"
           },
           "mode": "markers",
           "name": "Al Qahirah",
           "showlegend": true,
           "type": "scattergeo"
          },
          {
           "geo": "geo",
           "hovertemplate": "<b>%{hovertext}</b><br><br>region=Lagos<br>time=2023-12-03 23:00<br>temp_f=%{marker.size}<br>lat=%{lat}<br>lon=%{lon}<extra></extra>",
           "hovertext": [
            "Nigeria"
           ],
           "lat": [
            6.52
           ],
           "legendgroup": "Lagos",
           "lon": [
            3.38
           ],
           "marker": {
            "color": "#ab63fa",
            "size": [
             83
            ],
            "sizemode": "area",
            "sizeref": 0.23675000000000002,
            "symbol": "circle"
           },
           "mode": "markers",
           "name": "Lagos",
           "showlegend": true,
           "type": "scattergeo"
          },
          {
           "geo": "geo",
           "hovertemplate": "<b>%{hovertext}</b><br><br>region=Gauteng<br>time=2023-12-03 23:00<br>temp_f=%{marker.size}<br>lat=%{lat}<br>lon=%{lon}<extra></extra>",
           "hovertext": [
            "South Africa"
           ],
           "lat": [
            -26.2
           ],
           "legendgroup": "Gauteng",
           "lon": [
            28.05
           ],
           "marker": {
            "color": "#FFA15A",
            "size": [
             77.5
            ],
            "sizemode": "area",
            "sizeref": 0.23675000000000002,
            "symbol": "circle"
           },
           "mode": "markers",
           "name": "Gauteng",
           "showlegend": true,
           "type": "scattergeo"
          },
          {
           "geo": "geo",
           "hovertemplate": "<b>%{hovertext}</b><br><br>region=New South Wales<br>time=2023-12-03 23:00<br>temp_f=%{marker.size}<br>lat=%{lat}<br>lon=%{lon}<extra></extra>",
           "hovertext": [
            "Australia"
           ],
           "lat": [
            -33.87
           ],
           "legendgroup": "New South Wales",
           "lon": [
            151.21
           ],
           "marker": {
            "color": "#19d3f3",
            "size": [
             65.5
            ],
            "sizemode": "area",
            "sizeref": 0.23675000000000002,
            "symbol": "circle"
           },
           "mode": "markers",
           "name": "New South Wales",
           "showlegend": true,
           "type": "scattergeo"
          },
          {
           "geo": "geo",
           "hovertemplate": "<b>%{hovertext}</b><br><br>region=Victoria<br>time=2023-12-03 23:00<br>temp_f=%{marker.size}<br>lat=%{lat}<br>lon=%{lon}<extra></extra>",
           "hovertext": [
            "Australia"
           ],
           "lat": [
            -37.81
           ],
           "legendgroup": "Victoria",
           "lon": [
            144.96
           ],
           "marker": {
            "color": "#FF6692",
            "size": [
             58.5
            ],
            "sizemode": "area",
            "sizeref": 0.23675000000000002,
            "symbol": "circle"
           },
           "mode": "markers",
           "name": "Victoria",
           "showlegend": true,
           "type": "scattergeo"
          },
          {
           "geo": "geo",
           "hovertemplate": "<b>%{hovertext}</b><br><br>region=Queensland<br>time=2023-12-03 23:00<br>temp_f=%{marker.size}<br>lat=%{lat}<br>lon=%{lon}<extra></extra>",
           "hovertext": [
            "Australia"
           ],
           "lat": [
            -27.47
           ],
           "legendgroup": "Queensland",
           "lon": [
            153.03
           ],
           "marker": {
            "color": "#B6E880",
            "size": [
             74.4
            ],
            "sizemode": "area",
            "sizeref": 0.23675000000000002,
            "symbol": "circle"
           },
           "mode": "markers",
           "name": "Queensland",
           "showlegend": true,
           "type": "scattergeo"
          }
         ],
         "name": "2023-12-03 23:00"
        },
        {
         "data": [
          {
           "geo": "geo",
           "hovertemplate": "<b>%{hovertext}</b><br><br>region=City of London, Greater London<br>time=2023-12-04 00:00<br>temp_f=%{marker.size}<br>lat=%{lat}<br>lon=%{lon}<extra></extra>",
           "hovertext": [
            "United Kingdom"
           ],
           "lat": [
            51.51
           ],
           "legendgroup": "City of London, Greater London",
           "lon": [
            -0.13
           ],
           "marker": {
            "color": "#FF6692",
            "size": [
             46.2
            ],
            "sizemode": "area",
            "sizeref": 0.23675000000000002,
            "symbol": "circle"
           },
           "mode": "markers",
           "name": "City of London, Greater London",
           "showlegend": true,
           "type": "scattergeo"
          },
          {
           "geo": "geo",
           "hovertemplate": "<b>%{hovertext}</b><br><br>region=Ile-de-France<br>time=2023-12-04 00:00<br>temp_f=%{marker.size}<br>lat=%{lat}<br>lon=%{lon}<extra></extra>",
           "hovertext": [
            "France"
           ],
           "lat": [
            48.86
           ],
           "legendgroup": "Ile-de-France",
           "lon": [
            2.35
           ],
           "marker": {
            "color": "#B6E880",
            "size": [
             36.4
            ],
            "sizemode": "area",
            "sizeref": 0.23675000000000002,
            "symbol": "circle"
           },
           "mode": "markers",
           "name": "Ile-de-France",
           "showlegend": true,
           "type": "scattergeo"
          },
          {
           "geo": "geo",
           "hovertemplate": "<b>%{hovertext}</b><br><br>region=Berlin<br>time=2023-12-04 00:00<br>temp_f=%{marker.size}<br>lat=%{lat}<br>lon=%{lon}<extra></extra>",
           "hovertext": [
            "Germany"
           ],
           "lat": [
            52.52
           ],
           "legendgroup": "Berlin",
           "lon": [
            13.41
           ],
           "marker": {
            "color": "#FF97FF",
            "size": [
             22.7
            ],
            "sizemode": "area",
            "sizeref": 0.23675000000000002,
            "symbol": "circle"
           },
           "mode": "markers",
           "name": "Berlin",
           "showlegend": true,
           "type": "scattergeo"
          },
          {
           "geo": "geo",
           "hovertemplate": "<b>%{hovertext}</b><br><br>region=Tokyo<br>time=2023-12-04 00:00<br>temp_f=%{marker.size}<br>lat=%{lat}<br>lon=%{lon}<extra></extra>",
           "hovertext": [
            "Japan"
           ],
           "lat": [
            35.68
           ],
           "legendgroup": "Tokyo",
           "lon": [
            139.65
           ],
           "marker": {
            "color": "#FECB52",
            "size": [
             49.9
            ],
            "sizemode": "area",
            "sizeref": 0.23675000000000002,
            "symbol": "circle"
           },
           "mode": "markers",
           "name": "Tokyo",
           "showlegend": true,
           "type": "scattergeo"
          },
          {
           "geo": "geo",
           "hovertemplate": "<b>%{hovertext}</b><br><br>region=Beijing<br>time=2023-12-04 00:00<br>temp_f=%{marker.size}<br>lat=%{lat}<br>lon=%{lon}<extra></extra>",
           "hovertext": [
            "China"
           ],
           "lat": [
            39.9
           ],
           "legendgroup": "Beijing",
           "lon": [
            116.41
           ],
           "marker": {
            "color": "#636efa",
            "size": [
             35.3
            ],
            "sizemode": "area",
            "sizeref": 0.23675000000000002,
            "symbol": "circle"
           },
           "mode": "markers",
           "name": "Beijing",
           "showlegend": true,
           "type": "scattergeo"
          },
          {
           "geo": "geo",
           "hovertemplate": "<b>%{hovertext}</b><br><br>region=Maharashtra<br>time=2023-12-04 00:00<br>temp_f=%{marker.size}<br>lat=%{lat}<br>lon=%{lon}<extra></extra>",
           "hovertext": [
            "India"
           ],
           "lat": [
            19.08
           ],
           "legendgroup": "Maharashtra",
           "lon": [
            72.88
           ],
           "marker": {
            "color": "#EF553B",
            "size": [
             81.8
            ],
            "sizemode": "area",
            "sizeref": 0.23675000000000002,
            "symbol": "circle"
           },
           "mode": "markers",
           "name": "Maharashtra",
           "showlegend": true,
           "type": "scattergeo"
          },
          {
           "geo": "geo",
           "hovertemplate": "<b>%{hovertext}</b><br><br>region=Al Qahirah<br>time=2023-12-04 00:00<br>temp_f=%{marker.size}<br>lat=%{lat}<br>lon=%{lon}<extra></extra>",
           "hovertext": [
            "Egypt"
           ],
           "lat": [
            30.04
           ],
           "legendgroup": "Al Qahirah",
           "lon": [
            31.24
           ],
           "marker": {
            "color": "#00cc96",
            "size": [
             66.2
            ],
            "sizemode": "area",
            "sizeref": 0.23675000000000002,
            "symbol": "circle"
           },
           "mode": "markers",
           "name": "Al Qahirah",
           "showlegend": true,
           "type": "scattergeo"
          },
          {
           "geo": "geo",
           "hovertemplate": "<b>%{hovertext}</b><br><br>region=Lagos<br>time=2023-12-04 00:00<br>temp_f=%{marker.size}<br>lat=%{lat}<br>lon=%{lon}<extra></extra>",
           "hovertext": [
            "Nigeria"
           ],
           "lat": [
            6.52
           ],
           "legendgroup": "Lagos",
           "lon": [
            3.38
           ],
           "marker": {
            "color": "#ab63fa",
            "size": [
             82.9
            ],
            "sizemode": "area",
            "sizeref": 0.23675000000000002,
            "symbol": "circle"
           },
           "mode": "markers",
           "name": "Lagos",
           "showlegend": true,
           "type": "scattergeo"
          },
          {
           "geo": "geo",
           "hovertemplate": "<b>%{hovertext}</b><br><br>region=Gauteng<br>time=2023-12-04 00:00<br>temp_f=%{marker.size}<br>lat=%{lat}<br>lon=%{lon}<extra></extra>",
           "hovertext": [
            "South Africa"
           ],
           "lat": [
            -26.2
           ],
           "legendgroup": "Gauteng",
           "lon": [
            28.05
           ],
           "marker": {
            "color": "#FFA15A",
            "size": [
             75
            ],
            "sizemode": "area",
            "sizeref": 0.23675000000000002,
            "symbol": "circle"
           },
           "mode": "markers",
           "name": "Gauteng",
           "showlegend": true,
           "type": "scattergeo"
          },
          {
           "geo": "geo",
           "hovertemplate": "<b>%{hovertext}</b><br><br>region=New South Wales<br>time=2023-12-04 00:00<br>temp_f=%{marker.size}<br>lat=%{lat}<br>lon=%{lon}<extra></extra>",
           "hovertext": [
            "Australia"
           ],
           "lat": [
            -33.87
           ],
           "legendgroup": "New South Wales",
           "lon": [
            151.21
           ],
           "marker": {
            "color": "#19d3f3",
            "size": [
             64.7
            ],
            "sizemode": "area",
            "sizeref": 0.23675000000000002,
            "symbol": "circle"
           },
           "mode": "markers",
           "name": "New South Wales",
           "showlegend": true,
           "type": "scattergeo"
          },
          {
           "geo": "geo",
           "hovertemplate": "<b>%{hovertext}</b><br><br>region=Victoria<br>time=2023-12-04 00:00<br>temp_f=%{marker.size}<br>lat=%{lat}<br>lon=%{lon}<extra></extra>",
           "hovertext": [
            "Australia"
           ],
           "lat": [
            -37.81
           ],
           "legendgroup": "Victoria",
           "lon": [
            144.96
           ],
           "marker": {
            "color": "#FF6692",
            "size": [
             57.8
            ],
            "sizemode": "area",
            "sizeref": 0.23675000000000002,
            "symbol": "circle"
           },
           "mode": "markers",
           "name": "Victoria",
           "showlegend": true,
           "type": "scattergeo"
          },
          {
           "geo": "geo",
           "hovertemplate": "<b>%{hovertext}</b><br><br>region=Queensland<br>time=2023-12-04 00:00<br>temp_f=%{marker.size}<br>lat=%{lat}<br>lon=%{lon}<extra></extra>",
           "hovertext": [
            "Australia"
           ],
           "lat": [
            -27.47
           ],
           "legendgroup": "Queensland",
           "lon": [
            153.03
           ],
           "marker": {
            "color": "#B6E880",
            "size": [
             73.9
            ],
            "sizemode": "area",
            "sizeref": 0.23675000000000002,
            "symbol": "circle"
           },
           "mode": "markers",
           "name": "Queensland",
           "showlegend": true,
           "type": "scattergeo"
          }
         ],
         "name": "2023-12-04 00:00"
        },
        {
         "data": [
          {
           "geo": "geo",
           "hovertemplate": "<b>%{hovertext}</b><br><br>region=City of London, Greater London<br>time=2023-12-04 01:00<br>temp_f=%{marker.size}<br>lat=%{lat}<br>lon=%{lon}<extra></extra>",
           "hovertext": [
            "United Kingdom"
           ],
           "lat": [
            51.51
           ],
           "legendgroup": "City of London, Greater London",
           "lon": [
            -0.13
           ],
           "marker": {
            "color": "#FF6692",
            "size": [
             45.4
            ],
            "sizemode": "area",
            "sizeref": 0.23675000000000002,
            "symbol": "circle"
           },
           "mode": "markers",
           "name": "City of London, Greater London",
           "showlegend": true,
           "type": "scattergeo"
          },
          {
           "geo": "geo",
           "hovertemplate": "<b>%{hovertext}</b><br><br>region=Ile-de-France<br>time=2023-12-04 01:00<br>temp_f=%{marker.size}<br>lat=%{lat}<br>lon=%{lon}<extra></extra>",
           "hovertext": [
            "France"
           ],
           "lat": [
            48.86
           ],
           "legendgroup": "Ile-de-France",
           "lon": [
            2.35
           ],
           "marker": {
            "color": "#B6E880",
            "size": [
             36.1
            ],
            "sizemode": "area",
            "sizeref": 0.23675000000000002,
            "symbol": "circle"
           },
           "mode": "markers",
           "name": "Ile-de-France",
           "showlegend": true,
           "type": "scattergeo"
          },
          {
           "geo": "geo",
           "hovertemplate": "<b>%{hovertext}</b><br><br>region=Berlin<br>time=2023-12-04 01:00<br>temp_f=%{marker.size}<br>lat=%{lat}<br>lon=%{lon}<extra></extra>",
           "hovertext": [
            "Germany"
           ],
           "lat": [
            52.52
           ],
           "legendgroup": "Berlin",
           "lon": [
            13.41
           ],
           "marker": {
            "color": "#FF97FF",
            "size": [
             22.5
            ],
            "sizemode": "area",
            "sizeref": 0.23675000000000002,
            "symbol": "circle"
           },
           "mode": "markers",
           "name": "Berlin",
           "showlegend": true,
           "type": "scattergeo"
          },
          {
           "geo": "geo",
           "hovertemplate": "<b>%{hovertext}</b><br><br>region=Tokyo<br>time=2023-12-04 01:00<br>temp_f=%{marker.size}<br>lat=%{lat}<br>lon=%{lon}<extra></extra>",
           "hovertext": [
            "Japan"
           ],
           "lat": [
            35.68
           ],
           "legendgroup": "Tokyo",
           "lon": [
            139.65
           ],
           "marker": {
            "color": "#FECB52",
            "size": [
             49.4
            ],
            "sizemode": "area",
            "sizeref": 0.23675000000000002,
            "symbol": "circle"
           },
           "mode": "markers",
           "name": "Tokyo",
           "showlegend": true,
           "type": "scattergeo"
          },
          {
           "geo": "geo",
           "hovertemplate": "<b>%{hovertext}</b><br><br>region=Beijing<br>time=2023-12-04 01:00<br>temp_f=%{marker.size}<br>lat=%{lat}<br>lon=%{lon}<extra></extra>",
           "hovertext": [
            "China"
           ],
           "lat": [
            39.9
           ],
           "legendgroup": "Beijing",
           "lon": [
            116.41
           ],
           "marker": {
            "color": "#636efa",
            "size": [
             34.8
            ],
            "sizemode": "area",
            "sizeref": 0.23675000000000002,
            "symbol": "circle"
           },
           "mode": "markers",
           "name": "Beijing",
           "showlegend": true,
           "type": "scattergeo"
          },
          {
           "geo": "geo",
           "hovertemplate": "<b>%{hovertext}</b><br><br>region=Maharashtra<br>time=2023-12-04 01:00<br>temp_f=%{marker.size}<br>lat=%{lat}<br>lon=%{lon}<extra></extra>",
           "hovertext": [
            "India"
           ],
           "lat": [
            19.08
           ],
           "legendgroup": "Maharashtra",
           "lon": [
            72.88
           ],
           "marker": {
            "color": "#EF553B",
            "size": [
             81.5
            ],
            "sizemode": "area",
            "sizeref": 0.23675000000000002,
            "symbol": "circle"
           },
           "mode": "markers",
           "name": "Maharashtra",
           "showlegend": true,
           "type": "scattergeo"
          },
          {
           "geo": "geo",
           "hovertemplate": "<b>%{hovertext}</b><br><br>region=Al Qahirah<br>time=2023-12-04 01:00<br>temp_f=%{marker.size}<br>lat=%{lat}<br>lon=%{lon}<extra></extra>",
           "hovertext": [
            "Egypt"
           ],
           "lat": [
            30.04
           ],
           "legendgroup": "Al Qahirah",
           "lon": [
            31.24
           ],
           "marker": {
            "color": "#00cc96",
            "size": [
             65.4
            ],
            "sizemode": "area",
            "sizeref": 0.23675000000000002,
            "symbol": "circle"
           },
           "mode": "markers",
           "name": "Al Qahirah",
           "showlegend": true,
           "type": "scattergeo"
          },
          {
           "geo": "geo",
           "hovertemplate": "<b>%{hovertext}</b><br><br>region=Lagos<br>time=2023-12-04 01:00<br>temp_f=%{marker.size}<br>lat=%{lat}<br>lon=%{lon}<extra></extra>",
           "hovertext": [
            "Nigeria"
           ],
           "lat": [
            6.52
           ],
           "legendgroup": "Lagos",
           "lon": [
            3.38
           ],
           "marker": {
            "color": "#ab63fa",
            "size": [
             82.7
            ],
            "sizemode": "area",
            "sizeref": 0.23675000000000002,
            "symbol": "circle"
           },
           "mode": "markers",
           "name": "Lagos",
           "showlegend": true,
           "type": "scattergeo"
          },
          {
           "geo": "geo",
           "hovertemplate": "<b>%{hovertext}</b><br><br>region=Gauteng<br>time=2023-12-04 01:00<br>temp_f=%{marker.size}<br>lat=%{lat}<br>lon=%{lon}<extra></extra>",
           "hovertext": [
            "South Africa"
           ],
           "lat": [
            -26.2
           ],
           "legendgroup": "Gauteng",
           "lon": [
            28.05
           ],
           "marker": {
            "color": "#FFA15A",
            "size": [
             73.3
            ],
            "sizemode": "area",
            "sizeref": 0.23675000000000002,
            "symbol": "circle"
           },
           "mode": "markers",
           "name": "Gauteng",
           "showlegend": true,
           "type": "scattergeo"
          },
          {
           "geo": "geo",
           "hovertemplate": "<b>%{hovertext}</b><br><br>region=New South Wales<br>time=2023-12-04 01:00<br>temp_f=%{marker.size}<br>lat=%{lat}<br>lon=%{lon}<extra></extra>",
           "hovertext": [
            "Australia"
           ],
           "lat": [
            -33.87
           ],
           "legendgroup": "New South Wales",
           "lon": [
            151.21
           ],
           "marker": {
            "color": "#19d3f3",
            "size": [
             64.3
            ],
            "sizemode": "area",
            "sizeref": 0.23675000000000002,
            "symbol": "circle"
           },
           "mode": "markers",
           "name": "New South Wales",
           "showlegend": true,
           "type": "scattergeo"
          },
          {
           "geo": "geo",
           "hovertemplate": "<b>%{hovertext}</b><br><br>region=Victoria<br>time=2023-12-04 01:00<br>temp_f=%{marker.size}<br>lat=%{lat}<br>lon=%{lon}<extra></extra>",
           "hovertext": [
            "Australia"
           ],
           "lat": [
            -37.81
           ],
           "legendgroup": "Victoria",
           "lon": [
            144.96
           ],
           "marker": {
            "color": "#FF6692",
            "size": [
             57.3
            ],
            "sizemode": "area",
            "sizeref": 0.23675000000000002,
            "symbol": "circle"
           },
           "mode": "markers",
           "name": "Victoria",
           "showlegend": true,
           "type": "scattergeo"
          },
          {
           "geo": "geo",
           "hovertemplate": "<b>%{hovertext}</b><br><br>region=Queensland<br>time=2023-12-04 01:00<br>temp_f=%{marker.size}<br>lat=%{lat}<br>lon=%{lon}<extra></extra>",
           "hovertext": [
            "Australia"
           ],
           "lat": [
            -27.47
           ],
           "legendgroup": "Queensland",
           "lon": [
            153.03
           ],
           "marker": {
            "color": "#B6E880",
            "size": [
             73.4
            ],
            "sizemode": "area",
            "sizeref": 0.23675000000000002,
            "symbol": "circle"
           },
           "mode": "markers",
           "name": "Queensland",
           "showlegend": true,
           "type": "scattergeo"
          }
         ],
         "name": "2023-12-04 01:00"
        },
        {
         "data": [
          {
           "geo": "geo",
           "hovertemplate": "<b>%{hovertext}</b><br><br>region=City of London, Greater London<br>time=2023-12-04 02:00<br>temp_f=%{marker.size}<br>lat=%{lat}<br>lon=%{lon}<extra></extra>",
           "hovertext": [
            "United Kingdom"
           ],
           "lat": [
            51.51
           ],
           "legendgroup": "City of London, Greater London",
           "lon": [
            -0.13
           ],
           "marker": {
            "color": "#FF6692",
            "size": [
             43.9
            ],
            "sizemode": "area",
            "sizeref": 0.23675000000000002,
            "symbol": "circle"
           },
           "mode": "markers",
           "name": "City of London, Greater London",
           "showlegend": true,
           "type": "scattergeo"
          },
          {
           "geo": "geo",
           "hovertemplate": "<b>%{hovertext}</b><br><br>region=Ile-de-France<br>time=2023-12-04 02:00<br>temp_f=%{marker.size}<br>lat=%{lat}<br>lon=%{lon}<extra></extra>",
           "hovertext": [
            "France"
           ],
           "lat": [
            48.86
           ],
           "legendgroup": "Ile-de-France",
           "lon": [
            2.35
           ],
           "marker": {
            "color": "#B6E880",
            "size": [
             36.1
            ],
            "sizemode": "area",
            "sizeref": 0.23675000000000002,
            "symbol": "circle"
           },
           "mode": "markers",
           "name": "Ile-de-France",
           "showlegend": true,
           "type": "scattergeo"
          },
          {
           "geo": "geo",
           "hovertemplate": "<b>%{hovertext}</b><br><br>region=Berlin<br>time=2023-12-04 02:00<br>temp_f=%{marker.size}<br>lat=%{lat}<br>lon=%{lon}<extra></extra>",
           "hovertext": [
            "Germany"
           ],
           "lat": [
            52.52
           ],
           "legendgroup": "Berlin",
           "lon": [
            13.41
           ],
           "marker": {
            "color": "#FF97FF",
            "size": [
             22.2
            ],
            "sizemode": "area",
            "sizeref": 0.23675000000000002,
            "symbol": "circle"
           },
           "mode": "markers",
           "name": "Berlin",
           "showlegend": true,
           "type": "scattergeo"
          },
          {
           "geo": "geo",
           "hovertemplate": "<b>%{hovertext}</b><br><br>region=Tokyo<br>time=2023-12-04 02:00<br>temp_f=%{marker.size}<br>lat=%{lat}<br>lon=%{lon}<extra></extra>",
           "hovertext": [
            "Japan"
           ],
           "lat": [
            35.68
           ],
           "legendgroup": "Tokyo",
           "lon": [
            139.65
           ],
           "marker": {
            "color": "#FECB52",
            "size": [
             48.7
            ],
            "sizemode": "area",
            "sizeref": 0.23675000000000002,
            "symbol": "circle"
           },
           "mode": "markers",
           "name": "Tokyo",
           "showlegend": true,
           "type": "scattergeo"
          },
          {
           "geo": "geo",
           "hovertemplate": "<b>%{hovertext}</b><br><br>region=Beijing<br>time=2023-12-04 02:00<br>temp_f=%{marker.size}<br>lat=%{lat}<br>lon=%{lon}<extra></extra>",
           "hovertext": [
            "China"
           ],
           "lat": [
            39.9
           ],
           "legendgroup": "Beijing",
           "lon": [
            116.41
           ],
           "marker": {
            "color": "#636efa",
            "size": [
             34.3
            ],
            "sizemode": "area",
            "sizeref": 0.23675000000000002,
            "symbol": "circle"
           },
           "mode": "markers",
           "name": "Beijing",
           "showlegend": true,
           "type": "scattergeo"
          },
          {
           "geo": "geo",
           "hovertemplate": "<b>%{hovertext}</b><br><br>region=Maharashtra<br>time=2023-12-04 02:00<br>temp_f=%{marker.size}<br>lat=%{lat}<br>lon=%{lon}<extra></extra>",
           "hovertext": [
            "India"
           ],
           "lat": [
            19.08
           ],
           "legendgroup": "Maharashtra",
           "lon": [
            72.88
           ],
           "marker": {
            "color": "#EF553B",
            "size": [
             81.2
            ],
            "sizemode": "area",
            "sizeref": 0.23675000000000002,
            "symbol": "circle"
           },
           "mode": "markers",
           "name": "Maharashtra",
           "showlegend": true,
           "type": "scattergeo"
          },
          {
           "geo": "geo",
           "hovertemplate": "<b>%{hovertext}</b><br><br>region=Al Qahirah<br>time=2023-12-04 02:00<br>temp_f=%{marker.size}<br>lat=%{lat}<br>lon=%{lon}<extra></extra>",
           "hovertext": [
            "Egypt"
           ],
           "lat": [
            30.04
           ],
           "legendgroup": "Al Qahirah",
           "lon": [
            31.24
           ],
           "marker": {
            "color": "#00cc96",
            "size": [
             64.5
            ],
            "sizemode": "area",
            "sizeref": 0.23675000000000002,
            "symbol": "circle"
           },
           "mode": "markers",
           "name": "Al Qahirah",
           "showlegend": true,
           "type": "scattergeo"
          },
          {
           "geo": "geo",
           "hovertemplate": "<b>%{hovertext}</b><br><br>region=Lagos<br>time=2023-12-04 02:00<br>temp_f=%{marker.size}<br>lat=%{lat}<br>lon=%{lon}<extra></extra>",
           "hovertext": [
            "Nigeria"
           ],
           "lat": [
            6.52
           ],
           "legendgroup": "Lagos",
           "lon": [
            3.38
           ],
           "marker": {
            "color": "#ab63fa",
            "size": [
             82.5
            ],
            "sizemode": "area",
            "sizeref": 0.23675000000000002,
            "symbol": "circle"
           },
           "mode": "markers",
           "name": "Lagos",
           "showlegend": true,
           "type": "scattergeo"
          },
          {
           "geo": "geo",
           "hovertemplate": "<b>%{hovertext}</b><br><br>region=Gauteng<br>time=2023-12-04 02:00<br>temp_f=%{marker.size}<br>lat=%{lat}<br>lon=%{lon}<extra></extra>",
           "hovertext": [
            "South Africa"
           ],
           "lat": [
            -26.2
           ],
           "legendgroup": "Gauteng",
           "lon": [
            28.05
           ],
           "marker": {
            "color": "#FFA15A",
            "size": [
             72.3
            ],
            "sizemode": "area",
            "sizeref": 0.23675000000000002,
            "symbol": "circle"
           },
           "mode": "markers",
           "name": "Gauteng",
           "showlegend": true,
           "type": "scattergeo"
          },
          {
           "geo": "geo",
           "hovertemplate": "<b>%{hovertext}</b><br><br>region=New South Wales<br>time=2023-12-04 02:00<br>temp_f=%{marker.size}<br>lat=%{lat}<br>lon=%{lon}<extra></extra>",
           "hovertext": [
            "Australia"
           ],
           "lat": [
            -33.87
           ],
           "legendgroup": "New South Wales",
           "lon": [
            151.21
           ],
           "marker": {
            "color": "#19d3f3",
            "size": [
             64.2
            ],
            "sizemode": "area",
            "sizeref": 0.23675000000000002,
            "symbol": "circle"
           },
           "mode": "markers",
           "name": "New South Wales",
           "showlegend": true,
           "type": "scattergeo"
          },
          {
           "geo": "geo",
           "hovertemplate": "<b>%{hovertext}</b><br><br>region=Victoria<br>time=2023-12-04 02:00<br>temp_f=%{marker.size}<br>lat=%{lat}<br>lon=%{lon}<extra></extra>",
           "hovertext": [
            "Australia"
           ],
           "lat": [
            -37.81
           ],
           "legendgroup": "Victoria",
           "lon": [
            144.96
           ],
           "marker": {
            "color": "#FF6692",
            "size": [
             56.8
            ],
            "sizemode": "area",
            "sizeref": 0.23675000000000002,
            "symbol": "circle"
           },
           "mode": "markers",
           "name": "Victoria",
           "showlegend": true,
           "type": "scattergeo"
          },
          {
           "geo": "geo",
           "hovertemplate": "<b>%{hovertext}</b><br><br>region=Queensland<br>time=2023-12-04 02:00<br>temp_f=%{marker.size}<br>lat=%{lat}<br>lon=%{lon}<extra></extra>",
           "hovertext": [
            "Australia"
           ],
           "lat": [
            -27.47
           ],
           "legendgroup": "Queensland",
           "lon": [
            153.03
           ],
           "marker": {
            "color": "#B6E880",
            "size": [
             72.6
            ],
            "sizemode": "area",
            "sizeref": 0.23675000000000002,
            "symbol": "circle"
           },
           "mode": "markers",
           "name": "Queensland",
           "showlegend": true,
           "type": "scattergeo"
          }
         ],
         "name": "2023-12-04 02:00"
        },
        {
         "data": [
          {
           "geo": "geo",
           "hovertemplate": "<b>%{hovertext}</b><br><br>region=City of London, Greater London<br>time=2023-12-04 03:00<br>temp_f=%{marker.size}<br>lat=%{lat}<br>lon=%{lon}<extra></extra>",
           "hovertext": [
            "United Kingdom"
           ],
           "lat": [
            51.51
           ],
           "legendgroup": "City of London, Greater London",
           "lon": [
            -0.13
           ],
           "marker": {
            "color": "#FF6692",
            "size": [
             43.3
            ],
            "sizemode": "area",
            "sizeref": 0.23675000000000002,
            "symbol": "circle"
           },
           "mode": "markers",
           "name": "City of London, Greater London",
           "showlegend": true,
           "type": "scattergeo"
          },
          {
           "geo": "geo",
           "hovertemplate": "<b>%{hovertext}</b><br><br>region=Ile-de-France<br>time=2023-12-04 03:00<br>temp_f=%{marker.size}<br>lat=%{lat}<br>lon=%{lon}<extra></extra>",
           "hovertext": [
            "France"
           ],
           "lat": [
            48.86
           ],
           "legendgroup": "Ile-de-France",
           "lon": [
            2.35
           ],
           "marker": {
            "color": "#B6E880",
            "size": [
             36.5
            ],
            "sizemode": "area",
            "sizeref": 0.23675000000000002,
            "symbol": "circle"
           },
           "mode": "markers",
           "name": "Ile-de-France",
           "showlegend": true,
           "type": "scattergeo"
          },
          {
           "geo": "geo",
           "hovertemplate": "<b>%{hovertext}</b><br><br>region=Berlin<br>time=2023-12-04 03:00<br>temp_f=%{marker.size}<br>lat=%{lat}<br>lon=%{lon}<extra></extra>",
           "hovertext": [
            "Germany"
           ],
           "lat": [
            52.52
           ],
           "legendgroup": "Berlin",
           "lon": [
            13.41
           ],
           "marker": {
            "color": "#FF97FF",
            "size": [
             22.5
            ],
            "sizemode": "area",
            "sizeref": 0.23675000000000002,
            "symbol": "circle"
           },
           "mode": "markers",
           "name": "Berlin",
           "showlegend": true,
           "type": "scattergeo"
          },
          {
           "geo": "geo",
           "hovertemplate": "<b>%{hovertext}</b><br><br>region=Tokyo<br>time=2023-12-04 03:00<br>temp_f=%{marker.size}<br>lat=%{lat}<br>lon=%{lon}<extra></extra>",
           "hovertext": [
            "Japan"
           ],
           "lat": [
            35.68
           ],
           "legendgroup": "Tokyo",
           "lon": [
            139.65
           ],
           "marker": {
            "color": "#FECB52",
            "size": [
             48.3
            ],
            "sizemode": "area",
            "sizeref": 0.23675000000000002,
            "symbol": "circle"
           },
           "mode": "markers",
           "name": "Tokyo",
           "showlegend": true,
           "type": "scattergeo"
          },
          {
           "geo": "geo",
           "hovertemplate": "<b>%{hovertext}</b><br><br>region=Beijing<br>time=2023-12-04 03:00<br>temp_f=%{marker.size}<br>lat=%{lat}<br>lon=%{lon}<extra></extra>",
           "hovertext": [
            "China"
           ],
           "lat": [
            39.9
           ],
           "legendgroup": "Beijing",
           "lon": [
            116.41
           ],
           "marker": {
            "color": "#636efa",
            "size": [
             33.9
            ],
            "sizemode": "area",
            "sizeref": 0.23675000000000002,
            "symbol": "circle"
           },
           "mode": "markers",
           "name": "Beijing",
           "showlegend": true,
           "type": "scattergeo"
          },
          {
           "geo": "geo",
           "hovertemplate": "<b>%{hovertext}</b><br><br>region=Maharashtra<br>time=2023-12-04 03:00<br>temp_f=%{marker.size}<br>lat=%{lat}<br>lon=%{lon}<extra></extra>",
           "hovertext": [
            "India"
           ],
           "lat": [
            19.08
           ],
           "legendgroup": "Maharashtra",
           "lon": [
            72.88
           ],
           "marker": {
            "color": "#EF553B",
            "size": [
             81.1
            ],
            "sizemode": "area",
            "sizeref": 0.23675000000000002,
            "symbol": "circle"
           },
           "mode": "markers",
           "name": "Maharashtra",
           "showlegend": true,
           "type": "scattergeo"
          },
          {
           "geo": "geo",
           "hovertemplate": "<b>%{hovertext}</b><br><br>region=Al Qahirah<br>time=2023-12-04 03:00<br>temp_f=%{marker.size}<br>lat=%{lat}<br>lon=%{lon}<extra></extra>",
           "hovertext": [
            "Egypt"
           ],
           "lat": [
            30.04
           ],
           "legendgroup": "Al Qahirah",
           "lon": [
            31.24
           ],
           "marker": {
            "color": "#00cc96",
            "size": [
             63.8
            ],
            "sizemode": "area",
            "sizeref": 0.23675000000000002,
            "symbol": "circle"
           },
           "mode": "markers",
           "name": "Al Qahirah",
           "showlegend": true,
           "type": "scattergeo"
          },
          {
           "geo": "geo",
           "hovertemplate": "<b>%{hovertext}</b><br><br>region=Lagos<br>time=2023-12-04 03:00<br>temp_f=%{marker.size}<br>lat=%{lat}<br>lon=%{lon}<extra></extra>",
           "hovertext": [
            "Nigeria"
           ],
           "lat": [
            6.52
           ],
           "legendgroup": "Lagos",
           "lon": [
            3.38
           ],
           "marker": {
            "color": "#ab63fa",
            "size": [
             82.3
            ],
            "sizemode": "area",
            "sizeref": 0.23675000000000002,
            "symbol": "circle"
           },
           "mode": "markers",
           "name": "Lagos",
           "showlegend": true,
           "type": "scattergeo"
          },
          {
           "geo": "geo",
           "hovertemplate": "<b>%{hovertext}</b><br><br>region=Gauteng<br>time=2023-12-04 03:00<br>temp_f=%{marker.size}<br>lat=%{lat}<br>lon=%{lon}<extra></extra>",
           "hovertext": [
            "South Africa"
           ],
           "lat": [
            -26.2
           ],
           "legendgroup": "Gauteng",
           "lon": [
            28.05
           ],
           "marker": {
            "color": "#FFA15A",
            "size": [
             71.9
            ],
            "sizemode": "area",
            "sizeref": 0.23675000000000002,
            "symbol": "circle"
           },
           "mode": "markers",
           "name": "Gauteng",
           "showlegend": true,
           "type": "scattergeo"
          },
          {
           "geo": "geo",
           "hovertemplate": "<b>%{hovertext}</b><br><br>region=New South Wales<br>time=2023-12-04 03:00<br>temp_f=%{marker.size}<br>lat=%{lat}<br>lon=%{lon}<extra></extra>",
           "hovertext": [
            "Australia"
           ],
           "lat": [
            -33.87
           ],
           "legendgroup": "New South Wales",
           "lon": [
            151.21
           ],
           "marker": {
            "color": "#19d3f3",
            "size": [
             64.3
            ],
            "sizemode": "area",
            "sizeref": 0.23675000000000002,
            "symbol": "circle"
           },
           "mode": "markers",
           "name": "New South Wales",
           "showlegend": true,
           "type": "scattergeo"
          },
          {
           "geo": "geo",
           "hovertemplate": "<b>%{hovertext}</b><br><br>region=Victoria<br>time=2023-12-04 03:00<br>temp_f=%{marker.size}<br>lat=%{lat}<br>lon=%{lon}<extra></extra>",
           "hovertext": [
            "Australia"
           ],
           "lat": [
            -37.81
           ],
           "legendgroup": "Victoria",
           "lon": [
            144.96
           ],
           "marker": {
            "color": "#FF6692",
            "size": [
             56.3
            ],
            "sizemode": "area",
            "sizeref": 0.23675000000000002,
            "symbol": "circle"
           },
           "mode": "markers",
           "name": "Victoria",
           "showlegend": true,
           "type": "scattergeo"
          },
          {
           "geo": "geo",
           "hovertemplate": "<b>%{hovertext}</b><br><br>region=Queensland<br>time=2023-12-04 03:00<br>temp_f=%{marker.size}<br>lat=%{lat}<br>lon=%{lon}<extra></extra>",
           "hovertext": [
            "Australia"
           ],
           "lat": [
            -27.47
           ],
           "legendgroup": "Queensland",
           "lon": [
            153.03
           ],
           "marker": {
            "color": "#B6E880",
            "size": [
             71.9
            ],
            "sizemode": "area",
            "sizeref": 0.23675000000000002,
            "symbol": "circle"
           },
           "mode": "markers",
           "name": "Queensland",
           "showlegend": true,
           "type": "scattergeo"
          }
         ],
         "name": "2023-12-04 03:00"
        },
        {
         "data": [
          {
           "geo": "geo",
           "hovertemplate": "<b>%{hovertext}</b><br><br>region=City of London, Greater London<br>time=2023-12-04 04:00<br>temp_f=%{marker.size}<br>lat=%{lat}<br>lon=%{lon}<extra></extra>",
           "hovertext": [
            "United Kingdom"
           ],
           "lat": [
            51.51
           ],
           "legendgroup": "City of London, Greater London",
           "lon": [
            -0.13
           ],
           "marker": {
            "color": "#FF6692",
            "size": [
             43.3
            ],
            "sizemode": "area",
            "sizeref": 0.23675000000000002,
            "symbol": "circle"
           },
           "mode": "markers",
           "name": "City of London, Greater London",
           "showlegend": true,
           "type": "scattergeo"
          },
          {
           "geo": "geo",
           "hovertemplate": "<b>%{hovertext}</b><br><br>region=Ile-de-France<br>time=2023-12-04 04:00<br>temp_f=%{marker.size}<br>lat=%{lat}<br>lon=%{lon}<extra></extra>",
           "hovertext": [
            "France"
           ],
           "lat": [
            48.86
           ],
           "legendgroup": "Ile-de-France",
           "lon": [
            2.35
           ],
           "marker": {
            "color": "#B6E880",
            "size": [
             37
            ],
            "sizemode": "area",
            "sizeref": 0.23675000000000002,
            "symbol": "circle"
           },
           "mode": "markers",
           "name": "Ile-de-France",
           "showlegend": true,
           "type": "scattergeo"
          },
          {
           "geo": "geo",
           "hovertemplate": "<b>%{hovertext}</b><br><br>region=Berlin<br>time=2023-12-04 04:00<br>temp_f=%{marker.size}<br>lat=%{lat}<br>lon=%{lon}<extra></extra>",
           "hovertext": [
            "Germany"
           ],
           "lat": [
            52.52
           ],
           "legendgroup": "Berlin",
           "lon": [
            13.41
           ],
           "marker": {
            "color": "#FF97FF",
            "size": [
             23
            ],
            "sizemode": "area",
            "sizeref": 0.23675000000000002,
            "symbol": "circle"
           },
           "mode": "markers",
           "name": "Berlin",
           "showlegend": true,
           "type": "scattergeo"
          },
          {
           "geo": "geo",
           "hovertemplate": "<b>%{hovertext}</b><br><br>region=Tokyo<br>time=2023-12-04 04:00<br>temp_f=%{marker.size}<br>lat=%{lat}<br>lon=%{lon}<extra></extra>",
           "hovertext": [
            "Japan"
           ],
           "lat": [
            35.68
           ],
           "legendgroup": "Tokyo",
           "lon": [
            139.65
           ],
           "marker": {
            "color": "#FECB52",
            "size": [
             48
            ],
            "sizemode": "area",
            "sizeref": 0.23675000000000002,
            "symbol": "circle"
           },
           "mode": "markers",
           "name": "Tokyo",
           "showlegend": true,
           "type": "scattergeo"
          },
          {
           "geo": "geo",
           "hovertemplate": "<b>%{hovertext}</b><br><br>region=Beijing<br>time=2023-12-04 04:00<br>temp_f=%{marker.size}<br>lat=%{lat}<br>lon=%{lon}<extra></extra>",
           "hovertext": [
            "China"
           ],
           "lat": [
            39.9
           ],
           "legendgroup": "Beijing",
           "lon": [
            116.41
           ],
           "marker": {
            "color": "#636efa",
            "size": [
             33.6
            ],
            "sizemode": "area",
            "sizeref": 0.23675000000000002,
            "symbol": "circle"
           },
           "mode": "markers",
           "name": "Beijing",
           "showlegend": true,
           "type": "scattergeo"
          },
          {
           "geo": "geo",
           "hovertemplate": "<b>%{hovertext}</b><br><br>region=Maharashtra<br>time=2023-12-04 04:00<br>temp_f=%{marker.size}<br>lat=%{lat}<br>lon=%{lon}<extra></extra>",
           "hovertext": [
            "India"
           ],
           "lat": [
            19.08
           ],
           "legendgroup": "Maharashtra",
           "lon": [
            72.88
           ],
           "marker": {
            "color": "#EF553B",
            "size": [
             81.2
            ],
            "sizemode": "area",
            "sizeref": 0.23675000000000002,
            "symbol": "circle"
           },
           "mode": "markers",
           "name": "Maharashtra",
           "showlegend": true,
           "type": "scattergeo"
          },
          {
           "geo": "geo",
           "hovertemplate": "<b>%{hovertext}</b><br><br>region=Al Qahirah<br>time=2023-12-04 04:00<br>temp_f=%{marker.size}<br>lat=%{lat}<br>lon=%{lon}<extra></extra>",
           "hovertext": [
            "Egypt"
           ],
           "lat": [
            30.04
           ],
           "legendgroup": "Al Qahirah",
           "lon": [
            31.24
           ],
           "marker": {
            "color": "#00cc96",
            "size": [
             63.3
            ],
            "sizemode": "area",
            "sizeref": 0.23675000000000002,
            "symbol": "circle"
           },
           "mode": "markers",
           "name": "Al Qahirah",
           "showlegend": true,
           "type": "scattergeo"
          },
          {
           "geo": "geo",
           "hovertemplate": "<b>%{hovertext}</b><br><br>region=Lagos<br>time=2023-12-04 04:00<br>temp_f=%{marker.size}<br>lat=%{lat}<br>lon=%{lon}<extra></extra>",
           "hovertext": [
            "Nigeria"
           ],
           "lat": [
            6.52
           ],
           "legendgroup": "Lagos",
           "lon": [
            3.38
           ],
           "marker": {
            "color": "#ab63fa",
            "size": [
             82.2
            ],
            "sizemode": "area",
            "sizeref": 0.23675000000000002,
            "symbol": "circle"
           },
           "mode": "markers",
           "name": "Lagos",
           "showlegend": true,
           "type": "scattergeo"
          },
          {
           "geo": "geo",
           "hovertemplate": "<b>%{hovertext}</b><br><br>region=Gauteng<br>time=2023-12-04 04:00<br>temp_f=%{marker.size}<br>lat=%{lat}<br>lon=%{lon}<extra></extra>",
           "hovertext": [
            "South Africa"
           ],
           "lat": [
            -26.2
           ],
           "legendgroup": "Gauteng",
           "lon": [
            28.05
           ],
           "marker": {
            "color": "#FFA15A",
            "size": [
             71.7
            ],
            "sizemode": "area",
            "sizeref": 0.23675000000000002,
            "symbol": "circle"
           },
           "mode": "markers",
           "name": "Gauteng",
           "showlegend": true,
           "type": "scattergeo"
          },
          {
           "geo": "geo",
           "hovertemplate": "<b>%{hovertext}</b><br><br>region=New South Wales<br>time=2023-12-04 04:00<br>temp_f=%{marker.size}<br>lat=%{lat}<br>lon=%{lon}<extra></extra>",
           "hovertext": [
            "Australia"
           ],
           "lat": [
            -33.87
           ],
           "legendgroup": "New South Wales",
           "lon": [
            151.21
           ],
           "marker": {
            "color": "#19d3f3",
            "size": [
             64.5
            ],
            "sizemode": "area",
            "sizeref": 0.23675000000000002,
            "symbol": "circle"
           },
           "mode": "markers",
           "name": "New South Wales",
           "showlegend": true,
           "type": "scattergeo"
          },
          {
           "geo": "geo",
           "hovertemplate": "<b>%{hovertext}</b><br><br>region=Victoria<br>time=2023-12-04 04:00<br>temp_f=%{marker.size}<br>lat=%{lat}<br>lon=%{lon}<extra></extra>",
           "hovertext": [
            "Australia"
           ],
           "lat": [
            -37.81
           ],
           "legendgroup": "Victoria",
           "lon": [
            144.96
           ],
           "marker": {
            "color": "#FF6692",
            "size": [
             55.7
            ],
            "sizemode": "area",
            "sizeref": 0.23675000000000002,
            "symbol": "circle"
           },
           "mode": "markers",
           "name": "Victoria",
           "showlegend": true,
           "type": "scattergeo"
          },
          {
           "geo": "geo",
           "hovertemplate": "<b>%{hovertext}</b><br><br>region=Queensland<br>time=2023-12-04 04:00<br>temp_f=%{marker.size}<br>lat=%{lat}<br>lon=%{lon}<extra></extra>",
           "hovertext": [
            "Australia"
           ],
           "lat": [
            -27.47
           ],
           "legendgroup": "Queensland",
           "lon": [
            153.03
           ],
           "marker": {
            "color": "#B6E880",
            "size": [
             71.7
            ],
            "sizemode": "area",
            "sizeref": 0.23675000000000002,
            "symbol": "circle"
           },
           "mode": "markers",
           "name": "Queensland",
           "showlegend": true,
           "type": "scattergeo"
          }
         ],
         "name": "2023-12-04 04:00"
        },
        {
         "data": [
          {
           "geo": "geo",
           "hovertemplate": "<b>%{hovertext}</b><br><br>region=City of London, Greater London<br>time=2023-12-04 05:00<br>temp_f=%{marker.size}<br>lat=%{lat}<br>lon=%{lon}<extra></extra>",
           "hovertext": [
            "United Kingdom"
           ],
           "lat": [
            51.51
           ],
           "legendgroup": "City of London, Greater London",
           "lon": [
            -0.13
           ],
           "marker": {
            "color": "#FF6692",
            "size": [
             43.8
            ],
            "sizemode": "area",
            "sizeref": 0.23675000000000002,
            "symbol": "circle"
           },
           "mode": "markers",
           "name": "City of London, Greater London",
           "showlegend": true,
           "type": "scattergeo"
          },
          {
           "geo": "geo",
           "hovertemplate": "<b>%{hovertext}</b><br><br>region=Ile-de-France<br>time=2023-12-04 05:00<br>temp_f=%{marker.size}<br>lat=%{lat}<br>lon=%{lon}<extra></extra>",
           "hovertext": [
            "France"
           ],
           "lat": [
            48.86
           ],
           "legendgroup": "Ile-de-France",
           "lon": [
            2.35
           ],
           "marker": {
            "color": "#B6E880",
            "size": [
             37.6
            ],
            "sizemode": "area",
            "sizeref": 0.23675000000000002,
            "symbol": "circle"
           },
           "mode": "markers",
           "name": "Ile-de-France",
           "showlegend": true,
           "type": "scattergeo"
          },
          {
           "geo": "geo",
           "hovertemplate": "<b>%{hovertext}</b><br><br>region=Berlin<br>time=2023-12-04 05:00<br>temp_f=%{marker.size}<br>lat=%{lat}<br>lon=%{lon}<extra></extra>",
           "hovertext": [
            "Germany"
           ],
           "lat": [
            52.52
           ],
           "legendgroup": "Berlin",
           "lon": [
            13.41
           ],
           "marker": {
            "color": "#FF97FF",
            "size": [
             22.9
            ],
            "sizemode": "area",
            "sizeref": 0.23675000000000002,
            "symbol": "circle"
           },
           "mode": "markers",
           "name": "Berlin",
           "showlegend": true,
           "type": "scattergeo"
          },
          {
           "geo": "geo",
           "hovertemplate": "<b>%{hovertext}</b><br><br>region=Tokyo<br>time=2023-12-04 05:00<br>temp_f=%{marker.size}<br>lat=%{lat}<br>lon=%{lon}<extra></extra>",
           "hovertext": [
            "Japan"
           ],
           "lat": [
            35.68
           ],
           "legendgroup": "Tokyo",
           "lon": [
            139.65
           ],
           "marker": {
            "color": "#FECB52",
            "size": [
             47.9
            ],
            "sizemode": "area",
            "sizeref": 0.23675000000000002,
            "symbol": "circle"
           },
           "mode": "markers",
           "name": "Tokyo",
           "showlegend": true,
           "type": "scattergeo"
          },
          {
           "geo": "geo",
           "hovertemplate": "<b>%{hovertext}</b><br><br>region=Beijing<br>time=2023-12-04 05:00<br>temp_f=%{marker.size}<br>lat=%{lat}<br>lon=%{lon}<extra></extra>",
           "hovertext": [
            "China"
           ],
           "lat": [
            39.9
           ],
           "legendgroup": "Beijing",
           "lon": [
            116.41
           ],
           "marker": {
            "color": "#636efa",
            "size": [
             33.3
            ],
            "sizemode": "area",
            "sizeref": 0.23675000000000002,
            "symbol": "circle"
           },
           "mode": "markers",
           "name": "Beijing",
           "showlegend": true,
           "type": "scattergeo"
          },
          {
           "geo": "geo",
           "hovertemplate": "<b>%{hovertext}</b><br><br>region=Maharashtra<br>time=2023-12-04 05:00<br>temp_f=%{marker.size}<br>lat=%{lat}<br>lon=%{lon}<extra></extra>",
           "hovertext": [
            "India"
           ],
           "lat": [
            19.08
           ],
           "legendgroup": "Maharashtra",
           "lon": [
            72.88
           ],
           "marker": {
            "color": "#EF553B",
            "size": [
             81.1
            ],
            "sizemode": "area",
            "sizeref": 0.23675000000000002,
            "symbol": "circle"
           },
           "mode": "markers",
           "name": "Maharashtra",
           "showlegend": true,
           "type": "scattergeo"
          },
          {
           "geo": "geo",
           "hovertemplate": "<b>%{hovertext}</b><br><br>region=Al Qahirah<br>time=2023-12-04 05:00<br>temp_f=%{marker.size}<br>lat=%{lat}<br>lon=%{lon}<extra></extra>",
           "hovertext": [
            "Egypt"
           ],
           "lat": [
            30.04
           ],
           "legendgroup": "Al Qahirah",
           "lon": [
            31.24
           ],
           "marker": {
            "color": "#00cc96",
            "size": [
             62.7
            ],
            "sizemode": "area",
            "sizeref": 0.23675000000000002,
            "symbol": "circle"
           },
           "mode": "markers",
           "name": "Al Qahirah",
           "showlegend": true,
           "type": "scattergeo"
          },
          {
           "geo": "geo",
           "hovertemplate": "<b>%{hovertext}</b><br><br>region=Lagos<br>time=2023-12-04 05:00<br>temp_f=%{marker.size}<br>lat=%{lat}<br>lon=%{lon}<extra></extra>",
           "hovertext": [
            "Nigeria"
           ],
           "lat": [
            6.52
           ],
           "legendgroup": "Lagos",
           "lon": [
            3.38
           ],
           "marker": {
            "color": "#ab63fa",
            "size": [
             81.9
            ],
            "sizemode": "area",
            "sizeref": 0.23675000000000002,
            "symbol": "circle"
           },
           "mode": "markers",
           "name": "Lagos",
           "showlegend": true,
           "type": "scattergeo"
          },
          {
           "geo": "geo",
           "hovertemplate": "<b>%{hovertext}</b><br><br>region=Gauteng<br>time=2023-12-04 05:00<br>temp_f=%{marker.size}<br>lat=%{lat}<br>lon=%{lon}<extra></extra>",
           "hovertext": [
            "South Africa"
           ],
           "lat": [
            -26.2
           ],
           "legendgroup": "Gauteng",
           "lon": [
            28.05
           ],
           "marker": {
            "color": "#FFA15A",
            "size": [
             71.2
            ],
            "sizemode": "area",
            "sizeref": 0.23675000000000002,
            "symbol": "circle"
           },
           "mode": "markers",
           "name": "Gauteng",
           "showlegend": true,
           "type": "scattergeo"
          },
          {
           "geo": "geo",
           "hovertemplate": "<b>%{hovertext}</b><br><br>region=New South Wales<br>time=2023-12-04 05:00<br>temp_f=%{marker.size}<br>lat=%{lat}<br>lon=%{lon}<extra></extra>",
           "hovertext": [
            "Australia"
           ],
           "lat": [
            -33.87
           ],
           "legendgroup": "New South Wales",
           "lon": [
            151.21
           ],
           "marker": {
            "color": "#19d3f3",
            "size": [
             64.6
            ],
            "sizemode": "area",
            "sizeref": 0.23675000000000002,
            "symbol": "circle"
           },
           "mode": "markers",
           "name": "New South Wales",
           "showlegend": true,
           "type": "scattergeo"
          },
          {
           "geo": "geo",
           "hovertemplate": "<b>%{hovertext}</b><br><br>region=Victoria<br>time=2023-12-04 05:00<br>temp_f=%{marker.size}<br>lat=%{lat}<br>lon=%{lon}<extra></extra>",
           "hovertext": [
            "Australia"
           ],
           "lat": [
            -37.81
           ],
           "legendgroup": "Victoria",
           "lon": [
            144.96
           ],
           "marker": {
            "color": "#FF6692",
            "size": [
             55.6
            ],
            "sizemode": "area",
            "sizeref": 0.23675000000000002,
            "symbol": "circle"
           },
           "mode": "markers",
           "name": "Victoria",
           "showlegend": true,
           "type": "scattergeo"
          },
          {
           "geo": "geo",
           "hovertemplate": "<b>%{hovertext}</b><br><br>region=Queensland<br>time=2023-12-04 05:00<br>temp_f=%{marker.size}<br>lat=%{lat}<br>lon=%{lon}<extra></extra>",
           "hovertext": [
            "Australia"
           ],
           "lat": [
            -27.47
           ],
           "legendgroup": "Queensland",
           "lon": [
            153.03
           ],
           "marker": {
            "color": "#B6E880",
            "size": [
             71.8
            ],
            "sizemode": "area",
            "sizeref": 0.23675000000000002,
            "symbol": "circle"
           },
           "mode": "markers",
           "name": "Queensland",
           "showlegend": true,
           "type": "scattergeo"
          }
         ],
         "name": "2023-12-04 05:00"
        },
        {
         "data": [
          {
           "geo": "geo",
           "hovertemplate": "<b>%{hovertext}</b><br><br>region=City of London, Greater London<br>time=2023-12-04 06:00<br>temp_f=%{marker.size}<br>lat=%{lat}<br>lon=%{lon}<extra></extra>",
           "hovertext": [
            "United Kingdom"
           ],
           "lat": [
            51.51
           ],
           "legendgroup": "City of London, Greater London",
           "lon": [
            -0.13
           ],
           "marker": {
            "color": "#FF6692",
            "size": [
             44.5
            ],
            "sizemode": "area",
            "sizeref": 0.23675000000000002,
            "symbol": "circle"
           },
           "mode": "markers",
           "name": "City of London, Greater London",
           "showlegend": true,
           "type": "scattergeo"
          },
          {
           "geo": "geo",
           "hovertemplate": "<b>%{hovertext}</b><br><br>region=Ile-de-France<br>time=2023-12-04 06:00<br>temp_f=%{marker.size}<br>lat=%{lat}<br>lon=%{lon}<extra></extra>",
           "hovertext": [
            "France"
           ],
           "lat": [
            48.86
           ],
           "legendgroup": "Ile-de-France",
           "lon": [
            2.35
           ],
           "marker": {
            "color": "#B6E880",
            "size": [
             37.7
            ],
            "sizemode": "area",
            "sizeref": 0.23675000000000002,
            "symbol": "circle"
           },
           "mode": "markers",
           "name": "Ile-de-France",
           "showlegend": true,
           "type": "scattergeo"
          },
          {
           "geo": "geo",
           "hovertemplate": "<b>%{hovertext}</b><br><br>region=Berlin<br>time=2023-12-04 06:00<br>temp_f=%{marker.size}<br>lat=%{lat}<br>lon=%{lon}<extra></extra>",
           "hovertext": [
            "Germany"
           ],
           "lat": [
            52.52
           ],
           "legendgroup": "Berlin",
           "lon": [
            13.41
           ],
           "marker": {
            "color": "#FF97FF",
            "size": [
             23.3
            ],
            "sizemode": "area",
            "sizeref": 0.23675000000000002,
            "symbol": "circle"
           },
           "mode": "markers",
           "name": "Berlin",
           "showlegend": true,
           "type": "scattergeo"
          },
          {
           "geo": "geo",
           "hovertemplate": "<b>%{hovertext}</b><br><br>region=Tokyo<br>time=2023-12-04 06:00<br>temp_f=%{marker.size}<br>lat=%{lat}<br>lon=%{lon}<extra></extra>",
           "hovertext": [
            "Japan"
           ],
           "lat": [
            35.68
           ],
           "legendgroup": "Tokyo",
           "lon": [
            139.65
           ],
           "marker": {
            "color": "#FECB52",
            "size": [
             47.8
            ],
            "sizemode": "area",
            "sizeref": 0.23675000000000002,
            "symbol": "circle"
           },
           "mode": "markers",
           "name": "Tokyo",
           "showlegend": true,
           "type": "scattergeo"
          },
          {
           "geo": "geo",
           "hovertemplate": "<b>%{hovertext}</b><br><br>region=Beijing<br>time=2023-12-04 06:00<br>temp_f=%{marker.size}<br>lat=%{lat}<br>lon=%{lon}<extra></extra>",
           "hovertext": [
            "China"
           ],
           "lat": [
            39.9
           ],
           "legendgroup": "Beijing",
           "lon": [
            116.41
           ],
           "marker": {
            "color": "#636efa",
            "size": [
             33
            ],
            "sizemode": "area",
            "sizeref": 0.23675000000000002,
            "symbol": "circle"
           },
           "mode": "markers",
           "name": "Beijing",
           "showlegend": true,
           "type": "scattergeo"
          },
          {
           "geo": "geo",
           "hovertemplate": "<b>%{hovertext}</b><br><br>region=Maharashtra<br>time=2023-12-04 06:00<br>temp_f=%{marker.size}<br>lat=%{lat}<br>lon=%{lon}<extra></extra>",
           "hovertext": [
            "India"
           ],
           "lat": [
            19.08
           ],
           "legendgroup": "Maharashtra",
           "lon": [
            72.88
           ],
           "marker": {
            "color": "#EF553B",
            "size": [
             81
            ],
            "sizemode": "area",
            "sizeref": 0.23675000000000002,
            "symbol": "circle"
           },
           "mode": "markers",
           "name": "Maharashtra",
           "showlegend": true,
           "type": "scattergeo"
          },
          {
           "geo": "geo",
           "hovertemplate": "<b>%{hovertext}</b><br><br>region=Al Qahirah<br>time=2023-12-04 06:00<br>temp_f=%{marker.size}<br>lat=%{lat}<br>lon=%{lon}<extra></extra>",
           "hovertext": [
            "Egypt"
           ],
           "lat": [
            30.04
           ],
           "legendgroup": "Al Qahirah",
           "lon": [
            31.24
           ],
           "marker": {
            "color": "#00cc96",
            "size": [
             62.1
            ],
            "sizemode": "area",
            "sizeref": 0.23675000000000002,
            "symbol": "circle"
           },
           "mode": "markers",
           "name": "Al Qahirah",
           "showlegend": true,
           "type": "scattergeo"
          },
          {
           "geo": "geo",
           "hovertemplate": "<b>%{hovertext}</b><br><br>region=Lagos<br>time=2023-12-04 06:00<br>temp_f=%{marker.size}<br>lat=%{lat}<br>lon=%{lon}<extra></extra>",
           "hovertext": [
            "Nigeria"
           ],
           "lat": [
            6.52
           ],
           "legendgroup": "Lagos",
           "lon": [
            3.38
           ],
           "marker": {
            "color": "#ab63fa",
            "size": [
             81.6
            ],
            "sizemode": "area",
            "sizeref": 0.23675000000000002,
            "symbol": "circle"
           },
           "mode": "markers",
           "name": "Lagos",
           "showlegend": true,
           "type": "scattergeo"
          },
          {
           "geo": "geo",
           "hovertemplate": "<b>%{hovertext}</b><br><br>region=Gauteng<br>time=2023-12-04 06:00<br>temp_f=%{marker.size}<br>lat=%{lat}<br>lon=%{lon}<extra></extra>",
           "hovertext": [
            "South Africa"
           ],
           "lat": [
            -26.2
           ],
           "legendgroup": "Gauteng",
           "lon": [
            28.05
           ],
           "marker": {
            "color": "#FFA15A",
            "size": [
             71.8
            ],
            "sizemode": "area",
            "sizeref": 0.23675000000000002,
            "symbol": "circle"
           },
           "mode": "markers",
           "name": "Gauteng",
           "showlegend": true,
           "type": "scattergeo"
          },
          {
           "geo": "geo",
           "hovertemplate": "<b>%{hovertext}</b><br><br>region=New South Wales<br>time=2023-12-04 06:00<br>temp_f=%{marker.size}<br>lat=%{lat}<br>lon=%{lon}<extra></extra>",
           "hovertext": [
            "Australia"
           ],
           "lat": [
            -33.87
           ],
           "legendgroup": "New South Wales",
           "lon": [
            151.21
           ],
           "marker": {
            "color": "#19d3f3",
            "size": [
             65.8
            ],
            "sizemode": "area",
            "sizeref": 0.23675000000000002,
            "symbol": "circle"
           },
           "mode": "markers",
           "name": "New South Wales",
           "showlegend": true,
           "type": "scattergeo"
          },
          {
           "geo": "geo",
           "hovertemplate": "<b>%{hovertext}</b><br><br>region=Victoria<br>time=2023-12-04 06:00<br>temp_f=%{marker.size}<br>lat=%{lat}<br>lon=%{lon}<extra></extra>",
           "hovertext": [
            "Australia"
           ],
           "lat": [
            -37.81
           ],
           "legendgroup": "Victoria",
           "lon": [
            144.96
           ],
           "marker": {
            "color": "#FF6692",
            "size": [
             57.4
            ],
            "sizemode": "area",
            "sizeref": 0.23675000000000002,
            "symbol": "circle"
           },
           "mode": "markers",
           "name": "Victoria",
           "showlegend": true,
           "type": "scattergeo"
          },
          {
           "geo": "geo",
           "hovertemplate": "<b>%{hovertext}</b><br><br>region=Queensland<br>time=2023-12-04 06:00<br>temp_f=%{marker.size}<br>lat=%{lat}<br>lon=%{lon}<extra></extra>",
           "hovertext": [
            "Australia"
           ],
           "lat": [
            -27.47
           ],
           "legendgroup": "Queensland",
           "lon": [
            153.03
           ],
           "marker": {
            "color": "#B6E880",
            "size": [
             73
            ],
            "sizemode": "area",
            "sizeref": 0.23675000000000002,
            "symbol": "circle"
           },
           "mode": "markers",
           "name": "Queensland",
           "showlegend": true,
           "type": "scattergeo"
          }
         ],
         "name": "2023-12-04 06:00"
        },
        {
         "data": [
          {
           "geo": "geo",
           "hovertemplate": "<b>%{hovertext}</b><br><br>region=City of London, Greater London<br>time=2023-12-04 07:00<br>temp_f=%{marker.size}<br>lat=%{lat}<br>lon=%{lon}<extra></extra>",
           "hovertext": [
            "United Kingdom"
           ],
           "lat": [
            51.51
           ],
           "legendgroup": "City of London, Greater London",
           "lon": [
            -0.13
           ],
           "marker": {
            "color": "#FF6692",
            "size": [
             43.8
            ],
            "sizemode": "area",
            "sizeref": 0.23675000000000002,
            "symbol": "circle"
           },
           "mode": "markers",
           "name": "City of London, Greater London",
           "showlegend": true,
           "type": "scattergeo"
          },
          {
           "geo": "geo",
           "hovertemplate": "<b>%{hovertext}</b><br><br>region=Ile-de-France<br>time=2023-12-04 07:00<br>temp_f=%{marker.size}<br>lat=%{lat}<br>lon=%{lon}<extra></extra>",
           "hovertext": [
            "France"
           ],
           "lat": [
            48.86
           ],
           "legendgroup": "Ile-de-France",
           "lon": [
            2.35
           ],
           "marker": {
            "color": "#B6E880",
            "size": [
             37.4
            ],
            "sizemode": "area",
            "sizeref": 0.23675000000000002,
            "symbol": "circle"
           },
           "mode": "markers",
           "name": "Ile-de-France",
           "showlegend": true,
           "type": "scattergeo"
          },
          {
           "geo": "geo",
           "hovertemplate": "<b>%{hovertext}</b><br><br>region=Berlin<br>time=2023-12-04 07:00<br>temp_f=%{marker.size}<br>lat=%{lat}<br>lon=%{lon}<extra></extra>",
           "hovertext": [
            "Germany"
           ],
           "lat": [
            52.52
           ],
           "legendgroup": "Berlin",
           "lon": [
            13.41
           ],
           "marker": {
            "color": "#FF97FF",
            "size": [
             23.4
            ],
            "sizemode": "area",
            "sizeref": 0.23675000000000002,
            "symbol": "circle"
           },
           "mode": "markers",
           "name": "Berlin",
           "showlegend": true,
           "type": "scattergeo"
          },
          {
           "geo": "geo",
           "hovertemplate": "<b>%{hovertext}</b><br><br>region=Tokyo<br>time=2023-12-04 07:00<br>temp_f=%{marker.size}<br>lat=%{lat}<br>lon=%{lon}<extra></extra>",
           "hovertext": [
            "Japan"
           ],
           "lat": [
            35.68
           ],
           "legendgroup": "Tokyo",
           "lon": [
            139.65
           ],
           "marker": {
            "color": "#FECB52",
            "size": [
             47.6
            ],
            "sizemode": "area",
            "sizeref": 0.23675000000000002,
            "symbol": "circle"
           },
           "mode": "markers",
           "name": "Tokyo",
           "showlegend": true,
           "type": "scattergeo"
          },
          {
           "geo": "geo",
           "hovertemplate": "<b>%{hovertext}</b><br><br>region=Beijing<br>time=2023-12-04 07:00<br>temp_f=%{marker.size}<br>lat=%{lat}<br>lon=%{lon}<extra></extra>",
           "hovertext": [
            "China"
           ],
           "lat": [
            39.9
           ],
           "legendgroup": "Beijing",
           "lon": [
            116.41
           ],
           "marker": {
            "color": "#636efa",
            "size": [
             32.8
            ],
            "sizemode": "area",
            "sizeref": 0.23675000000000002,
            "symbol": "circle"
           },
           "mode": "markers",
           "name": "Beijing",
           "showlegend": true,
           "type": "scattergeo"
          },
          {
           "geo": "geo",
           "hovertemplate": "<b>%{hovertext}</b><br><br>region=Maharashtra<br>time=2023-12-04 07:00<br>temp_f=%{marker.size}<br>lat=%{lat}<br>lon=%{lon}<extra></extra>",
           "hovertext": [
            "India"
           ],
           "lat": [
            19.08
           ],
           "legendgroup": "Maharashtra",
           "lon": [
            72.88
           ],
           "marker": {
            "color": "#EF553B",
            "size": [
             81
            ],
            "sizemode": "area",
            "sizeref": 0.23675000000000002,
            "symbol": "circle"
           },
           "mode": "markers",
           "name": "Maharashtra",
           "showlegend": true,
           "type": "scattergeo"
          },
          {
           "geo": "geo",
           "hovertemplate": "<b>%{hovertext}</b><br><br>region=Al Qahirah<br>time=2023-12-04 07:00<br>temp_f=%{marker.size}<br>lat=%{lat}<br>lon=%{lon}<extra></extra>",
           "hovertext": [
            "Egypt"
           ],
           "lat": [
            30.04
           ],
           "legendgroup": "Al Qahirah",
           "lon": [
            31.24
           ],
           "marker": {
            "color": "#00cc96",
            "size": [
             62.1
            ],
            "sizemode": "area",
            "sizeref": 0.23675000000000002,
            "symbol": "circle"
           },
           "mode": "markers",
           "name": "Al Qahirah",
           "showlegend": true,
           "type": "scattergeo"
          },
          {
           "geo": "geo",
           "hovertemplate": "<b>%{hovertext}</b><br><br>region=Lagos<br>time=2023-12-04 07:00<br>temp_f=%{marker.size}<br>lat=%{lat}<br>lon=%{lon}<extra></extra>",
           "hovertext": [
            "Nigeria"
           ],
           "lat": [
            6.52
           ],
           "legendgroup": "Lagos",
           "lon": [
            3.38
           ],
           "marker": {
            "color": "#ab63fa",
            "size": [
             81.2
            ],
            "sizemode": "area",
            "sizeref": 0.23675000000000002,
            "symbol": "circle"
           },
           "mode": "markers",
           "name": "Lagos",
           "showlegend": true,
           "type": "scattergeo"
          },
          {
           "geo": "geo",
           "hovertemplate": "<b>%{hovertext}</b><br><br>region=Gauteng<br>time=2023-12-04 07:00<br>temp_f=%{marker.size}<br>lat=%{lat}<br>lon=%{lon}<extra></extra>",
           "hovertext": [
            "South Africa"
           ],
           "lat": [
            -26.2
           ],
           "legendgroup": "Gauteng",
           "lon": [
            28.05
           ],
           "marker": {
            "color": "#FFA15A",
            "size": [
             75
            ],
            "sizemode": "area",
            "sizeref": 0.23675000000000002,
            "symbol": "circle"
           },
           "mode": "markers",
           "name": "Gauteng",
           "showlegend": true,
           "type": "scattergeo"
          },
          {
           "geo": "geo",
           "hovertemplate": "<b>%{hovertext}</b><br><br>region=New South Wales<br>time=2023-12-04 07:00<br>temp_f=%{marker.size}<br>lat=%{lat}<br>lon=%{lon}<extra></extra>",
           "hovertext": [
            "Australia"
           ],
           "lat": [
            -33.87
           ],
           "legendgroup": "New South Wales",
           "lon": [
            151.21
           ],
           "marker": {
            "color": "#19d3f3",
            "size": [
             66.8
            ],
            "sizemode": "area",
            "sizeref": 0.23675000000000002,
            "symbol": "circle"
           },
           "mode": "markers",
           "name": "New South Wales",
           "showlegend": true,
           "type": "scattergeo"
          },
          {
           "geo": "geo",
           "hovertemplate": "<b>%{hovertext}</b><br><br>region=Victoria<br>time=2023-12-04 07:00<br>temp_f=%{marker.size}<br>lat=%{lat}<br>lon=%{lon}<extra></extra>",
           "hovertext": [
            "Australia"
           ],
           "lat": [
            -37.81
           ],
           "legendgroup": "Victoria",
           "lon": [
            144.96
           ],
           "marker": {
            "color": "#FF6692",
            "size": [
             61.3
            ],
            "sizemode": "area",
            "sizeref": 0.23675000000000002,
            "symbol": "circle"
           },
           "mode": "markers",
           "name": "Victoria",
           "showlegend": true,
           "type": "scattergeo"
          },
          {
           "geo": "geo",
           "hovertemplate": "<b>%{hovertext}</b><br><br>region=Queensland<br>time=2023-12-04 07:00<br>temp_f=%{marker.size}<br>lat=%{lat}<br>lon=%{lon}<extra></extra>",
           "hovertext": [
            "Australia"
           ],
           "lat": [
            -27.47
           ],
           "legendgroup": "Queensland",
           "lon": [
            153.03
           ],
           "marker": {
            "color": "#B6E880",
            "size": [
             76.2
            ],
            "sizemode": "area",
            "sizeref": 0.23675000000000002,
            "symbol": "circle"
           },
           "mode": "markers",
           "name": "Queensland",
           "showlegend": true,
           "type": "scattergeo"
          }
         ],
         "name": "2023-12-04 07:00"
        },
        {
         "data": [
          {
           "geo": "geo",
           "hovertemplate": "<b>%{hovertext}</b><br><br>region=City of London, Greater London<br>time=2023-12-04 08:00<br>temp_f=%{marker.size}<br>lat=%{lat}<br>lon=%{lon}<extra></extra>",
           "hovertext": [
            "United Kingdom"
           ],
           "lat": [
            51.51
           ],
           "legendgroup": "City of London, Greater London",
           "lon": [
            -0.13
           ],
           "marker": {
            "color": "#FF6692",
            "size": [
             44.9
            ],
            "sizemode": "area",
            "sizeref": 0.23675000000000002,
            "symbol": "circle"
           },
           "mode": "markers",
           "name": "City of London, Greater London",
           "showlegend": true,
           "type": "scattergeo"
          },
          {
           "geo": "geo",
           "hovertemplate": "<b>%{hovertext}</b><br><br>region=Ile-de-France<br>time=2023-12-04 08:00<br>temp_f=%{marker.size}<br>lat=%{lat}<br>lon=%{lon}<extra></extra>",
           "hovertext": [
            "France"
           ],
           "lat": [
            48.86
           ],
           "legendgroup": "Ile-de-France",
           "lon": [
            2.35
           ],
           "marker": {
            "color": "#B6E880",
            "size": [
             38.2
            ],
            "sizemode": "area",
            "sizeref": 0.23675000000000002,
            "symbol": "circle"
           },
           "mode": "markers",
           "name": "Ile-de-France",
           "showlegend": true,
           "type": "scattergeo"
          },
          {
           "geo": "geo",
           "hovertemplate": "<b>%{hovertext}</b><br><br>region=Berlin<br>time=2023-12-04 08:00<br>temp_f=%{marker.size}<br>lat=%{lat}<br>lon=%{lon}<extra></extra>",
           "hovertext": [
            "Germany"
           ],
           "lat": [
            52.52
           ],
           "legendgroup": "Berlin",
           "lon": [
            13.41
           ],
           "marker": {
            "color": "#FF97FF",
            "size": [
             23.6
            ],
            "sizemode": "area",
            "sizeref": 0.23675000000000002,
            "symbol": "circle"
           },
           "mode": "markers",
           "name": "Berlin",
           "showlegend": true,
           "type": "scattergeo"
          },
          {
           "geo": "geo",
           "hovertemplate": "<b>%{hovertext}</b><br><br>region=Tokyo<br>time=2023-12-04 08:00<br>temp_f=%{marker.size}<br>lat=%{lat}<br>lon=%{lon}<extra></extra>",
           "hovertext": [
            "Japan"
           ],
           "lat": [
            35.68
           ],
           "legendgroup": "Tokyo",
           "lon": [
            139.65
           ],
           "marker": {
            "color": "#FECB52",
            "size": [
             48.3
            ],
            "sizemode": "area",
            "sizeref": 0.23675000000000002,
            "symbol": "circle"
           },
           "mode": "markers",
           "name": "Tokyo",
           "showlegend": true,
           "type": "scattergeo"
          },
          {
           "geo": "geo",
           "hovertemplate": "<b>%{hovertext}</b><br><br>region=Beijing<br>time=2023-12-04 08:00<br>temp_f=%{marker.size}<br>lat=%{lat}<br>lon=%{lon}<extra></extra>",
           "hovertext": [
            "China"
           ],
           "lat": [
            39.9
           ],
           "legendgroup": "Beijing",
           "lon": [
            116.41
           ],
           "marker": {
            "color": "#636efa",
            "size": [
             33.4
            ],
            "sizemode": "area",
            "sizeref": 0.23675000000000002,
            "symbol": "circle"
           },
           "mode": "markers",
           "name": "Beijing",
           "showlegend": true,
           "type": "scattergeo"
          },
          {
           "geo": "geo",
           "hovertemplate": "<b>%{hovertext}</b><br><br>region=Maharashtra<br>time=2023-12-04 08:00<br>temp_f=%{marker.size}<br>lat=%{lat}<br>lon=%{lon}<extra></extra>",
           "hovertext": [
            "India"
           ],
           "lat": [
            19.08
           ],
           "legendgroup": "Maharashtra",
           "lon": [
            72.88
           ],
           "marker": {
            "color": "#EF553B",
            "size": [
             81.8
            ],
            "sizemode": "area",
            "sizeref": 0.23675000000000002,
            "symbol": "circle"
           },
           "mode": "markers",
           "name": "Maharashtra",
           "showlegend": true,
           "type": "scattergeo"
          },
          {
           "geo": "geo",
           "hovertemplate": "<b>%{hovertext}</b><br><br>region=Al Qahirah<br>time=2023-12-04 08:00<br>temp_f=%{marker.size}<br>lat=%{lat}<br>lon=%{lon}<extra></extra>",
           "hovertext": [
            "Egypt"
           ],
           "lat": [
            30.04
           ],
           "legendgroup": "Al Qahirah",
           "lon": [
            31.24
           ],
           "marker": {
            "color": "#00cc96",
            "size": [
             64.9
            ],
            "sizemode": "area",
            "sizeref": 0.23675000000000002,
            "symbol": "circle"
           },
           "mode": "markers",
           "name": "Al Qahirah",
           "showlegend": true,
           "type": "scattergeo"
          },
          {
           "geo": "geo",
           "hovertemplate": "<b>%{hovertext}</b><br><br>region=Lagos<br>time=2023-12-04 08:00<br>temp_f=%{marker.size}<br>lat=%{lat}<br>lon=%{lon}<extra></extra>",
           "hovertext": [
            "Nigeria"
           ],
           "lat": [
            6.52
           ],
           "legendgroup": "Lagos",
           "lon": [
            3.38
           ],
           "marker": {
            "color": "#ab63fa",
            "size": [
             81.4
            ],
            "sizemode": "area",
            "sizeref": 0.23675000000000002,
            "symbol": "circle"
           },
           "mode": "markers",
           "name": "Lagos",
           "showlegend": true,
           "type": "scattergeo"
          },
          {
           "geo": "geo",
           "hovertemplate": "<b>%{hovertext}</b><br><br>region=Gauteng<br>time=2023-12-04 08:00<br>temp_f=%{marker.size}<br>lat=%{lat}<br>lon=%{lon}<extra></extra>",
           "hovertext": [
            "South Africa"
           ],
           "lat": [
            -26.2
           ],
           "legendgroup": "Gauteng",
           "lon": [
            28.05
           ],
           "marker": {
            "color": "#FFA15A",
            "size": [
             78.4
            ],
            "sizemode": "area",
            "sizeref": 0.23675000000000002,
            "symbol": "circle"
           },
           "mode": "markers",
           "name": "Gauteng",
           "showlegend": true,
           "type": "scattergeo"
          },
          {
           "geo": "geo",
           "hovertemplate": "<b>%{hovertext}</b><br><br>region=New South Wales<br>time=2023-12-04 08:00<br>temp_f=%{marker.size}<br>lat=%{lat}<br>lon=%{lon}<extra></extra>",
           "hovertext": [
            "Australia"
           ],
           "lat": [
            -33.87
           ],
           "legendgroup": "New South Wales",
           "lon": [
            151.21
           ],
           "marker": {
            "color": "#19d3f3",
            "size": [
             67.4
            ],
            "sizemode": "area",
            "sizeref": 0.23675000000000002,
            "symbol": "circle"
           },
           "mode": "markers",
           "name": "New South Wales",
           "showlegend": true,
           "type": "scattergeo"
          },
          {
           "geo": "geo",
           "hovertemplate": "<b>%{hovertext}</b><br><br>region=Victoria<br>time=2023-12-04 08:00<br>temp_f=%{marker.size}<br>lat=%{lat}<br>lon=%{lon}<extra></extra>",
           "hovertext": [
            "Australia"
           ],
           "lat": [
            -37.81
           ],
           "legendgroup": "Victoria",
           "lon": [
            144.96
           ],
           "marker": {
            "color": "#FF6692",
            "size": [
             65.4
            ],
            "sizemode": "area",
            "sizeref": 0.23675000000000002,
            "symbol": "circle"
           },
           "mode": "markers",
           "name": "Victoria",
           "showlegend": true,
           "type": "scattergeo"
          },
          {
           "geo": "geo",
           "hovertemplate": "<b>%{hovertext}</b><br><br>region=Queensland<br>time=2023-12-04 08:00<br>temp_f=%{marker.size}<br>lat=%{lat}<br>lon=%{lon}<extra></extra>",
           "hovertext": [
            "Australia"
           ],
           "lat": [
            -27.47
           ],
           "legendgroup": "Queensland",
           "lon": [
            153.03
           ],
           "marker": {
            "color": "#B6E880",
            "size": [
             79.6
            ],
            "sizemode": "area",
            "sizeref": 0.23675000000000002,
            "symbol": "circle"
           },
           "mode": "markers",
           "name": "Queensland",
           "showlegend": true,
           "type": "scattergeo"
          }
         ],
         "name": "2023-12-04 08:00"
        },
        {
         "data": [
          {
           "geo": "geo",
           "hovertemplate": "<b>%{hovertext}</b><br><br>region=City of London, Greater London<br>time=2023-12-04 09:00<br>temp_f=%{marker.size}<br>lat=%{lat}<br>lon=%{lon}<extra></extra>",
           "hovertext": [
            "United Kingdom"
           ],
           "lat": [
            51.51
           ],
           "legendgroup": "City of London, Greater London",
           "lon": [
            -0.13
           ],
           "marker": {
            "color": "#FF6692",
            "size": [
             45.5
            ],
            "sizemode": "area",
            "sizeref": 0.23675000000000002,
            "symbol": "circle"
           },
           "mode": "markers",
           "name": "City of London, Greater London",
           "showlegend": true,
           "type": "scattergeo"
          },
          {
           "geo": "geo",
           "hovertemplate": "<b>%{hovertext}</b><br><br>region=Ile-de-France<br>time=2023-12-04 09:00<br>temp_f=%{marker.size}<br>lat=%{lat}<br>lon=%{lon}<extra></extra>",
           "hovertext": [
            "France"
           ],
           "lat": [
            48.86
           ],
           "legendgroup": "Ile-de-France",
           "lon": [
            2.35
           ],
           "marker": {
            "color": "#B6E880",
            "size": [
             38.1
            ],
            "sizemode": "area",
            "sizeref": 0.23675000000000002,
            "symbol": "circle"
           },
           "mode": "markers",
           "name": "Ile-de-France",
           "showlegend": true,
           "type": "scattergeo"
          },
          {
           "geo": "geo",
           "hovertemplate": "<b>%{hovertext}</b><br><br>region=Berlin<br>time=2023-12-04 09:00<br>temp_f=%{marker.size}<br>lat=%{lat}<br>lon=%{lon}<extra></extra>",
           "hovertext": [
            "Germany"
           ],
           "lat": [
            52.52
           ],
           "legendgroup": "Berlin",
           "lon": [
            13.41
           ],
           "marker": {
            "color": "#FF97FF",
            "size": [
             24
            ],
            "sizemode": "area",
            "sizeref": 0.23675000000000002,
            "symbol": "circle"
           },
           "mode": "markers",
           "name": "Berlin",
           "showlegend": true,
           "type": "scattergeo"
          },
          {
           "geo": "geo",
           "hovertemplate": "<b>%{hovertext}</b><br><br>region=Tokyo<br>time=2023-12-04 09:00<br>temp_f=%{marker.size}<br>lat=%{lat}<br>lon=%{lon}<extra></extra>",
           "hovertext": [
            "Japan"
           ],
           "lat": [
            35.68
           ],
           "legendgroup": "Tokyo",
           "lon": [
            139.65
           ],
           "marker": {
            "color": "#FECB52",
            "size": [
             49.8
            ],
            "sizemode": "area",
            "sizeref": 0.23675000000000002,
            "symbol": "circle"
           },
           "mode": "markers",
           "name": "Tokyo",
           "showlegend": true,
           "type": "scattergeo"
          },
          {
           "geo": "geo",
           "hovertemplate": "<b>%{hovertext}</b><br><br>region=Beijing<br>time=2023-12-04 09:00<br>temp_f=%{marker.size}<br>lat=%{lat}<br>lon=%{lon}<extra></extra>",
           "hovertext": [
            "China"
           ],
           "lat": [
            39.9
           ],
           "legendgroup": "Beijing",
           "lon": [
            116.41
           ],
           "marker": {
            "color": "#636efa",
            "size": [
             35.2
            ],
            "sizemode": "area",
            "sizeref": 0.23675000000000002,
            "symbol": "circle"
           },
           "mode": "markers",
           "name": "Beijing",
           "showlegend": true,
           "type": "scattergeo"
          },
          {
           "geo": "geo",
           "hovertemplate": "<b>%{hovertext}</b><br><br>region=Maharashtra<br>time=2023-12-04 09:00<br>temp_f=%{marker.size}<br>lat=%{lat}<br>lon=%{lon}<extra></extra>",
           "hovertext": [
            "India"
           ],
           "lat": [
            19.08
           ],
           "legendgroup": "Maharashtra",
           "lon": [
            72.88
           ],
           "marker": {
            "color": "#EF553B",
            "size": [
             83.4
            ],
            "sizemode": "area",
            "sizeref": 0.23675000000000002,
            "symbol": "circle"
           },
           "mode": "markers",
           "name": "Maharashtra",
           "showlegend": true,
           "type": "scattergeo"
          },
          {
           "geo": "geo",
           "hovertemplate": "<b>%{hovertext}</b><br><br>region=Al Qahirah<br>time=2023-12-04 09:00<br>temp_f=%{marker.size}<br>lat=%{lat}<br>lon=%{lon}<extra></extra>",
           "hovertext": [
            "Egypt"
           ],
           "lat": [
            30.04
           ],
           "legendgroup": "Al Qahirah",
           "lon": [
            31.24
           ],
           "marker": {
            "color": "#00cc96",
            "size": [
             67.5
            ],
            "sizemode": "area",
            "sizeref": 0.23675000000000002,
            "symbol": "circle"
           },
           "mode": "markers",
           "name": "Al Qahirah",
           "showlegend": true,
           "type": "scattergeo"
          },
          {
           "geo": "geo",
           "hovertemplate": "<b>%{hovertext}</b><br><br>region=Lagos<br>time=2023-12-04 09:00<br>temp_f=%{marker.size}<br>lat=%{lat}<br>lon=%{lon}<extra></extra>",
           "hovertext": [
            "Nigeria"
           ],
           "lat": [
            6.52
           ],
           "legendgroup": "Lagos",
           "lon": [
            3.38
           ],
           "marker": {
            "color": "#ab63fa",
            "size": [
             82.5
            ],
            "sizemode": "area",
            "sizeref": 0.23675000000000002,
            "symbol": "circle"
           },
           "mode": "markers",
           "name": "Lagos",
           "showlegend": true,
           "type": "scattergeo"
          },
          {
           "geo": "geo",
           "hovertemplate": "<b>%{hovertext}</b><br><br>region=Gauteng<br>time=2023-12-04 09:00<br>temp_f=%{marker.size}<br>lat=%{lat}<br>lon=%{lon}<extra></extra>",
           "hovertext": [
            "South Africa"
           ],
           "lat": [
            -26.2
           ],
           "legendgroup": "Gauteng",
           "lon": [
            28.05
           ],
           "marker": {
            "color": "#FFA15A",
            "size": [
             81.5
            ],
            "sizemode": "area",
            "sizeref": 0.23675000000000002,
            "symbol": "circle"
           },
           "mode": "markers",
           "name": "Gauteng",
           "showlegend": true,
           "type": "scattergeo"
          },
          {
           "geo": "geo",
           "hovertemplate": "<b>%{hovertext}</b><br><br>region=New South Wales<br>time=2023-12-04 09:00<br>temp_f=%{marker.size}<br>lat=%{lat}<br>lon=%{lon}<extra></extra>",
           "hovertext": [
            "Australia"
           ],
           "lat": [
            -33.87
           ],
           "legendgroup": "New South Wales",
           "lon": [
            151.21
           ],
           "marker": {
            "color": "#19d3f3",
            "size": [
             68.1
            ],
            "sizemode": "area",
            "sizeref": 0.23675000000000002,
            "symbol": "circle"
           },
           "mode": "markers",
           "name": "New South Wales",
           "showlegend": true,
           "type": "scattergeo"
          },
          {
           "geo": "geo",
           "hovertemplate": "<b>%{hovertext}</b><br><br>region=Victoria<br>time=2023-12-04 09:00<br>temp_f=%{marker.size}<br>lat=%{lat}<br>lon=%{lon}<extra></extra>",
           "hovertext": [
            "Australia"
           ],
           "lat": [
            -37.81
           ],
           "legendgroup": "Victoria",
           "lon": [
            144.96
           ],
           "marker": {
            "color": "#FF6692",
            "size": [
             70.1
            ],
            "sizemode": "area",
            "sizeref": 0.23675000000000002,
            "symbol": "circle"
           },
           "mode": "markers",
           "name": "Victoria",
           "showlegend": true,
           "type": "scattergeo"
          },
          {
           "geo": "geo",
           "hovertemplate": "<b>%{hovertext}</b><br><br>region=Queensland<br>time=2023-12-04 09:00<br>temp_f=%{marker.size}<br>lat=%{lat}<br>lon=%{lon}<extra></extra>",
           "hovertext": [
            "Australia"
           ],
           "lat": [
            -27.47
           ],
           "legendgroup": "Queensland",
           "lon": [
            153.03
           ],
           "marker": {
            "color": "#B6E880",
            "size": [
             83.6
            ],
            "sizemode": "area",
            "sizeref": 0.23675000000000002,
            "symbol": "circle"
           },
           "mode": "markers",
           "name": "Queensland",
           "showlegend": true,
           "type": "scattergeo"
          }
         ],
         "name": "2023-12-04 09:00"
        },
        {
         "data": [
          {
           "geo": "geo",
           "hovertemplate": "<b>%{hovertext}</b><br><br>region=City of London, Greater London<br>time=2023-12-04 10:00<br>temp_f=%{marker.size}<br>lat=%{lat}<br>lon=%{lon}<extra></extra>",
           "hovertext": [
            "United Kingdom"
           ],
           "lat": [
            51.51
           ],
           "legendgroup": "City of London, Greater London",
           "lon": [
            -0.13
           ],
           "marker": {
            "color": "#FF6692",
            "size": [
             45.6
            ],
            "sizemode": "area",
            "sizeref": 0.23675000000000002,
            "symbol": "circle"
           },
           "mode": "markers",
           "name": "City of London, Greater London",
           "showlegend": true,
           "type": "scattergeo"
          },
          {
           "geo": "geo",
           "hovertemplate": "<b>%{hovertext}</b><br><br>region=Ile-de-France<br>time=2023-12-04 10:00<br>temp_f=%{marker.size}<br>lat=%{lat}<br>lon=%{lon}<extra></extra>",
           "hovertext": [
            "France"
           ],
           "lat": [
            48.86
           ],
           "legendgroup": "Ile-de-France",
           "lon": [
            2.35
           ],
           "marker": {
            "color": "#B6E880",
            "size": [
             39.8
            ],
            "sizemode": "area",
            "sizeref": 0.23675000000000002,
            "symbol": "circle"
           },
           "mode": "markers",
           "name": "Ile-de-France",
           "showlegend": true,
           "type": "scattergeo"
          },
          {
           "geo": "geo",
           "hovertemplate": "<b>%{hovertext}</b><br><br>region=Berlin<br>time=2023-12-04 10:00<br>temp_f=%{marker.size}<br>lat=%{lat}<br>lon=%{lon}<extra></extra>",
           "hovertext": [
            "Germany"
           ],
           "lat": [
            52.52
           ],
           "legendgroup": "Berlin",
           "lon": [
            13.41
           ],
           "marker": {
            "color": "#FF97FF",
            "size": [
             25.8
            ],
            "sizemode": "area",
            "sizeref": 0.23675000000000002,
            "symbol": "circle"
           },
           "mode": "markers",
           "name": "Berlin",
           "showlegend": true,
           "type": "scattergeo"
          },
          {
           "geo": "geo",
           "hovertemplate": "<b>%{hovertext}</b><br><br>region=Tokyo<br>time=2023-12-04 10:00<br>temp_f=%{marker.size}<br>lat=%{lat}<br>lon=%{lon}<extra></extra>",
           "hovertext": [
            "Japan"
           ],
           "lat": [
            35.68
           ],
           "legendgroup": "Tokyo",
           "lon": [
            139.65
           ],
           "marker": {
            "color": "#FECB52",
            "size": [
             51.5
            ],
            "sizemode": "area",
            "sizeref": 0.23675000000000002,
            "symbol": "circle"
           },
           "mode": "markers",
           "name": "Tokyo",
           "showlegend": true,
           "type": "scattergeo"
          },
          {
           "geo": "geo",
           "hovertemplate": "<b>%{hovertext}</b><br><br>region=Beijing<br>time=2023-12-04 10:00<br>temp_f=%{marker.size}<br>lat=%{lat}<br>lon=%{lon}<extra></extra>",
           "hovertext": [
            "China"
           ],
           "lat": [
            39.9
           ],
           "legendgroup": "Beijing",
           "lon": [
            116.41
           ],
           "marker": {
            "color": "#636efa",
            "size": [
             37.2
            ],
            "sizemode": "area",
            "sizeref": 0.23675000000000002,
            "symbol": "circle"
           },
           "mode": "markers",
           "name": "Beijing",
           "showlegend": true,
           "type": "scattergeo"
          },
          {
           "geo": "geo",
           "hovertemplate": "<b>%{hovertext}</b><br><br>region=Maharashtra<br>time=2023-12-04 10:00<br>temp_f=%{marker.size}<br>lat=%{lat}<br>lon=%{lon}<extra></extra>",
           "hovertext": [
            "India"
           ],
           "lat": [
            19.08
           ],
           "legendgroup": "Maharashtra",
           "lon": [
            72.88
           ],
           "marker": {
            "color": "#EF553B",
            "size": [
             85.1
            ],
            "sizemode": "area",
            "sizeref": 0.23675000000000002,
            "symbol": "circle"
           },
           "mode": "markers",
           "name": "Maharashtra",
           "showlegend": true,
           "type": "scattergeo"
          },
          {
           "geo": "geo",
           "hovertemplate": "<b>%{hovertext}</b><br><br>region=Al Qahirah<br>time=2023-12-04 10:00<br>temp_f=%{marker.size}<br>lat=%{lat}<br>lon=%{lon}<extra></extra>",
           "hovertext": [
            "Egypt"
           ],
           "lat": [
            30.04
           ],
           "legendgroup": "Al Qahirah",
           "lon": [
            31.24
           ],
           "marker": {
            "color": "#00cc96",
            "size": [
             69.8
            ],
            "sizemode": "area",
            "sizeref": 0.23675000000000002,
            "symbol": "circle"
           },
           "mode": "markers",
           "name": "Al Qahirah",
           "showlegend": true,
           "type": "scattergeo"
          },
          {
           "geo": "geo",
           "hovertemplate": "<b>%{hovertext}</b><br><br>region=Lagos<br>time=2023-12-04 10:00<br>temp_f=%{marker.size}<br>lat=%{lat}<br>lon=%{lon}<extra></extra>",
           "hovertext": [
            "Nigeria"
           ],
           "lat": [
            6.52
           ],
           "legendgroup": "Lagos",
           "lon": [
            3.38
           ],
           "marker": {
            "color": "#ab63fa",
            "size": [
             83.7
            ],
            "sizemode": "area",
            "sizeref": 0.23675000000000002,
            "symbol": "circle"
           },
           "mode": "markers",
           "name": "Lagos",
           "showlegend": true,
           "type": "scattergeo"
          },
          {
           "geo": "geo",
           "hovertemplate": "<b>%{hovertext}</b><br><br>region=Gauteng<br>time=2023-12-04 10:00<br>temp_f=%{marker.size}<br>lat=%{lat}<br>lon=%{lon}<extra></extra>",
           "hovertext": [
            "South Africa"
           ],
           "lat": [
            -26.2
           ],
           "legendgroup": "Gauteng",
           "lon": [
            28.05
           ],
           "marker": {
            "color": "#FFA15A",
            "size": [
             84.6
            ],
            "sizemode": "area",
            "sizeref": 0.23675000000000002,
            "symbol": "circle"
           },
           "mode": "markers",
           "name": "Gauteng",
           "showlegend": true,
           "type": "scattergeo"
          },
          {
           "geo": "geo",
           "hovertemplate": "<b>%{hovertext}</b><br><br>region=New South Wales<br>time=2023-12-04 10:00<br>temp_f=%{marker.size}<br>lat=%{lat}<br>lon=%{lon}<extra></extra>",
           "hovertext": [
            "Australia"
           ],
           "lat": [
            -33.87
           ],
           "legendgroup": "New South Wales",
           "lon": [
            151.21
           ],
           "marker": {
            "color": "#19d3f3",
            "size": [
             68.2
            ],
            "sizemode": "area",
            "sizeref": 0.23675000000000002,
            "symbol": "circle"
           },
           "mode": "markers",
           "name": "New South Wales",
           "showlegend": true,
           "type": "scattergeo"
          },
          {
           "geo": "geo",
           "hovertemplate": "<b>%{hovertext}</b><br><br>region=Victoria<br>time=2023-12-04 10:00<br>temp_f=%{marker.size}<br>lat=%{lat}<br>lon=%{lon}<extra></extra>",
           "hovertext": [
            "Australia"
           ],
           "lat": [
            -37.81
           ],
           "legendgroup": "Victoria",
           "lon": [
            144.96
           ],
           "marker": {
            "color": "#FF6692",
            "size": [
             74
            ],
            "sizemode": "area",
            "sizeref": 0.23675000000000002,
            "symbol": "circle"
           },
           "mode": "markers",
           "name": "Victoria",
           "showlegend": true,
           "type": "scattergeo"
          },
          {
           "geo": "geo",
           "hovertemplate": "<b>%{hovertext}</b><br><br>region=Queensland<br>time=2023-12-04 10:00<br>temp_f=%{marker.size}<br>lat=%{lat}<br>lon=%{lon}<extra></extra>",
           "hovertext": [
            "Australia"
           ],
           "lat": [
            -27.47
           ],
           "legendgroup": "Queensland",
           "lon": [
            153.03
           ],
           "marker": {
            "color": "#B6E880",
            "size": [
             86.8
            ],
            "sizemode": "area",
            "sizeref": 0.23675000000000002,
            "symbol": "circle"
           },
           "mode": "markers",
           "name": "Queensland",
           "showlegend": true,
           "type": "scattergeo"
          }
         ],
         "name": "2023-12-04 10:00"
        },
        {
         "data": [
          {
           "geo": "geo",
           "hovertemplate": "<b>%{hovertext}</b><br><br>region=City of London, Greater London<br>time=2023-12-04 11:00<br>temp_f=%{marker.size}<br>lat=%{lat}<br>lon=%{lon}<extra></extra>",
           "hovertext": [
            "United Kingdom"
           ],
           "lat": [
            51.51
           ],
           "legendgroup": "City of London, Greater London",
           "lon": [
            -0.13
           ],
           "marker": {
            "color": "#FF6692",
            "size": [
             45.8
            ],
            "sizemode": "area",
            "sizeref": 0.23675000000000002,
            "symbol": "circle"
           },
           "mode": "markers",
           "name": "City of London, Greater London",
           "showlegend": true,
           "type": "scattergeo"
          },
          {
           "geo": "geo",
           "hovertemplate": "<b>%{hovertext}</b><br><br>region=Ile-de-France<br>time=2023-12-04 11:00<br>temp_f=%{marker.size}<br>lat=%{lat}<br>lon=%{lon}<extra></extra>",
           "hovertext": [
            "France"
           ],
           "lat": [
            48.86
           ],
           "legendgroup": "Ile-de-France",
           "lon": [
            2.35
           ],
           "marker": {
            "color": "#B6E880",
            "size": [
             41.2
            ],
            "sizemode": "area",
            "sizeref": 0.23675000000000002,
            "symbol": "circle"
           },
           "mode": "markers",
           "name": "Ile-de-France",
           "showlegend": true,
           "type": "scattergeo"
          },
          {
           "geo": "geo",
           "hovertemplate": "<b>%{hovertext}</b><br><br>region=Berlin<br>time=2023-12-04 11:00<br>temp_f=%{marker.size}<br>lat=%{lat}<br>lon=%{lon}<extra></extra>",
           "hovertext": [
            "Germany"
           ],
           "lat": [
            52.52
           ],
           "legendgroup": "Berlin",
           "lon": [
            13.41
           ],
           "marker": {
            "color": "#FF97FF",
            "size": [
             27
            ],
            "sizemode": "area",
            "sizeref": 0.23675000000000002,
            "symbol": "circle"
           },
           "mode": "markers",
           "name": "Berlin",
           "showlegend": true,
           "type": "scattergeo"
          },
          {
           "geo": "geo",
           "hovertemplate": "<b>%{hovertext}</b><br><br>region=Tokyo<br>time=2023-12-04 11:00<br>temp_f=%{marker.size}<br>lat=%{lat}<br>lon=%{lon}<extra></extra>",
           "hovertext": [
            "Japan"
           ],
           "lat": [
            35.68
           ],
           "legendgroup": "Tokyo",
           "lon": [
            139.65
           ],
           "marker": {
            "color": "#FECB52",
            "size": [
             53
            ],
            "sizemode": "area",
            "sizeref": 0.23675000000000002,
            "symbol": "circle"
           },
           "mode": "markers",
           "name": "Tokyo",
           "showlegend": true,
           "type": "scattergeo"
          },
          {
           "geo": "geo",
           "hovertemplate": "<b>%{hovertext}</b><br><br>region=Beijing<br>time=2023-12-04 11:00<br>temp_f=%{marker.size}<br>lat=%{lat}<br>lon=%{lon}<extra></extra>",
           "hovertext": [
            "China"
           ],
           "lat": [
            39.9
           ],
           "legendgroup": "Beijing",
           "lon": [
            116.41
           ],
           "marker": {
            "color": "#636efa",
            "size": [
             39.7
            ],
            "sizemode": "area",
            "sizeref": 0.23675000000000002,
            "symbol": "circle"
           },
           "mode": "markers",
           "name": "Beijing",
           "showlegend": true,
           "type": "scattergeo"
          },
          {
           "geo": "geo",
           "hovertemplate": "<b>%{hovertext}</b><br><br>region=Maharashtra<br>time=2023-12-04 11:00<br>temp_f=%{marker.size}<br>lat=%{lat}<br>lon=%{lon}<extra></extra>",
           "hovertext": [
            "India"
           ],
           "lat": [
            19.08
           ],
           "legendgroup": "Maharashtra",
           "lon": [
            72.88
           ],
           "marker": {
            "color": "#EF553B",
            "size": [
             86.7
            ],
            "sizemode": "area",
            "sizeref": 0.23675000000000002,
            "symbol": "circle"
           },
           "mode": "markers",
           "name": "Maharashtra",
           "showlegend": true,
           "type": "scattergeo"
          },
          {
           "geo": "geo",
           "hovertemplate": "<b>%{hovertext}</b><br><br>region=Al Qahirah<br>time=2023-12-04 11:00<br>temp_f=%{marker.size}<br>lat=%{lat}<br>lon=%{lon}<extra></extra>",
           "hovertext": [
            "Egypt"
           ],
           "lat": [
            30.04
           ],
           "legendgroup": "Al Qahirah",
           "lon": [
            31.24
           ],
           "marker": {
            "color": "#00cc96",
            "size": [
             72.2
            ],
            "sizemode": "area",
            "sizeref": 0.23675000000000002,
            "symbol": "circle"
           },
           "mode": "markers",
           "name": "Al Qahirah",
           "showlegend": true,
           "type": "scattergeo"
          },
          {
           "geo": "geo",
           "hovertemplate": "<b>%{hovertext}</b><br><br>region=Lagos<br>time=2023-12-04 11:00<br>temp_f=%{marker.size}<br>lat=%{lat}<br>lon=%{lon}<extra></extra>",
           "hovertext": [
            "Nigeria"
           ],
           "lat": [
            6.52
           ],
           "legendgroup": "Lagos",
           "lon": [
            3.38
           ],
           "marker": {
            "color": "#ab63fa",
            "size": [
             84.4
            ],
            "sizemode": "area",
            "sizeref": 0.23675000000000002,
            "symbol": "circle"
           },
           "mode": "markers",
           "name": "Lagos",
           "showlegend": true,
           "type": "scattergeo"
          },
          {
           "geo": "geo",
           "hovertemplate": "<b>%{hovertext}</b><br><br>region=Gauteng<br>time=2023-12-04 11:00<br>temp_f=%{marker.size}<br>lat=%{lat}<br>lon=%{lon}<extra></extra>",
           "hovertext": [
            "South Africa"
           ],
           "lat": [
            -26.2
           ],
           "legendgroup": "Gauteng",
           "lon": [
            28.05
           ],
           "marker": {
            "color": "#FFA15A",
            "size": [
             87.6
            ],
            "sizemode": "area",
            "sizeref": 0.23675000000000002,
            "symbol": "circle"
           },
           "mode": "markers",
           "name": "Gauteng",
           "showlegend": true,
           "type": "scattergeo"
          },
          {
           "geo": "geo",
           "hovertemplate": "<b>%{hovertext}</b><br><br>region=New South Wales<br>time=2023-12-04 11:00<br>temp_f=%{marker.size}<br>lat=%{lat}<br>lon=%{lon}<extra></extra>",
           "hovertext": [
            "Australia"
           ],
           "lat": [
            -33.87
           ],
           "legendgroup": "New South Wales",
           "lon": [
            151.21
           ],
           "marker": {
            "color": "#19d3f3",
            "size": [
             68.8
            ],
            "sizemode": "area",
            "sizeref": 0.23675000000000002,
            "symbol": "circle"
           },
           "mode": "markers",
           "name": "New South Wales",
           "showlegend": true,
           "type": "scattergeo"
          },
          {
           "geo": "geo",
           "hovertemplate": "<b>%{hovertext}</b><br><br>region=Victoria<br>time=2023-12-04 11:00<br>temp_f=%{marker.size}<br>lat=%{lat}<br>lon=%{lon}<extra></extra>",
           "hovertext": [
            "Australia"
           ],
           "lat": [
            -37.81
           ],
           "legendgroup": "Victoria",
           "lon": [
            144.96
           ],
           "marker": {
            "color": "#FF6692",
            "size": [
             76.8
            ],
            "sizemode": "area",
            "sizeref": 0.23675000000000002,
            "symbol": "circle"
           },
           "mode": "markers",
           "name": "Victoria",
           "showlegend": true,
           "type": "scattergeo"
          },
          {
           "geo": "geo",
           "hovertemplate": "<b>%{hovertext}</b><br><br>region=Queensland<br>time=2023-12-04 11:00<br>temp_f=%{marker.size}<br>lat=%{lat}<br>lon=%{lon}<extra></extra>",
           "hovertext": [
            "Australia"
           ],
           "lat": [
            -27.47
           ],
           "legendgroup": "Queensland",
           "lon": [
            153.03
           ],
           "marker": {
            "color": "#B6E880",
            "size": [
             89
            ],
            "sizemode": "area",
            "sizeref": 0.23675000000000002,
            "symbol": "circle"
           },
           "mode": "markers",
           "name": "Queensland",
           "showlegend": true,
           "type": "scattergeo"
          }
         ],
         "name": "2023-12-04 11:00"
        },
        {
         "data": [
          {
           "geo": "geo",
           "hovertemplate": "<b>%{hovertext}</b><br><br>region=City of London, Greater London<br>time=2023-12-04 12:00<br>temp_f=%{marker.size}<br>lat=%{lat}<br>lon=%{lon}<extra></extra>",
           "hovertext": [
            "United Kingdom"
           ],
           "lat": [
            51.51
           ],
           "legendgroup": "City of London, Greater London",
           "lon": [
            -0.13
           ],
           "marker": {
            "color": "#FF6692",
            "size": [
             45.9
            ],
            "sizemode": "area",
            "sizeref": 0.23675000000000002,
            "symbol": "circle"
           },
           "mode": "markers",
           "name": "City of London, Greater London",
           "showlegend": true,
           "type": "scattergeo"
          },
          {
           "geo": "geo",
           "hovertemplate": "<b>%{hovertext}</b><br><br>region=Ile-de-France<br>time=2023-12-04 12:00<br>temp_f=%{marker.size}<br>lat=%{lat}<br>lon=%{lon}<extra></extra>",
           "hovertext": [
            "France"
           ],
           "lat": [
            48.86
           ],
           "legendgroup": "Ile-de-France",
           "lon": [
            2.35
           ],
           "marker": {
            "color": "#B6E880",
            "size": [
             42
            ],
            "sizemode": "area",
            "sizeref": 0.23675000000000002,
            "symbol": "circle"
           },
           "mode": "markers",
           "name": "Ile-de-France",
           "showlegend": true,
           "type": "scattergeo"
          },
          {
           "geo": "geo",
           "hovertemplate": "<b>%{hovertext}</b><br><br>region=Berlin<br>time=2023-12-04 12:00<br>temp_f=%{marker.size}<br>lat=%{lat}<br>lon=%{lon}<extra></extra>",
           "hovertext": [
            "Germany"
           ],
           "lat": [
            52.52
           ],
           "legendgroup": "Berlin",
           "lon": [
            13.41
           ],
           "marker": {
            "color": "#FF97FF",
            "size": [
             28.1
            ],
            "sizemode": "area",
            "sizeref": 0.23675000000000002,
            "symbol": "circle"
           },
           "mode": "markers",
           "name": "Berlin",
           "showlegend": true,
           "type": "scattergeo"
          },
          {
           "geo": "geo",
           "hovertemplate": "<b>%{hovertext}</b><br><br>region=Tokyo<br>time=2023-12-04 12:00<br>temp_f=%{marker.size}<br>lat=%{lat}<br>lon=%{lon}<extra></extra>",
           "hovertext": [
            "Japan"
           ],
           "lat": [
            35.68
           ],
           "legendgroup": "Tokyo",
           "lon": [
            139.65
           ],
           "marker": {
            "color": "#FECB52",
            "size": [
             54.1
            ],
            "sizemode": "area",
            "sizeref": 0.23675000000000002,
            "symbol": "circle"
           },
           "mode": "markers",
           "name": "Tokyo",
           "showlegend": true,
           "type": "scattergeo"
          },
          {
           "geo": "geo",
           "hovertemplate": "<b>%{hovertext}</b><br><br>region=Beijing<br>time=2023-12-04 12:00<br>temp_f=%{marker.size}<br>lat=%{lat}<br>lon=%{lon}<extra></extra>",
           "hovertext": [
            "China"
           ],
           "lat": [
            39.9
           ],
           "legendgroup": "Beijing",
           "lon": [
            116.41
           ],
           "marker": {
            "color": "#636efa",
            "size": [
             42.3
            ],
            "sizemode": "area",
            "sizeref": 0.23675000000000002,
            "symbol": "circle"
           },
           "mode": "markers",
           "name": "Beijing",
           "showlegend": true,
           "type": "scattergeo"
          },
          {
           "geo": "geo",
           "hovertemplate": "<b>%{hovertext}</b><br><br>region=Maharashtra<br>time=2023-12-04 12:00<br>temp_f=%{marker.size}<br>lat=%{lat}<br>lon=%{lon}<extra></extra>",
           "hovertext": [
            "India"
           ],
           "lat": [
            19.08
           ],
           "legendgroup": "Maharashtra",
           "lon": [
            72.88
           ],
           "marker": {
            "color": "#EF553B",
            "size": [
             87.7
            ],
            "sizemode": "area",
            "sizeref": 0.23675000000000002,
            "symbol": "circle"
           },
           "mode": "markers",
           "name": "Maharashtra",
           "showlegend": true,
           "type": "scattergeo"
          },
          {
           "geo": "geo",
           "hovertemplate": "<b>%{hovertext}</b><br><br>region=Al Qahirah<br>time=2023-12-04 12:00<br>temp_f=%{marker.size}<br>lat=%{lat}<br>lon=%{lon}<extra></extra>",
           "hovertext": [
            "Egypt"
           ],
           "lat": [
            30.04
           ],
           "legendgroup": "Al Qahirah",
           "lon": [
            31.24
           ],
           "marker": {
            "color": "#00cc96",
            "size": [
             74.3
            ],
            "sizemode": "area",
            "sizeref": 0.23675000000000002,
            "symbol": "circle"
           },
           "mode": "markers",
           "name": "Al Qahirah",
           "showlegend": true,
           "type": "scattergeo"
          },
          {
           "geo": "geo",
           "hovertemplate": "<b>%{hovertext}</b><br><br>region=Lagos<br>time=2023-12-04 12:00<br>temp_f=%{marker.size}<br>lat=%{lat}<br>lon=%{lon}<extra></extra>",
           "hovertext": [
            "Nigeria"
           ],
           "lat": [
            6.52
           ],
           "legendgroup": "Lagos",
           "lon": [
            3.38
           ],
           "marker": {
            "color": "#ab63fa",
            "size": [
             84.9
            ],
            "sizemode": "area",
            "sizeref": 0.23675000000000002,
            "symbol": "circle"
           },
           "mode": "markers",
           "name": "Lagos",
           "showlegend": true,
           "type": "scattergeo"
          },
          {
           "geo": "geo",
           "hovertemplate": "<b>%{hovertext}</b><br><br>region=Gauteng<br>time=2023-12-04 12:00<br>temp_f=%{marker.size}<br>lat=%{lat}<br>lon=%{lon}<extra></extra>",
           "hovertext": [
            "South Africa"
           ],
           "lat": [
            -26.2
           ],
           "legendgroup": "Gauteng",
           "lon": [
            28.05
           ],
           "marker": {
            "color": "#FFA15A",
            "size": [
             90
            ],
            "sizemode": "area",
            "sizeref": 0.23675000000000002,
            "symbol": "circle"
           },
           "mode": "markers",
           "name": "Gauteng",
           "showlegend": true,
           "type": "scattergeo"
          },
          {
           "geo": "geo",
           "hovertemplate": "<b>%{hovertext}</b><br><br>region=New South Wales<br>time=2023-12-04 12:00<br>temp_f=%{marker.size}<br>lat=%{lat}<br>lon=%{lon}<extra></extra>",
           "hovertext": [
            "Australia"
           ],
           "lat": [
            -33.87
           ],
           "legendgroup": "New South Wales",
           "lon": [
            151.21
           ],
           "marker": {
            "color": "#19d3f3",
            "size": [
             69.1
            ],
            "sizemode": "area",
            "sizeref": 0.23675000000000002,
            "symbol": "circle"
           },
           "mode": "markers",
           "name": "New South Wales",
           "showlegend": true,
           "type": "scattergeo"
          },
          {
           "geo": "geo",
           "hovertemplate": "<b>%{hovertext}</b><br><br>region=Victoria<br>time=2023-12-04 12:00<br>temp_f=%{marker.size}<br>lat=%{lat}<br>lon=%{lon}<extra></extra>",
           "hovertext": [
            "Australia"
           ],
           "lat": [
            -37.81
           ],
           "legendgroup": "Victoria",
           "lon": [
            144.96
           ],
           "marker": {
            "color": "#FF6692",
            "size": [
             79.3
            ],
            "sizemode": "area",
            "sizeref": 0.23675000000000002,
            "symbol": "circle"
           },
           "mode": "markers",
           "name": "Victoria",
           "showlegend": true,
           "type": "scattergeo"
          },
          {
           "geo": "geo",
           "hovertemplate": "<b>%{hovertext}</b><br><br>region=Queensland<br>time=2023-12-04 12:00<br>temp_f=%{marker.size}<br>lat=%{lat}<br>lon=%{lon}<extra></extra>",
           "hovertext": [
            "Australia"
           ],
           "lat": [
            -27.47
           ],
           "legendgroup": "Queensland",
           "lon": [
            153.03
           ],
           "marker": {
            "color": "#B6E880",
            "size": [
             89.6
            ],
            "sizemode": "area",
            "sizeref": 0.23675000000000002,
            "symbol": "circle"
           },
           "mode": "markers",
           "name": "Queensland",
           "showlegend": true,
           "type": "scattergeo"
          }
         ],
         "name": "2023-12-04 12:00"
        },
        {
         "data": [
          {
           "geo": "geo",
           "hovertemplate": "<b>%{hovertext}</b><br><br>region=City of London, Greater London<br>time=2023-12-04 13:00<br>temp_f=%{marker.size}<br>lat=%{lat}<br>lon=%{lon}<extra></extra>",
           "hovertext": [
            "United Kingdom"
           ],
           "lat": [
            51.51
           ],
           "legendgroup": "City of London, Greater London",
           "lon": [
            -0.13
           ],
           "marker": {
            "color": "#FF6692",
            "size": [
             46.1
            ],
            "sizemode": "area",
            "sizeref": 0.23675000000000002,
            "symbol": "circle"
           },
           "mode": "markers",
           "name": "City of London, Greater London",
           "showlegend": true,
           "type": "scattergeo"
          },
          {
           "geo": "geo",
           "hovertemplate": "<b>%{hovertext}</b><br><br>region=Ile-de-France<br>time=2023-12-04 13:00<br>temp_f=%{marker.size}<br>lat=%{lat}<br>lon=%{lon}<extra></extra>",
           "hovertext": [
            "France"
           ],
           "lat": [
            48.86
           ],
           "legendgroup": "Ile-de-France",
           "lon": [
            2.35
           ],
           "marker": {
            "color": "#B6E880",
            "size": [
             43.3
            ],
            "sizemode": "area",
            "sizeref": 0.23675000000000002,
            "symbol": "circle"
           },
           "mode": "markers",
           "name": "Ile-de-France",
           "showlegend": true,
           "type": "scattergeo"
          },
          {
           "geo": "geo",
           "hovertemplate": "<b>%{hovertext}</b><br><br>region=Berlin<br>time=2023-12-04 13:00<br>temp_f=%{marker.size}<br>lat=%{lat}<br>lon=%{lon}<extra></extra>",
           "hovertext": [
            "Germany"
           ],
           "lat": [
            52.52
           ],
           "legendgroup": "Berlin",
           "lon": [
            13.41
           ],
           "marker": {
            "color": "#FF97FF",
            "size": [
             29.3
            ],
            "sizemode": "area",
            "sizeref": 0.23675000000000002,
            "symbol": "circle"
           },
           "mode": "markers",
           "name": "Berlin",
           "showlegend": true,
           "type": "scattergeo"
          },
          {
           "geo": "geo",
           "hovertemplate": "<b>%{hovertext}</b><br><br>region=Tokyo<br>time=2023-12-04 13:00<br>temp_f=%{marker.size}<br>lat=%{lat}<br>lon=%{lon}<extra></extra>",
           "hovertext": [
            "Japan"
           ],
           "lat": [
            35.68
           ],
           "legendgroup": "Tokyo",
           "lon": [
            139.65
           ],
           "marker": {
            "color": "#FECB52",
            "size": [
             54.8
            ],
            "sizemode": "area",
            "sizeref": 0.23675000000000002,
            "symbol": "circle"
           },
           "mode": "markers",
           "name": "Tokyo",
           "showlegend": true,
           "type": "scattergeo"
          },
          {
           "geo": "geo",
           "hovertemplate": "<b>%{hovertext}</b><br><br>region=Beijing<br>time=2023-12-04 13:00<br>temp_f=%{marker.size}<br>lat=%{lat}<br>lon=%{lon}<extra></extra>",
           "hovertext": [
            "China"
           ],
           "lat": [
            39.9
           ],
           "legendgroup": "Beijing",
           "lon": [
            116.41
           ],
           "marker": {
            "color": "#636efa",
            "size": [
             43.5
            ],
            "sizemode": "area",
            "sizeref": 0.23675000000000002,
            "symbol": "circle"
           },
           "mode": "markers",
           "name": "Beijing",
           "showlegend": true,
           "type": "scattergeo"
          },
          {
           "geo": "geo",
           "hovertemplate": "<b>%{hovertext}</b><br><br>region=Maharashtra<br>time=2023-12-04 13:00<br>temp_f=%{marker.size}<br>lat=%{lat}<br>lon=%{lon}<extra></extra>",
           "hovertext": [
            "India"
           ],
           "lat": [
            19.08
           ],
           "legendgroup": "Maharashtra",
           "lon": [
            72.88
           ],
           "marker": {
            "color": "#EF553B",
            "size": [
             88
            ],
            "sizemode": "area",
            "sizeref": 0.23675000000000002,
            "symbol": "circle"
           },
           "mode": "markers",
           "name": "Maharashtra",
           "showlegend": true,
           "type": "scattergeo"
          },
          {
           "geo": "geo",
           "hovertemplate": "<b>%{hovertext}</b><br><br>region=Al Qahirah<br>time=2023-12-04 13:00<br>temp_f=%{marker.size}<br>lat=%{lat}<br>lon=%{lon}<extra></extra>",
           "hovertext": [
            "Egypt"
           ],
           "lat": [
            30.04
           ],
           "legendgroup": "Al Qahirah",
           "lon": [
            31.24
           ],
           "marker": {
            "color": "#00cc96",
            "size": [
             76.7
            ],
            "sizemode": "area",
            "sizeref": 0.23675000000000002,
            "symbol": "circle"
           },
           "mode": "markers",
           "name": "Al Qahirah",
           "showlegend": true,
           "type": "scattergeo"
          },
          {
           "geo": "geo",
           "hovertemplate": "<b>%{hovertext}</b><br><br>region=Lagos<br>time=2023-12-04 13:00<br>temp_f=%{marker.size}<br>lat=%{lat}<br>lon=%{lon}<extra></extra>",
           "hovertext": [
            "Nigeria"
           ],
           "lat": [
            6.52
           ],
           "legendgroup": "Lagos",
           "lon": [
            3.38
           ],
           "marker": {
            "color": "#ab63fa",
            "size": [
             85.2
            ],
            "sizemode": "area",
            "sizeref": 0.23675000000000002,
            "symbol": "circle"
           },
           "mode": "markers",
           "name": "Lagos",
           "showlegend": true,
           "type": "scattergeo"
          },
          {
           "geo": "geo",
           "hovertemplate": "<b>%{hovertext}</b><br><br>region=Gauteng<br>time=2023-12-04 13:00<br>temp_f=%{marker.size}<br>lat=%{lat}<br>lon=%{lon}<extra></extra>",
           "hovertext": [
            "South Africa"
           ],
           "lat": [
            -26.2
           ],
           "legendgroup": "Gauteng",
           "lon": [
            28.05
           ],
           "marker": {
            "color": "#FFA15A",
            "size": [
             91.7
            ],
            "sizemode": "area",
            "sizeref": 0.23675000000000002,
            "symbol": "circle"
           },
           "mode": "markers",
           "name": "Gauteng",
           "showlegend": true,
           "type": "scattergeo"
          },
          {
           "geo": "geo",
           "hovertemplate": "<b>%{hovertext}</b><br><br>region=New South Wales<br>time=2023-12-04 13:00<br>temp_f=%{marker.size}<br>lat=%{lat}<br>lon=%{lon}<extra></extra>",
           "hovertext": [
            "Australia"
           ],
           "lat": [
            -33.87
           ],
           "legendgroup": "New South Wales",
           "lon": [
            151.21
           ],
           "marker": {
            "color": "#19d3f3",
            "size": [
             69.7
            ],
            "sizemode": "area",
            "sizeref": 0.23675000000000002,
            "symbol": "circle"
           },
           "mode": "markers",
           "name": "New South Wales",
           "showlegend": true,
           "type": "scattergeo"
          },
          {
           "geo": "geo",
           "hovertemplate": "<b>%{hovertext}</b><br><br>region=Victoria<br>time=2023-12-04 13:00<br>temp_f=%{marker.size}<br>lat=%{lat}<br>lon=%{lon}<extra></extra>",
           "hovertext": [
            "Australia"
           ],
           "lat": [
            -37.81
           ],
           "legendgroup": "Victoria",
           "lon": [
            144.96
           ],
           "marker": {
            "color": "#FF6692",
            "size": [
             81.2
            ],
            "sizemode": "area",
            "sizeref": 0.23675000000000002,
            "symbol": "circle"
           },
           "mode": "markers",
           "name": "Victoria",
           "showlegend": true,
           "type": "scattergeo"
          },
          {
           "geo": "geo",
           "hovertemplate": "<b>%{hovertext}</b><br><br>region=Queensland<br>time=2023-12-04 13:00<br>temp_f=%{marker.size}<br>lat=%{lat}<br>lon=%{lon}<extra></extra>",
           "hovertext": [
            "Australia"
           ],
           "lat": [
            -27.47
           ],
           "legendgroup": "Queensland",
           "lon": [
            153.03
           ],
           "marker": {
            "color": "#B6E880",
            "size": [
             88.4
            ],
            "sizemode": "area",
            "sizeref": 0.23675000000000002,
            "symbol": "circle"
           },
           "mode": "markers",
           "name": "Queensland",
           "showlegend": true,
           "type": "scattergeo"
          }
         ],
         "name": "2023-12-04 13:00"
        },
        {
         "data": [
          {
           "geo": "geo",
           "hovertemplate": "<b>%{hovertext}</b><br><br>region=City of London, Greater London<br>time=2023-12-04 14:00<br>temp_f=%{marker.size}<br>lat=%{lat}<br>lon=%{lon}<extra></extra>",
           "hovertext": [
            "United Kingdom"
           ],
           "lat": [
            51.51
           ],
           "legendgroup": "City of London, Greater London",
           "lon": [
            -0.13
           ],
           "marker": {
            "color": "#FF6692",
            "size": [
             45.2
            ],
            "sizemode": "area",
            "sizeref": 0.23675000000000002,
            "symbol": "circle"
           },
           "mode": "markers",
           "name": "City of London, Greater London",
           "showlegend": true,
           "type": "scattergeo"
          },
          {
           "geo": "geo",
           "hovertemplate": "<b>%{hovertext}</b><br><br>region=Ile-de-France<br>time=2023-12-04 14:00<br>temp_f=%{marker.size}<br>lat=%{lat}<br>lon=%{lon}<extra></extra>",
           "hovertext": [
            "France"
           ],
           "lat": [
            48.86
           ],
           "legendgroup": "Ile-de-France",
           "lon": [
            2.35
           ],
           "marker": {
            "color": "#B6E880",
            "size": [
             44.7
            ],
            "sizemode": "area",
            "sizeref": 0.23675000000000002,
            "symbol": "circle"
           },
           "mode": "markers",
           "name": "Ile-de-France",
           "showlegend": true,
           "type": "scattergeo"
          },
          {
           "geo": "geo",
           "hovertemplate": "<b>%{hovertext}</b><br><br>region=Berlin<br>time=2023-12-04 14:00<br>temp_f=%{marker.size}<br>lat=%{lat}<br>lon=%{lon}<extra></extra>",
           "hovertext": [
            "Germany"
           ],
           "lat": [
            52.52
           ],
           "legendgroup": "Berlin",
           "lon": [
            13.41
           ],
           "marker": {
            "color": "#FF97FF",
            "size": [
             29.5
            ],
            "sizemode": "area",
            "sizeref": 0.23675000000000002,
            "symbol": "circle"
           },
           "mode": "markers",
           "name": "Berlin",
           "showlegend": true,
           "type": "scattergeo"
          },
          {
           "geo": "geo",
           "hovertemplate": "<b>%{hovertext}</b><br><br>region=Tokyo<br>time=2023-12-04 14:00<br>temp_f=%{marker.size}<br>lat=%{lat}<br>lon=%{lon}<extra></extra>",
           "hovertext": [
            "Japan"
           ],
           "lat": [
            35.68
           ],
           "legendgroup": "Tokyo",
           "lon": [
            139.65
           ],
           "marker": {
            "color": "#FECB52",
            "size": [
             55.5
            ],
            "sizemode": "area",
            "sizeref": 0.23675000000000002,
            "symbol": "circle"
           },
           "mode": "markers",
           "name": "Tokyo",
           "showlegend": true,
           "type": "scattergeo"
          },
          {
           "geo": "geo",
           "hovertemplate": "<b>%{hovertext}</b><br><br>region=Beijing<br>time=2023-12-04 14:00<br>temp_f=%{marker.size}<br>lat=%{lat}<br>lon=%{lon}<extra></extra>",
           "hovertext": [
            "China"
           ],
           "lat": [
            39.9
           ],
           "legendgroup": "Beijing",
           "lon": [
            116.41
           ],
           "marker": {
            "color": "#636efa",
            "size": [
             44.2
            ],
            "sizemode": "area",
            "sizeref": 0.23675000000000002,
            "symbol": "circle"
           },
           "mode": "markers",
           "name": "Beijing",
           "showlegend": true,
           "type": "scattergeo"
          },
          {
           "geo": "geo",
           "hovertemplate": "<b>%{hovertext}</b><br><br>region=Maharashtra<br>time=2023-12-04 14:00<br>temp_f=%{marker.size}<br>lat=%{lat}<br>lon=%{lon}<extra></extra>",
           "hovertext": [
            "India"
           ],
           "lat": [
            19.08
           ],
           "legendgroup": "Maharashtra",
           "lon": [
            72.88
           ],
           "marker": {
            "color": "#EF553B",
            "size": [
             87.8
            ],
            "sizemode": "area",
            "sizeref": 0.23675000000000002,
            "symbol": "circle"
           },
           "mode": "markers",
           "name": "Maharashtra",
           "showlegend": true,
           "type": "scattergeo"
          },
          {
           "geo": "geo",
           "hovertemplate": "<b>%{hovertext}</b><br><br>region=Al Qahirah<br>time=2023-12-04 14:00<br>temp_f=%{marker.size}<br>lat=%{lat}<br>lon=%{lon}<extra></extra>",
           "hovertext": [
            "Egypt"
           ],
           "lat": [
            30.04
           ],
           "legendgroup": "Al Qahirah",
           "lon": [
            31.24
           ],
           "marker": {
            "color": "#00cc96",
            "size": [
             78.6
            ],
            "sizemode": "area",
            "sizeref": 0.23675000000000002,
            "symbol": "circle"
           },
           "mode": "markers",
           "name": "Al Qahirah",
           "showlegend": true,
           "type": "scattergeo"
          },
          {
           "geo": "geo",
           "hovertemplate": "<b>%{hovertext}</b><br><br>region=Lagos<br>time=2023-12-04 14:00<br>temp_f=%{marker.size}<br>lat=%{lat}<br>lon=%{lon}<extra></extra>",
           "hovertext": [
            "Nigeria"
           ],
           "lat": [
            6.52
           ],
           "legendgroup": "Lagos",
           "lon": [
            3.38
           ],
           "marker": {
            "color": "#ab63fa",
            "size": [
             85
            ],
            "sizemode": "area",
            "sizeref": 0.23675000000000002,
            "symbol": "circle"
           },
           "mode": "markers",
           "name": "Lagos",
           "showlegend": true,
           "type": "scattergeo"
          },
          {
           "geo": "geo",
           "hovertemplate": "<b>%{hovertext}</b><br><br>region=Gauteng<br>time=2023-12-04 14:00<br>temp_f=%{marker.size}<br>lat=%{lat}<br>lon=%{lon}<extra></extra>",
           "hovertext": [
            "South Africa"
           ],
           "lat": [
            -26.2
           ],
           "legendgroup": "Gauteng",
           "lon": [
            28.05
           ],
           "marker": {
            "color": "#FFA15A",
            "size": [
             91.7
            ],
            "sizemode": "area",
            "sizeref": 0.23675000000000002,
            "symbol": "circle"
           },
           "mode": "markers",
           "name": "Gauteng",
           "showlegend": true,
           "type": "scattergeo"
          },
          {
           "geo": "geo",
           "hovertemplate": "<b>%{hovertext}</b><br><br>region=New South Wales<br>time=2023-12-04 14:00<br>temp_f=%{marker.size}<br>lat=%{lat}<br>lon=%{lon}<extra></extra>",
           "hovertext": [
            "Australia"
           ],
           "lat": [
            -33.87
           ],
           "legendgroup": "New South Wales",
           "lon": [
            151.21
           ],
           "marker": {
            "color": "#19d3f3",
            "size": [
             70
            ],
            "sizemode": "area",
            "sizeref": 0.23675000000000002,
            "symbol": "circle"
           },
           "mode": "markers",
           "name": "New South Wales",
           "showlegend": true,
           "type": "scattergeo"
          },
          {
           "geo": "geo",
           "hovertemplate": "<b>%{hovertext}</b><br><br>region=Victoria<br>time=2023-12-04 14:00<br>temp_f=%{marker.size}<br>lat=%{lat}<br>lon=%{lon}<extra></extra>",
           "hovertext": [
            "Australia"
           ],
           "lat": [
            -37.81
           ],
           "legendgroup": "Victoria",
           "lon": [
            144.96
           ],
           "marker": {
            "color": "#FF6692",
            "size": [
             83
            ],
            "sizemode": "area",
            "sizeref": 0.23675000000000002,
            "symbol": "circle"
           },
           "mode": "markers",
           "name": "Victoria",
           "showlegend": true,
           "type": "scattergeo"
          },
          {
           "geo": "geo",
           "hovertemplate": "<b>%{hovertext}</b><br><br>region=Queensland<br>time=2023-12-04 14:00<br>temp_f=%{marker.size}<br>lat=%{lat}<br>lon=%{lon}<extra></extra>",
           "hovertext": [
            "Australia"
           ],
           "lat": [
            -27.47
           ],
           "legendgroup": "Queensland",
           "lon": [
            153.03
           ],
           "marker": {
            "color": "#B6E880",
            "size": [
             85.4
            ],
            "sizemode": "area",
            "sizeref": 0.23675000000000002,
            "symbol": "circle"
           },
           "mode": "markers",
           "name": "Queensland",
           "showlegend": true,
           "type": "scattergeo"
          }
         ],
         "name": "2023-12-04 14:00"
        },
        {
         "data": [
          {
           "geo": "geo",
           "hovertemplate": "<b>%{hovertext}</b><br><br>region=City of London, Greater London<br>time=2023-12-04 15:00<br>temp_f=%{marker.size}<br>lat=%{lat}<br>lon=%{lon}<extra></extra>",
           "hovertext": [
            "United Kingdom"
           ],
           "lat": [
            51.51
           ],
           "legendgroup": "City of London, Greater London",
           "lon": [
            -0.13
           ],
           "marker": {
            "color": "#FF6692",
            "size": [
             42.5
            ],
            "sizemode": "area",
            "sizeref": 0.23675000000000002,
            "symbol": "circle"
           },
           "mode": "markers",
           "name": "City of London, Greater London",
           "showlegend": true,
           "type": "scattergeo"
          },
          {
           "geo": "geo",
           "hovertemplate": "<b>%{hovertext}</b><br><br>region=Ile-de-France<br>time=2023-12-04 15:00<br>temp_f=%{marker.size}<br>lat=%{lat}<br>lon=%{lon}<extra></extra>",
           "hovertext": [
            "France"
           ],
           "lat": [
            48.86
           ],
           "legendgroup": "Ile-de-France",
           "lon": [
            2.35
           ],
           "marker": {
            "color": "#B6E880",
            "size": [
             45.7
            ],
            "sizemode": "area",
            "sizeref": 0.23675000000000002,
            "symbol": "circle"
           },
           "mode": "markers",
           "name": "Ile-de-France",
           "showlegend": true,
           "type": "scattergeo"
          },
          {
           "geo": "geo",
           "hovertemplate": "<b>%{hovertext}</b><br><br>region=Berlin<br>time=2023-12-04 15:00<br>temp_f=%{marker.size}<br>lat=%{lat}<br>lon=%{lon}<extra></extra>",
           "hovertext": [
            "Germany"
           ],
           "lat": [
            52.52
           ],
           "legendgroup": "Berlin",
           "lon": [
            13.41
           ],
           "marker": {
            "color": "#FF97FF",
            "size": [
             29.1
            ],
            "sizemode": "area",
            "sizeref": 0.23675000000000002,
            "symbol": "circle"
           },
           "mode": "markers",
           "name": "Berlin",
           "showlegend": true,
           "type": "scattergeo"
          },
          {
           "geo": "geo",
           "hovertemplate": "<b>%{hovertext}</b><br><br>region=Tokyo<br>time=2023-12-04 15:00<br>temp_f=%{marker.size}<br>lat=%{lat}<br>lon=%{lon}<extra></extra>",
           "hovertext": [
            "Japan"
           ],
           "lat": [
            35.68
           ],
           "legendgroup": "Tokyo",
           "lon": [
            139.65
           ],
           "marker": {
            "color": "#FECB52",
            "size": [
             55.7
            ],
            "sizemode": "area",
            "sizeref": 0.23675000000000002,
            "symbol": "circle"
           },
           "mode": "markers",
           "name": "Tokyo",
           "showlegend": true,
           "type": "scattergeo"
          },
          {
           "geo": "geo",
           "hovertemplate": "<b>%{hovertext}</b><br><br>region=Beijing<br>time=2023-12-04 15:00<br>temp_f=%{marker.size}<br>lat=%{lat}<br>lon=%{lon}<extra></extra>",
           "hovertext": [
            "China"
           ],
           "lat": [
            39.9
           ],
           "legendgroup": "Beijing",
           "lon": [
            116.41
           ],
           "marker": {
            "color": "#636efa",
            "size": [
             44.5
            ],
            "sizemode": "area",
            "sizeref": 0.23675000000000002,
            "symbol": "circle"
           },
           "mode": "markers",
           "name": "Beijing",
           "showlegend": true,
           "type": "scattergeo"
          },
          {
           "geo": "geo",
           "hovertemplate": "<b>%{hovertext}</b><br><br>region=Maharashtra<br>time=2023-12-04 15:00<br>temp_f=%{marker.size}<br>lat=%{lat}<br>lon=%{lon}<extra></extra>",
           "hovertext": [
            "India"
           ],
           "lat": [
            19.08
           ],
           "legendgroup": "Maharashtra",
           "lon": [
            72.88
           ],
           "marker": {
            "color": "#EF553B",
            "size": [
             86.7
            ],
            "sizemode": "area",
            "sizeref": 0.23675000000000002,
            "symbol": "circle"
           },
           "mode": "markers",
           "name": "Maharashtra",
           "showlegend": true,
           "type": "scattergeo"
          },
          {
           "geo": "geo",
           "hovertemplate": "<b>%{hovertext}</b><br><br>region=Al Qahirah<br>time=2023-12-04 15:00<br>temp_f=%{marker.size}<br>lat=%{lat}<br>lon=%{lon}<extra></extra>",
           "hovertext": [
            "Egypt"
           ],
           "lat": [
            30.04
           ],
           "legendgroup": "Al Qahirah",
           "lon": [
            31.24
           ],
           "marker": {
            "color": "#00cc96",
            "size": [
             79.5
            ],
            "sizemode": "area",
            "sizeref": 0.23675000000000002,
            "symbol": "circle"
           },
           "mode": "markers",
           "name": "Al Qahirah",
           "showlegend": true,
           "type": "scattergeo"
          },
          {
           "geo": "geo",
           "hovertemplate": "<b>%{hovertext}</b><br><br>region=Lagos<br>time=2023-12-04 15:00<br>temp_f=%{marker.size}<br>lat=%{lat}<br>lon=%{lon}<extra></extra>",
           "hovertext": [
            "Nigeria"
           ],
           "lat": [
            6.52
           ],
           "legendgroup": "Lagos",
           "lon": [
            3.38
           ],
           "marker": {
            "color": "#ab63fa",
            "size": [
             84.9
            ],
            "sizemode": "area",
            "sizeref": 0.23675000000000002,
            "symbol": "circle"
           },
           "mode": "markers",
           "name": "Lagos",
           "showlegend": true,
           "type": "scattergeo"
          },
          {
           "geo": "geo",
           "hovertemplate": "<b>%{hovertext}</b><br><br>region=Gauteng<br>time=2023-12-04 15:00<br>temp_f=%{marker.size}<br>lat=%{lat}<br>lon=%{lon}<extra></extra>",
           "hovertext": [
            "South Africa"
           ],
           "lat": [
            -26.2
           ],
           "legendgroup": "Gauteng",
           "lon": [
            28.05
           ],
           "marker": {
            "color": "#FFA15A",
            "size": [
             92.2
            ],
            "sizemode": "area",
            "sizeref": 0.23675000000000002,
            "symbol": "circle"
           },
           "mode": "markers",
           "name": "Gauteng",
           "showlegend": true,
           "type": "scattergeo"
          },
          {
           "geo": "geo",
           "hovertemplate": "<b>%{hovertext}</b><br><br>region=New South Wales<br>time=2023-12-04 15:00<br>temp_f=%{marker.size}<br>lat=%{lat}<br>lon=%{lon}<extra></extra>",
           "hovertext": [
            "Australia"
           ],
           "lat": [
            -33.87
           ],
           "legendgroup": "New South Wales",
           "lon": [
            151.21
           ],
           "marker": {
            "color": "#19d3f3",
            "size": [
             69.8
            ],
            "sizemode": "area",
            "sizeref": 0.23675000000000002,
            "symbol": "circle"
           },
           "mode": "markers",
           "name": "New South Wales",
           "showlegend": true,
           "type": "scattergeo"
          },
          {
           "geo": "geo",
           "hovertemplate": "<b>%{hovertext}</b><br><br>region=Victoria<br>time=2023-12-04 15:00<br>temp_f=%{marker.size}<br>lat=%{lat}<br>lon=%{lon}<extra></extra>",
           "hovertext": [
            "Australia"
           ],
           "lat": [
            -37.81
           ],
           "legendgroup": "Victoria",
           "lon": [
            144.96
           ],
           "marker": {
            "color": "#FF6692",
            "size": [
             84.3
            ],
            "sizemode": "area",
            "sizeref": 0.23675000000000002,
            "symbol": "circle"
           },
           "mode": "markers",
           "name": "Victoria",
           "showlegend": true,
           "type": "scattergeo"
          },
          {
           "geo": "geo",
           "hovertemplate": "<b>%{hovertext}</b><br><br>region=Queensland<br>time=2023-12-04 15:00<br>temp_f=%{marker.size}<br>lat=%{lat}<br>lon=%{lon}<extra></extra>",
           "hovertext": [
            "Australia"
           ],
           "lat": [
            -27.47
           ],
           "legendgroup": "Queensland",
           "lon": [
            153.03
           ],
           "marker": {
            "color": "#B6E880",
            "size": [
             83.5
            ],
            "sizemode": "area",
            "sizeref": 0.23675000000000002,
            "symbol": "circle"
           },
           "mode": "markers",
           "name": "Queensland",
           "showlegend": true,
           "type": "scattergeo"
          }
         ],
         "name": "2023-12-04 15:00"
        },
        {
         "data": [
          {
           "geo": "geo",
           "hovertemplate": "<b>%{hovertext}</b><br><br>region=City of London, Greater London<br>time=2023-12-04 16:00<br>temp_f=%{marker.size}<br>lat=%{lat}<br>lon=%{lon}<extra></extra>",
           "hovertext": [
            "United Kingdom"
           ],
           "lat": [
            51.51
           ],
           "legendgroup": "City of London, Greater London",
           "lon": [
            -0.13
           ],
           "marker": {
            "color": "#FF6692",
            "size": [
             38.3
            ],
            "sizemode": "area",
            "sizeref": 0.23675000000000002,
            "symbol": "circle"
           },
           "mode": "markers",
           "name": "City of London, Greater London",
           "showlegend": true,
           "type": "scattergeo"
          },
          {
           "geo": "geo",
           "hovertemplate": "<b>%{hovertext}</b><br><br>region=Ile-de-France<br>time=2023-12-04 16:00<br>temp_f=%{marker.size}<br>lat=%{lat}<br>lon=%{lon}<extra></extra>",
           "hovertext": [
            "France"
           ],
           "lat": [
            48.86
           ],
           "legendgroup": "Ile-de-France",
           "lon": [
            2.35
           ],
           "marker": {
            "color": "#B6E880",
            "size": [
             46.2
            ],
            "sizemode": "area",
            "sizeref": 0.23675000000000002,
            "symbol": "circle"
           },
           "mode": "markers",
           "name": "Ile-de-France",
           "showlegend": true,
           "type": "scattergeo"
          },
          {
           "geo": "geo",
           "hovertemplate": "<b>%{hovertext}</b><br><br>region=Berlin<br>time=2023-12-04 16:00<br>temp_f=%{marker.size}<br>lat=%{lat}<br>lon=%{lon}<extra></extra>",
           "hovertext": [
            "Germany"
           ],
           "lat": [
            52.52
           ],
           "legendgroup": "Berlin",
           "lon": [
            13.41
           ],
           "marker": {
            "color": "#FF97FF",
            "size": [
             28.7
            ],
            "sizemode": "area",
            "sizeref": 0.23675000000000002,
            "symbol": "circle"
           },
           "mode": "markers",
           "name": "Berlin",
           "showlegend": true,
           "type": "scattergeo"
          },
          {
           "geo": "geo",
           "hovertemplate": "<b>%{hovertext}</b><br><br>region=Tokyo<br>time=2023-12-04 16:00<br>temp_f=%{marker.size}<br>lat=%{lat}<br>lon=%{lon}<extra></extra>",
           "hovertext": [
            "Japan"
           ],
           "lat": [
            35.68
           ],
           "legendgroup": "Tokyo",
           "lon": [
            139.65
           ],
           "marker": {
            "color": "#FECB52",
            "size": [
             55.6
            ],
            "sizemode": "area",
            "sizeref": 0.23675000000000002,
            "symbol": "circle"
           },
           "mode": "markers",
           "name": "Tokyo",
           "showlegend": true,
           "type": "scattergeo"
          },
          {
           "geo": "geo",
           "hovertemplate": "<b>%{hovertext}</b><br><br>region=Beijing<br>time=2023-12-04 16:00<br>temp_f=%{marker.size}<br>lat=%{lat}<br>lon=%{lon}<extra></extra>",
           "hovertext": [
            "China"
           ],
           "lat": [
            39.9
           ],
           "legendgroup": "Beijing",
           "lon": [
            116.41
           ],
           "marker": {
            "color": "#636efa",
            "size": [
             43.4
            ],
            "sizemode": "area",
            "sizeref": 0.23675000000000002,
            "symbol": "circle"
           },
           "mode": "markers",
           "name": "Beijing",
           "showlegend": true,
           "type": "scattergeo"
          },
          {
           "geo": "geo",
           "hovertemplate": "<b>%{hovertext}</b><br><br>region=Maharashtra<br>time=2023-12-04 16:00<br>temp_f=%{marker.size}<br>lat=%{lat}<br>lon=%{lon}<extra></extra>",
           "hovertext": [
            "India"
           ],
           "lat": [
            19.08
           ],
           "legendgroup": "Maharashtra",
           "lon": [
            72.88
           ],
           "marker": {
            "color": "#EF553B",
            "size": [
             85.5
            ],
            "sizemode": "area",
            "sizeref": 0.23675000000000002,
            "symbol": "circle"
           },
           "mode": "markers",
           "name": "Maharashtra",
           "showlegend": true,
           "type": "scattergeo"
          },
          {
           "geo": "geo",
           "hovertemplate": "<b>%{hovertext}</b><br><br>region=Al Qahirah<br>time=2023-12-04 16:00<br>temp_f=%{marker.size}<br>lat=%{lat}<br>lon=%{lon}<extra></extra>",
           "hovertext": [
            "Egypt"
           ],
           "lat": [
            30.04
           ],
           "legendgroup": "Al Qahirah",
           "lon": [
            31.24
           ],
           "marker": {
            "color": "#00cc96",
            "size": [
             79
            ],
            "sizemode": "area",
            "sizeref": 0.23675000000000002,
            "symbol": "circle"
           },
           "mode": "markers",
           "name": "Al Qahirah",
           "showlegend": true,
           "type": "scattergeo"
          },
          {
           "geo": "geo",
           "hovertemplate": "<b>%{hovertext}</b><br><br>region=Lagos<br>time=2023-12-04 16:00<br>temp_f=%{marker.size}<br>lat=%{lat}<br>lon=%{lon}<extra></extra>",
           "hovertext": [
            "Nigeria"
           ],
           "lat": [
            6.52
           ],
           "legendgroup": "Lagos",
           "lon": [
            3.38
           ],
           "marker": {
            "color": "#ab63fa",
            "size": [
             85
            ],
            "sizemode": "area",
            "sizeref": 0.23675000000000002,
            "symbol": "circle"
           },
           "mode": "markers",
           "name": "Lagos",
           "showlegend": true,
           "type": "scattergeo"
          },
          {
           "geo": "geo",
           "hovertemplate": "<b>%{hovertext}</b><br><br>region=Gauteng<br>time=2023-12-04 16:00<br>temp_f=%{marker.size}<br>lat=%{lat}<br>lon=%{lon}<extra></extra>",
           "hovertext": [
            "South Africa"
           ],
           "lat": [
            -26.2
           ],
           "legendgroup": "Gauteng",
           "lon": [
            28.05
           ],
           "marker": {
            "color": "#FFA15A",
            "size": [
             91.9
            ],
            "sizemode": "area",
            "sizeref": 0.23675000000000002,
            "symbol": "circle"
           },
           "mode": "markers",
           "name": "Gauteng",
           "showlegend": true,
           "type": "scattergeo"
          },
          {
           "geo": "geo",
           "hovertemplate": "<b>%{hovertext}</b><br><br>region=New South Wales<br>time=2023-12-04 16:00<br>temp_f=%{marker.size}<br>lat=%{lat}<br>lon=%{lon}<extra></extra>",
           "hovertext": [
            "Australia"
           ],
           "lat": [
            -33.87
           ],
           "legendgroup": "New South Wales",
           "lon": [
            151.21
           ],
           "marker": {
            "color": "#19d3f3",
            "size": [
             69.7
            ],
            "sizemode": "area",
            "sizeref": 0.23675000000000002,
            "symbol": "circle"
           },
           "mode": "markers",
           "name": "New South Wales",
           "showlegend": true,
           "type": "scattergeo"
          },
          {
           "geo": "geo",
           "hovertemplate": "<b>%{hovertext}</b><br><br>region=Victoria<br>time=2023-12-04 16:00<br>temp_f=%{marker.size}<br>lat=%{lat}<br>lon=%{lon}<extra></extra>",
           "hovertext": [
            "Australia"
           ],
           "lat": [
            -37.81
           ],
           "legendgroup": "Victoria",
           "lon": [
            144.96
           ],
           "marker": {
            "color": "#FF6692",
            "size": [
             84.9
            ],
            "sizemode": "area",
            "sizeref": 0.23675000000000002,
            "symbol": "circle"
           },
           "mode": "markers",
           "name": "Victoria",
           "showlegend": true,
           "type": "scattergeo"
          },
          {
           "geo": "geo",
           "hovertemplate": "<b>%{hovertext}</b><br><br>region=Queensland<br>time=2023-12-04 16:00<br>temp_f=%{marker.size}<br>lat=%{lat}<br>lon=%{lon}<extra></extra>",
           "hovertext": [
            "Australia"
           ],
           "lat": [
            -27.47
           ],
           "legendgroup": "Queensland",
           "lon": [
            153.03
           ],
           "marker": {
            "color": "#B6E880",
            "size": [
             80.7
            ],
            "sizemode": "area",
            "sizeref": 0.23675000000000002,
            "symbol": "circle"
           },
           "mode": "markers",
           "name": "Queensland",
           "showlegend": true,
           "type": "scattergeo"
          }
         ],
         "name": "2023-12-04 16:00"
        },
        {
         "data": [
          {
           "geo": "geo",
           "hovertemplate": "<b>%{hovertext}</b><br><br>region=City of London, Greater London<br>time=2023-12-04 17:00<br>temp_f=%{marker.size}<br>lat=%{lat}<br>lon=%{lon}<extra></extra>",
           "hovertext": [
            "United Kingdom"
           ],
           "lat": [
            51.51
           ],
           "legendgroup": "City of London, Greater London",
           "lon": [
            -0.13
           ],
           "marker": {
            "color": "#FF6692",
            "size": [
             37.3
            ],
            "sizemode": "area",
            "sizeref": 0.23675000000000002,
            "symbol": "circle"
           },
           "mode": "markers",
           "name": "City of London, Greater London",
           "showlegend": true,
           "type": "scattergeo"
          },
          {
           "geo": "geo",
           "hovertemplate": "<b>%{hovertext}</b><br><br>region=Ile-de-France<br>time=2023-12-04 17:00<br>temp_f=%{marker.size}<br>lat=%{lat}<br>lon=%{lon}<extra></extra>",
           "hovertext": [
            "France"
           ],
           "lat": [
            48.86
           ],
           "legendgroup": "Ile-de-France",
           "lon": [
            2.35
           ],
           "marker": {
            "color": "#B6E880",
            "size": [
             46.4
            ],
            "sizemode": "area",
            "sizeref": 0.23675000000000002,
            "symbol": "circle"
           },
           "mode": "markers",
           "name": "Ile-de-France",
           "showlegend": true,
           "type": "scattergeo"
          },
          {
           "geo": "geo",
           "hovertemplate": "<b>%{hovertext}</b><br><br>region=Berlin<br>time=2023-12-04 17:00<br>temp_f=%{marker.size}<br>lat=%{lat}<br>lon=%{lon}<extra></extra>",
           "hovertext": [
            "Germany"
           ],
           "lat": [
            52.52
           ],
           "legendgroup": "Berlin",
           "lon": [
            13.41
           ],
           "marker": {
            "color": "#FF97FF",
            "size": [
             29.3
            ],
            "sizemode": "area",
            "sizeref": 0.23675000000000002,
            "symbol": "circle"
           },
           "mode": "markers",
           "name": "Berlin",
           "showlegend": true,
           "type": "scattergeo"
          },
          {
           "geo": "geo",
           "hovertemplate": "<b>%{hovertext}</b><br><br>region=Tokyo<br>time=2023-12-04 17:00<br>temp_f=%{marker.size}<br>lat=%{lat}<br>lon=%{lon}<extra></extra>",
           "hovertext": [
            "Japan"
           ],
           "lat": [
            35.68
           ],
           "legendgroup": "Tokyo",
           "lon": [
            139.65
           ],
           "marker": {
            "color": "#FECB52",
            "size": [
             55.2
            ],
            "sizemode": "area",
            "sizeref": 0.23675000000000002,
            "symbol": "circle"
           },
           "mode": "markers",
           "name": "Tokyo",
           "showlegend": true,
           "type": "scattergeo"
          },
          {
           "geo": "geo",
           "hovertemplate": "<b>%{hovertext}</b><br><br>region=Beijing<br>time=2023-12-04 17:00<br>temp_f=%{marker.size}<br>lat=%{lat}<br>lon=%{lon}<extra></extra>",
           "hovertext": [
            "China"
           ],
           "lat": [
            39.9
           ],
           "legendgroup": "Beijing",
           "lon": [
            116.41
           ],
           "marker": {
            "color": "#636efa",
            "size": [
             41.4
            ],
            "sizemode": "area",
            "sizeref": 0.23675000000000002,
            "symbol": "circle"
           },
           "mode": "markers",
           "name": "Beijing",
           "showlegend": true,
           "type": "scattergeo"
          },
          {
           "geo": "geo",
           "hovertemplate": "<b>%{hovertext}</b><br><br>region=Maharashtra<br>time=2023-12-04 17:00<br>temp_f=%{marker.size}<br>lat=%{lat}<br>lon=%{lon}<extra></extra>",
           "hovertext": [
            "India"
           ],
           "lat": [
            19.08
           ],
           "legendgroup": "Maharashtra",
           "lon": [
            72.88
           ],
           "marker": {
            "color": "#EF553B",
            "size": [
             84.2
            ],
            "sizemode": "area",
            "sizeref": 0.23675000000000002,
            "symbol": "circle"
           },
           "mode": "markers",
           "name": "Maharashtra",
           "showlegend": true,
           "type": "scattergeo"
          },
          {
           "geo": "geo",
           "hovertemplate": "<b>%{hovertext}</b><br><br>region=Al Qahirah<br>time=2023-12-04 17:00<br>temp_f=%{marker.size}<br>lat=%{lat}<br>lon=%{lon}<extra></extra>",
           "hovertext": [
            "Egypt"
           ],
           "lat": [
            30.04
           ],
           "legendgroup": "Al Qahirah",
           "lon": [
            31.24
           ],
           "marker": {
            "color": "#00cc96",
            "size": [
             75.2
            ],
            "sizemode": "area",
            "sizeref": 0.23675000000000002,
            "symbol": "circle"
           },
           "mode": "markers",
           "name": "Al Qahirah",
           "showlegend": true,
           "type": "scattergeo"
          },
          {
           "geo": "geo",
           "hovertemplate": "<b>%{hovertext}</b><br><br>region=Lagos<br>time=2023-12-04 17:00<br>temp_f=%{marker.size}<br>lat=%{lat}<br>lon=%{lon}<extra></extra>",
           "hovertext": [
            "Nigeria"
           ],
           "lat": [
            6.52
           ],
           "legendgroup": "Lagos",
           "lon": [
            3.38
           ],
           "marker": {
            "color": "#ab63fa",
            "size": [
             84.7
            ],
            "sizemode": "area",
            "sizeref": 0.23675000000000002,
            "symbol": "circle"
           },
           "mode": "markers",
           "name": "Lagos",
           "showlegend": true,
           "type": "scattergeo"
          },
          {
           "geo": "geo",
           "hovertemplate": "<b>%{hovertext}</b><br><br>region=Gauteng<br>time=2023-12-04 17:00<br>temp_f=%{marker.size}<br>lat=%{lat}<br>lon=%{lon}<extra></extra>",
           "hovertext": [
            "South Africa"
           ],
           "lat": [
            -26.2
           ],
           "legendgroup": "Gauteng",
           "lon": [
            28.05
           ],
           "marker": {
            "color": "#FFA15A",
            "size": [
             90.5
            ],
            "sizemode": "area",
            "sizeref": 0.23675000000000002,
            "symbol": "circle"
           },
           "mode": "markers",
           "name": "Gauteng",
           "showlegend": true,
           "type": "scattergeo"
          },
          {
           "geo": "geo",
           "hovertemplate": "<b>%{hovertext}</b><br><br>region=New South Wales<br>time=2023-12-04 17:00<br>temp_f=%{marker.size}<br>lat=%{lat}<br>lon=%{lon}<extra></extra>",
           "hovertext": [
            "Australia"
           ],
           "lat": [
            -33.87
           ],
           "legendgroup": "New South Wales",
           "lon": [
            151.21
           ],
           "marker": {
            "color": "#19d3f3",
            "size": [
             69.2
            ],
            "sizemode": "area",
            "sizeref": 0.23675000000000002,
            "symbol": "circle"
           },
           "mode": "markers",
           "name": "New South Wales",
           "showlegend": true,
           "type": "scattergeo"
          },
          {
           "geo": "geo",
           "hovertemplate": "<b>%{hovertext}</b><br><br>region=Victoria<br>time=2023-12-04 17:00<br>temp_f=%{marker.size}<br>lat=%{lat}<br>lon=%{lon}<extra></extra>",
           "hovertext": [
            "Australia"
           ],
           "lat": [
            -37.81
           ],
           "legendgroup": "Victoria",
           "lon": [
            144.96
           ],
           "marker": {
            "color": "#FF6692",
            "size": [
             84.2
            ],
            "sizemode": "area",
            "sizeref": 0.23675000000000002,
            "symbol": "circle"
           },
           "mode": "markers",
           "name": "Victoria",
           "showlegend": true,
           "type": "scattergeo"
          },
          {
           "geo": "geo",
           "hovertemplate": "<b>%{hovertext}</b><br><br>region=Queensland<br>time=2023-12-04 17:00<br>temp_f=%{marker.size}<br>lat=%{lat}<br>lon=%{lon}<extra></extra>",
           "hovertext": [
            "Australia"
           ],
           "lat": [
            -27.47
           ],
           "legendgroup": "Queensland",
           "lon": [
            153.03
           ],
           "marker": {
            "color": "#B6E880",
            "size": [
             78.9
            ],
            "sizemode": "area",
            "sizeref": 0.23675000000000002,
            "symbol": "circle"
           },
           "mode": "markers",
           "name": "Queensland",
           "showlegend": true,
           "type": "scattergeo"
          }
         ],
         "name": "2023-12-04 17:00"
        },
        {
         "data": [
          {
           "geo": "geo",
           "hovertemplate": "<b>%{hovertext}</b><br><br>region=City of London, Greater London<br>time=2023-12-04 18:00<br>temp_f=%{marker.size}<br>lat=%{lat}<br>lon=%{lon}<extra></extra>",
           "hovertext": [
            "United Kingdom"
           ],
           "lat": [
            51.51
           ],
           "legendgroup": "City of London, Greater London",
           "lon": [
            -0.13
           ],
           "marker": {
            "color": "#FF6692",
            "size": [
             37.7
            ],
            "sizemode": "area",
            "sizeref": 0.23675000000000002,
            "symbol": "circle"
           },
           "mode": "markers",
           "name": "City of London, Greater London",
           "showlegend": true,
           "type": "scattergeo"
          },
          {
           "geo": "geo",
           "hovertemplate": "<b>%{hovertext}</b><br><br>region=Ile-de-France<br>time=2023-12-04 18:00<br>temp_f=%{marker.size}<br>lat=%{lat}<br>lon=%{lon}<extra></extra>",
           "hovertext": [
            "France"
           ],
           "lat": [
            48.86
           ],
           "legendgroup": "Ile-de-France",
           "lon": [
            2.35
           ],
           "marker": {
            "color": "#B6E880",
            "size": [
             45.1
            ],
            "sizemode": "area",
            "sizeref": 0.23675000000000002,
            "symbol": "circle"
           },
           "mode": "markers",
           "name": "Ile-de-France",
           "showlegend": true,
           "type": "scattergeo"
          },
          {
           "geo": "geo",
           "hovertemplate": "<b>%{hovertext}</b><br><br>region=Berlin<br>time=2023-12-04 18:00<br>temp_f=%{marker.size}<br>lat=%{lat}<br>lon=%{lon}<extra></extra>",
           "hovertext": [
            "Germany"
           ],
           "lat": [
            52.52
           ],
           "legendgroup": "Berlin",
           "lon": [
            13.41
           ],
           "marker": {
            "color": "#FF97FF",
            "size": [
             29.8
            ],
            "sizemode": "area",
            "sizeref": 0.23675000000000002,
            "symbol": "circle"
           },
           "mode": "markers",
           "name": "Berlin",
           "showlegend": true,
           "type": "scattergeo"
          },
          {
           "geo": "geo",
           "hovertemplate": "<b>%{hovertext}</b><br><br>region=Tokyo<br>time=2023-12-04 18:00<br>temp_f=%{marker.size}<br>lat=%{lat}<br>lon=%{lon}<extra></extra>",
           "hovertext": [
            "Japan"
           ],
           "lat": [
            35.68
           ],
           "legendgroup": "Tokyo",
           "lon": [
            139.65
           ],
           "marker": {
            "color": "#FECB52",
            "size": [
             55
            ],
            "sizemode": "area",
            "sizeref": 0.23675000000000002,
            "symbol": "circle"
           },
           "mode": "markers",
           "name": "Tokyo",
           "showlegend": true,
           "type": "scattergeo"
          },
          {
           "geo": "geo",
           "hovertemplate": "<b>%{hovertext}</b><br><br>region=Beijing<br>time=2023-12-04 18:00<br>temp_f=%{marker.size}<br>lat=%{lat}<br>lon=%{lon}<extra></extra>",
           "hovertext": [
            "China"
           ],
           "lat": [
            39.9
           ],
           "legendgroup": "Beijing",
           "lon": [
            116.41
           ],
           "marker": {
            "color": "#636efa",
            "size": [
             40.7
            ],
            "sizemode": "area",
            "sizeref": 0.23675000000000002,
            "symbol": "circle"
           },
           "mode": "markers",
           "name": "Beijing",
           "showlegend": true,
           "type": "scattergeo"
          },
          {
           "geo": "geo",
           "hovertemplate": "<b>%{hovertext}</b><br><br>region=Maharashtra<br>time=2023-12-04 18:00<br>temp_f=%{marker.size}<br>lat=%{lat}<br>lon=%{lon}<extra></extra>",
           "hovertext": [
            "India"
           ],
           "lat": [
            19.08
           ],
           "legendgroup": "Maharashtra",
           "lon": [
            72.88
           ],
           "marker": {
            "color": "#EF553B",
            "size": [
             83.5
            ],
            "sizemode": "area",
            "sizeref": 0.23675000000000002,
            "symbol": "circle"
           },
           "mode": "markers",
           "name": "Maharashtra",
           "showlegend": true,
           "type": "scattergeo"
          },
          {
           "geo": "geo",
           "hovertemplate": "<b>%{hovertext}</b><br><br>region=Al Qahirah<br>time=2023-12-04 18:00<br>temp_f=%{marker.size}<br>lat=%{lat}<br>lon=%{lon}<extra></extra>",
           "hovertext": [
            "Egypt"
           ],
           "lat": [
            30.04
           ],
           "legendgroup": "Al Qahirah",
           "lon": [
            31.24
           ],
           "marker": {
            "color": "#00cc96",
            "size": [
             73.1
            ],
            "sizemode": "area",
            "sizeref": 0.23675000000000002,
            "symbol": "circle"
           },
           "mode": "markers",
           "name": "Al Qahirah",
           "showlegend": true,
           "type": "scattergeo"
          },
          {
           "geo": "geo",
           "hovertemplate": "<b>%{hovertext}</b><br><br>region=Lagos<br>time=2023-12-04 18:00<br>temp_f=%{marker.size}<br>lat=%{lat}<br>lon=%{lon}<extra></extra>",
           "hovertext": [
            "Nigeria"
           ],
           "lat": [
            6.52
           ],
           "legendgroup": "Lagos",
           "lon": [
            3.38
           ],
           "marker": {
            "color": "#ab63fa",
            "size": [
             84.8
            ],
            "sizemode": "area",
            "sizeref": 0.23675000000000002,
            "symbol": "circle"
           },
           "mode": "markers",
           "name": "Lagos",
           "showlegend": true,
           "type": "scattergeo"
          },
          {
           "geo": "geo",
           "hovertemplate": "<b>%{hovertext}</b><br><br>region=Gauteng<br>time=2023-12-04 18:00<br>temp_f=%{marker.size}<br>lat=%{lat}<br>lon=%{lon}<extra></extra>",
           "hovertext": [
            "South Africa"
           ],
           "lat": [
            -26.2
           ],
           "legendgroup": "Gauteng",
           "lon": [
            28.05
           ],
           "marker": {
            "color": "#FFA15A",
            "size": [
             88.8
            ],
            "sizemode": "area",
            "sizeref": 0.23675000000000002,
            "symbol": "circle"
           },
           "mode": "markers",
           "name": "Gauteng",
           "showlegend": true,
           "type": "scattergeo"
          },
          {
           "geo": "geo",
           "hovertemplate": "<b>%{hovertext}</b><br><br>region=New South Wales<br>time=2023-12-04 18:00<br>temp_f=%{marker.size}<br>lat=%{lat}<br>lon=%{lon}<extra></extra>",
           "hovertext": [
            "Australia"
           ],
           "lat": [
            -33.87
           ],
           "legendgroup": "New South Wales",
           "lon": [
            151.21
           ],
           "marker": {
            "color": "#19d3f3",
            "size": [
             68.3
            ],
            "sizemode": "area",
            "sizeref": 0.23675000000000002,
            "symbol": "circle"
           },
           "mode": "markers",
           "name": "New South Wales",
           "showlegend": true,
           "type": "scattergeo"
          },
          {
           "geo": "geo",
           "hovertemplate": "<b>%{hovertext}</b><br><br>region=Victoria<br>time=2023-12-04 18:00<br>temp_f=%{marker.size}<br>lat=%{lat}<br>lon=%{lon}<extra></extra>",
           "hovertext": [
            "Australia"
           ],
           "lat": [
            -37.81
           ],
           "legendgroup": "Victoria",
           "lon": [
            144.96
           ],
           "marker": {
            "color": "#FF6692",
            "size": [
             81.1
            ],
            "sizemode": "area",
            "sizeref": 0.23675000000000002,
            "symbol": "circle"
           },
           "mode": "markers",
           "name": "Victoria",
           "showlegend": true,
           "type": "scattergeo"
          },
          {
           "geo": "geo",
           "hovertemplate": "<b>%{hovertext}</b><br><br>region=Queensland<br>time=2023-12-04 18:00<br>temp_f=%{marker.size}<br>lat=%{lat}<br>lon=%{lon}<extra></extra>",
           "hovertext": [
            "Australia"
           ],
           "lat": [
            -27.47
           ],
           "legendgroup": "Queensland",
           "lon": [
            153.03
           ],
           "marker": {
            "color": "#B6E880",
            "size": [
             76.5
            ],
            "sizemode": "area",
            "sizeref": 0.23675000000000002,
            "symbol": "circle"
           },
           "mode": "markers",
           "name": "Queensland",
           "showlegend": true,
           "type": "scattergeo"
          }
         ],
         "name": "2023-12-04 18:00"
        },
        {
         "data": [
          {
           "geo": "geo",
           "hovertemplate": "<b>%{hovertext}</b><br><br>region=City of London, Greater London<br>time=2023-12-04 19:00<br>temp_f=%{marker.size}<br>lat=%{lat}<br>lon=%{lon}<extra></extra>",
           "hovertext": [
            "United Kingdom"
           ],
           "lat": [
            51.51
           ],
           "legendgroup": "City of London, Greater London",
           "lon": [
            -0.13
           ],
           "marker": {
            "color": "#FF6692",
            "size": [
             38.3
            ],
            "sizemode": "area",
            "sizeref": 0.23675000000000002,
            "symbol": "circle"
           },
           "mode": "markers",
           "name": "City of London, Greater London",
           "showlegend": true,
           "type": "scattergeo"
          },
          {
           "geo": "geo",
           "hovertemplate": "<b>%{hovertext}</b><br><br>region=Ile-de-France<br>time=2023-12-04 19:00<br>temp_f=%{marker.size}<br>lat=%{lat}<br>lon=%{lon}<extra></extra>",
           "hovertext": [
            "France"
           ],
           "lat": [
            48.86
           ],
           "legendgroup": "Ile-de-France",
           "lon": [
            2.35
           ],
           "marker": {
            "color": "#B6E880",
            "size": [
             44
            ],
            "sizemode": "area",
            "sizeref": 0.23675000000000002,
            "symbol": "circle"
           },
           "mode": "markers",
           "name": "Ile-de-France",
           "showlegend": true,
           "type": "scattergeo"
          },
          {
           "geo": "geo",
           "hovertemplate": "<b>%{hovertext}</b><br><br>region=Berlin<br>time=2023-12-04 19:00<br>temp_f=%{marker.size}<br>lat=%{lat}<br>lon=%{lon}<extra></extra>",
           "hovertext": [
            "Germany"
           ],
           "lat": [
            52.52
           ],
           "legendgroup": "Berlin",
           "lon": [
            13.41
           ],
           "marker": {
            "color": "#FF97FF",
            "size": [
             29.5
            ],
            "sizemode": "area",
            "sizeref": 0.23675000000000002,
            "symbol": "circle"
           },
           "mode": "markers",
           "name": "Berlin",
           "showlegend": true,
           "type": "scattergeo"
          },
          {
           "geo": "geo",
           "hovertemplate": "<b>%{hovertext}</b><br><br>region=Tokyo<br>time=2023-12-04 19:00<br>temp_f=%{marker.size}<br>lat=%{lat}<br>lon=%{lon}<extra></extra>",
           "hovertext": [
            "Japan"
           ],
           "lat": [
            35.68
           ],
           "legendgroup": "Tokyo",
           "lon": [
            139.65
           ],
           "marker": {
            "color": "#FECB52",
            "size": [
             54.9
            ],
            "sizemode": "area",
            "sizeref": 0.23675000000000002,
            "symbol": "circle"
           },
           "mode": "markers",
           "name": "Tokyo",
           "showlegend": true,
           "type": "scattergeo"
          },
          {
           "geo": "geo",
           "hovertemplate": "<b>%{hovertext}</b><br><br>region=Beijing<br>time=2023-12-04 19:00<br>temp_f=%{marker.size}<br>lat=%{lat}<br>lon=%{lon}<extra></extra>",
           "hovertext": [
            "China"
           ],
           "lat": [
            39.9
           ],
           "legendgroup": "Beijing",
           "lon": [
            116.41
           ],
           "marker": {
            "color": "#636efa",
            "size": [
             40.2
            ],
            "sizemode": "area",
            "sizeref": 0.23675000000000002,
            "symbol": "circle"
           },
           "mode": "markers",
           "name": "Beijing",
           "showlegend": true,
           "type": "scattergeo"
          },
          {
           "geo": "geo",
           "hovertemplate": "<b>%{hovertext}</b><br><br>region=Maharashtra<br>time=2023-12-04 19:00<br>temp_f=%{marker.size}<br>lat=%{lat}<br>lon=%{lon}<extra></extra>",
           "hovertext": [
            "India"
           ],
           "lat": [
            19.08
           ],
           "legendgroup": "Maharashtra",
           "lon": [
            72.88
           ],
           "marker": {
            "color": "#EF553B",
            "size": [
             83.3
            ],
            "sizemode": "area",
            "sizeref": 0.23675000000000002,
            "symbol": "circle"
           },
           "mode": "markers",
           "name": "Maharashtra",
           "showlegend": true,
           "type": "scattergeo"
          },
          {
           "geo": "geo",
           "hovertemplate": "<b>%{hovertext}</b><br><br>region=Al Qahirah<br>time=2023-12-04 19:00<br>temp_f=%{marker.size}<br>lat=%{lat}<br>lon=%{lon}<extra></extra>",
           "hovertext": [
            "Egypt"
           ],
           "lat": [
            30.04
           ],
           "legendgroup": "Al Qahirah",
           "lon": [
            31.24
           ],
           "marker": {
            "color": "#00cc96",
            "size": [
             71.7
            ],
            "sizemode": "area",
            "sizeref": 0.23675000000000002,
            "symbol": "circle"
           },
           "mode": "markers",
           "name": "Al Qahirah",
           "showlegend": true,
           "type": "scattergeo"
          },
          {
           "geo": "geo",
           "hovertemplate": "<b>%{hovertext}</b><br><br>region=Lagos<br>time=2023-12-04 19:00<br>temp_f=%{marker.size}<br>lat=%{lat}<br>lon=%{lon}<extra></extra>",
           "hovertext": [
            "Nigeria"
           ],
           "lat": [
            6.52
           ],
           "legendgroup": "Lagos",
           "lon": [
            3.38
           ],
           "marker": {
            "color": "#ab63fa",
            "size": [
             84.4
            ],
            "sizemode": "area",
            "sizeref": 0.23675000000000002,
            "symbol": "circle"
           },
           "mode": "markers",
           "name": "Lagos",
           "showlegend": true,
           "type": "scattergeo"
          },
          {
           "geo": "geo",
           "hovertemplate": "<b>%{hovertext}</b><br><br>region=Gauteng<br>time=2023-12-04 19:00<br>temp_f=%{marker.size}<br>lat=%{lat}<br>lon=%{lon}<extra></extra>",
           "hovertext": [
            "South Africa"
           ],
           "lat": [
            -26.2
           ],
           "legendgroup": "Gauteng",
           "lon": [
            28.05
           ],
           "marker": {
            "color": "#FFA15A",
            "size": [
             86
            ],
            "sizemode": "area",
            "sizeref": 0.23675000000000002,
            "symbol": "circle"
           },
           "mode": "markers",
           "name": "Gauteng",
           "showlegend": true,
           "type": "scattergeo"
          },
          {
           "geo": "geo",
           "hovertemplate": "<b>%{hovertext}</b><br><br>region=New South Wales<br>time=2023-12-04 19:00<br>temp_f=%{marker.size}<br>lat=%{lat}<br>lon=%{lon}<extra></extra>",
           "hovertext": [
            "Australia"
           ],
           "lat": [
            -33.87
           ],
           "legendgroup": "New South Wales",
           "lon": [
            151.21
           ],
           "marker": {
            "color": "#19d3f3",
            "size": [
             66.8
            ],
            "sizemode": "area",
            "sizeref": 0.23675000000000002,
            "symbol": "circle"
           },
           "mode": "markers",
           "name": "New South Wales",
           "showlegend": true,
           "type": "scattergeo"
          },
          {
           "geo": "geo",
           "hovertemplate": "<b>%{hovertext}</b><br><br>region=Victoria<br>time=2023-12-04 19:00<br>temp_f=%{marker.size}<br>lat=%{lat}<br>lon=%{lon}<extra></extra>",
           "hovertext": [
            "Australia"
           ],
           "lat": [
            -37.81
           ],
           "legendgroup": "Victoria",
           "lon": [
            144.96
           ],
           "marker": {
            "color": "#FF6692",
            "size": [
             77.2
            ],
            "sizemode": "area",
            "sizeref": 0.23675000000000002,
            "symbol": "circle"
           },
           "mode": "markers",
           "name": "Victoria",
           "showlegend": true,
           "type": "scattergeo"
          },
          {
           "geo": "geo",
           "hovertemplate": "<b>%{hovertext}</b><br><br>region=Queensland<br>time=2023-12-04 19:00<br>temp_f=%{marker.size}<br>lat=%{lat}<br>lon=%{lon}<extra></extra>",
           "hovertext": [
            "Australia"
           ],
           "lat": [
            -27.47
           ],
           "legendgroup": "Queensland",
           "lon": [
            153.03
           ],
           "marker": {
            "color": "#B6E880",
            "size": [
             74.9
            ],
            "sizemode": "area",
            "sizeref": 0.23675000000000002,
            "symbol": "circle"
           },
           "mode": "markers",
           "name": "Queensland",
           "showlegend": true,
           "type": "scattergeo"
          }
         ],
         "name": "2023-12-04 19:00"
        },
        {
         "data": [
          {
           "geo": "geo",
           "hovertemplate": "<b>%{hovertext}</b><br><br>region=City of London, Greater London<br>time=2023-12-04 20:00<br>temp_f=%{marker.size}<br>lat=%{lat}<br>lon=%{lon}<extra></extra>",
           "hovertext": [
            "United Kingdom"
           ],
           "lat": [
            51.51
           ],
           "legendgroup": "City of London, Greater London",
           "lon": [
            -0.13
           ],
           "marker": {
            "color": "#FF6692",
            "size": [
             39
            ],
            "sizemode": "area",
            "sizeref": 0.23675000000000002,
            "symbol": "circle"
           },
           "mode": "markers",
           "name": "City of London, Greater London",
           "showlegend": true,
           "type": "scattergeo"
          },
          {
           "geo": "geo",
           "hovertemplate": "<b>%{hovertext}</b><br><br>region=Ile-de-France<br>time=2023-12-04 20:00<br>temp_f=%{marker.size}<br>lat=%{lat}<br>lon=%{lon}<extra></extra>",
           "hovertext": [
            "France"
           ],
           "lat": [
            48.86
           ],
           "legendgroup": "Ile-de-France",
           "lon": [
            2.35
           ],
           "marker": {
            "color": "#B6E880",
            "size": [
             43.3
            ],
            "sizemode": "area",
            "sizeref": 0.23675000000000002,
            "symbol": "circle"
           },
           "mode": "markers",
           "name": "Ile-de-France",
           "showlegend": true,
           "type": "scattergeo"
          },
          {
           "geo": "geo",
           "hovertemplate": "<b>%{hovertext}</b><br><br>region=Berlin<br>time=2023-12-04 20:00<br>temp_f=%{marker.size}<br>lat=%{lat}<br>lon=%{lon}<extra></extra>",
           "hovertext": [
            "Germany"
           ],
           "lat": [
            52.52
           ],
           "legendgroup": "Berlin",
           "lon": [
            13.41
           ],
           "marker": {
            "color": "#FF97FF",
            "size": [
             29.3
            ],
            "sizemode": "area",
            "sizeref": 0.23675000000000002,
            "symbol": "circle"
           },
           "mode": "markers",
           "name": "Berlin",
           "showlegend": true,
           "type": "scattergeo"
          },
          {
           "geo": "geo",
           "hovertemplate": "<b>%{hovertext}</b><br><br>region=Tokyo<br>time=2023-12-04 20:00<br>temp_f=%{marker.size}<br>lat=%{lat}<br>lon=%{lon}<extra></extra>",
           "hovertext": [
            "Japan"
           ],
           "lat": [
            35.68
           ],
           "legendgroup": "Tokyo",
           "lon": [
            139.65
           ],
           "marker": {
            "color": "#FECB52",
            "size": [
             54.6
            ],
            "sizemode": "area",
            "sizeref": 0.23675000000000002,
            "symbol": "circle"
           },
           "mode": "markers",
           "name": "Tokyo",
           "showlegend": true,
           "type": "scattergeo"
          },
          {
           "geo": "geo",
           "hovertemplate": "<b>%{hovertext}</b><br><br>region=Beijing<br>time=2023-12-04 20:00<br>temp_f=%{marker.size}<br>lat=%{lat}<br>lon=%{lon}<extra></extra>",
           "hovertext": [
            "China"
           ],
           "lat": [
            39.9
           ],
           "legendgroup": "Beijing",
           "lon": [
            116.41
           ],
           "marker": {
            "color": "#636efa",
            "size": [
             39.6
            ],
            "sizemode": "area",
            "sizeref": 0.23675000000000002,
            "symbol": "circle"
           },
           "mode": "markers",
           "name": "Beijing",
           "showlegend": true,
           "type": "scattergeo"
          },
          {
           "geo": "geo",
           "hovertemplate": "<b>%{hovertext}</b><br><br>region=Maharashtra<br>time=2023-12-04 20:00<br>temp_f=%{marker.size}<br>lat=%{lat}<br>lon=%{lon}<extra></extra>",
           "hovertext": [
            "India"
           ],
           "lat": [
            19.08
           ],
           "legendgroup": "Maharashtra",
           "lon": [
            72.88
           ],
           "marker": {
            "color": "#EF553B",
            "size": [
             82.9
            ],
            "sizemode": "area",
            "sizeref": 0.23675000000000002,
            "symbol": "circle"
           },
           "mode": "markers",
           "name": "Maharashtra",
           "showlegend": true,
           "type": "scattergeo"
          },
          {
           "geo": "geo",
           "hovertemplate": "<b>%{hovertext}</b><br><br>region=Al Qahirah<br>time=2023-12-04 20:00<br>temp_f=%{marker.size}<br>lat=%{lat}<br>lon=%{lon}<extra></extra>",
           "hovertext": [
            "Egypt"
           ],
           "lat": [
            30.04
           ],
           "legendgroup": "Al Qahirah",
           "lon": [
            31.24
           ],
           "marker": {
            "color": "#00cc96",
            "size": [
             69.9
            ],
            "sizemode": "area",
            "sizeref": 0.23675000000000002,
            "symbol": "circle"
           },
           "mode": "markers",
           "name": "Al Qahirah",
           "showlegend": true,
           "type": "scattergeo"
          },
          {
           "geo": "geo",
           "hovertemplate": "<b>%{hovertext}</b><br><br>region=Lagos<br>time=2023-12-04 20:00<br>temp_f=%{marker.size}<br>lat=%{lat}<br>lon=%{lon}<extra></extra>",
           "hovertext": [
            "Nigeria"
           ],
           "lat": [
            6.52
           ],
           "legendgroup": "Lagos",
           "lon": [
            3.38
           ],
           "marker": {
            "color": "#ab63fa",
            "size": [
             84
            ],
            "sizemode": "area",
            "sizeref": 0.23675000000000002,
            "symbol": "circle"
           },
           "mode": "markers",
           "name": "Lagos",
           "showlegend": true,
           "type": "scattergeo"
          },
          {
           "geo": "geo",
           "hovertemplate": "<b>%{hovertext}</b><br><br>region=Gauteng<br>time=2023-12-04 20:00<br>temp_f=%{marker.size}<br>lat=%{lat}<br>lon=%{lon}<extra></extra>",
           "hovertext": [
            "South Africa"
           ],
           "lat": [
            -26.2
           ],
           "legendgroup": "Gauteng",
           "lon": [
            28.05
           ],
           "marker": {
            "color": "#FFA15A",
            "size": [
             84.3
            ],
            "sizemode": "area",
            "sizeref": 0.23675000000000002,
            "symbol": "circle"
           },
           "mode": "markers",
           "name": "Gauteng",
           "showlegend": true,
           "type": "scattergeo"
          },
          {
           "geo": "geo",
           "hovertemplate": "<b>%{hovertext}</b><br><br>region=New South Wales<br>time=2023-12-04 20:00<br>temp_f=%{marker.size}<br>lat=%{lat}<br>lon=%{lon}<extra></extra>",
           "hovertext": [
            "Australia"
           ],
           "lat": [
            -33.87
           ],
           "legendgroup": "New South Wales",
           "lon": [
            151.21
           ],
           "marker": {
            "color": "#19d3f3",
            "size": [
             66.3
            ],
            "sizemode": "area",
            "sizeref": 0.23675000000000002,
            "symbol": "circle"
           },
           "mode": "markers",
           "name": "New South Wales",
           "showlegend": true,
           "type": "scattergeo"
          },
          {
           "geo": "geo",
           "hovertemplate": "<b>%{hovertext}</b><br><br>region=Victoria<br>time=2023-12-04 20:00<br>temp_f=%{marker.size}<br>lat=%{lat}<br>lon=%{lon}<extra></extra>",
           "hovertext": [
            "Australia"
           ],
           "lat": [
            -37.81
           ],
           "legendgroup": "Victoria",
           "lon": [
            144.96
           ],
           "marker": {
            "color": "#FF6692",
            "size": [
             74.7
            ],
            "sizemode": "area",
            "sizeref": 0.23675000000000002,
            "symbol": "circle"
           },
           "mode": "markers",
           "name": "Victoria",
           "showlegend": true,
           "type": "scattergeo"
          },
          {
           "geo": "geo",
           "hovertemplate": "<b>%{hovertext}</b><br><br>region=Queensland<br>time=2023-12-04 20:00<br>temp_f=%{marker.size}<br>lat=%{lat}<br>lon=%{lon}<extra></extra>",
           "hovertext": [
            "Australia"
           ],
           "lat": [
            -27.47
           ],
           "legendgroup": "Queensland",
           "lon": [
            153.03
           ],
           "marker": {
            "color": "#B6E880",
            "size": [
             74.3
            ],
            "sizemode": "area",
            "sizeref": 0.23675000000000002,
            "symbol": "circle"
           },
           "mode": "markers",
           "name": "Queensland",
           "showlegend": true,
           "type": "scattergeo"
          }
         ],
         "name": "2023-12-04 20:00"
        },
        {
         "data": [
          {
           "geo": "geo",
           "hovertemplate": "<b>%{hovertext}</b><br><br>region=City of London, Greater London<br>time=2023-12-04 21:00<br>temp_f=%{marker.size}<br>lat=%{lat}<br>lon=%{lon}<extra></extra>",
           "hovertext": [
            "United Kingdom"
           ],
           "lat": [
            51.51
           ],
           "legendgroup": "City of London, Greater London",
           "lon": [
            -0.13
           ],
           "marker": {
            "color": "#FF6692",
            "size": [
             38.9
            ],
            "sizemode": "area",
            "sizeref": 0.23675000000000002,
            "symbol": "circle"
           },
           "mode": "markers",
           "name": "City of London, Greater London",
           "showlegend": true,
           "type": "scattergeo"
          },
          {
           "geo": "geo",
           "hovertemplate": "<b>%{hovertext}</b><br><br>region=Ile-de-France<br>time=2023-12-04 21:00<br>temp_f=%{marker.size}<br>lat=%{lat}<br>lon=%{lon}<extra></extra>",
           "hovertext": [
            "France"
           ],
           "lat": [
            48.86
           ],
           "legendgroup": "Ile-de-France",
           "lon": [
            2.35
           ],
           "marker": {
            "color": "#B6E880",
            "size": [
             42.9
            ],
            "sizemode": "area",
            "sizeref": 0.23675000000000002,
            "symbol": "circle"
           },
           "mode": "markers",
           "name": "Ile-de-France",
           "showlegend": true,
           "type": "scattergeo"
          },
          {
           "geo": "geo",
           "hovertemplate": "<b>%{hovertext}</b><br><br>region=Berlin<br>time=2023-12-04 21:00<br>temp_f=%{marker.size}<br>lat=%{lat}<br>lon=%{lon}<extra></extra>",
           "hovertext": [
            "Germany"
           ],
           "lat": [
            52.52
           ],
           "legendgroup": "Berlin",
           "lon": [
            13.41
           ],
           "marker": {
            "color": "#FF97FF",
            "size": [
             28.9
            ],
            "sizemode": "area",
            "sizeref": 0.23675000000000002,
            "symbol": "circle"
           },
           "mode": "markers",
           "name": "Berlin",
           "showlegend": true,
           "type": "scattergeo"
          },
          {
           "geo": "geo",
           "hovertemplate": "<b>%{hovertext}</b><br><br>region=Tokyo<br>time=2023-12-04 21:00<br>temp_f=%{marker.size}<br>lat=%{lat}<br>lon=%{lon}<extra></extra>",
           "hovertext": [
            "Japan"
           ],
           "lat": [
            35.68
           ],
           "legendgroup": "Tokyo",
           "lon": [
            139.65
           ],
           "marker": {
            "color": "#FECB52",
            "size": [
             54.8
            ],
            "sizemode": "area",
            "sizeref": 0.23675000000000002,
            "symbol": "circle"
           },
           "mode": "markers",
           "name": "Tokyo",
           "showlegend": true,
           "type": "scattergeo"
          },
          {
           "geo": "geo",
           "hovertemplate": "<b>%{hovertext}</b><br><br>region=Beijing<br>time=2023-12-04 21:00<br>temp_f=%{marker.size}<br>lat=%{lat}<br>lon=%{lon}<extra></extra>",
           "hovertext": [
            "China"
           ],
           "lat": [
            39.9
           ],
           "legendgroup": "Beijing",
           "lon": [
            116.41
           ],
           "marker": {
            "color": "#636efa",
            "size": [
             39
            ],
            "sizemode": "area",
            "sizeref": 0.23675000000000002,
            "symbol": "circle"
           },
           "mode": "markers",
           "name": "Beijing",
           "showlegend": true,
           "type": "scattergeo"
          },
          {
           "geo": "geo",
           "hovertemplate": "<b>%{hovertext}</b><br><br>region=Maharashtra<br>time=2023-12-04 21:00<br>temp_f=%{marker.size}<br>lat=%{lat}<br>lon=%{lon}<extra></extra>",
           "hovertext": [
            "India"
           ],
           "lat": [
            19.08
           ],
           "legendgroup": "Maharashtra",
           "lon": [
            72.88
           ],
           "marker": {
            "color": "#EF553B",
            "size": [
             82.4
            ],
            "sizemode": "area",
            "sizeref": 0.23675000000000002,
            "symbol": "circle"
           },
           "mode": "markers",
           "name": "Maharashtra",
           "showlegend": true,
           "type": "scattergeo"
          },
          {
           "geo": "geo",
           "hovertemplate": "<b>%{hovertext}</b><br><br>region=Al Qahirah<br>time=2023-12-04 21:00<br>temp_f=%{marker.size}<br>lat=%{lat}<br>lon=%{lon}<extra></extra>",
           "hovertext": [
            "Egypt"
           ],
           "lat": [
            30.04
           ],
           "legendgroup": "Al Qahirah",
           "lon": [
            31.24
           ],
           "marker": {
            "color": "#00cc96",
            "size": [
             67.5
            ],
            "sizemode": "area",
            "sizeref": 0.23675000000000002,
            "symbol": "circle"
           },
           "mode": "markers",
           "name": "Al Qahirah",
           "showlegend": true,
           "type": "scattergeo"
          },
          {
           "geo": "geo",
           "hovertemplate": "<b>%{hovertext}</b><br><br>region=Lagos<br>time=2023-12-04 21:00<br>temp_f=%{marker.size}<br>lat=%{lat}<br>lon=%{lon}<extra></extra>",
           "hovertext": [
            "Nigeria"
           ],
           "lat": [
            6.52
           ],
           "legendgroup": "Lagos",
           "lon": [
            3.38
           ],
           "marker": {
            "color": "#ab63fa",
            "size": [
             84.2
            ],
            "sizemode": "area",
            "sizeref": 0.23675000000000002,
            "symbol": "circle"
           },
           "mode": "markers",
           "name": "Lagos",
           "showlegend": true,
           "type": "scattergeo"
          },
          {
           "geo": "geo",
           "hovertemplate": "<b>%{hovertext}</b><br><br>region=Gauteng<br>time=2023-12-04 21:00<br>temp_f=%{marker.size}<br>lat=%{lat}<br>lon=%{lon}<extra></extra>",
           "hovertext": [
            "South Africa"
           ],
           "lat": [
            -26.2
           ],
           "legendgroup": "Gauteng",
           "lon": [
            28.05
           ],
           "marker": {
            "color": "#FFA15A",
            "size": [
             83.3
            ],
            "sizemode": "area",
            "sizeref": 0.23675000000000002,
            "symbol": "circle"
           },
           "mode": "markers",
           "name": "Gauteng",
           "showlegend": true,
           "type": "scattergeo"
          },
          {
           "geo": "geo",
           "hovertemplate": "<b>%{hovertext}</b><br><br>region=New South Wales<br>time=2023-12-04 21:00<br>temp_f=%{marker.size}<br>lat=%{lat}<br>lon=%{lon}<extra></extra>",
           "hovertext": [
            "Australia"
           ],
           "lat": [
            -33.87
           ],
           "legendgroup": "New South Wales",
           "lon": [
            151.21
           ],
           "marker": {
            "color": "#19d3f3",
            "size": [
             66
            ],
            "sizemode": "area",
            "sizeref": 0.23675000000000002,
            "symbol": "circle"
           },
           "mode": "markers",
           "name": "New South Wales",
           "showlegend": true,
           "type": "scattergeo"
          },
          {
           "geo": "geo",
           "hovertemplate": "<b>%{hovertext}</b><br><br>region=Victoria<br>time=2023-12-04 21:00<br>temp_f=%{marker.size}<br>lat=%{lat}<br>lon=%{lon}<extra></extra>",
           "hovertext": [
            "Australia"
           ],
           "lat": [
            -37.81
           ],
           "legendgroup": "Victoria",
           "lon": [
            144.96
           ],
           "marker": {
            "color": "#FF6692",
            "size": [
             72.3
            ],
            "sizemode": "area",
            "sizeref": 0.23675000000000002,
            "symbol": "circle"
           },
           "mode": "markers",
           "name": "Victoria",
           "showlegend": true,
           "type": "scattergeo"
          },
          {
           "geo": "geo",
           "hovertemplate": "<b>%{hovertext}</b><br><br>region=Queensland<br>time=2023-12-04 21:00<br>temp_f=%{marker.size}<br>lat=%{lat}<br>lon=%{lon}<extra></extra>",
           "hovertext": [
            "Australia"
           ],
           "lat": [
            -27.47
           ],
           "legendgroup": "Queensland",
           "lon": [
            153.03
           ],
           "marker": {
            "color": "#B6E880",
            "size": [
             73.8
            ],
            "sizemode": "area",
            "sizeref": 0.23675000000000002,
            "symbol": "circle"
           },
           "mode": "markers",
           "name": "Queensland",
           "showlegend": true,
           "type": "scattergeo"
          }
         ],
         "name": "2023-12-04 21:00"
        },
        {
         "data": [
          {
           "geo": "geo",
           "hovertemplate": "<b>%{hovertext}</b><br><br>region=City of London, Greater London<br>time=2023-12-04 22:00<br>temp_f=%{marker.size}<br>lat=%{lat}<br>lon=%{lon}<extra></extra>",
           "hovertext": [
            "United Kingdom"
           ],
           "lat": [
            51.51
           ],
           "legendgroup": "City of London, Greater London",
           "lon": [
            -0.13
           ],
           "marker": {
            "color": "#FF6692",
            "size": [
             39
            ],
            "sizemode": "area",
            "sizeref": 0.23675000000000002,
            "symbol": "circle"
           },
           "mode": "markers",
           "name": "City of London, Greater London",
           "showlegend": true,
           "type": "scattergeo"
          },
          {
           "geo": "geo",
           "hovertemplate": "<b>%{hovertext}</b><br><br>region=Ile-de-France<br>time=2023-12-04 22:00<br>temp_f=%{marker.size}<br>lat=%{lat}<br>lon=%{lon}<extra></extra>",
           "hovertext": [
            "France"
           ],
           "lat": [
            48.86
           ],
           "legendgroup": "Ile-de-France",
           "lon": [
            2.35
           ],
           "marker": {
            "color": "#B6E880",
            "size": [
             43
            ],
            "sizemode": "area",
            "sizeref": 0.23675000000000002,
            "symbol": "circle"
           },
           "mode": "markers",
           "name": "Ile-de-France",
           "showlegend": true,
           "type": "scattergeo"
          },
          {
           "geo": "geo",
           "hovertemplate": "<b>%{hovertext}</b><br><br>region=Berlin<br>time=2023-12-04 22:00<br>temp_f=%{marker.size}<br>lat=%{lat}<br>lon=%{lon}<extra></extra>",
           "hovertext": [
            "Germany"
           ],
           "lat": [
            52.52
           ],
           "legendgroup": "Berlin",
           "lon": [
            13.41
           ],
           "marker": {
            "color": "#FF97FF",
            "size": [
             28
            ],
            "sizemode": "area",
            "sizeref": 0.23675000000000002,
            "symbol": "circle"
           },
           "mode": "markers",
           "name": "Berlin",
           "showlegend": true,
           "type": "scattergeo"
          },
          {
           "geo": "geo",
           "hovertemplate": "<b>%{hovertext}</b><br><br>region=Tokyo<br>time=2023-12-04 22:00<br>temp_f=%{marker.size}<br>lat=%{lat}<br>lon=%{lon}<extra></extra>",
           "hovertext": [
            "Japan"
           ],
           "lat": [
            35.68
           ],
           "legendgroup": "Tokyo",
           "lon": [
            139.65
           ],
           "marker": {
            "color": "#FECB52",
            "size": [
             54.8
            ],
            "sizemode": "area",
            "sizeref": 0.23675000000000002,
            "symbol": "circle"
           },
           "mode": "markers",
           "name": "Tokyo",
           "showlegend": true,
           "type": "scattergeo"
          },
          {
           "geo": "geo",
           "hovertemplate": "<b>%{hovertext}</b><br><br>region=Beijing<br>time=2023-12-04 22:00<br>temp_f=%{marker.size}<br>lat=%{lat}<br>lon=%{lon}<extra></extra>",
           "hovertext": [
            "China"
           ],
           "lat": [
            39.9
           ],
           "legendgroup": "Beijing",
           "lon": [
            116.41
           ],
           "marker": {
            "color": "#636efa",
            "size": [
             38.4
            ],
            "sizemode": "area",
            "sizeref": 0.23675000000000002,
            "symbol": "circle"
           },
           "mode": "markers",
           "name": "Beijing",
           "showlegend": true,
           "type": "scattergeo"
          },
          {
           "geo": "geo",
           "hovertemplate": "<b>%{hovertext}</b><br><br>region=Maharashtra<br>time=2023-12-04 22:00<br>temp_f=%{marker.size}<br>lat=%{lat}<br>lon=%{lon}<extra></extra>",
           "hovertext": [
            "India"
           ],
           "lat": [
            19.08
           ],
           "legendgroup": "Maharashtra",
           "lon": [
            72.88
           ],
           "marker": {
            "color": "#EF553B",
            "size": [
             82.1
            ],
            "sizemode": "area",
            "sizeref": 0.23675000000000002,
            "symbol": "circle"
           },
           "mode": "markers",
           "name": "Maharashtra",
           "showlegend": true,
           "type": "scattergeo"
          },
          {
           "geo": "geo",
           "hovertemplate": "<b>%{hovertext}</b><br><br>region=Al Qahirah<br>time=2023-12-04 22:00<br>temp_f=%{marker.size}<br>lat=%{lat}<br>lon=%{lon}<extra></extra>",
           "hovertext": [
            "Egypt"
           ],
           "lat": [
            30.04
           ],
           "legendgroup": "Al Qahirah",
           "lon": [
            31.24
           ],
           "marker": {
            "color": "#00cc96",
            "size": [
             66.3
            ],
            "sizemode": "area",
            "sizeref": 0.23675000000000002,
            "symbol": "circle"
           },
           "mode": "markers",
           "name": "Al Qahirah",
           "showlegend": true,
           "type": "scattergeo"
          },
          {
           "geo": "geo",
           "hovertemplate": "<b>%{hovertext}</b><br><br>region=Lagos<br>time=2023-12-04 22:00<br>temp_f=%{marker.size}<br>lat=%{lat}<br>lon=%{lon}<extra></extra>",
           "hovertext": [
            "Nigeria"
           ],
           "lat": [
            6.52
           ],
           "legendgroup": "Lagos",
           "lon": [
            3.38
           ],
           "marker": {
            "color": "#ab63fa",
            "size": [
             84
            ],
            "sizemode": "area",
            "sizeref": 0.23675000000000002,
            "symbol": "circle"
           },
           "mode": "markers",
           "name": "Lagos",
           "showlegend": true,
           "type": "scattergeo"
          },
          {
           "geo": "geo",
           "hovertemplate": "<b>%{hovertext}</b><br><br>region=Gauteng<br>time=2023-12-04 22:00<br>temp_f=%{marker.size}<br>lat=%{lat}<br>lon=%{lon}<extra></extra>",
           "hovertext": [
            "South Africa"
           ],
           "lat": [
            -26.2
           ],
           "legendgroup": "Gauteng",
           "lon": [
            28.05
           ],
           "marker": {
            "color": "#FFA15A",
            "size": [
             82
            ],
            "sizemode": "area",
            "sizeref": 0.23675000000000002,
            "symbol": "circle"
           },
           "mode": "markers",
           "name": "Gauteng",
           "showlegend": true,
           "type": "scattergeo"
          },
          {
           "geo": "geo",
           "hovertemplate": "<b>%{hovertext}</b><br><br>region=New South Wales<br>time=2023-12-04 22:00<br>temp_f=%{marker.size}<br>lat=%{lat}<br>lon=%{lon}<extra></extra>",
           "hovertext": [
            "Australia"
           ],
           "lat": [
            -33.87
           ],
           "legendgroup": "New South Wales",
           "lon": [
            151.21
           ],
           "marker": {
            "color": "#19d3f3",
            "size": [
             65.6
            ],
            "sizemode": "area",
            "sizeref": 0.23675000000000002,
            "symbol": "circle"
           },
           "mode": "markers",
           "name": "New South Wales",
           "showlegend": true,
           "type": "scattergeo"
          },
          {
           "geo": "geo",
           "hovertemplate": "<b>%{hovertext}</b><br><br>region=Victoria<br>time=2023-12-04 22:00<br>temp_f=%{marker.size}<br>lat=%{lat}<br>lon=%{lon}<extra></extra>",
           "hovertext": [
            "Australia"
           ],
           "lat": [
            -37.81
           ],
           "legendgroup": "Victoria",
           "lon": [
            144.96
           ],
           "marker": {
            "color": "#FF6692",
            "size": [
             69.8
            ],
            "sizemode": "area",
            "sizeref": 0.23675000000000002,
            "symbol": "circle"
           },
           "mode": "markers",
           "name": "Victoria",
           "showlegend": true,
           "type": "scattergeo"
          },
          {
           "geo": "geo",
           "hovertemplate": "<b>%{hovertext}</b><br><br>region=Queensland<br>time=2023-12-04 22:00<br>temp_f=%{marker.size}<br>lat=%{lat}<br>lon=%{lon}<extra></extra>",
           "hovertext": [
            "Australia"
           ],
           "lat": [
            -27.47
           ],
           "legendgroup": "Queensland",
           "lon": [
            153.03
           ],
           "marker": {
            "color": "#B6E880",
            "size": [
             72.9
            ],
            "sizemode": "area",
            "sizeref": 0.23675000000000002,
            "symbol": "circle"
           },
           "mode": "markers",
           "name": "Queensland",
           "showlegend": true,
           "type": "scattergeo"
          }
         ],
         "name": "2023-12-04 22:00"
        },
        {
         "data": [
          {
           "geo": "geo",
           "hovertemplate": "<b>%{hovertext}</b><br><br>region=City of London, Greater London<br>time=2023-12-04 23:00<br>temp_f=%{marker.size}<br>lat=%{lat}<br>lon=%{lon}<extra></extra>",
           "hovertext": [
            "United Kingdom"
           ],
           "lat": [
            51.51
           ],
           "legendgroup": "City of London, Greater London",
           "lon": [
            -0.13
           ],
           "marker": {
            "color": "#FF6692",
            "size": [
             39.3
            ],
            "sizemode": "area",
            "sizeref": 0.23675000000000002,
            "symbol": "circle"
           },
           "mode": "markers",
           "name": "City of London, Greater London",
           "showlegend": true,
           "type": "scattergeo"
          },
          {
           "geo": "geo",
           "hovertemplate": "<b>%{hovertext}</b><br><br>region=Ile-de-France<br>time=2023-12-04 23:00<br>temp_f=%{marker.size}<br>lat=%{lat}<br>lon=%{lon}<extra></extra>",
           "hovertext": [
            "France"
           ],
           "lat": [
            48.86
           ],
           "legendgroup": "Ile-de-France",
           "lon": [
            2.35
           ],
           "marker": {
            "color": "#B6E880",
            "size": [
             42.1
            ],
            "sizemode": "area",
            "sizeref": 0.23675000000000002,
            "symbol": "circle"
           },
           "mode": "markers",
           "name": "Ile-de-France",
           "showlegend": true,
           "type": "scattergeo"
          },
          {
           "geo": "geo",
           "hovertemplate": "<b>%{hovertext}</b><br><br>region=Berlin<br>time=2023-12-04 23:00<br>temp_f=%{marker.size}<br>lat=%{lat}<br>lon=%{lon}<extra></extra>",
           "hovertext": [
            "Germany"
           ],
           "lat": [
            52.52
           ],
           "legendgroup": "Berlin",
           "lon": [
            13.41
           ],
           "marker": {
            "color": "#FF97FF",
            "size": [
             28.4
            ],
            "sizemode": "area",
            "sizeref": 0.23675000000000002,
            "symbol": "circle"
           },
           "mode": "markers",
           "name": "Berlin",
           "showlegend": true,
           "type": "scattergeo"
          },
          {
           "geo": "geo",
           "hovertemplate": "<b>%{hovertext}</b><br><br>region=Tokyo<br>time=2023-12-04 23:00<br>temp_f=%{marker.size}<br>lat=%{lat}<br>lon=%{lon}<extra></extra>",
           "hovertext": [
            "Japan"
           ],
           "lat": [
            35.68
           ],
           "legendgroup": "Tokyo",
           "lon": [
            139.65
           ],
           "marker": {
            "color": "#FECB52",
            "size": [
             54.7
            ],
            "sizemode": "area",
            "sizeref": 0.23675000000000002,
            "symbol": "circle"
           },
           "mode": "markers",
           "name": "Tokyo",
           "showlegend": true,
           "type": "scattergeo"
          },
          {
           "geo": "geo",
           "hovertemplate": "<b>%{hovertext}</b><br><br>region=Beijing<br>time=2023-12-04 23:00<br>temp_f=%{marker.size}<br>lat=%{lat}<br>lon=%{lon}<extra></extra>",
           "hovertext": [
            "China"
           ],
           "lat": [
            39.9
           ],
           "legendgroup": "Beijing",
           "lon": [
            116.41
           ],
           "marker": {
            "color": "#636efa",
            "size": [
             37.7
            ],
            "sizemode": "area",
            "sizeref": 0.23675000000000002,
            "symbol": "circle"
           },
           "mode": "markers",
           "name": "Beijing",
           "showlegend": true,
           "type": "scattergeo"
          },
          {
           "geo": "geo",
           "hovertemplate": "<b>%{hovertext}</b><br><br>region=Maharashtra<br>time=2023-12-04 23:00<br>temp_f=%{marker.size}<br>lat=%{lat}<br>lon=%{lon}<extra></extra>",
           "hovertext": [
            "India"
           ],
           "lat": [
            19.08
           ],
           "legendgroup": "Maharashtra",
           "lon": [
            72.88
           ],
           "marker": {
            "color": "#EF553B",
            "size": [
             81.8
            ],
            "sizemode": "area",
            "sizeref": 0.23675000000000002,
            "symbol": "circle"
           },
           "mode": "markers",
           "name": "Maharashtra",
           "showlegend": true,
           "type": "scattergeo"
          },
          {
           "geo": "geo",
           "hovertemplate": "<b>%{hovertext}</b><br><br>region=Al Qahirah<br>time=2023-12-04 23:00<br>temp_f=%{marker.size}<br>lat=%{lat}<br>lon=%{lon}<extra></extra>",
           "hovertext": [
            "Egypt"
           ],
           "lat": [
            30.04
           ],
           "legendgroup": "Al Qahirah",
           "lon": [
            31.24
           ],
           "marker": {
            "color": "#00cc96",
            "size": [
             65.4
            ],
            "sizemode": "area",
            "sizeref": 0.23675000000000002,
            "symbol": "circle"
           },
           "mode": "markers",
           "name": "Al Qahirah",
           "showlegend": true,
           "type": "scattergeo"
          },
          {
           "geo": "geo",
           "hovertemplate": "<b>%{hovertext}</b><br><br>region=Lagos<br>time=2023-12-04 23:00<br>temp_f=%{marker.size}<br>lat=%{lat}<br>lon=%{lon}<extra></extra>",
           "hovertext": [
            "Nigeria"
           ],
           "lat": [
            6.52
           ],
           "legendgroup": "Lagos",
           "lon": [
            3.38
           ],
           "marker": {
            "color": "#ab63fa",
            "size": [
             83.6
            ],
            "sizemode": "area",
            "sizeref": 0.23675000000000002,
            "symbol": "circle"
           },
           "mode": "markers",
           "name": "Lagos",
           "showlegend": true,
           "type": "scattergeo"
          },
          {
           "geo": "geo",
           "hovertemplate": "<b>%{hovertext}</b><br><br>region=Gauteng<br>time=2023-12-04 23:00<br>temp_f=%{marker.size}<br>lat=%{lat}<br>lon=%{lon}<extra></extra>",
           "hovertext": [
            "South Africa"
           ],
           "lat": [
            -26.2
           ],
           "legendgroup": "Gauteng",
           "lon": [
            28.05
           ],
           "marker": {
            "color": "#FFA15A",
            "size": [
             78.2
            ],
            "sizemode": "area",
            "sizeref": 0.23675000000000002,
            "symbol": "circle"
           },
           "mode": "markers",
           "name": "Gauteng",
           "showlegend": true,
           "type": "scattergeo"
          },
          {
           "geo": "geo",
           "hovertemplate": "<b>%{hovertext}</b><br><br>region=New South Wales<br>time=2023-12-04 23:00<br>temp_f=%{marker.size}<br>lat=%{lat}<br>lon=%{lon}<extra></extra>",
           "hovertext": [
            "Australia"
           ],
           "lat": [
            -33.87
           ],
           "legendgroup": "New South Wales",
           "lon": [
            151.21
           ],
           "marker": {
            "color": "#19d3f3",
            "size": [
             65.1
            ],
            "sizemode": "area",
            "sizeref": 0.23675000000000002,
            "symbol": "circle"
           },
           "mode": "markers",
           "name": "New South Wales",
           "showlegend": true,
           "type": "scattergeo"
          },
          {
           "geo": "geo",
           "hovertemplate": "<b>%{hovertext}</b><br><br>region=Victoria<br>time=2023-12-04 23:00<br>temp_f=%{marker.size}<br>lat=%{lat}<br>lon=%{lon}<extra></extra>",
           "hovertext": [
            "Australia"
           ],
           "lat": [
            -37.81
           ],
           "legendgroup": "Victoria",
           "lon": [
            144.96
           ],
           "marker": {
            "color": "#FF6692",
            "size": [
             67.3
            ],
            "sizemode": "area",
            "sizeref": 0.23675000000000002,
            "symbol": "circle"
           },
           "mode": "markers",
           "name": "Victoria",
           "showlegend": true,
           "type": "scattergeo"
          },
          {
           "geo": "geo",
           "hovertemplate": "<b>%{hovertext}</b><br><br>region=Queensland<br>time=2023-12-04 23:00<br>temp_f=%{marker.size}<br>lat=%{lat}<br>lon=%{lon}<extra></extra>",
           "hovertext": [
            "Australia"
           ],
           "lat": [
            -27.47
           ],
           "legendgroup": "Queensland",
           "lon": [
            153.03
           ],
           "marker": {
            "color": "#B6E880",
            "size": [
             72.3
            ],
            "sizemode": "area",
            "sizeref": 0.23675000000000002,
            "symbol": "circle"
           },
           "mode": "markers",
           "name": "Queensland",
           "showlegend": true,
           "type": "scattergeo"
          }
         ],
         "name": "2023-12-04 23:00"
        }
       ],
       "layout": {
        "geo": {
         "center": {},
         "domain": {
          "x": [
           0,
           1
          ],
          "y": [
           0,
           1
          ]
         },
         "projection": {
          "type": "natural earth"
         }
        },
        "legend": {
         "itemsizing": "constant",
         "title": {
          "text": "region"
         },
         "tracegroupgap": 0
        },
        "sliders": [
         {
          "active": 0,
          "currentvalue": {
           "prefix": "time="
          },
          "len": 0.9,
          "pad": {
           "b": 10,
           "t": 60
          },
          "steps": [
           {
            "args": [
             [
              "2023-12-02 00:00"
             ],
             {
              "frame": {
               "duration": 0,
               "redraw": true
              },
              "fromcurrent": true,
              "mode": "immediate",
              "transition": {
               "duration": 0,
               "easing": "linear"
              }
             }
            ],
            "label": "2023-12-02 00:00",
            "method": "animate"
           },
           {
            "args": [
             [
              "2023-12-02 01:00"
             ],
             {
              "frame": {
               "duration": 0,
               "redraw": true
              },
              "fromcurrent": true,
              "mode": "immediate",
              "transition": {
               "duration": 0,
               "easing": "linear"
              }
             }
            ],
            "label": "2023-12-02 01:00",
            "method": "animate"
           },
           {
            "args": [
             [
              "2023-12-02 02:00"
             ],
             {
              "frame": {
               "duration": 0,
               "redraw": true
              },
              "fromcurrent": true,
              "mode": "immediate",
              "transition": {
               "duration": 0,
               "easing": "linear"
              }
             }
            ],
            "label": "2023-12-02 02:00",
            "method": "animate"
           },
           {
            "args": [
             [
              "2023-12-02 03:00"
             ],
             {
              "frame": {
               "duration": 0,
               "redraw": true
              },
              "fromcurrent": true,
              "mode": "immediate",
              "transition": {
               "duration": 0,
               "easing": "linear"
              }
             }
            ],
            "label": "2023-12-02 03:00",
            "method": "animate"
           },
           {
            "args": [
             [
              "2023-12-02 04:00"
             ],
             {
              "frame": {
               "duration": 0,
               "redraw": true
              },
              "fromcurrent": true,
              "mode": "immediate",
              "transition": {
               "duration": 0,
               "easing": "linear"
              }
             }
            ],
            "label": "2023-12-02 04:00",
            "method": "animate"
           },
           {
            "args": [
             [
              "2023-12-02 05:00"
             ],
             {
              "frame": {
               "duration": 0,
               "redraw": true
              },
              "fromcurrent": true,
              "mode": "immediate",
              "transition": {
               "duration": 0,
               "easing": "linear"
              }
             }
            ],
            "label": "2023-12-02 05:00",
            "method": "animate"
           },
           {
            "args": [
             [
              "2023-12-02 06:00"
             ],
             {
              "frame": {
               "duration": 0,
               "redraw": true
              },
              "fromcurrent": true,
              "mode": "immediate",
              "transition": {
               "duration": 0,
               "easing": "linear"
              }
             }
            ],
            "label": "2023-12-02 06:00",
            "method": "animate"
           },
           {
            "args": [
             [
              "2023-12-02 07:00"
             ],
             {
              "frame": {
               "duration": 0,
               "redraw": true
              },
              "fromcurrent": true,
              "mode": "immediate",
              "transition": {
               "duration": 0,
               "easing": "linear"
              }
             }
            ],
            "label": "2023-12-02 07:00",
            "method": "animate"
           },
           {
            "args": [
             [
              "2023-12-02 08:00"
             ],
             {
              "frame": {
               "duration": 0,
               "redraw": true
              },
              "fromcurrent": true,
              "mode": "immediate",
              "transition": {
               "duration": 0,
               "easing": "linear"
              }
             }
            ],
            "label": "2023-12-02 08:00",
            "method": "animate"
           },
           {
            "args": [
             [
              "2023-12-02 09:00"
             ],
             {
              "frame": {
               "duration": 0,
               "redraw": true
              },
              "fromcurrent": true,
              "mode": "immediate",
              "transition": {
               "duration": 0,
               "easing": "linear"
              }
             }
            ],
            "label": "2023-12-02 09:00",
            "method": "animate"
           },
           {
            "args": [
             [
              "2023-12-02 10:00"
             ],
             {
              "frame": {
               "duration": 0,
               "redraw": true
              },
              "fromcurrent": true,
              "mode": "immediate",
              "transition": {
               "duration": 0,
               "easing": "linear"
              }
             }
            ],
            "label": "2023-12-02 10:00",
            "method": "animate"
           },
           {
            "args": [
             [
              "2023-12-02 11:00"
             ],
             {
              "frame": {
               "duration": 0,
               "redraw": true
              },
              "fromcurrent": true,
              "mode": "immediate",
              "transition": {
               "duration": 0,
               "easing": "linear"
              }
             }
            ],
            "label": "2023-12-02 11:00",
            "method": "animate"
           },
           {
            "args": [
             [
              "2023-12-02 12:00"
             ],
             {
              "frame": {
               "duration": 0,
               "redraw": true
              },
              "fromcurrent": true,
              "mode": "immediate",
              "transition": {
               "duration": 0,
               "easing": "linear"
              }
             }
            ],
            "label": "2023-12-02 12:00",
            "method": "animate"
           },
           {
            "args": [
             [
              "2023-12-02 13:00"
             ],
             {
              "frame": {
               "duration": 0,
               "redraw": true
              },
              "fromcurrent": true,
              "mode": "immediate",
              "transition": {
               "duration": 0,
               "easing": "linear"
              }
             }
            ],
            "label": "2023-12-02 13:00",
            "method": "animate"
           },
           {
            "args": [
             [
              "2023-12-02 14:00"
             ],
             {
              "frame": {
               "duration": 0,
               "redraw": true
              },
              "fromcurrent": true,
              "mode": "immediate",
              "transition": {
               "duration": 0,
               "easing": "linear"
              }
             }
            ],
            "label": "2023-12-02 14:00",
            "method": "animate"
           },
           {
            "args": [
             [
              "2023-12-02 15:00"
             ],
             {
              "frame": {
               "duration": 0,
               "redraw": true
              },
              "fromcurrent": true,
              "mode": "immediate",
              "transition": {
               "duration": 0,
               "easing": "linear"
              }
             }
            ],
            "label": "2023-12-02 15:00",
            "method": "animate"
           },
           {
            "args": [
             [
              "2023-12-02 16:00"
             ],
             {
              "frame": {
               "duration": 0,
               "redraw": true
              },
              "fromcurrent": true,
              "mode": "immediate",
              "transition": {
               "duration": 0,
               "easing": "linear"
              }
             }
            ],
            "label": "2023-12-02 16:00",
            "method": "animate"
           },
           {
            "args": [
             [
              "2023-12-02 17:00"
             ],
             {
              "frame": {
               "duration": 0,
               "redraw": true
              },
              "fromcurrent": true,
              "mode": "immediate",
              "transition": {
               "duration": 0,
               "easing": "linear"
              }
             }
            ],
            "label": "2023-12-02 17:00",
            "method": "animate"
           },
           {
            "args": [
             [
              "2023-12-02 18:00"
             ],
             {
              "frame": {
               "duration": 0,
               "redraw": true
              },
              "fromcurrent": true,
              "mode": "immediate",
              "transition": {
               "duration": 0,
               "easing": "linear"
              }
             }
            ],
            "label": "2023-12-02 18:00",
            "method": "animate"
           },
           {
            "args": [
             [
              "2023-12-02 19:00"
             ],
             {
              "frame": {
               "duration": 0,
               "redraw": true
              },
              "fromcurrent": true,
              "mode": "immediate",
              "transition": {
               "duration": 0,
               "easing": "linear"
              }
             }
            ],
            "label": "2023-12-02 19:00",
            "method": "animate"
           },
           {
            "args": [
             [
              "2023-12-02 20:00"
             ],
             {
              "frame": {
               "duration": 0,
               "redraw": true
              },
              "fromcurrent": true,
              "mode": "immediate",
              "transition": {
               "duration": 0,
               "easing": "linear"
              }
             }
            ],
            "label": "2023-12-02 20:00",
            "method": "animate"
           },
           {
            "args": [
             [
              "2023-12-02 21:00"
             ],
             {
              "frame": {
               "duration": 0,
               "redraw": true
              },
              "fromcurrent": true,
              "mode": "immediate",
              "transition": {
               "duration": 0,
               "easing": "linear"
              }
             }
            ],
            "label": "2023-12-02 21:00",
            "method": "animate"
           },
           {
            "args": [
             [
              "2023-12-02 22:00"
             ],
             {
              "frame": {
               "duration": 0,
               "redraw": true
              },
              "fromcurrent": true,
              "mode": "immediate",
              "transition": {
               "duration": 0,
               "easing": "linear"
              }
             }
            ],
            "label": "2023-12-02 22:00",
            "method": "animate"
           },
           {
            "args": [
             [
              "2023-12-02 23:00"
             ],
             {
              "frame": {
               "duration": 0,
               "redraw": true
              },
              "fromcurrent": true,
              "mode": "immediate",
              "transition": {
               "duration": 0,
               "easing": "linear"
              }
             }
            ],
            "label": "2023-12-02 23:00",
            "method": "animate"
           },
           {
            "args": [
             [
              "2023-12-03 00:00"
             ],
             {
              "frame": {
               "duration": 0,
               "redraw": true
              },
              "fromcurrent": true,
              "mode": "immediate",
              "transition": {
               "duration": 0,
               "easing": "linear"
              }
             }
            ],
            "label": "2023-12-03 00:00",
            "method": "animate"
           },
           {
            "args": [
             [
              "2023-12-03 01:00"
             ],
             {
              "frame": {
               "duration": 0,
               "redraw": true
              },
              "fromcurrent": true,
              "mode": "immediate",
              "transition": {
               "duration": 0,
               "easing": "linear"
              }
             }
            ],
            "label": "2023-12-03 01:00",
            "method": "animate"
           },
           {
            "args": [
             [
              "2023-12-03 02:00"
             ],
             {
              "frame": {
               "duration": 0,
               "redraw": true
              },
              "fromcurrent": true,
              "mode": "immediate",
              "transition": {
               "duration": 0,
               "easing": "linear"
              }
             }
            ],
            "label": "2023-12-03 02:00",
            "method": "animate"
           },
           {
            "args": [
             [
              "2023-12-03 03:00"
             ],
             {
              "frame": {
               "duration": 0,
               "redraw": true
              },
              "fromcurrent": true,
              "mode": "immediate",
              "transition": {
               "duration": 0,
               "easing": "linear"
              }
             }
            ],
            "label": "2023-12-03 03:00",
            "method": "animate"
           },
           {
            "args": [
             [
              "2023-12-03 04:00"
             ],
             {
              "frame": {
               "duration": 0,
               "redraw": true
              },
              "fromcurrent": true,
              "mode": "immediate",
              "transition": {
               "duration": 0,
               "easing": "linear"
              }
             }
            ],
            "label": "2023-12-03 04:00",
            "method": "animate"
           },
           {
            "args": [
             [
              "2023-12-03 05:00"
             ],
             {
              "frame": {
               "duration": 0,
               "redraw": true
              },
              "fromcurrent": true,
              "mode": "immediate",
              "transition": {
               "duration": 0,
               "easing": "linear"
              }
             }
            ],
            "label": "2023-12-03 05:00",
            "method": "animate"
           },
           {
            "args": [
             [
              "2023-12-03 06:00"
             ],
             {
              "frame": {
               "duration": 0,
               "redraw": true
              },
              "fromcurrent": true,
              "mode": "immediate",
              "transition": {
               "duration": 0,
               "easing": "linear"
              }
             }
            ],
            "label": "2023-12-03 06:00",
            "method": "animate"
           },
           {
            "args": [
             [
              "2023-12-03 07:00"
             ],
             {
              "frame": {
               "duration": 0,
               "redraw": true
              },
              "fromcurrent": true,
              "mode": "immediate",
              "transition": {
               "duration": 0,
               "easing": "linear"
              }
             }
            ],
            "label": "2023-12-03 07:00",
            "method": "animate"
           },
           {
            "args": [
             [
              "2023-12-03 08:00"
             ],
             {
              "frame": {
               "duration": 0,
               "redraw": true
              },
              "fromcurrent": true,
              "mode": "immediate",
              "transition": {
               "duration": 0,
               "easing": "linear"
              }
             }
            ],
            "label": "2023-12-03 08:00",
            "method": "animate"
           },
           {
            "args": [
             [
              "2023-12-03 09:00"
             ],
             {
              "frame": {
               "duration": 0,
               "redraw": true
              },
              "fromcurrent": true,
              "mode": "immediate",
              "transition": {
               "duration": 0,
               "easing": "linear"
              }
             }
            ],
            "label": "2023-12-03 09:00",
            "method": "animate"
           },
           {
            "args": [
             [
              "2023-12-03 10:00"
             ],
             {
              "frame": {
               "duration": 0,
               "redraw": true
              },
              "fromcurrent": true,
              "mode": "immediate",
              "transition": {
               "duration": 0,
               "easing": "linear"
              }
             }
            ],
            "label": "2023-12-03 10:00",
            "method": "animate"
           },
           {
            "args": [
             [
              "2023-12-03 11:00"
             ],
             {
              "frame": {
               "duration": 0,
               "redraw": true
              },
              "fromcurrent": true,
              "mode": "immediate",
              "transition": {
               "duration": 0,
               "easing": "linear"
              }
             }
            ],
            "label": "2023-12-03 11:00",
            "method": "animate"
           },
           {
            "args": [
             [
              "2023-12-03 12:00"
             ],
             {
              "frame": {
               "duration": 0,
               "redraw": true
              },
              "fromcurrent": true,
              "mode": "immediate",
              "transition": {
               "duration": 0,
               "easing": "linear"
              }
             }
            ],
            "label": "2023-12-03 12:00",
            "method": "animate"
           },
           {
            "args": [
             [
              "2023-12-03 13:00"
             ],
             {
              "frame": {
               "duration": 0,
               "redraw": true
              },
              "fromcurrent": true,
              "mode": "immediate",
              "transition": {
               "duration": 0,
               "easing": "linear"
              }
             }
            ],
            "label": "2023-12-03 13:00",
            "method": "animate"
           },
           {
            "args": [
             [
              "2023-12-03 14:00"
             ],
             {
              "frame": {
               "duration": 0,
               "redraw": true
              },
              "fromcurrent": true,
              "mode": "immediate",
              "transition": {
               "duration": 0,
               "easing": "linear"
              }
             }
            ],
            "label": "2023-12-03 14:00",
            "method": "animate"
           },
           {
            "args": [
             [
              "2023-12-03 15:00"
             ],
             {
              "frame": {
               "duration": 0,
               "redraw": true
              },
              "fromcurrent": true,
              "mode": "immediate",
              "transition": {
               "duration": 0,
               "easing": "linear"
              }
             }
            ],
            "label": "2023-12-03 15:00",
            "method": "animate"
           },
           {
            "args": [
             [
              "2023-12-03 16:00"
             ],
             {
              "frame": {
               "duration": 0,
               "redraw": true
              },
              "fromcurrent": true,
              "mode": "immediate",
              "transition": {
               "duration": 0,
               "easing": "linear"
              }
             }
            ],
            "label": "2023-12-03 16:00",
            "method": "animate"
           },
           {
            "args": [
             [
              "2023-12-03 17:00"
             ],
             {
              "frame": {
               "duration": 0,
               "redraw": true
              },
              "fromcurrent": true,
              "mode": "immediate",
              "transition": {
               "duration": 0,
               "easing": "linear"
              }
             }
            ],
            "label": "2023-12-03 17:00",
            "method": "animate"
           },
           {
            "args": [
             [
              "2023-12-03 18:00"
             ],
             {
              "frame": {
               "duration": 0,
               "redraw": true
              },
              "fromcurrent": true,
              "mode": "immediate",
              "transition": {
               "duration": 0,
               "easing": "linear"
              }
             }
            ],
            "label": "2023-12-03 18:00",
            "method": "animate"
           },
           {
            "args": [
             [
              "2023-12-03 19:00"
             ],
             {
              "frame": {
               "duration": 0,
               "redraw": true
              },
              "fromcurrent": true,
              "mode": "immediate",
              "transition": {
               "duration": 0,
               "easing": "linear"
              }
             }
            ],
            "label": "2023-12-03 19:00",
            "method": "animate"
           },
           {
            "args": [
             [
              "2023-12-03 20:00"
             ],
             {
              "frame": {
               "duration": 0,
               "redraw": true
              },
              "fromcurrent": true,
              "mode": "immediate",
              "transition": {
               "duration": 0,
               "easing": "linear"
              }
             }
            ],
            "label": "2023-12-03 20:00",
            "method": "animate"
           },
           {
            "args": [
             [
              "2023-12-03 21:00"
             ],
             {
              "frame": {
               "duration": 0,
               "redraw": true
              },
              "fromcurrent": true,
              "mode": "immediate",
              "transition": {
               "duration": 0,
               "easing": "linear"
              }
             }
            ],
            "label": "2023-12-03 21:00",
            "method": "animate"
           },
           {
            "args": [
             [
              "2023-12-03 22:00"
             ],
             {
              "frame": {
               "duration": 0,
               "redraw": true
              },
              "fromcurrent": true,
              "mode": "immediate",
              "transition": {
               "duration": 0,
               "easing": "linear"
              }
             }
            ],
            "label": "2023-12-03 22:00",
            "method": "animate"
           },
           {
            "args": [
             [
              "2023-12-03 23:00"
             ],
             {
              "frame": {
               "duration": 0,
               "redraw": true
              },
              "fromcurrent": true,
              "mode": "immediate",
              "transition": {
               "duration": 0,
               "easing": "linear"
              }
             }
            ],
            "label": "2023-12-03 23:00",
            "method": "animate"
           },
           {
            "args": [
             [
              "2023-12-04 00:00"
             ],
             {
              "frame": {
               "duration": 0,
               "redraw": true
              },
              "fromcurrent": true,
              "mode": "immediate",
              "transition": {
               "duration": 0,
               "easing": "linear"
              }
             }
            ],
            "label": "2023-12-04 00:00",
            "method": "animate"
           },
           {
            "args": [
             [
              "2023-12-04 01:00"
             ],
             {
              "frame": {
               "duration": 0,
               "redraw": true
              },
              "fromcurrent": true,
              "mode": "immediate",
              "transition": {
               "duration": 0,
               "easing": "linear"
              }
             }
            ],
            "label": "2023-12-04 01:00",
            "method": "animate"
           },
           {
            "args": [
             [
              "2023-12-04 02:00"
             ],
             {
              "frame": {
               "duration": 0,
               "redraw": true
              },
              "fromcurrent": true,
              "mode": "immediate",
              "transition": {
               "duration": 0,
               "easing": "linear"
              }
             }
            ],
            "label": "2023-12-04 02:00",
            "method": "animate"
           },
           {
            "args": [
             [
              "2023-12-04 03:00"
             ],
             {
              "frame": {
               "duration": 0,
               "redraw": true
              },
              "fromcurrent": true,
              "mode": "immediate",
              "transition": {
               "duration": 0,
               "easing": "linear"
              }
             }
            ],
            "label": "2023-12-04 03:00",
            "method": "animate"
           },
           {
            "args": [
             [
              "2023-12-04 04:00"
             ],
             {
              "frame": {
               "duration": 0,
               "redraw": true
              },
              "fromcurrent": true,
              "mode": "immediate",
              "transition": {
               "duration": 0,
               "easing": "linear"
              }
             }
            ],
            "label": "2023-12-04 04:00",
            "method": "animate"
           },
           {
            "args": [
             [
              "2023-12-04 05:00"
             ],
             {
              "frame": {
               "duration": 0,
               "redraw": true
              },
              "fromcurrent": true,
              "mode": "immediate",
              "transition": {
               "duration": 0,
               "easing": "linear"
              }
             }
            ],
            "label": "2023-12-04 05:00",
            "method": "animate"
           },
           {
            "args": [
             [
              "2023-12-04 06:00"
             ],
             {
              "frame": {
               "duration": 0,
               "redraw": true
              },
              "fromcurrent": true,
              "mode": "immediate",
              "transition": {
               "duration": 0,
               "easing": "linear"
              }
             }
            ],
            "label": "2023-12-04 06:00",
            "method": "animate"
           },
           {
            "args": [
             [
              "2023-12-04 07:00"
             ],
             {
              "frame": {
               "duration": 0,
               "redraw": true
              },
              "fromcurrent": true,
              "mode": "immediate",
              "transition": {
               "duration": 0,
               "easing": "linear"
              }
             }
            ],
            "label": "2023-12-04 07:00",
            "method": "animate"
           },
           {
            "args": [
             [
              "2023-12-04 08:00"
             ],
             {
              "frame": {
               "duration": 0,
               "redraw": true
              },
              "fromcurrent": true,
              "mode": "immediate",
              "transition": {
               "duration": 0,
               "easing": "linear"
              }
             }
            ],
            "label": "2023-12-04 08:00",
            "method": "animate"
           },
           {
            "args": [
             [
              "2023-12-04 09:00"
             ],
             {
              "frame": {
               "duration": 0,
               "redraw": true
              },
              "fromcurrent": true,
              "mode": "immediate",
              "transition": {
               "duration": 0,
               "easing": "linear"
              }
             }
            ],
            "label": "2023-12-04 09:00",
            "method": "animate"
           },
           {
            "args": [
             [
              "2023-12-04 10:00"
             ],
             {
              "frame": {
               "duration": 0,
               "redraw": true
              },
              "fromcurrent": true,
              "mode": "immediate",
              "transition": {
               "duration": 0,
               "easing": "linear"
              }
             }
            ],
            "label": "2023-12-04 10:00",
            "method": "animate"
           },
           {
            "args": [
             [
              "2023-12-04 11:00"
             ],
             {
              "frame": {
               "duration": 0,
               "redraw": true
              },
              "fromcurrent": true,
              "mode": "immediate",
              "transition": {
               "duration": 0,
               "easing": "linear"
              }
             }
            ],
            "label": "2023-12-04 11:00",
            "method": "animate"
           },
           {
            "args": [
             [
              "2023-12-04 12:00"
             ],
             {
              "frame": {
               "duration": 0,
               "redraw": true
              },
              "fromcurrent": true,
              "mode": "immediate",
              "transition": {
               "duration": 0,
               "easing": "linear"
              }
             }
            ],
            "label": "2023-12-04 12:00",
            "method": "animate"
           },
           {
            "args": [
             [
              "2023-12-04 13:00"
             ],
             {
              "frame": {
               "duration": 0,
               "redraw": true
              },
              "fromcurrent": true,
              "mode": "immediate",
              "transition": {
               "duration": 0,
               "easing": "linear"
              }
             }
            ],
            "label": "2023-12-04 13:00",
            "method": "animate"
           },
           {
            "args": [
             [
              "2023-12-04 14:00"
             ],
             {
              "frame": {
               "duration": 0,
               "redraw": true
              },
              "fromcurrent": true,
              "mode": "immediate",
              "transition": {
               "duration": 0,
               "easing": "linear"
              }
             }
            ],
            "label": "2023-12-04 14:00",
            "method": "animate"
           },
           {
            "args": [
             [
              "2023-12-04 15:00"
             ],
             {
              "frame": {
               "duration": 0,
               "redraw": true
              },
              "fromcurrent": true,
              "mode": "immediate",
              "transition": {
               "duration": 0,
               "easing": "linear"
              }
             }
            ],
            "label": "2023-12-04 15:00",
            "method": "animate"
           },
           {
            "args": [
             [
              "2023-12-04 16:00"
             ],
             {
              "frame": {
               "duration": 0,
               "redraw": true
              },
              "fromcurrent": true,
              "mode": "immediate",
              "transition": {
               "duration": 0,
               "easing": "linear"
              }
             }
            ],
            "label": "2023-12-04 16:00",
            "method": "animate"
           },
           {
            "args": [
             [
              "2023-12-04 17:00"
             ],
             {
              "frame": {
               "duration": 0,
               "redraw": true
              },
              "fromcurrent": true,
              "mode": "immediate",
              "transition": {
               "duration": 0,
               "easing": "linear"
              }
             }
            ],
            "label": "2023-12-04 17:00",
            "method": "animate"
           },
           {
            "args": [
             [
              "2023-12-04 18:00"
             ],
             {
              "frame": {
               "duration": 0,
               "redraw": true
              },
              "fromcurrent": true,
              "mode": "immediate",
              "transition": {
               "duration": 0,
               "easing": "linear"
              }
             }
            ],
            "label": "2023-12-04 18:00",
            "method": "animate"
           },
           {
            "args": [
             [
              "2023-12-04 19:00"
             ],
             {
              "frame": {
               "duration": 0,
               "redraw": true
              },
              "fromcurrent": true,
              "mode": "immediate",
              "transition": {
               "duration": 0,
               "easing": "linear"
              }
             }
            ],
            "label": "2023-12-04 19:00",
            "method": "animate"
           },
           {
            "args": [
             [
              "2023-12-04 20:00"
             ],
             {
              "frame": {
               "duration": 0,
               "redraw": true
              },
              "fromcurrent": true,
              "mode": "immediate",
              "transition": {
               "duration": 0,
               "easing": "linear"
              }
             }
            ],
            "label": "2023-12-04 20:00",
            "method": "animate"
           },
           {
            "args": [
             [
              "2023-12-04 21:00"
             ],
             {
              "frame": {
               "duration": 0,
               "redraw": true
              },
              "fromcurrent": true,
              "mode": "immediate",
              "transition": {
               "duration": 0,
               "easing": "linear"
              }
             }
            ],
            "label": "2023-12-04 21:00",
            "method": "animate"
           },
           {
            "args": [
             [
              "2023-12-04 22:00"
             ],
             {
              "frame": {
               "duration": 0,
               "redraw": true
              },
              "fromcurrent": true,
              "mode": "immediate",
              "transition": {
               "duration": 0,
               "easing": "linear"
              }
             }
            ],
            "label": "2023-12-04 22:00",
            "method": "animate"
           },
           {
            "args": [
             [
              "2023-12-04 23:00"
             ],
             {
              "frame": {
               "duration": 0,
               "redraw": true
              },
              "fromcurrent": true,
              "mode": "immediate",
              "transition": {
               "duration": 0,
               "easing": "linear"
              }
             }
            ],
            "label": "2023-12-04 23:00",
            "method": "animate"
           }
          ],
          "x": 0.1,
          "xanchor": "left",
          "y": 0,
          "yanchor": "top"
         }
        ],
        "template": {
         "data": {
          "bar": [
           {
            "error_x": {
             "color": "#2a3f5f"
            },
            "error_y": {
             "color": "#2a3f5f"
            },
            "marker": {
             "line": {
              "color": "#E5ECF6",
              "width": 0.5
             },
             "pattern": {
              "fillmode": "overlay",
              "size": 10,
              "solidity": 0.2
             }
            },
            "type": "bar"
           }
          ],
          "barpolar": [
           {
            "marker": {
             "line": {
              "color": "#E5ECF6",
              "width": 0.5
             },
             "pattern": {
              "fillmode": "overlay",
              "size": 10,
              "solidity": 0.2
             }
            },
            "type": "barpolar"
           }
          ],
          "carpet": [
           {
            "aaxis": {
             "endlinecolor": "#2a3f5f",
             "gridcolor": "white",
             "linecolor": "white",
             "minorgridcolor": "white",
             "startlinecolor": "#2a3f5f"
            },
            "baxis": {
             "endlinecolor": "#2a3f5f",
             "gridcolor": "white",
             "linecolor": "white",
             "minorgridcolor": "white",
             "startlinecolor": "#2a3f5f"
            },
            "type": "carpet"
           }
          ],
          "choropleth": [
           {
            "colorbar": {
             "outlinewidth": 0,
             "ticks": ""
            },
            "type": "choropleth"
           }
          ],
          "contour": [
           {
            "colorbar": {
             "outlinewidth": 0,
             "ticks": ""
            },
            "colorscale": [
             [
              0,
              "#0d0887"
             ],
             [
              0.1111111111111111,
              "#46039f"
             ],
             [
              0.2222222222222222,
              "#7201a8"
             ],
             [
              0.3333333333333333,
              "#9c179e"
             ],
             [
              0.4444444444444444,
              "#bd3786"
             ],
             [
              0.5555555555555556,
              "#d8576b"
             ],
             [
              0.6666666666666666,
              "#ed7953"
             ],
             [
              0.7777777777777778,
              "#fb9f3a"
             ],
             [
              0.8888888888888888,
              "#fdca26"
             ],
             [
              1,
              "#f0f921"
             ]
            ],
            "type": "contour"
           }
          ],
          "contourcarpet": [
           {
            "colorbar": {
             "outlinewidth": 0,
             "ticks": ""
            },
            "type": "contourcarpet"
           }
          ],
          "heatmap": [
           {
            "colorbar": {
             "outlinewidth": 0,
             "ticks": ""
            },
            "colorscale": [
             [
              0,
              "#0d0887"
             ],
             [
              0.1111111111111111,
              "#46039f"
             ],
             [
              0.2222222222222222,
              "#7201a8"
             ],
             [
              0.3333333333333333,
              "#9c179e"
             ],
             [
              0.4444444444444444,
              "#bd3786"
             ],
             [
              0.5555555555555556,
              "#d8576b"
             ],
             [
              0.6666666666666666,
              "#ed7953"
             ],
             [
              0.7777777777777778,
              "#fb9f3a"
             ],
             [
              0.8888888888888888,
              "#fdca26"
             ],
             [
              1,
              "#f0f921"
             ]
            ],
            "type": "heatmap"
           }
          ],
          "heatmapgl": [
           {
            "colorbar": {
             "outlinewidth": 0,
             "ticks": ""
            },
            "colorscale": [
             [
              0,
              "#0d0887"
             ],
             [
              0.1111111111111111,
              "#46039f"
             ],
             [
              0.2222222222222222,
              "#7201a8"
             ],
             [
              0.3333333333333333,
              "#9c179e"
             ],
             [
              0.4444444444444444,
              "#bd3786"
             ],
             [
              0.5555555555555556,
              "#d8576b"
             ],
             [
              0.6666666666666666,
              "#ed7953"
             ],
             [
              0.7777777777777778,
              "#fb9f3a"
             ],
             [
              0.8888888888888888,
              "#fdca26"
             ],
             [
              1,
              "#f0f921"
             ]
            ],
            "type": "heatmapgl"
           }
          ],
          "histogram": [
           {
            "marker": {
             "pattern": {
              "fillmode": "overlay",
              "size": 10,
              "solidity": 0.2
             }
            },
            "type": "histogram"
           }
          ],
          "histogram2d": [
           {
            "colorbar": {
             "outlinewidth": 0,
             "ticks": ""
            },
            "colorscale": [
             [
              0,
              "#0d0887"
             ],
             [
              0.1111111111111111,
              "#46039f"
             ],
             [
              0.2222222222222222,
              "#7201a8"
             ],
             [
              0.3333333333333333,
              "#9c179e"
             ],
             [
              0.4444444444444444,
              "#bd3786"
             ],
             [
              0.5555555555555556,
              "#d8576b"
             ],
             [
              0.6666666666666666,
              "#ed7953"
             ],
             [
              0.7777777777777778,
              "#fb9f3a"
             ],
             [
              0.8888888888888888,
              "#fdca26"
             ],
             [
              1,
              "#f0f921"
             ]
            ],
            "type": "histogram2d"
           }
          ],
          "histogram2dcontour": [
           {
            "colorbar": {
             "outlinewidth": 0,
             "ticks": ""
            },
            "colorscale": [
             [
              0,
              "#0d0887"
             ],
             [
              0.1111111111111111,
              "#46039f"
             ],
             [
              0.2222222222222222,
              "#7201a8"
             ],
             [
              0.3333333333333333,
              "#9c179e"
             ],
             [
              0.4444444444444444,
              "#bd3786"
             ],
             [
              0.5555555555555556,
              "#d8576b"
             ],
             [
              0.6666666666666666,
              "#ed7953"
             ],
             [
              0.7777777777777778,
              "#fb9f3a"
             ],
             [
              0.8888888888888888,
              "#fdca26"
             ],
             [
              1,
              "#f0f921"
             ]
            ],
            "type": "histogram2dcontour"
           }
          ],
          "mesh3d": [
           {
            "colorbar": {
             "outlinewidth": 0,
             "ticks": ""
            },
            "type": "mesh3d"
           }
          ],
          "parcoords": [
           {
            "line": {
             "colorbar": {
              "outlinewidth": 0,
              "ticks": ""
             }
            },
            "type": "parcoords"
           }
          ],
          "pie": [
           {
            "automargin": true,
            "type": "pie"
           }
          ],
          "scatter": [
           {
            "fillpattern": {
             "fillmode": "overlay",
             "size": 10,
             "solidity": 0.2
            },
            "type": "scatter"
           }
          ],
          "scatter3d": [
           {
            "line": {
             "colorbar": {
              "outlinewidth": 0,
              "ticks": ""
             }
            },
            "marker": {
             "colorbar": {
              "outlinewidth": 0,
              "ticks": ""
             }
            },
            "type": "scatter3d"
           }
          ],
          "scattercarpet": [
           {
            "marker": {
             "colorbar": {
              "outlinewidth": 0,
              "ticks": ""
             }
            },
            "type": "scattercarpet"
           }
          ],
          "scattergeo": [
           {
            "marker": {
             "colorbar": {
              "outlinewidth": 0,
              "ticks": ""
             }
            },
            "type": "scattergeo"
           }
          ],
          "scattergl": [
           {
            "marker": {
             "colorbar": {
              "outlinewidth": 0,
              "ticks": ""
             }
            },
            "type": "scattergl"
           }
          ],
          "scattermapbox": [
           {
            "marker": {
             "colorbar": {
              "outlinewidth": 0,
              "ticks": ""
             }
            },
            "type": "scattermapbox"
           }
          ],
          "scatterpolar": [
           {
            "marker": {
             "colorbar": {
              "outlinewidth": 0,
              "ticks": ""
             }
            },
            "type": "scatterpolar"
           }
          ],
          "scatterpolargl": [
           {
            "marker": {
             "colorbar": {
              "outlinewidth": 0,
              "ticks": ""
             }
            },
            "type": "scatterpolargl"
           }
          ],
          "scatterternary": [
           {
            "marker": {
             "colorbar": {
              "outlinewidth": 0,
              "ticks": ""
             }
            },
            "type": "scatterternary"
           }
          ],
          "surface": [
           {
            "colorbar": {
             "outlinewidth": 0,
             "ticks": ""
            },
            "colorscale": [
             [
              0,
              "#0d0887"
             ],
             [
              0.1111111111111111,
              "#46039f"
             ],
             [
              0.2222222222222222,
              "#7201a8"
             ],
             [
              0.3333333333333333,
              "#9c179e"
             ],
             [
              0.4444444444444444,
              "#bd3786"
             ],
             [
              0.5555555555555556,
              "#d8576b"
             ],
             [
              0.6666666666666666,
              "#ed7953"
             ],
             [
              0.7777777777777778,
              "#fb9f3a"
             ],
             [
              0.8888888888888888,
              "#fdca26"
             ],
             [
              1,
              "#f0f921"
             ]
            ],
            "type": "surface"
           }
          ],
          "table": [
           {
            "cells": {
             "fill": {
              "color": "#EBF0F8"
             },
             "line": {
              "color": "white"
             }
            },
            "header": {
             "fill": {
              "color": "#C8D4E3"
             },
             "line": {
              "color": "white"
             }
            },
            "type": "table"
           }
          ]
         },
         "layout": {
          "annotationdefaults": {
           "arrowcolor": "#2a3f5f",
           "arrowhead": 0,
           "arrowwidth": 1
          },
          "autotypenumbers": "strict",
          "coloraxis": {
           "colorbar": {
            "outlinewidth": 0,
            "ticks": ""
           }
          },
          "colorscale": {
           "diverging": [
            [
             0,
             "#8e0152"
            ],
            [
             0.1,
             "#c51b7d"
            ],
            [
             0.2,
             "#de77ae"
            ],
            [
             0.3,
             "#f1b6da"
            ],
            [
             0.4,
             "#fde0ef"
            ],
            [
             0.5,
             "#f7f7f7"
            ],
            [
             0.6,
             "#e6f5d0"
            ],
            [
             0.7,
             "#b8e186"
            ],
            [
             0.8,
             "#7fbc41"
            ],
            [
             0.9,
             "#4d9221"
            ],
            [
             1,
             "#276419"
            ]
           ],
           "sequential": [
            [
             0,
             "#0d0887"
            ],
            [
             0.1111111111111111,
             "#46039f"
            ],
            [
             0.2222222222222222,
             "#7201a8"
            ],
            [
             0.3333333333333333,
             "#9c179e"
            ],
            [
             0.4444444444444444,
             "#bd3786"
            ],
            [
             0.5555555555555556,
             "#d8576b"
            ],
            [
             0.6666666666666666,
             "#ed7953"
            ],
            [
             0.7777777777777778,
             "#fb9f3a"
            ],
            [
             0.8888888888888888,
             "#fdca26"
            ],
            [
             1,
             "#f0f921"
            ]
           ],
           "sequentialminus": [
            [
             0,
             "#0d0887"
            ],
            [
             0.1111111111111111,
             "#46039f"
            ],
            [
             0.2222222222222222,
             "#7201a8"
            ],
            [
             0.3333333333333333,
             "#9c179e"
            ],
            [
             0.4444444444444444,
             "#bd3786"
            ],
            [
             0.5555555555555556,
             "#d8576b"
            ],
            [
             0.6666666666666666,
             "#ed7953"
            ],
            [
             0.7777777777777778,
             "#fb9f3a"
            ],
            [
             0.8888888888888888,
             "#fdca26"
            ],
            [
             1,
             "#f0f921"
            ]
           ]
          },
          "colorway": [
           "#636efa",
           "#EF553B",
           "#00cc96",
           "#ab63fa",
           "#FFA15A",
           "#19d3f3",
           "#FF6692",
           "#B6E880",
           "#FF97FF",
           "#FECB52"
          ],
          "font": {
           "color": "#2a3f5f"
          },
          "geo": {
           "bgcolor": "white",
           "lakecolor": "white",
           "landcolor": "#E5ECF6",
           "showlakes": true,
           "showland": true,
           "subunitcolor": "white"
          },
          "hoverlabel": {
           "align": "left"
          },
          "hovermode": "closest",
          "mapbox": {
           "style": "light"
          },
          "paper_bgcolor": "white",
          "plot_bgcolor": "#E5ECF6",
          "polar": {
           "angularaxis": {
            "gridcolor": "white",
            "linecolor": "white",
            "ticks": ""
           },
           "bgcolor": "#E5ECF6",
           "radialaxis": {
            "gridcolor": "white",
            "linecolor": "white",
            "ticks": ""
           }
          },
          "scene": {
           "xaxis": {
            "backgroundcolor": "#E5ECF6",
            "gridcolor": "white",
            "gridwidth": 2,
            "linecolor": "white",
            "showbackground": true,
            "ticks": "",
            "zerolinecolor": "white"
           },
           "yaxis": {
            "backgroundcolor": "#E5ECF6",
            "gridcolor": "white",
            "gridwidth": 2,
            "linecolor": "white",
            "showbackground": true,
            "ticks": "",
            "zerolinecolor": "white"
           },
           "zaxis": {
            "backgroundcolor": "#E5ECF6",
            "gridcolor": "white",
            "gridwidth": 2,
            "linecolor": "white",
            "showbackground": true,
            "ticks": "",
            "zerolinecolor": "white"
           }
          },
          "shapedefaults": {
           "line": {
            "color": "#2a3f5f"
           }
          },
          "ternary": {
           "aaxis": {
            "gridcolor": "white",
            "linecolor": "white",
            "ticks": ""
           },
           "baxis": {
            "gridcolor": "white",
            "linecolor": "white",
            "ticks": ""
           },
           "bgcolor": "#E5ECF6",
           "caxis": {
            "gridcolor": "white",
            "linecolor": "white",
            "ticks": ""
           }
          },
          "title": {
           "x": 0.05
          },
          "xaxis": {
           "automargin": true,
           "gridcolor": "white",
           "linecolor": "white",
           "ticks": "",
           "title": {
            "standoff": 15
           },
           "zerolinecolor": "white",
           "zerolinewidth": 2
          },
          "yaxis": {
           "automargin": true,
           "gridcolor": "white",
           "linecolor": "white",
           "ticks": "",
           "title": {
            "standoff": 15
           },
           "zerolinecolor": "white",
           "zerolinewidth": 2
          }
         }
        },
        "title": {
         "text": "Wind forecast (next 5 days) in kilometer per hour for cities in the world"
        },
        "updatemenus": [
         {
          "buttons": [
           {
            "args": [
             null,
             {
              "frame": {
               "duration": 500,
               "redraw": true
              },
              "fromcurrent": true,
              "mode": "immediate",
              "transition": {
               "duration": 500,
               "easing": "linear"
              }
             }
            ],
            "label": "&#9654;",
            "method": "animate"
           },
           {
            "args": [
             [
              null
             ],
             {
              "frame": {
               "duration": 0,
               "redraw": true
              },
              "fromcurrent": true,
              "mode": "immediate",
              "transition": {
               "duration": 0,
               "easing": "linear"
              }
             }
            ],
            "label": "&#9724;",
            "method": "animate"
           }
          ],
          "direction": "left",
          "pad": {
           "r": 10,
           "t": 70
          },
          "showactive": false,
          "type": "buttons",
          "x": 0.1,
          "xanchor": "right",
          "y": 0,
          "yanchor": "top"
         }
        ]
       }
      }
     },
     "metadata": {},
     "output_type": "display_data"
    }
   ],
   "source": [
    "fig = px.scatter_geo(\n",
    "    df[df[\"time\"] > \"2023-12-02\"],\n",
    "    lat=\"lat\",\n",
    "    lon=\"lon\",\n",
    "    color=\"region\",\n",
    "    hover_name=\"country\",\n",
    "    size=\"wind_kph\",\n",
    "    animation_frame=\"time\",\n",
    "    projection=\"natural earth\",\n",
    "    title=\"Wind forecast (next 5 days) in kph for cities in the world\",\n",
    ")\n",
    "\n",
    "fig.show()"
   ]
  }
 ],
 "metadata": {
  "kernelspec": {
   "display_name": "sqlm",
   "language": "python",
   "name": "python3"
  },
  "language_info": {
   "codemirror_mode": {
    "name": "ipython",
    "version": 3
   },
   "file_extension": ".py",
   "mimetype": "text/x-python",
   "name": "python",
   "nbconvert_exporter": "python",
   "pygments_lexer": "ipython3",
   "version": "3.10.0"
  }
 },
 "nbformat": 4,
 "nbformat_minor": 2
}
