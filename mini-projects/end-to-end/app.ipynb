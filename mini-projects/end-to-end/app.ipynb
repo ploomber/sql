{
 "cells": [
  {
   "cell_type": "markdown",
   "metadata": {},
   "source": [
    "<h1 align='center'>Automated weather data visualization</h1>\n",
    "\n",
    "<h2 align='center'>About the data</h2>\n",
    "\n",
    "WeatherAPI.com is a powerful fully managed free weather and geolocation API provider that provides extensive APIs that range from the weather forecast, historical weather, future weather, weather alerts, air quality data, IP lookup, and astronomy through to sports, time zone, and geolocation.\n",
    "\n",
    "The data contains: \n",
    "- Real-time weather\n",
    "- Up to 14 day hourly and 15 min weather forecast\n",
    "- Historical hourly and 15 min weather forecast (from 1-Jan-2010 onwards)\n",
    "- Future Weather (Upto 365 days ahead)\n",
    "- Global Weather Alerts\n",
    "- Air Quality Data\n",
    "- Astronomy\n",
    "- Time Zone\n",
    "- IP Lookup\n",
    "- Sports API\n",
    "- Location data\n",
    "- Up to 99.99% uptime"
   ]
  },
  {
   "cell_type": "code",
   "execution_count": 1,
   "metadata": {},
   "outputs": [],
   "source": [
    "import requests\n",
    "import pandas as pd\n",
    "import plotly.express as px\n",
    "import matplotlib.pyplot as plt\n",
    "from dotenv import load_dotenv\n",
    "import os\n",
    "import ipywidgets as widgets"
   ]
  },
  {
   "cell_type": "code",
   "execution_count": null,
   "metadata": {},
   "outputs": [],
   "source": [
    "def extract_weather_by_lat_lon(api_key,lat, lon):\n",
    "\n",
    "    try:\n",
    "        # Perform call\n",
    "        url = \"https://weatherapi-com.p.rapidapi.com/forecast.json\"\n",
    "\n",
    "        querystring = {\"q\":f\"5{lat},{lon}\",\"days\":\"5\"}\n",
    "\n",
    "        headers = {\n",
    "            \"X-RapidAPI-Key\": api_key,\n",
    "            \"X-RapidAPI-Host\": \"weatherapi-com.p.rapidapi.com\"\n",
    "        }\n",
    "\n",
    "        response = requests.get(url, headers=headers, params=querystring)\n",
    "        response.raise_for_status()\n",
    "        return response.json()\n",
    "    except requests.exceptions.HTTPError as e:\n",
    "        print(e.response.text)\n",
    "        return {}\n",
    "    \n",
    "def transform_json_to_dataframe(response):\n",
    "    try:\n",
    "\n",
    "        unnested_df = pd.json_normalize(response, record_path=['forecast','forecastday','hour'], meta=['location','current'])\n",
    "        unnested_df.drop(columns=['location','current'], inplace=True)\n",
    "\n",
    "        location_df = pd.json_normalize(response['location'])\n",
    "\n",
    "\n",
    "        for col_name in location_df.columns:\n",
    "            unnested_df[col_name] = location_df[col_name][0]\n",
    "\n",
    "        return unnested_df\n",
    "\n",
    "    except KeyError as e:\n",
    "        print(\"Key Error:\", e)\n",
    "        return pd.DataFrame()\n",
    "    except Exception as e:\n",
    "        print(\"Other Error:\", e)\n",
    "        return pd.DataFrame()\n",
    "    \n",
    "\n",
    "def extraction_df_lat_lon(api_key,lat, lon):\n",
    "    response = extract_weather_by_lat_lon(api_key,lat, lon)\n",
    "    return transform_json_to_dataframe(response)\n",
    "\n"
   ]
  },
  {
   "cell_type": "code",
   "execution_count": 2,
   "metadata": {},
   "outputs": [],
   "source": [
    "# Load api key\n",
    "load_dotenv()\n",
    "api_key = os.getenv(\"RapidAPI\")"
   ]
  },
  {
   "cell_type": "code",
   "execution_count": 26,
   "metadata": {},
   "outputs": [],
   "source": [
    "# Perform call\n",
    "url = \"https://weatherapi-com.p.rapidapi.com/forecast.json\"\n",
    "\n",
    "querystring = {\"q\":\"53.1,-0.13\",\"days\":\"5\"}\n",
    "\n",
    "headers = {\n",
    "\t\"X-RapidAPI-Key\": api_key,\n",
    "\t\"X-RapidAPI-Host\": \"weatherapi-com.p.rapidapi.com\"\n",
    "}\n",
    "\n",
    "response = requests.get(url, headers=headers, params=querystring)"
   ]
  },
  {
   "cell_type": "code",
   "execution_count": 27,
   "metadata": {},
   "outputs": [],
   "source": [
    "# Wrangle data into dataframes \n",
    "\n",
    "unnested_df = pd.json_normalize(response.json(), record_path=['forecast','forecastday','hour'], meta=['location','current'])\n",
    "unnested_df.drop(columns=['location','current'], inplace=True)\n",
    "\n",
    "location_df = pd.json_normalize(response.json()['location'])\n",
    "\n",
    "\n",
    "for col_name in location_df.columns:\n",
    "    unnested_df[col_name] = location_df[col_name][0]\n",
    "\n"
   ]
  },
  {
   "cell_type": "code",
   "execution_count": 28,
   "metadata": {},
   "outputs": [
    {
     "data": {
      "application/vnd.plotly.v1+json": {
       "config": {
        "plotlyServerURL": "https://plot.ly"
       },
       "data": [
        {
         "geo": "geo",
         "hovertemplate": "<b>%{hovertext}</b><br><br>region=Lincolnshire<br>time=2023-12-02 00:00<br>wind_kph=%{marker.size}<br>lat=%{lat}<br>lon=%{lon}<extra></extra>",
         "hovertext": [
          "United Kingdom"
         ],
         "lat": [
          53.1
         ],
         "legendgroup": "Lincolnshire",
         "lon": [
          -0.13
         ],
         "marker": {
          "color": "#636efa",
          "size": [
           9
          ],
          "sizemode": "area",
          "sizeref": 0.07475,
          "symbol": "circle"
         },
         "mode": "markers",
         "name": "Lincolnshire",
         "showlegend": true,
         "type": "scattergeo"
        }
       ],
       "frames": [
        {
         "data": [
          {
           "geo": "geo",
           "hovertemplate": "<b>%{hovertext}</b><br><br>region=Lincolnshire<br>time=2023-12-02 00:00<br>wind_kph=%{marker.size}<br>lat=%{lat}<br>lon=%{lon}<extra></extra>",
           "hovertext": [
            "United Kingdom"
           ],
           "lat": [
            53.1
           ],
           "legendgroup": "Lincolnshire",
           "lon": [
            -0.13
           ],
           "marker": {
            "color": "#636efa",
            "size": [
             9
            ],
            "sizemode": "area",
            "sizeref": 0.07475,
            "symbol": "circle"
           },
           "mode": "markers",
           "name": "Lincolnshire",
           "showlegend": true,
           "type": "scattergeo"
          }
         ],
         "name": "2023-12-02 00:00"
        },
        {
         "data": [
          {
           "geo": "geo",
           "hovertemplate": "<b>%{hovertext}</b><br><br>region=Lincolnshire<br>time=2023-12-02 01:00<br>wind_kph=%{marker.size}<br>lat=%{lat}<br>lon=%{lon}<extra></extra>",
           "hovertext": [
            "United Kingdom"
           ],
           "lat": [
            53.1
           ],
           "legendgroup": "Lincolnshire",
           "lon": [
            -0.13
           ],
           "marker": {
            "color": "#636efa",
            "size": [
             16.9
            ],
            "sizemode": "area",
            "sizeref": 0.07475,
            "symbol": "circle"
           },
           "mode": "markers",
           "name": "Lincolnshire",
           "showlegend": true,
           "type": "scattergeo"
          }
         ],
         "name": "2023-12-02 01:00"
        },
        {
         "data": [
          {
           "geo": "geo",
           "hovertemplate": "<b>%{hovertext}</b><br><br>region=Lincolnshire<br>time=2023-12-02 02:00<br>wind_kph=%{marker.size}<br>lat=%{lat}<br>lon=%{lon}<extra></extra>",
           "hovertext": [
            "United Kingdom"
           ],
           "lat": [
            53.1
           ],
           "legendgroup": "Lincolnshire",
           "lon": [
            -0.13
           ],
           "marker": {
            "color": "#636efa",
            "size": [
             9.4
            ],
            "sizemode": "area",
            "sizeref": 0.07475,
            "symbol": "circle"
           },
           "mode": "markers",
           "name": "Lincolnshire",
           "showlegend": true,
           "type": "scattergeo"
          }
         ],
         "name": "2023-12-02 02:00"
        },
        {
         "data": [
          {
           "geo": "geo",
           "hovertemplate": "<b>%{hovertext}</b><br><br>region=Lincolnshire<br>time=2023-12-02 03:00<br>wind_kph=%{marker.size}<br>lat=%{lat}<br>lon=%{lon}<extra></extra>",
           "hovertext": [
            "United Kingdom"
           ],
           "lat": [
            53.1
           ],
           "legendgroup": "Lincolnshire",
           "lon": [
            -0.13
           ],
           "marker": {
            "color": "#636efa",
            "size": [
             9.7
            ],
            "sizemode": "area",
            "sizeref": 0.07475,
            "symbol": "circle"
           },
           "mode": "markers",
           "name": "Lincolnshire",
           "showlegend": true,
           "type": "scattergeo"
          }
         ],
         "name": "2023-12-02 03:00"
        },
        {
         "data": [
          {
           "geo": "geo",
           "hovertemplate": "<b>%{hovertext}</b><br><br>region=Lincolnshire<br>time=2023-12-02 04:00<br>wind_kph=%{marker.size}<br>lat=%{lat}<br>lon=%{lon}<extra></extra>",
           "hovertext": [
            "United Kingdom"
           ],
           "lat": [
            53.1
           ],
           "legendgroup": "Lincolnshire",
           "lon": [
            -0.13
           ],
           "marker": {
            "color": "#636efa",
            "size": [
             9.4
            ],
            "sizemode": "area",
            "sizeref": 0.07475,
            "symbol": "circle"
           },
           "mode": "markers",
           "name": "Lincolnshire",
           "showlegend": true,
           "type": "scattergeo"
          }
         ],
         "name": "2023-12-02 04:00"
        },
        {
         "data": [
          {
           "geo": "geo",
           "hovertemplate": "<b>%{hovertext}</b><br><br>region=Lincolnshire<br>time=2023-12-02 05:00<br>wind_kph=%{marker.size}<br>lat=%{lat}<br>lon=%{lon}<extra></extra>",
           "hovertext": [
            "United Kingdom"
           ],
           "lat": [
            53.1
           ],
           "legendgroup": "Lincolnshire",
           "lon": [
            -0.13
           ],
           "marker": {
            "color": "#636efa",
            "size": [
             9
            ],
            "sizemode": "area",
            "sizeref": 0.07475,
            "symbol": "circle"
           },
           "mode": "markers",
           "name": "Lincolnshire",
           "showlegend": true,
           "type": "scattergeo"
          }
         ],
         "name": "2023-12-02 05:00"
        },
        {
         "data": [
          {
           "geo": "geo",
           "hovertemplate": "<b>%{hovertext}</b><br><br>region=Lincolnshire<br>time=2023-12-02 06:00<br>wind_kph=%{marker.size}<br>lat=%{lat}<br>lon=%{lon}<extra></extra>",
           "hovertext": [
            "United Kingdom"
           ],
           "lat": [
            53.1
           ],
           "legendgroup": "Lincolnshire",
           "lon": [
            -0.13
           ],
           "marker": {
            "color": "#636efa",
            "size": [
             8.3
            ],
            "sizemode": "area",
            "sizeref": 0.07475,
            "symbol": "circle"
           },
           "mode": "markers",
           "name": "Lincolnshire",
           "showlegend": true,
           "type": "scattergeo"
          }
         ],
         "name": "2023-12-02 06:00"
        },
        {
         "data": [
          {
           "geo": "geo",
           "hovertemplate": "<b>%{hovertext}</b><br><br>region=Lincolnshire<br>time=2023-12-02 07:00<br>wind_kph=%{marker.size}<br>lat=%{lat}<br>lon=%{lon}<extra></extra>",
           "hovertext": [
            "United Kingdom"
           ],
           "lat": [
            53.1
           ],
           "legendgroup": "Lincolnshire",
           "lon": [
            -0.13
           ],
           "marker": {
            "color": "#636efa",
            "size": [
             7.6
            ],
            "sizemode": "area",
            "sizeref": 0.07475,
            "symbol": "circle"
           },
           "mode": "markers",
           "name": "Lincolnshire",
           "showlegend": true,
           "type": "scattergeo"
          }
         ],
         "name": "2023-12-02 07:00"
        },
        {
         "data": [
          {
           "geo": "geo",
           "hovertemplate": "<b>%{hovertext}</b><br><br>region=Lincolnshire<br>time=2023-12-02 08:00<br>wind_kph=%{marker.size}<br>lat=%{lat}<br>lon=%{lon}<extra></extra>",
           "hovertext": [
            "United Kingdom"
           ],
           "lat": [
            53.1
           ],
           "legendgroup": "Lincolnshire",
           "lon": [
            -0.13
           ],
           "marker": {
            "color": "#636efa",
            "size": [
             7.6
            ],
            "sizemode": "area",
            "sizeref": 0.07475,
            "symbol": "circle"
           },
           "mode": "markers",
           "name": "Lincolnshire",
           "showlegend": true,
           "type": "scattergeo"
          }
         ],
         "name": "2023-12-02 08:00"
        },
        {
         "data": [
          {
           "geo": "geo",
           "hovertemplate": "<b>%{hovertext}</b><br><br>region=Lincolnshire<br>time=2023-12-02 09:00<br>wind_kph=%{marker.size}<br>lat=%{lat}<br>lon=%{lon}<extra></extra>",
           "hovertext": [
            "United Kingdom"
           ],
           "lat": [
            53.1
           ],
           "legendgroup": "Lincolnshire",
           "lon": [
            -0.13
           ],
           "marker": {
            "color": "#636efa",
            "size": [
             7.9
            ],
            "sizemode": "area",
            "sizeref": 0.07475,
            "symbol": "circle"
           },
           "mode": "markers",
           "name": "Lincolnshire",
           "showlegend": true,
           "type": "scattergeo"
          }
         ],
         "name": "2023-12-02 09:00"
        },
        {
         "data": [
          {
           "geo": "geo",
           "hovertemplate": "<b>%{hovertext}</b><br><br>region=Lincolnshire<br>time=2023-12-02 10:00<br>wind_kph=%{marker.size}<br>lat=%{lat}<br>lon=%{lon}<extra></extra>",
           "hovertext": [
            "United Kingdom"
           ],
           "lat": [
            53.1
           ],
           "legendgroup": "Lincolnshire",
           "lon": [
            -0.13
           ],
           "marker": {
            "color": "#636efa",
            "size": [
             7.2
            ],
            "sizemode": "area",
            "sizeref": 0.07475,
            "symbol": "circle"
           },
           "mode": "markers",
           "name": "Lincolnshire",
           "showlegend": true,
           "type": "scattergeo"
          }
         ],
         "name": "2023-12-02 10:00"
        },
        {
         "data": [
          {
           "geo": "geo",
           "hovertemplate": "<b>%{hovertext}</b><br><br>region=Lincolnshire<br>time=2023-12-02 11:00<br>wind_kph=%{marker.size}<br>lat=%{lat}<br>lon=%{lon}<extra></extra>",
           "hovertext": [
            "United Kingdom"
           ],
           "lat": [
            53.1
           ],
           "legendgroup": "Lincolnshire",
           "lon": [
            -0.13
           ],
           "marker": {
            "color": "#636efa",
            "size": [
             8.6
            ],
            "sizemode": "area",
            "sizeref": 0.07475,
            "symbol": "circle"
           },
           "mode": "markers",
           "name": "Lincolnshire",
           "showlegend": true,
           "type": "scattergeo"
          }
         ],
         "name": "2023-12-02 11:00"
        },
        {
         "data": [
          {
           "geo": "geo",
           "hovertemplate": "<b>%{hovertext}</b><br><br>region=Lincolnshire<br>time=2023-12-02 12:00<br>wind_kph=%{marker.size}<br>lat=%{lat}<br>lon=%{lon}<extra></extra>",
           "hovertext": [
            "United Kingdom"
           ],
           "lat": [
            53.1
           ],
           "legendgroup": "Lincolnshire",
           "lon": [
            -0.13
           ],
           "marker": {
            "color": "#636efa",
            "size": [
             9
            ],
            "sizemode": "area",
            "sizeref": 0.07475,
            "symbol": "circle"
           },
           "mode": "markers",
           "name": "Lincolnshire",
           "showlegend": true,
           "type": "scattergeo"
          }
         ],
         "name": "2023-12-02 12:00"
        },
        {
         "data": [
          {
           "geo": "geo",
           "hovertemplate": "<b>%{hovertext}</b><br><br>region=Lincolnshire<br>time=2023-12-02 13:00<br>wind_kph=%{marker.size}<br>lat=%{lat}<br>lon=%{lon}<extra></extra>",
           "hovertext": [
            "United Kingdom"
           ],
           "lat": [
            53.1
           ],
           "legendgroup": "Lincolnshire",
           "lon": [
            -0.13
           ],
           "marker": {
            "color": "#636efa",
            "size": [
             9.7
            ],
            "sizemode": "area",
            "sizeref": 0.07475,
            "symbol": "circle"
           },
           "mode": "markers",
           "name": "Lincolnshire",
           "showlegend": true,
           "type": "scattergeo"
          }
         ],
         "name": "2023-12-02 13:00"
        },
        {
         "data": [
          {
           "geo": "geo",
           "hovertemplate": "<b>%{hovertext}</b><br><br>region=Lincolnshire<br>time=2023-12-02 14:00<br>wind_kph=%{marker.size}<br>lat=%{lat}<br>lon=%{lon}<extra></extra>",
           "hovertext": [
            "United Kingdom"
           ],
           "lat": [
            53.1
           ],
           "legendgroup": "Lincolnshire",
           "lon": [
            -0.13
           ],
           "marker": {
            "color": "#636efa",
            "size": [
             9.4
            ],
            "sizemode": "area",
            "sizeref": 0.07475,
            "symbol": "circle"
           },
           "mode": "markers",
           "name": "Lincolnshire",
           "showlegend": true,
           "type": "scattergeo"
          }
         ],
         "name": "2023-12-02 14:00"
        },
        {
         "data": [
          {
           "geo": "geo",
           "hovertemplate": "<b>%{hovertext}</b><br><br>region=Lincolnshire<br>time=2023-12-02 15:00<br>wind_kph=%{marker.size}<br>lat=%{lat}<br>lon=%{lon}<extra></extra>",
           "hovertext": [
            "United Kingdom"
           ],
           "lat": [
            53.1
           ],
           "legendgroup": "Lincolnshire",
           "lon": [
            -0.13
           ],
           "marker": {
            "color": "#636efa",
            "size": [
             10.1
            ],
            "sizemode": "area",
            "sizeref": 0.07475,
            "symbol": "circle"
           },
           "mode": "markers",
           "name": "Lincolnshire",
           "showlegend": true,
           "type": "scattergeo"
          }
         ],
         "name": "2023-12-02 15:00"
        },
        {
         "data": [
          {
           "geo": "geo",
           "hovertemplate": "<b>%{hovertext}</b><br><br>region=Lincolnshire<br>time=2023-12-02 16:00<br>wind_kph=%{marker.size}<br>lat=%{lat}<br>lon=%{lon}<extra></extra>",
           "hovertext": [
            "United Kingdom"
           ],
           "lat": [
            53.1
           ],
           "legendgroup": "Lincolnshire",
           "lon": [
            -0.13
           ],
           "marker": {
            "color": "#636efa",
            "size": [
             10.8
            ],
            "sizemode": "area",
            "sizeref": 0.07475,
            "symbol": "circle"
           },
           "mode": "markers",
           "name": "Lincolnshire",
           "showlegend": true,
           "type": "scattergeo"
          }
         ],
         "name": "2023-12-02 16:00"
        },
        {
         "data": [
          {
           "geo": "geo",
           "hovertemplate": "<b>%{hovertext}</b><br><br>region=Lincolnshire<br>time=2023-12-02 17:00<br>wind_kph=%{marker.size}<br>lat=%{lat}<br>lon=%{lon}<extra></extra>",
           "hovertext": [
            "United Kingdom"
           ],
           "lat": [
            53.1
           ],
           "legendgroup": "Lincolnshire",
           "lon": [
            -0.13
           ],
           "marker": {
            "color": "#636efa",
            "size": [
             11.2
            ],
            "sizemode": "area",
            "sizeref": 0.07475,
            "symbol": "circle"
           },
           "mode": "markers",
           "name": "Lincolnshire",
           "showlegend": true,
           "type": "scattergeo"
          }
         ],
         "name": "2023-12-02 17:00"
        },
        {
         "data": [
          {
           "geo": "geo",
           "hovertemplate": "<b>%{hovertext}</b><br><br>region=Lincolnshire<br>time=2023-12-02 18:00<br>wind_kph=%{marker.size}<br>lat=%{lat}<br>lon=%{lon}<extra></extra>",
           "hovertext": [
            "United Kingdom"
           ],
           "lat": [
            53.1
           ],
           "legendgroup": "Lincolnshire",
           "lon": [
            -0.13
           ],
           "marker": {
            "color": "#636efa",
            "size": [
             11.9
            ],
            "sizemode": "area",
            "sizeref": 0.07475,
            "symbol": "circle"
           },
           "mode": "markers",
           "name": "Lincolnshire",
           "showlegend": true,
           "type": "scattergeo"
          }
         ],
         "name": "2023-12-02 18:00"
        },
        {
         "data": [
          {
           "geo": "geo",
           "hovertemplate": "<b>%{hovertext}</b><br><br>region=Lincolnshire<br>time=2023-12-02 19:00<br>wind_kph=%{marker.size}<br>lat=%{lat}<br>lon=%{lon}<extra></extra>",
           "hovertext": [
            "United Kingdom"
           ],
           "lat": [
            53.1
           ],
           "legendgroup": "Lincolnshire",
           "lon": [
            -0.13
           ],
           "marker": {
            "color": "#636efa",
            "size": [
             12.6
            ],
            "sizemode": "area",
            "sizeref": 0.07475,
            "symbol": "circle"
           },
           "mode": "markers",
           "name": "Lincolnshire",
           "showlegend": true,
           "type": "scattergeo"
          }
         ],
         "name": "2023-12-02 19:00"
        },
        {
         "data": [
          {
           "geo": "geo",
           "hovertemplate": "<b>%{hovertext}</b><br><br>region=Lincolnshire<br>time=2023-12-02 20:00<br>wind_kph=%{marker.size}<br>lat=%{lat}<br>lon=%{lon}<extra></extra>",
           "hovertext": [
            "United Kingdom"
           ],
           "lat": [
            53.1
           ],
           "legendgroup": "Lincolnshire",
           "lon": [
            -0.13
           ],
           "marker": {
            "color": "#636efa",
            "size": [
             13.3
            ],
            "sizemode": "area",
            "sizeref": 0.07475,
            "symbol": "circle"
           },
           "mode": "markers",
           "name": "Lincolnshire",
           "showlegend": true,
           "type": "scattergeo"
          }
         ],
         "name": "2023-12-02 20:00"
        },
        {
         "data": [
          {
           "geo": "geo",
           "hovertemplate": "<b>%{hovertext}</b><br><br>region=Lincolnshire<br>time=2023-12-02 21:00<br>wind_kph=%{marker.size}<br>lat=%{lat}<br>lon=%{lon}<extra></extra>",
           "hovertext": [
            "United Kingdom"
           ],
           "lat": [
            53.1
           ],
           "legendgroup": "Lincolnshire",
           "lon": [
            -0.13
           ],
           "marker": {
            "color": "#636efa",
            "size": [
             13.7
            ],
            "sizemode": "area",
            "sizeref": 0.07475,
            "symbol": "circle"
           },
           "mode": "markers",
           "name": "Lincolnshire",
           "showlegend": true,
           "type": "scattergeo"
          }
         ],
         "name": "2023-12-02 21:00"
        },
        {
         "data": [
          {
           "geo": "geo",
           "hovertemplate": "<b>%{hovertext}</b><br><br>region=Lincolnshire<br>time=2023-12-02 22:00<br>wind_kph=%{marker.size}<br>lat=%{lat}<br>lon=%{lon}<extra></extra>",
           "hovertext": [
            "United Kingdom"
           ],
           "lat": [
            53.1
           ],
           "legendgroup": "Lincolnshire",
           "lon": [
            -0.13
           ],
           "marker": {
            "color": "#636efa",
            "size": [
             14
            ],
            "sizemode": "area",
            "sizeref": 0.07475,
            "symbol": "circle"
           },
           "mode": "markers",
           "name": "Lincolnshire",
           "showlegend": true,
           "type": "scattergeo"
          }
         ],
         "name": "2023-12-02 22:00"
        },
        {
         "data": [
          {
           "geo": "geo",
           "hovertemplate": "<b>%{hovertext}</b><br><br>region=Lincolnshire<br>time=2023-12-02 23:00<br>wind_kph=%{marker.size}<br>lat=%{lat}<br>lon=%{lon}<extra></extra>",
           "hovertext": [
            "United Kingdom"
           ],
           "lat": [
            53.1
           ],
           "legendgroup": "Lincolnshire",
           "lon": [
            -0.13
           ],
           "marker": {
            "color": "#636efa",
            "size": [
             14
            ],
            "sizemode": "area",
            "sizeref": 0.07475,
            "symbol": "circle"
           },
           "mode": "markers",
           "name": "Lincolnshire",
           "showlegend": true,
           "type": "scattergeo"
          }
         ],
         "name": "2023-12-02 23:00"
        },
        {
         "data": [
          {
           "geo": "geo",
           "hovertemplate": "<b>%{hovertext}</b><br><br>region=Lincolnshire<br>time=2023-12-03 00:00<br>wind_kph=%{marker.size}<br>lat=%{lat}<br>lon=%{lon}<extra></extra>",
           "hovertext": [
            "United Kingdom"
           ],
           "lat": [
            53.1
           ],
           "legendgroup": "Lincolnshire",
           "lon": [
            -0.13
           ],
           "marker": {
            "color": "#636efa",
            "size": [
             14.4
            ],
            "sizemode": "area",
            "sizeref": 0.07475,
            "symbol": "circle"
           },
           "mode": "markers",
           "name": "Lincolnshire",
           "showlegend": true,
           "type": "scattergeo"
          }
         ],
         "name": "2023-12-03 00:00"
        },
        {
         "data": [
          {
           "geo": "geo",
           "hovertemplate": "<b>%{hovertext}</b><br><br>region=Lincolnshire<br>time=2023-12-03 01:00<br>wind_kph=%{marker.size}<br>lat=%{lat}<br>lon=%{lon}<extra></extra>",
           "hovertext": [
            "United Kingdom"
           ],
           "lat": [
            53.1
           ],
           "legendgroup": "Lincolnshire",
           "lon": [
            -0.13
           ],
           "marker": {
            "color": "#636efa",
            "size": [
             14
            ],
            "sizemode": "area",
            "sizeref": 0.07475,
            "symbol": "circle"
           },
           "mode": "markers",
           "name": "Lincolnshire",
           "showlegend": true,
           "type": "scattergeo"
          }
         ],
         "name": "2023-12-03 01:00"
        },
        {
         "data": [
          {
           "geo": "geo",
           "hovertemplate": "<b>%{hovertext}</b><br><br>region=Lincolnshire<br>time=2023-12-03 02:00<br>wind_kph=%{marker.size}<br>lat=%{lat}<br>lon=%{lon}<extra></extra>",
           "hovertext": [
            "United Kingdom"
           ],
           "lat": [
            53.1
           ],
           "legendgroup": "Lincolnshire",
           "lon": [
            -0.13
           ],
           "marker": {
            "color": "#636efa",
            "size": [
             14.8
            ],
            "sizemode": "area",
            "sizeref": 0.07475,
            "symbol": "circle"
           },
           "mode": "markers",
           "name": "Lincolnshire",
           "showlegend": true,
           "type": "scattergeo"
          }
         ],
         "name": "2023-12-03 02:00"
        },
        {
         "data": [
          {
           "geo": "geo",
           "hovertemplate": "<b>%{hovertext}</b><br><br>region=Lincolnshire<br>time=2023-12-03 03:00<br>wind_kph=%{marker.size}<br>lat=%{lat}<br>lon=%{lon}<extra></extra>",
           "hovertext": [
            "United Kingdom"
           ],
           "lat": [
            53.1
           ],
           "legendgroup": "Lincolnshire",
           "lon": [
            -0.13
           ],
           "marker": {
            "color": "#636efa",
            "size": [
             14.8
            ],
            "sizemode": "area",
            "sizeref": 0.07475,
            "symbol": "circle"
           },
           "mode": "markers",
           "name": "Lincolnshire",
           "showlegend": true,
           "type": "scattergeo"
          }
         ],
         "name": "2023-12-03 03:00"
        },
        {
         "data": [
          {
           "geo": "geo",
           "hovertemplate": "<b>%{hovertext}</b><br><br>region=Lincolnshire<br>time=2023-12-03 04:00<br>wind_kph=%{marker.size}<br>lat=%{lat}<br>lon=%{lon}<extra></extra>",
           "hovertext": [
            "United Kingdom"
           ],
           "lat": [
            53.1
           ],
           "legendgroup": "Lincolnshire",
           "lon": [
            -0.13
           ],
           "marker": {
            "color": "#636efa",
            "size": [
             16.9
            ],
            "sizemode": "area",
            "sizeref": 0.07475,
            "symbol": "circle"
           },
           "mode": "markers",
           "name": "Lincolnshire",
           "showlegend": true,
           "type": "scattergeo"
          }
         ],
         "name": "2023-12-03 04:00"
        },
        {
         "data": [
          {
           "geo": "geo",
           "hovertemplate": "<b>%{hovertext}</b><br><br>region=Lincolnshire<br>time=2023-12-03 05:00<br>wind_kph=%{marker.size}<br>lat=%{lat}<br>lon=%{lon}<extra></extra>",
           "hovertext": [
            "United Kingdom"
           ],
           "lat": [
            53.1
           ],
           "legendgroup": "Lincolnshire",
           "lon": [
            -0.13
           ],
           "marker": {
            "color": "#636efa",
            "size": [
             19.4
            ],
            "sizemode": "area",
            "sizeref": 0.07475,
            "symbol": "circle"
           },
           "mode": "markers",
           "name": "Lincolnshire",
           "showlegend": true,
           "type": "scattergeo"
          }
         ],
         "name": "2023-12-03 05:00"
        },
        {
         "data": [
          {
           "geo": "geo",
           "hovertemplate": "<b>%{hovertext}</b><br><br>region=Lincolnshire<br>time=2023-12-03 06:00<br>wind_kph=%{marker.size}<br>lat=%{lat}<br>lon=%{lon}<extra></extra>",
           "hovertext": [
            "United Kingdom"
           ],
           "lat": [
            53.1
           ],
           "legendgroup": "Lincolnshire",
           "lon": [
            -0.13
           ],
           "marker": {
            "color": "#636efa",
            "size": [
             21.2
            ],
            "sizemode": "area",
            "sizeref": 0.07475,
            "symbol": "circle"
           },
           "mode": "markers",
           "name": "Lincolnshire",
           "showlegend": true,
           "type": "scattergeo"
          }
         ],
         "name": "2023-12-03 06:00"
        },
        {
         "data": [
          {
           "geo": "geo",
           "hovertemplate": "<b>%{hovertext}</b><br><br>region=Lincolnshire<br>time=2023-12-03 07:00<br>wind_kph=%{marker.size}<br>lat=%{lat}<br>lon=%{lon}<extra></extra>",
           "hovertext": [
            "United Kingdom"
           ],
           "lat": [
            53.1
           ],
           "legendgroup": "Lincolnshire",
           "lon": [
            -0.13
           ],
           "marker": {
            "color": "#636efa",
            "size": [
             24.5
            ],
            "sizemode": "area",
            "sizeref": 0.07475,
            "symbol": "circle"
           },
           "mode": "markers",
           "name": "Lincolnshire",
           "showlegend": true,
           "type": "scattergeo"
          }
         ],
         "name": "2023-12-03 07:00"
        },
        {
         "data": [
          {
           "geo": "geo",
           "hovertemplate": "<b>%{hovertext}</b><br><br>region=Lincolnshire<br>time=2023-12-03 08:00<br>wind_kph=%{marker.size}<br>lat=%{lat}<br>lon=%{lon}<extra></extra>",
           "hovertext": [
            "United Kingdom"
           ],
           "lat": [
            53.1
           ],
           "legendgroup": "Lincolnshire",
           "lon": [
            -0.13
           ],
           "marker": {
            "color": "#636efa",
            "size": [
             24.8
            ],
            "sizemode": "area",
            "sizeref": 0.07475,
            "symbol": "circle"
           },
           "mode": "markers",
           "name": "Lincolnshire",
           "showlegend": true,
           "type": "scattergeo"
          }
         ],
         "name": "2023-12-03 08:00"
        },
        {
         "data": [
          {
           "geo": "geo",
           "hovertemplate": "<b>%{hovertext}</b><br><br>region=Lincolnshire<br>time=2023-12-03 09:00<br>wind_kph=%{marker.size}<br>lat=%{lat}<br>lon=%{lon}<extra></extra>",
           "hovertext": [
            "United Kingdom"
           ],
           "lat": [
            53.1
           ],
           "legendgroup": "Lincolnshire",
           "lon": [
            -0.13
           ],
           "marker": {
            "color": "#636efa",
            "size": [
             25.9
            ],
            "sizemode": "area",
            "sizeref": 0.07475,
            "symbol": "circle"
           },
           "mode": "markers",
           "name": "Lincolnshire",
           "showlegend": true,
           "type": "scattergeo"
          }
         ],
         "name": "2023-12-03 09:00"
        },
        {
         "data": [
          {
           "geo": "geo",
           "hovertemplate": "<b>%{hovertext}</b><br><br>region=Lincolnshire<br>time=2023-12-03 10:00<br>wind_kph=%{marker.size}<br>lat=%{lat}<br>lon=%{lon}<extra></extra>",
           "hovertext": [
            "United Kingdom"
           ],
           "lat": [
            53.1
           ],
           "legendgroup": "Lincolnshire",
           "lon": [
            -0.13
           ],
           "marker": {
            "color": "#636efa",
            "size": [
             22.3
            ],
            "sizemode": "area",
            "sizeref": 0.07475,
            "symbol": "circle"
           },
           "mode": "markers",
           "name": "Lincolnshire",
           "showlegend": true,
           "type": "scattergeo"
          }
         ],
         "name": "2023-12-03 10:00"
        },
        {
         "data": [
          {
           "geo": "geo",
           "hovertemplate": "<b>%{hovertext}</b><br><br>region=Lincolnshire<br>time=2023-12-03 11:00<br>wind_kph=%{marker.size}<br>lat=%{lat}<br>lon=%{lon}<extra></extra>",
           "hovertext": [
            "United Kingdom"
           ],
           "lat": [
            53.1
           ],
           "legendgroup": "Lincolnshire",
           "lon": [
            -0.13
           ],
           "marker": {
            "color": "#636efa",
            "size": [
             19.4
            ],
            "sizemode": "area",
            "sizeref": 0.07475,
            "symbol": "circle"
           },
           "mode": "markers",
           "name": "Lincolnshire",
           "showlegend": true,
           "type": "scattergeo"
          }
         ],
         "name": "2023-12-03 11:00"
        },
        {
         "data": [
          {
           "geo": "geo",
           "hovertemplate": "<b>%{hovertext}</b><br><br>region=Lincolnshire<br>time=2023-12-03 12:00<br>wind_kph=%{marker.size}<br>lat=%{lat}<br>lon=%{lon}<extra></extra>",
           "hovertext": [
            "United Kingdom"
           ],
           "lat": [
            53.1
           ],
           "legendgroup": "Lincolnshire",
           "lon": [
            -0.13
           ],
           "marker": {
            "color": "#636efa",
            "size": [
             16.6
            ],
            "sizemode": "area",
            "sizeref": 0.07475,
            "symbol": "circle"
           },
           "mode": "markers",
           "name": "Lincolnshire",
           "showlegend": true,
           "type": "scattergeo"
          }
         ],
         "name": "2023-12-03 12:00"
        },
        {
         "data": [
          {
           "geo": "geo",
           "hovertemplate": "<b>%{hovertext}</b><br><br>region=Lincolnshire<br>time=2023-12-03 13:00<br>wind_kph=%{marker.size}<br>lat=%{lat}<br>lon=%{lon}<extra></extra>",
           "hovertext": [
            "United Kingdom"
           ],
           "lat": [
            53.1
           ],
           "legendgroup": "Lincolnshire",
           "lon": [
            -0.13
           ],
           "marker": {
            "color": "#636efa",
            "size": [
             12.2
            ],
            "sizemode": "area",
            "sizeref": 0.07475,
            "symbol": "circle"
           },
           "mode": "markers",
           "name": "Lincolnshire",
           "showlegend": true,
           "type": "scattergeo"
          }
         ],
         "name": "2023-12-03 13:00"
        },
        {
         "data": [
          {
           "geo": "geo",
           "hovertemplate": "<b>%{hovertext}</b><br><br>region=Lincolnshire<br>time=2023-12-03 14:00<br>wind_kph=%{marker.size}<br>lat=%{lat}<br>lon=%{lon}<extra></extra>",
           "hovertext": [
            "United Kingdom"
           ],
           "lat": [
            53.1
           ],
           "legendgroup": "Lincolnshire",
           "lon": [
            -0.13
           ],
           "marker": {
            "color": "#636efa",
            "size": [
             9
            ],
            "sizemode": "area",
            "sizeref": 0.07475,
            "symbol": "circle"
           },
           "mode": "markers",
           "name": "Lincolnshire",
           "showlegend": true,
           "type": "scattergeo"
          }
         ],
         "name": "2023-12-03 14:00"
        },
        {
         "data": [
          {
           "geo": "geo",
           "hovertemplate": "<b>%{hovertext}</b><br><br>region=Lincolnshire<br>time=2023-12-03 15:00<br>wind_kph=%{marker.size}<br>lat=%{lat}<br>lon=%{lon}<extra></extra>",
           "hovertext": [
            "United Kingdom"
           ],
           "lat": [
            53.1
           ],
           "legendgroup": "Lincolnshire",
           "lon": [
            -0.13
           ],
           "marker": {
            "color": "#636efa",
            "size": [
             5.8
            ],
            "sizemode": "area",
            "sizeref": 0.07475,
            "symbol": "circle"
           },
           "mode": "markers",
           "name": "Lincolnshire",
           "showlegend": true,
           "type": "scattergeo"
          }
         ],
         "name": "2023-12-03 15:00"
        },
        {
         "data": [
          {
           "geo": "geo",
           "hovertemplate": "<b>%{hovertext}</b><br><br>region=Lincolnshire<br>time=2023-12-03 16:00<br>wind_kph=%{marker.size}<br>lat=%{lat}<br>lon=%{lon}<extra></extra>",
           "hovertext": [
            "United Kingdom"
           ],
           "lat": [
            53.1
           ],
           "legendgroup": "Lincolnshire",
           "lon": [
            -0.13
           ],
           "marker": {
            "color": "#636efa",
            "size": [
             6.5
            ],
            "sizemode": "area",
            "sizeref": 0.07475,
            "symbol": "circle"
           },
           "mode": "markers",
           "name": "Lincolnshire",
           "showlegend": true,
           "type": "scattergeo"
          }
         ],
         "name": "2023-12-03 16:00"
        },
        {
         "data": [
          {
           "geo": "geo",
           "hovertemplate": "<b>%{hovertext}</b><br><br>region=Lincolnshire<br>time=2023-12-03 17:00<br>wind_kph=%{marker.size}<br>lat=%{lat}<br>lon=%{lon}<extra></extra>",
           "hovertext": [
            "United Kingdom"
           ],
           "lat": [
            53.1
           ],
           "legendgroup": "Lincolnshire",
           "lon": [
            -0.13
           ],
           "marker": {
            "color": "#636efa",
            "size": [
             9
            ],
            "sizemode": "area",
            "sizeref": 0.07475,
            "symbol": "circle"
           },
           "mode": "markers",
           "name": "Lincolnshire",
           "showlegend": true,
           "type": "scattergeo"
          }
         ],
         "name": "2023-12-03 17:00"
        },
        {
         "data": [
          {
           "geo": "geo",
           "hovertemplate": "<b>%{hovertext}</b><br><br>region=Lincolnshire<br>time=2023-12-03 18:00<br>wind_kph=%{marker.size}<br>lat=%{lat}<br>lon=%{lon}<extra></extra>",
           "hovertext": [
            "United Kingdom"
           ],
           "lat": [
            53.1
           ],
           "legendgroup": "Lincolnshire",
           "lon": [
            -0.13
           ],
           "marker": {
            "color": "#636efa",
            "size": [
             11.5
            ],
            "sizemode": "area",
            "sizeref": 0.07475,
            "symbol": "circle"
           },
           "mode": "markers",
           "name": "Lincolnshire",
           "showlegend": true,
           "type": "scattergeo"
          }
         ],
         "name": "2023-12-03 18:00"
        },
        {
         "data": [
          {
           "geo": "geo",
           "hovertemplate": "<b>%{hovertext}</b><br><br>region=Lincolnshire<br>time=2023-12-03 19:00<br>wind_kph=%{marker.size}<br>lat=%{lat}<br>lon=%{lon}<extra></extra>",
           "hovertext": [
            "United Kingdom"
           ],
           "lat": [
            53.1
           ],
           "legendgroup": "Lincolnshire",
           "lon": [
            -0.13
           ],
           "marker": {
            "color": "#636efa",
            "size": [
             9.7
            ],
            "sizemode": "area",
            "sizeref": 0.07475,
            "symbol": "circle"
           },
           "mode": "markers",
           "name": "Lincolnshire",
           "showlegend": true,
           "type": "scattergeo"
          }
         ],
         "name": "2023-12-03 19:00"
        },
        {
         "data": [
          {
           "geo": "geo",
           "hovertemplate": "<b>%{hovertext}</b><br><br>region=Lincolnshire<br>time=2023-12-03 20:00<br>wind_kph=%{marker.size}<br>lat=%{lat}<br>lon=%{lon}<extra></extra>",
           "hovertext": [
            "United Kingdom"
           ],
           "lat": [
            53.1
           ],
           "legendgroup": "Lincolnshire",
           "lon": [
            -0.13
           ],
           "marker": {
            "color": "#636efa",
            "size": [
             7.6
            ],
            "sizemode": "area",
            "sizeref": 0.07475,
            "symbol": "circle"
           },
           "mode": "markers",
           "name": "Lincolnshire",
           "showlegend": true,
           "type": "scattergeo"
          }
         ],
         "name": "2023-12-03 20:00"
        },
        {
         "data": [
          {
           "geo": "geo",
           "hovertemplate": "<b>%{hovertext}</b><br><br>region=Lincolnshire<br>time=2023-12-03 21:00<br>wind_kph=%{marker.size}<br>lat=%{lat}<br>lon=%{lon}<extra></extra>",
           "hovertext": [
            "United Kingdom"
           ],
           "lat": [
            53.1
           ],
           "legendgroup": "Lincolnshire",
           "lon": [
            -0.13
           ],
           "marker": {
            "color": "#636efa",
            "size": [
             7.6
            ],
            "sizemode": "area",
            "sizeref": 0.07475,
            "symbol": "circle"
           },
           "mode": "markers",
           "name": "Lincolnshire",
           "showlegend": true,
           "type": "scattergeo"
          }
         ],
         "name": "2023-12-03 21:00"
        },
        {
         "data": [
          {
           "geo": "geo",
           "hovertemplate": "<b>%{hovertext}</b><br><br>region=Lincolnshire<br>time=2023-12-03 22:00<br>wind_kph=%{marker.size}<br>lat=%{lat}<br>lon=%{lon}<extra></extra>",
           "hovertext": [
            "United Kingdom"
           ],
           "lat": [
            53.1
           ],
           "legendgroup": "Lincolnshire",
           "lon": [
            -0.13
           ],
           "marker": {
            "color": "#636efa",
            "size": [
             5
            ],
            "sizemode": "area",
            "sizeref": 0.07475,
            "symbol": "circle"
           },
           "mode": "markers",
           "name": "Lincolnshire",
           "showlegend": true,
           "type": "scattergeo"
          }
         ],
         "name": "2023-12-03 22:00"
        },
        {
         "data": [
          {
           "geo": "geo",
           "hovertemplate": "<b>%{hovertext}</b><br><br>region=Lincolnshire<br>time=2023-12-03 23:00<br>wind_kph=%{marker.size}<br>lat=%{lat}<br>lon=%{lon}<extra></extra>",
           "hovertext": [
            "United Kingdom"
           ],
           "lat": [
            53.1
           ],
           "legendgroup": "Lincolnshire",
           "lon": [
            -0.13
           ],
           "marker": {
            "color": "#636efa",
            "size": [
             4
            ],
            "sizemode": "area",
            "sizeref": 0.07475,
            "symbol": "circle"
           },
           "mode": "markers",
           "name": "Lincolnshire",
           "showlegend": true,
           "type": "scattergeo"
          }
         ],
         "name": "2023-12-03 23:00"
        },
        {
         "data": [
          {
           "geo": "geo",
           "hovertemplate": "<b>%{hovertext}</b><br><br>region=Lincolnshire<br>time=2023-12-04 00:00<br>wind_kph=%{marker.size}<br>lat=%{lat}<br>lon=%{lon}<extra></extra>",
           "hovertext": [
            "United Kingdom"
           ],
           "lat": [
            53.1
           ],
           "legendgroup": "Lincolnshire",
           "lon": [
            -0.13
           ],
           "marker": {
            "color": "#636efa",
            "size": [
             3.2
            ],
            "sizemode": "area",
            "sizeref": 0.07475,
            "symbol": "circle"
           },
           "mode": "markers",
           "name": "Lincolnshire",
           "showlegend": true,
           "type": "scattergeo"
          }
         ],
         "name": "2023-12-04 00:00"
        },
        {
         "data": [
          {
           "geo": "geo",
           "hovertemplate": "<b>%{hovertext}</b><br><br>region=Lincolnshire<br>time=2023-12-04 01:00<br>wind_kph=%{marker.size}<br>lat=%{lat}<br>lon=%{lon}<extra></extra>",
           "hovertext": [
            "United Kingdom"
           ],
           "lat": [
            53.1
           ],
           "legendgroup": "Lincolnshire",
           "lon": [
            -0.13
           ],
           "marker": {
            "color": "#636efa",
            "size": [
             3.6
            ],
            "sizemode": "area",
            "sizeref": 0.07475,
            "symbol": "circle"
           },
           "mode": "markers",
           "name": "Lincolnshire",
           "showlegend": true,
           "type": "scattergeo"
          }
         ],
         "name": "2023-12-04 01:00"
        },
        {
         "data": [
          {
           "geo": "geo",
           "hovertemplate": "<b>%{hovertext}</b><br><br>region=Lincolnshire<br>time=2023-12-04 02:00<br>wind_kph=%{marker.size}<br>lat=%{lat}<br>lon=%{lon}<extra></extra>",
           "hovertext": [
            "United Kingdom"
           ],
           "lat": [
            53.1
           ],
           "legendgroup": "Lincolnshire",
           "lon": [
            -0.13
           ],
           "marker": {
            "color": "#636efa",
            "size": [
             5.4
            ],
            "sizemode": "area",
            "sizeref": 0.07475,
            "symbol": "circle"
           },
           "mode": "markers",
           "name": "Lincolnshire",
           "showlegend": true,
           "type": "scattergeo"
          }
         ],
         "name": "2023-12-04 02:00"
        },
        {
         "data": [
          {
           "geo": "geo",
           "hovertemplate": "<b>%{hovertext}</b><br><br>region=Lincolnshire<br>time=2023-12-04 03:00<br>wind_kph=%{marker.size}<br>lat=%{lat}<br>lon=%{lon}<extra></extra>",
           "hovertext": [
            "United Kingdom"
           ],
           "lat": [
            53.1
           ],
           "legendgroup": "Lincolnshire",
           "lon": [
            -0.13
           ],
           "marker": {
            "color": "#636efa",
            "size": [
             7.9
            ],
            "sizemode": "area",
            "sizeref": 0.07475,
            "symbol": "circle"
           },
           "mode": "markers",
           "name": "Lincolnshire",
           "showlegend": true,
           "type": "scattergeo"
          }
         ],
         "name": "2023-12-04 03:00"
        },
        {
         "data": [
          {
           "geo": "geo",
           "hovertemplate": "<b>%{hovertext}</b><br><br>region=Lincolnshire<br>time=2023-12-04 04:00<br>wind_kph=%{marker.size}<br>lat=%{lat}<br>lon=%{lon}<extra></extra>",
           "hovertext": [
            "United Kingdom"
           ],
           "lat": [
            53.1
           ],
           "legendgroup": "Lincolnshire",
           "lon": [
            -0.13
           ],
           "marker": {
            "color": "#636efa",
            "size": [
             10.8
            ],
            "sizemode": "area",
            "sizeref": 0.07475,
            "symbol": "circle"
           },
           "mode": "markers",
           "name": "Lincolnshire",
           "showlegend": true,
           "type": "scattergeo"
          }
         ],
         "name": "2023-12-04 04:00"
        },
        {
         "data": [
          {
           "geo": "geo",
           "hovertemplate": "<b>%{hovertext}</b><br><br>region=Lincolnshire<br>time=2023-12-04 05:00<br>wind_kph=%{marker.size}<br>lat=%{lat}<br>lon=%{lon}<extra></extra>",
           "hovertext": [
            "United Kingdom"
           ],
           "lat": [
            53.1
           ],
           "legendgroup": "Lincolnshire",
           "lon": [
            -0.13
           ],
           "marker": {
            "color": "#636efa",
            "size": [
             13.3
            ],
            "sizemode": "area",
            "sizeref": 0.07475,
            "symbol": "circle"
           },
           "mode": "markers",
           "name": "Lincolnshire",
           "showlegend": true,
           "type": "scattergeo"
          }
         ],
         "name": "2023-12-04 05:00"
        },
        {
         "data": [
          {
           "geo": "geo",
           "hovertemplate": "<b>%{hovertext}</b><br><br>region=Lincolnshire<br>time=2023-12-04 06:00<br>wind_kph=%{marker.size}<br>lat=%{lat}<br>lon=%{lon}<extra></extra>",
           "hovertext": [
            "United Kingdom"
           ],
           "lat": [
            53.1
           ],
           "legendgroup": "Lincolnshire",
           "lon": [
            -0.13
           ],
           "marker": {
            "color": "#636efa",
            "size": [
             11.5
            ],
            "sizemode": "area",
            "sizeref": 0.07475,
            "symbol": "circle"
           },
           "mode": "markers",
           "name": "Lincolnshire",
           "showlegend": true,
           "type": "scattergeo"
          }
         ],
         "name": "2023-12-04 06:00"
        },
        {
         "data": [
          {
           "geo": "geo",
           "hovertemplate": "<b>%{hovertext}</b><br><br>region=Lincolnshire<br>time=2023-12-04 07:00<br>wind_kph=%{marker.size}<br>lat=%{lat}<br>lon=%{lon}<extra></extra>",
           "hovertext": [
            "United Kingdom"
           ],
           "lat": [
            53.1
           ],
           "legendgroup": "Lincolnshire",
           "lon": [
            -0.13
           ],
           "marker": {
            "color": "#636efa",
            "size": [
             10.1
            ],
            "sizemode": "area",
            "sizeref": 0.07475,
            "symbol": "circle"
           },
           "mode": "markers",
           "name": "Lincolnshire",
           "showlegend": true,
           "type": "scattergeo"
          }
         ],
         "name": "2023-12-04 07:00"
        },
        {
         "data": [
          {
           "geo": "geo",
           "hovertemplate": "<b>%{hovertext}</b><br><br>region=Lincolnshire<br>time=2023-12-04 08:00<br>wind_kph=%{marker.size}<br>lat=%{lat}<br>lon=%{lon}<extra></extra>",
           "hovertext": [
            "United Kingdom"
           ],
           "lat": [
            53.1
           ],
           "legendgroup": "Lincolnshire",
           "lon": [
            -0.13
           ],
           "marker": {
            "color": "#636efa",
            "size": [
             12.6
            ],
            "sizemode": "area",
            "sizeref": 0.07475,
            "symbol": "circle"
           },
           "mode": "markers",
           "name": "Lincolnshire",
           "showlegend": true,
           "type": "scattergeo"
          }
         ],
         "name": "2023-12-04 08:00"
        },
        {
         "data": [
          {
           "geo": "geo",
           "hovertemplate": "<b>%{hovertext}</b><br><br>region=Lincolnshire<br>time=2023-12-04 09:00<br>wind_kph=%{marker.size}<br>lat=%{lat}<br>lon=%{lon}<extra></extra>",
           "hovertext": [
            "United Kingdom"
           ],
           "lat": [
            53.1
           ],
           "legendgroup": "Lincolnshire",
           "lon": [
            -0.13
           ],
           "marker": {
            "color": "#636efa",
            "size": [
             14
            ],
            "sizemode": "area",
            "sizeref": 0.07475,
            "symbol": "circle"
           },
           "mode": "markers",
           "name": "Lincolnshire",
           "showlegend": true,
           "type": "scattergeo"
          }
         ],
         "name": "2023-12-04 09:00"
        },
        {
         "data": [
          {
           "geo": "geo",
           "hovertemplate": "<b>%{hovertext}</b><br><br>region=Lincolnshire<br>time=2023-12-04 10:00<br>wind_kph=%{marker.size}<br>lat=%{lat}<br>lon=%{lon}<extra></extra>",
           "hovertext": [
            "United Kingdom"
           ],
           "lat": [
            53.1
           ],
           "legendgroup": "Lincolnshire",
           "lon": [
            -0.13
           ],
           "marker": {
            "color": "#636efa",
            "size": [
             13.7
            ],
            "sizemode": "area",
            "sizeref": 0.07475,
            "symbol": "circle"
           },
           "mode": "markers",
           "name": "Lincolnshire",
           "showlegend": true,
           "type": "scattergeo"
          }
         ],
         "name": "2023-12-04 10:00"
        },
        {
         "data": [
          {
           "geo": "geo",
           "hovertemplate": "<b>%{hovertext}</b><br><br>region=Lincolnshire<br>time=2023-12-04 11:00<br>wind_kph=%{marker.size}<br>lat=%{lat}<br>lon=%{lon}<extra></extra>",
           "hovertext": [
            "United Kingdom"
           ],
           "lat": [
            53.1
           ],
           "legendgroup": "Lincolnshire",
           "lon": [
            -0.13
           ],
           "marker": {
            "color": "#636efa",
            "size": [
             10.8
            ],
            "sizemode": "area",
            "sizeref": 0.07475,
            "symbol": "circle"
           },
           "mode": "markers",
           "name": "Lincolnshire",
           "showlegend": true,
           "type": "scattergeo"
          }
         ],
         "name": "2023-12-04 11:00"
        },
        {
         "data": [
          {
           "geo": "geo",
           "hovertemplate": "<b>%{hovertext}</b><br><br>region=Lincolnshire<br>time=2023-12-04 12:00<br>wind_kph=%{marker.size}<br>lat=%{lat}<br>lon=%{lon}<extra></extra>",
           "hovertext": [
            "United Kingdom"
           ],
           "lat": [
            53.1
           ],
           "legendgroup": "Lincolnshire",
           "lon": [
            -0.13
           ],
           "marker": {
            "color": "#636efa",
            "size": [
             10.4
            ],
            "sizemode": "area",
            "sizeref": 0.07475,
            "symbol": "circle"
           },
           "mode": "markers",
           "name": "Lincolnshire",
           "showlegend": true,
           "type": "scattergeo"
          }
         ],
         "name": "2023-12-04 12:00"
        },
        {
         "data": [
          {
           "geo": "geo",
           "hovertemplate": "<b>%{hovertext}</b><br><br>region=Lincolnshire<br>time=2023-12-04 13:00<br>wind_kph=%{marker.size}<br>lat=%{lat}<br>lon=%{lon}<extra></extra>",
           "hovertext": [
            "United Kingdom"
           ],
           "lat": [
            53.1
           ],
           "legendgroup": "Lincolnshire",
           "lon": [
            -0.13
           ],
           "marker": {
            "color": "#636efa",
            "size": [
             11.9
            ],
            "sizemode": "area",
            "sizeref": 0.07475,
            "symbol": "circle"
           },
           "mode": "markers",
           "name": "Lincolnshire",
           "showlegend": true,
           "type": "scattergeo"
          }
         ],
         "name": "2023-12-04 13:00"
        },
        {
         "data": [
          {
           "geo": "geo",
           "hovertemplate": "<b>%{hovertext}</b><br><br>region=Lincolnshire<br>time=2023-12-04 14:00<br>wind_kph=%{marker.size}<br>lat=%{lat}<br>lon=%{lon}<extra></extra>",
           "hovertext": [
            "United Kingdom"
           ],
           "lat": [
            53.1
           ],
           "legendgroup": "Lincolnshire",
           "lon": [
            -0.13
           ],
           "marker": {
            "color": "#636efa",
            "size": [
             17.3
            ],
            "sizemode": "area",
            "sizeref": 0.07475,
            "symbol": "circle"
           },
           "mode": "markers",
           "name": "Lincolnshire",
           "showlegend": true,
           "type": "scattergeo"
          }
         ],
         "name": "2023-12-04 14:00"
        },
        {
         "data": [
          {
           "geo": "geo",
           "hovertemplate": "<b>%{hovertext}</b><br><br>region=Lincolnshire<br>time=2023-12-04 15:00<br>wind_kph=%{marker.size}<br>lat=%{lat}<br>lon=%{lon}<extra></extra>",
           "hovertext": [
            "United Kingdom"
           ],
           "lat": [
            53.1
           ],
           "legendgroup": "Lincolnshire",
           "lon": [
            -0.13
           ],
           "marker": {
            "color": "#636efa",
            "size": [
             20.9
            ],
            "sizemode": "area",
            "sizeref": 0.07475,
            "symbol": "circle"
           },
           "mode": "markers",
           "name": "Lincolnshire",
           "showlegend": true,
           "type": "scattergeo"
          }
         ],
         "name": "2023-12-04 15:00"
        },
        {
         "data": [
          {
           "geo": "geo",
           "hovertemplate": "<b>%{hovertext}</b><br><br>region=Lincolnshire<br>time=2023-12-04 16:00<br>wind_kph=%{marker.size}<br>lat=%{lat}<br>lon=%{lon}<extra></extra>",
           "hovertext": [
            "United Kingdom"
           ],
           "lat": [
            53.1
           ],
           "legendgroup": "Lincolnshire",
           "lon": [
            -0.13
           ],
           "marker": {
            "color": "#636efa",
            "size": [
             24.1
            ],
            "sizemode": "area",
            "sizeref": 0.07475,
            "symbol": "circle"
           },
           "mode": "markers",
           "name": "Lincolnshire",
           "showlegend": true,
           "type": "scattergeo"
          }
         ],
         "name": "2023-12-04 16:00"
        },
        {
         "data": [
          {
           "geo": "geo",
           "hovertemplate": "<b>%{hovertext}</b><br><br>region=Lincolnshire<br>time=2023-12-04 17:00<br>wind_kph=%{marker.size}<br>lat=%{lat}<br>lon=%{lon}<extra></extra>",
           "hovertext": [
            "United Kingdom"
           ],
           "lat": [
            53.1
           ],
           "legendgroup": "Lincolnshire",
           "lon": [
            -0.13
           ],
           "marker": {
            "color": "#636efa",
            "size": [
             24.8
            ],
            "sizemode": "area",
            "sizeref": 0.07475,
            "symbol": "circle"
           },
           "mode": "markers",
           "name": "Lincolnshire",
           "showlegend": true,
           "type": "scattergeo"
          }
         ],
         "name": "2023-12-04 17:00"
        },
        {
         "data": [
          {
           "geo": "geo",
           "hovertemplate": "<b>%{hovertext}</b><br><br>region=Lincolnshire<br>time=2023-12-04 18:00<br>wind_kph=%{marker.size}<br>lat=%{lat}<br>lon=%{lon}<extra></extra>",
           "hovertext": [
            "United Kingdom"
           ],
           "lat": [
            53.1
           ],
           "legendgroup": "Lincolnshire",
           "lon": [
            -0.13
           ],
           "marker": {
            "color": "#636efa",
            "size": [
             23.8
            ],
            "sizemode": "area",
            "sizeref": 0.07475,
            "symbol": "circle"
           },
           "mode": "markers",
           "name": "Lincolnshire",
           "showlegend": true,
           "type": "scattergeo"
          }
         ],
         "name": "2023-12-04 18:00"
        },
        {
         "data": [
          {
           "geo": "geo",
           "hovertemplate": "<b>%{hovertext}</b><br><br>region=Lincolnshire<br>time=2023-12-04 19:00<br>wind_kph=%{marker.size}<br>lat=%{lat}<br>lon=%{lon}<extra></extra>",
           "hovertext": [
            "United Kingdom"
           ],
           "lat": [
            53.1
           ],
           "legendgroup": "Lincolnshire",
           "lon": [
            -0.13
           ],
           "marker": {
            "color": "#636efa",
            "size": [
             24.5
            ],
            "sizemode": "area",
            "sizeref": 0.07475,
            "symbol": "circle"
           },
           "mode": "markers",
           "name": "Lincolnshire",
           "showlegend": true,
           "type": "scattergeo"
          }
         ],
         "name": "2023-12-04 19:00"
        },
        {
         "data": [
          {
           "geo": "geo",
           "hovertemplate": "<b>%{hovertext}</b><br><br>region=Lincolnshire<br>time=2023-12-04 20:00<br>wind_kph=%{marker.size}<br>lat=%{lat}<br>lon=%{lon}<extra></extra>",
           "hovertext": [
            "United Kingdom"
           ],
           "lat": [
            53.1
           ],
           "legendgroup": "Lincolnshire",
           "lon": [
            -0.13
           ],
           "marker": {
            "color": "#636efa",
            "size": [
             24.8
            ],
            "sizemode": "area",
            "sizeref": 0.07475,
            "symbol": "circle"
           },
           "mode": "markers",
           "name": "Lincolnshire",
           "showlegend": true,
           "type": "scattergeo"
          }
         ],
         "name": "2023-12-04 20:00"
        },
        {
         "data": [
          {
           "geo": "geo",
           "hovertemplate": "<b>%{hovertext}</b><br><br>region=Lincolnshire<br>time=2023-12-04 21:00<br>wind_kph=%{marker.size}<br>lat=%{lat}<br>lon=%{lon}<extra></extra>",
           "hovertext": [
            "United Kingdom"
           ],
           "lat": [
            53.1
           ],
           "legendgroup": "Lincolnshire",
           "lon": [
            -0.13
           ],
           "marker": {
            "color": "#636efa",
            "size": [
             27
            ],
            "sizemode": "area",
            "sizeref": 0.07475,
            "symbol": "circle"
           },
           "mode": "markers",
           "name": "Lincolnshire",
           "showlegend": true,
           "type": "scattergeo"
          }
         ],
         "name": "2023-12-04 21:00"
        },
        {
         "data": [
          {
           "geo": "geo",
           "hovertemplate": "<b>%{hovertext}</b><br><br>region=Lincolnshire<br>time=2023-12-04 22:00<br>wind_kph=%{marker.size}<br>lat=%{lat}<br>lon=%{lon}<extra></extra>",
           "hovertext": [
            "United Kingdom"
           ],
           "lat": [
            53.1
           ],
           "legendgroup": "Lincolnshire",
           "lon": [
            -0.13
           ],
           "marker": {
            "color": "#636efa",
            "size": [
             28.4
            ],
            "sizemode": "area",
            "sizeref": 0.07475,
            "symbol": "circle"
           },
           "mode": "markers",
           "name": "Lincolnshire",
           "showlegend": true,
           "type": "scattergeo"
          }
         ],
         "name": "2023-12-04 22:00"
        },
        {
         "data": [
          {
           "geo": "geo",
           "hovertemplate": "<b>%{hovertext}</b><br><br>region=Lincolnshire<br>time=2023-12-04 23:00<br>wind_kph=%{marker.size}<br>lat=%{lat}<br>lon=%{lon}<extra></extra>",
           "hovertext": [
            "United Kingdom"
           ],
           "lat": [
            53.1
           ],
           "legendgroup": "Lincolnshire",
           "lon": [
            -0.13
           ],
           "marker": {
            "color": "#636efa",
            "size": [
             29.9
            ],
            "sizemode": "area",
            "sizeref": 0.07475,
            "symbol": "circle"
           },
           "mode": "markers",
           "name": "Lincolnshire",
           "showlegend": true,
           "type": "scattergeo"
          }
         ],
         "name": "2023-12-04 23:00"
        }
       ],
       "layout": {
        "geo": {
         "center": {},
         "domain": {
          "x": [
           0,
           1
          ],
          "y": [
           0,
           1
          ]
         },
         "projection": {
          "type": "natural earth"
         }
        },
        "legend": {
         "itemsizing": "constant",
         "title": {
          "text": "region"
         },
         "tracegroupgap": 0
        },
        "margin": {
         "t": 60
        },
        "sliders": [
         {
          "active": 0,
          "currentvalue": {
           "prefix": "time="
          },
          "len": 0.9,
          "pad": {
           "b": 10,
           "t": 60
          },
          "steps": [
           {
            "args": [
             [
              "2023-12-02 00:00"
             ],
             {
              "frame": {
               "duration": 0,
               "redraw": true
              },
              "fromcurrent": true,
              "mode": "immediate",
              "transition": {
               "duration": 0,
               "easing": "linear"
              }
             }
            ],
            "label": "2023-12-02 00:00",
            "method": "animate"
           },
           {
            "args": [
             [
              "2023-12-02 01:00"
             ],
             {
              "frame": {
               "duration": 0,
               "redraw": true
              },
              "fromcurrent": true,
              "mode": "immediate",
              "transition": {
               "duration": 0,
               "easing": "linear"
              }
             }
            ],
            "label": "2023-12-02 01:00",
            "method": "animate"
           },
           {
            "args": [
             [
              "2023-12-02 02:00"
             ],
             {
              "frame": {
               "duration": 0,
               "redraw": true
              },
              "fromcurrent": true,
              "mode": "immediate",
              "transition": {
               "duration": 0,
               "easing": "linear"
              }
             }
            ],
            "label": "2023-12-02 02:00",
            "method": "animate"
           },
           {
            "args": [
             [
              "2023-12-02 03:00"
             ],
             {
              "frame": {
               "duration": 0,
               "redraw": true
              },
              "fromcurrent": true,
              "mode": "immediate",
              "transition": {
               "duration": 0,
               "easing": "linear"
              }
             }
            ],
            "label": "2023-12-02 03:00",
            "method": "animate"
           },
           {
            "args": [
             [
              "2023-12-02 04:00"
             ],
             {
              "frame": {
               "duration": 0,
               "redraw": true
              },
              "fromcurrent": true,
              "mode": "immediate",
              "transition": {
               "duration": 0,
               "easing": "linear"
              }
             }
            ],
            "label": "2023-12-02 04:00",
            "method": "animate"
           },
           {
            "args": [
             [
              "2023-12-02 05:00"
             ],
             {
              "frame": {
               "duration": 0,
               "redraw": true
              },
              "fromcurrent": true,
              "mode": "immediate",
              "transition": {
               "duration": 0,
               "easing": "linear"
              }
             }
            ],
            "label": "2023-12-02 05:00",
            "method": "animate"
           },
           {
            "args": [
             [
              "2023-12-02 06:00"
             ],
             {
              "frame": {
               "duration": 0,
               "redraw": true
              },
              "fromcurrent": true,
              "mode": "immediate",
              "transition": {
               "duration": 0,
               "easing": "linear"
              }
             }
            ],
            "label": "2023-12-02 06:00",
            "method": "animate"
           },
           {
            "args": [
             [
              "2023-12-02 07:00"
             ],
             {
              "frame": {
               "duration": 0,
               "redraw": true
              },
              "fromcurrent": true,
              "mode": "immediate",
              "transition": {
               "duration": 0,
               "easing": "linear"
              }
             }
            ],
            "label": "2023-12-02 07:00",
            "method": "animate"
           },
           {
            "args": [
             [
              "2023-12-02 08:00"
             ],
             {
              "frame": {
               "duration": 0,
               "redraw": true
              },
              "fromcurrent": true,
              "mode": "immediate",
              "transition": {
               "duration": 0,
               "easing": "linear"
              }
             }
            ],
            "label": "2023-12-02 08:00",
            "method": "animate"
           },
           {
            "args": [
             [
              "2023-12-02 09:00"
             ],
             {
              "frame": {
               "duration": 0,
               "redraw": true
              },
              "fromcurrent": true,
              "mode": "immediate",
              "transition": {
               "duration": 0,
               "easing": "linear"
              }
             }
            ],
            "label": "2023-12-02 09:00",
            "method": "animate"
           },
           {
            "args": [
             [
              "2023-12-02 10:00"
             ],
             {
              "frame": {
               "duration": 0,
               "redraw": true
              },
              "fromcurrent": true,
              "mode": "immediate",
              "transition": {
               "duration": 0,
               "easing": "linear"
              }
             }
            ],
            "label": "2023-12-02 10:00",
            "method": "animate"
           },
           {
            "args": [
             [
              "2023-12-02 11:00"
             ],
             {
              "frame": {
               "duration": 0,
               "redraw": true
              },
              "fromcurrent": true,
              "mode": "immediate",
              "transition": {
               "duration": 0,
               "easing": "linear"
              }
             }
            ],
            "label": "2023-12-02 11:00",
            "method": "animate"
           },
           {
            "args": [
             [
              "2023-12-02 12:00"
             ],
             {
              "frame": {
               "duration": 0,
               "redraw": true
              },
              "fromcurrent": true,
              "mode": "immediate",
              "transition": {
               "duration": 0,
               "easing": "linear"
              }
             }
            ],
            "label": "2023-12-02 12:00",
            "method": "animate"
           },
           {
            "args": [
             [
              "2023-12-02 13:00"
             ],
             {
              "frame": {
               "duration": 0,
               "redraw": true
              },
              "fromcurrent": true,
              "mode": "immediate",
              "transition": {
               "duration": 0,
               "easing": "linear"
              }
             }
            ],
            "label": "2023-12-02 13:00",
            "method": "animate"
           },
           {
            "args": [
             [
              "2023-12-02 14:00"
             ],
             {
              "frame": {
               "duration": 0,
               "redraw": true
              },
              "fromcurrent": true,
              "mode": "immediate",
              "transition": {
               "duration": 0,
               "easing": "linear"
              }
             }
            ],
            "label": "2023-12-02 14:00",
            "method": "animate"
           },
           {
            "args": [
             [
              "2023-12-02 15:00"
             ],
             {
              "frame": {
               "duration": 0,
               "redraw": true
              },
              "fromcurrent": true,
              "mode": "immediate",
              "transition": {
               "duration": 0,
               "easing": "linear"
              }
             }
            ],
            "label": "2023-12-02 15:00",
            "method": "animate"
           },
           {
            "args": [
             [
              "2023-12-02 16:00"
             ],
             {
              "frame": {
               "duration": 0,
               "redraw": true
              },
              "fromcurrent": true,
              "mode": "immediate",
              "transition": {
               "duration": 0,
               "easing": "linear"
              }
             }
            ],
            "label": "2023-12-02 16:00",
            "method": "animate"
           },
           {
            "args": [
             [
              "2023-12-02 17:00"
             ],
             {
              "frame": {
               "duration": 0,
               "redraw": true
              },
              "fromcurrent": true,
              "mode": "immediate",
              "transition": {
               "duration": 0,
               "easing": "linear"
              }
             }
            ],
            "label": "2023-12-02 17:00",
            "method": "animate"
           },
           {
            "args": [
             [
              "2023-12-02 18:00"
             ],
             {
              "frame": {
               "duration": 0,
               "redraw": true
              },
              "fromcurrent": true,
              "mode": "immediate",
              "transition": {
               "duration": 0,
               "easing": "linear"
              }
             }
            ],
            "label": "2023-12-02 18:00",
            "method": "animate"
           },
           {
            "args": [
             [
              "2023-12-02 19:00"
             ],
             {
              "frame": {
               "duration": 0,
               "redraw": true
              },
              "fromcurrent": true,
              "mode": "immediate",
              "transition": {
               "duration": 0,
               "easing": "linear"
              }
             }
            ],
            "label": "2023-12-02 19:00",
            "method": "animate"
           },
           {
            "args": [
             [
              "2023-12-02 20:00"
             ],
             {
              "frame": {
               "duration": 0,
               "redraw": true
              },
              "fromcurrent": true,
              "mode": "immediate",
              "transition": {
               "duration": 0,
               "easing": "linear"
              }
             }
            ],
            "label": "2023-12-02 20:00",
            "method": "animate"
           },
           {
            "args": [
             [
              "2023-12-02 21:00"
             ],
             {
              "frame": {
               "duration": 0,
               "redraw": true
              },
              "fromcurrent": true,
              "mode": "immediate",
              "transition": {
               "duration": 0,
               "easing": "linear"
              }
             }
            ],
            "label": "2023-12-02 21:00",
            "method": "animate"
           },
           {
            "args": [
             [
              "2023-12-02 22:00"
             ],
             {
              "frame": {
               "duration": 0,
               "redraw": true
              },
              "fromcurrent": true,
              "mode": "immediate",
              "transition": {
               "duration": 0,
               "easing": "linear"
              }
             }
            ],
            "label": "2023-12-02 22:00",
            "method": "animate"
           },
           {
            "args": [
             [
              "2023-12-02 23:00"
             ],
             {
              "frame": {
               "duration": 0,
               "redraw": true
              },
              "fromcurrent": true,
              "mode": "immediate",
              "transition": {
               "duration": 0,
               "easing": "linear"
              }
             }
            ],
            "label": "2023-12-02 23:00",
            "method": "animate"
           },
           {
            "args": [
             [
              "2023-12-03 00:00"
             ],
             {
              "frame": {
               "duration": 0,
               "redraw": true
              },
              "fromcurrent": true,
              "mode": "immediate",
              "transition": {
               "duration": 0,
               "easing": "linear"
              }
             }
            ],
            "label": "2023-12-03 00:00",
            "method": "animate"
           },
           {
            "args": [
             [
              "2023-12-03 01:00"
             ],
             {
              "frame": {
               "duration": 0,
               "redraw": true
              },
              "fromcurrent": true,
              "mode": "immediate",
              "transition": {
               "duration": 0,
               "easing": "linear"
              }
             }
            ],
            "label": "2023-12-03 01:00",
            "method": "animate"
           },
           {
            "args": [
             [
              "2023-12-03 02:00"
             ],
             {
              "frame": {
               "duration": 0,
               "redraw": true
              },
              "fromcurrent": true,
              "mode": "immediate",
              "transition": {
               "duration": 0,
               "easing": "linear"
              }
             }
            ],
            "label": "2023-12-03 02:00",
            "method": "animate"
           },
           {
            "args": [
             [
              "2023-12-03 03:00"
             ],
             {
              "frame": {
               "duration": 0,
               "redraw": true
              },
              "fromcurrent": true,
              "mode": "immediate",
              "transition": {
               "duration": 0,
               "easing": "linear"
              }
             }
            ],
            "label": "2023-12-03 03:00",
            "method": "animate"
           },
           {
            "args": [
             [
              "2023-12-03 04:00"
             ],
             {
              "frame": {
               "duration": 0,
               "redraw": true
              },
              "fromcurrent": true,
              "mode": "immediate",
              "transition": {
               "duration": 0,
               "easing": "linear"
              }
             }
            ],
            "label": "2023-12-03 04:00",
            "method": "animate"
           },
           {
            "args": [
             [
              "2023-12-03 05:00"
             ],
             {
              "frame": {
               "duration": 0,
               "redraw": true
              },
              "fromcurrent": true,
              "mode": "immediate",
              "transition": {
               "duration": 0,
               "easing": "linear"
              }
             }
            ],
            "label": "2023-12-03 05:00",
            "method": "animate"
           },
           {
            "args": [
             [
              "2023-12-03 06:00"
             ],
             {
              "frame": {
               "duration": 0,
               "redraw": true
              },
              "fromcurrent": true,
              "mode": "immediate",
              "transition": {
               "duration": 0,
               "easing": "linear"
              }
             }
            ],
            "label": "2023-12-03 06:00",
            "method": "animate"
           },
           {
            "args": [
             [
              "2023-12-03 07:00"
             ],
             {
              "frame": {
               "duration": 0,
               "redraw": true
              },
              "fromcurrent": true,
              "mode": "immediate",
              "transition": {
               "duration": 0,
               "easing": "linear"
              }
             }
            ],
            "label": "2023-12-03 07:00",
            "method": "animate"
           },
           {
            "args": [
             [
              "2023-12-03 08:00"
             ],
             {
              "frame": {
               "duration": 0,
               "redraw": true
              },
              "fromcurrent": true,
              "mode": "immediate",
              "transition": {
               "duration": 0,
               "easing": "linear"
              }
             }
            ],
            "label": "2023-12-03 08:00",
            "method": "animate"
           },
           {
            "args": [
             [
              "2023-12-03 09:00"
             ],
             {
              "frame": {
               "duration": 0,
               "redraw": true
              },
              "fromcurrent": true,
              "mode": "immediate",
              "transition": {
               "duration": 0,
               "easing": "linear"
              }
             }
            ],
            "label": "2023-12-03 09:00",
            "method": "animate"
           },
           {
            "args": [
             [
              "2023-12-03 10:00"
             ],
             {
              "frame": {
               "duration": 0,
               "redraw": true
              },
              "fromcurrent": true,
              "mode": "immediate",
              "transition": {
               "duration": 0,
               "easing": "linear"
              }
             }
            ],
            "label": "2023-12-03 10:00",
            "method": "animate"
           },
           {
            "args": [
             [
              "2023-12-03 11:00"
             ],
             {
              "frame": {
               "duration": 0,
               "redraw": true
              },
              "fromcurrent": true,
              "mode": "immediate",
              "transition": {
               "duration": 0,
               "easing": "linear"
              }
             }
            ],
            "label": "2023-12-03 11:00",
            "method": "animate"
           },
           {
            "args": [
             [
              "2023-12-03 12:00"
             ],
             {
              "frame": {
               "duration": 0,
               "redraw": true
              },
              "fromcurrent": true,
              "mode": "immediate",
              "transition": {
               "duration": 0,
               "easing": "linear"
              }
             }
            ],
            "label": "2023-12-03 12:00",
            "method": "animate"
           },
           {
            "args": [
             [
              "2023-12-03 13:00"
             ],
             {
              "frame": {
               "duration": 0,
               "redraw": true
              },
              "fromcurrent": true,
              "mode": "immediate",
              "transition": {
               "duration": 0,
               "easing": "linear"
              }
             }
            ],
            "label": "2023-12-03 13:00",
            "method": "animate"
           },
           {
            "args": [
             [
              "2023-12-03 14:00"
             ],
             {
              "frame": {
               "duration": 0,
               "redraw": true
              },
              "fromcurrent": true,
              "mode": "immediate",
              "transition": {
               "duration": 0,
               "easing": "linear"
              }
             }
            ],
            "label": "2023-12-03 14:00",
            "method": "animate"
           },
           {
            "args": [
             [
              "2023-12-03 15:00"
             ],
             {
              "frame": {
               "duration": 0,
               "redraw": true
              },
              "fromcurrent": true,
              "mode": "immediate",
              "transition": {
               "duration": 0,
               "easing": "linear"
              }
             }
            ],
            "label": "2023-12-03 15:00",
            "method": "animate"
           },
           {
            "args": [
             [
              "2023-12-03 16:00"
             ],
             {
              "frame": {
               "duration": 0,
               "redraw": true
              },
              "fromcurrent": true,
              "mode": "immediate",
              "transition": {
               "duration": 0,
               "easing": "linear"
              }
             }
            ],
            "label": "2023-12-03 16:00",
            "method": "animate"
           },
           {
            "args": [
             [
              "2023-12-03 17:00"
             ],
             {
              "frame": {
               "duration": 0,
               "redraw": true
              },
              "fromcurrent": true,
              "mode": "immediate",
              "transition": {
               "duration": 0,
               "easing": "linear"
              }
             }
            ],
            "label": "2023-12-03 17:00",
            "method": "animate"
           },
           {
            "args": [
             [
              "2023-12-03 18:00"
             ],
             {
              "frame": {
               "duration": 0,
               "redraw": true
              },
              "fromcurrent": true,
              "mode": "immediate",
              "transition": {
               "duration": 0,
               "easing": "linear"
              }
             }
            ],
            "label": "2023-12-03 18:00",
            "method": "animate"
           },
           {
            "args": [
             [
              "2023-12-03 19:00"
             ],
             {
              "frame": {
               "duration": 0,
               "redraw": true
              },
              "fromcurrent": true,
              "mode": "immediate",
              "transition": {
               "duration": 0,
               "easing": "linear"
              }
             }
            ],
            "label": "2023-12-03 19:00",
            "method": "animate"
           },
           {
            "args": [
             [
              "2023-12-03 20:00"
             ],
             {
              "frame": {
               "duration": 0,
               "redraw": true
              },
              "fromcurrent": true,
              "mode": "immediate",
              "transition": {
               "duration": 0,
               "easing": "linear"
              }
             }
            ],
            "label": "2023-12-03 20:00",
            "method": "animate"
           },
           {
            "args": [
             [
              "2023-12-03 21:00"
             ],
             {
              "frame": {
               "duration": 0,
               "redraw": true
              },
              "fromcurrent": true,
              "mode": "immediate",
              "transition": {
               "duration": 0,
               "easing": "linear"
              }
             }
            ],
            "label": "2023-12-03 21:00",
            "method": "animate"
           },
           {
            "args": [
             [
              "2023-12-03 22:00"
             ],
             {
              "frame": {
               "duration": 0,
               "redraw": true
              },
              "fromcurrent": true,
              "mode": "immediate",
              "transition": {
               "duration": 0,
               "easing": "linear"
              }
             }
            ],
            "label": "2023-12-03 22:00",
            "method": "animate"
           },
           {
            "args": [
             [
              "2023-12-03 23:00"
             ],
             {
              "frame": {
               "duration": 0,
               "redraw": true
              },
              "fromcurrent": true,
              "mode": "immediate",
              "transition": {
               "duration": 0,
               "easing": "linear"
              }
             }
            ],
            "label": "2023-12-03 23:00",
            "method": "animate"
           },
           {
            "args": [
             [
              "2023-12-04 00:00"
             ],
             {
              "frame": {
               "duration": 0,
               "redraw": true
              },
              "fromcurrent": true,
              "mode": "immediate",
              "transition": {
               "duration": 0,
               "easing": "linear"
              }
             }
            ],
            "label": "2023-12-04 00:00",
            "method": "animate"
           },
           {
            "args": [
             [
              "2023-12-04 01:00"
             ],
             {
              "frame": {
               "duration": 0,
               "redraw": true
              },
              "fromcurrent": true,
              "mode": "immediate",
              "transition": {
               "duration": 0,
               "easing": "linear"
              }
             }
            ],
            "label": "2023-12-04 01:00",
            "method": "animate"
           },
           {
            "args": [
             [
              "2023-12-04 02:00"
             ],
             {
              "frame": {
               "duration": 0,
               "redraw": true
              },
              "fromcurrent": true,
              "mode": "immediate",
              "transition": {
               "duration": 0,
               "easing": "linear"
              }
             }
            ],
            "label": "2023-12-04 02:00",
            "method": "animate"
           },
           {
            "args": [
             [
              "2023-12-04 03:00"
             ],
             {
              "frame": {
               "duration": 0,
               "redraw": true
              },
              "fromcurrent": true,
              "mode": "immediate",
              "transition": {
               "duration": 0,
               "easing": "linear"
              }
             }
            ],
            "label": "2023-12-04 03:00",
            "method": "animate"
           },
           {
            "args": [
             [
              "2023-12-04 04:00"
             ],
             {
              "frame": {
               "duration": 0,
               "redraw": true
              },
              "fromcurrent": true,
              "mode": "immediate",
              "transition": {
               "duration": 0,
               "easing": "linear"
              }
             }
            ],
            "label": "2023-12-04 04:00",
            "method": "animate"
           },
           {
            "args": [
             [
              "2023-12-04 05:00"
             ],
             {
              "frame": {
               "duration": 0,
               "redraw": true
              },
              "fromcurrent": true,
              "mode": "immediate",
              "transition": {
               "duration": 0,
               "easing": "linear"
              }
             }
            ],
            "label": "2023-12-04 05:00",
            "method": "animate"
           },
           {
            "args": [
             [
              "2023-12-04 06:00"
             ],
             {
              "frame": {
               "duration": 0,
               "redraw": true
              },
              "fromcurrent": true,
              "mode": "immediate",
              "transition": {
               "duration": 0,
               "easing": "linear"
              }
             }
            ],
            "label": "2023-12-04 06:00",
            "method": "animate"
           },
           {
            "args": [
             [
              "2023-12-04 07:00"
             ],
             {
              "frame": {
               "duration": 0,
               "redraw": true
              },
              "fromcurrent": true,
              "mode": "immediate",
              "transition": {
               "duration": 0,
               "easing": "linear"
              }
             }
            ],
            "label": "2023-12-04 07:00",
            "method": "animate"
           },
           {
            "args": [
             [
              "2023-12-04 08:00"
             ],
             {
              "frame": {
               "duration": 0,
               "redraw": true
              },
              "fromcurrent": true,
              "mode": "immediate",
              "transition": {
               "duration": 0,
               "easing": "linear"
              }
             }
            ],
            "label": "2023-12-04 08:00",
            "method": "animate"
           },
           {
            "args": [
             [
              "2023-12-04 09:00"
             ],
             {
              "frame": {
               "duration": 0,
               "redraw": true
              },
              "fromcurrent": true,
              "mode": "immediate",
              "transition": {
               "duration": 0,
               "easing": "linear"
              }
             }
            ],
            "label": "2023-12-04 09:00",
            "method": "animate"
           },
           {
            "args": [
             [
              "2023-12-04 10:00"
             ],
             {
              "frame": {
               "duration": 0,
               "redraw": true
              },
              "fromcurrent": true,
              "mode": "immediate",
              "transition": {
               "duration": 0,
               "easing": "linear"
              }
             }
            ],
            "label": "2023-12-04 10:00",
            "method": "animate"
           },
           {
            "args": [
             [
              "2023-12-04 11:00"
             ],
             {
              "frame": {
               "duration": 0,
               "redraw": true
              },
              "fromcurrent": true,
              "mode": "immediate",
              "transition": {
               "duration": 0,
               "easing": "linear"
              }
             }
            ],
            "label": "2023-12-04 11:00",
            "method": "animate"
           },
           {
            "args": [
             [
              "2023-12-04 12:00"
             ],
             {
              "frame": {
               "duration": 0,
               "redraw": true
              },
              "fromcurrent": true,
              "mode": "immediate",
              "transition": {
               "duration": 0,
               "easing": "linear"
              }
             }
            ],
            "label": "2023-12-04 12:00",
            "method": "animate"
           },
           {
            "args": [
             [
              "2023-12-04 13:00"
             ],
             {
              "frame": {
               "duration": 0,
               "redraw": true
              },
              "fromcurrent": true,
              "mode": "immediate",
              "transition": {
               "duration": 0,
               "easing": "linear"
              }
             }
            ],
            "label": "2023-12-04 13:00",
            "method": "animate"
           },
           {
            "args": [
             [
              "2023-12-04 14:00"
             ],
             {
              "frame": {
               "duration": 0,
               "redraw": true
              },
              "fromcurrent": true,
              "mode": "immediate",
              "transition": {
               "duration": 0,
               "easing": "linear"
              }
             }
            ],
            "label": "2023-12-04 14:00",
            "method": "animate"
           },
           {
            "args": [
             [
              "2023-12-04 15:00"
             ],
             {
              "frame": {
               "duration": 0,
               "redraw": true
              },
              "fromcurrent": true,
              "mode": "immediate",
              "transition": {
               "duration": 0,
               "easing": "linear"
              }
             }
            ],
            "label": "2023-12-04 15:00",
            "method": "animate"
           },
           {
            "args": [
             [
              "2023-12-04 16:00"
             ],
             {
              "frame": {
               "duration": 0,
               "redraw": true
              },
              "fromcurrent": true,
              "mode": "immediate",
              "transition": {
               "duration": 0,
               "easing": "linear"
              }
             }
            ],
            "label": "2023-12-04 16:00",
            "method": "animate"
           },
           {
            "args": [
             [
              "2023-12-04 17:00"
             ],
             {
              "frame": {
               "duration": 0,
               "redraw": true
              },
              "fromcurrent": true,
              "mode": "immediate",
              "transition": {
               "duration": 0,
               "easing": "linear"
              }
             }
            ],
            "label": "2023-12-04 17:00",
            "method": "animate"
           },
           {
            "args": [
             [
              "2023-12-04 18:00"
             ],
             {
              "frame": {
               "duration": 0,
               "redraw": true
              },
              "fromcurrent": true,
              "mode": "immediate",
              "transition": {
               "duration": 0,
               "easing": "linear"
              }
             }
            ],
            "label": "2023-12-04 18:00",
            "method": "animate"
           },
           {
            "args": [
             [
              "2023-12-04 19:00"
             ],
             {
              "frame": {
               "duration": 0,
               "redraw": true
              },
              "fromcurrent": true,
              "mode": "immediate",
              "transition": {
               "duration": 0,
               "easing": "linear"
              }
             }
            ],
            "label": "2023-12-04 19:00",
            "method": "animate"
           },
           {
            "args": [
             [
              "2023-12-04 20:00"
             ],
             {
              "frame": {
               "duration": 0,
               "redraw": true
              },
              "fromcurrent": true,
              "mode": "immediate",
              "transition": {
               "duration": 0,
               "easing": "linear"
              }
             }
            ],
            "label": "2023-12-04 20:00",
            "method": "animate"
           },
           {
            "args": [
             [
              "2023-12-04 21:00"
             ],
             {
              "frame": {
               "duration": 0,
               "redraw": true
              },
              "fromcurrent": true,
              "mode": "immediate",
              "transition": {
               "duration": 0,
               "easing": "linear"
              }
             }
            ],
            "label": "2023-12-04 21:00",
            "method": "animate"
           },
           {
            "args": [
             [
              "2023-12-04 22:00"
             ],
             {
              "frame": {
               "duration": 0,
               "redraw": true
              },
              "fromcurrent": true,
              "mode": "immediate",
              "transition": {
               "duration": 0,
               "easing": "linear"
              }
             }
            ],
            "label": "2023-12-04 22:00",
            "method": "animate"
           },
           {
            "args": [
             [
              "2023-12-04 23:00"
             ],
             {
              "frame": {
               "duration": 0,
               "redraw": true
              },
              "fromcurrent": true,
              "mode": "immediate",
              "transition": {
               "duration": 0,
               "easing": "linear"
              }
             }
            ],
            "label": "2023-12-04 23:00",
            "method": "animate"
           }
          ],
          "x": 0.1,
          "xanchor": "left",
          "y": 0,
          "yanchor": "top"
         }
        ],
        "template": {
         "data": {
          "bar": [
           {
            "error_x": {
             "color": "#2a3f5f"
            },
            "error_y": {
             "color": "#2a3f5f"
            },
            "marker": {
             "line": {
              "color": "#E5ECF6",
              "width": 0.5
             },
             "pattern": {
              "fillmode": "overlay",
              "size": 10,
              "solidity": 0.2
             }
            },
            "type": "bar"
           }
          ],
          "barpolar": [
           {
            "marker": {
             "line": {
              "color": "#E5ECF6",
              "width": 0.5
             },
             "pattern": {
              "fillmode": "overlay",
              "size": 10,
              "solidity": 0.2
             }
            },
            "type": "barpolar"
           }
          ],
          "carpet": [
           {
            "aaxis": {
             "endlinecolor": "#2a3f5f",
             "gridcolor": "white",
             "linecolor": "white",
             "minorgridcolor": "white",
             "startlinecolor": "#2a3f5f"
            },
            "baxis": {
             "endlinecolor": "#2a3f5f",
             "gridcolor": "white",
             "linecolor": "white",
             "minorgridcolor": "white",
             "startlinecolor": "#2a3f5f"
            },
            "type": "carpet"
           }
          ],
          "choropleth": [
           {
            "colorbar": {
             "outlinewidth": 0,
             "ticks": ""
            },
            "type": "choropleth"
           }
          ],
          "contour": [
           {
            "colorbar": {
             "outlinewidth": 0,
             "ticks": ""
            },
            "colorscale": [
             [
              0,
              "#0d0887"
             ],
             [
              0.1111111111111111,
              "#46039f"
             ],
             [
              0.2222222222222222,
              "#7201a8"
             ],
             [
              0.3333333333333333,
              "#9c179e"
             ],
             [
              0.4444444444444444,
              "#bd3786"
             ],
             [
              0.5555555555555556,
              "#d8576b"
             ],
             [
              0.6666666666666666,
              "#ed7953"
             ],
             [
              0.7777777777777778,
              "#fb9f3a"
             ],
             [
              0.8888888888888888,
              "#fdca26"
             ],
             [
              1,
              "#f0f921"
             ]
            ],
            "type": "contour"
           }
          ],
          "contourcarpet": [
           {
            "colorbar": {
             "outlinewidth": 0,
             "ticks": ""
            },
            "type": "contourcarpet"
           }
          ],
          "heatmap": [
           {
            "colorbar": {
             "outlinewidth": 0,
             "ticks": ""
            },
            "colorscale": [
             [
              0,
              "#0d0887"
             ],
             [
              0.1111111111111111,
              "#46039f"
             ],
             [
              0.2222222222222222,
              "#7201a8"
             ],
             [
              0.3333333333333333,
              "#9c179e"
             ],
             [
              0.4444444444444444,
              "#bd3786"
             ],
             [
              0.5555555555555556,
              "#d8576b"
             ],
             [
              0.6666666666666666,
              "#ed7953"
             ],
             [
              0.7777777777777778,
              "#fb9f3a"
             ],
             [
              0.8888888888888888,
              "#fdca26"
             ],
             [
              1,
              "#f0f921"
             ]
            ],
            "type": "heatmap"
           }
          ],
          "heatmapgl": [
           {
            "colorbar": {
             "outlinewidth": 0,
             "ticks": ""
            },
            "colorscale": [
             [
              0,
              "#0d0887"
             ],
             [
              0.1111111111111111,
              "#46039f"
             ],
             [
              0.2222222222222222,
              "#7201a8"
             ],
             [
              0.3333333333333333,
              "#9c179e"
             ],
             [
              0.4444444444444444,
              "#bd3786"
             ],
             [
              0.5555555555555556,
              "#d8576b"
             ],
             [
              0.6666666666666666,
              "#ed7953"
             ],
             [
              0.7777777777777778,
              "#fb9f3a"
             ],
             [
              0.8888888888888888,
              "#fdca26"
             ],
             [
              1,
              "#f0f921"
             ]
            ],
            "type": "heatmapgl"
           }
          ],
          "histogram": [
           {
            "marker": {
             "pattern": {
              "fillmode": "overlay",
              "size": 10,
              "solidity": 0.2
             }
            },
            "type": "histogram"
           }
          ],
          "histogram2d": [
           {
            "colorbar": {
             "outlinewidth": 0,
             "ticks": ""
            },
            "colorscale": [
             [
              0,
              "#0d0887"
             ],
             [
              0.1111111111111111,
              "#46039f"
             ],
             [
              0.2222222222222222,
              "#7201a8"
             ],
             [
              0.3333333333333333,
              "#9c179e"
             ],
             [
              0.4444444444444444,
              "#bd3786"
             ],
             [
              0.5555555555555556,
              "#d8576b"
             ],
             [
              0.6666666666666666,
              "#ed7953"
             ],
             [
              0.7777777777777778,
              "#fb9f3a"
             ],
             [
              0.8888888888888888,
              "#fdca26"
             ],
             [
              1,
              "#f0f921"
             ]
            ],
            "type": "histogram2d"
           }
          ],
          "histogram2dcontour": [
           {
            "colorbar": {
             "outlinewidth": 0,
             "ticks": ""
            },
            "colorscale": [
             [
              0,
              "#0d0887"
             ],
             [
              0.1111111111111111,
              "#46039f"
             ],
             [
              0.2222222222222222,
              "#7201a8"
             ],
             [
              0.3333333333333333,
              "#9c179e"
             ],
             [
              0.4444444444444444,
              "#bd3786"
             ],
             [
              0.5555555555555556,
              "#d8576b"
             ],
             [
              0.6666666666666666,
              "#ed7953"
             ],
             [
              0.7777777777777778,
              "#fb9f3a"
             ],
             [
              0.8888888888888888,
              "#fdca26"
             ],
             [
              1,
              "#f0f921"
             ]
            ],
            "type": "histogram2dcontour"
           }
          ],
          "mesh3d": [
           {
            "colorbar": {
             "outlinewidth": 0,
             "ticks": ""
            },
            "type": "mesh3d"
           }
          ],
          "parcoords": [
           {
            "line": {
             "colorbar": {
              "outlinewidth": 0,
              "ticks": ""
             }
            },
            "type": "parcoords"
           }
          ],
          "pie": [
           {
            "automargin": true,
            "type": "pie"
           }
          ],
          "scatter": [
           {
            "fillpattern": {
             "fillmode": "overlay",
             "size": 10,
             "solidity": 0.2
            },
            "type": "scatter"
           }
          ],
          "scatter3d": [
           {
            "line": {
             "colorbar": {
              "outlinewidth": 0,
              "ticks": ""
             }
            },
            "marker": {
             "colorbar": {
              "outlinewidth": 0,
              "ticks": ""
             }
            },
            "type": "scatter3d"
           }
          ],
          "scattercarpet": [
           {
            "marker": {
             "colorbar": {
              "outlinewidth": 0,
              "ticks": ""
             }
            },
            "type": "scattercarpet"
           }
          ],
          "scattergeo": [
           {
            "marker": {
             "colorbar": {
              "outlinewidth": 0,
              "ticks": ""
             }
            },
            "type": "scattergeo"
           }
          ],
          "scattergl": [
           {
            "marker": {
             "colorbar": {
              "outlinewidth": 0,
              "ticks": ""
             }
            },
            "type": "scattergl"
           }
          ],
          "scattermapbox": [
           {
            "marker": {
             "colorbar": {
              "outlinewidth": 0,
              "ticks": ""
             }
            },
            "type": "scattermapbox"
           }
          ],
          "scatterpolar": [
           {
            "marker": {
             "colorbar": {
              "outlinewidth": 0,
              "ticks": ""
             }
            },
            "type": "scatterpolar"
           }
          ],
          "scatterpolargl": [
           {
            "marker": {
             "colorbar": {
              "outlinewidth": 0,
              "ticks": ""
             }
            },
            "type": "scatterpolargl"
           }
          ],
          "scatterternary": [
           {
            "marker": {
             "colorbar": {
              "outlinewidth": 0,
              "ticks": ""
             }
            },
            "type": "scatterternary"
           }
          ],
          "surface": [
           {
            "colorbar": {
             "outlinewidth": 0,
             "ticks": ""
            },
            "colorscale": [
             [
              0,
              "#0d0887"
             ],
             [
              0.1111111111111111,
              "#46039f"
             ],
             [
              0.2222222222222222,
              "#7201a8"
             ],
             [
              0.3333333333333333,
              "#9c179e"
             ],
             [
              0.4444444444444444,
              "#bd3786"
             ],
             [
              0.5555555555555556,
              "#d8576b"
             ],
             [
              0.6666666666666666,
              "#ed7953"
             ],
             [
              0.7777777777777778,
              "#fb9f3a"
             ],
             [
              0.8888888888888888,
              "#fdca26"
             ],
             [
              1,
              "#f0f921"
             ]
            ],
            "type": "surface"
           }
          ],
          "table": [
           {
            "cells": {
             "fill": {
              "color": "#EBF0F8"
             },
             "line": {
              "color": "white"
             }
            },
            "header": {
             "fill": {
              "color": "#C8D4E3"
             },
             "line": {
              "color": "white"
             }
            },
            "type": "table"
           }
          ]
         },
         "layout": {
          "annotationdefaults": {
           "arrowcolor": "#2a3f5f",
           "arrowhead": 0,
           "arrowwidth": 1
          },
          "autotypenumbers": "strict",
          "coloraxis": {
           "colorbar": {
            "outlinewidth": 0,
            "ticks": ""
           }
          },
          "colorscale": {
           "diverging": [
            [
             0,
             "#8e0152"
            ],
            [
             0.1,
             "#c51b7d"
            ],
            [
             0.2,
             "#de77ae"
            ],
            [
             0.3,
             "#f1b6da"
            ],
            [
             0.4,
             "#fde0ef"
            ],
            [
             0.5,
             "#f7f7f7"
            ],
            [
             0.6,
             "#e6f5d0"
            ],
            [
             0.7,
             "#b8e186"
            ],
            [
             0.8,
             "#7fbc41"
            ],
            [
             0.9,
             "#4d9221"
            ],
            [
             1,
             "#276419"
            ]
           ],
           "sequential": [
            [
             0,
             "#0d0887"
            ],
            [
             0.1111111111111111,
             "#46039f"
            ],
            [
             0.2222222222222222,
             "#7201a8"
            ],
            [
             0.3333333333333333,
             "#9c179e"
            ],
            [
             0.4444444444444444,
             "#bd3786"
            ],
            [
             0.5555555555555556,
             "#d8576b"
            ],
            [
             0.6666666666666666,
             "#ed7953"
            ],
            [
             0.7777777777777778,
             "#fb9f3a"
            ],
            [
             0.8888888888888888,
             "#fdca26"
            ],
            [
             1,
             "#f0f921"
            ]
           ],
           "sequentialminus": [
            [
             0,
             "#0d0887"
            ],
            [
             0.1111111111111111,
             "#46039f"
            ],
            [
             0.2222222222222222,
             "#7201a8"
            ],
            [
             0.3333333333333333,
             "#9c179e"
            ],
            [
             0.4444444444444444,
             "#bd3786"
            ],
            [
             0.5555555555555556,
             "#d8576b"
            ],
            [
             0.6666666666666666,
             "#ed7953"
            ],
            [
             0.7777777777777778,
             "#fb9f3a"
            ],
            [
             0.8888888888888888,
             "#fdca26"
            ],
            [
             1,
             "#f0f921"
            ]
           ]
          },
          "colorway": [
           "#636efa",
           "#EF553B",
           "#00cc96",
           "#ab63fa",
           "#FFA15A",
           "#19d3f3",
           "#FF6692",
           "#B6E880",
           "#FF97FF",
           "#FECB52"
          ],
          "font": {
           "color": "#2a3f5f"
          },
          "geo": {
           "bgcolor": "white",
           "lakecolor": "white",
           "landcolor": "#E5ECF6",
           "showlakes": true,
           "showland": true,
           "subunitcolor": "white"
          },
          "hoverlabel": {
           "align": "left"
          },
          "hovermode": "closest",
          "mapbox": {
           "style": "light"
          },
          "paper_bgcolor": "white",
          "plot_bgcolor": "#E5ECF6",
          "polar": {
           "angularaxis": {
            "gridcolor": "white",
            "linecolor": "white",
            "ticks": ""
           },
           "bgcolor": "#E5ECF6",
           "radialaxis": {
            "gridcolor": "white",
            "linecolor": "white",
            "ticks": ""
           }
          },
          "scene": {
           "xaxis": {
            "backgroundcolor": "#E5ECF6",
            "gridcolor": "white",
            "gridwidth": 2,
            "linecolor": "white",
            "showbackground": true,
            "ticks": "",
            "zerolinecolor": "white"
           },
           "yaxis": {
            "backgroundcolor": "#E5ECF6",
            "gridcolor": "white",
            "gridwidth": 2,
            "linecolor": "white",
            "showbackground": true,
            "ticks": "",
            "zerolinecolor": "white"
           },
           "zaxis": {
            "backgroundcolor": "#E5ECF6",
            "gridcolor": "white",
            "gridwidth": 2,
            "linecolor": "white",
            "showbackground": true,
            "ticks": "",
            "zerolinecolor": "white"
           }
          },
          "shapedefaults": {
           "line": {
            "color": "#2a3f5f"
           }
          },
          "ternary": {
           "aaxis": {
            "gridcolor": "white",
            "linecolor": "white",
            "ticks": ""
           },
           "baxis": {
            "gridcolor": "white",
            "linecolor": "white",
            "ticks": ""
           },
           "bgcolor": "#E5ECF6",
           "caxis": {
            "gridcolor": "white",
            "linecolor": "white",
            "ticks": ""
           }
          },
          "title": {
           "x": 0.05
          },
          "xaxis": {
           "automargin": true,
           "gridcolor": "white",
           "linecolor": "white",
           "ticks": "",
           "title": {
            "standoff": 15
           },
           "zerolinecolor": "white",
           "zerolinewidth": 2
          },
          "yaxis": {
           "automargin": true,
           "gridcolor": "white",
           "linecolor": "white",
           "ticks": "",
           "title": {
            "standoff": 15
           },
           "zerolinecolor": "white",
           "zerolinewidth": 2
          }
         }
        },
        "updatemenus": [
         {
          "buttons": [
           {
            "args": [
             null,
             {
              "frame": {
               "duration": 500,
               "redraw": true
              },
              "fromcurrent": true,
              "mode": "immediate",
              "transition": {
               "duration": 500,
               "easing": "linear"
              }
             }
            ],
            "label": "&#9654;",
            "method": "animate"
           },
           {
            "args": [
             [
              null
             ],
             {
              "frame": {
               "duration": 0,
               "redraw": true
              },
              "fromcurrent": true,
              "mode": "immediate",
              "transition": {
               "duration": 0,
               "easing": "linear"
              }
             }
            ],
            "label": "&#9724;",
            "method": "animate"
           }
          ],
          "direction": "left",
          "pad": {
           "r": 10,
           "t": 70
          },
          "showactive": false,
          "type": "buttons",
          "x": 0.1,
          "xanchor": "right",
          "y": 0,
          "yanchor": "top"
         }
        ]
       }
      }
     },
     "metadata": {},
     "output_type": "display_data"
    }
   ],
   "source": [
    "fig = px.scatter_geo(unnested_df, lat=\"lat\",lon=\"lon\", color=\"region\",\n",
    "                     hover_name=\"country\", size=\"wind_kph\",\n",
    "                     animation_frame=\"time\",\n",
    "                     projection=\"natural earth\")\n",
    "\n",
    "fig.show()"
   ]
  },
  {
   "cell_type": "code",
   "execution_count": 10,
   "metadata": {},
   "outputs": [
    {
     "data": {
      "application/vnd.plotly.v1+json": {
       "config": {
        "plotlyServerURL": "https://plot.ly"
       },
       "data": [
        {
         "customdata": [
          [
           "2023-12-01 00:00",
           0.5,
           -2.9
          ]
         ],
         "geo": "geo",
         "hovertemplate": "time=%{customdata[0]}<br>lat=%{lat}<br>lon=%{lon}<br>temp_c=%{marker.color}<br>windchill_c=%{customdata[2]}<extra></extra>",
         "lat": [
          53.1
         ],
         "legendgroup": "",
         "lon": [
          -0.13
         ],
         "marker": {
          "color": [
           0.5
          ],
          "coloraxis": "coloraxis",
          "symbol": "circle"
         },
         "mode": "markers",
         "name": "",
         "showlegend": false,
         "type": "scattergeo"
        }
       ],
       "frames": [
        {
         "data": [
          {
           "customdata": [
            [
             "2023-12-01 00:00",
             0.5,
             -2.9
            ]
           ],
           "geo": "geo",
           "hovertemplate": "time=%{customdata[0]}<br>lat=%{lat}<br>lon=%{lon}<br>temp_c=%{marker.color}<br>windchill_c=%{customdata[2]}<extra></extra>",
           "lat": [
            53.1
           ],
           "legendgroup": "",
           "lon": [
            -0.13
           ],
           "marker": {
            "color": [
             0.5
            ],
            "coloraxis": "coloraxis",
            "symbol": "circle"
           },
           "mode": "markers",
           "name": "",
           "showlegend": false,
           "type": "scattergeo"
          }
         ],
         "name": "2023-12-01 00:00"
        },
        {
         "data": [
          {
           "customdata": [
            [
             "2023-12-01 01:00",
             0.7,
             -2.5
            ]
           ],
           "geo": "geo",
           "hovertemplate": "time=%{customdata[0]}<br>lat=%{lat}<br>lon=%{lon}<br>temp_c=%{marker.color}<br>windchill_c=%{customdata[2]}<extra></extra>",
           "lat": [
            53.1
           ],
           "legendgroup": "",
           "lon": [
            -0.13
           ],
           "marker": {
            "color": [
             0.7
            ],
            "coloraxis": "coloraxis",
            "symbol": "circle"
           },
           "mode": "markers",
           "name": "",
           "showlegend": false,
           "type": "scattergeo"
          }
         ],
         "name": "2023-12-01 01:00"
        },
        {
         "data": [
          {
           "customdata": [
            [
             "2023-12-01 02:00",
             1,
             -2.2
            ]
           ],
           "geo": "geo",
           "hovertemplate": "time=%{customdata[0]}<br>lat=%{lat}<br>lon=%{lon}<br>temp_c=%{marker.color}<br>windchill_c=%{customdata[2]}<extra></extra>",
           "lat": [
            53.1
           ],
           "legendgroup": "",
           "lon": [
            -0.13
           ],
           "marker": {
            "color": [
             1
            ],
            "coloraxis": "coloraxis",
            "symbol": "circle"
           },
           "mode": "markers",
           "name": "",
           "showlegend": false,
           "type": "scattergeo"
          }
         ],
         "name": "2023-12-01 02:00"
        },
        {
         "data": [
          {
           "customdata": [
            [
             "2023-12-01 03:00",
             0.8,
             -2.4
            ]
           ],
           "geo": "geo",
           "hovertemplate": "time=%{customdata[0]}<br>lat=%{lat}<br>lon=%{lon}<br>temp_c=%{marker.color}<br>windchill_c=%{customdata[2]}<extra></extra>",
           "lat": [
            53.1
           ],
           "legendgroup": "",
           "lon": [
            -0.13
           ],
           "marker": {
            "color": [
             0.8
            ],
            "coloraxis": "coloraxis",
            "symbol": "circle"
           },
           "mode": "markers",
           "name": "",
           "showlegend": false,
           "type": "scattergeo"
          }
         ],
         "name": "2023-12-01 03:00"
        },
        {
         "data": [
          {
           "customdata": [
            [
             "2023-12-01 04:00",
             0.6,
             -2.5
            ]
           ],
           "geo": "geo",
           "hovertemplate": "time=%{customdata[0]}<br>lat=%{lat}<br>lon=%{lon}<br>temp_c=%{marker.color}<br>windchill_c=%{customdata[2]}<extra></extra>",
           "lat": [
            53.1
           ],
           "legendgroup": "",
           "lon": [
            -0.13
           ],
           "marker": {
            "color": [
             0.6
            ],
            "coloraxis": "coloraxis",
            "symbol": "circle"
           },
           "mode": "markers",
           "name": "",
           "showlegend": false,
           "type": "scattergeo"
          }
         ],
         "name": "2023-12-01 04:00"
        },
        {
         "data": [
          {
           "customdata": [
            [
             "2023-12-01 05:00",
             0.7,
             -2.5
            ]
           ],
           "geo": "geo",
           "hovertemplate": "time=%{customdata[0]}<br>lat=%{lat}<br>lon=%{lon}<br>temp_c=%{marker.color}<br>windchill_c=%{customdata[2]}<extra></extra>",
           "lat": [
            53.1
           ],
           "legendgroup": "",
           "lon": [
            -0.13
           ],
           "marker": {
            "color": [
             0.7
            ],
            "coloraxis": "coloraxis",
            "symbol": "circle"
           },
           "mode": "markers",
           "name": "",
           "showlegend": false,
           "type": "scattergeo"
          }
         ],
         "name": "2023-12-01 05:00"
        },
        {
         "data": [
          {
           "customdata": [
            [
             "2023-12-01 06:00",
             0.9,
             -2.2
            ]
           ],
           "geo": "geo",
           "hovertemplate": "time=%{customdata[0]}<br>lat=%{lat}<br>lon=%{lon}<br>temp_c=%{marker.color}<br>windchill_c=%{customdata[2]}<extra></extra>",
           "lat": [
            53.1
           ],
           "legendgroup": "",
           "lon": [
            -0.13
           ],
           "marker": {
            "color": [
             0.9
            ],
            "coloraxis": "coloraxis",
            "symbol": "circle"
           },
           "mode": "markers",
           "name": "",
           "showlegend": false,
           "type": "scattergeo"
          }
         ],
         "name": "2023-12-01 06:00"
        },
        {
         "data": [
          {
           "customdata": [
            [
             "2023-12-01 07:00",
             1.3,
             -1.5
            ]
           ],
           "geo": "geo",
           "hovertemplate": "time=%{customdata[0]}<br>lat=%{lat}<br>lon=%{lon}<br>temp_c=%{marker.color}<br>windchill_c=%{customdata[2]}<extra></extra>",
           "lat": [
            53.1
           ],
           "legendgroup": "",
           "lon": [
            -0.13
           ],
           "marker": {
            "color": [
             1.3
            ],
            "coloraxis": "coloraxis",
            "symbol": "circle"
           },
           "mode": "markers",
           "name": "",
           "showlegend": false,
           "type": "scattergeo"
          }
         ],
         "name": "2023-12-01 07:00"
        },
        {
         "data": [
          {
           "customdata": [
            [
             "2023-12-01 08:00",
             1.9,
             -0.9
            ]
           ],
           "geo": "geo",
           "hovertemplate": "time=%{customdata[0]}<br>lat=%{lat}<br>lon=%{lon}<br>temp_c=%{marker.color}<br>windchill_c=%{customdata[2]}<extra></extra>",
           "lat": [
            53.1
           ],
           "legendgroup": "",
           "lon": [
            -0.13
           ],
           "marker": {
            "color": [
             1.9
            ],
            "coloraxis": "coloraxis",
            "symbol": "circle"
           },
           "mode": "markers",
           "name": "",
           "showlegend": false,
           "type": "scattergeo"
          }
         ],
         "name": "2023-12-01 08:00"
        },
        {
         "data": [
          {
           "customdata": [
            [
             "2023-12-01 09:00",
             1.7,
             -0.8
            ]
           ],
           "geo": "geo",
           "hovertemplate": "time=%{customdata[0]}<br>lat=%{lat}<br>lon=%{lon}<br>temp_c=%{marker.color}<br>windchill_c=%{customdata[2]}<extra></extra>",
           "lat": [
            53.1
           ],
           "legendgroup": "",
           "lon": [
            -0.13
           ],
           "marker": {
            "color": [
             1.7
            ],
            "coloraxis": "coloraxis",
            "symbol": "circle"
           },
           "mode": "markers",
           "name": "",
           "showlegend": false,
           "type": "scattergeo"
          }
         ],
         "name": "2023-12-01 09:00"
        },
        {
         "data": [
          {
           "customdata": [
            [
             "2023-12-01 10:00",
             2.6,
             0.3
            ]
           ],
           "geo": "geo",
           "hovertemplate": "time=%{customdata[0]}<br>lat=%{lat}<br>lon=%{lon}<br>temp_c=%{marker.color}<br>windchill_c=%{customdata[2]}<extra></extra>",
           "lat": [
            53.1
           ],
           "legendgroup": "",
           "lon": [
            -0.13
           ],
           "marker": {
            "color": [
             2.6
            ],
            "coloraxis": "coloraxis",
            "symbol": "circle"
           },
           "mode": "markers",
           "name": "",
           "showlegend": false,
           "type": "scattergeo"
          }
         ],
         "name": "2023-12-01 10:00"
        },
        {
         "data": [
          {
           "customdata": [
            [
             "2023-12-01 11:00",
             3.7,
             1.1
            ]
           ],
           "geo": "geo",
           "hovertemplate": "time=%{customdata[0]}<br>lat=%{lat}<br>lon=%{lon}<br>temp_c=%{marker.color}<br>windchill_c=%{customdata[2]}<extra></extra>",
           "lat": [
            53.1
           ],
           "legendgroup": "",
           "lon": [
            -0.13
           ],
           "marker": {
            "color": [
             3.7
            ],
            "coloraxis": "coloraxis",
            "symbol": "circle"
           },
           "mode": "markers",
           "name": "",
           "showlegend": false,
           "type": "scattergeo"
          }
         ],
         "name": "2023-12-01 11:00"
        },
        {
         "data": [
          {
           "customdata": [
            [
             "2023-12-01 12:00",
             4.3,
             1.5
            ]
           ],
           "geo": "geo",
           "hovertemplate": "time=%{customdata[0]}<br>lat=%{lat}<br>lon=%{lon}<br>temp_c=%{marker.color}<br>windchill_c=%{customdata[2]}<extra></extra>",
           "lat": [
            53.1
           ],
           "legendgroup": "",
           "lon": [
            -0.13
           ],
           "marker": {
            "color": [
             4.3
            ],
            "coloraxis": "coloraxis",
            "symbol": "circle"
           },
           "mode": "markers",
           "name": "",
           "showlegend": false,
           "type": "scattergeo"
          }
         ],
         "name": "2023-12-01 12:00"
        },
        {
         "data": [
          {
           "customdata": [
            [
             "2023-12-01 13:00",
             4.2,
             1.3
            ]
           ],
           "geo": "geo",
           "hovertemplate": "time=%{customdata[0]}<br>lat=%{lat}<br>lon=%{lon}<br>temp_c=%{marker.color}<br>windchill_c=%{customdata[2]}<extra></extra>",
           "lat": [
            53.1
           ],
           "legendgroup": "",
           "lon": [
            -0.13
           ],
           "marker": {
            "color": [
             4.2
            ],
            "coloraxis": "coloraxis",
            "symbol": "circle"
           },
           "mode": "markers",
           "name": "",
           "showlegend": false,
           "type": "scattergeo"
          }
         ],
         "name": "2023-12-01 13:00"
        },
        {
         "data": [
          {
           "customdata": [
            [
             "2023-12-01 14:00",
             3.8,
             1
            ]
           ],
           "geo": "geo",
           "hovertemplate": "time=%{customdata[0]}<br>lat=%{lat}<br>lon=%{lon}<br>temp_c=%{marker.color}<br>windchill_c=%{customdata[2]}<extra></extra>",
           "lat": [
            53.1
           ],
           "legendgroup": "",
           "lon": [
            -0.13
           ],
           "marker": {
            "color": [
             3.8
            ],
            "coloraxis": "coloraxis",
            "symbol": "circle"
           },
           "mode": "markers",
           "name": "",
           "showlegend": false,
           "type": "scattergeo"
          }
         ],
         "name": "2023-12-01 14:00"
        },
        {
         "data": [
          {
           "customdata": [
            [
             "2023-12-01 15:00",
             2.7,
             0.3
            ]
           ],
           "geo": "geo",
           "hovertemplate": "time=%{customdata[0]}<br>lat=%{lat}<br>lon=%{lon}<br>temp_c=%{marker.color}<br>windchill_c=%{customdata[2]}<extra></extra>",
           "lat": [
            53.1
           ],
           "legendgroup": "",
           "lon": [
            -0.13
           ],
           "marker": {
            "color": [
             2.7
            ],
            "coloraxis": "coloraxis",
            "symbol": "circle"
           },
           "mode": "markers",
           "name": "",
           "showlegend": false,
           "type": "scattergeo"
          }
         ],
         "name": "2023-12-01 15:00"
        },
        {
         "data": [
          {
           "customdata": [
            [
             "2023-12-01 16:00",
             1.8,
             -0.7
            ]
           ],
           "geo": "geo",
           "hovertemplate": "time=%{customdata[0]}<br>lat=%{lat}<br>lon=%{lon}<br>temp_c=%{marker.color}<br>windchill_c=%{customdata[2]}<extra></extra>",
           "lat": [
            53.1
           ],
           "legendgroup": "",
           "lon": [
            -0.13
           ],
           "marker": {
            "color": [
             1.8
            ],
            "coloraxis": "coloraxis",
            "symbol": "circle"
           },
           "mode": "markers",
           "name": "",
           "showlegend": false,
           "type": "scattergeo"
          }
         ],
         "name": "2023-12-01 16:00"
        },
        {
         "data": [
          {
           "customdata": [
            [
             "2023-12-01 17:00",
             1.6,
             -1
            ]
           ],
           "geo": "geo",
           "hovertemplate": "time=%{customdata[0]}<br>lat=%{lat}<br>lon=%{lon}<br>temp_c=%{marker.color}<br>windchill_c=%{customdata[2]}<extra></extra>",
           "lat": [
            53.1
           ],
           "legendgroup": "",
           "lon": [
            -0.13
           ],
           "marker": {
            "color": [
             1.6
            ],
            "coloraxis": "coloraxis",
            "symbol": "circle"
           },
           "mode": "markers",
           "name": "",
           "showlegend": false,
           "type": "scattergeo"
          }
         ],
         "name": "2023-12-01 17:00"
        },
        {
         "data": [
          {
           "customdata": [
            [
             "2023-12-01 18:00",
             1.4,
             -1.3
            ]
           ],
           "geo": "geo",
           "hovertemplate": "time=%{customdata[0]}<br>lat=%{lat}<br>lon=%{lon}<br>temp_c=%{marker.color}<br>windchill_c=%{customdata[2]}<extra></extra>",
           "lat": [
            53.1
           ],
           "legendgroup": "",
           "lon": [
            -0.13
           ],
           "marker": {
            "color": [
             1.4
            ],
            "coloraxis": "coloraxis",
            "symbol": "circle"
           },
           "mode": "markers",
           "name": "",
           "showlegend": false,
           "type": "scattergeo"
          }
         ],
         "name": "2023-12-01 18:00"
        },
        {
         "data": [
          {
           "customdata": [
            [
             "2023-12-01 19:00",
             1.3,
             -1.3
            ]
           ],
           "geo": "geo",
           "hovertemplate": "time=%{customdata[0]}<br>lat=%{lat}<br>lon=%{lon}<br>temp_c=%{marker.color}<br>windchill_c=%{customdata[2]}<extra></extra>",
           "lat": [
            53.1
           ],
           "legendgroup": "",
           "lon": [
            -0.13
           ],
           "marker": {
            "color": [
             1.3
            ],
            "coloraxis": "coloraxis",
            "symbol": "circle"
           },
           "mode": "markers",
           "name": "",
           "showlegend": false,
           "type": "scattergeo"
          }
         ],
         "name": "2023-12-01 19:00"
        },
        {
         "data": [
          {
           "customdata": [
            [
             "2023-12-01 20:00",
             1.2,
             -1.4
            ]
           ],
           "geo": "geo",
           "hovertemplate": "time=%{customdata[0]}<br>lat=%{lat}<br>lon=%{lon}<br>temp_c=%{marker.color}<br>windchill_c=%{customdata[2]}<extra></extra>",
           "lat": [
            53.1
           ],
           "legendgroup": "",
           "lon": [
            -0.13
           ],
           "marker": {
            "color": [
             1.2
            ],
            "coloraxis": "coloraxis",
            "symbol": "circle"
           },
           "mode": "markers",
           "name": "",
           "showlegend": false,
           "type": "scattergeo"
          }
         ],
         "name": "2023-12-01 20:00"
        },
        {
         "data": [
          {
           "customdata": [
            [
             "2023-12-01 21:00",
             1.1,
             -1.6
            ]
           ],
           "geo": "geo",
           "hovertemplate": "time=%{customdata[0]}<br>lat=%{lat}<br>lon=%{lon}<br>temp_c=%{marker.color}<br>windchill_c=%{customdata[2]}<extra></extra>",
           "lat": [
            53.1
           ],
           "legendgroup": "",
           "lon": [
            -0.13
           ],
           "marker": {
            "color": [
             1.1
            ],
            "coloraxis": "coloraxis",
            "symbol": "circle"
           },
           "mode": "markers",
           "name": "",
           "showlegend": false,
           "type": "scattergeo"
          }
         ],
         "name": "2023-12-01 21:00"
        },
        {
         "data": [
          {
           "customdata": [
            [
             "2023-12-01 22:00",
             0.8,
             -1.8
            ]
           ],
           "geo": "geo",
           "hovertemplate": "time=%{customdata[0]}<br>lat=%{lat}<br>lon=%{lon}<br>temp_c=%{marker.color}<br>windchill_c=%{customdata[2]}<extra></extra>",
           "lat": [
            53.1
           ],
           "legendgroup": "",
           "lon": [
            -0.13
           ],
           "marker": {
            "color": [
             0.8
            ],
            "coloraxis": "coloraxis",
            "symbol": "circle"
           },
           "mode": "markers",
           "name": "",
           "showlegend": false,
           "type": "scattergeo"
          }
         ],
         "name": "2023-12-01 22:00"
        },
        {
         "data": [
          {
           "customdata": [
            [
             "2023-12-01 23:00",
             -1,
             -2.3
            ]
           ],
           "geo": "geo",
           "hovertemplate": "time=%{customdata[0]}<br>lat=%{lat}<br>lon=%{lon}<br>temp_c=%{marker.color}<br>windchill_c=%{customdata[2]}<extra></extra>",
           "lat": [
            53.1
           ],
           "legendgroup": "",
           "lon": [
            -0.13
           ],
           "marker": {
            "color": [
             -1
            ],
            "coloraxis": "coloraxis",
            "symbol": "circle"
           },
           "mode": "markers",
           "name": "",
           "showlegend": false,
           "type": "scattergeo"
          }
         ],
         "name": "2023-12-01 23:00"
        },
        {
         "data": [
          {
           "customdata": [
            [
             "2023-12-02 00:00",
             0.4,
             -2.5
            ]
           ],
           "geo": "geo",
           "hovertemplate": "time=%{customdata[0]}<br>lat=%{lat}<br>lon=%{lon}<br>temp_c=%{marker.color}<br>windchill_c=%{customdata[2]}<extra></extra>",
           "lat": [
            53.1
           ],
           "legendgroup": "",
           "lon": [
            -0.13
           ],
           "marker": {
            "color": [
             0.4
            ],
            "coloraxis": "coloraxis",
            "symbol": "circle"
           },
           "mode": "markers",
           "name": "",
           "showlegend": false,
           "type": "scattergeo"
          }
         ],
         "name": "2023-12-02 00:00"
        },
        {
         "data": [
          {
           "customdata": [
            [
             "2023-12-02 01:00",
             0.3,
             -2.8
            ]
           ],
           "geo": "geo",
           "hovertemplate": "time=%{customdata[0]}<br>lat=%{lat}<br>lon=%{lon}<br>temp_c=%{marker.color}<br>windchill_c=%{customdata[2]}<extra></extra>",
           "lat": [
            53.1
           ],
           "legendgroup": "",
           "lon": [
            -0.13
           ],
           "marker": {
            "color": [
             0.3
            ],
            "coloraxis": "coloraxis",
            "symbol": "circle"
           },
           "mode": "markers",
           "name": "",
           "showlegend": false,
           "type": "scattergeo"
          }
         ],
         "name": "2023-12-02 01:00"
        },
        {
         "data": [
          {
           "customdata": [
            [
             "2023-12-02 02:00",
             0.3,
             -2.8
            ]
           ],
           "geo": "geo",
           "hovertemplate": "time=%{customdata[0]}<br>lat=%{lat}<br>lon=%{lon}<br>temp_c=%{marker.color}<br>windchill_c=%{customdata[2]}<extra></extra>",
           "lat": [
            53.1
           ],
           "legendgroup": "",
           "lon": [
            -0.13
           ],
           "marker": {
            "color": [
             0.3
            ],
            "coloraxis": "coloraxis",
            "symbol": "circle"
           },
           "mode": "markers",
           "name": "",
           "showlegend": false,
           "type": "scattergeo"
          }
         ],
         "name": "2023-12-02 02:00"
        },
        {
         "data": [
          {
           "customdata": [
            [
             "2023-12-02 03:00",
             0.3,
             -2.9
            ]
           ],
           "geo": "geo",
           "hovertemplate": "time=%{customdata[0]}<br>lat=%{lat}<br>lon=%{lon}<br>temp_c=%{marker.color}<br>windchill_c=%{customdata[2]}<extra></extra>",
           "lat": [
            53.1
           ],
           "legendgroup": "",
           "lon": [
            -0.13
           ],
           "marker": {
            "color": [
             0.3
            ],
            "coloraxis": "coloraxis",
            "symbol": "circle"
           },
           "mode": "markers",
           "name": "",
           "showlegend": false,
           "type": "scattergeo"
          }
         ],
         "name": "2023-12-02 03:00"
        },
        {
         "data": [
          {
           "customdata": [
            [
             "2023-12-02 04:00",
             0.2,
             -2.9
            ]
           ],
           "geo": "geo",
           "hovertemplate": "time=%{customdata[0]}<br>lat=%{lat}<br>lon=%{lon}<br>temp_c=%{marker.color}<br>windchill_c=%{customdata[2]}<extra></extra>",
           "lat": [
            53.1
           ],
           "legendgroup": "",
           "lon": [
            -0.13
           ],
           "marker": {
            "color": [
             0.2
            ],
            "coloraxis": "coloraxis",
            "symbol": "circle"
           },
           "mode": "markers",
           "name": "",
           "showlegend": false,
           "type": "scattergeo"
          }
         ],
         "name": "2023-12-02 04:00"
        },
        {
         "data": [
          {
           "customdata": [
            [
             "2023-12-02 05:00",
             0.2,
             -2.9
            ]
           ],
           "geo": "geo",
           "hovertemplate": "time=%{customdata[0]}<br>lat=%{lat}<br>lon=%{lon}<br>temp_c=%{marker.color}<br>windchill_c=%{customdata[2]}<extra></extra>",
           "lat": [
            53.1
           ],
           "legendgroup": "",
           "lon": [
            -0.13
           ],
           "marker": {
            "color": [
             0.2
            ],
            "coloraxis": "coloraxis",
            "symbol": "circle"
           },
           "mode": "markers",
           "name": "",
           "showlegend": false,
           "type": "scattergeo"
          }
         ],
         "name": "2023-12-02 05:00"
        },
        {
         "data": [
          {
           "customdata": [
            [
             "2023-12-02 06:00",
             0.1,
             -2.7
            ]
           ],
           "geo": "geo",
           "hovertemplate": "time=%{customdata[0]}<br>lat=%{lat}<br>lon=%{lon}<br>temp_c=%{marker.color}<br>windchill_c=%{customdata[2]}<extra></extra>",
           "lat": [
            53.1
           ],
           "legendgroup": "",
           "lon": [
            -0.13
           ],
           "marker": {
            "color": [
             0.1
            ],
            "coloraxis": "coloraxis",
            "symbol": "circle"
           },
           "mode": "markers",
           "name": "",
           "showlegend": false,
           "type": "scattergeo"
          }
         ],
         "name": "2023-12-02 06:00"
        },
        {
         "data": [
          {
           "customdata": [
            [
             "2023-12-02 07:00",
             0.1,
             -2.5
            ]
           ],
           "geo": "geo",
           "hovertemplate": "time=%{customdata[0]}<br>lat=%{lat}<br>lon=%{lon}<br>temp_c=%{marker.color}<br>windchill_c=%{customdata[2]}<extra></extra>",
           "lat": [
            53.1
           ],
           "legendgroup": "",
           "lon": [
            -0.13
           ],
           "marker": {
            "color": [
             0.1
            ],
            "coloraxis": "coloraxis",
            "symbol": "circle"
           },
           "mode": "markers",
           "name": "",
           "showlegend": false,
           "type": "scattergeo"
          }
         ],
         "name": "2023-12-02 07:00"
        },
        {
         "data": [
          {
           "customdata": [
            [
             "2023-12-02 08:00",
             0,
             -2.5
            ]
           ],
           "geo": "geo",
           "hovertemplate": "time=%{customdata[0]}<br>lat=%{lat}<br>lon=%{lon}<br>temp_c=%{marker.color}<br>windchill_c=%{customdata[2]}<extra></extra>",
           "lat": [
            53.1
           ],
           "legendgroup": "",
           "lon": [
            -0.13
           ],
           "marker": {
            "color": [
             0
            ],
            "coloraxis": "coloraxis",
            "symbol": "circle"
           },
           "mode": "markers",
           "name": "",
           "showlegend": false,
           "type": "scattergeo"
          }
         ],
         "name": "2023-12-02 08:00"
        },
        {
         "data": [
          {
           "customdata": [
            [
             "2023-12-02 09:00",
             0.3,
             -2.4
            ]
           ],
           "geo": "geo",
           "hovertemplate": "time=%{customdata[0]}<br>lat=%{lat}<br>lon=%{lon}<br>temp_c=%{marker.color}<br>windchill_c=%{customdata[2]}<extra></extra>",
           "lat": [
            53.1
           ],
           "legendgroup": "",
           "lon": [
            -0.13
           ],
           "marker": {
            "color": [
             0.3
            ],
            "coloraxis": "coloraxis",
            "symbol": "circle"
           },
           "mode": "markers",
           "name": "",
           "showlegend": false,
           "type": "scattergeo"
          }
         ],
         "name": "2023-12-02 09:00"
        },
        {
         "data": [
          {
           "customdata": [
            [
             "2023-12-02 10:00",
             1.2,
             -1.1
            ]
           ],
           "geo": "geo",
           "hovertemplate": "time=%{customdata[0]}<br>lat=%{lat}<br>lon=%{lon}<br>temp_c=%{marker.color}<br>windchill_c=%{customdata[2]}<extra></extra>",
           "lat": [
            53.1
           ],
           "legendgroup": "",
           "lon": [
            -0.13
           ],
           "marker": {
            "color": [
             1.2
            ],
            "coloraxis": "coloraxis",
            "symbol": "circle"
           },
           "mode": "markers",
           "name": "",
           "showlegend": false,
           "type": "scattergeo"
          }
         ],
         "name": "2023-12-02 10:00"
        },
        {
         "data": [
          {
           "customdata": [
            [
             "2023-12-02 11:00",
             2.1,
             -0.4
            ]
           ],
           "geo": "geo",
           "hovertemplate": "time=%{customdata[0]}<br>lat=%{lat}<br>lon=%{lon}<br>temp_c=%{marker.color}<br>windchill_c=%{customdata[2]}<extra></extra>",
           "lat": [
            53.1
           ],
           "legendgroup": "",
           "lon": [
            -0.13
           ],
           "marker": {
            "color": [
             2.1
            ],
            "coloraxis": "coloraxis",
            "symbol": "circle"
           },
           "mode": "markers",
           "name": "",
           "showlegend": false,
           "type": "scattergeo"
          }
         ],
         "name": "2023-12-02 11:00"
        },
        {
         "data": [
          {
           "customdata": [
            [
             "2023-12-02 12:00",
             2.7,
             0.2
            ]
           ],
           "geo": "geo",
           "hovertemplate": "time=%{customdata[0]}<br>lat=%{lat}<br>lon=%{lon}<br>temp_c=%{marker.color}<br>windchill_c=%{customdata[2]}<extra></extra>",
           "lat": [
            53.1
           ],
           "legendgroup": "",
           "lon": [
            -0.13
           ],
           "marker": {
            "color": [
             2.7
            ],
            "coloraxis": "coloraxis",
            "symbol": "circle"
           },
           "mode": "markers",
           "name": "",
           "showlegend": false,
           "type": "scattergeo"
          }
         ],
         "name": "2023-12-02 12:00"
        },
        {
         "data": [
          {
           "customdata": [
            [
             "2023-12-02 13:00",
             3,
             0.3
            ]
           ],
           "geo": "geo",
           "hovertemplate": "time=%{customdata[0]}<br>lat=%{lat}<br>lon=%{lon}<br>temp_c=%{marker.color}<br>windchill_c=%{customdata[2]}<extra></extra>",
           "lat": [
            53.1
           ],
           "legendgroup": "",
           "lon": [
            -0.13
           ],
           "marker": {
            "color": [
             3
            ],
            "coloraxis": "coloraxis",
            "symbol": "circle"
           },
           "mode": "markers",
           "name": "",
           "showlegend": false,
           "type": "scattergeo"
          }
         ],
         "name": "2023-12-02 13:00"
        },
        {
         "data": [
          {
           "customdata": [
            [
             "2023-12-02 14:00",
             2.6,
             0
            ]
           ],
           "geo": "geo",
           "hovertemplate": "time=%{customdata[0]}<br>lat=%{lat}<br>lon=%{lon}<br>temp_c=%{marker.color}<br>windchill_c=%{customdata[2]}<extra></extra>",
           "lat": [
            53.1
           ],
           "legendgroup": "",
           "lon": [
            -0.13
           ],
           "marker": {
            "color": [
             2.6
            ],
            "coloraxis": "coloraxis",
            "symbol": "circle"
           },
           "mode": "markers",
           "name": "",
           "showlegend": false,
           "type": "scattergeo"
          }
         ],
         "name": "2023-12-02 14:00"
        },
        {
         "data": [
          {
           "customdata": [
            [
             "2023-12-02 15:00",
             1.5,
             -1.5
            ]
           ],
           "geo": "geo",
           "hovertemplate": "time=%{customdata[0]}<br>lat=%{lat}<br>lon=%{lon}<br>temp_c=%{marker.color}<br>windchill_c=%{customdata[2]}<extra></extra>",
           "lat": [
            53.1
           ],
           "legendgroup": "",
           "lon": [
            -0.13
           ],
           "marker": {
            "color": [
             1.5
            ],
            "coloraxis": "coloraxis",
            "symbol": "circle"
           },
           "mode": "markers",
           "name": "",
           "showlegend": false,
           "type": "scattergeo"
          }
         ],
         "name": "2023-12-02 15:00"
        },
        {
         "data": [
          {
           "customdata": [
            [
             "2023-12-02 16:00",
             0.8,
             -2.5
            ]
           ],
           "geo": "geo",
           "hovertemplate": "time=%{customdata[0]}<br>lat=%{lat}<br>lon=%{lon}<br>temp_c=%{marker.color}<br>windchill_c=%{customdata[2]}<extra></extra>",
           "lat": [
            53.1
           ],
           "legendgroup": "",
           "lon": [
            -0.13
           ],
           "marker": {
            "color": [
             0.8
            ],
            "coloraxis": "coloraxis",
            "symbol": "circle"
           },
           "mode": "markers",
           "name": "",
           "showlegend": false,
           "type": "scattergeo"
          }
         ],
         "name": "2023-12-02 16:00"
        },
        {
         "data": [
          {
           "customdata": [
            [
             "2023-12-02 17:00",
             0.5,
             -3
            ]
           ],
           "geo": "geo",
           "hovertemplate": "time=%{customdata[0]}<br>lat=%{lat}<br>lon=%{lon}<br>temp_c=%{marker.color}<br>windchill_c=%{customdata[2]}<extra></extra>",
           "lat": [
            53.1
           ],
           "legendgroup": "",
           "lon": [
            -0.13
           ],
           "marker": {
            "color": [
             0.5
            ],
            "coloraxis": "coloraxis",
            "symbol": "circle"
           },
           "mode": "markers",
           "name": "",
           "showlegend": false,
           "type": "scattergeo"
          }
         ],
         "name": "2023-12-02 17:00"
        },
        {
         "data": [
          {
           "customdata": [
            [
             "2023-12-02 18:00",
             0.2,
             -3.6
            ]
           ],
           "geo": "geo",
           "hovertemplate": "time=%{customdata[0]}<br>lat=%{lat}<br>lon=%{lon}<br>temp_c=%{marker.color}<br>windchill_c=%{customdata[2]}<extra></extra>",
           "lat": [
            53.1
           ],
           "legendgroup": "",
           "lon": [
            -0.13
           ],
           "marker": {
            "color": [
             0.2
            ],
            "coloraxis": "coloraxis",
            "symbol": "circle"
           },
           "mode": "markers",
           "name": "",
           "showlegend": false,
           "type": "scattergeo"
          }
         ],
         "name": "2023-12-02 18:00"
        },
        {
         "data": [
          {
           "customdata": [
            [
             "2023-12-02 19:00",
             -0.1,
             -4
            ]
           ],
           "geo": "geo",
           "hovertemplate": "time=%{customdata[0]}<br>lat=%{lat}<br>lon=%{lon}<br>temp_c=%{marker.color}<br>windchill_c=%{customdata[2]}<extra></extra>",
           "lat": [
            53.1
           ],
           "legendgroup": "",
           "lon": [
            -0.13
           ],
           "marker": {
            "color": [
             -0.1
            ],
            "coloraxis": "coloraxis",
            "symbol": "circle"
           },
           "mode": "markers",
           "name": "",
           "showlegend": false,
           "type": "scattergeo"
          }
         ],
         "name": "2023-12-02 19:00"
        },
        {
         "data": [
          {
           "customdata": [
            [
             "2023-12-02 20:00",
             -0.2,
             -4.3
            ]
           ],
           "geo": "geo",
           "hovertemplate": "time=%{customdata[0]}<br>lat=%{lat}<br>lon=%{lon}<br>temp_c=%{marker.color}<br>windchill_c=%{customdata[2]}<extra></extra>",
           "lat": [
            53.1
           ],
           "legendgroup": "",
           "lon": [
            -0.13
           ],
           "marker": {
            "color": [
             -0.2
            ],
            "coloraxis": "coloraxis",
            "symbol": "circle"
           },
           "mode": "markers",
           "name": "",
           "showlegend": false,
           "type": "scattergeo"
          }
         ],
         "name": "2023-12-02 20:00"
        },
        {
         "data": [
          {
           "customdata": [
            [
             "2023-12-02 21:00",
             -0.4,
             -4.6
            ]
           ],
           "geo": "geo",
           "hovertemplate": "time=%{customdata[0]}<br>lat=%{lat}<br>lon=%{lon}<br>temp_c=%{marker.color}<br>windchill_c=%{customdata[2]}<extra></extra>",
           "lat": [
            53.1
           ],
           "legendgroup": "",
           "lon": [
            -0.13
           ],
           "marker": {
            "color": [
             -0.4
            ],
            "coloraxis": "coloraxis",
            "symbol": "circle"
           },
           "mode": "markers",
           "name": "",
           "showlegend": false,
           "type": "scattergeo"
          }
         ],
         "name": "2023-12-02 21:00"
        },
        {
         "data": [
          {
           "customdata": [
            [
             "2023-12-02 22:00",
             -0.3,
             -4.6
            ]
           ],
           "geo": "geo",
           "hovertemplate": "time=%{customdata[0]}<br>lat=%{lat}<br>lon=%{lon}<br>temp_c=%{marker.color}<br>windchill_c=%{customdata[2]}<extra></extra>",
           "lat": [
            53.1
           ],
           "legendgroup": "",
           "lon": [
            -0.13
           ],
           "marker": {
            "color": [
             -0.3
            ],
            "coloraxis": "coloraxis",
            "symbol": "circle"
           },
           "mode": "markers",
           "name": "",
           "showlegend": false,
           "type": "scattergeo"
          }
         ],
         "name": "2023-12-02 22:00"
        },
        {
         "data": [
          {
           "customdata": [
            [
             "2023-12-02 23:00",
             -0.7,
             -5.1
            ]
           ],
           "geo": "geo",
           "hovertemplate": "time=%{customdata[0]}<br>lat=%{lat}<br>lon=%{lon}<br>temp_c=%{marker.color}<br>windchill_c=%{customdata[2]}<extra></extra>",
           "lat": [
            53.1
           ],
           "legendgroup": "",
           "lon": [
            -0.13
           ],
           "marker": {
            "color": [
             -0.7
            ],
            "coloraxis": "coloraxis",
            "symbol": "circle"
           },
           "mode": "markers",
           "name": "",
           "showlegend": false,
           "type": "scattergeo"
          }
         ],
         "name": "2023-12-02 23:00"
        },
        {
         "data": [
          {
           "customdata": [
            [
             "2023-12-03 00:00",
             -1,
             -5.5
            ]
           ],
           "geo": "geo",
           "hovertemplate": "time=%{customdata[0]}<br>lat=%{lat}<br>lon=%{lon}<br>temp_c=%{marker.color}<br>windchill_c=%{customdata[2]}<extra></extra>",
           "lat": [
            53.1
           ],
           "legendgroup": "",
           "lon": [
            -0.13
           ],
           "marker": {
            "color": [
             -1
            ],
            "coloraxis": "coloraxis",
            "symbol": "circle"
           },
           "mode": "markers",
           "name": "",
           "showlegend": false,
           "type": "scattergeo"
          }
         ],
         "name": "2023-12-03 00:00"
        },
        {
         "data": [
          {
           "customdata": [
            [
             "2023-12-03 01:00",
             -0.9,
             -5.4
            ]
           ],
           "geo": "geo",
           "hovertemplate": "time=%{customdata[0]}<br>lat=%{lat}<br>lon=%{lon}<br>temp_c=%{marker.color}<br>windchill_c=%{customdata[2]}<extra></extra>",
           "lat": [
            53.1
           ],
           "legendgroup": "",
           "lon": [
            -0.13
           ],
           "marker": {
            "color": [
             -0.9
            ],
            "coloraxis": "coloraxis",
            "symbol": "circle"
           },
           "mode": "markers",
           "name": "",
           "showlegend": false,
           "type": "scattergeo"
          }
         ],
         "name": "2023-12-03 01:00"
        },
        {
         "data": [
          {
           "customdata": [
            [
             "2023-12-03 02:00",
             -0.5,
             -5
            ]
           ],
           "geo": "geo",
           "hovertemplate": "time=%{customdata[0]}<br>lat=%{lat}<br>lon=%{lon}<br>temp_c=%{marker.color}<br>windchill_c=%{customdata[2]}<extra></extra>",
           "lat": [
            53.1
           ],
           "legendgroup": "",
           "lon": [
            -0.13
           ],
           "marker": {
            "color": [
             -0.5
            ],
            "coloraxis": "coloraxis",
            "symbol": "circle"
           },
           "mode": "markers",
           "name": "",
           "showlegend": false,
           "type": "scattergeo"
          }
         ],
         "name": "2023-12-03 02:00"
        },
        {
         "data": [
          {
           "customdata": [
            [
             "2023-12-03 03:00",
             0.4,
             -3.8
            ]
           ],
           "geo": "geo",
           "hovertemplate": "time=%{customdata[0]}<br>lat=%{lat}<br>lon=%{lon}<br>temp_c=%{marker.color}<br>windchill_c=%{customdata[2]}<extra></extra>",
           "lat": [
            53.1
           ],
           "legendgroup": "",
           "lon": [
            -0.13
           ],
           "marker": {
            "color": [
             0.4
            ],
            "coloraxis": "coloraxis",
            "symbol": "circle"
           },
           "mode": "markers",
           "name": "",
           "showlegend": false,
           "type": "scattergeo"
          }
         ],
         "name": "2023-12-03 03:00"
        },
        {
         "data": [
          {
           "customdata": [
            [
             "2023-12-03 04:00",
             1.1,
             -3.4
            ]
           ],
           "geo": "geo",
           "hovertemplate": "time=%{customdata[0]}<br>lat=%{lat}<br>lon=%{lon}<br>temp_c=%{marker.color}<br>windchill_c=%{customdata[2]}<extra></extra>",
           "lat": [
            53.1
           ],
           "legendgroup": "",
           "lon": [
            -0.13
           ],
           "marker": {
            "color": [
             1.1
            ],
            "coloraxis": "coloraxis",
            "symbol": "circle"
           },
           "mode": "markers",
           "name": "",
           "showlegend": false,
           "type": "scattergeo"
          }
         ],
         "name": "2023-12-03 04:00"
        },
        {
         "data": [
          {
           "customdata": [
            [
             "2023-12-03 05:00",
             1.5,
             -3.3
            ]
           ],
           "geo": "geo",
           "hovertemplate": "time=%{customdata[0]}<br>lat=%{lat}<br>lon=%{lon}<br>temp_c=%{marker.color}<br>windchill_c=%{customdata[2]}<extra></extra>",
           "lat": [
            53.1
           ],
           "legendgroup": "",
           "lon": [
            -0.13
           ],
           "marker": {
            "color": [
             1.5
            ],
            "coloraxis": "coloraxis",
            "symbol": "circle"
           },
           "mode": "markers",
           "name": "",
           "showlegend": false,
           "type": "scattergeo"
          }
         ],
         "name": "2023-12-03 05:00"
        },
        {
         "data": [
          {
           "customdata": [
            [
             "2023-12-03 06:00",
             2,
             -2.8
            ]
           ],
           "geo": "geo",
           "hovertemplate": "time=%{customdata[0]}<br>lat=%{lat}<br>lon=%{lon}<br>temp_c=%{marker.color}<br>windchill_c=%{customdata[2]}<extra></extra>",
           "lat": [
            53.1
           ],
           "legendgroup": "",
           "lon": [
            -0.13
           ],
           "marker": {
            "color": [
             2
            ],
            "coloraxis": "coloraxis",
            "symbol": "circle"
           },
           "mode": "markers",
           "name": "",
           "showlegend": false,
           "type": "scattergeo"
          }
         ],
         "name": "2023-12-03 06:00"
        },
        {
         "data": [
          {
           "customdata": [
            [
             "2023-12-03 07:00",
             1.9,
             -3.4
            ]
           ],
           "geo": "geo",
           "hovertemplate": "time=%{customdata[0]}<br>lat=%{lat}<br>lon=%{lon}<br>temp_c=%{marker.color}<br>windchill_c=%{customdata[2]}<extra></extra>",
           "lat": [
            53.1
           ],
           "legendgroup": "",
           "lon": [
            -0.13
           ],
           "marker": {
            "color": [
             1.9
            ],
            "coloraxis": "coloraxis",
            "symbol": "circle"
           },
           "mode": "markers",
           "name": "",
           "showlegend": false,
           "type": "scattergeo"
          }
         ],
         "name": "2023-12-03 07:00"
        },
        {
         "data": [
          {
           "customdata": [
            [
             "2023-12-03 08:00",
             1.7,
             -3.7
            ]
           ],
           "geo": "geo",
           "hovertemplate": "time=%{customdata[0]}<br>lat=%{lat}<br>lon=%{lon}<br>temp_c=%{marker.color}<br>windchill_c=%{customdata[2]}<extra></extra>",
           "lat": [
            53.1
           ],
           "legendgroup": "",
           "lon": [
            -0.13
           ],
           "marker": {
            "color": [
             1.7
            ],
            "coloraxis": "coloraxis",
            "symbol": "circle"
           },
           "mode": "markers",
           "name": "",
           "showlegend": false,
           "type": "scattergeo"
          }
         ],
         "name": "2023-12-03 08:00"
        },
        {
         "data": [
          {
           "customdata": [
            [
             "2023-12-03 09:00",
             1.7,
             -3.9
            ]
           ],
           "geo": "geo",
           "hovertemplate": "time=%{customdata[0]}<br>lat=%{lat}<br>lon=%{lon}<br>temp_c=%{marker.color}<br>windchill_c=%{customdata[2]}<extra></extra>",
           "lat": [
            53.1
           ],
           "legendgroup": "",
           "lon": [
            -0.13
           ],
           "marker": {
            "color": [
             1.7
            ],
            "coloraxis": "coloraxis",
            "symbol": "circle"
           },
           "mode": "markers",
           "name": "",
           "showlegend": false,
           "type": "scattergeo"
          }
         ],
         "name": "2023-12-03 09:00"
        },
        {
         "data": [
          {
           "customdata": [
            [
             "2023-12-03 10:00",
             1.8,
             -3.3
            ]
           ],
           "geo": "geo",
           "hovertemplate": "time=%{customdata[0]}<br>lat=%{lat}<br>lon=%{lon}<br>temp_c=%{marker.color}<br>windchill_c=%{customdata[2]}<extra></extra>",
           "lat": [
            53.1
           ],
           "legendgroup": "",
           "lon": [
            -0.13
           ],
           "marker": {
            "color": [
             1.8
            ],
            "coloraxis": "coloraxis",
            "symbol": "circle"
           },
           "mode": "markers",
           "name": "",
           "showlegend": false,
           "type": "scattergeo"
          }
         ],
         "name": "2023-12-03 10:00"
        },
        {
         "data": [
          {
           "customdata": [
            [
             "2023-12-03 11:00",
             2.3,
             -2.3
            ]
           ],
           "geo": "geo",
           "hovertemplate": "time=%{customdata[0]}<br>lat=%{lat}<br>lon=%{lon}<br>temp_c=%{marker.color}<br>windchill_c=%{customdata[2]}<extra></extra>",
           "lat": [
            53.1
           ],
           "legendgroup": "",
           "lon": [
            -0.13
           ],
           "marker": {
            "color": [
             2.3
            ],
            "coloraxis": "coloraxis",
            "symbol": "circle"
           },
           "mode": "markers",
           "name": "",
           "showlegend": false,
           "type": "scattergeo"
          }
         ],
         "name": "2023-12-03 11:00"
        },
        {
         "data": [
          {
           "customdata": [
            [
             "2023-12-03 12:00",
             2.7,
             -1.4
            ]
           ],
           "geo": "geo",
           "hovertemplate": "time=%{customdata[0]}<br>lat=%{lat}<br>lon=%{lon}<br>temp_c=%{marker.color}<br>windchill_c=%{customdata[2]}<extra></extra>",
           "lat": [
            53.1
           ],
           "legendgroup": "",
           "lon": [
            -0.13
           ],
           "marker": {
            "color": [
             2.7
            ],
            "coloraxis": "coloraxis",
            "symbol": "circle"
           },
           "mode": "markers",
           "name": "",
           "showlegend": false,
           "type": "scattergeo"
          }
         ],
         "name": "2023-12-03 12:00"
        },
        {
         "data": [
          {
           "customdata": [
            [
             "2023-12-03 13:00",
             3,
             -0.2
            ]
           ],
           "geo": "geo",
           "hovertemplate": "time=%{customdata[0]}<br>lat=%{lat}<br>lon=%{lon}<br>temp_c=%{marker.color}<br>windchill_c=%{customdata[2]}<extra></extra>",
           "lat": [
            53.1
           ],
           "legendgroup": "",
           "lon": [
            -0.13
           ],
           "marker": {
            "color": [
             3
            ],
            "coloraxis": "coloraxis",
            "symbol": "circle"
           },
           "mode": "markers",
           "name": "",
           "showlegend": false,
           "type": "scattergeo"
          }
         ],
         "name": "2023-12-03 13:00"
        },
        {
         "data": [
          {
           "customdata": [
            [
             "2023-12-03 14:00",
             3.2,
             0.8
            ]
           ],
           "geo": "geo",
           "hovertemplate": "time=%{customdata[0]}<br>lat=%{lat}<br>lon=%{lon}<br>temp_c=%{marker.color}<br>windchill_c=%{customdata[2]}<extra></extra>",
           "lat": [
            53.1
           ],
           "legendgroup": "",
           "lon": [
            -0.13
           ],
           "marker": {
            "color": [
             3.2
            ],
            "coloraxis": "coloraxis",
            "symbol": "circle"
           },
           "mode": "markers",
           "name": "",
           "showlegend": false,
           "type": "scattergeo"
          }
         ],
         "name": "2023-12-03 14:00"
        },
        {
         "data": [
          {
           "customdata": [
            [
             "2023-12-03 15:00",
             3.4,
             2
            ]
           ],
           "geo": "geo",
           "hovertemplate": "time=%{customdata[0]}<br>lat=%{lat}<br>lon=%{lon}<br>temp_c=%{marker.color}<br>windchill_c=%{customdata[2]}<extra></extra>",
           "lat": [
            53.1
           ],
           "legendgroup": "",
           "lon": [
            -0.13
           ],
           "marker": {
            "color": [
             3.4
            ],
            "coloraxis": "coloraxis",
            "symbol": "circle"
           },
           "mode": "markers",
           "name": "",
           "showlegend": false,
           "type": "scattergeo"
          }
         ],
         "name": "2023-12-03 15:00"
        },
        {
         "data": [
          {
           "customdata": [
            [
             "2023-12-03 16:00",
             3.3,
             1.6
            ]
           ],
           "geo": "geo",
           "hovertemplate": "time=%{customdata[0]}<br>lat=%{lat}<br>lon=%{lon}<br>temp_c=%{marker.color}<br>windchill_c=%{customdata[2]}<extra></extra>",
           "lat": [
            53.1
           ],
           "legendgroup": "",
           "lon": [
            -0.13
           ],
           "marker": {
            "color": [
             3.3
            ],
            "coloraxis": "coloraxis",
            "symbol": "circle"
           },
           "mode": "markers",
           "name": "",
           "showlegend": false,
           "type": "scattergeo"
          }
         ],
         "name": "2023-12-03 16:00"
        },
        {
         "data": [
          {
           "customdata": [
            [
             "2023-12-03 17:00",
             3.1,
             0.7
            ]
           ],
           "geo": "geo",
           "hovertemplate": "time=%{customdata[0]}<br>lat=%{lat}<br>lon=%{lon}<br>temp_c=%{marker.color}<br>windchill_c=%{customdata[2]}<extra></extra>",
           "lat": [
            53.1
           ],
           "legendgroup": "",
           "lon": [
            -0.13
           ],
           "marker": {
            "color": [
             3.1
            ],
            "coloraxis": "coloraxis",
            "symbol": "circle"
           },
           "mode": "markers",
           "name": "",
           "showlegend": false,
           "type": "scattergeo"
          }
         ],
         "name": "2023-12-03 17:00"
        },
        {
         "data": [
          {
           "customdata": [
            [
             "2023-12-03 18:00",
             2.7,
             -0.4
            ]
           ],
           "geo": "geo",
           "hovertemplate": "time=%{customdata[0]}<br>lat=%{lat}<br>lon=%{lon}<br>temp_c=%{marker.color}<br>windchill_c=%{customdata[2]}<extra></extra>",
           "lat": [
            53.1
           ],
           "legendgroup": "",
           "lon": [
            -0.13
           ],
           "marker": {
            "color": [
             2.7
            ],
            "coloraxis": "coloraxis",
            "symbol": "circle"
           },
           "mode": "markers",
           "name": "",
           "showlegend": false,
           "type": "scattergeo"
          }
         ],
         "name": "2023-12-03 18:00"
        },
        {
         "data": [
          {
           "customdata": [
            [
             "2023-12-03 19:00",
             2.2,
             -0.7
            ]
           ],
           "geo": "geo",
           "hovertemplate": "time=%{customdata[0]}<br>lat=%{lat}<br>lon=%{lon}<br>temp_c=%{marker.color}<br>windchill_c=%{customdata[2]}<extra></extra>",
           "lat": [
            53.1
           ],
           "legendgroup": "",
           "lon": [
            -0.13
           ],
           "marker": {
            "color": [
             2.2
            ],
            "coloraxis": "coloraxis",
            "symbol": "circle"
           },
           "mode": "markers",
           "name": "",
           "showlegend": false,
           "type": "scattergeo"
          }
         ],
         "name": "2023-12-03 19:00"
        },
        {
         "data": [
          {
           "customdata": [
            [
             "2023-12-03 20:00",
             1.9,
             -0.4
            ]
           ],
           "geo": "geo",
           "hovertemplate": "time=%{customdata[0]}<br>lat=%{lat}<br>lon=%{lon}<br>temp_c=%{marker.color}<br>windchill_c=%{customdata[2]}<extra></extra>",
           "lat": [
            53.1
           ],
           "legendgroup": "",
           "lon": [
            -0.13
           ],
           "marker": {
            "color": [
             1.9
            ],
            "coloraxis": "coloraxis",
            "symbol": "circle"
           },
           "mode": "markers",
           "name": "",
           "showlegend": false,
           "type": "scattergeo"
          }
         ],
         "name": "2023-12-03 20:00"
        },
        {
         "data": [
          {
           "customdata": [
            [
             "2023-12-03 21:00",
             2,
             -0.3
            ]
           ],
           "geo": "geo",
           "hovertemplate": "time=%{customdata[0]}<br>lat=%{lat}<br>lon=%{lon}<br>temp_c=%{marker.color}<br>windchill_c=%{customdata[2]}<extra></extra>",
           "lat": [
            53.1
           ],
           "legendgroup": "",
           "lon": [
            -0.13
           ],
           "marker": {
            "color": [
             2
            ],
            "coloraxis": "coloraxis",
            "symbol": "circle"
           },
           "mode": "markers",
           "name": "",
           "showlegend": false,
           "type": "scattergeo"
          }
         ],
         "name": "2023-12-03 21:00"
        },
        {
         "data": [
          {
           "customdata": [
            [
             "2023-12-03 22:00",
             1.7,
             0.3
            ]
           ],
           "geo": "geo",
           "hovertemplate": "time=%{customdata[0]}<br>lat=%{lat}<br>lon=%{lon}<br>temp_c=%{marker.color}<br>windchill_c=%{customdata[2]}<extra></extra>",
           "lat": [
            53.1
           ],
           "legendgroup": "",
           "lon": [
            -0.13
           ],
           "marker": {
            "color": [
             1.7
            ],
            "coloraxis": "coloraxis",
            "symbol": "circle"
           },
           "mode": "markers",
           "name": "",
           "showlegend": false,
           "type": "scattergeo"
          }
         ],
         "name": "2023-12-03 22:00"
        },
        {
         "data": [
          {
           "customdata": [
            [
             "2023-12-03 23:00",
             1.6,
             0.7
            ]
           ],
           "geo": "geo",
           "hovertemplate": "time=%{customdata[0]}<br>lat=%{lat}<br>lon=%{lon}<br>temp_c=%{marker.color}<br>windchill_c=%{customdata[2]}<extra></extra>",
           "lat": [
            53.1
           ],
           "legendgroup": "",
           "lon": [
            -0.13
           ],
           "marker": {
            "color": [
             1.6
            ],
            "coloraxis": "coloraxis",
            "symbol": "circle"
           },
           "mode": "markers",
           "name": "",
           "showlegend": false,
           "type": "scattergeo"
          }
         ],
         "name": "2023-12-03 23:00"
        }
       ],
       "layout": {
        "coloraxis": {
         "colorbar": {
          "title": {
           "text": "temp_c"
          }
         },
         "colorscale": [
          [
           0,
           "#0d0887"
          ],
          [
           0.1111111111111111,
           "#46039f"
          ],
          [
           0.2222222222222222,
           "#7201a8"
          ],
          [
           0.3333333333333333,
           "#9c179e"
          ],
          [
           0.4444444444444444,
           "#bd3786"
          ],
          [
           0.5555555555555556,
           "#d8576b"
          ],
          [
           0.6666666666666666,
           "#ed7953"
          ],
          [
           0.7777777777777778,
           "#fb9f3a"
          ],
          [
           0.8888888888888888,
           "#fdca26"
          ],
          [
           1,
           "#f0f921"
          ]
         ]
        },
        "geo": {
         "center": {},
         "domain": {
          "x": [
           0,
           1
          ],
          "y": [
           0,
           1
          ]
         }
        },
        "legend": {
         "tracegroupgap": 0
        },
        "sliders": [
         {
          "active": 0,
          "currentvalue": {
           "prefix": "time="
          },
          "len": 0.9,
          "pad": {
           "b": 10,
           "t": 60
          },
          "steps": [
           {
            "args": [
             [
              "2023-12-01 00:00"
             ],
             {
              "frame": {
               "duration": 0,
               "redraw": true
              },
              "fromcurrent": true,
              "mode": "immediate",
              "transition": {
               "duration": 0,
               "easing": "linear"
              }
             }
            ],
            "label": "2023-12-01 00:00",
            "method": "animate"
           },
           {
            "args": [
             [
              "2023-12-01 01:00"
             ],
             {
              "frame": {
               "duration": 0,
               "redraw": true
              },
              "fromcurrent": true,
              "mode": "immediate",
              "transition": {
               "duration": 0,
               "easing": "linear"
              }
             }
            ],
            "label": "2023-12-01 01:00",
            "method": "animate"
           },
           {
            "args": [
             [
              "2023-12-01 02:00"
             ],
             {
              "frame": {
               "duration": 0,
               "redraw": true
              },
              "fromcurrent": true,
              "mode": "immediate",
              "transition": {
               "duration": 0,
               "easing": "linear"
              }
             }
            ],
            "label": "2023-12-01 02:00",
            "method": "animate"
           },
           {
            "args": [
             [
              "2023-12-01 03:00"
             ],
             {
              "frame": {
               "duration": 0,
               "redraw": true
              },
              "fromcurrent": true,
              "mode": "immediate",
              "transition": {
               "duration": 0,
               "easing": "linear"
              }
             }
            ],
            "label": "2023-12-01 03:00",
            "method": "animate"
           },
           {
            "args": [
             [
              "2023-12-01 04:00"
             ],
             {
              "frame": {
               "duration": 0,
               "redraw": true
              },
              "fromcurrent": true,
              "mode": "immediate",
              "transition": {
               "duration": 0,
               "easing": "linear"
              }
             }
            ],
            "label": "2023-12-01 04:00",
            "method": "animate"
           },
           {
            "args": [
             [
              "2023-12-01 05:00"
             ],
             {
              "frame": {
               "duration": 0,
               "redraw": true
              },
              "fromcurrent": true,
              "mode": "immediate",
              "transition": {
               "duration": 0,
               "easing": "linear"
              }
             }
            ],
            "label": "2023-12-01 05:00",
            "method": "animate"
           },
           {
            "args": [
             [
              "2023-12-01 06:00"
             ],
             {
              "frame": {
               "duration": 0,
               "redraw": true
              },
              "fromcurrent": true,
              "mode": "immediate",
              "transition": {
               "duration": 0,
               "easing": "linear"
              }
             }
            ],
            "label": "2023-12-01 06:00",
            "method": "animate"
           },
           {
            "args": [
             [
              "2023-12-01 07:00"
             ],
             {
              "frame": {
               "duration": 0,
               "redraw": true
              },
              "fromcurrent": true,
              "mode": "immediate",
              "transition": {
               "duration": 0,
               "easing": "linear"
              }
             }
            ],
            "label": "2023-12-01 07:00",
            "method": "animate"
           },
           {
            "args": [
             [
              "2023-12-01 08:00"
             ],
             {
              "frame": {
               "duration": 0,
               "redraw": true
              },
              "fromcurrent": true,
              "mode": "immediate",
              "transition": {
               "duration": 0,
               "easing": "linear"
              }
             }
            ],
            "label": "2023-12-01 08:00",
            "method": "animate"
           },
           {
            "args": [
             [
              "2023-12-01 09:00"
             ],
             {
              "frame": {
               "duration": 0,
               "redraw": true
              },
              "fromcurrent": true,
              "mode": "immediate",
              "transition": {
               "duration": 0,
               "easing": "linear"
              }
             }
            ],
            "label": "2023-12-01 09:00",
            "method": "animate"
           },
           {
            "args": [
             [
              "2023-12-01 10:00"
             ],
             {
              "frame": {
               "duration": 0,
               "redraw": true
              },
              "fromcurrent": true,
              "mode": "immediate",
              "transition": {
               "duration": 0,
               "easing": "linear"
              }
             }
            ],
            "label": "2023-12-01 10:00",
            "method": "animate"
           },
           {
            "args": [
             [
              "2023-12-01 11:00"
             ],
             {
              "frame": {
               "duration": 0,
               "redraw": true
              },
              "fromcurrent": true,
              "mode": "immediate",
              "transition": {
               "duration": 0,
               "easing": "linear"
              }
             }
            ],
            "label": "2023-12-01 11:00",
            "method": "animate"
           },
           {
            "args": [
             [
              "2023-12-01 12:00"
             ],
             {
              "frame": {
               "duration": 0,
               "redraw": true
              },
              "fromcurrent": true,
              "mode": "immediate",
              "transition": {
               "duration": 0,
               "easing": "linear"
              }
             }
            ],
            "label": "2023-12-01 12:00",
            "method": "animate"
           },
           {
            "args": [
             [
              "2023-12-01 13:00"
             ],
             {
              "frame": {
               "duration": 0,
               "redraw": true
              },
              "fromcurrent": true,
              "mode": "immediate",
              "transition": {
               "duration": 0,
               "easing": "linear"
              }
             }
            ],
            "label": "2023-12-01 13:00",
            "method": "animate"
           },
           {
            "args": [
             [
              "2023-12-01 14:00"
             ],
             {
              "frame": {
               "duration": 0,
               "redraw": true
              },
              "fromcurrent": true,
              "mode": "immediate",
              "transition": {
               "duration": 0,
               "easing": "linear"
              }
             }
            ],
            "label": "2023-12-01 14:00",
            "method": "animate"
           },
           {
            "args": [
             [
              "2023-12-01 15:00"
             ],
             {
              "frame": {
               "duration": 0,
               "redraw": true
              },
              "fromcurrent": true,
              "mode": "immediate",
              "transition": {
               "duration": 0,
               "easing": "linear"
              }
             }
            ],
            "label": "2023-12-01 15:00",
            "method": "animate"
           },
           {
            "args": [
             [
              "2023-12-01 16:00"
             ],
             {
              "frame": {
               "duration": 0,
               "redraw": true
              },
              "fromcurrent": true,
              "mode": "immediate",
              "transition": {
               "duration": 0,
               "easing": "linear"
              }
             }
            ],
            "label": "2023-12-01 16:00",
            "method": "animate"
           },
           {
            "args": [
             [
              "2023-12-01 17:00"
             ],
             {
              "frame": {
               "duration": 0,
               "redraw": true
              },
              "fromcurrent": true,
              "mode": "immediate",
              "transition": {
               "duration": 0,
               "easing": "linear"
              }
             }
            ],
            "label": "2023-12-01 17:00",
            "method": "animate"
           },
           {
            "args": [
             [
              "2023-12-01 18:00"
             ],
             {
              "frame": {
               "duration": 0,
               "redraw": true
              },
              "fromcurrent": true,
              "mode": "immediate",
              "transition": {
               "duration": 0,
               "easing": "linear"
              }
             }
            ],
            "label": "2023-12-01 18:00",
            "method": "animate"
           },
           {
            "args": [
             [
              "2023-12-01 19:00"
             ],
             {
              "frame": {
               "duration": 0,
               "redraw": true
              },
              "fromcurrent": true,
              "mode": "immediate",
              "transition": {
               "duration": 0,
               "easing": "linear"
              }
             }
            ],
            "label": "2023-12-01 19:00",
            "method": "animate"
           },
           {
            "args": [
             [
              "2023-12-01 20:00"
             ],
             {
              "frame": {
               "duration": 0,
               "redraw": true
              },
              "fromcurrent": true,
              "mode": "immediate",
              "transition": {
               "duration": 0,
               "easing": "linear"
              }
             }
            ],
            "label": "2023-12-01 20:00",
            "method": "animate"
           },
           {
            "args": [
             [
              "2023-12-01 21:00"
             ],
             {
              "frame": {
               "duration": 0,
               "redraw": true
              },
              "fromcurrent": true,
              "mode": "immediate",
              "transition": {
               "duration": 0,
               "easing": "linear"
              }
             }
            ],
            "label": "2023-12-01 21:00",
            "method": "animate"
           },
           {
            "args": [
             [
              "2023-12-01 22:00"
             ],
             {
              "frame": {
               "duration": 0,
               "redraw": true
              },
              "fromcurrent": true,
              "mode": "immediate",
              "transition": {
               "duration": 0,
               "easing": "linear"
              }
             }
            ],
            "label": "2023-12-01 22:00",
            "method": "animate"
           },
           {
            "args": [
             [
              "2023-12-01 23:00"
             ],
             {
              "frame": {
               "duration": 0,
               "redraw": true
              },
              "fromcurrent": true,
              "mode": "immediate",
              "transition": {
               "duration": 0,
               "easing": "linear"
              }
             }
            ],
            "label": "2023-12-01 23:00",
            "method": "animate"
           },
           {
            "args": [
             [
              "2023-12-02 00:00"
             ],
             {
              "frame": {
               "duration": 0,
               "redraw": true
              },
              "fromcurrent": true,
              "mode": "immediate",
              "transition": {
               "duration": 0,
               "easing": "linear"
              }
             }
            ],
            "label": "2023-12-02 00:00",
            "method": "animate"
           },
           {
            "args": [
             [
              "2023-12-02 01:00"
             ],
             {
              "frame": {
               "duration": 0,
               "redraw": true
              },
              "fromcurrent": true,
              "mode": "immediate",
              "transition": {
               "duration": 0,
               "easing": "linear"
              }
             }
            ],
            "label": "2023-12-02 01:00",
            "method": "animate"
           },
           {
            "args": [
             [
              "2023-12-02 02:00"
             ],
             {
              "frame": {
               "duration": 0,
               "redraw": true
              },
              "fromcurrent": true,
              "mode": "immediate",
              "transition": {
               "duration": 0,
               "easing": "linear"
              }
             }
            ],
            "label": "2023-12-02 02:00",
            "method": "animate"
           },
           {
            "args": [
             [
              "2023-12-02 03:00"
             ],
             {
              "frame": {
               "duration": 0,
               "redraw": true
              },
              "fromcurrent": true,
              "mode": "immediate",
              "transition": {
               "duration": 0,
               "easing": "linear"
              }
             }
            ],
            "label": "2023-12-02 03:00",
            "method": "animate"
           },
           {
            "args": [
             [
              "2023-12-02 04:00"
             ],
             {
              "frame": {
               "duration": 0,
               "redraw": true
              },
              "fromcurrent": true,
              "mode": "immediate",
              "transition": {
               "duration": 0,
               "easing": "linear"
              }
             }
            ],
            "label": "2023-12-02 04:00",
            "method": "animate"
           },
           {
            "args": [
             [
              "2023-12-02 05:00"
             ],
             {
              "frame": {
               "duration": 0,
               "redraw": true
              },
              "fromcurrent": true,
              "mode": "immediate",
              "transition": {
               "duration": 0,
               "easing": "linear"
              }
             }
            ],
            "label": "2023-12-02 05:00",
            "method": "animate"
           },
           {
            "args": [
             [
              "2023-12-02 06:00"
             ],
             {
              "frame": {
               "duration": 0,
               "redraw": true
              },
              "fromcurrent": true,
              "mode": "immediate",
              "transition": {
               "duration": 0,
               "easing": "linear"
              }
             }
            ],
            "label": "2023-12-02 06:00",
            "method": "animate"
           },
           {
            "args": [
             [
              "2023-12-02 07:00"
             ],
             {
              "frame": {
               "duration": 0,
               "redraw": true
              },
              "fromcurrent": true,
              "mode": "immediate",
              "transition": {
               "duration": 0,
               "easing": "linear"
              }
             }
            ],
            "label": "2023-12-02 07:00",
            "method": "animate"
           },
           {
            "args": [
             [
              "2023-12-02 08:00"
             ],
             {
              "frame": {
               "duration": 0,
               "redraw": true
              },
              "fromcurrent": true,
              "mode": "immediate",
              "transition": {
               "duration": 0,
               "easing": "linear"
              }
             }
            ],
            "label": "2023-12-02 08:00",
            "method": "animate"
           },
           {
            "args": [
             [
              "2023-12-02 09:00"
             ],
             {
              "frame": {
               "duration": 0,
               "redraw": true
              },
              "fromcurrent": true,
              "mode": "immediate",
              "transition": {
               "duration": 0,
               "easing": "linear"
              }
             }
            ],
            "label": "2023-12-02 09:00",
            "method": "animate"
           },
           {
            "args": [
             [
              "2023-12-02 10:00"
             ],
             {
              "frame": {
               "duration": 0,
               "redraw": true
              },
              "fromcurrent": true,
              "mode": "immediate",
              "transition": {
               "duration": 0,
               "easing": "linear"
              }
             }
            ],
            "label": "2023-12-02 10:00",
            "method": "animate"
           },
           {
            "args": [
             [
              "2023-12-02 11:00"
             ],
             {
              "frame": {
               "duration": 0,
               "redraw": true
              },
              "fromcurrent": true,
              "mode": "immediate",
              "transition": {
               "duration": 0,
               "easing": "linear"
              }
             }
            ],
            "label": "2023-12-02 11:00",
            "method": "animate"
           },
           {
            "args": [
             [
              "2023-12-02 12:00"
             ],
             {
              "frame": {
               "duration": 0,
               "redraw": true
              },
              "fromcurrent": true,
              "mode": "immediate",
              "transition": {
               "duration": 0,
               "easing": "linear"
              }
             }
            ],
            "label": "2023-12-02 12:00",
            "method": "animate"
           },
           {
            "args": [
             [
              "2023-12-02 13:00"
             ],
             {
              "frame": {
               "duration": 0,
               "redraw": true
              },
              "fromcurrent": true,
              "mode": "immediate",
              "transition": {
               "duration": 0,
               "easing": "linear"
              }
             }
            ],
            "label": "2023-12-02 13:00",
            "method": "animate"
           },
           {
            "args": [
             [
              "2023-12-02 14:00"
             ],
             {
              "frame": {
               "duration": 0,
               "redraw": true
              },
              "fromcurrent": true,
              "mode": "immediate",
              "transition": {
               "duration": 0,
               "easing": "linear"
              }
             }
            ],
            "label": "2023-12-02 14:00",
            "method": "animate"
           },
           {
            "args": [
             [
              "2023-12-02 15:00"
             ],
             {
              "frame": {
               "duration": 0,
               "redraw": true
              },
              "fromcurrent": true,
              "mode": "immediate",
              "transition": {
               "duration": 0,
               "easing": "linear"
              }
             }
            ],
            "label": "2023-12-02 15:00",
            "method": "animate"
           },
           {
            "args": [
             [
              "2023-12-02 16:00"
             ],
             {
              "frame": {
               "duration": 0,
               "redraw": true
              },
              "fromcurrent": true,
              "mode": "immediate",
              "transition": {
               "duration": 0,
               "easing": "linear"
              }
             }
            ],
            "label": "2023-12-02 16:00",
            "method": "animate"
           },
           {
            "args": [
             [
              "2023-12-02 17:00"
             ],
             {
              "frame": {
               "duration": 0,
               "redraw": true
              },
              "fromcurrent": true,
              "mode": "immediate",
              "transition": {
               "duration": 0,
               "easing": "linear"
              }
             }
            ],
            "label": "2023-12-02 17:00",
            "method": "animate"
           },
           {
            "args": [
             [
              "2023-12-02 18:00"
             ],
             {
              "frame": {
               "duration": 0,
               "redraw": true
              },
              "fromcurrent": true,
              "mode": "immediate",
              "transition": {
               "duration": 0,
               "easing": "linear"
              }
             }
            ],
            "label": "2023-12-02 18:00",
            "method": "animate"
           },
           {
            "args": [
             [
              "2023-12-02 19:00"
             ],
             {
              "frame": {
               "duration": 0,
               "redraw": true
              },
              "fromcurrent": true,
              "mode": "immediate",
              "transition": {
               "duration": 0,
               "easing": "linear"
              }
             }
            ],
            "label": "2023-12-02 19:00",
            "method": "animate"
           },
           {
            "args": [
             [
              "2023-12-02 20:00"
             ],
             {
              "frame": {
               "duration": 0,
               "redraw": true
              },
              "fromcurrent": true,
              "mode": "immediate",
              "transition": {
               "duration": 0,
               "easing": "linear"
              }
             }
            ],
            "label": "2023-12-02 20:00",
            "method": "animate"
           },
           {
            "args": [
             [
              "2023-12-02 21:00"
             ],
             {
              "frame": {
               "duration": 0,
               "redraw": true
              },
              "fromcurrent": true,
              "mode": "immediate",
              "transition": {
               "duration": 0,
               "easing": "linear"
              }
             }
            ],
            "label": "2023-12-02 21:00",
            "method": "animate"
           },
           {
            "args": [
             [
              "2023-12-02 22:00"
             ],
             {
              "frame": {
               "duration": 0,
               "redraw": true
              },
              "fromcurrent": true,
              "mode": "immediate",
              "transition": {
               "duration": 0,
               "easing": "linear"
              }
             }
            ],
            "label": "2023-12-02 22:00",
            "method": "animate"
           },
           {
            "args": [
             [
              "2023-12-02 23:00"
             ],
             {
              "frame": {
               "duration": 0,
               "redraw": true
              },
              "fromcurrent": true,
              "mode": "immediate",
              "transition": {
               "duration": 0,
               "easing": "linear"
              }
             }
            ],
            "label": "2023-12-02 23:00",
            "method": "animate"
           },
           {
            "args": [
             [
              "2023-12-03 00:00"
             ],
             {
              "frame": {
               "duration": 0,
               "redraw": true
              },
              "fromcurrent": true,
              "mode": "immediate",
              "transition": {
               "duration": 0,
               "easing": "linear"
              }
             }
            ],
            "label": "2023-12-03 00:00",
            "method": "animate"
           },
           {
            "args": [
             [
              "2023-12-03 01:00"
             ],
             {
              "frame": {
               "duration": 0,
               "redraw": true
              },
              "fromcurrent": true,
              "mode": "immediate",
              "transition": {
               "duration": 0,
               "easing": "linear"
              }
             }
            ],
            "label": "2023-12-03 01:00",
            "method": "animate"
           },
           {
            "args": [
             [
              "2023-12-03 02:00"
             ],
             {
              "frame": {
               "duration": 0,
               "redraw": true
              },
              "fromcurrent": true,
              "mode": "immediate",
              "transition": {
               "duration": 0,
               "easing": "linear"
              }
             }
            ],
            "label": "2023-12-03 02:00",
            "method": "animate"
           },
           {
            "args": [
             [
              "2023-12-03 03:00"
             ],
             {
              "frame": {
               "duration": 0,
               "redraw": true
              },
              "fromcurrent": true,
              "mode": "immediate",
              "transition": {
               "duration": 0,
               "easing": "linear"
              }
             }
            ],
            "label": "2023-12-03 03:00",
            "method": "animate"
           },
           {
            "args": [
             [
              "2023-12-03 04:00"
             ],
             {
              "frame": {
               "duration": 0,
               "redraw": true
              },
              "fromcurrent": true,
              "mode": "immediate",
              "transition": {
               "duration": 0,
               "easing": "linear"
              }
             }
            ],
            "label": "2023-12-03 04:00",
            "method": "animate"
           },
           {
            "args": [
             [
              "2023-12-03 05:00"
             ],
             {
              "frame": {
               "duration": 0,
               "redraw": true
              },
              "fromcurrent": true,
              "mode": "immediate",
              "transition": {
               "duration": 0,
               "easing": "linear"
              }
             }
            ],
            "label": "2023-12-03 05:00",
            "method": "animate"
           },
           {
            "args": [
             [
              "2023-12-03 06:00"
             ],
             {
              "frame": {
               "duration": 0,
               "redraw": true
              },
              "fromcurrent": true,
              "mode": "immediate",
              "transition": {
               "duration": 0,
               "easing": "linear"
              }
             }
            ],
            "label": "2023-12-03 06:00",
            "method": "animate"
           },
           {
            "args": [
             [
              "2023-12-03 07:00"
             ],
             {
              "frame": {
               "duration": 0,
               "redraw": true
              },
              "fromcurrent": true,
              "mode": "immediate",
              "transition": {
               "duration": 0,
               "easing": "linear"
              }
             }
            ],
            "label": "2023-12-03 07:00",
            "method": "animate"
           },
           {
            "args": [
             [
              "2023-12-03 08:00"
             ],
             {
              "frame": {
               "duration": 0,
               "redraw": true
              },
              "fromcurrent": true,
              "mode": "immediate",
              "transition": {
               "duration": 0,
               "easing": "linear"
              }
             }
            ],
            "label": "2023-12-03 08:00",
            "method": "animate"
           },
           {
            "args": [
             [
              "2023-12-03 09:00"
             ],
             {
              "frame": {
               "duration": 0,
               "redraw": true
              },
              "fromcurrent": true,
              "mode": "immediate",
              "transition": {
               "duration": 0,
               "easing": "linear"
              }
             }
            ],
            "label": "2023-12-03 09:00",
            "method": "animate"
           },
           {
            "args": [
             [
              "2023-12-03 10:00"
             ],
             {
              "frame": {
               "duration": 0,
               "redraw": true
              },
              "fromcurrent": true,
              "mode": "immediate",
              "transition": {
               "duration": 0,
               "easing": "linear"
              }
             }
            ],
            "label": "2023-12-03 10:00",
            "method": "animate"
           },
           {
            "args": [
             [
              "2023-12-03 11:00"
             ],
             {
              "frame": {
               "duration": 0,
               "redraw": true
              },
              "fromcurrent": true,
              "mode": "immediate",
              "transition": {
               "duration": 0,
               "easing": "linear"
              }
             }
            ],
            "label": "2023-12-03 11:00",
            "method": "animate"
           },
           {
            "args": [
             [
              "2023-12-03 12:00"
             ],
             {
              "frame": {
               "duration": 0,
               "redraw": true
              },
              "fromcurrent": true,
              "mode": "immediate",
              "transition": {
               "duration": 0,
               "easing": "linear"
              }
             }
            ],
            "label": "2023-12-03 12:00",
            "method": "animate"
           },
           {
            "args": [
             [
              "2023-12-03 13:00"
             ],
             {
              "frame": {
               "duration": 0,
               "redraw": true
              },
              "fromcurrent": true,
              "mode": "immediate",
              "transition": {
               "duration": 0,
               "easing": "linear"
              }
             }
            ],
            "label": "2023-12-03 13:00",
            "method": "animate"
           },
           {
            "args": [
             [
              "2023-12-03 14:00"
             ],
             {
              "frame": {
               "duration": 0,
               "redraw": true
              },
              "fromcurrent": true,
              "mode": "immediate",
              "transition": {
               "duration": 0,
               "easing": "linear"
              }
             }
            ],
            "label": "2023-12-03 14:00",
            "method": "animate"
           },
           {
            "args": [
             [
              "2023-12-03 15:00"
             ],
             {
              "frame": {
               "duration": 0,
               "redraw": true
              },
              "fromcurrent": true,
              "mode": "immediate",
              "transition": {
               "duration": 0,
               "easing": "linear"
              }
             }
            ],
            "label": "2023-12-03 15:00",
            "method": "animate"
           },
           {
            "args": [
             [
              "2023-12-03 16:00"
             ],
             {
              "frame": {
               "duration": 0,
               "redraw": true
              },
              "fromcurrent": true,
              "mode": "immediate",
              "transition": {
               "duration": 0,
               "easing": "linear"
              }
             }
            ],
            "label": "2023-12-03 16:00",
            "method": "animate"
           },
           {
            "args": [
             [
              "2023-12-03 17:00"
             ],
             {
              "frame": {
               "duration": 0,
               "redraw": true
              },
              "fromcurrent": true,
              "mode": "immediate",
              "transition": {
               "duration": 0,
               "easing": "linear"
              }
             }
            ],
            "label": "2023-12-03 17:00",
            "method": "animate"
           },
           {
            "args": [
             [
              "2023-12-03 18:00"
             ],
             {
              "frame": {
               "duration": 0,
               "redraw": true
              },
              "fromcurrent": true,
              "mode": "immediate",
              "transition": {
               "duration": 0,
               "easing": "linear"
              }
             }
            ],
            "label": "2023-12-03 18:00",
            "method": "animate"
           },
           {
            "args": [
             [
              "2023-12-03 19:00"
             ],
             {
              "frame": {
               "duration": 0,
               "redraw": true
              },
              "fromcurrent": true,
              "mode": "immediate",
              "transition": {
               "duration": 0,
               "easing": "linear"
              }
             }
            ],
            "label": "2023-12-03 19:00",
            "method": "animate"
           },
           {
            "args": [
             [
              "2023-12-03 20:00"
             ],
             {
              "frame": {
               "duration": 0,
               "redraw": true
              },
              "fromcurrent": true,
              "mode": "immediate",
              "transition": {
               "duration": 0,
               "easing": "linear"
              }
             }
            ],
            "label": "2023-12-03 20:00",
            "method": "animate"
           },
           {
            "args": [
             [
              "2023-12-03 21:00"
             ],
             {
              "frame": {
               "duration": 0,
               "redraw": true
              },
              "fromcurrent": true,
              "mode": "immediate",
              "transition": {
               "duration": 0,
               "easing": "linear"
              }
             }
            ],
            "label": "2023-12-03 21:00",
            "method": "animate"
           },
           {
            "args": [
             [
              "2023-12-03 22:00"
             ],
             {
              "frame": {
               "duration": 0,
               "redraw": true
              },
              "fromcurrent": true,
              "mode": "immediate",
              "transition": {
               "duration": 0,
               "easing": "linear"
              }
             }
            ],
            "label": "2023-12-03 22:00",
            "method": "animate"
           },
           {
            "args": [
             [
              "2023-12-03 23:00"
             ],
             {
              "frame": {
               "duration": 0,
               "redraw": true
              },
              "fromcurrent": true,
              "mode": "immediate",
              "transition": {
               "duration": 0,
               "easing": "linear"
              }
             }
            ],
            "label": "2023-12-03 23:00",
            "method": "animate"
           }
          ],
          "x": 0.1,
          "xanchor": "left",
          "y": 0,
          "yanchor": "top"
         }
        ],
        "template": {
         "data": {
          "bar": [
           {
            "error_x": {
             "color": "#2a3f5f"
            },
            "error_y": {
             "color": "#2a3f5f"
            },
            "marker": {
             "line": {
              "color": "#E5ECF6",
              "width": 0.5
             },
             "pattern": {
              "fillmode": "overlay",
              "size": 10,
              "solidity": 0.2
             }
            },
            "type": "bar"
           }
          ],
          "barpolar": [
           {
            "marker": {
             "line": {
              "color": "#E5ECF6",
              "width": 0.5
             },
             "pattern": {
              "fillmode": "overlay",
              "size": 10,
              "solidity": 0.2
             }
            },
            "type": "barpolar"
           }
          ],
          "carpet": [
           {
            "aaxis": {
             "endlinecolor": "#2a3f5f",
             "gridcolor": "white",
             "linecolor": "white",
             "minorgridcolor": "white",
             "startlinecolor": "#2a3f5f"
            },
            "baxis": {
             "endlinecolor": "#2a3f5f",
             "gridcolor": "white",
             "linecolor": "white",
             "minorgridcolor": "white",
             "startlinecolor": "#2a3f5f"
            },
            "type": "carpet"
           }
          ],
          "choropleth": [
           {
            "colorbar": {
             "outlinewidth": 0,
             "ticks": ""
            },
            "type": "choropleth"
           }
          ],
          "contour": [
           {
            "colorbar": {
             "outlinewidth": 0,
             "ticks": ""
            },
            "colorscale": [
             [
              0,
              "#0d0887"
             ],
             [
              0.1111111111111111,
              "#46039f"
             ],
             [
              0.2222222222222222,
              "#7201a8"
             ],
             [
              0.3333333333333333,
              "#9c179e"
             ],
             [
              0.4444444444444444,
              "#bd3786"
             ],
             [
              0.5555555555555556,
              "#d8576b"
             ],
             [
              0.6666666666666666,
              "#ed7953"
             ],
             [
              0.7777777777777778,
              "#fb9f3a"
             ],
             [
              0.8888888888888888,
              "#fdca26"
             ],
             [
              1,
              "#f0f921"
             ]
            ],
            "type": "contour"
           }
          ],
          "contourcarpet": [
           {
            "colorbar": {
             "outlinewidth": 0,
             "ticks": ""
            },
            "type": "contourcarpet"
           }
          ],
          "heatmap": [
           {
            "colorbar": {
             "outlinewidth": 0,
             "ticks": ""
            },
            "colorscale": [
             [
              0,
              "#0d0887"
             ],
             [
              0.1111111111111111,
              "#46039f"
             ],
             [
              0.2222222222222222,
              "#7201a8"
             ],
             [
              0.3333333333333333,
              "#9c179e"
             ],
             [
              0.4444444444444444,
              "#bd3786"
             ],
             [
              0.5555555555555556,
              "#d8576b"
             ],
             [
              0.6666666666666666,
              "#ed7953"
             ],
             [
              0.7777777777777778,
              "#fb9f3a"
             ],
             [
              0.8888888888888888,
              "#fdca26"
             ],
             [
              1,
              "#f0f921"
             ]
            ],
            "type": "heatmap"
           }
          ],
          "heatmapgl": [
           {
            "colorbar": {
             "outlinewidth": 0,
             "ticks": ""
            },
            "colorscale": [
             [
              0,
              "#0d0887"
             ],
             [
              0.1111111111111111,
              "#46039f"
             ],
             [
              0.2222222222222222,
              "#7201a8"
             ],
             [
              0.3333333333333333,
              "#9c179e"
             ],
             [
              0.4444444444444444,
              "#bd3786"
             ],
             [
              0.5555555555555556,
              "#d8576b"
             ],
             [
              0.6666666666666666,
              "#ed7953"
             ],
             [
              0.7777777777777778,
              "#fb9f3a"
             ],
             [
              0.8888888888888888,
              "#fdca26"
             ],
             [
              1,
              "#f0f921"
             ]
            ],
            "type": "heatmapgl"
           }
          ],
          "histogram": [
           {
            "marker": {
             "pattern": {
              "fillmode": "overlay",
              "size": 10,
              "solidity": 0.2
             }
            },
            "type": "histogram"
           }
          ],
          "histogram2d": [
           {
            "colorbar": {
             "outlinewidth": 0,
             "ticks": ""
            },
            "colorscale": [
             [
              0,
              "#0d0887"
             ],
             [
              0.1111111111111111,
              "#46039f"
             ],
             [
              0.2222222222222222,
              "#7201a8"
             ],
             [
              0.3333333333333333,
              "#9c179e"
             ],
             [
              0.4444444444444444,
              "#bd3786"
             ],
             [
              0.5555555555555556,
              "#d8576b"
             ],
             [
              0.6666666666666666,
              "#ed7953"
             ],
             [
              0.7777777777777778,
              "#fb9f3a"
             ],
             [
              0.8888888888888888,
              "#fdca26"
             ],
             [
              1,
              "#f0f921"
             ]
            ],
            "type": "histogram2d"
           }
          ],
          "histogram2dcontour": [
           {
            "colorbar": {
             "outlinewidth": 0,
             "ticks": ""
            },
            "colorscale": [
             [
              0,
              "#0d0887"
             ],
             [
              0.1111111111111111,
              "#46039f"
             ],
             [
              0.2222222222222222,
              "#7201a8"
             ],
             [
              0.3333333333333333,
              "#9c179e"
             ],
             [
              0.4444444444444444,
              "#bd3786"
             ],
             [
              0.5555555555555556,
              "#d8576b"
             ],
             [
              0.6666666666666666,
              "#ed7953"
             ],
             [
              0.7777777777777778,
              "#fb9f3a"
             ],
             [
              0.8888888888888888,
              "#fdca26"
             ],
             [
              1,
              "#f0f921"
             ]
            ],
            "type": "histogram2dcontour"
           }
          ],
          "mesh3d": [
           {
            "colorbar": {
             "outlinewidth": 0,
             "ticks": ""
            },
            "type": "mesh3d"
           }
          ],
          "parcoords": [
           {
            "line": {
             "colorbar": {
              "outlinewidth": 0,
              "ticks": ""
             }
            },
            "type": "parcoords"
           }
          ],
          "pie": [
           {
            "automargin": true,
            "type": "pie"
           }
          ],
          "scatter": [
           {
            "fillpattern": {
             "fillmode": "overlay",
             "size": 10,
             "solidity": 0.2
            },
            "type": "scatter"
           }
          ],
          "scatter3d": [
           {
            "line": {
             "colorbar": {
              "outlinewidth": 0,
              "ticks": ""
             }
            },
            "marker": {
             "colorbar": {
              "outlinewidth": 0,
              "ticks": ""
             }
            },
            "type": "scatter3d"
           }
          ],
          "scattercarpet": [
           {
            "marker": {
             "colorbar": {
              "outlinewidth": 0,
              "ticks": ""
             }
            },
            "type": "scattercarpet"
           }
          ],
          "scattergeo": [
           {
            "marker": {
             "colorbar": {
              "outlinewidth": 0,
              "ticks": ""
             }
            },
            "type": "scattergeo"
           }
          ],
          "scattergl": [
           {
            "marker": {
             "colorbar": {
              "outlinewidth": 0,
              "ticks": ""
             }
            },
            "type": "scattergl"
           }
          ],
          "scattermapbox": [
           {
            "marker": {
             "colorbar": {
              "outlinewidth": 0,
              "ticks": ""
             }
            },
            "type": "scattermapbox"
           }
          ],
          "scatterpolar": [
           {
            "marker": {
             "colorbar": {
              "outlinewidth": 0,
              "ticks": ""
             }
            },
            "type": "scatterpolar"
           }
          ],
          "scatterpolargl": [
           {
            "marker": {
             "colorbar": {
              "outlinewidth": 0,
              "ticks": ""
             }
            },
            "type": "scatterpolargl"
           }
          ],
          "scatterternary": [
           {
            "marker": {
             "colorbar": {
              "outlinewidth": 0,
              "ticks": ""
             }
            },
            "type": "scatterternary"
           }
          ],
          "surface": [
           {
            "colorbar": {
             "outlinewidth": 0,
             "ticks": ""
            },
            "colorscale": [
             [
              0,
              "#0d0887"
             ],
             [
              0.1111111111111111,
              "#46039f"
             ],
             [
              0.2222222222222222,
              "#7201a8"
             ],
             [
              0.3333333333333333,
              "#9c179e"
             ],
             [
              0.4444444444444444,
              "#bd3786"
             ],
             [
              0.5555555555555556,
              "#d8576b"
             ],
             [
              0.6666666666666666,
              "#ed7953"
             ],
             [
              0.7777777777777778,
              "#fb9f3a"
             ],
             [
              0.8888888888888888,
              "#fdca26"
             ],
             [
              1,
              "#f0f921"
             ]
            ],
            "type": "surface"
           }
          ],
          "table": [
           {
            "cells": {
             "fill": {
              "color": "#EBF0F8"
             },
             "line": {
              "color": "white"
             }
            },
            "header": {
             "fill": {
              "color": "#C8D4E3"
             },
             "line": {
              "color": "white"
             }
            },
            "type": "table"
           }
          ]
         },
         "layout": {
          "annotationdefaults": {
           "arrowcolor": "#2a3f5f",
           "arrowhead": 0,
           "arrowwidth": 1
          },
          "autotypenumbers": "strict",
          "coloraxis": {
           "colorbar": {
            "outlinewidth": 0,
            "ticks": ""
           }
          },
          "colorscale": {
           "diverging": [
            [
             0,
             "#8e0152"
            ],
            [
             0.1,
             "#c51b7d"
            ],
            [
             0.2,
             "#de77ae"
            ],
            [
             0.3,
             "#f1b6da"
            ],
            [
             0.4,
             "#fde0ef"
            ],
            [
             0.5,
             "#f7f7f7"
            ],
            [
             0.6,
             "#e6f5d0"
            ],
            [
             0.7,
             "#b8e186"
            ],
            [
             0.8,
             "#7fbc41"
            ],
            [
             0.9,
             "#4d9221"
            ],
            [
             1,
             "#276419"
            ]
           ],
           "sequential": [
            [
             0,
             "#0d0887"
            ],
            [
             0.1111111111111111,
             "#46039f"
            ],
            [
             0.2222222222222222,
             "#7201a8"
            ],
            [
             0.3333333333333333,
             "#9c179e"
            ],
            [
             0.4444444444444444,
             "#bd3786"
            ],
            [
             0.5555555555555556,
             "#d8576b"
            ],
            [
             0.6666666666666666,
             "#ed7953"
            ],
            [
             0.7777777777777778,
             "#fb9f3a"
            ],
            [
             0.8888888888888888,
             "#fdca26"
            ],
            [
             1,
             "#f0f921"
            ]
           ],
           "sequentialminus": [
            [
             0,
             "#0d0887"
            ],
            [
             0.1111111111111111,
             "#46039f"
            ],
            [
             0.2222222222222222,
             "#7201a8"
            ],
            [
             0.3333333333333333,
             "#9c179e"
            ],
            [
             0.4444444444444444,
             "#bd3786"
            ],
            [
             0.5555555555555556,
             "#d8576b"
            ],
            [
             0.6666666666666666,
             "#ed7953"
            ],
            [
             0.7777777777777778,
             "#fb9f3a"
            ],
            [
             0.8888888888888888,
             "#fdca26"
            ],
            [
             1,
             "#f0f921"
            ]
           ]
          },
          "colorway": [
           "#636efa",
           "#EF553B",
           "#00cc96",
           "#ab63fa",
           "#FFA15A",
           "#19d3f3",
           "#FF6692",
           "#B6E880",
           "#FF97FF",
           "#FECB52"
          ],
          "font": {
           "color": "#2a3f5f"
          },
          "geo": {
           "bgcolor": "white",
           "lakecolor": "white",
           "landcolor": "#E5ECF6",
           "showlakes": true,
           "showland": true,
           "subunitcolor": "white"
          },
          "hoverlabel": {
           "align": "left"
          },
          "hovermode": "closest",
          "mapbox": {
           "style": "light"
          },
          "paper_bgcolor": "white",
          "plot_bgcolor": "#E5ECF6",
          "polar": {
           "angularaxis": {
            "gridcolor": "white",
            "linecolor": "white",
            "ticks": ""
           },
           "bgcolor": "#E5ECF6",
           "radialaxis": {
            "gridcolor": "white",
            "linecolor": "white",
            "ticks": ""
           }
          },
          "scene": {
           "xaxis": {
            "backgroundcolor": "#E5ECF6",
            "gridcolor": "white",
            "gridwidth": 2,
            "linecolor": "white",
            "showbackground": true,
            "ticks": "",
            "zerolinecolor": "white"
           },
           "yaxis": {
            "backgroundcolor": "#E5ECF6",
            "gridcolor": "white",
            "gridwidth": 2,
            "linecolor": "white",
            "showbackground": true,
            "ticks": "",
            "zerolinecolor": "white"
           },
           "zaxis": {
            "backgroundcolor": "#E5ECF6",
            "gridcolor": "white",
            "gridwidth": 2,
            "linecolor": "white",
            "showbackground": true,
            "ticks": "",
            "zerolinecolor": "white"
           }
          },
          "shapedefaults": {
           "line": {
            "color": "#2a3f5f"
           }
          },
          "ternary": {
           "aaxis": {
            "gridcolor": "white",
            "linecolor": "white",
            "ticks": ""
           },
           "baxis": {
            "gridcolor": "white",
            "linecolor": "white",
            "ticks": ""
           },
           "bgcolor": "#E5ECF6",
           "caxis": {
            "gridcolor": "white",
            "linecolor": "white",
            "ticks": ""
           }
          },
          "title": {
           "x": 0.05
          },
          "xaxis": {
           "automargin": true,
           "gridcolor": "white",
           "linecolor": "white",
           "ticks": "",
           "title": {
            "standoff": 15
           },
           "zerolinecolor": "white",
           "zerolinewidth": 2
          },
          "yaxis": {
           "automargin": true,
           "gridcolor": "white",
           "linecolor": "white",
           "ticks": "",
           "title": {
            "standoff": 15
           },
           "zerolinecolor": "white",
           "zerolinewidth": 2
          }
         }
        },
        "title": {
         "text": "Temperature in Boston,London"
        },
        "updatemenus": [
         {
          "buttons": [
           {
            "args": [
             null,
             {
              "frame": {
               "duration": 500,
               "redraw": true
              },
              "fromcurrent": true,
              "mode": "immediate",
              "transition": {
               "duration": 500,
               "easing": "linear"
              }
             }
            ],
            "label": "&#9654;",
            "method": "animate"
           },
           {
            "args": [
             [
              null
             ],
             {
              "frame": {
               "duration": 0,
               "redraw": true
              },
              "fromcurrent": true,
              "mode": "immediate",
              "transition": {
               "duration": 0,
               "easing": "linear"
              }
             }
            ],
            "label": "&#9724;",
            "method": "animate"
           }
          ],
          "direction": "left",
          "pad": {
           "r": 10,
           "t": 70
          },
          "showactive": false,
          "type": "buttons",
          "x": 0.1,
          "xanchor": "right",
          "y": 0,
          "yanchor": "top"
         }
        ]
       }
      }
     },
     "metadata": {},
     "output_type": "display_data"
    }
   ],
   "source": [
    "px.scatter_geo(unnested_df, \n",
    "               lat=\"lat\", \n",
    "               lon=\"lon\", \n",
    "               color=\"temp_c\", \n",
    "               hover_data=[\"time\",\"temp_c\",\"windchill_c\"], \n",
    "               animation_frame=\"time\",\n",
    "               title=\"Temperature in Boston,London\",\n",
    "               )\n"
   ]
  },
  {
   "cell_type": "code",
   "execution_count": 9,
   "metadata": {},
   "outputs": [
    {
     "data": {
      "application/vnd.plotly.v1+json": {
       "config": {
        "plotlyServerURL": "https://plot.ly"
       },
       "data": [
        {
         "customdata": [
          [
           "United Kingdom",
           "Lincolnshire",
           -2.9
          ],
          [
           "United Kingdom",
           "Lincolnshire",
           -2.5
          ],
          [
           "United Kingdom",
           "Lincolnshire",
           -2.2
          ],
          [
           "United Kingdom",
           "Lincolnshire",
           -2.4
          ],
          [
           "United Kingdom",
           "Lincolnshire",
           -2.5
          ],
          [
           "United Kingdom",
           "Lincolnshire",
           -2.5
          ],
          [
           "United Kingdom",
           "Lincolnshire",
           -2.2
          ],
          [
           "United Kingdom",
           "Lincolnshire",
           -1.5
          ],
          [
           "United Kingdom",
           "Lincolnshire",
           -0.9
          ],
          [
           "United Kingdom",
           "Lincolnshire",
           -0.8
          ],
          [
           "United Kingdom",
           "Lincolnshire",
           0.3
          ],
          [
           "United Kingdom",
           "Lincolnshire",
           1.1
          ],
          [
           "United Kingdom",
           "Lincolnshire",
           1.5
          ],
          [
           "United Kingdom",
           "Lincolnshire",
           1.3
          ],
          [
           "United Kingdom",
           "Lincolnshire",
           1
          ],
          [
           "United Kingdom",
           "Lincolnshire",
           0.3
          ],
          [
           "United Kingdom",
           "Lincolnshire",
           -0.7
          ],
          [
           "United Kingdom",
           "Lincolnshire",
           -1
          ],
          [
           "United Kingdom",
           "Lincolnshire",
           -1.3
          ],
          [
           "United Kingdom",
           "Lincolnshire",
           -1.3
          ],
          [
           "United Kingdom",
           "Lincolnshire",
           -1.4
          ],
          [
           "United Kingdom",
           "Lincolnshire",
           -1.6
          ],
          [
           "United Kingdom",
           "Lincolnshire",
           -1.8
          ],
          [
           "United Kingdom",
           "Lincolnshire",
           -2.3
          ],
          [
           "United Kingdom",
           "Lincolnshire",
           -2.5
          ],
          [
           "United Kingdom",
           "Lincolnshire",
           -2.8
          ],
          [
           "United Kingdom",
           "Lincolnshire",
           -2.8
          ],
          [
           "United Kingdom",
           "Lincolnshire",
           -2.9
          ],
          [
           "United Kingdom",
           "Lincolnshire",
           -2.9
          ],
          [
           "United Kingdom",
           "Lincolnshire",
           -2.9
          ],
          [
           "United Kingdom",
           "Lincolnshire",
           -2.7
          ],
          [
           "United Kingdom",
           "Lincolnshire",
           -2.5
          ],
          [
           "United Kingdom",
           "Lincolnshire",
           -2.5
          ],
          [
           "United Kingdom",
           "Lincolnshire",
           -2.4
          ],
          [
           "United Kingdom",
           "Lincolnshire",
           -1.1
          ],
          [
           "United Kingdom",
           "Lincolnshire",
           -0.4
          ],
          [
           "United Kingdom",
           "Lincolnshire",
           0.2
          ],
          [
           "United Kingdom",
           "Lincolnshire",
           0.3
          ],
          [
           "United Kingdom",
           "Lincolnshire",
           0
          ],
          [
           "United Kingdom",
           "Lincolnshire",
           -1.5
          ],
          [
           "United Kingdom",
           "Lincolnshire",
           -2.5
          ],
          [
           "United Kingdom",
           "Lincolnshire",
           -3
          ],
          [
           "United Kingdom",
           "Lincolnshire",
           -3.6
          ],
          [
           "United Kingdom",
           "Lincolnshire",
           -4
          ],
          [
           "United Kingdom",
           "Lincolnshire",
           -4.3
          ],
          [
           "United Kingdom",
           "Lincolnshire",
           -4.6
          ],
          [
           "United Kingdom",
           "Lincolnshire",
           -4.6
          ],
          [
           "United Kingdom",
           "Lincolnshire",
           -5.1
          ],
          [
           "United Kingdom",
           "Lincolnshire",
           -5.5
          ],
          [
           "United Kingdom",
           "Lincolnshire",
           -5.4
          ],
          [
           "United Kingdom",
           "Lincolnshire",
           -5
          ],
          [
           "United Kingdom",
           "Lincolnshire",
           -3.8
          ],
          [
           "United Kingdom",
           "Lincolnshire",
           -3.4
          ],
          [
           "United Kingdom",
           "Lincolnshire",
           -3.3
          ],
          [
           "United Kingdom",
           "Lincolnshire",
           -2.8
          ],
          [
           "United Kingdom",
           "Lincolnshire",
           -3.4
          ],
          [
           "United Kingdom",
           "Lincolnshire",
           -3.7
          ],
          [
           "United Kingdom",
           "Lincolnshire",
           -3.9
          ],
          [
           "United Kingdom",
           "Lincolnshire",
           -3.3
          ],
          [
           "United Kingdom",
           "Lincolnshire",
           -2.3
          ],
          [
           "United Kingdom",
           "Lincolnshire",
           -1.4
          ],
          [
           "United Kingdom",
           "Lincolnshire",
           -0.2
          ],
          [
           "United Kingdom",
           "Lincolnshire",
           0.8
          ],
          [
           "United Kingdom",
           "Lincolnshire",
           2
          ],
          [
           "United Kingdom",
           "Lincolnshire",
           1.6
          ],
          [
           "United Kingdom",
           "Lincolnshire",
           0.7
          ],
          [
           "United Kingdom",
           "Lincolnshire",
           -0.4
          ],
          [
           "United Kingdom",
           "Lincolnshire",
           -0.7
          ],
          [
           "United Kingdom",
           "Lincolnshire",
           -0.4
          ],
          [
           "United Kingdom",
           "Lincolnshire",
           -0.3
          ],
          [
           "United Kingdom",
           "Lincolnshire",
           0.3
          ],
          [
           "United Kingdom",
           "Lincolnshire",
           0.7
          ]
         ],
         "hovertemplate": "<b>%{hovertext}</b><br><br>time=%{x}<br>temp_c=%{y}<br>country=%{customdata[0]}<br>region=%{customdata[1]}<br>windchill_c=%{marker.color}<extra></extra>",
         "hovertext": [
          "Boston",
          "Boston",
          "Boston",
          "Boston",
          "Boston",
          "Boston",
          "Boston",
          "Boston",
          "Boston",
          "Boston",
          "Boston",
          "Boston",
          "Boston",
          "Boston",
          "Boston",
          "Boston",
          "Boston",
          "Boston",
          "Boston",
          "Boston",
          "Boston",
          "Boston",
          "Boston",
          "Boston",
          "Boston",
          "Boston",
          "Boston",
          "Boston",
          "Boston",
          "Boston",
          "Boston",
          "Boston",
          "Boston",
          "Boston",
          "Boston",
          "Boston",
          "Boston",
          "Boston",
          "Boston",
          "Boston",
          "Boston",
          "Boston",
          "Boston",
          "Boston",
          "Boston",
          "Boston",
          "Boston",
          "Boston",
          "Boston",
          "Boston",
          "Boston",
          "Boston",
          "Boston",
          "Boston",
          "Boston",
          "Boston",
          "Boston",
          "Boston",
          "Boston",
          "Boston",
          "Boston",
          "Boston",
          "Boston",
          "Boston",
          "Boston",
          "Boston",
          "Boston",
          "Boston",
          "Boston",
          "Boston",
          "Boston",
          "Boston"
         ],
         "legendgroup": "",
         "marker": {
          "color": [
           -2.9,
           -2.5,
           -2.2,
           -2.4,
           -2.5,
           -2.5,
           -2.2,
           -1.5,
           -0.9,
           -0.8,
           0.3,
           1.1,
           1.5,
           1.3,
           1,
           0.3,
           -0.7,
           -1,
           -1.3,
           -1.3,
           -1.4,
           -1.6,
           -1.8,
           -2.3,
           -2.5,
           -2.8,
           -2.8,
           -2.9,
           -2.9,
           -2.9,
           -2.7,
           -2.5,
           -2.5,
           -2.4,
           -1.1,
           -0.4,
           0.2,
           0.3,
           0,
           -1.5,
           -2.5,
           -3,
           -3.6,
           -4,
           -4.3,
           -4.6,
           -4.6,
           -5.1,
           -5.5,
           -5.4,
           -5,
           -3.8,
           -3.4,
           -3.3,
           -2.8,
           -3.4,
           -3.7,
           -3.9,
           -3.3,
           -2.3,
           -1.4,
           -0.2,
           0.8,
           2,
           1.6,
           0.7,
           -0.4,
           -0.7,
           -0.4,
           -0.3,
           0.3,
           0.7
          ],
          "coloraxis": "coloraxis",
          "symbol": "circle"
         },
         "mode": "markers",
         "name": "",
         "orientation": "v",
         "showlegend": false,
         "type": "scatter",
         "x": [
          "2023-12-01 00:00",
          "2023-12-01 01:00",
          "2023-12-01 02:00",
          "2023-12-01 03:00",
          "2023-12-01 04:00",
          "2023-12-01 05:00",
          "2023-12-01 06:00",
          "2023-12-01 07:00",
          "2023-12-01 08:00",
          "2023-12-01 09:00",
          "2023-12-01 10:00",
          "2023-12-01 11:00",
          "2023-12-01 12:00",
          "2023-12-01 13:00",
          "2023-12-01 14:00",
          "2023-12-01 15:00",
          "2023-12-01 16:00",
          "2023-12-01 17:00",
          "2023-12-01 18:00",
          "2023-12-01 19:00",
          "2023-12-01 20:00",
          "2023-12-01 21:00",
          "2023-12-01 22:00",
          "2023-12-01 23:00",
          "2023-12-02 00:00",
          "2023-12-02 01:00",
          "2023-12-02 02:00",
          "2023-12-02 03:00",
          "2023-12-02 04:00",
          "2023-12-02 05:00",
          "2023-12-02 06:00",
          "2023-12-02 07:00",
          "2023-12-02 08:00",
          "2023-12-02 09:00",
          "2023-12-02 10:00",
          "2023-12-02 11:00",
          "2023-12-02 12:00",
          "2023-12-02 13:00",
          "2023-12-02 14:00",
          "2023-12-02 15:00",
          "2023-12-02 16:00",
          "2023-12-02 17:00",
          "2023-12-02 18:00",
          "2023-12-02 19:00",
          "2023-12-02 20:00",
          "2023-12-02 21:00",
          "2023-12-02 22:00",
          "2023-12-02 23:00",
          "2023-12-03 00:00",
          "2023-12-03 01:00",
          "2023-12-03 02:00",
          "2023-12-03 03:00",
          "2023-12-03 04:00",
          "2023-12-03 05:00",
          "2023-12-03 06:00",
          "2023-12-03 07:00",
          "2023-12-03 08:00",
          "2023-12-03 09:00",
          "2023-12-03 10:00",
          "2023-12-03 11:00",
          "2023-12-03 12:00",
          "2023-12-03 13:00",
          "2023-12-03 14:00",
          "2023-12-03 15:00",
          "2023-12-03 16:00",
          "2023-12-03 17:00",
          "2023-12-03 18:00",
          "2023-12-03 19:00",
          "2023-12-03 20:00",
          "2023-12-03 21:00",
          "2023-12-03 22:00",
          "2023-12-03 23:00"
         ],
         "xaxis": "x",
         "y": [
          0.5,
          0.7,
          1,
          0.8,
          0.6,
          0.7,
          0.9,
          1.3,
          1.9,
          1.7,
          2.6,
          3.7,
          4.3,
          4.2,
          3.8,
          2.7,
          1.8,
          1.6,
          1.4,
          1.3,
          1.2,
          1.1,
          0.8,
          -1,
          0.4,
          0.3,
          0.3,
          0.3,
          0.2,
          0.2,
          0.1,
          0.1,
          0,
          0.3,
          1.2,
          2.1,
          2.7,
          3,
          2.6,
          1.5,
          0.8,
          0.5,
          0.2,
          -0.1,
          -0.2,
          -0.4,
          -0.3,
          -0.7,
          -1,
          -0.9,
          -0.5,
          0.4,
          1.1,
          1.5,
          2,
          1.9,
          1.7,
          1.7,
          1.8,
          2.3,
          2.7,
          3,
          3.2,
          3.4,
          3.3,
          3.1,
          2.7,
          2.2,
          1.9,
          2,
          1.7,
          1.6
         ],
         "yaxis": "y"
        }
       ],
       "layout": {
        "coloraxis": {
         "colorbar": {
          "title": {
           "text": "windchill_c"
          }
         },
         "colorscale": [
          [
           0,
           "#0d0887"
          ],
          [
           0.1111111111111111,
           "#46039f"
          ],
          [
           0.2222222222222222,
           "#7201a8"
          ],
          [
           0.3333333333333333,
           "#9c179e"
          ],
          [
           0.4444444444444444,
           "#bd3786"
          ],
          [
           0.5555555555555556,
           "#d8576b"
          ],
          [
           0.6666666666666666,
           "#ed7953"
          ],
          [
           0.7777777777777778,
           "#fb9f3a"
          ],
          [
           0.8888888888888888,
           "#fdca26"
          ],
          [
           1,
           "#f0f921"
          ]
         ]
        },
        "legend": {
         "tracegroupgap": 0
        },
        "template": {
         "data": {
          "bar": [
           {
            "error_x": {
             "color": "#2a3f5f"
            },
            "error_y": {
             "color": "#2a3f5f"
            },
            "marker": {
             "line": {
              "color": "#E5ECF6",
              "width": 0.5
             },
             "pattern": {
              "fillmode": "overlay",
              "size": 10,
              "solidity": 0.2
             }
            },
            "type": "bar"
           }
          ],
          "barpolar": [
           {
            "marker": {
             "line": {
              "color": "#E5ECF6",
              "width": 0.5
             },
             "pattern": {
              "fillmode": "overlay",
              "size": 10,
              "solidity": 0.2
             }
            },
            "type": "barpolar"
           }
          ],
          "carpet": [
           {
            "aaxis": {
             "endlinecolor": "#2a3f5f",
             "gridcolor": "white",
             "linecolor": "white",
             "minorgridcolor": "white",
             "startlinecolor": "#2a3f5f"
            },
            "baxis": {
             "endlinecolor": "#2a3f5f",
             "gridcolor": "white",
             "linecolor": "white",
             "minorgridcolor": "white",
             "startlinecolor": "#2a3f5f"
            },
            "type": "carpet"
           }
          ],
          "choropleth": [
           {
            "colorbar": {
             "outlinewidth": 0,
             "ticks": ""
            },
            "type": "choropleth"
           }
          ],
          "contour": [
           {
            "colorbar": {
             "outlinewidth": 0,
             "ticks": ""
            },
            "colorscale": [
             [
              0,
              "#0d0887"
             ],
             [
              0.1111111111111111,
              "#46039f"
             ],
             [
              0.2222222222222222,
              "#7201a8"
             ],
             [
              0.3333333333333333,
              "#9c179e"
             ],
             [
              0.4444444444444444,
              "#bd3786"
             ],
             [
              0.5555555555555556,
              "#d8576b"
             ],
             [
              0.6666666666666666,
              "#ed7953"
             ],
             [
              0.7777777777777778,
              "#fb9f3a"
             ],
             [
              0.8888888888888888,
              "#fdca26"
             ],
             [
              1,
              "#f0f921"
             ]
            ],
            "type": "contour"
           }
          ],
          "contourcarpet": [
           {
            "colorbar": {
             "outlinewidth": 0,
             "ticks": ""
            },
            "type": "contourcarpet"
           }
          ],
          "heatmap": [
           {
            "colorbar": {
             "outlinewidth": 0,
             "ticks": ""
            },
            "colorscale": [
             [
              0,
              "#0d0887"
             ],
             [
              0.1111111111111111,
              "#46039f"
             ],
             [
              0.2222222222222222,
              "#7201a8"
             ],
             [
              0.3333333333333333,
              "#9c179e"
             ],
             [
              0.4444444444444444,
              "#bd3786"
             ],
             [
              0.5555555555555556,
              "#d8576b"
             ],
             [
              0.6666666666666666,
              "#ed7953"
             ],
             [
              0.7777777777777778,
              "#fb9f3a"
             ],
             [
              0.8888888888888888,
              "#fdca26"
             ],
             [
              1,
              "#f0f921"
             ]
            ],
            "type": "heatmap"
           }
          ],
          "heatmapgl": [
           {
            "colorbar": {
             "outlinewidth": 0,
             "ticks": ""
            },
            "colorscale": [
             [
              0,
              "#0d0887"
             ],
             [
              0.1111111111111111,
              "#46039f"
             ],
             [
              0.2222222222222222,
              "#7201a8"
             ],
             [
              0.3333333333333333,
              "#9c179e"
             ],
             [
              0.4444444444444444,
              "#bd3786"
             ],
             [
              0.5555555555555556,
              "#d8576b"
             ],
             [
              0.6666666666666666,
              "#ed7953"
             ],
             [
              0.7777777777777778,
              "#fb9f3a"
             ],
             [
              0.8888888888888888,
              "#fdca26"
             ],
             [
              1,
              "#f0f921"
             ]
            ],
            "type": "heatmapgl"
           }
          ],
          "histogram": [
           {
            "marker": {
             "pattern": {
              "fillmode": "overlay",
              "size": 10,
              "solidity": 0.2
             }
            },
            "type": "histogram"
           }
          ],
          "histogram2d": [
           {
            "colorbar": {
             "outlinewidth": 0,
             "ticks": ""
            },
            "colorscale": [
             [
              0,
              "#0d0887"
             ],
             [
              0.1111111111111111,
              "#46039f"
             ],
             [
              0.2222222222222222,
              "#7201a8"
             ],
             [
              0.3333333333333333,
              "#9c179e"
             ],
             [
              0.4444444444444444,
              "#bd3786"
             ],
             [
              0.5555555555555556,
              "#d8576b"
             ],
             [
              0.6666666666666666,
              "#ed7953"
             ],
             [
              0.7777777777777778,
              "#fb9f3a"
             ],
             [
              0.8888888888888888,
              "#fdca26"
             ],
             [
              1,
              "#f0f921"
             ]
            ],
            "type": "histogram2d"
           }
          ],
          "histogram2dcontour": [
           {
            "colorbar": {
             "outlinewidth": 0,
             "ticks": ""
            },
            "colorscale": [
             [
              0,
              "#0d0887"
             ],
             [
              0.1111111111111111,
              "#46039f"
             ],
             [
              0.2222222222222222,
              "#7201a8"
             ],
             [
              0.3333333333333333,
              "#9c179e"
             ],
             [
              0.4444444444444444,
              "#bd3786"
             ],
             [
              0.5555555555555556,
              "#d8576b"
             ],
             [
              0.6666666666666666,
              "#ed7953"
             ],
             [
              0.7777777777777778,
              "#fb9f3a"
             ],
             [
              0.8888888888888888,
              "#fdca26"
             ],
             [
              1,
              "#f0f921"
             ]
            ],
            "type": "histogram2dcontour"
           }
          ],
          "mesh3d": [
           {
            "colorbar": {
             "outlinewidth": 0,
             "ticks": ""
            },
            "type": "mesh3d"
           }
          ],
          "parcoords": [
           {
            "line": {
             "colorbar": {
              "outlinewidth": 0,
              "ticks": ""
             }
            },
            "type": "parcoords"
           }
          ],
          "pie": [
           {
            "automargin": true,
            "type": "pie"
           }
          ],
          "scatter": [
           {
            "fillpattern": {
             "fillmode": "overlay",
             "size": 10,
             "solidity": 0.2
            },
            "type": "scatter"
           }
          ],
          "scatter3d": [
           {
            "line": {
             "colorbar": {
              "outlinewidth": 0,
              "ticks": ""
             }
            },
            "marker": {
             "colorbar": {
              "outlinewidth": 0,
              "ticks": ""
             }
            },
            "type": "scatter3d"
           }
          ],
          "scattercarpet": [
           {
            "marker": {
             "colorbar": {
              "outlinewidth": 0,
              "ticks": ""
             }
            },
            "type": "scattercarpet"
           }
          ],
          "scattergeo": [
           {
            "marker": {
             "colorbar": {
              "outlinewidth": 0,
              "ticks": ""
             }
            },
            "type": "scattergeo"
           }
          ],
          "scattergl": [
           {
            "marker": {
             "colorbar": {
              "outlinewidth": 0,
              "ticks": ""
             }
            },
            "type": "scattergl"
           }
          ],
          "scattermapbox": [
           {
            "marker": {
             "colorbar": {
              "outlinewidth": 0,
              "ticks": ""
             }
            },
            "type": "scattermapbox"
           }
          ],
          "scatterpolar": [
           {
            "marker": {
             "colorbar": {
              "outlinewidth": 0,
              "ticks": ""
             }
            },
            "type": "scatterpolar"
           }
          ],
          "scatterpolargl": [
           {
            "marker": {
             "colorbar": {
              "outlinewidth": 0,
              "ticks": ""
             }
            },
            "type": "scatterpolargl"
           }
          ],
          "scatterternary": [
           {
            "marker": {
             "colorbar": {
              "outlinewidth": 0,
              "ticks": ""
             }
            },
            "type": "scatterternary"
           }
          ],
          "surface": [
           {
            "colorbar": {
             "outlinewidth": 0,
             "ticks": ""
            },
            "colorscale": [
             [
              0,
              "#0d0887"
             ],
             [
              0.1111111111111111,
              "#46039f"
             ],
             [
              0.2222222222222222,
              "#7201a8"
             ],
             [
              0.3333333333333333,
              "#9c179e"
             ],
             [
              0.4444444444444444,
              "#bd3786"
             ],
             [
              0.5555555555555556,
              "#d8576b"
             ],
             [
              0.6666666666666666,
              "#ed7953"
             ],
             [
              0.7777777777777778,
              "#fb9f3a"
             ],
             [
              0.8888888888888888,
              "#fdca26"
             ],
             [
              1,
              "#f0f921"
             ]
            ],
            "type": "surface"
           }
          ],
          "table": [
           {
            "cells": {
             "fill": {
              "color": "#EBF0F8"
             },
             "line": {
              "color": "white"
             }
            },
            "header": {
             "fill": {
              "color": "#C8D4E3"
             },
             "line": {
              "color": "white"
             }
            },
            "type": "table"
           }
          ]
         },
         "layout": {
          "annotationdefaults": {
           "arrowcolor": "#2a3f5f",
           "arrowhead": 0,
           "arrowwidth": 1
          },
          "autotypenumbers": "strict",
          "coloraxis": {
           "colorbar": {
            "outlinewidth": 0,
            "ticks": ""
           }
          },
          "colorscale": {
           "diverging": [
            [
             0,
             "#8e0152"
            ],
            [
             0.1,
             "#c51b7d"
            ],
            [
             0.2,
             "#de77ae"
            ],
            [
             0.3,
             "#f1b6da"
            ],
            [
             0.4,
             "#fde0ef"
            ],
            [
             0.5,
             "#f7f7f7"
            ],
            [
             0.6,
             "#e6f5d0"
            ],
            [
             0.7,
             "#b8e186"
            ],
            [
             0.8,
             "#7fbc41"
            ],
            [
             0.9,
             "#4d9221"
            ],
            [
             1,
             "#276419"
            ]
           ],
           "sequential": [
            [
             0,
             "#0d0887"
            ],
            [
             0.1111111111111111,
             "#46039f"
            ],
            [
             0.2222222222222222,
             "#7201a8"
            ],
            [
             0.3333333333333333,
             "#9c179e"
            ],
            [
             0.4444444444444444,
             "#bd3786"
            ],
            [
             0.5555555555555556,
             "#d8576b"
            ],
            [
             0.6666666666666666,
             "#ed7953"
            ],
            [
             0.7777777777777778,
             "#fb9f3a"
            ],
            [
             0.8888888888888888,
             "#fdca26"
            ],
            [
             1,
             "#f0f921"
            ]
           ],
           "sequentialminus": [
            [
             0,
             "#0d0887"
            ],
            [
             0.1111111111111111,
             "#46039f"
            ],
            [
             0.2222222222222222,
             "#7201a8"
            ],
            [
             0.3333333333333333,
             "#9c179e"
            ],
            [
             0.4444444444444444,
             "#bd3786"
            ],
            [
             0.5555555555555556,
             "#d8576b"
            ],
            [
             0.6666666666666666,
             "#ed7953"
            ],
            [
             0.7777777777777778,
             "#fb9f3a"
            ],
            [
             0.8888888888888888,
             "#fdca26"
            ],
            [
             1,
             "#f0f921"
            ]
           ]
          },
          "colorway": [
           "#636efa",
           "#EF553B",
           "#00cc96",
           "#ab63fa",
           "#FFA15A",
           "#19d3f3",
           "#FF6692",
           "#B6E880",
           "#FF97FF",
           "#FECB52"
          ],
          "font": {
           "color": "#2a3f5f"
          },
          "geo": {
           "bgcolor": "white",
           "lakecolor": "white",
           "landcolor": "#E5ECF6",
           "showlakes": true,
           "showland": true,
           "subunitcolor": "white"
          },
          "hoverlabel": {
           "align": "left"
          },
          "hovermode": "closest",
          "mapbox": {
           "style": "light"
          },
          "paper_bgcolor": "white",
          "plot_bgcolor": "#E5ECF6",
          "polar": {
           "angularaxis": {
            "gridcolor": "white",
            "linecolor": "white",
            "ticks": ""
           },
           "bgcolor": "#E5ECF6",
           "radialaxis": {
            "gridcolor": "white",
            "linecolor": "white",
            "ticks": ""
           }
          },
          "scene": {
           "xaxis": {
            "backgroundcolor": "#E5ECF6",
            "gridcolor": "white",
            "gridwidth": 2,
            "linecolor": "white",
            "showbackground": true,
            "ticks": "",
            "zerolinecolor": "white"
           },
           "yaxis": {
            "backgroundcolor": "#E5ECF6",
            "gridcolor": "white",
            "gridwidth": 2,
            "linecolor": "white",
            "showbackground": true,
            "ticks": "",
            "zerolinecolor": "white"
           },
           "zaxis": {
            "backgroundcolor": "#E5ECF6",
            "gridcolor": "white",
            "gridwidth": 2,
            "linecolor": "white",
            "showbackground": true,
            "ticks": "",
            "zerolinecolor": "white"
           }
          },
          "shapedefaults": {
           "line": {
            "color": "#2a3f5f"
           }
          },
          "ternary": {
           "aaxis": {
            "gridcolor": "white",
            "linecolor": "white",
            "ticks": ""
           },
           "baxis": {
            "gridcolor": "white",
            "linecolor": "white",
            "ticks": ""
           },
           "bgcolor": "#E5ECF6",
           "caxis": {
            "gridcolor": "white",
            "linecolor": "white",
            "ticks": ""
           }
          },
          "title": {
           "x": 0.05
          },
          "xaxis": {
           "automargin": true,
           "gridcolor": "white",
           "linecolor": "white",
           "ticks": "",
           "title": {
            "standoff": 15
           },
           "zerolinecolor": "white",
           "zerolinewidth": 2
          },
          "yaxis": {
           "automargin": true,
           "gridcolor": "white",
           "linecolor": "white",
           "ticks": "",
           "title": {
            "standoff": 15
           },
           "zerolinecolor": "white",
           "zerolinewidth": 2
          }
         }
        },
        "title": {
         "text": "Temperature vs Windchill forecast"
        },
        "xaxis": {
         "anchor": "y",
         "domain": [
          0,
          1
         ],
         "title": {
          "text": "time"
         }
        },
        "yaxis": {
         "anchor": "x",
         "domain": [
          0,
          1
         ],
         "title": {
          "text": "temp_c"
         }
        }
       }
      }
     },
     "metadata": {},
     "output_type": "display_data"
    }
   ],
   "source": [
    "fig = px.scatter(unnested_df,\n",
    "           x=\"time\",\n",
    "           y=\"temp_c\",\n",
    "           color=\"windchill_c\",\n",
    "           hover_name=\"name\",\n",
    "           hover_data=[\"country\",\"region\",\"time\",\"temp_c\",\"windchill_c\"],\n",
    "           title=\"Temperature vs Windchill forecast\")\n",
    "\n",
    "fig.show()"
   ]
  },
  {
   "cell_type": "code",
   "execution_count": null,
   "metadata": {},
   "outputs": [],
   "source": []
  }
 ],
 "metadata": {
  "kernelspec": {
   "display_name": "sqlm",
   "language": "python",
   "name": "python3"
  },
  "language_info": {
   "codemirror_mode": {
    "name": "ipython",
    "version": 3
   },
   "file_extension": ".py",
   "mimetype": "text/x-python",
   "name": "python",
   "nbconvert_exporter": "python",
   "pygments_lexer": "ipython3",
   "version": "3.10.0"
  }
 },
 "nbformat": 4,
 "nbformat_minor": 2
}
